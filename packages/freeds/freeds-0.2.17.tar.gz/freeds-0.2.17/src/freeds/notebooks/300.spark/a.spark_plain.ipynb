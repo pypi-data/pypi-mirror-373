{
 "cells": [
  {
   "cell_type": "markdown",
   "id": "0",
   "metadata": {},
   "source": [
    "Self check template. (this cell can and should be removed in selfcheck ntoebooks )\n"
   ]
  },
  {
   "cell_type": "code",
   "execution_count": null,
   "id": "1",
   "metadata": {},
   "outputs": [],
   "source": [
    "# edit the strings to describe the check\n",
    "result = {\n",
    "    \"area\": \"spark\",\n",
    "    \"description\": \"Check that spark can run and print on the cluster.\",\n",
    "    \"passed\": False,\n",
    "    \"message\": \"\",\n",
    "    \"plugin\": \"spark\",\n",
    "}"
   ]
  },
  {
   "cell_type": "code",
   "execution_count": null,
   "id": "2",
   "metadata": {},
   "outputs": [],
   "source": [
    "from pyspark.sql.functions import col\n",
    "\n",
    "from freeds.spark import get_spark_session\n",
    "\n",
    "try:\n",
    "    spark = get_spark_session(\"self-check\")\n",
    "    data = spark.range(100)\n",
    "    # Filter even numbers\n",
    "    even_numbers = data.filter(col(\"id\") % 2 == 0)\n",
    "    even_numbers.show(5)\n",
    "    spark.stop()\n",
    "    result[\"message\"] = \"Executed spark cell ok.\"\n",
    "    result[\"passed\"] = True\n",
    "except Exception as ex:\n",
    "    result[\"message\"] = str(ex)\n",
    "    result[\"passed\"] = False"
   ]
  },
  {
   "cell_type": "code",
   "execution_count": null,
   "id": "3",
   "metadata": {},
   "outputs": [],
   "source": [
    "import json\n",
    "\n",
    "print(json.dumps(result, indent=4))"
   ]
  }
 ],
 "metadata": {
  "kernelspec": {
   "display_name": "Python 3 (ipykernel)",
   "language": "python",
   "name": "python3"
  }
 },
 "nbformat": 4,
 "nbformat_minor": 5
}
