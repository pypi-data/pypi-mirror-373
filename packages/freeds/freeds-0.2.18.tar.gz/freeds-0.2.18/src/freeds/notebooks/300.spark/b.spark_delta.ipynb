{
 "cells": [
  {
   "cell_type": "markdown",
   "id": "0",
   "metadata": {},
   "source": [
    "Self check to write a small delta table and then read it from a new spark session."
   ]
  },
  {
   "cell_type": "code",
   "execution_count": null,
   "id": "1",
   "metadata": {},
   "outputs": [],
   "source": [
    "result = {\n",
    "    \"area\": \"spark\",\n",
    "    \"description\": \"Check that spark can use delta tables.\",\n",
    "    \"passed\": False,\n",
    "    \"message\": \"\",\n",
    "    \"plugin\": \"spark\",\n",
    "}"
   ]
  },
  {
   "cell_type": "code",
   "execution_count": null,
   "id": "2",
   "metadata": {},
   "outputs": [],
   "source": [
    "import json\n",
    "\n",
    "from freeds.spark import get_spark_session, show_spark_info\n",
    "\n",
    "try:\n",
    "    spark = get_spark_session(\"self-check1\")\n",
    "    db_name = \"selfcheck_db\"\n",
    "    table_name = f\"{db_name}.selfcheck_tbl\"\n",
    "\n",
    "    # create some data in delta\n",
    "    print(f\"Dropping and recreating database {db_name}\")\n",
    "    spark.sql(f\"DROP DATABASE IF EXISTS {db_name} CASCADE\")\n",
    "    spark.sql(f\"CREATE DATABASE IF NOT EXISTS {db_name}\")\n",
    "    print(f\"Writing table {table_name}\")\n",
    "    data = spark.range(100)\n",
    "    (\n",
    "        data.write.option(  # .mode(\"overwrite\")  # Options: 'overwrite', 'append', 'ignore', 'error' (default)\n",
    "            \"mergeSchema\", \"true\"\n",
    "        )\n",
    "        .format(\"delta\")  # Options: 'parquet', 'csv', 'json', 'orc', etc.\n",
    "        .saveAsTable(table_name)\n",
    "    )\n",
    "    spark.stop()\n",
    "\n",
    "    # read some data in delta\n",
    "    spark = get_spark_session(\"self-check2\")\n",
    "    data = spark.table(table_name)\n",
    "    show_spark_info(spark)\n",
    "    data.show(5)\n",
    "\n",
    "    # clean up\n",
    "    spark.sql(f\"DROP DATABASE IF EXISTS {db_name} CASCADE\")\n",
    "    spark.stop()\n",
    "\n",
    "    result[\"message\"] = \"Executed spark cell ok.\"\n",
    "    result[\"passed\"] = True\n",
    "\n",
    "except Exception as ex:\n",
    "    result[\"message\"] = str(ex)\n",
    "    result[\"passed\"] = False"
   ]
  },
  {
   "cell_type": "code",
   "execution_count": null,
   "id": "3",
   "metadata": {},
   "outputs": [],
   "source": [
    "print(json.dumps(result, indent=4))"
   ]
  }
 ],
 "metadata": {
  "kernelspec": {
   "display_name": "Python 3 (ipykernel)",
   "language": "python",
   "name": "python3"
  }
 },
 "nbformat": 4,
 "nbformat_minor": 5
}
