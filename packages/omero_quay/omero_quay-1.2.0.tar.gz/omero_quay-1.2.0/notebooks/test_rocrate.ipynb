{
 "cells": [
  {
   "cell_type": "markdown",
   "id": "e71cbbc5",
   "metadata": {},
   "source": [
    "## Imports"
   ]
  },
  {
   "cell_type": "code",
   "execution_count": null,
   "id": "81194078",
   "metadata": {},
   "outputs": [],
   "source": [
    "import logging\n",
    "import os\n",
    "from pathlib import Path\n",
    "\n",
    "from __future__ import annotations\n",
    "\n",
    "# from omero_quay import srce_path\n",
    "\n",
    "from omero_quay.managers.rocrate import RoCrateManager\n",
    "from omero_quay.core.config import get_conf\n",
    "from omero_quay.parsers.excel import XlsxParser, parse_xlsx\n",
    "from omero_quay.core.connect import omero_conn\n",
    "from omero_quay.managers.rocrate import SRC_DIR, RoCrateManager\n",
    "\n",
    "log = logging.getLogger(__name__)\n",
    "\n",
    "srce_path = (SRC_DIR / \"../..\").resolve()\n",
    "templates = SRC_DIR / \"templates\"\n",
    "icons = SRC_DIR / \"icons\"\n",
    "tests = (srce_path / \"tests\").resolve()\n",
    "log = logging.getLogger(\"omero_quay\")\n",
    "log.setLevel(\"WARNING\")"
   ]
  },
  {
   "cell_type": "markdown",
   "id": "2c9023fb",
   "metadata": {},
   "source": [
    "## Settings"
   ]
  },
  {
   "cell_type": "markdown",
   "id": "edaf9a33",
   "metadata": {},
   "source": [
    "### Configuration file path"
   ]
  },
  {
   "cell_type": "code",
   "execution_count": null,
   "id": "4483e961",
   "metadata": {},
   "outputs": [],
   "source": [
    "# path to the the configuration file\n",
    "os.environ[\"QUAY_CONF\"] = (tests / \"containers/quay_docker_host.yml\").as_posix()\n",
    "\n",
    "print(\n",
    "    f\"Using configuration from {os.environ['QUAY_CONF']}\",\n",
    ")"
   ]
  },
  {
   "cell_type": "code",
   "execution_count": null,
   "id": "9da20d36",
   "metadata": {},
   "outputs": [],
   "source": [
    "conf = get_conf()\n",
    "# local path to the test data\n",
    "# also sets the path to the default excel file\n",
    "\n",
    "test_data_path = Path(os.environ.get(\"QUAY_TEST_DATA\", \".\")).resolve()\n",
    "\n",
    "conf[\"quay\"][\"DATA_PATH\"] = test_data_path\n",
    "conf[\"ingest\"][\n",
    "    \"PROVENANCE_URL\"\n",
    "] = f\"file://{(tests / 'containers/provenance').resolve()}\"\n",
    "\n",
    "\n",
    "source_data_path = (test_data_path / \"facility0\" / \"isa\").resolve()\n",
    "if source_data_path.exists():\n",
    "    print(\n",
    "        \"Using data from \",\n",
    "        source_data_path,\n",
    "    )\n",
    "else:\n",
    "    print(f\"{source_data_path} does not exist\")"
   ]
  },
  {
   "cell_type": "markdown",
   "id": "be6e20af",
   "metadata": {},
   "source": [
    "### Data path and parsing"
   ]
  },
  {
   "cell_type": "code",
   "execution_count": null,
   "id": "c53911bd",
   "metadata": {},
   "outputs": [],
   "source": [
    "# from requests import NewConnectionError\n",
    "\n",
    "# path to the excel file relative to `test_data_path`\n",
    "\n",
    "xlsx_path = test_data_path / \"excels\" / \"test_JCB_facility.xlsx\"\n",
    "if not xlsx_path.exists():\n",
    "    print(\"Bad path\")\n",
    "else:\n",
    "    print(f\"Using {xlsx_path.resolve()}\")\n",
    "\n",
    "try:\n",
    "    manifest = parse_xlsx(xlsx_path, conf)\n",
    "except Exception as e:\n",
    "    print(\n",
    "        \"\"\"\n",
    "    You might not have set docker up before you ran this notebook.\n",
    "\n",
    "    Refer to the previous section and start the containers in a terminal.\n",
    "    \"\"\"\n",
    "    )"
   ]
  },
  {
   "cell_type": "markdown",
   "id": "e22c97cc",
   "metadata": {},
   "source": [
    "## Ro-Crate generation"
   ]
  },
  {
   "cell_type": "code",
   "execution_count": null,
   "id": "fa16f3e6",
   "metadata": {},
   "outputs": [],
   "source": [
    "manifest.step = 0\n",
    "# RoCrateManager is a clerk whose purpose is to generate rocrate content.\n",
    "with RoCrateManager(conf, manifest, source_data_path) as rocrate_clerk:\n",
    "    # ajust the log level if you need\n",
    "    # detailed input (eg set to INFO)\n",
    "    rocrate_clerk.log.setLevel(\"WARNING\")\n",
    "    print(rocrate_clerk.data_path)\n",
    "    rocrate_clerk.routine()\n",
    "\n",
    "    # A clerk has a nice printed representation\n",
    "    # print(rocrate_clerk)\n",
    "    rocrate_clerk.set_state(\"changed\")"
   ]
  },
  {
   "cell_type": "code",
   "execution_count": null,
   "id": "ca65b57e-e552-4e09-84b9-abd5e155d904",
   "metadata": {},
   "outputs": [],
   "source": [
    "!ls /home/guillaume/Dev/Omero/QuayTestData/facility0/isa/JCB2009"
   ]
  },
  {
   "cell_type": "code",
   "execution_count": null,
   "id": "be969486-b703-42a8-9ecd-acc9b3477a27",
   "metadata": {},
   "outputs": [],
   "source": [
    "import json"
   ]
  },
  {
   "cell_type": "code",
   "execution_count": null,
   "id": "8d0ced8a-c3bc-43d7-99d9-e9eaf665512d",
   "metadata": {},
   "outputs": [],
   "source": [
    "rcj = \"/home/guillaume/Dev/Omero/QuayTestData/facility0/isa/JCB2009/ro-crate-metadata.json\"\n",
    "with Path(rcj).open(\"r\") as rcj:\n",
    "    rocrate = json.loads(rcj.read())"
   ]
  },
  {
   "cell_type": "markdown",
   "id": "900fc91e",
   "metadata": {},
   "source": [
    "The code works nice overall, but still a known problem:\n",
    "\n",
    "- Vignette generation is not working, not because of a code problem per-se, but more because of a implementation problem in manifest generation (no raw image path implementation, which make the matching step failing).\n",
    "\n",
    "Comments:\n",
    "\n",
    "- Ro-Crate validation. The function works when you launch it next to dataset and rocrate (sent path is \"./\") but the subdirectories names must match the contents of the RoCrate file."
   ]
  },
  {
   "cell_type": "markdown",
   "id": "be319991",
   "metadata": {},
   "source": [
    "## How to use"
   ]
  },
  {
   "cell_type": "markdown",
   "id": "47fcadaa",
   "metadata": {},
   "source": [
    "First, create (or recreate) your containers:\n",
    "\n",
    "```bash\n",
    "make docker_purge\n",
    "make docker_up\n",
    "make docker_populate\n",
    "```\n",
    "\n",
    "Then, create your environment:\n",
    "\n",
    "```bash\n",
    "conda env create -f environment.yml\n",
    "```\n",
    "and activate it and install the needed packages:\n",
    "\n",
    "```bash\n",
    "conda activate quay\n",
    "pip install -e .[dev]\n",
    "pip install jupyter\n",
    "```\n",
    "Now, you can use the notebooks by starting jupyter-lab in your environment or via VSCode."
   ]
  }
 ],
 "metadata": {
  "kernelspec": {
   "display_name": "Python 3 (ipykernel)",
   "language": "python",
   "name": "python3"
  },
  "language_info": {
   "codemirror_mode": {
    "name": "ipython",
    "version": 3
   },
   "file_extension": ".py",
   "mimetype": "text/x-python",
   "name": "python",
   "nbconvert_exporter": "python",
   "pygments_lexer": "ipython3"
  }
 },
 "nbformat": 4,
 "nbformat_minor": 5
}
