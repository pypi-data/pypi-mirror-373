{
 "cells": [
  {
   "cell_type": "markdown",
   "id": "fd085d11-2573-479e-8649-16ae071205fc",
   "metadata": {},
   "source": [
    "# Local Packaging demo\n"
   ]
  },
  {
   "cell_type": "markdown",
   "id": "874fdc5b-4822-4c12-b81c-601840f71ac4",
   "metadata": {},
   "source": [
    "## Imports"
   ]
  },
  {
   "cell_type": "code",
   "execution_count": null,
   "id": "6b1f0012-4006-48ae-8a68-1b0bbd4afe4e",
   "metadata": {},
   "outputs": [],
   "source": [
    "%load_ext autoreload\n",
    "%autoreload 2"
   ]
  },
  {
   "cell_type": "code",
   "execution_count": null,
   "id": "527ed9a0-4dae-4cf4-aad1-79047f8a16c3",
   "metadata": {},
   "outputs": [],
   "source": [
    "import asyncio\n",
    "import logging\n",
    "import os\n",
    "import platform\n",
    "import sys\n",
    "import urllib\n",
    "from pathlib import Path\n",
    "\n",
    "from IPython.display import HTML\n",
    "from jinja2 import Template\n",
    "from linkml_runtime.dumpers import json_dumper, yaml_dumper\n",
    "from linkml_runtime.loaders import json_loader, yaml_loader\n",
    "\n",
    "from omero_quay.clients.excel import excel_request\n",
    "from omero_quay.clients.http import get_manifest, post_request\n",
    "from omero_quay.core.config import get_conf\n",
    "from omero_quay.core.connect import irods_sudo_conn, omero_conn\n",
    "from omero_quay.core.manifest import Manifest, Store\n",
    "from omero_quay.core.provenance import (\n",
    "    get_data_root,\n",
    "    get_provenance,\n",
    "    set_default_route,\n",
    "    set_route,\n",
    ")\n",
    "from omero_quay.core.utils import find_by_id, pprint\n",
    "from omero_quay.managers.filesystem import FSManager\n",
    "from omero_quay.managers.irods import iRODSManager, put_directory\n",
    "from omero_quay.managers.omero import OmeroManager\n",
    "from omero_quay.parsers.excel import XlsxParser, parse_xlsx\n",
    "\n",
    "log = logging.getLogger(\"omero_quay\")\n",
    "log.setLevel(\"WARNING\")"
   ]
  },
  {
   "cell_type": "markdown",
   "id": "2eb714bc-4084-461c-90a6-6dc4109c1dcf",
   "metadata": {},
   "source": [
    "## Settings\n",
    "\n",
    "\n",
    "See [the documentation](../docs/configuration_file_content.md)\n",
    "\n",
    "\n",
    "\n",
    "\n",
    "\n"
   ]
  },
  {
   "cell_type": "markdown",
   "id": "19d6b161-3431-40dc-96bc-3d7e16265c7b",
   "metadata": {},
   "source": [
    "#### Configuration file path "
   ]
  },
  {
   "cell_type": "code",
   "execution_count": null,
   "id": "1bc0ff85-2100-4ebd-80f5-af779d0ec9c3",
   "metadata": {},
   "outputs": [],
   "source": [
    "# path to the the configuration file\n",
    "os.environ[\"QUAY_CONF\"] = \"../tests/containers/quay_docker_host.yml\"\n",
    "\n",
    "print(\n",
    "    f\"Using configuration from {os.environ['QUAY_CONF']}\",\n",
    ")"
   ]
  },
  {
   "cell_type": "markdown",
   "id": "d69b5535-9120-4dff-a03b-e9eb96fce715",
   "metadata": {},
   "source": [
    "#### Data Path settings"
   ]
  },
  {
   "cell_type": "code",
   "execution_count": null,
   "id": "1c178d61-f62e-41e2-bfa0-2d0099513042",
   "metadata": {},
   "outputs": [],
   "source": [
    "conf = get_conf()\n",
    "# local path to the test data\n",
    "# also sets the path to the default excel file\n",
    "\n",
    "test_data_path = Path(os.environ.get(\"QUAY_TEST_DATA\", \".\")).resolve()\n",
    "\n",
    "conf[\"ingest\"][\"DATA_ROOT\"] = test_data_path\n",
    "conf[\"ingest\"][\n",
    "    \"PROVENANCE_URL\"\n",
    "] = f\"file://{Path('../tests/containers/provenance').resolve()}\"\n",
    "\n",
    "\n",
    "source_data_path = (test_data_path / \"facility0\" / \"S-JCBD-200902093\").resolve()\n",
    "if source_data_path.exists():\n",
    "    print(\n",
    "        \"Using data from \",\n",
    "        source_data_path,\n",
    "    )\n",
    "else:\n",
    "    print(f\"{source_data_path} does not exist\")"
   ]
  },
  {
   "cell_type": "markdown",
   "id": "4db360b4-c0ef-4272-ad38-f81bc31a594e",
   "metadata": {},
   "source": [
    "Update and display the source data directory tree"
   ]
  },
  {
   "cell_type": "code",
   "execution_count": null,
   "id": "9e043731-2350-4ed5-a130-88dc46b119b8",
   "metadata": {},
   "outputs": [],
   "source": [
    "!cd { source_data_path } && tree -H . > source_data_tree.html"
   ]
  },
  {
   "cell_type": "code",
   "execution_count": null,
   "id": "477ac136-5132-48d1-9c43-15cffc40b8ae",
   "metadata": {},
   "outputs": [],
   "source": [
    "# %load source_data_tree.html\n",
    "with (source_data_path / \"source_data_tree.html\").open(\"r\") as html:\n",
    "    content = html.read().replace(\"Directory Tree\", \"Source Directory Tree\")\n",
    "\n",
    "\n",
    "HTML(content)"
   ]
  },
  {
   "cell_type": "markdown",
   "id": "f3b052e8-277a-4498-9cb3-46bf184921f1",
   "metadata": {},
   "source": [
    "# Importing data\n",
    "\n",
    "## Local packaging only"
   ]
  },
  {
   "cell_type": "markdown",
   "id": "f938a413-d69c-4080-99b8-4a5dd63ac09d",
   "metadata": {},
   "source": [
    "### Parsing the excel file\n",
    "\n",
    "\n",
    "This logs a list of **Import Links** that will be managed by the clercks.\n",
    "\n",
    "Remember that the paths we print here are local to each store's container.\n",
    "\n",
    "We use the `test_JCB_local.xlsx` spreadsheet as input"
   ]
  },
  {
   "cell_type": "code",
   "execution_count": null,
   "id": "28fb4ad0-b901-46fc-b94c-d3173008a37b",
   "metadata": {},
   "outputs": [],
   "source": [
    "%pdb"
   ]
  },
  {
   "cell_type": "code",
   "execution_count": null,
   "id": "1182539f-a536-4ee0-b2fd-3e335de024b2",
   "metadata": {},
   "outputs": [],
   "source": [
    "# from requests import NewConnectionError\n",
    "\n",
    "\n",
    "# path to the excel file relative to `test_data_path`\n",
    "\n",
    "xlsx_path = test_data_path / \"excels\" / \"test_JCB_local.xlsx\"\n",
    "if not xlsx_path.exists():\n",
    "    print(\"Bad path\")\n",
    "else:\n",
    "    print(f\"Using {xlsx_path.resolve()}\")\n",
    "manifest = parse_xlsx(xlsx_path, conf)"
   ]
  },
  {
   "cell_type": "code",
   "execution_count": null,
   "id": "39897807-6c91-439a-987f-88a6fb4fe284",
   "metadata": {},
   "outputs": [],
   "source": [
    "for assay in manifest.assays:\n",
    "    for importlink in assay.importlinks:\n",
    "        print(\"assay: \", assay.name, \"Import URL: \", importlink.srce_url)\n",
    "print(\"\\n | source - \\n | \", end=\"\")\n",
    "\n",
    "for i, store in enumerate(manifest.route):\n",
    "    data_root = get_data_root(manifest, store.id, store.scheme, template=True)\n",
    "    print(f\"{i} | {store.id} | {store.post_url} | {data_root} |\", end=\"\\n | \")\n",
    "print(\"destination\")\n",
    "\n",
    "\n",
    "available_stores = {\n",
    "    \"l1\": \"localUserFile\",\n",
    "    \"l2\": \"localCoopFile\",\n",
    "    \"lo\": \"localOmero\",\n",
    "    \"f1\": \"facilityUserFile\",\n",
    "    \"f1i\": \"facilityUserResc\",\n",
    "    \"f2\": \"facilityCoopFile\",\n",
    "    \"fo\": \"facilityOmero\",\n",
    "    \"f2i\": \"facilityCoopResc\",\n",
    "    \"m1i\": \"mesoUserResc\",\n",
    "    \"m2i\": \"mesoCoopResc\",\n",
    "    \"mo\": \"mesoOmero\",\n",
    "}\n",
    "\n",
    "store_keys = {id_: key for key, id_ in available_stores.items()}\n",
    "route_digest = \"-\".join(store_keys[store.id] for store in manifest.route)\n",
    "\n",
    "print(\"Route digest: \", route_digest)\n",
    "# Let's make sure we know where we're going :)\n",
    "\n",
    "assert route_digest == \"l1-l2-lo\""
   ]
  },
  {
   "cell_type": "code",
   "execution_count": null,
   "id": "1949344d-3a7c-4102-a0c0-3400b974fee0",
   "metadata": {},
   "outputs": [],
   "source": [
    "manifest.timestamps"
   ]
  },
  {
   "cell_type": "markdown",
   "id": "81b17045-4181-476f-a0bb-9e8964e2929b",
   "metadata": {},
   "source": [
    "We go from the unstructured local user store to the cooperative space, where data is structured as ISA. The local OMERO Clerk creates an `ome.xml` file with all the metadata.   "
   ]
  },
  {
   "cell_type": "markdown",
   "id": "dff581ec-e5cc-4fd5-9a51-22c11e9834df",
   "metadata": {},
   "source": [
    "### State of a manifest\n",
    "\n",
    "Manifests have a list of **states**, one each time a clerk is instanciated. States  "
   ]
  },
  {
   "cell_type": "code",
   "execution_count": null,
   "id": "66956648-2578-406f-8828-83b580841bb1",
   "metadata": {},
   "outputs": [],
   "source": [
    "print(\n",
    "    *(\n",
    "        (state.scheme, state.store, state.host, state.status)\n",
    "        for state in manifest.states\n",
    "    )\n",
    ")"
   ]
  },
  {
   "cell_type": "markdown",
   "id": "227b1ae5-470d-4937-b744-091213273be3",
   "metadata": {},
   "source": [
    "### Delete previously imported test data\n"
   ]
  },
  {
   "cell_type": "code",
   "execution_count": null,
   "id": "8f744d90-82ba-4f9e-8342-11cbc190abb8",
   "metadata": {},
   "outputs": [],
   "source": [
    "!rm -Rf '/home/guillaume/Dev/Omero/QuayTestData/facility0/isa'"
   ]
  },
  {
   "cell_type": "markdown",
   "id": "9f363800-2e81-4768-ac08-75563249dac2",
   "metadata": {},
   "source": [
    "## En route!"
   ]
  },
  {
   "cell_type": "markdown",
   "id": "b88466a1-2157-4424-8301-dd622a92a5df",
   "metadata": {},
   "source": [
    "Manifests follow their route step by step.\n",
    "\n",
    "The `get_data_root` helper tells you where the data is on a given drive.\n",
    "For example for our first two stages :\n",
    "\n"
   ]
  },
  {
   "cell_type": "code",
   "execution_count": null,
   "id": "a6cf9ff9-3c55-4fd8-b1ac-a64ace656d4c",
   "metadata": {},
   "outputs": [],
   "source": [
    "print(\n",
    "    \"source data root: \", get_data_root(manifest, manifest.route[0].id, template=True)\n",
    ")\n",
    "print(\n",
    "    \"target data root: \", get_data_root(manifest, manifest.route[1].id, template=True)\n",
    ")"
   ]
  },
  {
   "cell_type": "markdown",
   "id": "191f4ea3-5039-4450-89b1-8b06fc28c4b5",
   "metadata": {},
   "source": [
    "\n",
    "We spawn a clerk to pass from source to target, and call their `parse`, `crud`, and `transfer` methods.\n",
    "\n",
    "Ideally these methods are idempotent. \n",
    "\n",
    "* The `parse` method reads the manifest and looks for **importlinks** at the assay level.\n",
    "* The `transfer` ..\n",
    "**TODO**\n",
    "\n",
    "Example code using a clerk (we need to elevate to admin access to do that, not possible on a  real deployment)\n",
    "\n",
    "```python\n",
    "from omero_quay.users.omero import OmeroUserClerk\n",
    "from omero_quay.core.manifest import User\n",
    "from omero_quay.core.utils import temp_user\n",
    "conf[\"omero\"][\"OMERO_ADMIN\"] = \"root\"\n",
    "conf[\"omero\"][\"OMERO_ADMIN_PASS\"] = \"omero\"\n",
    "\n",
    "with OmeroUserClerk(conf, manifest, \"omero\") as clerk:\n",
    "    clerk.log.setLevel(\"DEBUG\")\n",
    "    clerk.parse()\n",
    "    clerk.crud()\n",
    "    clerk.update_manifest_members()\n",
    "    print(\"members: \", *(m.name for m in clerk.manifest.members))\n",
    "    \n",
    "_ = conf[\"omero\"].pop(\"OMERO_ADMIN\")\n",
    "_ = conf[\"omero\"].pop(\"OMERO_ADMIN_PASS\")\n",
    "```\n",
    "    "
   ]
  },
  {
   "cell_type": "code",
   "execution_count": null,
   "id": "f6dd7040-e184-433b-8450-77c6a35ccf0b",
   "metadata": {},
   "outputs": [],
   "source": [
    "manifest.step = 0\n",
    "# FSManager is a file system clerk\n",
    "with FSManager(conf, manifest) as clerk:\n",
    "\n",
    "    # ajust the log level if you need\n",
    "    # detailed input (eg set to INFO)\n",
    "    clerk.log.setLevel(\"WARNING\")\n",
    "    print(clerk.state)\n",
    "    clerk.parse()\n",
    "    # A clerk has a nice printed representation\n",
    "    print(clerk)\n",
    "\n",
    "    print(\n",
    "        \"Number of files to transfer: \",\n",
    "        *(len(dest) for dest in clerk.destinations.values()),\n",
    "    )\n",
    "    clerk.transfer()\n",
    "    clerk.parse()\n",
    "\n",
    "    print(clerk)\n",
    "\n",
    "    clerk.set_state(\"changed\")"
   ]
  },
  {
   "cell_type": "markdown",
   "id": "a4dfe425-5057-47ab-ad37-88660334bc1b",
   "metadata": {},
   "source": [
    "## Using `absolute_path` to access data"
   ]
  },
  {
   "cell_type": "code",
   "execution_count": null,
   "id": "a546dbeb-2fb2-481c-b903-2192d0d3ad23",
   "metadata": {},
   "outputs": [],
   "source": [
    "clerk.absolute_path(clerk.manifest.assays[-1], clerk.trgt_store.id)"
   ]
  },
  {
   "cell_type": "markdown",
   "id": "037ddcfa-3a41-4531-a9a0-49eb358d5065",
   "metadata": {},
   "source": [
    "We can thus check that the data has been imported"
   ]
  },
  {
   "cell_type": "code",
   "execution_count": null,
   "id": "bc66e56d-5890-4baa-91ae-73ba6411bfee",
   "metadata": {},
   "outputs": [],
   "source": [
    "inv_path = clerk.absolute_path(clerk.manifest.investigations[0], clerk.trgt_store.id)"
   ]
  },
  {
   "cell_type": "code",
   "execution_count": null,
   "id": "bf6e7105-e784-4370-ab99-40074424609e",
   "metadata": {},
   "outputs": [],
   "source": [
    "!tree {inv_path}"
   ]
  },
  {
   "cell_type": "markdown",
   "id": "98e950ad-2459-402b-a61c-719351862483",
   "metadata": {},
   "source": [
    "# 2. From CoopFile to Omero\n",
    "\n"
   ]
  },
  {
   "cell_type": "code",
   "execution_count": null,
   "id": "1309747a-4f1c-4540-8230-8a917707f6ce",
   "metadata": {},
   "outputs": [],
   "source": [
    "manifest.step = 1\n",
    "\n",
    "with OmeroManager(conf, manifest) as clerk:\n",
    "\n",
    "    clerk.log.setLevel(\"WARNING\")\n",
    "    print(clerk.state)\n",
    "    print(\"source: \", clerk.srce_store)\n",
    "    print(\"target: \", clerk.trgt_store)\n",
    "    clerk.parse()\n",
    "    clerk.crud()\n",
    "    print(\n",
    "        \"Number of files to transfer: \",\n",
    "        *(len(dest) for dest in clerk.destinations.values()),\n",
    "    )\n",
    "\n",
    "    clerk.transfer()\n",
    "    clerk.set_state(\"changed\")\n",
    "    clerk.manifest.step += 1"
   ]
  },
  {
   "cell_type": "markdown",
   "id": "ebf4dcb7-780e-45e3-8619-58d151f81a20",
   "metadata": {},
   "source": [
    "Notice that now we have images as such, not only as files in the manifest. This translates into the presence of an ome.xml annotation. \n",
    "\n",
    "\n",
    "Congrats, your data just got ✨fairer✨"
   ]
  },
  {
   "cell_type": "markdown",
   "id": "b0ae9483-3bd5-470e-88e3-ae5c0a53c753",
   "metadata": {},
   "source": [
    "## The end of local route\n",
    "\n",
    "Next steps must happen on a machine with an OMERO server. "
   ]
  },
  {
   "cell_type": "code",
   "execution_count": null,
   "id": "63f7d20a-196c-4021-93cc-38f23bae3d79",
   "metadata": {},
   "outputs": [],
   "source": [
    "print(*(im.name for im in manifest.images), sep=\"\\n\")"
   ]
  },
  {
   "cell_type": "code",
   "execution_count": null,
   "id": "205ce10c-7968-426b-9e99-0479b17fa31f",
   "metadata": {},
   "outputs": [],
   "source": [
    "print(\"Route length: \", len(manifest.route))\n",
    "print(\"Current step: \", manifest.step + 1)"
   ]
  },
  {
   "cell_type": "code",
   "execution_count": null,
   "id": "22384146-f920-408c-95d0-6331e0e5824e",
   "metadata": {},
   "outputs": [],
   "source": [
    "print(*(state.status for state in manifest.states))"
   ]
  },
  {
   "cell_type": "code",
   "execution_count": null,
   "id": "d750927a-14f8-4832-9aed-f899aeb1f387",
   "metadata": {},
   "outputs": [],
   "source": []
  },
  {
   "cell_type": "code",
   "execution_count": null,
   "id": "7dd5903a-1739-44b2-bc5e-7d18010b2a51",
   "metadata": {},
   "outputs": [],
   "source": []
  },
  {
   "cell_type": "code",
   "execution_count": null,
   "id": "ae87d6d1-cb0b-4141-ac96-c8ad398066af",
   "metadata": {},
   "outputs": [],
   "source": [
    "import ome_types\n",
    "\n",
    "for assay in manifest.assays:\n",
    "    ome = ome_types.from_xml(clerk.absolute_path(assay, \"localCoopFile\") / \"ome.xml\")\n",
    "    for image in ome.images:\n",
    "        print(image.name, \" :\", image.pixels.size_y)\n",
    "    for ann in ome.structured_annotations:\n",
    "        print(\"ns:\", ann.namespace)"
   ]
  },
  {
   "cell_type": "code",
   "execution_count": null,
   "id": "e04d642b-556b-47d9-919d-7deb81ee6ff2",
   "metadata": {},
   "outputs": [],
   "source": [
    "type(ome)"
   ]
  },
  {
   "cell_type": "code",
   "execution_count": null,
   "id": "ce72ea2f-1dc0-4c56-94de-cc9138ea9688",
   "metadata": {},
   "outputs": [],
   "source": []
  },
  {
   "cell_type": "code",
   "execution_count": null,
   "id": "908c38c9-b3b1-478b-a55a-69f39b76b1d3",
   "metadata": {},
   "outputs": [],
   "source": []
  }
 ],
 "metadata": {
  "kernelspec": {
   "display_name": "Python 3 (ipykernel)",
   "language": "python",
   "name": "python3"
  },
  "language_info": {
   "codemirror_mode": {
    "name": "ipython",
    "version": 3
   },
   "file_extension": ".py",
   "mimetype": "text/x-python",
   "name": "python",
   "nbconvert_exporter": "python",
   "pygments_lexer": "ipython3"
  },
  "name": "Untitled.ipynb"
 },
 "nbformat": 4,
 "nbformat_minor": 5
}
