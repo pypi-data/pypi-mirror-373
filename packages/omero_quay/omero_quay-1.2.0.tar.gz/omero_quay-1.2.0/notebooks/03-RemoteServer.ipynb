{
 "cells": [
  {
   "cell_type": "markdown",
   "id": "2fda8ff8-03ad-4d28-ae79-0cc9b5c7e47c",
   "metadata": {},
   "source": [
    "# Use remote server"
   ]
  },
  {
   "cell_type": "code",
   "execution_count": null,
   "id": "28b932f2-e847-4a2c-90ed-faa09eb50f68",
   "metadata": {},
   "outputs": [],
   "source": [
    "from omero_quay.core.config import get_conf\n",
    "from omero_quay.clients.http import get_manifest"
   ]
  },
  {
   "cell_type": "code",
   "execution_count": null,
   "id": "96d3262f-0e78-48fe-a703-9b44271b4e80",
   "metadata": {},
   "outputs": [],
   "source": [
    "conf = get_conf()"
   ]
  },
  {
   "cell_type": "code",
   "execution_count": null,
   "id": "8f057fc0-31f0-42c2-895a-9010bd784b0e",
   "metadata": {},
   "outputs": [],
   "source": [
    "conf[\"quay\"][\"QUAY_URL\"] = \"https://mtp.omero-fbi.fr/post\""
   ]
  },
  {
   "cell_type": "markdown",
   "id": "b71a8ccc-d3e3-4b20-bd75-7dc6ae64cc04",
   "metadata": {},
   "source": [
    "## To Be Continued"
   ]
  },
  {
   "cell_type": "code",
   "execution_count": null,
   "id": "3c8983ca-78ec-4693-9d0e-04125114ddcd",
   "metadata": {},
   "outputs": [],
   "source": []
  }
 ],
 "metadata": {
  "kernelspec": {
   "display_name": "Python 3 (ipykernel)",
   "language": "python",
   "name": "python3"
  },
  "language_info": {
   "codemirror_mode": {
    "name": "ipython",
    "version": 3
   },
   "file_extension": ".py",
   "mimetype": "text/x-python",
   "name": "python",
   "nbconvert_exporter": "python",
   "pygments_lexer": "ipython3"
  }
 },
 "nbformat": 4,
 "nbformat_minor": 5
}
