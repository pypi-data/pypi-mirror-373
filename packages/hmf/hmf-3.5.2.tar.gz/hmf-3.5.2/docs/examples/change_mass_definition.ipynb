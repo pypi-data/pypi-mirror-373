{
 "cells": [
  {
   "cell_type": "markdown",
   "metadata": {
    "collapsed": true
   },
   "source": [
    "# Mass Definitions"
   ]
  },
  {
   "cell_type": "markdown",
   "metadata": {},
   "source": [
    "``hmf``, as of v3.1, provides a simple way of converting between halo mass definitions, which serves two basic purposes:\n",
    "\n",
    "1. the mass of a halo in one definition can be converted to its appropriate mass under another definition\n",
    "2. the halo mass function can be converted between mass definitions."
   ]
  },
  {
   "cell_type": "markdown",
   "metadata": {},
   "source": [
    "## Introduction\n",
    "\n",
    "By \"mass definition\" we mean the way the extent of a halo is defined. In ``hmf``, we support two main kinds of definition, which themselves can contain different models. In brief, ``hmf`` supports Friends-of-Friends (FoF) halos, which are defined via their linking length, $b$, and spherical-overdensity (SO) halos, which are defined by two criteria: an overdensity $\\Delta_h$, and an indicator of what that overdensity is with respect to (usually mean background density $\\rho_m$, or critical density $\\rho_c$). In addition to being able to provide a precise overdensity for a SO halo, ``hmf`` provides a way to use the so-called \"virial\" overdensity, as defined in Bryan and Norman (1998). \n",
    "\n",
    "Converting between SO mass definitions is relatively simple: given a halo profile and concentration for the given halo mass, determine the concentration required to make that profile contain the desired density, and then compute the mass of the halo under such a concentration. \n",
    "\n",
    "There is no clear way to perform such a conversion for FoF halos. Nevertheless, if one assumes that all linked particles are the same mass, and that halos are spherical and singular isothermal spheres (cf. White (2001)), one can approximate an FoF halo by an SO halo of density $9 \\rho_m /(2\\pi b^3)$. ``hmf`` will make this approximation if a conversion between mass definitions is desired."
   ]
  },
  {
   "cell_type": "markdown",
   "metadata": {},
   "source": [
    "## Changing Mass Definitions"
   ]
  },
  {
   "cell_type": "markdown",
   "metadata": {},
   "source": [
    "Most of the functionality concerning mass definitions is defined in the ``hmf.halos.mass_definitions`` module: "
   ]
  },
  {
   "cell_type": "code",
   "execution_count": 1,
   "metadata": {
    "init_cell": true
   },
   "outputs": [
    {
     "name": "stdout",
     "output_type": "stream",
     "text": [
      "Using hmf version v3.3.4.dev14+g9a9b63c.d20210610\n"
     ]
    }
   ],
   "source": [
    "%load_ext autoreload\n",
    "%autoreload 2\n",
    "import hmf\n",
    "from hmf.halos import mass_definitions as md\n",
    "\n",
    "print(\"Using hmf version v%s\"%hmf.__version__)"
   ]
  },
  {
   "cell_type": "markdown",
   "metadata": {},
   "source": [
    "While we're at it, import matplotlib and co:"
   ]
  },
  {
   "cell_type": "code",
   "execution_count": 2,
   "metadata": {
    "init_cell": true
   },
   "outputs": [],
   "source": [
    "import matplotlib.pyplot as plt\n",
    "%matplotlib inline\n",
    "import inspect\n"
   ]
  },
  {
   "cell_type": "markdown",
   "metadata": {},
   "source": [
    "Different mass definitions exist inside the ``mass_definitions`` module as ``Components``. All definitions are subclassed from the abstract ``MassDefinition`` class:"
   ]
  },
  {
   "cell_type": "code",
   "execution_count": 3,
   "metadata": {
    "scrolled": true
   },
   "outputs": [
    {
     "data": {
      "text/plain": [
       "[hmf.halos.mass_definitions.FOF,\n",
       " hmf.halos.mass_definitions.MassDefinition,\n",
       " hmf.halos.mass_definitions.SOCritical,\n",
       " hmf.halos.mass_definitions.SOGeneric,\n",
       " hmf.halos.mass_definitions.SOMean,\n",
       " hmf.halos.mass_definitions.SOVirial,\n",
       " hmf.halos.mass_definitions.SphericalOverdensity]"
      ]
     },
     "execution_count": 3,
     "metadata": {},
     "output_type": "execute_result"
    }
   ],
   "source": [
    "[x[1] for x in inspect.getmembers(md, inspect.isclass) if issubclass(x[1], md.MassDefinition)]"
   ]
  },
  {
   "cell_type": "markdown",
   "metadata": {},
   "source": [
    "### The Mass Definition Component"
   ]
  },
  {
   "attachments": {},
   "cell_type": "markdown",
   "metadata": {},
   "source": [
    "To create an instance of any class, optional ``cosmo`` and ``z`` arguments can be specified. By default, these are the ``Planck18`` cosmology at redshift 0. We'll leave them as default for this example. Let's define two mass definitions, both spherical-overdensity definitions with respect to the mean background density:"
   ]
  },
  {
   "cell_type": "code",
   "execution_count": 4,
   "metadata": {},
   "outputs": [],
   "source": [
    "mdef_1 = md.SOMean(overdensity=200)\n",
    "mdef_2 = md.SOMean(overdensity=500)"
   ]
  },
  {
   "cell_type": "markdown",
   "metadata": {},
   "source": [
    "Each mass definition has its own ``model_parameters``, which define the exact overdensity. For both the ``SOMean`` and ``SOCritical`` definitions, the ``overdensity`` can be provided, as above (default is 200). This must be passed as a named argument. For the ``FOF`` definition, the ``linking_length`` can be passed (default 0.2). For the ``SOVirial``, no parameters are available. Available parameters and their defaults can be checked the same way as *any* ``Component`` within ``hmf``:"
   ]
  },
  {
   "cell_type": "code",
   "execution_count": 5,
   "metadata": {},
   "outputs": [
    {
     "data": {
      "text/plain": [
       "{'overdensity': 200}"
      ]
     },
     "execution_count": 5,
     "metadata": {},
     "output_type": "execute_result"
    }
   ],
   "source": [
    "md.SOMean._defaults"
   ]
  },
  {
   "cell_type": "markdown",
   "metadata": {},
   "source": [
    "The explicit halo density for a given mass definition can be accessed:"
   ]
  },
  {
   "cell_type": "code",
   "execution_count": 6,
   "metadata": {},
   "outputs": [
    {
     "data": {
      "text/plain": [
       "(17068502575484.854, 200.0)"
      ]
     },
     "execution_count": 6,
     "metadata": {},
     "output_type": "execute_result"
    }
   ],
   "source": [
    "mdef_1.halo_density(), mdef_1.halo_density()/mdef_1.mean_density()"
   ]
  },
  {
   "cell_type": "markdown",
   "metadata": {},
   "source": [
    "### Converting Masses"
   ]
  },
  {
   "cell_type": "markdown",
   "metadata": {},
   "source": [
    "To convert a mass in one definition to a mass in another, use the following:"
   ]
  },
  {
   "cell_type": "code",
   "execution_count": 7,
   "metadata": {},
   "outputs": [
    {
     "name": "stdout",
     "output_type": "stream",
     "text": [
      "Mass in new definition is 0.76 x 10^12 Msun / h\n",
      "Radius of halo in new definition is 0.16 Mpc/h\n",
      "Concentration of halo in new definition is 4.81\n"
     ]
    },
    {
     "name": "stderr",
     "output_type": "stream",
     "text": [
      "/home/steven/miniconda3/envs/hmf/lib/python3.7/site-packages/halomod/halo_exclusion.py:17: UserWarning: Warning: Some Halo-Exclusion models have significant speedup when using Numba\n",
      "  \"Warning: Some Halo-Exclusion models have significant speedup when using Numba\"\n"
     ]
    }
   ],
   "source": [
    "mnew, rnew, cnew = mdef_1.change_definition(m=1e12, mdef=mdef_2)\n",
    "print(\"Mass in new definition is %.2f x 10^12 Msun / h\"%(mnew/1e12))\n",
    "print(\"Radius of halo in new definition is %.2f Mpc/h\"%rnew)\n",
    "print(\"Concentration of halo in new definition is %.2f\"%cnew)"
   ]
  },
  {
   "cell_type": "markdown",
   "metadata": {},
   "source": [
    "The input mass argument can be a list or array of masses also. To convert between masses, the concentration of the input halos, and their density profile, must be known. By default, an NFW profile is assumed, with a concentration-mass relation from Duffy et al. (2008).\n",
    "\n",
    "One can alternatively pass a concentration directly:"
   ]
  },
  {
   "cell_type": "code",
   "execution_count": 8,
   "metadata": {},
   "outputs": [
    {
     "name": "stdout",
     "output_type": "stream",
     "text": [
      "Mass in new definition is 0.72 x 10^12 Msun / h\n",
      "Radius of halo in new definition is 0.16 Mpc/h\n",
      "Concentration of halo in new definition is 3.31\n"
     ]
    }
   ],
   "source": [
    "mnew, rnew, cnew = mdef_1.change_definition(m=1e12, mdef=mdef_2, c = 5.0)\n",
    "print(\"Mass in new definition is %.2f x 10^12 Msun / h\"%(mnew/1e12))\n",
    "print(\"Radius of halo in new definition is %.2f Mpc/h\"%rnew)\n",
    "print(\"Concentration of halo in new definition is %.2f\"%cnew)"
   ]
  },
  {
   "cell_type": "markdown",
   "metadata": {},
   "source": [
    "If you have ``halomod`` installed, you can also pass any ``halomod.profiles.Profile`` instance (which itself includes a concentration-mass relation) as the ``profile`` argument."
   ]
  },
  {
   "cell_type": "markdown",
   "metadata": {},
   "source": [
    "### Converting Mass Functions"
   ]
  },
  {
   "cell_type": "markdown",
   "metadata": {},
   "source": [
    "All halo mass function fits are measured using halos found using some halo definition. While some fits explicitly include a parameterization for the spherical overdensity of the halo (eg. ``Tinker08``, ``Watson`` and ``Bocquet``), others do not.\n",
    "\n",
    "By passing a mass definition to the ``MassFunction`` constructor, ``hmf`` can attempt to convert the mass function defined by the chosen fitting function to the appropriate mass definition, using ([Bocquet et al, 2016](http://adsabs.harvard.edu/abs/2016MNRAS.456.2361B)):\n",
    "\n",
    "\\begin{equation}\n",
    "    \\frac{dn}{dm'} = \\frac{dn}{dm}\\frac{dm}{dm'} = f(\\nu)\\frac{\\rho_0}{m'}\\frac{d\\nu}{dm'} \\times \\frac{m'}{m}\n",
    "\\end{equation}\n",
    "\n",
    "where the last factor captures all the evolution with mass definition. You should note that this is only ever approximate -- it doesn't account for scatter in the profile of individual halos, nor does it preserve the halo model condition that all mass resides in halos (even if the original mass function did). In effect, the new $m'/m$ term is modifying the $f(\\nu)$.\n",
    "\n",
    "By default, the mass definition is ``None``, which uses whatever mass definition was employed by the chosen fit.  Nevertheless, care should be taken here: many of the different fits have different mass definitions, and should not be compared without some form of mass conversion (and possibly not even then). To see the mass definition intrinsic to the measurement of each fit, use the following:"
   ]
  },
  {
   "cell_type": "code",
   "execution_count": 9,
   "metadata": {
    "init_cell": true
   },
   "outputs": [],
   "source": [
    "from hmf.mass_function.fitting_functions import SMT, Tinker08, Jenkins"
   ]
  },
  {
   "cell_type": "code",
   "execution_count": 10,
   "metadata": {},
   "outputs": [
    {
     "name": "stdout",
     "output_type": "stream",
     "text": [
      "SO vir\n",
      "SO *(200m)\n",
      "FoF 0.2\n"
     ]
    }
   ],
   "source": [
    "print(SMT.sim_definition.halo_finder_type, SMT.sim_definition.halo_overdensity)\n",
    "print(Tinker08.sim_definition.halo_finder_type, Tinker08.sim_definition.halo_overdensity)\n",
    "print(Jenkins.sim_definition.halo_finder_type, Jenkins.sim_definition.halo_overdensity)\n"
   ]
  },
  {
   "cell_type": "markdown",
   "metadata": {},
   "source": [
    "Here \"vir\" corresponds to the virial definition of Bryan and Norman (1998), an asterisk indicates that the fit is itself parameterized for SO mass definitions, and 0.2 is the FoF linking length.\n",
    "\n",
    "Let's convert the mass definition of ``Tinker08``, which has an intrinsic parameterization:"
   ]
  },
  {
   "cell_type": "code",
   "execution_count": 11,
   "metadata": {},
   "outputs": [
    {
     "data": {
      "image/png": "[encoded data removed]",
      "text/plain": [
       "<Figure size 432x288 with 1 Axes>"
      ]
     },
     "metadata": {
      "needs_background": "light"
     },
     "output_type": "display_data"
    }
   ],
   "source": [
    "# Default mass function object\n",
    "mf = hmf.MassFunction()\n",
    "\n",
    "dndm0 = mf.dndm\n",
    "\n",
    "# Change the mass definition to 300rho_mean\n",
    "mf.update(\n",
    "    mdef_model  = \"SOMean\", \n",
    "    mdef_params = {\n",
    "        \"overdensity\": 300 \n",
    "    }\n",
    ")\n",
    "\n",
    "plt.plot(mf.m, mf.dndm/dndm0, label=r\"300 $\\rho_m$\", lw=3)\n",
    "\n",
    "# Change the mass definition to 500rho_crit\n",
    "mf.update(\n",
    "    mdef_model  = \"SOCritical\", \n",
    "    mdef_params = {\n",
    "        \"overdensity\": 500 \n",
    "    }\n",
    ")\n",
    "\n",
    "plt.plot(mf.m, mf.dndm/dndm0, label=r\"500 $\\rho_c$\", lw=3)\n",
    "\n",
    "plt.xscale('log')\n",
    "plt.yscale('log')\n",
    "plt.xlabel(r\"Mass, $M_\\odot/h$\", fontsize=15)\n",
    "plt.ylabel(r\"Ratio of $dn/dm$ to $200 \\rho_m$\", fontsize=15)\n",
    "plt.grid(True)\n",
    "plt.legend();"
   ]
  },
  {
   "cell_type": "markdown",
   "metadata": {},
   "source": [
    "This did not require any internal conversion, since the `Tinker08` function is able to deal natively with multiple definitions. Let's try converting a fit that has no explicit parameterization for overdensity:"
   ]
  },
  {
   "cell_type": "code",
   "execution_count": 12,
   "metadata": {},
   "outputs": [
    {
     "name": "stderr",
     "output_type": "stream",
     "text": [
      "/home/steven/Documents/Projects/halos/HMF/hmf/src/hmf/mass_function/hmf.py:274: UserWarning: Your input mass definition 'SOMean(300)' does not match the mass definition in which the hmf fit SMT was measured:'SOVirial'. The mass function will be converted to your input definition, but note that some properties do not survive the conversion, eg. the integral of the hmf over mass yielding the total mean density.\n",
      "  f\"Your input mass definition '{mdef}' does not match the mass \"\n",
      "/home/steven/Documents/Projects/halos/HMF/hmf/src/hmf/mass_function/hmf.py:274: UserWarning: Your input mass definition 'SOCritical(500)' does not match the mass definition in which the hmf fit SMT was measured:'SOVirial'. The mass function will be converted to your input definition, but note that some properties do not survive the conversion, eg. the integral of the hmf over mass yielding the total mean density.\n",
      "  f\"Your input mass definition '{mdef}' does not match the mass \"\n"
     ]
    },
    {
     "data": {
      "image/png": "[encoded data removed]",
      "text/plain": [
       "<Figure size 432x288 with 1 Axes>"
      ]
     },
     "metadata": {
      "needs_background": "light"
     },
     "output_type": "display_data"
    }
   ],
   "source": [
    "# Default mass function object.\n",
    "mf = hmf.MassFunction(hmf_model = \"SMT\", Mmax=15, disable_mass_conversion=False)\n",
    "dndm0 = mf.dndm\n",
    "\n",
    "# Change the mass definition to 300rho_mean\n",
    "mf.update(\n",
    "    mdef_model  = \"SOMean\", \n",
    "    mdef_params = {\n",
    "        \"overdensity\": 300 \n",
    "    }\n",
    ")\n",
    "plt.plot(mf.m, mf.dndm/dndm0, label=r\"300 $\\rho_m$\", lw=3)\n",
    "\n",
    "\n",
    "# Change the mass definition to 500rho_crit\n",
    "mf.update(\n",
    "    mdef_model  = \"SOCritical\", \n",
    "    mdef_params = {\n",
    "        \"overdensity\": 500 \n",
    "    }\n",
    ")\n",
    "plt.plot(mf.m, mf.dndm/dndm0, label=r\"500 $\\rho_c$\", lw=3)\n",
    "\n",
    "plt.xscale('log')\n",
    "plt.yscale('log')\n",
    "plt.xlabel(r\"Mass, $M_\\odot/h$\", fontsize=15)\n",
    "plt.ylabel(r\"Ratio of $dn/dm$ to virial\", fontsize=15)\n",
    "plt.grid(True)\n",
    "plt.legend();"
   ]
  },
  {
   "cell_type": "markdown",
   "metadata": {},
   "source": [
    "Here, the measured mass function uses \"virial\" halos, which have an overdensity of ~330$\\rho_m$, so that converting to 300$\\rho_m$ is a down-conversion of density. Finally, we convert a FoF mass function:"
   ]
  },
  {
   "cell_type": "code",
   "execution_count": 3,
   "metadata": {},
   "outputs": [
    {
     "name": "stderr",
     "output_type": "stream",
     "text": [
      "/home/steven/Documents/Projects/halos/HMF/hmf/src/hmf/mass_function/hmf.py:291: UserWarning: Your input mass definition 'FoF(l=0.3)' does not match the mass definition in which the hmf fit Jenkins was measured:'FoF(l=0.2)'. The mass function will be converted to your input definition, but note that some properties do not survive the conversion, eg. the integral of the hmf over mass yielding the total mean density.\n",
      "  f\"Your input mass definition '{mdef}' does not match the mass \"\n",
      "/home/steven/miniconda3/envs/hmf/lib/python3.7/site-packages/halomod/halo_exclusion.py:17: UserWarning: Warning: Some Halo-Exclusion models have significant speedup when using Numba\n",
      "  \"Warning: Some Halo-Exclusion models have significant speedup when using Numba\"\n",
      "/home/steven/Documents/Projects/halos/HMF/hmf/src/hmf/mass_function/hmf.py:291: UserWarning: Your input mass definition 'SOVirial' does not match the mass definition in which the hmf fit Jenkins was measured:'FoF(l=0.2)'. The mass function will be converted to your input definition, but note that some properties do not survive the conversion, eg. the integral of the hmf over mass yielding the total mean density.\n",
      "  f\"Your input mass definition '{mdef}' does not match the mass \"\n"
     ]
    },
    {
     "data": {
      "image/png": "[encoded data removed]",
      "text/plain": [
       "<Figure size 432x288 with 1 Axes>"
      ]
     },
     "metadata": {
      "needs_background": "light"
     },
     "output_type": "display_data"
    }
   ],
   "source": [
    "# Default mass function object.\n",
    "mf = hmf.MassFunction(hmf_model = \"Jenkins\", disable_mass_conversion=False)\n",
    "dndm0 = mf.dndm\n",
    "\n",
    "# Change the mass definition to 300rho_mean\n",
    "mf.update(\n",
    "    mdef_model  = \"FOF\", \n",
    "    mdef_params = {\n",
    "        \"linking_length\": 0.3 \n",
    "    }\n",
    ")\n",
    "plt.plot(mf.m, mf.dndm/dndm0, label=r\"FoF $b=0.3$\", lw=3)\n",
    "\n",
    "\n",
    "# Change the mass definition to 500rho_crit\n",
    "mf.update(\n",
    "    mdef_model  = \"SOVirial\",\n",
    "    mdef_params = {}   # NOTE: we need to pass an empty dict here \n",
    "                       # so that the \"linking_length\" argument is removed.\n",
    ")\n",
    "plt.plot(mf.m, mf.dndm/dndm0, label=r\"SO Virial\", lw=3)\n",
    "\n",
    "plt.xscale('log')\n",
    "plt.yscale('log')\n",
    "plt.xlabel(r\"Mass, $M_\\odot/h$\", fontsize=15)\n",
    "plt.ylabel(r\"Ratio of $dn/dm$ to FoF $b=0.2$\", fontsize=15)\n",
    "plt.grid(True)\n",
    "plt.legend();"
   ]
  },
  {
   "cell_type": "markdown",
   "metadata": {},
   "source": [
    "To see the difference between an assumed mass conversion and a properly re-fit mass function, we can compute an automatically-converted mass function for `Bocquet2016`, and compare to the refit:"
   ]
  },
  {
   "cell_type": "code",
   "execution_count": 4,
   "metadata": {},
   "outputs": [
    {
     "name": "stderr",
     "output_type": "stream",
     "text": [
      "/home/steven/Documents/Projects/halos/HMF/hmf/src/hmf/mass_function/hmf.py:291: UserWarning: Your input mass definition 'SOCritical(200)' does not match the mass definition in which the hmf fit Bocquet200mDMOnly was measured:'SOMean(200.0)'. The mass function will be converted to your input definition, but note that some properties do not survive the conversion, eg. the integral of the hmf over mass yielding the total mean density.\n",
      "  f\"Your input mass definition '{mdef}' does not match the mass \"\n",
      "/home/steven/Documents/Projects/halos/HMF/hmf/src/hmf/mass_function/hmf.py:291: UserWarning: Your input mass definition 'SOCritical(500)' does not match the mass definition in which the hmf fit Bocquet200mDMOnly was measured:'SOMean(200.0)'. The mass function will be converted to your input definition, but note that some properties do not survive the conversion, eg. the integral of the hmf over mass yielding the total mean density.\n",
      "  f\"Your input mass definition '{mdef}' does not match the mass \"\n"
     ]
    },
    {
     "data": {
      "image/png": "[encoded data removed]",
      "text/plain": [
       "<Figure size 432x288 with 1 Axes>"
      ]
     },
     "metadata": {
      "needs_background": "light"
     },
     "output_type": "display_data"
    }
   ],
   "source": [
    "# Default mass function object.\n",
    "mf200c_conv = hmf.MassFunction(hmf_model = \"Bocquet200mDMOnly\", mdef_model='SOCritical', mdef_params={'overdensity': 200}, disable_mass_conversion=False)\n",
    "mf500c_conv = hmf.MassFunction(hmf_model = \"Bocquet200mDMOnly\", mdef_model='SOCritical', mdef_params={'overdensity': 500}, disable_mass_conversion=False)\n",
    "mf200c_refit = hmf.MassFunction(hmf_model = \"Bocquet200cDMOnly\")\n",
    "mf500c_refit = hmf.MassFunction(hmf_model = \"Bocquet500cDMOnly\")\n",
    "\n",
    "m = mf200c_conv.m\n",
    "\n",
    "fig, ax = plt.subplots(1, 1, sharex=True)\n",
    "ax = [ax]\n",
    "ax[0].plot(m, mf200c_conv.dndm/mf200c_refit.dndm - 1, color='k', label='200c')\n",
    "ax[0].plot(m, mf200c_conv.fsigma/(mf200c_refit.fsigma/mf200c_refit.hmf.convert_mass()) - 1, color='r')\n",
    "\n",
    "ax[0].plot(m, mf500c_conv.dndm/mf500c_refit.dndm - 1, ls='--', color='k', label='500c')\n",
    "ax[0].plot(m, mf500c_conv.fsigma/(mf500c_refit.fsigma/mf500c_refit.hmf.convert_mass()) - 1, color='r', ls='--')\n",
    "\n",
    "ax[0].set_xscale('log')\n",
    "ax[0].set_xlabel(r\"Mass, $M_\\odot/h$\", fontsize=15)\n",
    "ax[0].set_ylabel(r\"dn/dm\", fontsize=15)\n",
    "ax[0].grid(True)\n",
    "ax[0].legend();\n",
    "\n",
    "ax[0].set_ylim(-0.5, 0.5)\n",
    "ax[0].set_ylabel(\"Fractional Diff.\")\n",
    "ax[0].set_title(\"Comparison of Mass Conversion to Refit\");\n",
    "plt.savefig(\"/home/steven/Desktop/comparison_of_massconv_to_refit.pdf\")"
   ]
  },
  {
   "cell_type": "markdown",
   "metadata": {},
   "source": [
    "We see that the conversion is only accurate to ~20% at lower masses, and blows up at high masses. The red lines here are directly using the fits for $m'/m$ given in Bocquet et al (2016) (instead of actually converting mass definitions using a halo profile). There is some discrepancy between that fit and the conversion, resulting in the discrepancy here. "
   ]
  }
 ],
 "metadata": {
  "celltoolbar": "Initialization Cell",
  "kernelspec": {
   "display_name": "Python [conda env:hmf]",
   "language": "python",
   "name": "conda-env-hmf-py"
  },
  "language_info": {
   "codemirror_mode": {
    "name": "ipython",
    "version": 3
   },
   "file_extension": ".py",
   "mimetype": "text/x-python",
   "name": "python",
   "nbconvert_exporter": "python",
   "pygments_lexer": "ipython3",
   "version": "3.7.0"
  },
  "latex_envs": {
   "LaTeX_envs_menu_present": true,
   "autoclose": false,
   "autocomplete": true,
   "bibliofile": "biblio.bib",
   "cite_by": "apalike",
   "current_citInitial": 1,
   "eqLabelWithNumbers": true,
   "eqNumInitial": 1,
   "hotkeys": {
    "equation": "Ctrl-E",
    "itemize": "Ctrl-I"
   },
   "labels_anchors": false,
   "latex_user_defs": false,
   "report_style_numbering": false,
   "user_envs_cfg": false
  },
  "toc": {
   "base_numbering": 1,
   "nav_menu": {},
   "number_sections": true,
   "sideBar": true,
   "skip_h1_title": false,
   "title_cell": "Table of Contents",
   "title_sidebar": "Contents",
   "toc_cell": false,
   "toc_position": {},
   "toc_section_display": true,
   "toc_window_display": false
  }
 },
 "nbformat": 4,
 "nbformat_minor": 1
}
