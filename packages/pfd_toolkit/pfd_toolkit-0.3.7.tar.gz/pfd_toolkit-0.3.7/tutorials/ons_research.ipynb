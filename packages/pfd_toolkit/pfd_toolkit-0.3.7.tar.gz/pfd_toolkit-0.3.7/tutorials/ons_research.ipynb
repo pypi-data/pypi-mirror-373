{
 "cells": [
  {
   "cell_type": "markdown",
   "metadata": {},
   "source": [
    "## Automating ONS Research on Child Suicides\n",
    "\n",
    "In February 2025, the ONS published [research](https://www.ons.gov.uk/peoplepopulationandcommunity/healthandsocialcare/mentalhealth/bulletins/preventionoffuturedeathreportsforsuicideinchildreninenglandandwales/january2015tonovember2023) analysing:\n",
    "\n",
    "> Prevention of Future Death reports for suicide in children in England and Wales: January 2015 to November 2023\n",
    "\n",
    "This notebook asks:\n",
    "\n",
    "1. Can a fully automated, LLM-based pipeline accurately identify at least as many child-suicide PFD reports compared to the ONS's manual review?\n",
    "\n",
    "2. What efficiency gains, measured in time and resource requirements, are achieved by replacing manual identification and coding with a fully automated workflow?"
   ]
  },
  {
   "cell_type": "code",
   "execution_count": 1,
   "metadata": {},
   "outputs": [],
   "source": [
    "# Time the entire workflow\n",
    "\n",
    "import time\n",
    "start = time.time()"
   ]
  },
  {
   "cell_type": "markdown",
   "metadata": {},
   "source": [
    "### Identifying the reports\n",
    "\n",
    "#### Loading all reports"
   ]
  },
  {
   "cell_type": "code",
   "execution_count": 2,
   "metadata": {},
   "outputs": [
    {
     "name": "stdout",
     "output_type": "stream",
     "text": [
      "In total, there were 4238 PFD reports published between July 2013 and November 2023.\n"
     ]
    }
   ],
   "source": [
    "from pfd_toolkit import load_reports, _tabulate\n",
    "\n",
    "reports = load_reports(end_date=\"2023-01-01\")\n",
    "\n",
    "print(f\"In total, there were {len(reports)} PFD reports published between July 2013 and November 2023.\")"
   ]
  },
  {
   "cell_type": "markdown",
   "metadata": {},
   "source": [
    "#### Create 'Screener' specification to filter reports\n",
    "\n",
    "**Note:** The ONS analysis defines a \"child\" as \"aged 18 years and under,\" with included cases ranging from 12 to 18 years old. \n",
    "\n",
    "A core advantage of LLMs is its ability to read between the lines and make classifications based on 'cues' in the text. For example, we should classify the deceased as being a child even if age was not mentioned, but can be inferred through mentioning things like \"CAMHS\" and \"Year 10 in school\".\n",
    "\n",
    "First, we need to set up the LLM and Screener modules...\n"
   ]
  },
  {
   "cell_type": "code",
   "execution_count": 3,
   "metadata": {},
   "outputs": [],
   "source": [
    "from pfd_toolkit import LLM, Screener\n",
    "from dotenv import load_dotenv\n",
    "import os\n",
    "\n",
    "# Load OpenAI API key from local environment\n",
    "load_dotenv(\"api.env\")\n",
    "openai_api_key = os.getenv(\"OPENAI_API_KEY\")\n",
    "\n",
    "# Initialise LLM client\n",
    "llm_client = LLM(api_key=openai_api_key, \n",
    "                 max_workers=35, model=\"gpt-4.1-mini\",\n",
    "                 seed=12345, temperature=0, timeout=300)\n",
    "\n",
    "# Set up Screener\n",
    "search_query = (\n",
    "\"Where the deceased is 18 or younger *at the time of death* **AND** the death was due to suicide.\" \n",
    ")\n",
    "\n",
    "child_suicide_screener = Screener(llm=llm_client,\n",
    "                                  reports=reports)"
   ]
  },
  {
   "cell_type": "markdown",
   "metadata": {},
   "source": [
    "This will generate a prompt to our LLM. We can see what this prompt looks like:"
   ]
  },
  {
   "cell_type": "code",
   "execution_count": 4,
   "metadata": {},
   "outputs": [
    {
     "name": "stdout",
     "output_type": "stream",
     "text": [
      "You are an expert text classification assistant. Your task is to read the following excerpt from a Prevention of Future Death (PFD) report and decide whether it matches the user's query. \n",
      "\n",
      "**Instructions:** \n",
      "- Only respond 'Yes' if **all** elements of the user query are clearly present in the report. \n",
      "- If any required element is missing or there is not enough information, respond 'No'. \n",
      "- You may not infer or make judgements; the evidence must be clear.- Make sure any user query related to the deceased is concerned with them *only*, not other persons.\n",
      "- Your response must be a JSON object in which 'matches_topic' can be either 'Yes' or 'No'. \n",
      "\n",
      "**User query:** \n",
      "'Where the deceased is 18 or younger *at the time of death* **AND** the death was due to suicide.'\n",
      "Here is the PFD report excerpt:\n",
      "\n",
      "{report_excerpt}\n"
     ]
    }
   ],
   "source": [
    "print(child_suicide_screener._build_prompt_template(search_query))"
   ]
  },
  {
   "cell_type": "markdown",
   "metadata": {},
   "source": [
    "Now we can run the Screener and assign the results to `child_suicide_reports`."
   ]
  },
  {
   "cell_type": "code",
   "execution_count": 5,
   "metadata": {},
   "outputs": [
    {
     "name": "stderr",
     "output_type": "stream",
     "text": [
      "Sending requests to the LLM: 100%|██████████| 4238/4238 [01:41<00:00, 41.75it/s]"
     ]
    },
    {
     "name": "stdout",
     "output_type": "stream",
     "text": [
      "\n",
      "    \n",
      "From the initial 4238 reports, PFD Toolkit identified 78 reports on child suicide.\n",
      "    \n",
      "This compares to 37 reports identified by the ONS.\n",
      "    \n"
     ]
    },
    {
     "name": "stderr",
     "output_type": "stream",
     "text": [
      "\n"
     ]
    }
   ],
   "source": [
    "child_suicide_reports = child_suicide_screener.screen_reports(\n",
    "    search_query=search_query,\n",
    "    produce_spans=True\n",
    ")\n",
    "\n",
    "print(\n",
    "    f\"\"\"\n",
    "    \\nFrom the initial {len(reports)} reports, PFD Toolkit identified {len(child_suicide_reports)} reports on child suicide.\n",
    "    \\nThis compares to 37 reports identified by the ONS.\n",
    "    \"\"\"\n",
    ")"
   ]
  },
  {
   "cell_type": "markdown",
   "metadata": {},
   "source": [
    "---"
   ]
  },
  {
   "cell_type": "code",
   "execution_count": 6,
   "metadata": {},
   "outputs": [],
   "source": [
    "# Save & reload reports to keep progress...\n",
    "child_suicide_reports.to_csv('../data/child_suicide.csv')"
   ]
  },
  {
   "cell_type": "code",
   "execution_count": 7,
   "metadata": {},
   "outputs": [
    {
     "data": {
      "text/plain": [
       "78"
      ]
     },
     "execution_count": 7,
     "metadata": {},
     "output_type": "execute_result"
    }
   ],
   "source": [
    "import pandas as pd\n",
    "child_suicide_reports = pd.read_csv('../data/child_suicide.csv')\n",
    "len(child_suicide_reports)"
   ]
  },
  {
   "cell_type": "markdown",
   "metadata": {},
   "source": [
    "---"
   ]
  },
  {
   "cell_type": "markdown",
   "metadata": {},
   "source": [
    "### Categorise addressees\n",
    "\n",
    "The ONS produced a table, where they categorised report recipients into at least one of the below (reports can have more than one recipient):\n",
    "\n",
    "* Government department or minister\n",
    "* NHS Trust or CCG\n",
    "* Professional body\n",
    "* Local council\n",
    "* Other\n",
    "\n",
    "To replicate this, we can use PFD's `Extractor` module..."
   ]
  },
  {
   "cell_type": "code",
   "execution_count": 8,
   "metadata": {},
   "outputs": [
    {
     "name": "stderr",
     "output_type": "stream",
     "text": [
      "Extracting features: 100%|██████████| 78/78 [00:05<00:00, 13.45it/s]\n"
     ]
    }
   ],
   "source": [
    "from pfd_toolkit import LLM, Extractor\n",
    "from pydantic import BaseModel, Field\n",
    "\n",
    "from dotenv import load_dotenv\n",
    "import os\n",
    "\n",
    "# Load OpenAI API key from local environment\n",
    "load_dotenv(\"api.env\")\n",
    "openai_api_key = os.getenv(\"OPENAI_API_KEY\")\n",
    "\n",
    "# Initialise LLM client\n",
    "llm_client = LLM(api_key=openai_api_key, \n",
    "                 max_workers=60, model=\"gpt-4.1-mini\",\n",
    "                 seed=12345, temperature=0)\n",
    "\n",
    "# Up the model to GPT 4.1 for better performance\n",
    "llm_client.model = \"gpt-4.1\"\n",
    "\n",
    "# Set up a feature model for recipients\n",
    "class DemoFeatures(BaseModel):\n",
    "    sent_gov: bool = Field(..., description=\"Recipient(s) include a government department or minister, but not NHS\")\n",
    "    sent_nhs: bool = Field(..., description=\"Recipient(s) include NHS Trust, CCG or ICS\")\n",
    "    sent_prof_body: bool = Field(..., description=\"Recipient(s) include an organisation with statutory responsibility for a profession (GMC, NMC, Royal Colleges, etc.)\")\n",
    "    sent_council: bool = Field(..., description=\"Recipient(s) include a local council\")\n",
    "    sent_other: bool = Field(..., description=\"Recipient(s) include some other recipient group not listed\")\n",
    "\n",
    "addressee_extractor = Extractor(reports=child_suicide_reports,\n",
    "                                llm=llm_client,\n",
    "                                \n",
    "                                # Turn 'on' receiver field; turn defaults 'off'\n",
    "                                include_receiver=True,\n",
    "                                include_circumstances=False,\n",
    "                                include_investigation=False,\n",
    "                                include_concerns=False)\n",
    "\n",
    "\n",
    "child_suicide_reports = addressee_extractor.extract_features(feature_model=DemoFeatures,\n",
    "                                                             allow_multiple=True,\n",
    "                                                             force_assign=True,\n",
    "                                                             produce_spans=True,\n",
    "                                                             drop_spans=True\n",
    "                                                             )"
   ]
  },
  {
   "cell_type": "markdown",
   "metadata": {},
   "source": [
    "#### Create summary table"
   ]
  },
  {
   "cell_type": "code",
   "execution_count": 9,
   "metadata": {},
   "outputs": [
    {
     "data": {
      "text/html": [
       "<div>\n",
       "<style scoped>\n",
       "    .dataframe tbody tr th:only-of-type {\n",
       "        vertical-align: middle;\n",
       "    }\n",
       "\n",
       "    .dataframe tbody tr th {\n",
       "        vertical-align: top;\n",
       "    }\n",
       "\n",
       "    .dataframe thead th {\n",
       "        text-align: right;\n",
       "    }\n",
       "</style>\n",
       "<table border=\"1\" class=\"dataframe\">\n",
       "  <thead>\n",
       "    <tr style=\"text-align: right;\">\n",
       "      <th></th>\n",
       "      <th>Category</th>\n",
       "      <th>Count</th>\n",
       "      <th>Percentage</th>\n",
       "    </tr>\n",
       "  </thead>\n",
       "  <tbody>\n",
       "    <tr>\n",
       "      <th>0</th>\n",
       "      <td>Government department or minister</td>\n",
       "      <td>39</td>\n",
       "      <td>50.000000</td>\n",
       "    </tr>\n",
       "    <tr>\n",
       "      <th>1</th>\n",
       "      <td>NHS Trust, CCG or ICS</td>\n",
       "      <td>39</td>\n",
       "      <td>50.000000</td>\n",
       "    </tr>\n",
       "    <tr>\n",
       "      <th>2</th>\n",
       "      <td>Professional body</td>\n",
       "      <td>9</td>\n",
       "      <td>11.538462</td>\n",
       "    </tr>\n",
       "    <tr>\n",
       "      <th>3</th>\n",
       "      <td>Local authority</td>\n",
       "      <td>14</td>\n",
       "      <td>17.948718</td>\n",
       "    </tr>\n",
       "    <tr>\n",
       "      <th>4</th>\n",
       "      <td>Other</td>\n",
       "      <td>33</td>\n",
       "      <td>42.307692</td>\n",
       "    </tr>\n",
       "  </tbody>\n",
       "</table>\n",
       "</div>"
      ],
      "text/plain": [
       "                            Category  Count  Percentage\n",
       "0  Government department or minister     39   50.000000\n",
       "1              NHS Trust, CCG or ICS     39   50.000000\n",
       "2                  Professional body      9   11.538462\n",
       "3                    Local authority     14   17.948718\n",
       "4                              Other     33   42.307692"
      ]
     },
     "execution_count": 9,
     "metadata": {},
     "output_type": "execute_result"
    }
   ],
   "source": [
    "from pfd_toolkit import _tabulate\n",
    "\n",
    "_tabulate(child_suicide_reports, columns=[\"sent_gov\",\n",
    "                                              \"sent_nhs\",\n",
    "                                              \"sent_prof_body\",\n",
    "                                              \"sent_council\",\n",
    "                                              \"sent_other\"],\n",
    "              labels=[\"Government department or minister\",\n",
    "                      \"NHS Trust, CCG or ICS\",\n",
    "                      \"Professional body\",\n",
    "                      \"Local authority\",\n",
    "                      \"Other\"])"
   ]
  },
  {
   "cell_type": "markdown",
   "metadata": {},
   "source": [
    "We can now compare this with ONS's own table...\n",
    "\n",
    "| Addressee                         | No of reports | %  |\n",
    "|----------------------------------|---------------|----|\n",
    "| Government department or minister| 15            | 41 |\n",
    "| NHS Trust or CCG                 | 15            | 41 |\n",
    "| Professional body                | 12            | 32 |\n",
    "| Local council                    | 8             | 22 |\n",
    "| Other                            | 10            | 27 |\n",
    "\n",
    "\n",
    "The big point of difference here is assignment to 'professional body'. In ONS's research, this reflected 32% of reports, but ours is only 10%. Despite us identifying a significantly higher number of reports, our absolute value of reports for this addressee category is lower than that of ONS (6 vs. 12, respectively.)\n",
    "\n",
    "In ONS's report and accompanying metadata spreadsheet, I was unable to find a definition of 'professional body'. So I used what I think is a reasonable definition:\n",
    "\n",
    "> \"An organisation with statutory responsibility for a profession (e.g. GMC, Nursing and Midwifery Council, Royal Colleges, etc.)\"\n",
    "\n",
    "It's therefore possible that this discrepency is caused by a definitional mismatch."
   ]
  },
  {
   "cell_type": "markdown",
   "metadata": {},
   "source": [
    "---"
   ]
  },
  {
   "cell_type": "markdown",
   "metadata": {},
   "source": [
    "### Categorise 'themes' from coroner concerns\n",
    "\n",
    "ONS coded the **coroner's concerns** sections into 6 primary themes: service provision, staffing & resourcing, communication, multiple services involved in care, accessing services, access to harmful content & environment. \n",
    "\n",
    "Across all of these themes were 23 sub-themes."
   ]
  },
  {
   "cell_type": "code",
   "execution_count": 10,
   "metadata": {},
   "outputs": [
    {
     "name": "stderr",
     "output_type": "stream",
     "text": [
      "Extracting features: 100%|██████████| 78/78 [00:30<00:00,  2.54it/s]\n"
     ]
    }
   ],
   "source": [
    "# Just like we did with addressees, create a feature model with all fields and descriptions.\n",
    "\n",
    "class ThemeFeatures(BaseModel):\n",
    "    sp_sop_inadequate: bool = Field(\n",
    "        ..., \n",
    "        description=\"Standard operating procedures (e.g. note taking, monitoring, observations) don't exist, are unclear, or not followed correctly\"\n",
    "    )\n",
    "    sp_specialist_services: bool = Field(\n",
    "        ..., \n",
    "        description=\"Specialist services unavailable or insufficient (e.g. issues with crisis teams, urgent inpatient beds, special educational needs, autism support, deprioritised services, etc.)\"\n",
    "    )\n",
    "    sp_risk_assessment: bool = Field(\n",
    "        ..., \n",
    "        description=\"Risk assessment documents not completed, assessed inadequately, not updated, not communicated, etc.\"\n",
    "    )\n",
    "    sp_discharge: bool = Field(\n",
    "        ..., \n",
    "        description=\"Discharge without review or liaison, self-discharge when detention may be required, poor communication of care requirements to community teams, uncoordinated post-discharge care, inadequate care packages, etc.\"\n",
    "    )\n",
    "    sp_diagnostics: bool = Field(\n",
    "        ..., \n",
    "        description=\"Delayed diagnosis, misdiagnosis, lack of caregiver support for a specific diagnosis, lack of specialist diagnostic training, etc.\"\n",
    "    )\n",
    "\n",
    "    sr_training: bool = Field(\n",
    "        ..., \n",
    "        description=\"Inadequate staff knowledge of suicide-prevention processes, missing grab bags or anti-ligature tools, staff not following procedures, training gaps, etc.\"\n",
    "    )\n",
    "    sr_inadequate_staffing: bool = Field(\n",
    "        ..., \n",
    "        description=\"Staff not appropriately qualified, inexperienced case worker assigned, or other inadequate staffing levels\"\n",
    "    )\n",
    "    sr_funding: bool = Field(\n",
    "        ..., \n",
    "        description=\"Lack of funding to CAMHS services etc., preventing recruitment or provision of specialist services\"\n",
    "    )\n",
    "    sr_recruitment_retention: bool = Field(\n",
    "        ..., \n",
    "        description=\"Unable to recruit specialist staff or retain an adequate number of staff\"\n",
    "    )\n",
    "\n",
    "    comm_between_services: bool = Field(\n",
    "        ..., \n",
    "        description=\"Lack of communication between CAMHS and foster or care services or schools, or information sharing between services not possible or not conducted, etc.\"\n",
    "    )\n",
    "    comm_patient_family: bool = Field(\n",
    "        ..., \n",
    "        description=\"Lack of communication from CAMHS with child and/or parent, including insufficient family involvement, support or signposting, etc.\"\n",
    "    )\n",
    "    comm_confidentiality_risk: bool = Field(\n",
    "        ..., \n",
    "        description=\"Instances where professionals did not communicate with parents or caregivers, resulting in missed opportunities to intervene\"\n",
    "    )\n",
    "    comm_within_services: bool = Field(\n",
    "        ..., \n",
    "        description=\"Inadequate communication of policies to staff, inadequate note keeping or record sharing, unclear responsibility for care coordination within a service\"\n",
    "    )\n",
    "\n",
    "    msic_integration_care: bool = Field(\n",
    "        ..., \n",
    "        description=\"Care coordinator not assigned or unclear responsibility for coordinating care needs across multiple services\"\n",
    "    )\n",
    "    msic_local_authority: bool = Field(\n",
    "        ..., \n",
    "        description=\"Lack of social services involvement, no social worker, inadequate safeguarding checks, lack of specialist support in schools, missing school safety plan, etc.\"\n",
    "    )\n",
    "    msic_transition_camhs: bool = Field(\n",
    "        ..., \n",
    "        description=\"Lack of support transitioning from CAMHS to adult services or unclear guidance for 16–18-year-olds\"\n",
    "    )\n",
    "\n",
    "    as_delays_waiting: bool = Field(\n",
    "        ..., \n",
    "        description=\"Delay in GP or CAMHS referrals, CAMHS picking up referral, offering appointments, excessive waiting times leading to inappropriate referral, or COVID-19 related delays\"\n",
    "    )\n",
    "    as_referral_rejected: bool = Field(\n",
    "        ..., \n",
    "        description=\"Referral rejected due to waiting times, lack of staff, inadequate risk assessment, or complex needs not met by CAMHS\"\n",
    "    )\n",
    "    as_patient_engagement: bool = Field(\n",
    "        ..., \n",
    "        description=\"Inadequate contact with child or parent regarding referral, or patient refusal to engage followed by insufficient follow-up\"\n",
    "    )\n",
    "\n",
    "    ahce_internet: bool = Field(\n",
    "        ..., \n",
    "        description=\"Lack of internet safeguarding in school or failure of websites or social media to block harmful content\"\n",
    "    )\n",
    "    ahce_safeguarding_sensitive: bool = Field(\n",
    "        ..., \n",
    "        description=\"Sensitive questions or material presented to a child without adequate follow-up, adult support, warnings, or consideration of safety\"\n",
    "    )\n",
    "    ahce_harmful_items: bool = Field(\n",
    "        ..., \n",
    "        description=\"Access to items that can be used to harm or ligature, or access to alcohol, drugs, or substances where safety concerns are known\"\n",
    "    )\n",
    "    ahce_trainline: bool = Field(\n",
    "        ..., \n",
    "        description=\"Ability to access railway environments where access should be prevented, such as inadequate fencing\"\n",
    "    )\n",
    "\n",
    "\n",
    "# Instantiate Extractor once, covering all of the above features in one go.\n",
    "theme_extractor = Extractor(\n",
    "    reports=child_suicide_reports,\n",
    "    llm=llm_client,\n",
    "\n",
    "    # We only care about the Concerns section here\n",
    "    include_receiver=False,\n",
    "    include_circumstances=False,\n",
    "    include_investigation=False,\n",
    "    include_concerns=True\n",
    ")\n",
    "\n",
    "\n",
    "child_suicide_reports = theme_extractor.extract_features(feature_model=ThemeFeatures,\n",
    "                                                         allow_multiple=True,\n",
    "                                                         force_assign=True,\n",
    "                                                         produce_spans=True)\n"
   ]
  },
  {
   "cell_type": "markdown",
   "metadata": {},
   "source": [
    "#### Create summary theme tables\n",
    "\n",
    "We can now mirror the tables that ONS produced in their own report. \n",
    "\n",
    "However, while ONS reported \"number of mentions\" we count \"number of reports\". ONS likely counted mentions because they were using NVIVO, but it's more informative to count reports (reports vary a great deal in length, and so counting distinct mentions can bias results towards longer reports)."
   ]
  },
  {
   "cell_type": "code",
   "execution_count": 11,
   "metadata": {},
   "outputs": [
    {
     "name": "stdout",
     "output_type": "stream",
     "text": [
      "\n",
      "Primary theme: Service provision\n",
      "                                                        Sub-theme  Number of reports\n",
      "Standard operating procedures/ processes not followed or adequate                 43\n",
      "                       Specialist services (crisis, autism, beds)                 22\n",
      "                                                  Risk assessment                 28\n",
      "                                          Discharge from services                  5\n",
      "                                                      Diagnostics                  9\n",
      "\n",
      "---\n",
      "\n",
      "Primary theme: Staffing and resourcing\n",
      "\n",
      "                Sub-theme  Number of reports\n",
      "                 Training                 31\n",
      "      Inadequate staffing                 16\n",
      "                  Funding                 13\n",
      "Recruitment and retention                  4\n",
      "\n",
      "---\n",
      "\n",
      "Primary theme: Communication\n",
      "\n",
      "                            Sub-theme  Number of reports\n",
      "                     Between services                 31\n",
      "              With patient and family                 17\n",
      "Confidentiality risk not communicated                  6\n",
      "                      Within services                 20\n",
      "\n",
      "---\n",
      "\n",
      "Primary theme: Multiple services involved in care\n",
      "\n",
      "                                     Sub-theme  Number of reports\n",
      "                           Integration of care                 14\n",
      "Local Authority (incl child services, schools)                 15\n",
      "                         Transition from CAMHS                  6\n",
      "\n",
      "---\n",
      "\n",
      "Primary theme: Accessing services\n",
      "\n",
      "                            Sub-theme  Number of reports\n",
      "Delays in referrals and waiting times                 19\n",
      "                    Referral rejected                  7\n",
      "                   Patient engagement                 11\n",
      "\n",
      "---\n",
      "\n",
      "Primary theme: Access to harmful content and environment\n",
      "\n",
      "                           Sub-theme  Number of reports\n",
      "                            Internet                  4\n",
      "Safeguarding from sensitive material                  2\n",
      "           Harmful items/ substances                 12\n",
      "                           Trainline                  4\n"
     ]
    }
   ],
   "source": [
    "# 1. Service provision\n",
    "print(\"\\nPrimary theme: Service provision\")\n",
    "service_provision_config = [\n",
    "    {\n",
    "        \"name\": \"Standard operating procedures/ processes not followed or adequate\",\n",
    "        \"col\": \"sp_sop_inadequate\",\n",
    "    },\n",
    "    {\n",
    "        \"name\": \"Specialist services (crisis, autism, beds)\",\n",
    "        \"col\": \"sp_specialist_services\",\n",
    "    },\n",
    "    {\"name\": \"Risk assessment\", \"col\": \"sp_risk_assessment\"},\n",
    "    {\"name\": \"Discharge from services\", \"col\": \"sp_discharge\"},\n",
    "    {\"name\": \"Diagnostics\", \"col\": \"sp_diagnostics\"},\n",
    "]\n",
    "service_provision_data = [\n",
    "    {\n",
    "        \"Sub-theme\": theme[\"name\"],\n",
    "        \"Number of reports\": int(child_suicide_reports[theme[\"col\"]].sum()),\n",
    "    }\n",
    "    for theme in service_provision_config\n",
    "]\n",
    "service_provision_df = pd.DataFrame(service_provision_data)\n",
    "print(service_provision_df.to_string(index=False))\n",
    "\n",
    "# 2. Staffing and resourcing \n",
    "print(\"\\n---\\n\\nPrimary theme: Staffing and resourcing\\n\")\n",
    "staffing_resourcing_config = [\n",
    "    {\"name\": \"Training\", \"col\": \"sr_training\"},\n",
    "    {\"name\": \"Inadequate staffing\", \"col\": \"sr_inadequate_staffing\"},\n",
    "    {\"name\": \"Funding\", \"col\": \"sr_funding\"},\n",
    "    {\"name\": \"Recruitment and retention\", \"col\": \"sr_recruitment_retention\"},\n",
    "]\n",
    "staffing_resourcing_data = [\n",
    "    {\n",
    "        \"Sub-theme\": theme[\"name\"],\n",
    "        \"Number of reports\": int(child_suicide_reports[theme[\"col\"]].sum()),\n",
    "    }\n",
    "    for theme in staffing_resourcing_config\n",
    "]\n",
    "staffing_resourcing_df = pd.DataFrame(staffing_resourcing_data)\n",
    "print(staffing_resourcing_df.to_string(index=False))\n",
    "\n",
    "# 3. Communication\n",
    "print(\"\\n---\\n\\nPrimary theme: Communication\\n\")\n",
    "communication_config = [\n",
    "    {\"name\": \"Between services\", \"col\": \"comm_between_services\"},\n",
    "    {\"name\": \"With patient and family\", \"col\": \"comm_patient_family\"},\n",
    "    {\n",
    "        \"name\": \"Confidentiality risk not communicated\",\n",
    "        \"col\": \"comm_confidentiality_risk\",\n",
    "    },\n",
    "    {\"name\": \"Within services\", \"col\": \"comm_within_services\"},\n",
    "]\n",
    "communication_data = [\n",
    "    {\n",
    "        \"Sub-theme\": theme[\"name\"],\n",
    "        \"Number of reports\": int(child_suicide_reports[theme[\"col\"]].sum()),\n",
    "    }\n",
    "    for theme in communication_config\n",
    "]\n",
    "communication_df = pd.DataFrame(communication_data)\n",
    "print(communication_df.to_string(index=False))\n",
    "\n",
    "# 4. Multiple services involved in care\n",
    "print(\"\\n---\\n\\nPrimary theme: Multiple services involved in care\\n\")\n",
    "multi_services_config = [\n",
    "    {\"name\": \"Integration of care\", \"col\": \"msic_integration_care\"},\n",
    "    {\n",
    "        \"name\": \"Local Authority (incl child services, schools)\",\n",
    "        \"col\": \"msic_local_authority\",\n",
    "    },\n",
    "    {\"name\": \"Transition from CAMHS\", \"col\": \"msic_transition_camhs\"},\n",
    "]\n",
    "multi_services_data = [\n",
    "    {\n",
    "        \"Sub-theme\": theme[\"name\"],\n",
    "        \"Number of reports\": int(child_suicide_reports[theme[\"col\"]].sum()),\n",
    "    }\n",
    "    for theme in multi_services_config\n",
    "]\n",
    "multi_services_df = pd.DataFrame(multi_services_data)\n",
    "print(multi_services_df.to_string(index=False))\n",
    "\n",
    "# 5. Accessing services \n",
    "print(\"\\n---\\n\\nPrimary theme: Accessing services\\n\")\n",
    "accessing_services_config = [\n",
    "    {\"name\": \"Delays in referrals and waiting times\", \"col\": \"as_delays_waiting\"},\n",
    "    {\"name\": \"Referral rejected\", \"col\": \"as_referral_rejected\"},\n",
    "    {\"name\": \"Patient engagement\", \"col\": \"as_patient_engagement\"},\n",
    "]\n",
    "accessing_services_data = [\n",
    "    {\n",
    "        \"Sub-theme\": theme[\"name\"],\n",
    "        \"Number of reports\": int(child_suicide_reports[theme[\"col\"]].sum()),\n",
    "    }\n",
    "    for theme in accessing_services_config\n",
    "]\n",
    "accessing_services_df = pd.DataFrame(accessing_services_data)\n",
    "print(accessing_services_df.to_string(index=False))\n",
    "\n",
    "# 6. Access to harmful content and environment\n",
    "print(\"\\n---\\n\\nPrimary theme: Access to harmful content and environment\\n\")\n",
    "harmful_content_config = [\n",
    "    {\"name\": \"Internet\", \"col\": \"ahce_internet\"},\n",
    "    {\n",
    "        \"name\": \"Safeguarding from sensitive material\",\n",
    "        \"col\": \"ahce_safeguarding_sensitive\",\n",
    "    },\n",
    "    {\"name\": \"Harmful items/ substances\", \"col\": \"ahce_harmful_items\"},\n",
    "    {\"name\": \"Trainline\", \"col\": \"ahce_trainline\"},\n",
    "]\n",
    "harmful_content_data = [\n",
    "    {\n",
    "        \"Sub-theme\": theme[\"name\"],\n",
    "        \"Number of reports\": int(child_suicide_reports[theme[\"col\"]].sum()),\n",
    "    }\n",
    "    for theme in harmful_content_config\n",
    "]\n",
    "harmful_content_df = pd.DataFrame(harmful_content_data)\n",
    "print(harmful_content_df.to_string(index=False))"
   ]
  },
  {
   "cell_type": "code",
   "execution_count": 12,
   "metadata": {},
   "outputs": [],
   "source": [
    "child_suicide_reports.to_csv('../data/child_suicide_tagged.csv')"
   ]
  },
  {
   "cell_type": "markdown",
   "metadata": {},
   "source": [
    "### Check workflow runtime"
   ]
  },
  {
   "cell_type": "code",
   "execution_count": 13,
   "metadata": {},
   "outputs": [
    {
     "name": "stdout",
     "output_type": "stream",
     "text": [
      "Elapsed time: 2m 19s\n"
     ]
    }
   ],
   "source": [
    "end = time.time()\n",
    "\n",
    "elapsed_seconds = int(end - start)\n",
    "\n",
    "minutes, seconds = divmod(elapsed_seconds, 60)\n",
    "print(f\"Elapsed time: {minutes}m {seconds}s\")"
   ]
  }
 ],
 "metadata": {
  "kernelspec": {
   "display_name": ".venv",
   "language": "python",
   "name": "python3"
  },
  "language_info": {
   "codemirror_mode": {
    "name": "ipython",
    "version": 3
   },
   "file_extension": ".py",
   "mimetype": "text/x-python",
   "name": "python",
   "nbconvert_exporter": "python",
   "pygments_lexer": "ipython3",
   "version": "3.12.3"
  }
 },
 "nbformat": 4,
 "nbformat_minor": 2
}
