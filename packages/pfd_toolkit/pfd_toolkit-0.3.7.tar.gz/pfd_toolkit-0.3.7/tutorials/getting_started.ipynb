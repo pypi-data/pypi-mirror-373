{
 "cells": [
  {
   "cell_type": "markdown",
   "metadata": {},
   "source": [
    "Note: this workflow is intended to loosely mirror the tutorial provided at: https://pfdtoolkit.org/getting_started/load_and_screen/\n",
    "\n",
    "Running this notebook again might produce slightly different outputs. This is because LLMs are non-deterministic and their inherent randomness is difficult to completely eliminate."
   ]
  },
  {
   "cell_type": "code",
   "execution_count": 1,
   "metadata": {},
   "outputs": [],
   "source": [
    "# Time the entire workflow\n",
    "\n",
    "import time\n",
    "start = time.time()"
   ]
  },
  {
   "cell_type": "markdown",
   "metadata": {},
   "source": [
    "# Getting started\n",
    "\n",
    "This page talks you through an example workflow using PFD Toolkit: loading a dataset and screening for relevant cases related to \"detention under the Mental Health Act\". \n",
    "\n",
    "This is just an example. PFD reports contain a breadth of information across a whole range of topics and domains. But in this workflow, we hope to give you a sense of how the toolkit can be used, and how it might support your own project.\n",
    "\n",
    "---\n",
    "\n",
    "## Installation\n",
    "\n",
    "PFD Toolkit can be installed from pip as `pfd_toolkit`:\n",
    "\n",
    "```bash\n",
    "pip install pfd_toolkit\n",
    "```\n",
    "\n",
    "Or, to update an existing installation:\n",
    "\n",
    "```bash\n",
    "pip install -U pfd_toolkit\n",
    "\n",
    "```\n",
    "\n",
    "---"
   ]
  },
  {
   "cell_type": "markdown",
   "metadata": {},
   "source": [
    "## Load your first dataset\n",
    "\n",
    "First, you'll need to load a PFD dataset. These datasets are updated weekly, meaning you always have access to the latest reports with minimal setup."
   ]
  },
  {
   "cell_type": "code",
   "execution_count": 2,
   "metadata": {},
   "outputs": [
    {
     "data": {
      "text/html": [
       "<div>\n",
       "<style scoped>\n",
       "    .dataframe tbody tr th:only-of-type {\n",
       "        vertical-align: middle;\n",
       "    }\n",
       "\n",
       "    .dataframe tbody tr th {\n",
       "        vertical-align: top;\n",
       "    }\n",
       "\n",
       "    .dataframe thead th {\n",
       "        text-align: right;\n",
       "    }\n",
       "</style>\n",
       "<table border=\"1\" class=\"dataframe\">\n",
       "  <thead>\n",
       "    <tr style=\"text-align: right;\">\n",
       "      <th></th>\n",
       "      <th>url</th>\n",
       "      <th>id</th>\n",
       "      <th>date</th>\n",
       "      <th>coroner</th>\n",
       "      <th>area</th>\n",
       "      <th>receiver</th>\n",
       "      <th>investigation</th>\n",
       "      <th>circumstances</th>\n",
       "      <th>concerns</th>\n",
       "    </tr>\n",
       "  </thead>\n",
       "  <tbody>\n",
       "    <tr>\n",
       "      <th>0</th>\n",
       "      <td>https://www.judiciary.uk/prevention-of-future-...</td>\n",
       "      <td>2025-0209</td>\n",
       "      <td>2025-05-01</td>\n",
       "      <td>A. Hodson</td>\n",
       "      <td>Birmingham and Solihull</td>\n",
       "      <td>NHS England; The Robert Jones and Agnes Hunt O...</td>\n",
       "      <td>On 9th December 2024 I commenced an investigat...</td>\n",
       "      <td>At 10.45am on 23rd November 2024, Peter sadly ...</td>\n",
       "      <td>To The Robert Jones and Agnes Hunt Orthopaedic...</td>\n",
       "    </tr>\n",
       "    <tr>\n",
       "      <th>1</th>\n",
       "      <td>https://www.judiciary.uk/prevention-of-future-...</td>\n",
       "      <td>2025-0208</td>\n",
       "      <td>2025-04-30</td>\n",
       "      <td>J. Andrews</td>\n",
       "      <td>West Sussex, Brighton and Hove</td>\n",
       "      <td>West Sussex County Council</td>\n",
       "      <td>On 2 November 2024 I commenced an investigatio...</td>\n",
       "      <td>Mrs Turner drove her car into the canal at the...</td>\n",
       "      <td>The inquest was told that South Bank is a resi...</td>\n",
       "    </tr>\n",
       "    <tr>\n",
       "      <th>2</th>\n",
       "      <td>https://www.judiciary.uk/prevention-of-future-...</td>\n",
       "      <td>2025-0207</td>\n",
       "      <td>2025-04-30</td>\n",
       "      <td>A. Mutch</td>\n",
       "      <td>Manchester South</td>\n",
       "      <td>Flixton Road Medical Centre; Greater Mancheste...</td>\n",
       "      <td>On 1 October 2024 I commenced an investigation...</td>\n",
       "      <td>Louise Danielle Rosendale was prescribed long ...</td>\n",
       "      <td>The inquest heard evidence that Louise Rosenda...</td>\n",
       "    </tr>\n",
       "    <tr>\n",
       "      <th>3</th>\n",
       "      <td>https://www.judiciary.uk/prevention-of-future-...</td>\n",
       "      <td>2025-0120</td>\n",
       "      <td>2025-04-25</td>\n",
       "      <td>M. Hassell</td>\n",
       "      <td>Inner North London</td>\n",
       "      <td>The President Royal College Obstetricians and ...</td>\n",
       "      <td>On 23 August 2024, one of my assistant coroner...</td>\n",
       "      <td>Jannat was a big baby and her mother had a his...</td>\n",
       "      <td>With the benefit of a maternity and newborn sa...</td>\n",
       "    </tr>\n",
       "    <tr>\n",
       "      <th>4</th>\n",
       "      <td>https://www.judiciary.uk/prevention-of-future-...</td>\n",
       "      <td>2025-0206</td>\n",
       "      <td>2025-04-25</td>\n",
       "      <td>J. Heath</td>\n",
       "      <td>North Yorkshire and York</td>\n",
       "      <td>Townhead Surgery</td>\n",
       "      <td>On 4th June 2024 I commenced an investigation ...</td>\n",
       "      <td>On 15 March 2024, Richard James Moss attended ...</td>\n",
       "      <td>When a referral document is completed by a med...</td>\n",
       "    </tr>\n",
       "  </tbody>\n",
       "</table>\n",
       "</div>"
      ],
      "text/plain": [
       "                                                 url         id       date  \\\n",
       "0  https://www.judiciary.uk/prevention-of-future-...  2025-0209 2025-05-01   \n",
       "1  https://www.judiciary.uk/prevention-of-future-...  2025-0208 2025-04-30   \n",
       "2  https://www.judiciary.uk/prevention-of-future-...  2025-0207 2025-04-30   \n",
       "3  https://www.judiciary.uk/prevention-of-future-...  2025-0120 2025-04-25   \n",
       "4  https://www.judiciary.uk/prevention-of-future-...  2025-0206 2025-04-25   \n",
       "\n",
       "      coroner                            area  \\\n",
       "0   A. Hodson         Birmingham and Solihull   \n",
       "1  J. Andrews  West Sussex, Brighton and Hove   \n",
       "2    A. Mutch                Manchester South   \n",
       "3  M. Hassell              Inner North London   \n",
       "4    J. Heath        North Yorkshire and York   \n",
       "\n",
       "                                            receiver  \\\n",
       "0  NHS England; The Robert Jones and Agnes Hunt O...   \n",
       "1                         West Sussex County Council   \n",
       "2  Flixton Road Medical Centre; Greater Mancheste...   \n",
       "3  The President Royal College Obstetricians and ...   \n",
       "4                                   Townhead Surgery   \n",
       "\n",
       "                                       investigation  \\\n",
       "0  On 9th December 2024 I commenced an investigat...   \n",
       "1  On 2 November 2024 I commenced an investigatio...   \n",
       "2  On 1 October 2024 I commenced an investigation...   \n",
       "3  On 23 August 2024, one of my assistant coroner...   \n",
       "4  On 4th June 2024 I commenced an investigation ...   \n",
       "\n",
       "                                       circumstances  \\\n",
       "0  At 10.45am on 23rd November 2024, Peter sadly ...   \n",
       "1  Mrs Turner drove her car into the canal at the...   \n",
       "2  Louise Danielle Rosendale was prescribed long ...   \n",
       "3  Jannat was a big baby and her mother had a his...   \n",
       "4  On 15 March 2024, Richard James Moss attended ...   \n",
       "\n",
       "                                            concerns  \n",
       "0  To The Robert Jones and Agnes Hunt Orthopaedic...  \n",
       "1  The inquest was told that South Bank is a resi...  \n",
       "2  The inquest heard evidence that Louise Rosenda...  \n",
       "3  With the benefit of a maternity and newborn sa...  \n",
       "4  When a referral document is completed by a med...  "
      ]
     },
     "execution_count": 2,
     "metadata": {},
     "output_type": "execute_result"
    }
   ],
   "source": [
    "from pfd_toolkit import load_reports\n",
    "\n",
    "# Load all PFD reports from Jan-May 2025\n",
    "reports = load_reports(\n",
    "    start_date=\"2024-01-01\",\n",
    "    end_date=\"2025-05-01\")\n",
    "\n",
    "# Identify number of reports\n",
    "num_reports = len(reports)\n",
    "\n",
    "reports.head(n=5)"
   ]
  },
  {
   "cell_type": "markdown",
   "metadata": {},
   "source": [
    "## Screening for relevant reports\n",
    "\n",
    "You're likely using PFD Toolkit because you want to answer a specific question. For example: \"Do any PFD reports raise concerns related to detention under the Mental Health Act?\"\n",
    "\n",
    "PFD Toolkit lets you query reports in plain English — no need to know precise keywords or categories. Just describe the cases you care about, and the toolkit will return matching reports.\n",
    "\n",
    "### Set up an LLM client\n",
    "\n",
    "Before screening reports, we first need to set up an LLM client. Screening and other toolkit features require an LLM to work.\n",
    "\n",
    "You'll need to head to [platform.openai.com](https://platform.openai.com/docs/overview) and create an API key. Once you've got this, simply feed it to the `LLM`."
   ]
  },
  {
   "cell_type": "code",
   "execution_count": 3,
   "metadata": {},
   "outputs": [],
   "source": [
    "from pfd_toolkit import LLM\n",
    "from dotenv import load_dotenv\n",
    "import os\n",
    "\n",
    "# Load OpenAI API key\n",
    "load_dotenv(\"api.env\")\n",
    "openai_api_key = os.getenv(\"OPENAI_API_KEY\")\n",
    "\n",
    "# Initialise LLM client\n",
    "llm_client = LLM(api_key=openai_api_key, \n",
    "                 model=\"gpt-4.1\",\n",
    "                 max_workers=25,\n",
    "                 temperature=0, \n",
    "                 seed=123, \n",
    "                 timeout=20\n",
    "                 )"
   ]
  },
  {
   "cell_type": "markdown",
   "metadata": {},
   "source": [
    "### Screen reports in plain English\n",
    "\n",
    "Now, all we need to do is specify our `search_query` (the statement the LLM will use to filter reports), and set up our `Screener` engine."
   ]
  },
  {
   "cell_type": "code",
   "execution_count": 4,
   "metadata": {},
   "outputs": [
    {
     "name": "stderr",
     "output_type": "stream",
     "text": [
      "Sending requests to the LLM: 100%|██████████| 884/884 [00:29<00:00, 29.99it/s]\n"
     ]
    }
   ],
   "source": [
    "from pfd_toolkit import Screener\n",
    "\n",
    "# Create a user query to filter\n",
    "search_query = \"Concerns about detention under the Mental Health Act **only**\"\n",
    "\n",
    "# Screen reports\n",
    "screener = Screener(llm = llm_client,\n",
    "                        reports = reports) # Reports that you loaded earlier\n",
    "\n",
    "filtered_reports = screener.screen_reports(search_query=search_query,\n",
    "                                           produce_spans=True,\n",
    "                                           drop_spans=True)"
   ]
  },
  {
   "cell_type": "code",
   "execution_count": 5,
   "metadata": {},
   "outputs": [
    {
     "name": "stdout",
     "output_type": "stream",
     "text": [
      "From our initial 884 reports, PFD Toolkit identified 51 reports discussing concerns around detention under the Mental Health Act.\n"
     ]
    }
   ],
   "source": [
    "# Capture number of screened reports\n",
    "num_reports_screened = len(filtered_reports)\n",
    "\n",
    "# Check how many reports we've identified\n",
    "print(f\"From our initial {num_reports} reports, PFD Toolkit identified {num_reports_screened} \\\n",
    "reports discussing concerns around detention under the Mental Health Act.\")"
   ]
  },
  {
   "cell_type": "markdown",
   "metadata": {},
   "source": [
    "In practice, we'd probably want to extend our start and end dates to cover the entire corpus of reports. We've only kept things short for demo purposes :)\n",
    "\n",
    "---"
   ]
  },
  {
   "cell_type": "markdown",
   "metadata": {},
   "source": [
    "## Discover themes in your filtered dataset\n",
    "\n",
    "With your subset of reports screened for Mental Health Act detention concerns, the next step is to uncover the underlying themes. This lets you see 'at a glance' what issues the coroners keep raising.\n",
    "\n",
    "We'll use the `Extractor` class to automatically identify themes from the *concerns* section of each report."
   ]
  },
  {
   "cell_type": "code",
   "execution_count": 6,
   "metadata": {},
   "outputs": [],
   "source": [
    "from pfd_toolkit import Extractor\n",
    "\n",
    "extractor = Extractor(\n",
    "    llm=llm_client,             # The same client you created earlier\n",
    "    reports=filtered_reports,   # Your screened DataFrame\n",
    "    \n",
    "    # Only supply the 'concerns' text\n",
    "    include_date=False,\n",
    "    include_coroner=False,\n",
    "    include_area=False,\n",
    "    include_receiver=False,\n",
    "    include_investigation=False,\n",
    "    include_circumstances=False,\n",
    "    include_concerns=True   # <--- Only identify themes relating to concerns \n",
    ")"
   ]
  },
  {
   "cell_type": "markdown",
   "metadata": {},
   "source": [
    "The main reason why we're hiding all reports sections other than the coroners' concerns is to help keep the LLM's instructions short & focused. LLMs often perform better when they are given only relevant information.\n",
    "\n",
    "Your own research question might be different. For example, you might be interested in discovering recurring themes related to 'cause of death', in which case you'll likely want to set `include_investigation` and `include_circumstances` to `True`.\n",
    "\n",
    "\n",
    "---\n",
    "\n",
    "### Summarise then discover themes\n",
    "\n",
    "Before discovering themes, we first need to summarise each report. \n",
    "\n",
    "We do this because the length of PFD reports vary from coroner to coroner. By summarising the reports, we're centering on the key messages, keeping the prompt short for the LLM. This may improve performance and increase speed.\n",
    "\n",
    "The report sections that are summarised depend on the `include_*` flags you set earlier. In this tutorial, we are only summarising the *concerns* section."
   ]
  },
  {
   "cell_type": "code",
   "execution_count": 7,
   "metadata": {},
   "outputs": [
    {
     "name": "stderr",
     "output_type": "stream",
     "text": [
      "                                                                    \r"
     ]
    }
   ],
   "source": [
    "# Create short summaries of the concerns\n",
    "extractor.summarise(trim_intensity=\"medium\")\n",
    "\n",
    "# Ask the LLM to propose recurring themes\n",
    "IdentifiedThemes = extractor.discover_themes(\n",
    "    max_themes=6,  # Limit the list to keep things manageable\n",
    ")"
   ]
  },
  {
   "cell_type": "markdown",
   "metadata": {},
   "source": [
    "_Note:_ `Extractor` will warn you if the word count of your summaries is too high. In these cases, you might want to set your `trim_intensity` to `high` or `very high` (though please note that the more we trim, the more detail we lose).\n",
    "\n",
    "`IdentifiedThemes` is a Pydantic model whose boolean fields represent the themes the LLM found. \n",
    "\n",
    "`IdentifiedThemes` is not printable in itself, but it is replicated as a JSON in `self.identified_themes` which we can print. This gives us a record of each proposed theme with an accompanying description."
   ]
  },
  {
   "cell_type": "code",
   "execution_count": 8,
   "metadata": {},
   "outputs": [
    {
     "name": "stdout",
     "output_type": "stream",
     "text": [
      "```json\n",
      "{\n",
      "  \"bed_shortage\": \"Insufficient availability of inpatient mental health beds or suitable placements, leading to delays, inappropriate care environments, or patients being placed far from home.\",\n",
      "  \"staff_training\": \"Inadequate staff training, knowledge, or awareness regarding policies, risk assessment, clinical procedures, or the Mental Health Act.\",\n",
      "  \"record_keeping\": \"Poor, inconsistent, or falsified documentation and record keeping, including failures in care planning, observation records, and communication of key information.\",\n",
      "  \"policy_gap\": \"Absence, inconsistency, or lack of clarity in policies, protocols, or guidance, resulting in confusion or unsafe practices.\",\n",
      "  \"communication_failures\": \"Breakdowns in communication or information sharing between staff, agencies, families, or across systems, impacting patient safety and care continuity.\",\n",
      "  \"risk_assessment\": \"Failures or omissions in risk assessment, escalation, or monitoring, including inadequate recognition of suicide risk, self-harm, or other patient safety concerns.\"\n",
      "}\n",
      "```\n"
     ]
    }
   ],
   "source": [
    "print(extractor.identified_themes)"
   ]
  },
  {
   "cell_type": "markdown",
   "metadata": {},
   "source": [
    "### Tag the reports\n",
    "\n",
    "Above, we've only identified the themes: we haven't assigned these themes to the reports.\n",
    "\n",
    "Once you have the theme model, pass it back into the extractor to assign themes to every report in the dataset:"
   ]
  },
  {
   "cell_type": "code",
   "execution_count": 9,
   "metadata": {},
   "outputs": [
    {
     "name": "stderr",
     "output_type": "stream",
     "text": [
      "Extracting features: 100%|██████████| 51/51 [00:05<00:00,  8.72it/s]\n"
     ]
    },
    {
     "data": {
      "text/html": [
       "<div>\n",
       "<style scoped>\n",
       "    .dataframe tbody tr th:only-of-type {\n",
       "        vertical-align: middle;\n",
       "    }\n",
       "\n",
       "    .dataframe tbody tr th {\n",
       "        vertical-align: top;\n",
       "    }\n",
       "\n",
       "    .dataframe thead th {\n",
       "        text-align: right;\n",
       "    }\n",
       "</style>\n",
       "<table border=\"1\" class=\"dataframe\">\n",
       "  <thead>\n",
       "    <tr style=\"text-align: right;\">\n",
       "      <th></th>\n",
       "      <th>url</th>\n",
       "      <th>id</th>\n",
       "      <th>date</th>\n",
       "      <th>coroner</th>\n",
       "      <th>area</th>\n",
       "      <th>receiver</th>\n",
       "      <th>investigation</th>\n",
       "      <th>circumstances</th>\n",
       "      <th>concerns</th>\n",
       "      <th>bed_shortage</th>\n",
       "      <th>staff_training</th>\n",
       "      <th>record_keeping</th>\n",
       "      <th>policy_gap</th>\n",
       "      <th>communication_failures</th>\n",
       "      <th>risk_assessment</th>\n",
       "    </tr>\n",
       "  </thead>\n",
       "  <tbody>\n",
       "    <tr>\n",
       "      <th>29</th>\n",
       "      <td>https://www.judiciary.uk/prevention-of-future-...</td>\n",
       "      <td>2025-0172</td>\n",
       "      <td>2025-04-07</td>\n",
       "      <td>S. Reeves</td>\n",
       "      <td>South London</td>\n",
       "      <td>South London and Maudsley NHS Foundation Trust</td>\n",
       "      <td>On 21 March 2023, an inquest was opened, and a...</td>\n",
       "      <td>Christopher McDonald was pronounced dead at 14...</td>\n",
       "      <td>The evidence heard at the inquest demonstrated...</td>\n",
       "      <td>False</td>\n",
       "      <td>True</td>\n",
       "      <td>False</td>\n",
       "      <td>False</td>\n",
       "      <td>False</td>\n",
       "      <td>True</td>\n",
       "    </tr>\n",
       "    <tr>\n",
       "      <th>59</th>\n",
       "      <td>https://www.judiciary.uk/prevention-of-future-...</td>\n",
       "      <td>2025-0144</td>\n",
       "      <td>2025-03-17</td>\n",
       "      <td>S. Horstead</td>\n",
       "      <td>Essex</td>\n",
       "      <td>Chief Executive Officer of Essex Partnership U...</td>\n",
       "      <td>On 31 October 2023 I commenced an investigatio...</td>\n",
       "      <td>On the 23rd September 2023 after concerns were...</td>\n",
       "      <td>(a) Failures in care planning specifically a f...</td>\n",
       "      <td>False</td>\n",
       "      <td>False</td>\n",
       "      <td>True</td>\n",
       "      <td>False</td>\n",
       "      <td>True</td>\n",
       "      <td>True</td>\n",
       "    </tr>\n",
       "    <tr>\n",
       "      <th>65</th>\n",
       "      <td>https://www.judiciary.uk/prevention-of-future-...</td>\n",
       "      <td>2025-0104</td>\n",
       "      <td>2025-03-13</td>\n",
       "      <td>A. Harris</td>\n",
       "      <td>South London</td>\n",
       "      <td>Oxleas NHS Foundation Trust; Care Quality Comm...</td>\n",
       "      <td>On 15th January 2020 an inquest was opened int...</td>\n",
       "      <td>Mr Paul Dunne had a history of depression, anx...</td>\n",
       "      <td>Individual mental health professionals appeare...</td>\n",
       "      <td>False</td>\n",
       "      <td>True</td>\n",
       "      <td>True</td>\n",
       "      <td>True</td>\n",
       "      <td>True</td>\n",
       "      <td>True</td>\n",
       "    </tr>\n",
       "    <tr>\n",
       "      <th>80</th>\n",
       "      <td>https://www.judiciary.uk/prevention-of-future-...</td>\n",
       "      <td>2025-0124</td>\n",
       "      <td>2025-03-06</td>\n",
       "      <td>D. Henry</td>\n",
       "      <td>Coventry</td>\n",
       "      <td>Chair of the Coventry and Warwickshire Partner...</td>\n",
       "      <td>On 13 August 2021 I commenced an investigation...</td>\n",
       "      <td>Mr Gebrsslasié on the 2nd August 2021 was arre...</td>\n",
       "      <td>The inquest explored issues such ligature anch...</td>\n",
       "      <td>False</td>\n",
       "      <td>False</td>\n",
       "      <td>False</td>\n",
       "      <td>True</td>\n",
       "      <td>False</td>\n",
       "      <td>True</td>\n",
       "    </tr>\n",
       "    <tr>\n",
       "      <th>85</th>\n",
       "      <td>https://www.judiciary.uk/prevention-of-future-...</td>\n",
       "      <td>2025-0119</td>\n",
       "      <td>2025-03-04</td>\n",
       "      <td>L. Hunt</td>\n",
       "      <td>Birmingham and Solihull</td>\n",
       "      <td>Birmingham and Solihull Mental Health NHS Foun...</td>\n",
       "      <td>On 20th July 2023 I commenced an investigation...</td>\n",
       "      <td>Mr Lynch resided in room 1 in supported living...</td>\n",
       "      <td>To Birmingham and Solihull Mental Health Trust...</td>\n",
       "      <td>False</td>\n",
       "      <td>True</td>\n",
       "      <td>True</td>\n",
       "      <td>True</td>\n",
       "      <td>True</td>\n",
       "      <td>True</td>\n",
       "    </tr>\n",
       "  </tbody>\n",
       "</table>\n",
       "</div>"
      ],
      "text/plain": [
       "                                                  url         id       date  \\\n",
       "29  https://www.judiciary.uk/prevention-of-future-...  2025-0172 2025-04-07   \n",
       "59  https://www.judiciary.uk/prevention-of-future-...  2025-0144 2025-03-17   \n",
       "65  https://www.judiciary.uk/prevention-of-future-...  2025-0104 2025-03-13   \n",
       "80  https://www.judiciary.uk/prevention-of-future-...  2025-0124 2025-03-06   \n",
       "85  https://www.judiciary.uk/prevention-of-future-...  2025-0119 2025-03-04   \n",
       "\n",
       "        coroner                     area  \\\n",
       "29    S. Reeves             South London   \n",
       "59  S. Horstead                    Essex   \n",
       "65    A. Harris             South London   \n",
       "80     D. Henry                 Coventry   \n",
       "85      L. Hunt  Birmingham and Solihull   \n",
       "\n",
       "                                             receiver  \\\n",
       "29     South London and Maudsley NHS Foundation Trust   \n",
       "59  Chief Executive Officer of Essex Partnership U...   \n",
       "65  Oxleas NHS Foundation Trust; Care Quality Comm...   \n",
       "80  Chair of the Coventry and Warwickshire Partner...   \n",
       "85  Birmingham and Solihull Mental Health NHS Foun...   \n",
       "\n",
       "                                        investigation  \\\n",
       "29  On 21 March 2023, an inquest was opened, and a...   \n",
       "59  On 31 October 2023 I commenced an investigatio...   \n",
       "65  On 15th January 2020 an inquest was opened int...   \n",
       "80  On 13 August 2021 I commenced an investigation...   \n",
       "85  On 20th July 2023 I commenced an investigation...   \n",
       "\n",
       "                                        circumstances  \\\n",
       "29  Christopher McDonald was pronounced dead at 14...   \n",
       "59  On the 23rd September 2023 after concerns were...   \n",
       "65  Mr Paul Dunne had a history of depression, anx...   \n",
       "80  Mr Gebrsslasié on the 2nd August 2021 was arre...   \n",
       "85  Mr Lynch resided in room 1 in supported living...   \n",
       "\n",
       "                                             concerns bed_shortage  \\\n",
       "29  The evidence heard at the inquest demonstrated...        False   \n",
       "59  (a) Failures in care planning specifically a f...        False   \n",
       "65  Individual mental health professionals appeare...        False   \n",
       "80  The inquest explored issues such ligature anch...        False   \n",
       "85  To Birmingham and Solihull Mental Health Trust...        False   \n",
       "\n",
       "   staff_training record_keeping policy_gap communication_failures  \\\n",
       "29           True          False      False                  False   \n",
       "59          False           True      False                   True   \n",
       "65           True           True       True                   True   \n",
       "80          False          False       True                  False   \n",
       "85           True           True       True                   True   \n",
       "\n",
       "   risk_assessment  \n",
       "29            True  \n",
       "59            True  \n",
       "65            True  \n",
       "80            True  \n",
       "85            True  "
      ]
     },
     "execution_count": 9,
     "metadata": {},
     "output_type": "execute_result"
    }
   ],
   "source": [
    "labelled_reports = extractor.extract_features(\n",
    "    feature_model=IdentifiedThemes,\n",
    "    force_assign=True,  # Force the model to make a decision (essentially ban missing data)\n",
    "    allow_multiple=True,  # A single report might touch on multiple themes\n",
    ")\n",
    "\n",
    "labelled_reports.head(n=5)"
   ]
  },
  {
   "cell_type": "markdown",
   "metadata": {},
   "source": [
    "The resulting DataFrame now contains a column for each discovered theme, filled with `True` or `False` depending on whether that theme was present in the coroner's concerns.\n",
    "\n",
    "Finally, we can count how often a theme appears in our collection of reports:\n",
    "\n",
    "From here you can perform whatever analysis you need — counting how often each theme occurs, filtering for particular issues, or exporting the data to other tools."
   ]
  },
  {
   "cell_type": "code",
   "execution_count": 10,
   "metadata": {},
   "outputs": [
    {
     "data": {
      "text/html": [
       "<div>\n",
       "<style scoped>\n",
       "    .dataframe tbody tr th:only-of-type {\n",
       "        vertical-align: middle;\n",
       "    }\n",
       "\n",
       "    .dataframe tbody tr th {\n",
       "        vertical-align: top;\n",
       "    }\n",
       "\n",
       "    .dataframe thead th {\n",
       "        text-align: right;\n",
       "    }\n",
       "</style>\n",
       "<table border=\"1\" class=\"dataframe\">\n",
       "  <thead>\n",
       "    <tr style=\"text-align: right;\">\n",
       "      <th></th>\n",
       "      <th>Category</th>\n",
       "      <th>Count</th>\n",
       "      <th>Percentage</th>\n",
       "    </tr>\n",
       "  </thead>\n",
       "  <tbody>\n",
       "    <tr>\n",
       "      <th>0</th>\n",
       "      <td>bed_shortage</td>\n",
       "      <td>14</td>\n",
       "      <td>27.450980</td>\n",
       "    </tr>\n",
       "    <tr>\n",
       "      <th>1</th>\n",
       "      <td>staff_training</td>\n",
       "      <td>22</td>\n",
       "      <td>43.137255</td>\n",
       "    </tr>\n",
       "    <tr>\n",
       "      <th>2</th>\n",
       "      <td>record_keeping</td>\n",
       "      <td>13</td>\n",
       "      <td>25.490196</td>\n",
       "    </tr>\n",
       "    <tr>\n",
       "      <th>3</th>\n",
       "      <td>policy_gap</td>\n",
       "      <td>35</td>\n",
       "      <td>68.627451</td>\n",
       "    </tr>\n",
       "    <tr>\n",
       "      <th>4</th>\n",
       "      <td>communication_failures</td>\n",
       "      <td>19</td>\n",
       "      <td>37.254902</td>\n",
       "    </tr>\n",
       "    <tr>\n",
       "      <th>5</th>\n",
       "      <td>risk_assessment</td>\n",
       "      <td>34</td>\n",
       "      <td>66.666667</td>\n",
       "    </tr>\n",
       "  </tbody>\n",
       "</table>\n",
       "</div>"
      ],
      "text/plain": [
       "                 Category  Count  Percentage\n",
       "0            bed_shortage     14   27.450980\n",
       "1          staff_training     22   43.137255\n",
       "2          record_keeping     13   25.490196\n",
       "3              policy_gap     35   68.627451\n",
       "4  communication_failures     19   37.254902\n",
       "5         risk_assessment     34   66.666667"
      ]
     },
     "execution_count": 10,
     "metadata": {},
     "output_type": "execute_result"
    }
   ],
   "source": [
    "extractor.tabulate()"
   ]
  },
  {
   "cell_type": "markdown",
   "metadata": {},
   "source": [
    "That's it! You've gone from a mass of PFD reports, to a focused set of cases relating to Mental Health Act detention, to a theme‑tagged dataset ready for deeper exploration.\n",
    "\n",
    "From here we can either save our `labelled_reports` dataset via `pandas` for qualitative analysis, or we can use *even more* analytical features of PFD Toolkit."
   ]
  },
  {
   "cell_type": "code",
   "execution_count": 11,
   "metadata": {},
   "outputs": [
    {
     "name": "stdout",
     "output_type": "stream",
     "text": [
      "Elapsed time: 0m 57s\n"
     ]
    }
   ],
   "source": [
    "# Check workflow runtime\n",
    "\n",
    "end = time.time()\n",
    "\n",
    "elapsed_seconds = int(end - start)\n",
    "\n",
    "minutes, seconds = divmod(elapsed_seconds, 60)\n",
    "print(f\"Elapsed time: {minutes}m {seconds}s\")"
   ]
  }
 ],
 "metadata": {
  "kernelspec": {
   "display_name": ".venv",
   "language": "python",
   "name": "python3"
  },
  "language_info": {
   "codemirror_mode": {
    "name": "ipython",
    "version": 3
   },
   "file_extension": ".py",
   "mimetype": "text/x-python",
   "name": "python",
   "nbconvert_exporter": "python",
   "pygments_lexer": "ipython3",
   "version": "3.12.3"
  }
 },
 "nbformat": 4,
 "nbformat_minor": 2
}
