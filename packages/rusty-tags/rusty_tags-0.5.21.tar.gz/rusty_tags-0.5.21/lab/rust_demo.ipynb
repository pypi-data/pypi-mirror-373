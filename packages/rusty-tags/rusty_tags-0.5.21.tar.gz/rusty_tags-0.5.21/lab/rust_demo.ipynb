{
  "cells": [
    {
      "cell_type": "raw",
      "metadata": {
        "vscode": {
          "languageId": "raw"
        }
      },
      "source": [
        "# 🚀 Rust HTML Tags Demo\n",
        "\n",
        "Testing our Rust-based HTML generation system with a complex, realistic webpage structure.\n",
        "\n",
        "This notebook demonstrates the power and performance of our Rust implementation with deeply nested HTML structures.\n"
      ]
    },
    {
      "cell_type": "code",
      "execution_count": 6,
      "metadata": {},
      "outputs": [
        {
          "name": "stdout",
          "output_type": "stream",
          "text": [
            "Generated HTML (3513 characters):\n",
            "==================================================\n",
            "<div class=\"page-wrapper\" id=\"app\"><div class=\"header\" id=\"header\"><div class=\"container header-content\"><h1 class=\"logo\">🚀 Rust HTML Generator</h1><ul class=\"nav-list\"><li><a href=\"#home\" class=\"nav-link\">Home</a></li><li><a href=\"#features\" class=\"nav-link\">Features</a></li><li><a class=\"nav-link\" href=\"#performance\">Performance</a></li><li><a href=\"#contact\" class=\"nav-link\">Contact</a></li></ul></div></div><div id=\"home\" class=\"hero\"><div class=\"container hero-content\"><h1 class=\"hero-title\">Lightning Fast HTML Generation</h1><p class=\"hero-subtitle\">Built with <strong>Rust</strong> and <em>PyO3</em> for maximum performance and safety.</p><div class=\"hero-buttons\"><button type=\"button\" class=\"btn btn-primary\">Get Started</button><button type=\"button\" class=\"btn btn-secondary\">View Source</button></div></div></div><div class=\"features section\" id=\"features\"><div class=\"container\"><h2 class=\"section-title\">✨ Features</h2><div class=\"features-grid\"><div class=\"card\"><div class=\"card-body\"><h3 class=\"card-title\">⚡ Performance</h3><p class=\"card-text\">10-100x faster than pure Python implementations</p><ul><li>Zero-cost abstractions</li><li>Memory efficient</li><li>Parallel processing ready</li></ul></div></div><div class=\"card\"><div class=\"card-body\"><h3 class=\"card-title\">🛡️ Safety</h3><p class=\"card-text\">Compile-time guarantees and memory safety</p><ul><li>No runtime errors</li><li>Type safety</li><li>Memory leak prevention</li></ul></div></div><div class=\"card\"><div class=\"card-body\"><h3 class=\"card-title\">🔧 Compatibility</h3><p class=\"card-text\">Drop-in replacement for existing Python HTML generators</p><ul><li>Python-compatible API</li><li>Same attribute mapping</li><li>Identical output format</li></ul></div></div></div></div></div><div id=\"performance\" class=\"performance section\"><div class=\"container\"><h2 class=\"section-title\">📊 Performance Metrics</h2><table border=\"1\" class=\"performance-table\"><tr class=\"table-header\"><th>Operation</th><th>Python Time</th><th>Rust Time</th><th>Speedup</th></tr><tr><td>1000 Simple Tags</td><td>45.2ms</td><td><strong class=\"highlight\">2.1ms</strong></td><td class=\"speedup\">21.5x</td></tr><tr><td>Complex Nested Structure</td><td>123.7ms</td><td><strong class=\"highlight\">8.4ms</strong></td><td class=\"speedup\">14.7x</td></tr><tr><td>Attribute Processing</td><td>28.9ms</td><td><strong class=\"highlight\">0.9ms</strong></td><td class=\"speedup\">32.1x</td></tr></table></div></div><div class=\"contact section\" id=\"contact\"><div class=\"container\"><h2 class=\"section-title\">📧 Get In Touch</h2><form action=\"/contact\" class=\"contact-form\" method=\"post\"><div class=\"form-group\"><label for=\"name\" class=\"form-label\">Name:</label><input required=\"true\" name=\"name\" type=\"text\" class=\"form-input\" id=\"name\"></input></div><div class=\"form-group\"><label class=\"form-label\" for=\"email\">Email:</label><input required=\"true\" id=\"email\" type=\"email\" name=\"email\" class=\"form-input\"></input></div><div class=\"form-group\"><label for=\"message\" class=\"form-label\">Message:</label><input id=\"message\" type=\"text\" class=\"form-input\" placeholder=\"Your message here...\" name=\"message\"></input></div><div class=\"form-actions\"><button class=\"btn btn-primary\" type=\"submit\">Send Message</button></div></form></div></div><div class=\"footer\"><div class=\"container footer-content\"><p>Built with ❤️ using <a target=\"_blank\" href=\"https://rust-lang.org\">Rust</a> and <a href=\"https://pyo3.rs\" target=\"_blank\">PyO3</a>. © 2024 Rust HTML Generator.</p></div></div></div>\n",
            "==================================================\n",
            "\n",
            "Structure Analysis:\n",
            "• Total characters: 3513\n",
            "• HTML elements: ~195 tags\n",
            "• Nested depth: 8-10 levels deep\n",
            "• Tags used: Div, H1-H3, P, Ul, Li, A, Strong, Em, Button, Table, Tr, Th, Td, Form, Label, Input\n",
            "• Features: Navigation, Hero section, Feature cards, Performance table, Contact form\n"
          ]
        }
      ],
      "source": [
        "# Import the Rust HTML generation system\n",
        "from rusty_tags import *\n",
        "\n",
        "# Create a complex, deeply nested webpage structure\n",
        "webpage = Div(\n",
        "    # Header section\n",
        "    Div(\n",
        "        Div(\n",
        "            H1(\"🚀 Rust HTML Generator\", cls=\"logo\"),\n",
        "            Ul(\n",
        "                Li(A(\"Home\", href=\"#home\", cls=\"nav-link\")),\n",
        "                Li(A(\"Features\", href=\"#features\", cls=\"nav-link\")),\n",
        "                Li(A(\"Performance\", href=\"#performance\", cls=\"nav-link\")),\n",
        "                Li(A(\"Contact\", href=\"#contact\", cls=\"nav-link\")),\n",
        "                cls=\"nav-list\"\n",
        "            ),\n",
        "            cls=\"container header-content\"\n",
        "        ),\n",
        "        cls=\"header\",\n",
        "        id=\"header\"\n",
        "    ),\n",
        "    \n",
        "    # Hero section\n",
        "    Div(\n",
        "        Div(\n",
        "            H1(\"Lightning Fast HTML Generation\", cls=\"hero-title\"),\n",
        "            P(\n",
        "                \"Built with \",\n",
        "                Strong(\"Rust\"),\n",
        "                \" and \",\n",
        "                Em(\"PyO3\"),\n",
        "                \" for maximum performance and safety.\",\n",
        "                cls=\"hero-subtitle\"\n",
        "            ),\n",
        "            Div(\n",
        "                Button(\"Get Started\", cls=\"btn btn-primary\", type=\"button\"),\n",
        "                Button(\"View Source\", cls=\"btn btn-secondary\", type=\"button\"),\n",
        "                cls=\"hero-buttons\"\n",
        "            ),\n",
        "            cls=\"container hero-content\"\n",
        "        ),\n",
        "        cls=\"hero\",\n",
        "        id=\"home\"\n",
        "    ),\n",
        "    \n",
        "    # Features section\n",
        "    Div(\n",
        "        Div(\n",
        "            H2(\"✨ Features\", cls=\"section-title\"),\n",
        "            Div(\n",
        "                # Feature cards\n",
        "                Div(\n",
        "                    Div(\n",
        "                        H3(\"⚡ Performance\", cls=\"card-title\"),\n",
        "                        P(\"10-100x faster than pure Python implementations\", cls=\"card-text\"),\n",
        "                        Ul(\n",
        "                            Li(\"Zero-cost abstractions\"),\n",
        "                            Li(\"Memory efficient\"),\n",
        "                            Li(\"Parallel processing ready\")\n",
        "                        ),\n",
        "                        cls=\"card-body\"\n",
        "                    ),\n",
        "                    cls=\"card\"\n",
        "                ),\n",
        "                Div(\n",
        "                    Div(\n",
        "                        H3(\"🛡️ Safety\", cls=\"card-title\"),\n",
        "                        P(\"Compile-time guarantees and memory safety\", cls=\"card-text\"),\n",
        "                        Ul(\n",
        "                            Li(\"No runtime errors\"),\n",
        "                            Li(\"Type safety\"),\n",
        "                            Li(\"Memory leak prevention\")\n",
        "                        ),\n",
        "                        cls=\"card-body\"\n",
        "                    ),\n",
        "                    cls=\"card\"\n",
        "                ),\n",
        "                Div(\n",
        "                    Div(\n",
        "                        H3(\"🔧 Compatibility\", cls=\"card-title\"),\n",
        "                        P(\"Drop-in replacement for existing Python HTML generators\", cls=\"card-text\"),\n",
        "                        Ul(\n",
        "                            Li(\"Python-compatible API\"),\n",
        "                            Li(\"Same attribute mapping\"),\n",
        "                            Li(\"Identical output format\")\n",
        "                        ),\n",
        "                        cls=\"card-body\"\n",
        "                    ),\n",
        "                    cls=\"card\"\n",
        "                ),\n",
        "                cls=\"features-grid\"\n",
        "            ),\n",
        "            cls=\"container\"\n",
        "        ),\n",
        "        cls=\"features section\",\n",
        "        id=\"features\"\n",
        "    ),\n",
        "    \n",
        "    # Performance metrics table\n",
        "    Div(\n",
        "        Div(\n",
        "            H2(\"📊 Performance Metrics\", cls=\"section-title\"),\n",
        "            Table(\n",
        "                # Table header\n",
        "                Tr(\n",
        "                    Th(\"Operation\"),\n",
        "                    Th(\"Python Time\"),\n",
        "                    Th(\"Rust Time\"),\n",
        "                    Th(\"Speedup\"),\n",
        "                    cls=\"table-header\"\n",
        "                ),\n",
        "                # Table rows\n",
        "                Tr(\n",
        "                    Td(\"1000 Simple Tags\"),\n",
        "                    Td(\"45.2ms\"),\n",
        "                    Td(Strong(\"2.1ms\", cls=\"highlight\")),\n",
        "                    Td(\"21.5x\", cls=\"speedup\")\n",
        "                ),\n",
        "                Tr(\n",
        "                    Td(\"Complex Nested Structure\"),\n",
        "                    Td(\"123.7ms\"),\n",
        "                    Td(Strong(\"8.4ms\", cls=\"highlight\")),\n",
        "                    Td(\"14.7x\", cls=\"speedup\")\n",
        "                ),\n",
        "                Tr(\n",
        "                    Td(\"Attribute Processing\"),\n",
        "                    Td(\"28.9ms\"),\n",
        "                    Td(Strong(\"0.9ms\", cls=\"highlight\")),\n",
        "                    Td(\"32.1x\", cls=\"speedup\")\n",
        "                ),\n",
        "                cls=\"performance-table\",\n",
        "                border=\"1\"\n",
        "            ),\n",
        "            cls=\"container\"\n",
        "        ),\n",
        "        cls=\"performance section\",\n",
        "        id=\"performance\"\n",
        "    ),\n",
        "    \n",
        "    # Contact form\n",
        "    Div(\n",
        "        Div(\n",
        "            H2(\"📧 Get In Touch\", cls=\"section-title\"),\n",
        "            Form(\n",
        "                Div(\n",
        "                    Label(\"Name:\", _for=\"name\", cls=\"form-label\"),\n",
        "                    Input(type=\"text\", id=\"name\", name=\"name\", cls=\"form-input\", required=\"true\"),\n",
        "                    cls=\"form-group\"\n",
        "                ),\n",
        "                Div(\n",
        "                    Label(\"Email:\", _for=\"email\", cls=\"form-label\"),\n",
        "                    Input(type=\"email\", id=\"email\", name=\"email\", cls=\"form-input\", required=\"true\"),\n",
        "                    cls=\"form-group\"\n",
        "                ),\n",
        "                Div(\n",
        "                    Label(\"Message:\", _for=\"message\", cls=\"form-label\"),\n",
        "                    Input(type=\"text\", id=\"message\", name=\"message\", cls=\"form-input\", placeholder=\"Your message here...\"),\n",
        "                    cls=\"form-group\"\n",
        "                ),\n",
        "                Div(\n",
        "                    Button(\"Send Message\", type=\"submit\", cls=\"btn btn-primary\"),\n",
        "                    cls=\"form-actions\"\n",
        "                ),\n",
        "                action=\"/contact\",\n",
        "                method=\"post\",\n",
        "                cls=\"contact-form\"\n",
        "            ),\n",
        "            cls=\"container\"\n",
        "        ),\n",
        "        cls=\"contact section\",\n",
        "        id=\"contact\"\n",
        "    ),\n",
        "    \n",
        "    # Footer\n",
        "    Div(\n",
        "        Div(\n",
        "            P(\n",
        "                \"Built with ❤️ using \",\n",
        "                A(\"Rust\", href=\"https://rust-lang.org\", target=\"_blank\"),\n",
        "                \" and \",\n",
        "                A(\"PyO3\", href=\"https://pyo3.rs\", target=\"_blank\"),\n",
        "                \". © 2024 Rust HTML Generator.\"\n",
        "            ),\n",
        "            cls=\"container footer-content\"\n",
        "        ),\n",
        "        cls=\"footer\"\n",
        "    ),\n",
        "    \n",
        "    cls=\"page-wrapper\",\n",
        "    id=\"app\"\n",
        ")\n",
        "\n",
        "# Render and display the complete webpage\n",
        "html_output = webpage.render()\n",
        "print(f\"Generated HTML ({len(html_output)} characters):\")\n",
        "print(\"=\" * 50)\n",
        "print(html_output)\n",
        "print(\"=\" * 50)\n",
        "print(f\"\\nStructure Analysis:\")\n",
        "print(f\"• Total characters: {len(html_output)}\")\n",
        "print(f\"• HTML elements: ~{len(html_output.split('<'))} tags\")\n",
        "print(f\"• Nested depth: 8-10 levels deep\")\n",
        "print(f\"• Tags used: Div, H1-H3, P, Ul, Li, A, Strong, Em, Button, Table, Tr, Th, Td, Form, Label, Input\")\n",
        "print(f\"• Features: Navigation, Hero section, Feature cards, Performance table, Contact form\")\n"
      ]
    },
    {
      "cell_type": "code",
      "execution_count": 7,
      "metadata": {},
      "outputs": [
        {
          "data": {
            "text/plain": [
              "'<span open class=\"text-blue-500 text-2xl\" data-text=\"$count % 2 === 0\" data-on-click.debounce.500ms=\"$count++\">Hello, world!</span>'"
            ]
          },
          "execution_count": 7,
          "metadata": {},
          "output_type": "execute_result"
        }
      ],
      "source": [
        "Span(\n",
        "    \"Hello, world!\",text=\"$count % 2 === 0\", on_click__debounce_500ms=\"$count++\",cls=\"text-blue-500 text-2xl\", open=True\n",
        ").render()"
      ]
    },
    {
      "cell_type": "code",
      "execution_count": 8,
      "metadata": {},
      "outputs": [
        {
          "data": {
            "text/plain": [
              "'<span class=\"text-blue-500 text-2xl\" open data-show=\"true\" data-text=\"$count % 2 === 0\">Hello, world!</span>'"
            ]
          },
          "execution_count": 8,
          "metadata": {},
          "output_type": "execute_result"
        }
      ],
      "source": [
        "Span(\n",
        "    \"Hello, world!\",text=\"$count % 2 === 0\", show=True, cls=\"text-blue-500 text-2xl\", open=True\n",
        ").render()"
      ]
    },
    {
      "cell_type": "code",
      "execution_count": 9,
      "metadata": {},
      "outputs": [
        {
          "ename": "TypeError",
          "evalue": "create_template.<locals>.page.<locals>.decorator() missing 1 required positional argument: 'func'",
          "output_type": "error",
          "traceback": [
            "\u001b[31m---------------------------------------------------------------------------\u001b[39m",
            "\u001b[31mTypeError\u001b[39m                                 Traceback (most recent call last)",
            "\u001b[36mCell\u001b[39m\u001b[36m \u001b[39m\u001b[32mIn[9]\u001b[39m\u001b[32m, line 22\u001b[39m\n\u001b[32m     16\u001b[39m \u001b[38;5;129m@page\u001b[39m\n\u001b[32m     17\u001b[39m \u001b[38;5;28;01mdef\u001b[39;00m\u001b[38;5;250m \u001b[39m\u001b[34mindex\u001b[39m():\n\u001b[32m     18\u001b[39m     \u001b[38;5;28;01mreturn\u001b[39;00m Div(\n\u001b[32m     19\u001b[39m         H1(\u001b[33m\"\u001b[39m\u001b[33mHello, world!\u001b[39m\u001b[33m\"\u001b[39m, \u001b[38;5;28mcls\u001b[39m=\u001b[33m\"\u001b[39m\u001b[33muk-h1\u001b[39m\u001b[33m\"\u001b[39m),\n\u001b[32m     20\u001b[39m     )\n\u001b[32m---> \u001b[39m\u001b[32m22\u001b[39m indexPage = \u001b[43mindex\u001b[49m\u001b[43m(\u001b[49m\u001b[43m)\u001b[49m\n\u001b[32m     23\u001b[39m indexPage.render()\n",
            "\u001b[31mTypeError\u001b[39m: create_template.<locals>.page.<locals>.decorator() missing 1 required positional argument: 'func'"
          ]
        }
      ],
      "source": [
        "from rusty_tags.utils import create_template, page_template\n",
        "\n",
        "hdrs = (\n",
        "    Script(src=\"https://cdn.jsdelivr.net/gh/starfederation/datastar@main/bundles/datastar.js\", type=\"module\"),\n",
        "    Link(rel='stylesheet', href='https://cdn.jsdelivr.net/npm/franken-ui@2.1.0-next.18/dist/css/core.min.css'),\n",
        "    Link(rel='stylesheet', href='https://cdn.jsdelivr.net/npm/franken-ui@2.1.0-next.18/dist/css/utilities.min.css'),\n",
        "    Script(src='https://cdn.jsdelivr.net/npm/franken-ui@2.1.0-next.18/dist/js/core.iife.js', type='module'),\n",
        "    Script(src='https://cdn.jsdelivr.net/npm/franken-ui@2.1.0-next.18/dist/js/icon.iife.js', type='module')\n",
        ")\n",
        "htmlkws = dict(cls=\"bg-background text-foreground font-sans antialiased\")\n",
        "\n",
        "bodykws = dict(cls=\"h-screen p-16 bg-white text-foreground font-sans antialiased\")\n",
        "page = create_template(hdrs=hdrs, htmlkw=htmlkws, bodykw=bodykws)\n",
        "template = page_template(hdrs=hdrs, htmlkw=htmlkws, bodykw=bodykws)\n",
        "\n",
        "@page\n",
        "def index():\n",
        "    return Div(\n",
        "        H1(\"Hello, world!\", cls=\"uk-h1\"),\n",
        "    )\n",
        "\n",
        "indexPage = index()\n",
        "indexPage.render()"
      ]
    },
    {
      "cell_type": "code",
      "execution_count": null,
      "metadata": {},
      "outputs": [],
      "source": [
        "from IPython.display import HTML\n",
        "def show(html: HtmlString):\n",
        "    return HTML(html.render())\n"
      ]
    },
    {
      "cell_type": "code",
      "execution_count": null,
      "metadata": {},
      "outputs": [
        {
          "data": {
            "text/html": [
              "<!doctype html><html class=\"bg-background text-foreground font-sans antialiased\"><head><title>StarModel</title><script type=\"module\" src=\"https://cdn.jsdelivr.net/gh/starfederation/datastar@main/bundles/datastar.js\"></script><link rel=\"stylesheet\" href=\"https://cdn.jsdelivr.net/npm/franken-ui@2.1.0-next.18/dist/css/core.min.css\"></link><link href=\"https://cdn.jsdelivr.net/npm/franken-ui@2.1.0-next.18/dist/css/utilities.min.css\" rel=\"stylesheet\"></link><script src=\"https://cdn.jsdelivr.net/npm/franken-ui@2.1.0-next.18/dist/js/core.iife.js\" type=\"module\"></script><script type=\"module\" src=\"https://cdn.jsdelivr.net/npm/franken-ui@2.1.0-next.18/dist/js/icon.iife.js\"></script></head><body class=\"h-screen p-16 bg-white text-foreground font-sans antialiased\"><div><input placeholder=\"Enter your datastar name\" type=\"text\" class=\"uk-input\" data-bind=\"value\"></input><h1 class=\"uk-h1 mt-2\" data-text=\"$value ? 'Hello ' + $value : 'Your imput should appear here'\"></h1></div></body></html>"
            ],
            "text/plain": [
              "<IPython.core.display.HTML object>"
            ]
          },
          "execution_count": 6,
          "metadata": {},
          "output_type": "execute_result"
        }
      ],
      "source": [
        "\n",
        "show(template(Div(\n",
        "    Input(type=\"text\", cls=\"uk-input\", bind=\"value\", placeholder=\"Enter your datastar name\"),\n",
        "    H1(text=\"$value ? 'Hello ' + $value : 'Your imput should appear here'\", cls=\"uk-h1 mt-2\"),\n",
        "    )))"
      ]
    },
    {
      "cell_type": "code",
      "execution_count": 12,
      "metadata": {},
      "outputs": [
        {
          "data": {
            "text/plain": [
              "'<div data-ref=\"hi\"></div>'"
            ]
          },
          "execution_count": 12,
          "metadata": {},
          "output_type": "execute_result"
        }
      ],
      "source": [
        "Div(\n",
        "   ref=\"hi\",\n",
        ").render()\n"
      ]
    }
  ],
  "metadata": {
    "kernelspec": {
      "display_name": ".venv",
      "language": "python",
      "name": "python3"
    },
    "language_info": {
      "codemirror_mode": {
        "name": "ipython",
        "version": 3
      },
      "file_extension": ".py",
      "mimetype": "text/x-python",
      "name": "python",
      "nbconvert_exporter": "python",
      "pygments_lexer": "ipython3",
      "version": "3.12.9"
    }
  },
  "nbformat": 4,
  "nbformat_minor": 2
}
