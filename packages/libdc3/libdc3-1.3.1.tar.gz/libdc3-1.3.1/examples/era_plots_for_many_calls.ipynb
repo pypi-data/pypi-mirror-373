{
 "cells": [
  {
   "cell_type": "code",
   "execution_count": null,
   "metadata": {},
   "outputs": [],
   "source": [
    "from dotenv import load_dotenv\n",
    "\n",
    "\n",
    "load_dotenv()"
   ]
  },
  {
   "cell_type": "markdown",
   "metadata": {},
   "source": [
    "# Imports"
   ]
  },
  {
   "cell_type": "code",
   "execution_count": null,
   "metadata": {},
   "outputs": [],
   "source": [
    "import json\n",
    "import os\n",
    "\n",
    "from libdc3.config import dc3_config\n",
    "from libdc3.methods.acc_lumi_analyzer import AccLuminosityAnalyzer\n",
    "from libdc3.methods.bril_actions import BrilActions\n",
    "from libdc3.methods.era_plotter import EraPlotter\n",
    "from libdc3.methods.json_producer import JsonProducer\n",
    "from libdc3.methods.lumiloss_analyzer import LumilossAnalyzer\n",
    "from libdc3.methods.lumiloss_plotter import LumilossPlotter\n",
    "from libdc3.methods.rr_actions import RunRegistryActions\n",
    "from libdc3.methods.t0_actions import T0Actions\n",
    "from libdc3.services.caf.client import CAF"
   ]
  },
  {
   "cell_type": "markdown",
   "metadata": {},
   "source": [
    "# User input"
   ]
  },
  {
   "cell_type": "code",
   "execution_count": null,
   "metadata": {},
   "outputs": [],
   "source": [
    "output_path = \"./results/calls_1_24_complete\"\n",
    "\n",
    "# Call specific numbers\n",
    "cycles_list = [\n",
    "    \"Collisions2024_certification_call1\",\n",
    "    \"Collisions2024_certification_call2\",\n",
    "    \"Collisions2024_certification_call3\",\n",
    "    \"Collisions2024_certification_call4\",\n",
    "    \"Collisions2024_certification_call5\",\n",
    "    \"Collisions2024_certification_call6\",\n",
    "    \"Collisions2024_certification_call7\",\n",
    "    \"Collisions2024_certification_call8\",\n",
    "    \"Collisions2024_certification_call9\",\n",
    "    \"Collisions2024_certification_call10\",\n",
    "    \"Collisions2024_certification_call11\",\n",
    "    \"collisions2024_certification_call12\",\n",
    "    \"collisions2024_certification_call13\",\n",
    "    \"collisions2024_certification_call14\",\n",
    "    \"collisions2024_certification_call15\",\n",
    "    \"Collisions2024_certification_call16\",\n",
    "    \"Collisions2024_certification_call17\",\n",
    "    \"Collisions2024_certification_call18\",\n",
    "    \"Collisions2024_certification_call19\",\n",
    "    \"Collisions2024_certification_call20\",\n",
    "    \"Collisions2024_certification_call21\",\n",
    "    \"Collisions2024_certification_call22\",\n",
    "    \"Collisions2024_certification_call23\",\n",
    "    \"Collisions2024_certification_call24\",\n",
    "]\n",
    "ignore_runs_in_any_era = [379337, 379318, 379317, 379316, 379315, 379350, 379349, 378981]\n",
    "\n",
    "# Run registry specific variables\n",
    "rr_class_name = \"Collisions24\"\n",
    "rr_dataset_name = \"/PromptReco/Collisions2024/DQM\"\n",
    "\n",
    "# Bril specific variables\n",
    "bril_brilws_version = \"3.7.4\"\n",
    "bril_unit = \"/ub\"\n",
    "bril_low_lumi_thr = 80000.0\n",
    "bril_beamstatus = \"STABLE BEAMS\"\n",
    "bril_amodetag = \"PROTPHYS\"\n",
    "bril_normtag = \"/cvmfs/cms-bril.cern.ch/cms-lumi-pog/Normtags/normtag_BRIL.json\"\n",
    "\n",
    "# Json production specific\n",
    "ignore_hlt_emergency = False\n",
    "prejson_oms_flags = [\"beam1_present\", \"beam2_present\", \"beam1_stable\", \"beam2_stable\"]\n",
    "goldenjson_oms_flags = [\n",
    "    \"beam1_present\",\n",
    "    \"beam2_present\",\n",
    "    \"beam1_stable\",\n",
    "    \"beam2_stable\",\n",
    "    \"cms_active\",\n",
    "    \"bpix_ready\",\n",
    "    \"fpix_ready\",\n",
    "    \"tibtid_ready\",\n",
    "    \"tecm_ready\",\n",
    "    \"tecp_ready\",\n",
    "    \"tob_ready\",\n",
    "    \"hbhea_ready\",\n",
    "    \"hbheb_ready\",\n",
    "    \"hbhec_ready\",\n",
    "    \"hf_ready\",\n",
    "    \"ho_ready\",\n",
    "]\n",
    "goldenjson_rr_flags = [\n",
    "    \"tracker-pixel\",\n",
    "    \"tracker-strip\",\n",
    "    \"tracker-track\",\n",
    "    \"ecal-ecal\",\n",
    "    \"ecal-es\",\n",
    "    \"hcal-hcal\",\n",
    "    \"csc-csc\",\n",
    "    \"dt-dt\",\n",
    "    \"l1t-l1tmu\",\n",
    "    \"l1t-l1tcalo\",\n",
    "    \"hlt-hlt\",\n",
    "    \"egamma-egamma\",\n",
    "    \"muon-muon\",\n",
    "    \"jetmet-jetmet\",\n",
    "]\n",
    "muonjson_oms_flags = [\n",
    "    \"beam1_present\",\n",
    "    \"beam2_present\",\n",
    "    \"beam1_stable\",\n",
    "    \"beam2_stable\",\n",
    "    \"cms_active\",\n",
    "    \"bpix_ready\",\n",
    "    \"fpix_ready\",\n",
    "    \"tibtid_ready\",\n",
    "    \"tecm_ready\",\n",
    "    \"tecp_ready\",\n",
    "    \"tob_ready\",\n",
    "]\n",
    "muonjson_rr_flags = [\n",
    "    \"tracker-pixel\",\n",
    "    \"tracker-strip\",\n",
    "    \"tracker-track\",\n",
    "    \"csc-csc\",\n",
    "    \"dt-dt\",\n",
    "    \"l1t-l1tmu\",\n",
    "    \"hlt-hlt\",\n",
    "    \"muon-muon\",\n",
    "]\n",
    "\n",
    "# Lumiloss specific\n",
    "target_lumiloss_unit = \"/pb\"\n",
    "lumiloss_dcs_flags = [\n",
    "    \"bpix_ready\",\n",
    "    \"fpix_ready\",\n",
    "    \"tibtid_ready\",\n",
    "    \"tecm_ready\",\n",
    "    \"tecp_ready\",\n",
    "    \"tob_ready\",\n",
    "    \"hbhea_ready\",\n",
    "    \"hbheb_ready\",\n",
    "    \"hbhec_ready\",\n",
    "    \"hf_ready\",\n",
    "    \"ho_ready\",\n",
    "]\n",
    "lumiloss_subsystems_flags = [\n",
    "    \"tracker-pixel\",\n",
    "    \"tracker-strip\",\n",
    "    \"tracker-track\",\n",
    "    \"ecal-ecal\",\n",
    "    \"ecal-es\",\n",
    "    \"hcal-hcal\",\n",
    "    \"csc-csc\",\n",
    "    \"dt-dt\",\n",
    "    \"l1t-l1tmu\",\n",
    "    \"l1t-l1tcalo\",\n",
    "    \"hlt-hlt\",\n",
    "    \"egamma-egamma\",\n",
    "    \"muon-muon\",\n",
    "    \"jetmet-jetmet\",\n",
    "]\n",
    "lumiloss_subdetectors_flags = {\n",
    "    \"PixelPhase1\": [\"tracker-pixel\", \"bpix_ready\", \"fpix_ready\"],\n",
    "    \"SiStrip\": [\"tracker-strip\", \"tibtid_ready\", \"tecm_ready\", \"tecp_ready\", \"tob_ready\"],\n",
    "    \"ECAL\": [\"ecal-ecal\"],\n",
    "    \"ES\": [\"ecal-es\"],\n",
    "    \"HCAL\": [\"hcal-hcal\", \"hbhea_ready\", \"hbheb_ready\", \"hbhec_ready\", \"hf_ready\", \"ho_ready\"],\n",
    "    \"CSC\": [\"csc-csc\"],\n",
    "    \"DT\": [\"dt-dt\"],\n",
    "    \"L1T\": [\"l1t-l1tcalo\", \"l1t-l1tmu\"],\n",
    "    \"HLT\": [\"hlt-hlt\"],\n",
    "    \"Tracking\": [\"tracker-track\"],\n",
    "    \"MuonPOG\": [\"muon-muon\"],\n",
    "    \"JetMET\": [\"jetmet-jetmet\"],\n",
    "    \"EGamma\": [\"egamma-egamma\"],\n",
    "}\n",
    "\n",
    "# Acc. luminosity variables\n",
    "target_acclumi_unit = \"/fb\"\n",
    "acc_lumi_year = 2024\n",
    "acc_lumi_energy_label = \"13.6 TeV\"\n",
    "acc_lumi_additional_label_on_plot = \"CMS Preliminary Offline Luminosity\"  # None if no label\n",
    "\n",
    "# Eras specific variables (T0)\n",
    "eras_prefix = \"Run2024\"\n",
    "ignore_eras = [\"Run2024A\"]"
   ]
  },
  {
   "cell_type": "markdown",
   "metadata": {},
   "source": [
    "# Configure dc3 sensitive variables"
   ]
  },
  {
   "cell_type": "code",
   "execution_count": null,
   "metadata": {},
   "outputs": [],
   "source": [
    "dc3_config.set_keytab_usr(os.getenv(\"KEYTAB_USR\"))\n",
    "dc3_config.set_keytab_pwd(os.getenv(\"KEYTAB_PWD\"))\n",
    "dc3_config.set_auth_cert_path(os.getenv(\"AUTH_CERT\"))\n",
    "dc3_config.set_auth_key_path(os.getenv(\"AUTH_CERT_KEY\"))"
   ]
  },
  {
   "cell_type": "markdown",
   "metadata": {},
   "source": [
    "# Setup output path if not exists"
   ]
  },
  {
   "cell_type": "code",
   "execution_count": null,
   "metadata": {},
   "outputs": [],
   "source": [
    "os.makedirs(output_path, exist_ok=True)"
   ]
  },
  {
   "cell_type": "markdown",
   "metadata": {},
   "source": [
    "# Fetch RR and OMS lumisections for all runs"
   ]
  },
  {
   "cell_type": "code",
   "execution_count": null,
   "metadata": {},
   "outputs": [],
   "source": [
    "rra = RunRegistryActions(class_name=rr_class_name, dataset_name=rr_dataset_name)\n",
    "runs_in_all_cycles = rra.fetch_runs_in_cycles(cycles_list=cycles_list)"
   ]
  },
  {
   "cell_type": "code",
   "execution_count": null,
   "metadata": {},
   "outputs": [],
   "source": [
    "min_run = min(runs_in_all_cycles)\n",
    "max_run = max(runs_in_all_cycles)\n",
    "all_datasets = rra.fetch_datasets(min_run=min_run, max_run=max_run)\n",
    "all_runs = [dataset[\"run_number\"] for dataset in all_datasets]\n",
    "del all_datasets"
   ]
  },
  {
   "cell_type": "code",
   "execution_count": null,
   "metadata": {},
   "outputs": [],
   "source": [
    "offline_lumis = rra.multi_fetch_rr_oms_joint_lumis(run_list=all_runs)"
   ]
  },
  {
   "cell_type": "markdown",
   "metadata": {},
   "source": [
    "# Check which runs are not in the DCSOnly Json"
   ]
  },
  {
   "cell_type": "code",
   "execution_count": null,
   "metadata": {},
   "outputs": [],
   "source": [
    "caf = CAF(rr_class_name, kind=\"dcs\")\n",
    "dcs_json = caf.download(latest=True)\n",
    "runs_not_in_dcs_json = [run for run in all_runs if str(run) not in dcs_json.keys()]\n",
    "del caf, dcs_json"
   ]
  },
  {
   "cell_type": "markdown",
   "metadata": {},
   "source": [
    "# Instantiate the JSON producer"
   ]
  },
  {
   "cell_type": "code",
   "execution_count": null,
   "metadata": {},
   "outputs": [],
   "source": [
    "elegible_runs = [*runs_in_all_cycles, *runs_not_in_dcs_json]\n",
    "filtered_lumis = [lumi for lumi in offline_lumis if lumi[\"run_number\"] in elegible_runs]\n",
    "producer = JsonProducer(rr_oms_lumis=filtered_lumis, ignore_hlt_emergency=ignore_hlt_emergency)\n",
    "del filtered_lumis"
   ]
  },
  {
   "cell_type": "markdown",
   "metadata": {},
   "source": [
    "# Generate the preJSON"
   ]
  },
  {
   "cell_type": "code",
   "execution_count": null,
   "metadata": {},
   "outputs": [],
   "source": [
    "pjson = producer.generate(prejson_oms_flags)\n",
    "\n",
    "# Save\n",
    "base_path = os.path.join(output_path, \"jsons\")\n",
    "os.makedirs(base_path, exist_ok=True)\n",
    "fpath = os.path.join(base_path, \"pre.json\")\n",
    "with open(fpath, \"w\") as f:\n",
    "    json.dump(pjson, f, ensure_ascii=False, indent=4)"
   ]
  },
  {
   "cell_type": "markdown",
   "metadata": {},
   "source": [
    "# Generate the goldenJSON"
   ]
  },
  {
   "cell_type": "code",
   "execution_count": null,
   "metadata": {},
   "outputs": [],
   "source": [
    "gjson = producer.generate(goldenjson_oms_flags, goldenjson_rr_flags)\n",
    "\n",
    "# Save\n",
    "base_path = os.path.join(output_path, \"jsons\")\n",
    "os.makedirs(base_path, exist_ok=True)\n",
    "fpath = os.path.join(base_path, \"golden.json\")\n",
    "with open(fpath, \"w\") as f:\n",
    "    json.dump(gjson, f, ensure_ascii=False, indent=4)"
   ]
  },
  {
   "cell_type": "markdown",
   "metadata": {},
   "source": [
    "# Generate the muonJSON"
   ]
  },
  {
   "cell_type": "code",
   "execution_count": null,
   "metadata": {},
   "outputs": [],
   "source": [
    "mjson = producer.generate(muonjson_oms_flags, muonjson_rr_flags)\n",
    "\n",
    "# Save\n",
    "base_path = os.path.join(output_path, \"jsons\")\n",
    "os.makedirs(base_path, exist_ok=True)\n",
    "fpath = os.path.join(base_path, \"muon.json\")\n",
    "with open(fpath, \"w\") as f:\n",
    "    json.dump(mjson, f, ensure_ascii=False, indent=4)"
   ]
  },
  {
   "cell_type": "markdown",
   "metadata": {},
   "source": [
    "# Fetch BRIL lumisections for run list"
   ]
  },
  {
   "cell_type": "code",
   "execution_count": null,
   "metadata": {},
   "outputs": [],
   "source": [
    "ba = BrilActions(\n",
    "    brilws_version=bril_brilws_version,\n",
    "    unit=bril_unit,\n",
    "    low_lumi_thr=bril_low_lumi_thr,\n",
    "    beamstatus=bril_beamstatus,\n",
    "    amodetag=bril_amodetag,\n",
    "    normtag=bril_normtag,\n",
    ")\n",
    "bril_lumis = ba.fetch_lumis(begin=min_run, end=max_run).get(\"detailed\")\n",
    "bril_lumis_by_run = ba.agg_by_run(bril_lumis)"
   ]
  },
  {
   "cell_type": "markdown",
   "metadata": {},
   "source": [
    "# Fetch T0 eras"
   ]
  },
  {
   "cell_type": "code",
   "execution_count": null,
   "metadata": {},
   "outputs": [],
   "source": [
    "t0a = T0Actions()\n",
    "eras = t0a.eras_history(era=eras_prefix)\n",
    "eras = [era for era in eras if era[\"era\"] not in ignore_eras]"
   ]
  },
  {
   "cell_type": "markdown",
   "metadata": {},
   "source": [
    "# Generate lumiloss analysis and acc luminosity plots per era\n",
    "\n",
    "For each era, filter RR_OMS and BRIL data by the runs contained in the era run range"
   ]
  },
  {
   "cell_type": "code",
   "execution_count": null,
   "metadata": {},
   "outputs": [],
   "source": [
    "eras_statistics = []\n",
    "\n",
    "for era in eras:\n",
    "    era_name = era[\"era\"]\n",
    "    min_run_in_era = era[\"min_run\"]\n",
    "    max_run_in_era = era[\"max_run\"]\n",
    "\n",
    "    # All runs (from RR datasets) in this interval\n",
    "    runs_in_era = [run for run in all_runs if run >= min_run_in_era and run <= max_run_in_era]\n",
    "    if len(runs_in_era) == 0:\n",
    "        continue\n",
    "\n",
    "    # Filter data to era scope\n",
    "    offline_lumis_in_era = [\n",
    "        lumi for lumi in offline_lumis if lumi[\"run_number\"] >= min_run_in_era and lumi[\"run_number\"] <= max_run_in_era\n",
    "    ]\n",
    "    pjson_in_era = {\n",
    "        run: lumi_ranges for run, lumi_ranges in pjson.items() if run >= min_run_in_era and run <= max_run_in_era\n",
    "    }\n",
    "    gjson_in_era = {\n",
    "        run: lumi_ranges for run, lumi_ranges in gjson.items() if run >= min_run_in_era and run <= max_run_in_era\n",
    "    }\n",
    "    mjson_in_era = {\n",
    "        run: lumi_ranges for run, lumi_ranges in mjson.items() if run >= min_run_in_era and run <= max_run_in_era\n",
    "    }\n",
    "    bril_lumis_in_era = [\n",
    "        lumi for lumi in bril_lumis if lumi[\"run_number\"] >= min_run_in_era and lumi[\"run_number\"] <= max_run_in_era\n",
    "    ]\n",
    "    bril_lumis_by_run_in_era = [\n",
    "        run for run in bril_lumis_by_run if run[\"run_number\"] >= min_run_in_era and run[\"run_number\"] <= max_run_in_era\n",
    "    ]\n",
    "\n",
    "    # It is possible that a run included in an old cycle (from eraB for example) wasn't low lumi at the time\n",
    "    # and now (with normtag updates) is considered low lumi.\n",
    "    #\n",
    "    # This run will appear in both arrays:\n",
    "    # - runs_in_all_cycles\n",
    "    # - low_lumi_runs\n",
    "    #\n",
    "    # We need to remove this run from the `low_lumi_runs` since it was certified in the past!\n",
    "    runs_from_cycles_in_era = [run for run in runs_in_all_cycles if run >= min_run_in_era and run <= max_run_in_era]\n",
    "    low_lumi_runs_in_era = [\n",
    "        run[\"run_number\"]\n",
    "        for run in bril_lumis_by_run_in_era\n",
    "        if run[\"run_number\"] not in runs_from_cycles_in_era and run[\"has_low_recorded\"]\n",
    "    ]\n",
    "\n",
    "    # It is possible that the last era contains runs that weren't sent to certification yet\n",
    "    # because at the time of the latest DC call these runs hadn't all datasets in DQM GUI.\n",
    "    # We need to ignore this run in lumiloss, but consider in Acc Lumi!\n",
    "    #\n",
    "    # To identify these runs:\n",
    "    # - Shouldn't be in any cycle\n",
    "    # - Shouldn't be in low lumi list\n",
    "    # - Shouldn't be in ignore runs list\n",
    "    # - Shouldn't be in not in DCSOnly list\n",
    "    runs_not_in_dcs_json_for_era = [\n",
    "        run for run in runs_in_era if run in runs_not_in_dcs_json and run not in low_lumi_runs_in_era\n",
    "    ]\n",
    "    classified_runs = [\n",
    "        *runs_not_in_dcs_json_for_era,\n",
    "        *runs_from_cycles_in_era,\n",
    "        *low_lumi_runs_in_era,\n",
    "        *ignore_runs_in_any_era,\n",
    "    ]\n",
    "    other_runs_in_era = [run for run in runs_in_era if run not in classified_runs]\n",
    "    ignore_runs_in_any_era.extend(other_runs_in_era)\n",
    "\n",
    "    print(f\"\\n{era_name}\")\n",
    "    print(\"runs_in_era\", runs_in_era)\n",
    "    print(\"runs_from_cycles_in_era\", runs_from_cycles_in_era)\n",
    "    print(\"low_lumi_runs_in_era\", low_lumi_runs_in_era)\n",
    "    print(\"runs_not_in_dcs_json_for_era\", runs_not_in_dcs_json_for_era)\n",
    "    print(\"ignore_runs_in_any_era\", ignore_runs_in_any_era)\n",
    "\n",
    "    # Check lumiloss\n",
    "    lumiloss_for_era = LumilossAnalyzer(\n",
    "        rr_oms_lumis=offline_lumis_in_era,\n",
    "        bril_lumis=bril_lumis_in_era,\n",
    "        pre_json=pjson_in_era,\n",
    "        dc_json=gjson_in_era,\n",
    "        low_lumi_runs=low_lumi_runs_in_era,\n",
    "        ignore_runs=ignore_runs_in_any_era,\n",
    "        bril_unit=bril_unit,\n",
    "        target_unit=target_lumiloss_unit,\n",
    "    )\n",
    "    lumiloss_results = lumiloss_for_era.analyze(\n",
    "        lumiloss_dcs_flags, lumiloss_subsystems_flags, lumiloss_subdetectors_flags\n",
    "    )\n",
    "    lumiloss_results[\"stats\"] = {\n",
    "        \"unit\": lumiloss_for_era.final_unit,\n",
    "        \"total_delivered\": lumiloss_for_era.total_delivered,\n",
    "        \"total_recorded\": lumiloss_for_era.total_recorded,\n",
    "        \"total_low_lumi\": lumiloss_for_era.total_low_lumi,\n",
    "        \"total_ignore_runs\": lumiloss_for_era.total_ignore_runs,\n",
    "        \"total_not_stable_beams\": lumiloss_for_era.total_not_stable_beams,\n",
    "        \"total_not_in_oms_rr\": lumiloss_for_era.total_not_in_oms_rr,\n",
    "        \"total_processed\": lumiloss_for_era.total_processed,\n",
    "        \"total_loss\": lumiloss_for_era.total_loss,\n",
    "        \"total_certified\": lumiloss_for_era.total_certified,\n",
    "        \"data_taking_eff\": lumiloss_for_era.data_taking_eff,\n",
    "        \"recorded_eff\": lumiloss_for_era.recorded_eff,\n",
    "        \"processed_eff\": lumiloss_for_era.processed_eff,\n",
    "    }\n",
    "\n",
    "    # Setup directory for plots\n",
    "    era_outpath = output_path + \"/eras/\" + era_name\n",
    "    os.makedirs(era_outpath, exist_ok=True)\n",
    "\n",
    "    # Save jsons\n",
    "    era_jsons_path = os.path.join(era_outpath, \"jsons\")\n",
    "    os.makedirs(era_jsons_path, exist_ok=True)\n",
    "\n",
    "    fpath = os.path.join(era_jsons_path, \"pre.json\")\n",
    "    with open(fpath, \"w\") as f:\n",
    "        json.dump(pjson_in_era, f, ensure_ascii=False, indent=4)\n",
    "\n",
    "    fpath = os.path.join(era_jsons_path, \"golden.json\")\n",
    "    with open(fpath, \"w\") as f:\n",
    "        json.dump(gjson_in_era, f, ensure_ascii=False, indent=4)\n",
    "\n",
    "    fpath = os.path.join(era_jsons_path, \"muon.json\")\n",
    "    with open(fpath, \"w\") as f:\n",
    "        json.dump(mjson_in_era, f, ensure_ascii=False, indent=4)\n",
    "\n",
    "    # Save lumiloss results\n",
    "    lumiloss_data_path = os.path.join(era_outpath, \"lumiloss/data\")\n",
    "    os.makedirs(lumiloss_data_path, exist_ok=True)\n",
    "\n",
    "    for key, value in lumiloss_results.items():\n",
    "        fpath = os.path.join(lumiloss_data_path, f\"{key}.json\")\n",
    "        with open(fpath, \"w\") as f:\n",
    "            json.dump(value, f)\n",
    "\n",
    "    # Plot lumiloss\n",
    "    lumiloss_plots_path = os.path.join(era_outpath, \"lumiloss/plots\")\n",
    "    os.makedirs(lumiloss_plots_path, exist_ok=True)\n",
    "\n",
    "    plots = LumilossPlotter(lumiloss=lumiloss_results, unit=target_lumiloss_unit, output_path=lumiloss_plots_path)\n",
    "    plots.plot_subsystem_dqmflag_loss(save_pdf=True)\n",
    "    plots.plot_dcs_loss(save_pdf=True)\n",
    "    plots.plot_cms_inclusive_loss(save_pdf=True)\n",
    "    plots.plot_cms_exclusive_loss(save_pdf=True)\n",
    "    plots.plot_cms_detailed_fraction_exclusive_loss(save_pdf=True)\n",
    "    plots.plot_inclusive_loss_by_subdetector(save_pdf=True)\n",
    "    plots.plot_exclusive_loss_by_subdetector(save_pdf=True)\n",
    "    plots.plot_fraction_of_exclusive_loss_by_subdetector(save_pdf=True)\n",
    "\n",
    "    # Plot acc luminosity for goldenJSON\n",
    "    acc_lumi_plots_path = os.path.join(era_outpath, \"acc_lumi/golden\")\n",
    "    os.makedirs(acc_lumi_plots_path, exist_ok=True)\n",
    "\n",
    "    acc_lumi = AccLuminosityAnalyzer(\n",
    "        dc_json=gjson_in_era,\n",
    "        bril_lumis=bril_lumis_in_era,\n",
    "        bril_amodetag=bril_amodetag,\n",
    "        bril_unit=bril_unit,\n",
    "        target_unit=target_acclumi_unit,\n",
    "        year=acc_lumi_year,\n",
    "        plot_energy_label=acc_lumi_energy_label,\n",
    "        output_path=acc_lumi_plots_path,\n",
    "        additional_label_on_plot=acc_lumi_additional_label_on_plot,\n",
    "    )\n",
    "    acc_lumi.plot_acc_lumi_by_day(save_pdf=True)\n",
    "    acc_lumi.plot_acc_lumi_by_week(save_pdf=True)\n",
    "    del acc_lumi\n",
    "\n",
    "    # Plot acc luminosity for muonJSON\n",
    "    acc_lumi_plots_path = os.path.join(era_outpath, \"acc_lumi/muon\")\n",
    "    os.makedirs(acc_lumi_plots_path, exist_ok=True)\n",
    "\n",
    "    acc_lumi = AccLuminosityAnalyzer(\n",
    "        dc_json=mjson_in_era,\n",
    "        bril_lumis=bril_lumis_in_era,\n",
    "        bril_amodetag=bril_amodetag,\n",
    "        bril_unit=bril_unit,\n",
    "        target_unit=target_acclumi_unit,\n",
    "        year=acc_lumi_year,\n",
    "        plot_energy_label=acc_lumi_energy_label,\n",
    "        output_path=acc_lumi_plots_path,\n",
    "        additional_label_on_plot=acc_lumi_additional_label_on_plot,\n",
    "    )\n",
    "    acc_lumi.plot_acc_lumi_by_day(save_pdf=True)\n",
    "    acc_lumi.plot_acc_lumi_by_week(save_pdf=True)\n",
    "    del acc_lumi, bril_lumis_in_era\n",
    "\n",
    "    # Save era statistics\n",
    "    eras_statistics.append(\n",
    "        {\n",
    "            \"era\": era_name,\n",
    "            \"start_run\": min_run_in_era,\n",
    "            \"end_run\": max_run_in_era,\n",
    "            \"lhc_delivered\": lumiloss_for_era.total_delivered,\n",
    "            \"cms_recorded\": lumiloss_for_era.total_recorded,\n",
    "            \"total_low_lumi\": lumiloss_for_era.total_low_lumi,\n",
    "            \"total_ignore_runs\": lumiloss_for_era.total_ignore_runs,\n",
    "            \"total_not_stable_beams\": lumiloss_for_era.total_not_stable_beams,\n",
    "            \"total_not_in_oms_rr\": lumiloss_for_era.total_not_in_oms_rr,\n",
    "            \"dc_processed\": lumiloss_for_era.total_processed,\n",
    "            \"total_loss\": lumiloss_for_era.total_loss,\n",
    "            \"dc_certified\": lumiloss_for_era.total_certified,\n",
    "            \"processed_eff\": lumiloss_for_era.processed_eff,\n",
    "            \"data_taking_eff\": lumiloss_for_era.data_taking_eff,\n",
    "            \"recorded_eff\": lumiloss_for_era.recorded_eff,\n",
    "        }\n",
    "    )\n",
    "\n",
    "    del (\n",
    "        pjson_in_era,\n",
    "        mjson_in_era,\n",
    "        gjson_in_era,\n",
    "        offline_lumis_in_era,\n",
    "        bril_lumis_by_run_in_era,\n",
    "        low_lumi_runs_in_era,\n",
    "        lumiloss_for_era,\n",
    "        plots,\n",
    "        lumiloss_results,\n",
    "    )\n",
    "\n",
    "del offline_lumis"
   ]
  },
  {
   "cell_type": "markdown",
   "metadata": {},
   "source": [
    "#  Generate dc efficiency per era plot"
   ]
  },
  {
   "cell_type": "code",
   "execution_count": null,
   "metadata": {},
   "outputs": [],
   "source": [
    "eras_eff_plots_path = os.path.join(output_path, \"eras\")\n",
    "os.makedirs(eras_eff_plots_path, exist_ok=True)\n",
    "\n",
    "era_plotter = EraPlotter(eras_statistics, acc_lumi_year, eras_eff_plots_path)\n",
    "era_plotter.plot_dc_efficiency_by_processed_per_era(save_pdf=True)\n",
    "era_plotter.plot_dc_efficiency_by_recorded_per_era(save_pdf=True)\n",
    "\n",
    "del era_plotter, eras_eff_plots_path"
   ]
  },
  {
   "cell_type": "markdown",
   "metadata": {},
   "source": [
    "# Inspect statistics by era + ALL IN"
   ]
  },
  {
   "cell_type": "code",
   "execution_count": null,
   "metadata": {},
   "outputs": [],
   "source": [
    "print(\"Min run considered (RR_OMS, BRIL):\", min_run)\n",
    "print(\"Max run considered (RR_OMS, BRIL):\", max_run)"
   ]
  },
  {
   "cell_type": "code",
   "execution_count": null,
   "metadata": {},
   "outputs": [],
   "source": [
    "for stats in eras_statistics:\n",
    "    print(stats)"
   ]
  },
  {
   "cell_type": "code",
   "execution_count": null,
   "metadata": {},
   "outputs": [],
   "source": [
    "os.makedirs(os.path.join(output_path, \"acc_lumi\"), exist_ok=True)\n",
    "all_in_stats_path = os.path.join(output_path, \"acc_lumi/stats.json\")\n",
    "with open(all_in_stats_path, \"w\") as f:\n",
    "    all_in = {\"min_run_rr\": min_run, \"max_run_rr\": max_run, **eras_statistics[-1]}\n",
    "    json.dump(all_in, f)"
   ]
  },
  {
   "cell_type": "markdown",
   "metadata": {},
   "source": [
    "# Generate acc luminosity plot for all calls for goldenJSON"
   ]
  },
  {
   "cell_type": "code",
   "execution_count": null,
   "metadata": {},
   "outputs": [],
   "source": [
    "acc_lumi_plots_path = os.path.join(output_path, \"acc_lumi/golden\")\n",
    "os.makedirs(acc_lumi_plots_path, exist_ok=True)\n",
    "\n",
    "acc_lumi = AccLuminosityAnalyzer(\n",
    "    dc_json=gjson,\n",
    "    bril_lumis=bril_lumis,\n",
    "    bril_amodetag=bril_amodetag,\n",
    "    bril_unit=bril_unit,\n",
    "    target_unit=target_acclumi_unit,\n",
    "    year=acc_lumi_year,\n",
    "    plot_energy_label=acc_lumi_energy_label,\n",
    "    output_path=acc_lumi_plots_path,\n",
    "    additional_label_on_plot=acc_lumi_additional_label_on_plot,\n",
    ")\n",
    "acc_lumi.plot_acc_lumi_by_day(save_pdf=True)\n",
    "acc_lumi.plot_acc_lumi_by_week(save_pdf=True)\n",
    "del acc_lumi"
   ]
  },
  {
   "cell_type": "markdown",
   "metadata": {},
   "source": [
    "# Generate acc luminosity plot for all calls for muonJSON"
   ]
  },
  {
   "cell_type": "code",
   "execution_count": null,
   "metadata": {},
   "outputs": [],
   "source": [
    "acc_lumi_plots_path = os.path.join(output_path, \"acc_lumi/muon\")\n",
    "os.makedirs(acc_lumi_plots_path, exist_ok=True)\n",
    "\n",
    "acc_lumi = AccLuminosityAnalyzer(\n",
    "    dc_json=mjson,\n",
    "    bril_lumis=bril_lumis,\n",
    "    bril_amodetag=bril_amodetag,\n",
    "    bril_unit=bril_unit,\n",
    "    target_unit=target_acclumi_unit,\n",
    "    year=acc_lumi_year,\n",
    "    plot_energy_label=acc_lumi_energy_label,\n",
    "    output_path=acc_lumi_plots_path,\n",
    "    additional_label_on_plot=acc_lumi_additional_label_on_plot,\n",
    ")\n",
    "acc_lumi.plot_acc_lumi_by_day(save_pdf=True)\n",
    "acc_lumi.plot_acc_lumi_by_week(save_pdf=True)\n",
    "del acc_lumi, bril_lumis, mjson, pjson, gjson"
   ]
  },
  {
   "cell_type": "code",
   "execution_count": null,
   "metadata": {},
   "outputs": [],
   "source": []
  }
 ],
 "metadata": {
  "kernelspec": {
   "display_name": ".venv",
   "language": "python",
   "name": "python3"
  },
  "language_info": {
   "codemirror_mode": {
    "name": "ipython",
    "version": 3
   },
   "file_extension": ".py",
   "mimetype": "text/x-python",
   "name": "python",
   "nbconvert_exporter": "python",
   "pygments_lexer": "ipython3",
   "version": "3.12.9"
  }
 },
 "nbformat": 4,
 "nbformat_minor": 2
}
