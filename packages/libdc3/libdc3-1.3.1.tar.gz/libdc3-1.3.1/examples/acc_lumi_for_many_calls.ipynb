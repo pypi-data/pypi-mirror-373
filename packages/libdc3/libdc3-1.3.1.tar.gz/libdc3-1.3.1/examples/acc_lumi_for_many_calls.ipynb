{
 "cells": [
  {
   "cell_type": "code",
   "execution_count": null,
   "metadata": {},
   "outputs": [],
   "source": [
    "from dotenv import load_dotenv\n",
    "\n",
    "\n",
    "load_dotenv()"
   ]
  },
  {
   "cell_type": "markdown",
   "metadata": {},
   "source": [
    "# Imports"
   ]
  },
  {
   "cell_type": "code",
   "execution_count": null,
   "metadata": {},
   "outputs": [],
   "source": [
    "import json\n",
    "import os\n",
    "\n",
    "from libdc3.config import dc3_config\n",
    "from libdc3.methods.acc_lumi_analyzer import AccLuminosityAnalyzer\n",
    "from libdc3.methods.bril_actions import BrilActions\n",
    "from libdc3.methods.json_producer import JsonProducer\n",
    "from libdc3.methods.rr_actions import RunRegistryActions"
   ]
  },
  {
   "cell_type": "markdown",
   "metadata": {},
   "source": [
    "# User input"
   ]
  },
  {
   "cell_type": "code",
   "execution_count": null,
   "metadata": {},
   "outputs": [],
   "source": [
    "output_path = \"./results/calls_1_23\"\n",
    "\n",
    "# Call specific numbers\n",
    "cycles_list = [\n",
    "    \"Collisions2024_certification_call1\",\n",
    "    \"Collisions2024_certification_call2\",\n",
    "    \"Collisions2024_certification_call3\",\n",
    "    \"Collisions2024_certification_call4\",\n",
    "    \"Collisions2024_certification_call5\",\n",
    "    \"Collisions2024_certification_call6\",\n",
    "    \"Collisions2024_certification_call7\",\n",
    "    \"Collisions2024_certification_call8\",\n",
    "    \"Collisions2024_certification_call9\",\n",
    "    \"Collisions2024_certification_call10\",\n",
    "    \"Collisions2024_certification_call11\",\n",
    "    \"collisions2024_certification_call12\",\n",
    "    \"collisions2024_certification_call13\",\n",
    "    \"collisions2024_certification_call14\",\n",
    "    \"collisions2024_certification_call15\",\n",
    "    \"Collisions2024_certification_call16\",\n",
    "    \"Collisions2024_certification_call17\",\n",
    "    \"Collisions2024_certification_call18\",\n",
    "    \"Collisions2024_certification_call19\",\n",
    "    \"Collisions2024_certification_call20\",\n",
    "    \"Collisions2024_certification_call21\",\n",
    "    \"Collisions2024_certification_call22\",\n",
    "    \"Collisions2024_certification_call23\",\n",
    "]\n",
    "\n",
    "# Run registry specific variables\n",
    "rr_class_name = \"Collisions24\"\n",
    "rr_dataset_name = \"/PromptReco/Collisions2024/DQM\"\n",
    "\n",
    "# Bril specific variables\n",
    "bril_brilws_version = \"3.7.4\"\n",
    "bril_unit = \"/ub\"\n",
    "bril_low_lumi_thr = 80000.0\n",
    "bril_beamstatus = \"STABLE BEAMS\"\n",
    "bril_amodetag = \"PROTPHYS\"\n",
    "bril_normtag = \"/cvmfs/cms-bril.cern.ch/cms-lumi-pog/Normtags/normtag_BRIL.json\"\n",
    "\n",
    "# Json production specific\n",
    "ignore_hlt_emergency = False\n",
    "prejson_oms_flags = [\"beam1_present\", \"beam2_present\", \"beam1_stable\", \"beam2_stable\"]\n",
    "goldenjson_oms_flags = [\n",
    "    \"beam1_present\",\n",
    "    \"beam2_present\",\n",
    "    \"beam1_stable\",\n",
    "    \"beam2_stable\",\n",
    "    \"cms_active\",\n",
    "    \"bpix_ready\",\n",
    "    \"fpix_ready\",\n",
    "    \"tibtid_ready\",\n",
    "    \"tecm_ready\",\n",
    "    \"tecp_ready\",\n",
    "    \"tob_ready\",\n",
    "    \"hbhea_ready\",\n",
    "    \"hbheb_ready\",\n",
    "    \"hbhec_ready\",\n",
    "    \"hf_ready\",\n",
    "    \"ho_ready\",\n",
    "]\n",
    "goldenjson_rr_flags = [\n",
    "    \"tracker-pixel\",\n",
    "    \"tracker-strip\",\n",
    "    \"tracker-track\",\n",
    "    \"ecal-ecal\",\n",
    "    \"ecal-es\",\n",
    "    \"hcal-hcal\",\n",
    "    \"csc-csc\",\n",
    "    \"dt-dt\",\n",
    "    \"l1t-l1tmu\",\n",
    "    \"l1t-l1tcalo\",\n",
    "    \"hlt-hlt\",\n",
    "    \"egamma-egamma\",\n",
    "    \"muon-muon\",\n",
    "    \"jetmet-jetmet\",\n",
    "]\n",
    "muonjson_oms_flags = [\n",
    "    \"beam1_present\",\n",
    "    \"beam2_present\",\n",
    "    \"beam1_stable\",\n",
    "    \"beam2_stable\",\n",
    "    \"cms_active\",\n",
    "    \"bpix_ready\",\n",
    "    \"fpix_ready\",\n",
    "    \"tibtid_ready\",\n",
    "    \"tecm_ready\",\n",
    "    \"tecp_ready\",\n",
    "    \"tob_ready\",\n",
    "]\n",
    "muonjson_rr_flags = [\n",
    "    \"tracker-pixel\",\n",
    "    \"tracker-strip\",\n",
    "    \"tracker-track\",\n",
    "    \"csc-csc\",\n",
    "    \"dt-dt\",\n",
    "    \"l1t-l1tmu\",\n",
    "    \"hlt-hlt\",\n",
    "    \"muon-muon\",\n",
    "]\n",
    "\n",
    "# Lumiloss specific\n",
    "target_lumiloss_unit = \"/pb\"\n",
    "lumiloss_dcs_flags = [\n",
    "    \"bpix_ready\",\n",
    "    \"fpix_ready\",\n",
    "    \"tibtid_ready\",\n",
    "    \"tecm_ready\",\n",
    "    \"tecp_ready\",\n",
    "    \"tob_ready\",\n",
    "    \"hbhea_ready\",\n",
    "    \"hbheb_ready\",\n",
    "    \"hbhec_ready\",\n",
    "    \"hf_ready\",\n",
    "    \"ho_ready\",\n",
    "]\n",
    "lumiloss_subsystems_flags = [\n",
    "    \"tracker-pixel\",\n",
    "    \"tracker-strip\",\n",
    "    \"tracker-track\",\n",
    "    \"ecal-ecal\",\n",
    "    \"ecal-es\",\n",
    "    \"hcal-hcal\",\n",
    "    \"csc-csc\",\n",
    "    \"dt-dt\",\n",
    "    \"l1t-l1tmu\",\n",
    "    \"l1t-l1tcalo\",\n",
    "    \"hlt-hlt\",\n",
    "    \"egamma-egamma\",\n",
    "    \"muon-muon\",\n",
    "    \"jetmet-jetmet\",\n",
    "]\n",
    "lumiloss_subdetectors_flags = {\n",
    "    \"PixelPhase1\": [\"tracker-pixel\", \"bpix_ready\", \"fpix_ready\"],\n",
    "    \"SiStrip\": [\"tracker-strip\", \"tibtid_ready\", \"tecm_ready\", \"tecp_ready\", \"tob_ready\"],\n",
    "    \"ECAL\": [\"ecal-ecal\"],\n",
    "    \"ES\": [\"ecal-es\"],\n",
    "    \"HCAL\": [\"hcal-hcal\", \"hbhea_ready\", \"hbheb_ready\", \"hbhec_ready\", \"hf_ready\", \"ho_ready\"],\n",
    "    \"CSC\": [\"csc-csc\"],\n",
    "    \"DT\": [\"dt-dt\"],\n",
    "    \"L1T\": [\"l1t-l1tcalo\", \"l1t-l1tmu\"],\n",
    "    \"HLT\": [\"hlt-hlt\"],\n",
    "    \"Tracking\": [\"tracker-track\"],\n",
    "    \"MuonPOG\": [\"muon-muon\"],\n",
    "    \"JetMET\": [\"jetmet-jetmet\"],\n",
    "    \"EGamma\": [\"egamma-egamma\"],\n",
    "}\n",
    "\n",
    "# Acc. luminosity variables\n",
    "target_acclumi_unit = \"/fb\"\n",
    "acc_lumi_year = 2024\n",
    "acc_lumi_energy_label = \"13.6 TeV\"\n",
    "acc_lumi_additional_label_on_plot = \"CMS Preliminary Offline Luminosity\"  # None if no label"
   ]
  },
  {
   "cell_type": "markdown",
   "metadata": {},
   "source": [
    "# Configure dc3 sensitive variables"
   ]
  },
  {
   "cell_type": "code",
   "execution_count": null,
   "metadata": {},
   "outputs": [],
   "source": [
    "dc3_config.set_keytab_usr(os.getenv(\"KEYTAB_USR\"))\n",
    "dc3_config.set_keytab_pwd(os.getenv(\"KEYTAB_PWD\"))\n",
    "dc3_config.set_auth_cert_path(os.getenv(\"AUTH_CERT\"))\n",
    "dc3_config.set_auth_key_path(os.getenv(\"AUTH_CERT_KEY\"))"
   ]
  },
  {
   "cell_type": "markdown",
   "metadata": {},
   "source": [
    "# Setup output path if not exists"
   ]
  },
  {
   "cell_type": "code",
   "execution_count": null,
   "metadata": {},
   "outputs": [],
   "source": [
    "os.makedirs(output_path, exist_ok=True)"
   ]
  },
  {
   "cell_type": "markdown",
   "metadata": {},
   "source": [
    "# Fetch RR and OMS lumisections for all runs"
   ]
  },
  {
   "cell_type": "code",
   "execution_count": null,
   "metadata": {},
   "outputs": [],
   "source": [
    "rra = RunRegistryActions(class_name=rr_class_name, dataset_name=rr_dataset_name)\n",
    "runs_in_all_cycles = rra.fetch_runs_in_cycles(cycles_list=cycles_list)\n",
    "offline_lumis = rra.multi_fetch_rr_oms_joint_lumis(run_list=runs_in_all_cycles)"
   ]
  },
  {
   "cell_type": "markdown",
   "metadata": {},
   "source": [
    "# Instantiate the JSON producer"
   ]
  },
  {
   "cell_type": "code",
   "execution_count": null,
   "metadata": {},
   "outputs": [],
   "source": [
    "producer = JsonProducer(rr_oms_lumis=offline_lumis, ignore_hlt_emergency=ignore_hlt_emergency)"
   ]
  },
  {
   "cell_type": "markdown",
   "metadata": {},
   "source": [
    "# Generate the goldenJSON"
   ]
  },
  {
   "cell_type": "code",
   "execution_count": null,
   "metadata": {},
   "outputs": [],
   "source": [
    "gjson = producer.generate(goldenjson_oms_flags, goldenjson_rr_flags)\n",
    "\n",
    "# Save\n",
    "base_path = os.path.join(output_path, \"jsons\")\n",
    "os.makedirs(base_path, exist_ok=True)\n",
    "fpath = os.path.join(base_path, \"golden.json\")\n",
    "with open(fpath, \"w\") as f:\n",
    "    json.dump(gjson, f, ensure_ascii=False, indent=4)\n",
    "\n",
    "# Display\n",
    "gjson"
   ]
  },
  {
   "cell_type": "markdown",
   "metadata": {},
   "source": [
    "# Generate the muonJSON"
   ]
  },
  {
   "cell_type": "code",
   "execution_count": null,
   "metadata": {},
   "outputs": [],
   "source": [
    "mjson = producer.generate(muonjson_oms_flags, muonjson_rr_flags)\n",
    "\n",
    "# Save\n",
    "base_path = os.path.join(output_path, \"jsons\")\n",
    "os.makedirs(base_path, exist_ok=True)\n",
    "fpath = os.path.join(base_path, \"muon.json\")\n",
    "with open(fpath, \"w\") as f:\n",
    "    json.dump(mjson, f, ensure_ascii=False, indent=4)\n",
    "\n",
    "# Display\n",
    "mjson"
   ]
  },
  {
   "cell_type": "markdown",
   "metadata": {},
   "source": [
    "# Fetch BRIL lumisections for run list"
   ]
  },
  {
   "cell_type": "code",
   "execution_count": null,
   "metadata": {},
   "outputs": [],
   "source": [
    "min_run = min(runs_in_all_cycles)\n",
    "max_run = max(runs_in_all_cycles)\n",
    "ba = BrilActions(\n",
    "    brilws_version=bril_brilws_version,\n",
    "    unit=bril_unit,\n",
    "    low_lumi_thr=bril_low_lumi_thr,\n",
    "    beamstatus=bril_beamstatus,\n",
    "    amodetag=bril_amodetag,\n",
    "    normtag=bril_normtag,\n",
    ")\n",
    "bril_lumis = ba.fetch_lumis(begin=min_run, end=max_run).get(\"detailed\")"
   ]
  },
  {
   "cell_type": "markdown",
   "metadata": {},
   "source": [
    "# Generate acc luminosity plots for goldenJSON"
   ]
  },
  {
   "cell_type": "code",
   "execution_count": null,
   "metadata": {},
   "outputs": [],
   "source": [
    "acc_lumi_plots_path = os.path.join(output_path, \"acc_lumi/golden\")\n",
    "os.makedirs(acc_lumi_plots_path, exist_ok=True)\n",
    "\n",
    "acc_lumi = AccLuminosityAnalyzer(\n",
    "    dc_json=gjson,\n",
    "    bril_lumis=bril_lumis,\n",
    "    bril_amodetag=bril_amodetag,\n",
    "    bril_unit=bril_unit,\n",
    "    target_unit=target_acclumi_unit,\n",
    "    year=acc_lumi_year,\n",
    "    plot_energy_label=acc_lumi_energy_label,\n",
    "    output_path=acc_lumi_plots_path,\n",
    "    additional_label_on_plot=acc_lumi_additional_label_on_plot,\n",
    ")\n",
    "acc_lumi.plot_acc_lumi_by_day(save_pdf=True)\n",
    "acc_lumi.plot_acc_lumi_by_week(save_pdf=True)\n",
    "del acc_lumi\n",
    "\n",
    "# In case we want to test only the AccLuminosityAnalyzer alone\n",
    "# import pickle\n",
    "\n",
    "# with open(\"AccLuminosityAnalyzer-inputs.pickle\", \"wb\") as f:\n",
    "#     inputs = {\n",
    "#         \"dc_json\": gjson,\n",
    "#         \"bril_lumis\": bril_lumis,\n",
    "#         \"bril_amodetag\": bril_amodetag,\n",
    "#         \"bril_unit\": bril_unit,\n",
    "#         \"target_unit\": target_acclumi_unit,\n",
    "#         \"year\": acc_lumi_year,\n",
    "#         \"beam_energy\": acc_lumi_beam_energy,\n",
    "#         \"output_path\": acc_lumi_plots_path,\n",
    "#         \"additional_label_on_plot\": acc_lumi_additional_label_on_plot\n",
    "#     }\n",
    "#     pickle.dump(inputs, f, protocol=pickle.HIGHEST_PROTOCOL)"
   ]
  },
  {
   "cell_type": "markdown",
   "metadata": {},
   "source": [
    "# Generate acc luminosity plots for goldenJSON"
   ]
  },
  {
   "cell_type": "code",
   "execution_count": null,
   "metadata": {},
   "outputs": [],
   "source": [
    "acc_lumi_plots_path = os.path.join(output_path, \"acc_lumi/muon\")\n",
    "os.makedirs(acc_lumi_plots_path, exist_ok=True)\n",
    "\n",
    "acc_lumi = AccLuminosityAnalyzer(\n",
    "    dc_json=mjson,\n",
    "    bril_lumis=bril_lumis,\n",
    "    bril_amodetag=bril_amodetag,\n",
    "    bril_unit=bril_unit,\n",
    "    target_unit=target_acclumi_unit,\n",
    "    year=acc_lumi_year,\n",
    "    plot_energy_label=acc_lumi_energy_label,\n",
    "    output_path=acc_lumi_plots_path,\n",
    "    additional_label_on_plot=acc_lumi_additional_label_on_plot,\n",
    ")\n",
    "acc_lumi.plot_acc_lumi_by_day(save_pdf=True)\n",
    "acc_lumi.plot_acc_lumi_by_week(save_pdf=True)\n",
    "del acc_lumi, bril_lumis"
   ]
  },
  {
   "cell_type": "code",
   "execution_count": null,
   "metadata": {},
   "outputs": [],
   "source": []
  }
 ],
 "metadata": {
  "kernelspec": {
   "display_name": ".venv",
   "language": "python",
   "name": "python3"
  },
  "language_info": {
   "codemirror_mode": {
    "name": "ipython",
    "version": 3
   },
   "file_extension": ".py",
   "mimetype": "text/x-python",
   "name": "python",
   "nbconvert_exporter": "python",
   "pygments_lexer": "ipython3",
   "version": "3.12.9"
  }
 },
 "nbformat": 4,
 "nbformat_minor": 2
}
