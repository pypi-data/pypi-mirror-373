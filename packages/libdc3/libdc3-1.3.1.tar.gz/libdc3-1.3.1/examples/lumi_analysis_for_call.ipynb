{
 "cells": [
  {
   "cell_type": "code",
   "execution_count": null,
   "metadata": {},
   "outputs": [],
   "source": [
    "from dotenv import load_dotenv\n",
    "\n",
    "\n",
    "load_dotenv()"
   ]
  },
  {
   "cell_type": "markdown",
   "metadata": {},
   "source": [
    "# Imports"
   ]
  },
  {
   "cell_type": "code",
   "execution_count": null,
   "metadata": {},
   "outputs": [],
   "source": [
    "import json\n",
    "import os\n",
    "\n",
    "from libdc3.config import dc3_config\n",
    "from libdc3.methods.acc_lumi_analyzer import AccLuminosityAnalyzer\n",
    "from libdc3.methods.bril_actions import BrilActions\n",
    "from libdc3.methods.json_producer import JsonProducer\n",
    "from libdc3.methods.lumiloss_analyzer import LumilossAnalyzer\n",
    "from libdc3.methods.lumiloss_plotter import LumilossPlotter\n",
    "from libdc3.methods.rr_actions import RunRegistryActions"
   ]
  },
  {
   "cell_type": "markdown",
   "metadata": {},
   "source": [
    "# User input"
   ]
  },
  {
   "cell_type": "code",
   "execution_count": null,
   "metadata": {},
   "outputs": [],
   "source": [
    "calls = {\n",
    "    \"call_21\": {\n",
    "        \"included_runs\": [385194, 385178, 385168, 385153, 385152, 385142, 385134, 385127, 385100, 385094, 385016],\n",
    "        \"low_lumi_runs\": [],\n",
    "        \"not_in_dcs_runs\": [],\n",
    "        \"ignore_runs\": [],\n",
    "    },\n",
    "    \"call_22\": {\n",
    "        \"included_runs\": [\n",
    "            385415,\n",
    "            385408,\n",
    "            385391,\n",
    "            385390,\n",
    "            385387,\n",
    "            385386,\n",
    "            385383,\n",
    "            385355,\n",
    "            385354,\n",
    "            385324,\n",
    "            385312,\n",
    "            385311,\n",
    "            385286,\n",
    "            385285,\n",
    "            385284,\n",
    "            385281,\n",
    "            385260,\n",
    "        ],\n",
    "        \"low_lumi_runs\": [385282, 385384, 385385],\n",
    "        \"not_in_dcs_runs\": [],\n",
    "        \"ignore_runs\": [],\n",
    "    },\n",
    "    \"call_23\": {\n",
    "        \"included_runs\": [\n",
    "            385863,\n",
    "            385836,\n",
    "            385801,\n",
    "            385799,\n",
    "            385764,\n",
    "            385754,\n",
    "            385739,\n",
    "            385738,\n",
    "            385728,\n",
    "            385727,\n",
    "            385713,\n",
    "            385712,\n",
    "            385697,\n",
    "            385620,\n",
    "            385619,\n",
    "            385618,\n",
    "            385606,\n",
    "            385604,\n",
    "            385592,\n",
    "            385591,\n",
    "            385589,\n",
    "            385568,\n",
    "            385567,\n",
    "            385515,\n",
    "            385514,\n",
    "            385513,\n",
    "            385512,\n",
    "            385511,\n",
    "            385484,\n",
    "            385483,\n",
    "            385481,\n",
    "            385480,\n",
    "            385479,\n",
    "            385478,\n",
    "            385474,\n",
    "            385447,\n",
    "            385444,\n",
    "            385443,\n",
    "            385437,\n",
    "            385424,\n",
    "            385423,\n",
    "            385422,\n",
    "        ],\n",
    "        \"low_lumi_runs\": [385837, 385838, 385839, 385840, 385883, 385884],\n",
    "        \"not_in_dcs_runs\": [385602, 385600, 385598],\n",
    "        \"ignore_runs\": [],\n",
    "    },\n",
    "    \"call_24\": {\n",
    "        \"included_runs\": [\n",
    "            386071,\n",
    "            386025,\n",
    "            386010,\n",
    "            386008,\n",
    "            386006,\n",
    "            385986,\n",
    "            385934,\n",
    "            385933,\n",
    "            385915,\n",
    "            385908,\n",
    "            385889,\n",
    "            385888,\n",
    "            385887,\n",
    "            385882,\n",
    "            385842,\n",
    "            385841,\n",
    "        ],\n",
    "        \"low_lumi_runs\": [],\n",
    "        \"not_in_dcs_runs\": [],\n",
    "        \"ignore_runs\": [],\n",
    "    },\n",
    "    \"era_B\": {\n",
    "        \"included_runs\": [\n",
    "            378985,\n",
    "            378993,\n",
    "            379006,\n",
    "            379011,\n",
    "            379012,\n",
    "            379028,\n",
    "            379029,\n",
    "            379031,\n",
    "            379058,\n",
    "            379075,\n",
    "            379154,\n",
    "            379238,\n",
    "            379243,\n",
    "            379252,\n",
    "            379253,\n",
    "            379338,\n",
    "            379355,\n",
    "        ],\n",
    "        \"low_lumi_runs\": [\n",
    "            378994,\n",
    "            378995,\n",
    "            378996,\n",
    "            378997,\n",
    "            378998,\n",
    "            378999,\n",
    "            379000,\n",
    "            379001,\n",
    "            379002,\n",
    "            379003,\n",
    "            379004,\n",
    "            379005,\n",
    "            379007,\n",
    "            379008,\n",
    "            379009,\n",
    "            379010,\n",
    "            379030,\n",
    "            379059,\n",
    "            379060,\n",
    "            379380,\n",
    "            379388,\n",
    "            379389,\n",
    "        ],\n",
    "        \"not_in_dcs_runs\": [379356, 379357, 379367, 379382, 379385, 379390, 379391],\n",
    "        \"ignore_runs\": [379337, 379318, 379317, 379316, 379315, 379350, 379349, 378981],\n",
    "    },\n",
    "}\n",
    "chosen_call = \"call_24\"\n",
    "\n",
    "# Run registry specific variables\n",
    "rr_class_name = \"Collisions24\"\n",
    "rr_dataset_name = \"/PromptReco/Collisions2024/DQM\"\n",
    "\n",
    "# Bril specific variables\n",
    "bril_brilws_version = \"3.7.4\"\n",
    "bril_unit = \"/ub\"\n",
    "bril_low_lumi_thr = 80000.0\n",
    "bril_beamstatus = \"STABLE BEAMS\"\n",
    "bril_amodetag = \"PROTPHYS\"\n",
    "bril_normtag = \"/cvmfs/cms-bril.cern.ch/cms-lumi-pog/Normtags/normtag_BRIL.json\"\n",
    "\n",
    "# Json production specific\n",
    "ignore_hlt_emergency = False\n",
    "prejson_oms_flags = [\"beam1_present\", \"beam2_present\", \"beam1_stable\", \"beam2_stable\"]\n",
    "goldenjson_oms_flags = [\n",
    "    \"beam1_present\",\n",
    "    \"beam2_present\",\n",
    "    \"beam1_stable\",\n",
    "    \"beam2_stable\",\n",
    "    \"cms_active\",\n",
    "    \"bpix_ready\",\n",
    "    \"fpix_ready\",\n",
    "    \"tibtid_ready\",\n",
    "    \"tecm_ready\",\n",
    "    \"tecp_ready\",\n",
    "    \"tob_ready\",\n",
    "    \"hbhea_ready\",\n",
    "    \"hbheb_ready\",\n",
    "    \"hbhec_ready\",\n",
    "    \"hf_ready\",\n",
    "    \"ho_ready\",\n",
    "]\n",
    "goldenjson_rr_flags = [\n",
    "    \"tracker-pixel\",\n",
    "    \"tracker-strip\",\n",
    "    \"tracker-track\",\n",
    "    \"ecal-ecal\",\n",
    "    \"ecal-es\",\n",
    "    \"hcal-hcal\",\n",
    "    \"csc-csc\",\n",
    "    \"dt-dt\",\n",
    "    \"l1t-l1tmu\",\n",
    "    \"l1t-l1tcalo\",\n",
    "    \"hlt-hlt\",\n",
    "    \"egamma-egamma\",\n",
    "    \"muon-muon\",\n",
    "    \"jetmet-jetmet\",\n",
    "]\n",
    "muonjson_oms_flags = [\n",
    "    \"beam1_present\",\n",
    "    \"beam2_present\",\n",
    "    \"beam1_stable\",\n",
    "    \"beam2_stable\",\n",
    "    \"cms_active\",\n",
    "    \"bpix_ready\",\n",
    "    \"fpix_ready\",\n",
    "    \"tibtid_ready\",\n",
    "    \"tecm_ready\",\n",
    "    \"tecp_ready\",\n",
    "    \"tob_ready\",\n",
    "]\n",
    "muonjson_rr_flags = [\n",
    "    \"tracker-pixel\",\n",
    "    \"tracker-strip\",\n",
    "    \"tracker-track\",\n",
    "    \"csc-csc\",\n",
    "    \"dt-dt\",\n",
    "    \"l1t-l1tmu\",\n",
    "    \"hlt-hlt\",\n",
    "    \"muon-muon\",\n",
    "]\n",
    "\n",
    "# Lumiloss specific\n",
    "target_lumiloss_unit = \"/pb\"\n",
    "lumiloss_dcs_flags = [\n",
    "    \"bpix_ready\",\n",
    "    \"fpix_ready\",\n",
    "    \"tibtid_ready\",\n",
    "    \"tecm_ready\",\n",
    "    \"tecp_ready\",\n",
    "    \"tob_ready\",\n",
    "    \"hbhea_ready\",\n",
    "    \"hbheb_ready\",\n",
    "    \"hbhec_ready\",\n",
    "    \"hf_ready\",\n",
    "    \"ho_ready\",\n",
    "]\n",
    "lumiloss_subsystems_flags = [\n",
    "    \"tracker-pixel\",\n",
    "    \"tracker-strip\",\n",
    "    \"tracker-track\",\n",
    "    \"ecal-ecal\",\n",
    "    \"ecal-es\",\n",
    "    \"hcal-hcal\",\n",
    "    \"csc-csc\",\n",
    "    \"dt-dt\",\n",
    "    \"l1t-l1tmu\",\n",
    "    \"l1t-l1tcalo\",\n",
    "    \"hlt-hlt\",\n",
    "    \"egamma-egamma\",\n",
    "    \"muon-muon\",\n",
    "    \"jetmet-jetmet\",\n",
    "]\n",
    "lumiloss_subdetectors_flags = {\n",
    "    \"PixelPhase1\": [\"tracker-pixel\", \"bpix_ready\", \"fpix_ready\"],\n",
    "    \"SiStrip\": [\"tracker-strip\", \"tibtid_ready\", \"tecm_ready\", \"tecp_ready\", \"tob_ready\"],\n",
    "    \"ECAL\": [\"ecal-ecal\"],\n",
    "    \"ES\": [\"ecal-es\"],\n",
    "    \"HCAL\": [\"hcal-hcal\", \"hbhea_ready\", \"hbheb_ready\", \"hbhec_ready\", \"hf_ready\", \"ho_ready\"],\n",
    "    \"CSC\": [\"csc-csc\"],\n",
    "    \"DT\": [\"dt-dt\"],\n",
    "    \"L1T\": [\"l1t-l1tcalo\", \"l1t-l1tmu\"],\n",
    "    \"HLT\": [\"hlt-hlt\"],\n",
    "    \"Tracking\": [\"tracker-track\"],\n",
    "    \"MuonPOG\": [\"muon-muon\"],\n",
    "    \"JetMET\": [\"jetmet-jetmet\"],\n",
    "    \"EGamma\": [\"egamma-egamma\"],\n",
    "}\n",
    "\n",
    "# Acc. luminosity variables\n",
    "target_acclumi_unit = \"/fb\"\n",
    "acc_lumi_year = 2024\n",
    "acc_lumi_energy_label = \"13.6 TeV\"\n",
    "acc_lumi_additional_label_on_plot = \"CMS Preliminary Offline Luminosity\"  # None if no label"
   ]
  },
  {
   "cell_type": "code",
   "execution_count": null,
   "metadata": {},
   "outputs": [],
   "source": [
    "output_path = f\"./results/{chosen_call}\"\n",
    "call_included_runs = calls[chosen_call][\"included_runs\"]\n",
    "call_low_lumi_runs = calls[chosen_call][\"low_lumi_runs\"]\n",
    "call_not_in_dcs_runs = calls[chosen_call][\"not_in_dcs_runs\"]\n",
    "call_ignore_runs = calls[chosen_call][\"ignore_runs\"]"
   ]
  },
  {
   "cell_type": "markdown",
   "metadata": {},
   "source": [
    "# Configure dc3 sensitive variables"
   ]
  },
  {
   "cell_type": "code",
   "execution_count": null,
   "metadata": {},
   "outputs": [],
   "source": [
    "dc3_config.set_keytab_usr(os.getenv(\"KEYTAB_USR\"))\n",
    "dc3_config.set_keytab_pwd(os.getenv(\"KEYTAB_PWD\"))\n",
    "dc3_config.set_auth_cert_path(os.getenv(\"AUTH_CERT\"))\n",
    "dc3_config.set_auth_key_path(os.getenv(\"AUTH_CERT_KEY\"))"
   ]
  },
  {
   "cell_type": "markdown",
   "metadata": {},
   "source": [
    "# Setup output path if not exists"
   ]
  },
  {
   "cell_type": "code",
   "execution_count": null,
   "metadata": {},
   "outputs": [],
   "source": [
    "os.makedirs(output_path, exist_ok=True)"
   ]
  },
  {
   "cell_type": "markdown",
   "metadata": {},
   "source": [
    "# Fetch RR and OMS lumisections for all runs"
   ]
  },
  {
   "cell_type": "code",
   "execution_count": null,
   "metadata": {},
   "outputs": [],
   "source": [
    "run_list = [*call_included_runs, *call_low_lumi_runs, *call_not_in_dcs_runs, *call_ignore_runs]\n",
    "rra = RunRegistryActions(class_name=rr_class_name, dataset_name=rr_dataset_name)\n",
    "offline_lumis = rra.multi_fetch_rr_oms_joint_lumis(run_list=run_list)"
   ]
  },
  {
   "cell_type": "markdown",
   "metadata": {},
   "source": [
    "# Instantiate the JSON producer"
   ]
  },
  {
   "cell_type": "code",
   "execution_count": null,
   "metadata": {},
   "outputs": [],
   "source": [
    "elegible_runs = [*call_included_runs, *call_not_in_dcs_runs]\n",
    "filtered_lumis = [lumi for lumi in offline_lumis if lumi[\"run_number\"] in elegible_runs]\n",
    "producer = JsonProducer(rr_oms_lumis=filtered_lumis, ignore_hlt_emergency=ignore_hlt_emergency)\n",
    "del filtered_lumis"
   ]
  },
  {
   "cell_type": "markdown",
   "metadata": {},
   "source": [
    "# Generate the preJSON"
   ]
  },
  {
   "cell_type": "code",
   "execution_count": null,
   "metadata": {},
   "outputs": [],
   "source": [
    "pjson = producer.generate(prejson_oms_flags)\n",
    "\n",
    "# Save\n",
    "base_path = os.path.join(output_path, \"jsons\")\n",
    "os.makedirs(base_path, exist_ok=True)\n",
    "fpath = os.path.join(base_path, \"pre.json\")\n",
    "with open(fpath, \"w\") as f:\n",
    "    json.dump(pjson, f, ensure_ascii=False, indent=4)\n",
    "\n",
    "# Display\n",
    "pjson"
   ]
  },
  {
   "cell_type": "markdown",
   "metadata": {},
   "source": [
    "# Generate the goldenJSON"
   ]
  },
  {
   "cell_type": "code",
   "execution_count": null,
   "metadata": {},
   "outputs": [],
   "source": [
    "gjson = producer.generate(goldenjson_oms_flags, goldenjson_rr_flags)\n",
    "\n",
    "# Save\n",
    "base_path = os.path.join(output_path, \"jsons\")\n",
    "os.makedirs(base_path, exist_ok=True)\n",
    "fpath = os.path.join(base_path, \"golden.json\")\n",
    "with open(fpath, \"w\") as f:\n",
    "    json.dump(gjson, f, ensure_ascii=False, indent=4)\n",
    "\n",
    "# Display\n",
    "gjson"
   ]
  },
  {
   "cell_type": "markdown",
   "metadata": {},
   "source": [
    "# Generate the muonJSON"
   ]
  },
  {
   "cell_type": "code",
   "execution_count": null,
   "metadata": {},
   "outputs": [],
   "source": [
    "mjson = producer.generate(muonjson_oms_flags, muonjson_rr_flags)\n",
    "\n",
    "# Save\n",
    "base_path = os.path.join(output_path, \"jsons\")\n",
    "os.makedirs(base_path, exist_ok=True)\n",
    "fpath = os.path.join(base_path, \"muon.json\")\n",
    "with open(fpath, \"w\") as f:\n",
    "    json.dump(mjson, f, ensure_ascii=False, indent=4)\n",
    "\n",
    "# Display\n",
    "mjson"
   ]
  },
  {
   "cell_type": "markdown",
   "metadata": {},
   "source": [
    "# Fetch BRIL lumisections for run list\n",
    "\n",
    "For performance optimization we fetch the run range and then filter out the runs not in the run list"
   ]
  },
  {
   "cell_type": "code",
   "execution_count": null,
   "metadata": {},
   "outputs": [],
   "source": [
    "min_run = min(run_list)\n",
    "max_run = max(run_list)\n",
    "ba = BrilActions(\n",
    "    brilws_version=bril_brilws_version,\n",
    "    unit=bril_unit,\n",
    "    low_lumi_thr=bril_low_lumi_thr,\n",
    "    beamstatus=bril_beamstatus,\n",
    "    amodetag=bril_amodetag,\n",
    "    normtag=bril_normtag,\n",
    ")\n",
    "bril_lumis = ba.fetch_lumis(begin=min_run, end=max_run).get(\"detailed\")\n",
    "bril_lumis = [lumi for lumi in bril_lumis if lumi[\"run_number\"] in run_list]"
   ]
  },
  {
   "cell_type": "markdown",
   "metadata": {},
   "source": [
    "# Analyze lumiloss"
   ]
  },
  {
   "cell_type": "code",
   "execution_count": null,
   "metadata": {},
   "outputs": [],
   "source": [
    "lumiloss = LumilossAnalyzer(\n",
    "    rr_oms_lumis=offline_lumis,\n",
    "    bril_lumis=bril_lumis,\n",
    "    pre_json=pjson,\n",
    "    dc_json=gjson,\n",
    "    low_lumi_runs=call_low_lumi_runs,\n",
    "    ignore_runs=call_ignore_runs,\n",
    "    bril_unit=bril_unit,\n",
    "    target_unit=target_lumiloss_unit,\n",
    ")\n",
    "lumiloss_results = lumiloss.analyze(lumiloss_dcs_flags, lumiloss_subsystems_flags, lumiloss_subdetectors_flags)\n",
    "lumiloss_results[\"stats\"] = {\n",
    "    \"unit\": lumiloss.final_unit,\n",
    "    \"total_delivered\": lumiloss.total_delivered,\n",
    "    \"total_recorded\": lumiloss.total_recorded,\n",
    "    \"total_low_lumi\": lumiloss.total_low_lumi,\n",
    "    \"total_ignore_runs\": lumiloss.total_ignore_runs,\n",
    "    \"total_not_stable_beams\": lumiloss.total_not_stable_beams,\n",
    "    \"total_not_in_oms_rr\": lumiloss.total_not_in_oms_rr,\n",
    "    \"total_processed\": lumiloss.total_processed,\n",
    "    \"total_loss\": lumiloss.total_loss,\n",
    "    \"total_certified\": lumiloss.total_certified,\n",
    "    \"data_taking_eff\": lumiloss.data_taking_eff,\n",
    "    \"recorded_eff\": lumiloss.recorded_eff,\n",
    "    \"processed_eff\": lumiloss.processed_eff,\n",
    "}"
   ]
  },
  {
   "cell_type": "code",
   "execution_count": null,
   "metadata": {},
   "outputs": [],
   "source": [
    "print(\"unit\", lumiloss.final_unit)\n",
    "print(\"LHC delivered:\", lumiloss.total_delivered)\n",
    "print(\"CMS recorded:\", lumiloss.total_recorded)\n",
    "print(\"contrib. low lumi runs:\", lumiloss.total_low_lumi)\n",
    "print(\"contrib. ignored runs:\", lumiloss.total_ignore_runs)\n",
    "print(\"contrib. not stable beams:\", lumiloss.total_not_stable_beams)\n",
    "print(\"contrib. not in oms_rr:\", lumiloss.total_not_in_oms_rr)\n",
    "print(\"DC processed:\", lumiloss.total_processed)\n",
    "print(\"contrib. lumiloss:\", lumiloss.total_loss)\n",
    "print(\"DC certified:\", lumiloss.total_certified)\n",
    "print(\"Data taking efficiency:\", lumiloss.data_taking_eff)\n",
    "print(\"DC efficiency (Good/CMS-recorded):\", lumiloss.recorded_eff)\n",
    "print(\"DC efficiency (Good/DC-processed):\", lumiloss.processed_eff)"
   ]
  },
  {
   "cell_type": "code",
   "execution_count": null,
   "metadata": {},
   "outputs": [],
   "source": [
    "lumiloss_data_path = os.path.join(output_path, \"lumiloss/data\")\n",
    "os.makedirs(lumiloss_data_path, exist_ok=True)\n",
    "\n",
    "for key, value in lumiloss_results.items():\n",
    "    fpath = os.path.join(lumiloss_data_path, f\"{key}.json\")\n",
    "    with open(fpath, \"w\") as f:\n",
    "        json.dump(value, f)\n",
    "\n",
    "del lumiloss_data_path, offline_lumis"
   ]
  },
  {
   "cell_type": "markdown",
   "metadata": {},
   "source": [
    "# Generate lumiloss plots"
   ]
  },
  {
   "cell_type": "code",
   "execution_count": null,
   "metadata": {},
   "outputs": [],
   "source": [
    "lumiloss_plots_path = os.path.join(output_path, \"lumiloss/plots\")\n",
    "os.makedirs(lumiloss_plots_path, exist_ok=True)\n",
    "\n",
    "plots = LumilossPlotter(lumiloss=lumiloss_results, unit=target_lumiloss_unit, output_path=lumiloss_plots_path)\n",
    "plots.plot_subsystem_dqmflag_loss()\n",
    "plots.plot_dcs_loss()\n",
    "plots.plot_cms_inclusive_loss()\n",
    "plots.plot_cms_exclusive_loss()\n",
    "plots.plot_cms_detailed_fraction_exclusive_loss()\n",
    "plots.plot_inclusive_loss_by_subdetector()\n",
    "plots.plot_exclusive_loss_by_subdetector()\n",
    "plots.plot_fraction_of_exclusive_loss_by_subdetector()\n",
    "del lumiloss_plots_path, plots"
   ]
  },
  {
   "cell_type": "markdown",
   "metadata": {},
   "source": [
    "# Generate accumulated luminosity plots for goldenJSON"
   ]
  },
  {
   "cell_type": "code",
   "execution_count": null,
   "metadata": {},
   "outputs": [],
   "source": [
    "acc_lumi_plots_path = os.path.join(output_path, \"acc_lumi/golden\")\n",
    "os.makedirs(acc_lumi_plots_path, exist_ok=True)\n",
    "\n",
    "acc_lumi = AccLuminosityAnalyzer(\n",
    "    dc_json=gjson,\n",
    "    bril_lumis=bril_lumis,\n",
    "    bril_amodetag=bril_amodetag,\n",
    "    bril_unit=bril_unit,\n",
    "    target_unit=target_acclumi_unit,\n",
    "    year=acc_lumi_year,\n",
    "    plot_energy_label=acc_lumi_energy_label,\n",
    "    output_path=acc_lumi_plots_path,\n",
    "    additional_label_on_plot=acc_lumi_additional_label_on_plot,\n",
    ")\n",
    "acc_lumi.plot_acc_lumi_by_day()\n",
    "acc_lumi.plot_acc_lumi_by_week()\n",
    "del acc_lumi"
   ]
  },
  {
   "cell_type": "markdown",
   "metadata": {},
   "source": [
    "# Generate accumulated luminosity plots for muonJSON"
   ]
  },
  {
   "cell_type": "code",
   "execution_count": null,
   "metadata": {},
   "outputs": [],
   "source": [
    "acc_lumi_plots_path = os.path.join(output_path, \"acc_lumi/muon\")\n",
    "os.makedirs(acc_lumi_plots_path, exist_ok=True)\n",
    "\n",
    "acc_lumi = AccLuminosityAnalyzer(\n",
    "    dc_json=mjson,\n",
    "    bril_lumis=bril_lumis,\n",
    "    bril_amodetag=bril_amodetag,\n",
    "    bril_unit=bril_unit,\n",
    "    target_unit=target_acclumi_unit,\n",
    "    year=acc_lumi_year,\n",
    "    plot_energy_label=acc_lumi_energy_label,\n",
    "    output_path=acc_lumi_plots_path,\n",
    "    additional_label_on_plot=acc_lumi_additional_label_on_plot,\n",
    ")\n",
    "acc_lumi.plot_acc_lumi_by_day()\n",
    "acc_lumi.plot_acc_lumi_by_week()\n",
    "del acc_lumi, bril_lumis"
   ]
  },
  {
   "cell_type": "markdown",
   "metadata": {},
   "source": [
    "# Inspecting inclusive lumiloss per subdetector by run/ls"
   ]
  },
  {
   "cell_type": "code",
   "execution_count": null,
   "metadata": {},
   "outputs": [],
   "source": [
    "report = lumiloss.format_lumiloss_by_run(lumiloss_results[\"subsystem_run_inclusive_loss\"])\n",
    "print(report)\n",
    "del report"
   ]
  },
  {
   "cell_type": "markdown",
   "metadata": {},
   "source": [
    "# Inspecting exclusive lumiloss per subdetector by run/ls"
   ]
  },
  {
   "cell_type": "code",
   "execution_count": null,
   "metadata": {},
   "outputs": [],
   "source": [
    "report = lumiloss.format_lumiloss_by_run(lumiloss_results[\"subsystem_run_exclusive_loss\"])\n",
    "print(report)\n",
    "del report, lumiloss, lumiloss_results"
   ]
  },
  {
   "cell_type": "code",
   "execution_count": null,
   "metadata": {},
   "outputs": [],
   "source": []
  }
 ],
 "metadata": {
  "kernelspec": {
   "display_name": ".venv",
   "language": "python",
   "name": "python3"
  },
  "language_info": {
   "codemirror_mode": {
    "name": "ipython",
    "version": 3
   },
   "file_extension": ".py",
   "mimetype": "text/x-python",
   "name": "python",
   "nbconvert_exporter": "python",
   "pygments_lexer": "ipython3",
   "version": "3.12.9"
  }
 },
 "nbformat": 4,
 "nbformat_minor": 2
}
