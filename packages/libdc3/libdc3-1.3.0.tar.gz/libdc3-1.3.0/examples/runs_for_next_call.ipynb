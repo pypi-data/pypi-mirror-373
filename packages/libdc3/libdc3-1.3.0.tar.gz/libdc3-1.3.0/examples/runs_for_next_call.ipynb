{
 "cells": [
  {
   "cell_type": "code",
   "execution_count": null,
   "metadata": {},
   "outputs": [],
   "source": [
    "from dotenv import load_dotenv\n",
    "\n",
    "\n",
    "load_dotenv()"
   ]
  },
  {
   "cell_type": "markdown",
   "metadata": {},
   "source": [
    "# Imports"
   ]
  },
  {
   "cell_type": "code",
   "execution_count": null,
   "metadata": {},
   "outputs": [],
   "source": [
    "import os\n",
    "\n",
    "from libdc3.config import dc3_config\n",
    "from libdc3.methods.next_call import NextCallGenerator"
   ]
  },
  {
   "cell_type": "markdown",
   "metadata": {},
   "source": [
    "# User input"
   ]
  },
  {
   "cell_type": "code",
   "execution_count": null,
   "metadata": {},
   "outputs": [],
   "source": [
    "# Run registry specific variables\n",
    "rr_class_name = \"Collisions25\"\n",
    "rr_dataset_name = \"/PromptReco/Collisions2025/DQM\"\n",
    "\n",
    "# Bril specific variables\n",
    "bril_brilws_version = \"3.7.4\"\n",
    "bril_unit = \"/ub\"\n",
    "bril_low_lumi_thr = 80000.0\n",
    "bril_beamstatus = \"STABLE BEAMS\"\n",
    "bril_amodetag = \"PROTPHYS\"\n",
    "bril_normtag = \"/cvmfs/cms-bril.cern.ch/cms-lumi-pog/Normtags/normtag_BRIL.json\"\n",
    "\n",
    "# Used to check datasets in the GUI\n",
    "gui_lookup_datasets = [\n",
    "    \"/ZeroBias/Run2025.*-PromptReco-v.*?/DQMIO\",\n",
    "    \"/(JetMET0|JetMET1)/Run2025.*-PromptReco-v.*?/DQMIO\",\n",
    "    \"/(Muon0|Muon1)/Run2025.*-PromptReco-v.*?/DQMIO\",\n",
    "    \"/(EGamma0|EGamma1)/Run2025.*-PromptReco-v.*?/DQMIO\",\n",
    "    \"/HcalNZS/Run2025.*-PromptReco-v.*?/DQMIO\",\n",
    "    \"/HLTPhysics/Run2025.*-PromptReco-v.*?/DQMIO\",\n",
    "]\n",
    "\n",
    "# Used to auto-refresh runs if there are mismatches RRxOMS\n",
    "refresh_runs_if_needed = True"
   ]
  },
  {
   "cell_type": "markdown",
   "metadata": {},
   "source": [
    "# Configure dc3 sensitive variables"
   ]
  },
  {
   "cell_type": "code",
   "execution_count": null,
   "metadata": {},
   "outputs": [],
   "source": [
    "dc3_config.set_keytab_usr(os.getenv(\"KEYTAB_USR\"))\n",
    "dc3_config.set_keytab_pwd(os.getenv(\"KEYTAB_PWD\"))\n",
    "dc3_config.set_auth_cert_path(os.getenv(\"AUTH_CERT\"))\n",
    "dc3_config.set_auth_key_path(os.getenv(\"AUTH_CERT_KEY\"))"
   ]
  },
  {
   "cell_type": "markdown",
   "metadata": {},
   "source": [
    "# Analyse RR, OMS and BRIL to generate list of runs to be included in next call"
   ]
  },
  {
   "cell_type": "code",
   "execution_count": null,
   "metadata": {},
   "outputs": [],
   "source": [
    "call = NextCallGenerator(\n",
    "    rr_class_name=rr_class_name,\n",
    "    rr_dataset_name=rr_dataset_name,\n",
    "    bril_brilws_version=bril_brilws_version,\n",
    "    bril_unit=bril_unit,\n",
    "    bril_low_lumi_thr=bril_low_lumi_thr,\n",
    "    bril_beamstatus=bril_beamstatus,\n",
    "    bril_amodetag=bril_amodetag,\n",
    "    bril_normtag=bril_normtag,\n",
    "    gui_lookup_datasets=gui_lookup_datasets,\n",
    "    refresh_runs_if_needed=refresh_runs_if_needed,\n",
    ")\n",
    "results = call.generate()"
   ]
  },
  {
   "cell_type": "code",
   "execution_count": null,
   "metadata": {},
   "outputs": [],
   "source": [
    "for key, value in results.items():\n",
    "    print(\"\\n\\n\")\n",
    "    print(key)\n",
    "    print(value)"
   ]
  },
  {
   "cell_type": "code",
   "execution_count": null,
   "metadata": {},
   "outputs": [],
   "source": []
  }
 ],
 "metadata": {
  "kernelspec": {
   "display_name": ".venv",
   "language": "python",
   "name": "python3"
  },
  "language_info": {
   "codemirror_mode": {
    "name": "ipython",
    "version": 3
   },
   "file_extension": ".py",
   "mimetype": "text/x-python",
   "name": "python",
   "nbconvert_exporter": "python",
   "pygments_lexer": "ipython3",
   "version": "3.12.9"
  }
 },
 "nbformat": 4,
 "nbformat_minor": 2
}
