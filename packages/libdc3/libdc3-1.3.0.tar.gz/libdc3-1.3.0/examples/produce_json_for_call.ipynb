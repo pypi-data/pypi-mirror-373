{
 "cells": [
  {
   "cell_type": "code",
   "execution_count": null,
   "metadata": {},
   "outputs": [],
   "source": [
    "from dotenv import load_dotenv\n",
    "\n",
    "\n",
    "load_dotenv()"
   ]
  },
  {
   "cell_type": "markdown",
   "metadata": {},
   "source": [
    "# Imports"
   ]
  },
  {
   "cell_type": "code",
   "execution_count": null,
   "metadata": {},
   "outputs": [],
   "source": [
    "from libdc3.methods.json_producer import JsonProducer\n",
    "from libdc3.methods.rr_actions import RunRegistryActions"
   ]
  },
  {
   "cell_type": "markdown",
   "metadata": {},
   "source": [
    "# User input"
   ]
  },
  {
   "cell_type": "code",
   "execution_count": null,
   "metadata": {},
   "outputs": [],
   "source": [
    "# Call specific numbers\n",
    "run_list = [\n",
    "    385863,\n",
    "    385836,\n",
    "    385801,\n",
    "    385799,\n",
    "    385764,\n",
    "    385754,\n",
    "    385739,\n",
    "    385738,\n",
    "    385728,\n",
    "    385727,\n",
    "    385713,\n",
    "    385712,\n",
    "    385697,\n",
    "    385620,\n",
    "    385619,\n",
    "    385618,\n",
    "    385606,\n",
    "    385604,\n",
    "    385592,\n",
    "    385591,\n",
    "    385589,\n",
    "    385568,\n",
    "    385567,\n",
    "    385515,\n",
    "    385514,\n",
    "    385513,\n",
    "    385512,\n",
    "    385511,\n",
    "    385484,\n",
    "    385483,\n",
    "    385481,\n",
    "    385480,\n",
    "    385479,\n",
    "    385478,\n",
    "    385474,\n",
    "    385447,\n",
    "    385444,\n",
    "    385443,\n",
    "    385437,\n",
    "    385424,\n",
    "    385423,\n",
    "    385422,\n",
    "]\n",
    "\n",
    "# Run registry specific variables\n",
    "rr_class_name = \"Collisions24\"\n",
    "rr_dataset_name = \"/PromptReco/Collisions2024/DQM\"\n",
    "\n",
    "# JSON generation specific variables\n",
    "ignore_hlt_emergency = False\n",
    "prejson_oms_flags = [\"beam1_present\", \"beam2_present\", \"beam1_stable\", \"beam2_stable\"]\n",
    "goldenjson_oms_flags = [\n",
    "    \"beam1_present\",\n",
    "    \"beam2_present\",\n",
    "    \"beam1_stable\",\n",
    "    \"beam2_stable\",\n",
    "    \"cms_active\",\n",
    "    \"bpix_ready\",\n",
    "    \"fpix_ready\",\n",
    "    \"tibtid_ready\",\n",
    "    \"tecm_ready\",\n",
    "    \"tecp_ready\",\n",
    "    \"tob_ready\",\n",
    "    \"hbhea_ready\",\n",
    "    \"hbheb_ready\",\n",
    "    \"hbhec_ready\",\n",
    "    \"hf_ready\",\n",
    "    \"ho_ready\",\n",
    "]\n",
    "goldenjson_rr_flags = [\n",
    "    \"tracker-pixel\",\n",
    "    \"tracker-strip\",\n",
    "    \"tracker-track\",\n",
    "    \"ecal-ecal\",\n",
    "    \"ecal-es\",\n",
    "    \"hcal-hcal\",\n",
    "    \"csc-csc\",\n",
    "    \"dt-dt\",\n",
    "    \"l1t-l1tmu\",\n",
    "    \"l1t-l1tcalo\",\n",
    "    \"hlt-hlt\",\n",
    "    \"egamma-egamma\",\n",
    "    \"muon-muon\",\n",
    "    \"jetmet-jetmet\",\n",
    "]\n",
    "muonjson_oms_flags = [\n",
    "    \"beam1_present\",\n",
    "    \"beam2_present\",\n",
    "    \"beam1_stable\",\n",
    "    \"beam2_stable\",\n",
    "    \"cms_active\",\n",
    "    \"bpix_ready\",\n",
    "    \"fpix_ready\",\n",
    "    \"tibtid_ready\",\n",
    "    \"tecm_ready\",\n",
    "    \"tecp_ready\",\n",
    "    \"tob_ready\",\n",
    "]\n",
    "muonjson_rr_flags = [\n",
    "    \"tracker-pixel\",\n",
    "    \"tracker-strip\",\n",
    "    \"tracker-track\",\n",
    "    \"csc-csc\",\n",
    "    \"dt-dt\",\n",
    "    \"l1t-l1tmu\",\n",
    "    \"hlt-hlt\",\n",
    "    \"muon-muon\",\n",
    "]"
   ]
  },
  {
   "cell_type": "markdown",
   "metadata": {},
   "source": [
    "# Fetch RR and OMS lumisections flags"
   ]
  },
  {
   "cell_type": "code",
   "execution_count": null,
   "metadata": {},
   "outputs": [],
   "source": [
    "rra = RunRegistryActions(class_name=rr_class_name, dataset_name=rr_dataset_name)\n",
    "offline_lumis = rra.multi_fetch_rr_oms_joint_lumis(run_list=run_list)"
   ]
  },
  {
   "cell_type": "markdown",
   "metadata": {},
   "source": [
    "# Instantiate Json producer"
   ]
  },
  {
   "cell_type": "code",
   "execution_count": null,
   "metadata": {},
   "outputs": [],
   "source": [
    "producer = JsonProducer(rr_oms_lumis=offline_lumis, ignore_hlt_emergency=ignore_hlt_emergency)"
   ]
  },
  {
   "cell_type": "markdown",
   "metadata": {},
   "source": [
    "# Generate the preJSON"
   ]
  },
  {
   "cell_type": "code",
   "execution_count": null,
   "metadata": {},
   "outputs": [],
   "source": [
    "pjson = producer.generate(prejson_oms_flags)\n",
    "pjson"
   ]
  },
  {
   "cell_type": "markdown",
   "metadata": {},
   "source": [
    "# Generate the goldenJSON"
   ]
  },
  {
   "cell_type": "code",
   "execution_count": null,
   "metadata": {},
   "outputs": [],
   "source": [
    "gjson = producer.generate(goldenjson_oms_flags, goldenjson_rr_flags)\n",
    "gjson"
   ]
  },
  {
   "cell_type": "markdown",
   "metadata": {},
   "source": [
    "# Generate the muonJSON"
   ]
  },
  {
   "cell_type": "code",
   "execution_count": null,
   "metadata": {},
   "outputs": [],
   "source": [
    "mjson = producer.generate(muonjson_oms_flags, muonjson_rr_flags)\n",
    "mjson"
   ]
  },
  {
   "cell_type": "code",
   "execution_count": null,
   "metadata": {},
   "outputs": [],
   "source": []
  }
 ],
 "metadata": {
  "kernelspec": {
   "display_name": ".venv",
   "language": "python",
   "name": "python3"
  },
  "language_info": {
   "codemirror_mode": {
    "name": "ipython",
    "version": 3
   },
   "file_extension": ".py",
   "mimetype": "text/x-python",
   "name": "python",
   "nbconvert_exporter": "python",
   "pygments_lexer": "ipython3",
   "version": "3.12.9"
  }
 },
 "nbformat": 4,
 "nbformat_minor": 2
}
