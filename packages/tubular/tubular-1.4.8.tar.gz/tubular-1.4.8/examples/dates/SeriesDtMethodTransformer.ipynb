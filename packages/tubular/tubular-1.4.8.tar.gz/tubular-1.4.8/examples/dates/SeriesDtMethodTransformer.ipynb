{
 "cells": [
  {
   "cell_type": "markdown",
   "metadata": {},
   "source": [
    "# SeriesDtMethodTransformer\n",
    "This notebook shows the functionality in the `SeriesDtMethodTransformer` class. This transformer applys a `pd.Series.dt` method to a specific column in the input `X`. <br>\n",
    "This generic transformer means that many `pd.Series.dt` methods are available for use within the package without having to directly implement a transformer for each specific function. <br>\n",
    "Most of the `pd.Series.dt` methods simply access attributes e.g. [pd.Series.dt.year](https://pandas.pydata.org/pandas-docs/stable/reference/api/pandas.Series.dt.year.html) with a few actually being callable e.g. [pd.Series.dt.to_period](https://pandas.pydata.org/pandas-docs/stable/reference/api/pandas.Series.to_period.html)."
   ]
  },
  {
   "cell_type": "code",
   "execution_count": 1,
   "metadata": {},
   "outputs": [],
   "source": [
    "import pandas as pd\n",
    "import numpy as np\n",
    "import datetime"
   ]
  },
  {
   "cell_type": "code",
   "execution_count": 2,
   "metadata": {},
   "outputs": [],
   "source": [
    "import tubular\n",
    "from tubular.dates import SeriesDtMethodTransformer"
   ]
  },
  {
   "cell_type": "code",
   "execution_count": 3,
   "metadata": {},
   "outputs": [
    {
     "data": {
      "text/plain": [
       "'0.3.0'"
      ]
     },
     "execution_count": 3,
     "metadata": {},
     "output_type": "execute_result"
    }
   ],
   "source": [
    "tubular.__version__"
   ]
  },
  {
   "cell_type": "markdown",
   "metadata": {},
   "source": [
    "## Create dummy dataset"
   ]
  },
  {
   "cell_type": "code",
   "execution_count": 4,
   "metadata": {},
   "outputs": [],
   "source": [
    "df = pd.DataFrame(\n",
    "    {\n",
    "        \"a\": [\n",
    "            datetime.datetime(1993, 9, 27, 11, 58, 58),\n",
    "            datetime.datetime(2000, 3, 19, 12, 59, 59),\n",
    "            datetime.datetime(2018, 11, 10, 11, 59, 59),\n",
    "            datetime.datetime(2018, 10, 10, 11, 59, 59),\n",
    "            datetime.datetime(2018, 10, 10, 11, 59, 59),\n",
    "            datetime.datetime(2018, 10, 10, 10, 59, 59),\n",
    "            datetime.datetime(2018, 12, 10, 11, 59, 59),\n",
    "            datetime.datetime(1985, 7, 23, 11, 59, 59),\n",
    "        ],\n",
    "        \"b\": [\n",
    "            datetime.datetime(2020, 5, 1, 12, 59, 59),\n",
    "            datetime.datetime(2019, 12, 25, 11, 58, 58),\n",
    "            datetime.datetime(2018, 11, 10, 11, 59, 59),\n",
    "            datetime.datetime(2018, 11, 10, 11, 59, 59),\n",
    "            datetime.datetime(2018, 9, 10, 9, 59, 59),\n",
    "            datetime.datetime(2015, 11, 10, 11, 59, 59),\n",
    "            datetime.datetime(2015, 11, 10, 12, 59, 59),\n",
    "            datetime.datetime(2015, 7, 23, 11, 59, 59),\n",
    "        ],\n",
    "    }\n",
    ")"
   ]
  },
  {
   "cell_type": "code",
   "execution_count": 5,
   "metadata": {},
   "outputs": [
    {
     "data": {
      "text/html": [
       "<div>\n",
       "<style scoped>\n",
       "    .dataframe tbody tr th:only-of-type {\n",
       "        vertical-align: middle;\n",
       "    }\n",
       "\n",
       "    .dataframe tbody tr th {\n",
       "        vertical-align: top;\n",
       "    }\n",
       "\n",
       "    .dataframe thead th {\n",
       "        text-align: right;\n",
       "    }\n",
       "</style>\n",
       "<table border=\"1\" class=\"dataframe\">\n",
       "  <thead>\n",
       "    <tr style=\"text-align: right;\">\n",
       "      <th></th>\n",
       "      <th>a</th>\n",
       "      <th>b</th>\n",
       "    </tr>\n",
       "  </thead>\n",
       "  <tbody>\n",
       "    <tr>\n",
       "      <th>0</th>\n",
       "      <td>1993-09-27 11:58:58</td>\n",
       "      <td>2020-05-01 12:59:59</td>\n",
       "    </tr>\n",
       "    <tr>\n",
       "      <th>1</th>\n",
       "      <td>2000-03-19 12:59:59</td>\n",
       "      <td>2019-12-25 11:58:58</td>\n",
       "    </tr>\n",
       "    <tr>\n",
       "      <th>2</th>\n",
       "      <td>2018-11-10 11:59:59</td>\n",
       "      <td>2018-11-10 11:59:59</td>\n",
       "    </tr>\n",
       "    <tr>\n",
       "      <th>3</th>\n",
       "      <td>2018-10-10 11:59:59</td>\n",
       "      <td>2018-11-10 11:59:59</td>\n",
       "    </tr>\n",
       "    <tr>\n",
       "      <th>4</th>\n",
       "      <td>2018-10-10 11:59:59</td>\n",
       "      <td>2018-09-10 09:59:59</td>\n",
       "    </tr>\n",
       "    <tr>\n",
       "      <th>5</th>\n",
       "      <td>2018-10-10 10:59:59</td>\n",
       "      <td>2015-11-10 11:59:59</td>\n",
       "    </tr>\n",
       "    <tr>\n",
       "      <th>6</th>\n",
       "      <td>2018-12-10 11:59:59</td>\n",
       "      <td>2015-11-10 12:59:59</td>\n",
       "    </tr>\n",
       "    <tr>\n",
       "      <th>7</th>\n",
       "      <td>1985-07-23 11:59:59</td>\n",
       "      <td>2015-07-23 11:59:59</td>\n",
       "    </tr>\n",
       "  </tbody>\n",
       "</table>\n",
       "</div>"
      ],
      "text/plain": [
       "                    a                   b\n",
       "0 1993-09-27 11:58:58 2020-05-01 12:59:59\n",
       "1 2000-03-19 12:59:59 2019-12-25 11:58:58\n",
       "2 2018-11-10 11:59:59 2018-11-10 11:59:59\n",
       "3 2018-10-10 11:59:59 2018-11-10 11:59:59\n",
       "4 2018-10-10 11:59:59 2018-09-10 09:59:59\n",
       "5 2018-10-10 10:59:59 2015-11-10 11:59:59\n",
       "6 2018-12-10 11:59:59 2015-11-10 12:59:59\n",
       "7 1985-07-23 11:59:59 2015-07-23 11:59:59"
      ]
     },
     "execution_count": 5,
     "metadata": {},
     "output_type": "execute_result"
    }
   ],
   "source": [
    "df"
   ]
  },
  {
   "cell_type": "code",
   "execution_count": 6,
   "metadata": {},
   "outputs": [
    {
     "data": {
      "text/plain": [
       "a    datetime64[ns]\n",
       "b    datetime64[ns]\n",
       "dtype: object"
      ]
     },
     "execution_count": 6,
     "metadata": {},
     "output_type": "execute_result"
    }
   ],
   "source": [
    "df.dtypes"
   ]
  },
  {
   "cell_type": "markdown",
   "metadata": {},
   "source": [
    "## Simple usage"
   ]
  },
  {
   "cell_type": "markdown",
   "metadata": {},
   "source": [
    "### Initialising SeriesDtMethodTransformer"
   ]
  },
  {
   "cell_type": "markdown",
   "metadata": {},
   "source": [
    "The user must specify the following; <br>\n",
    "- `new_column_name` the name of the column to assign the outputs of the `pd.Series.str` method to <br> \n",
    "- `pd_method_name` the name of the `pd.Series.dt` method to be called <br>\n",
    "- `column` the column in the `DataFrame` passed to the `transform` method to be transformed <br>\n",
    "- `pd_method_kwargs` a dictionary of keyword arguments that are passed to the `pd.Series.dt` method when called, only applicable if the method is `callable`, otherwise will be ignored <br>"
   ]
  },
  {
   "cell_type": "code",
   "execution_count": 7,
   "metadata": {},
   "outputs": [],
   "source": [
    "month_transformer = SeriesDtMethodTransformer(\n",
    "    column=\"a\", pd_method_name=\"month\", new_column_name=\"a_month\"\n",
    ")"
   ]
  },
  {
   "cell_type": "markdown",
   "metadata": {
    "collapsed": true
   },
   "source": [
    "### SeriesDtMethodTransformer fit\n",
    "There is no fit method for the `SeriesDtMethodTransformer` as the methods that it can run do not 'learn' anything from the data."
   ]
  },
  {
   "cell_type": "markdown",
   "metadata": {},
   "source": [
    "### SeriesDtMethodTransformer transform\n",
    "When running transform with this configuration a new column `a_month` is added to the input `X` which is the result or running `df['a'].dt.month`."
   ]
  },
  {
   "cell_type": "code",
   "execution_count": 8,
   "metadata": {},
   "outputs": [],
   "source": [
    "df_2 = month_transformer.transform(df)"
   ]
  },
  {
   "cell_type": "code",
   "execution_count": 9,
   "metadata": {},
   "outputs": [
    {
     "data": {
      "text/html": [
       "<div>\n",
       "<style scoped>\n",
       "    .dataframe tbody tr th:only-of-type {\n",
       "        vertical-align: middle;\n",
       "    }\n",
       "\n",
       "    .dataframe tbody tr th {\n",
       "        vertical-align: top;\n",
       "    }\n",
       "\n",
       "    .dataframe thead th {\n",
       "        text-align: right;\n",
       "    }\n",
       "</style>\n",
       "<table border=\"1\" class=\"dataframe\">\n",
       "  <thead>\n",
       "    <tr style=\"text-align: right;\">\n",
       "      <th></th>\n",
       "      <th>a</th>\n",
       "      <th>a_month</th>\n",
       "    </tr>\n",
       "  </thead>\n",
       "  <tbody>\n",
       "    <tr>\n",
       "      <th>0</th>\n",
       "      <td>1993-09-27 11:58:58</td>\n",
       "      <td>9</td>\n",
       "    </tr>\n",
       "    <tr>\n",
       "      <th>1</th>\n",
       "      <td>2000-03-19 12:59:59</td>\n",
       "      <td>3</td>\n",
       "    </tr>\n",
       "    <tr>\n",
       "      <th>2</th>\n",
       "      <td>2018-11-10 11:59:59</td>\n",
       "      <td>11</td>\n",
       "    </tr>\n",
       "    <tr>\n",
       "      <th>3</th>\n",
       "      <td>2018-10-10 11:59:59</td>\n",
       "      <td>10</td>\n",
       "    </tr>\n",
       "    <tr>\n",
       "      <th>4</th>\n",
       "      <td>2018-10-10 11:59:59</td>\n",
       "      <td>10</td>\n",
       "    </tr>\n",
       "  </tbody>\n",
       "</table>\n",
       "</div>"
      ],
      "text/plain": [
       "                    a  a_month\n",
       "0 1993-09-27 11:58:58        9\n",
       "1 2000-03-19 12:59:59        3\n",
       "2 2018-11-10 11:59:59       11\n",
       "3 2018-10-10 11:59:59       10\n",
       "4 2018-10-10 11:59:59       10"
      ]
     },
     "execution_count": 9,
     "metadata": {},
     "output_type": "execute_result"
    }
   ],
   "source": [
    "df_2[[\"a\", \"a_month\"]].head()"
   ]
  },
  {
   "cell_type": "code",
   "execution_count": null,
   "metadata": {},
   "outputs": [],
   "source": []
  },
  {
   "cell_type": "code",
   "execution_count": null,
   "metadata": {},
   "outputs": [],
   "source": []
  },
  {
   "cell_type": "code",
   "execution_count": null,
   "metadata": {},
   "outputs": [],
   "source": []
  },
  {
   "cell_type": "code",
   "execution_count": null,
   "metadata": {},
   "outputs": [],
   "source": []
  }
 ],
 "metadata": {
  "kernelspec": {
   "display_name": "Python 3 (ipykernel)",
   "language": "python",
   "name": "python3"
  },
  "language_info": {
   "codemirror_mode": {
    "name": "ipython",
    "version": 3
   },
   "file_extension": ".py",
   "mimetype": "text/x-python",
   "name": "python",
   "nbconvert_exporter": "python",
   "pygments_lexer": "ipython3",
   "version": "3.7.11"
  },
  "toc": {
   "base_numbering": 1,
   "nav_menu": {},
   "number_sections": true,
   "sideBar": true,
   "skip_h1_title": false,
   "title_cell": "Table of Contents",
   "title_sidebar": "Contents",
   "toc_cell": false,
   "toc_position": {},
   "toc_section_display": true,
   "toc_window_display": true
  }
 },
 "nbformat": 4,
 "nbformat_minor": 2
}
