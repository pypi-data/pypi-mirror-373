{
 "cells": [
  {
   "cell_type": "markdown",
   "metadata": {},
   "source": [
    "# DateDiffLeapYearTransformer\n",
    "This notebook shows the functionality in the DateDiffLeapYearTransformer class. This transformer calculates the age gap between two datetime columns in a pandas DataFrame. The transformer doesn't use np.timedelta64 to avoid miscalculations due to leap years.<br>"
   ]
  },
  {
   "cell_type": "code",
   "execution_count": 1,
   "metadata": {
    "ExecuteTime": {
     "end_time": "2020-12-07T13:40:56.560895Z",
     "start_time": "2020-12-07T13:40:56.207477Z"
    }
   },
   "outputs": [],
   "source": [
    "import datetime\n",
    "import pandas as pd\n",
    "import numpy as np"
   ]
  },
  {
   "cell_type": "code",
   "execution_count": 2,
   "metadata": {
    "ExecuteTime": {
     "end_time": "2020-12-07T13:40:57.943264Z",
     "start_time": "2020-12-07T13:40:57.175215Z"
    }
   },
   "outputs": [],
   "source": [
    "import tubular\n",
    "from tubular.dates import DateDiffLeapYearTransformer"
   ]
  },
  {
   "cell_type": "code",
   "execution_count": 3,
   "metadata": {
    "ExecuteTime": {
     "end_time": "2020-12-07T13:40:58.915652Z",
     "start_time": "2020-12-07T13:40:58.902638Z"
    }
   },
   "outputs": [
    {
     "data": {
      "text/plain": [
       "'0.3.0'"
      ]
     },
     "execution_count": 3,
     "metadata": {},
     "output_type": "execute_result"
    }
   ],
   "source": [
    "tubular.__version__"
   ]
  },
  {
   "cell_type": "markdown",
   "metadata": {},
   "source": [
    "## Create and Load datetime data"
   ]
  },
  {
   "cell_type": "code",
   "execution_count": 4,
   "metadata": {
    "ExecuteTime": {
     "end_time": "2020-12-07T13:41:01.222083Z",
     "start_time": "2020-12-07T13:41:01.213053Z"
    }
   },
   "outputs": [],
   "source": [
    "def create_datetime_data():\n",
    "    days_1 = np.random.randint(1, 29, 10)\n",
    "    months_1 = np.random.randint(1, 13, 10)\n",
    "    years_1 = np.random.randint(1970, 2000, 10)\n",
    "\n",
    "    days_2 = np.random.randint(1, 29, 10)\n",
    "    months_2 = np.random.randint(1, 13, 10)\n",
    "    years_2 = np.random.randint(2010, 2020, 10)\n",
    "\n",
    "    date_1 = [datetime.date(x, y, z) for x, y, z in zip(years_1, months_1, days_1)]\n",
    "    date_2 = [datetime.date(x, y, z) for x, y, z in zip(years_2, months_2, days_2)]\n",
    "\n",
    "    data = pd.DataFrame({\"date_of_birth\": date_1, \"sale_date\": date_2})\n",
    "\n",
    "    return data"
   ]
  },
  {
   "cell_type": "code",
   "execution_count": 5,
   "metadata": {
    "ExecuteTime": {
     "end_time": "2020-12-07T13:41:02.506465Z",
     "start_time": "2020-12-07T13:41:02.501454Z"
    }
   },
   "outputs": [],
   "source": [
    "datetime_data = create_datetime_data()"
   ]
  },
  {
   "cell_type": "code",
   "execution_count": 6,
   "metadata": {
    "ExecuteTime": {
     "end_time": "2020-12-07T13:41:03.542182Z",
     "start_time": "2020-12-07T13:41:03.525183Z"
    }
   },
   "outputs": [
    {
     "data": {
      "text/html": [
       "<div>\n",
       "<style scoped>\n",
       "    .dataframe tbody tr th:only-of-type {\n",
       "        vertical-align: middle;\n",
       "    }\n",
       "\n",
       "    .dataframe tbody tr th {\n",
       "        vertical-align: top;\n",
       "    }\n",
       "\n",
       "    .dataframe thead th {\n",
       "        text-align: right;\n",
       "    }\n",
       "</style>\n",
       "<table border=\"1\" class=\"dataframe\">\n",
       "  <thead>\n",
       "    <tr style=\"text-align: right;\">\n",
       "      <th></th>\n",
       "      <th>date_of_birth</th>\n",
       "      <th>sale_date</th>\n",
       "    </tr>\n",
       "  </thead>\n",
       "  <tbody>\n",
       "    <tr>\n",
       "      <th>0</th>\n",
       "      <td>1971-07-04</td>\n",
       "      <td>2014-10-27</td>\n",
       "    </tr>\n",
       "    <tr>\n",
       "      <th>1</th>\n",
       "      <td>1970-10-28</td>\n",
       "      <td>2010-03-10</td>\n",
       "    </tr>\n",
       "    <tr>\n",
       "      <th>2</th>\n",
       "      <td>1972-11-07</td>\n",
       "      <td>2014-08-09</td>\n",
       "    </tr>\n",
       "    <tr>\n",
       "      <th>3</th>\n",
       "      <td>1989-08-22</td>\n",
       "      <td>2018-10-02</td>\n",
       "    </tr>\n",
       "    <tr>\n",
       "      <th>4</th>\n",
       "      <td>1991-03-16</td>\n",
       "      <td>2010-05-28</td>\n",
       "    </tr>\n",
       "    <tr>\n",
       "      <th>5</th>\n",
       "      <td>1984-12-21</td>\n",
       "      <td>2017-11-16</td>\n",
       "    </tr>\n",
       "    <tr>\n",
       "      <th>6</th>\n",
       "      <td>1976-06-22</td>\n",
       "      <td>2018-03-13</td>\n",
       "    </tr>\n",
       "    <tr>\n",
       "      <th>7</th>\n",
       "      <td>1993-04-13</td>\n",
       "      <td>2016-12-03</td>\n",
       "    </tr>\n",
       "    <tr>\n",
       "      <th>8</th>\n",
       "      <td>1972-04-10</td>\n",
       "      <td>2011-06-08</td>\n",
       "    </tr>\n",
       "    <tr>\n",
       "      <th>9</th>\n",
       "      <td>1990-12-26</td>\n",
       "      <td>2012-11-26</td>\n",
       "    </tr>\n",
       "  </tbody>\n",
       "</table>\n",
       "</div>"
      ],
      "text/plain": [
       "  date_of_birth   sale_date\n",
       "0    1971-07-04  2014-10-27\n",
       "1    1970-10-28  2010-03-10\n",
       "2    1972-11-07  2014-08-09\n",
       "3    1989-08-22  2018-10-02\n",
       "4    1991-03-16  2010-05-28\n",
       "5    1984-12-21  2017-11-16\n",
       "6    1976-06-22  2018-03-13\n",
       "7    1993-04-13  2016-12-03\n",
       "8    1972-04-10  2011-06-08\n",
       "9    1990-12-26  2012-11-26"
      ]
     },
     "execution_count": 6,
     "metadata": {},
     "output_type": "execute_result"
    }
   ],
   "source": [
    "datetime_data"
   ]
  },
  {
   "cell_type": "code",
   "execution_count": 7,
   "metadata": {
    "ExecuteTime": {
     "end_time": "2020-05-18T08:44:33.360770Z",
     "start_time": "2020-05-18T08:44:33.346773Z"
    }
   },
   "outputs": [
    {
     "data": {
      "text/plain": [
       "date_of_birth    object\n",
       "sale_date        object\n",
       "dtype: object"
      ]
     },
     "execution_count": 7,
     "metadata": {},
     "output_type": "execute_result"
    }
   ],
   "source": [
    "datetime_data.dtypes"
   ]
  },
  {
   "cell_type": "markdown",
   "metadata": {},
   "source": [
    "## Usage\n",
    "The transformer requires 4 arguments:\n",
    "- column_lower: the datetime column that is being subtracted.\n",
    "- column_upper: the datetime column that is subtracted from.\n",
    "- new_column_name: the name of the new age column.\n",
    "- drop_cols: boolean to determine wherther column_lower and column_upper are dropped after the calculation.\n"
   ]
  },
  {
   "cell_type": "markdown",
   "metadata": {},
   "source": [
    "### Keeping old columns"
   ]
  },
  {
   "cell_type": "code",
   "execution_count": 8,
   "metadata": {
    "ExecuteTime": {
     "end_time": "2020-12-07T13:41:06.354121Z",
     "start_time": "2020-12-07T13:41:06.350178Z"
    }
   },
   "outputs": [],
   "source": [
    "date_diff_leap_year_transformer = DateDiffLeapYearTransformer(\n",
    "    column_lower=\"date_of_birth\",\n",
    "    column_upper=\"sale_date\",\n",
    "    new_column_name=\"age\",\n",
    "    drop_cols=False,\n",
    ")"
   ]
  },
  {
   "cell_type": "code",
   "execution_count": 9,
   "metadata": {
    "ExecuteTime": {
     "end_time": "2020-12-07T13:41:09.562213Z",
     "start_time": "2020-12-07T13:41:09.549227Z"
    }
   },
   "outputs": [],
   "source": [
    "transformed_data = date_diff_leap_year_transformer.transform(datetime_data)"
   ]
  },
  {
   "cell_type": "code",
   "execution_count": 10,
   "metadata": {
    "ExecuteTime": {
     "end_time": "2020-12-07T13:41:10.678443Z",
     "start_time": "2020-12-07T13:41:10.667436Z"
    }
   },
   "outputs": [
    {
     "data": {
      "text/html": [
       "<div>\n",
       "<style scoped>\n",
       "    .dataframe tbody tr th:only-of-type {\n",
       "        vertical-align: middle;\n",
       "    }\n",
       "\n",
       "    .dataframe tbody tr th {\n",
       "        vertical-align: top;\n",
       "    }\n",
       "\n",
       "    .dataframe thead th {\n",
       "        text-align: right;\n",
       "    }\n",
       "</style>\n",
       "<table border=\"1\" class=\"dataframe\">\n",
       "  <thead>\n",
       "    <tr style=\"text-align: right;\">\n",
       "      <th></th>\n",
       "      <th>date_of_birth</th>\n",
       "      <th>sale_date</th>\n",
       "      <th>age</th>\n",
       "    </tr>\n",
       "  </thead>\n",
       "  <tbody>\n",
       "    <tr>\n",
       "      <th>0</th>\n",
       "      <td>1971-07-04</td>\n",
       "      <td>2014-10-27</td>\n",
       "      <td>43</td>\n",
       "    </tr>\n",
       "    <tr>\n",
       "      <th>1</th>\n",
       "      <td>1970-10-28</td>\n",
       "      <td>2010-03-10</td>\n",
       "      <td>39</td>\n",
       "    </tr>\n",
       "    <tr>\n",
       "      <th>2</th>\n",
       "      <td>1972-11-07</td>\n",
       "      <td>2014-08-09</td>\n",
       "      <td>41</td>\n",
       "    </tr>\n",
       "    <tr>\n",
       "      <th>3</th>\n",
       "      <td>1989-08-22</td>\n",
       "      <td>2018-10-02</td>\n",
       "      <td>29</td>\n",
       "    </tr>\n",
       "    <tr>\n",
       "      <th>4</th>\n",
       "      <td>1991-03-16</td>\n",
       "      <td>2010-05-28</td>\n",
       "      <td>19</td>\n",
       "    </tr>\n",
       "    <tr>\n",
       "      <th>5</th>\n",
       "      <td>1984-12-21</td>\n",
       "      <td>2017-11-16</td>\n",
       "      <td>32</td>\n",
       "    </tr>\n",
       "    <tr>\n",
       "      <th>6</th>\n",
       "      <td>1976-06-22</td>\n",
       "      <td>2018-03-13</td>\n",
       "      <td>41</td>\n",
       "    </tr>\n",
       "    <tr>\n",
       "      <th>7</th>\n",
       "      <td>1993-04-13</td>\n",
       "      <td>2016-12-03</td>\n",
       "      <td>23</td>\n",
       "    </tr>\n",
       "    <tr>\n",
       "      <th>8</th>\n",
       "      <td>1972-04-10</td>\n",
       "      <td>2011-06-08</td>\n",
       "      <td>39</td>\n",
       "    </tr>\n",
       "    <tr>\n",
       "      <th>9</th>\n",
       "      <td>1990-12-26</td>\n",
       "      <td>2012-11-26</td>\n",
       "      <td>21</td>\n",
       "    </tr>\n",
       "  </tbody>\n",
       "</table>\n",
       "</div>"
      ],
      "text/plain": [
       "  date_of_birth   sale_date  age\n",
       "0    1971-07-04  2014-10-27   43\n",
       "1    1970-10-28  2010-03-10   39\n",
       "2    1972-11-07  2014-08-09   41\n",
       "3    1989-08-22  2018-10-02   29\n",
       "4    1991-03-16  2010-05-28   19\n",
       "5    1984-12-21  2017-11-16   32\n",
       "6    1976-06-22  2018-03-13   41\n",
       "7    1993-04-13  2016-12-03   23\n",
       "8    1972-04-10  2011-06-08   39\n",
       "9    1990-12-26  2012-11-26   21"
      ]
     },
     "execution_count": 10,
     "metadata": {},
     "output_type": "execute_result"
    }
   ],
   "source": [
    "transformed_data"
   ]
  },
  {
   "cell_type": "markdown",
   "metadata": {},
   "source": [
    "### Dropping old columns"
   ]
  },
  {
   "cell_type": "code",
   "execution_count": 11,
   "metadata": {
    "ExecuteTime": {
     "end_time": "2020-12-07T13:41:12.353966Z",
     "start_time": "2020-12-07T13:41:12.349007Z"
    }
   },
   "outputs": [],
   "source": [
    "date_diff_leap_year_transformer = DateDiffLeapYearTransformer(\n",
    "    column_lower=\"date_of_birth\",\n",
    "    column_upper=\"sale_date\",\n",
    "    new_column_name=\"age\",\n",
    "    drop_cols=True,\n",
    ")"
   ]
  },
  {
   "cell_type": "code",
   "execution_count": 12,
   "metadata": {
    "ExecuteTime": {
     "end_time": "2020-12-07T13:41:13.124261Z",
     "start_time": "2020-12-07T13:41:13.117243Z"
    }
   },
   "outputs": [],
   "source": [
    "transformed_data_2 = date_diff_leap_year_transformer.transform(datetime_data)"
   ]
  },
  {
   "cell_type": "code",
   "execution_count": 13,
   "metadata": {
    "ExecuteTime": {
     "end_time": "2020-12-07T13:41:13.829631Z",
     "start_time": "2020-12-07T13:41:13.820631Z"
    }
   },
   "outputs": [
    {
     "data": {
      "text/html": [
       "<div>\n",
       "<style scoped>\n",
       "    .dataframe tbody tr th:only-of-type {\n",
       "        vertical-align: middle;\n",
       "    }\n",
       "\n",
       "    .dataframe tbody tr th {\n",
       "        vertical-align: top;\n",
       "    }\n",
       "\n",
       "    .dataframe thead th {\n",
       "        text-align: right;\n",
       "    }\n",
       "</style>\n",
       "<table border=\"1\" class=\"dataframe\">\n",
       "  <thead>\n",
       "    <tr style=\"text-align: right;\">\n",
       "      <th></th>\n",
       "      <th>age</th>\n",
       "    </tr>\n",
       "  </thead>\n",
       "  <tbody>\n",
       "    <tr>\n",
       "      <th>0</th>\n",
       "      <td>43</td>\n",
       "    </tr>\n",
       "    <tr>\n",
       "      <th>1</th>\n",
       "      <td>39</td>\n",
       "    </tr>\n",
       "    <tr>\n",
       "      <th>2</th>\n",
       "      <td>41</td>\n",
       "    </tr>\n",
       "    <tr>\n",
       "      <th>3</th>\n",
       "      <td>29</td>\n",
       "    </tr>\n",
       "    <tr>\n",
       "      <th>4</th>\n",
       "      <td>19</td>\n",
       "    </tr>\n",
       "    <tr>\n",
       "      <th>5</th>\n",
       "      <td>32</td>\n",
       "    </tr>\n",
       "    <tr>\n",
       "      <th>6</th>\n",
       "      <td>41</td>\n",
       "    </tr>\n",
       "    <tr>\n",
       "      <th>7</th>\n",
       "      <td>23</td>\n",
       "    </tr>\n",
       "    <tr>\n",
       "      <th>8</th>\n",
       "      <td>39</td>\n",
       "    </tr>\n",
       "    <tr>\n",
       "      <th>9</th>\n",
       "      <td>21</td>\n",
       "    </tr>\n",
       "  </tbody>\n",
       "</table>\n",
       "</div>"
      ],
      "text/plain": [
       "   age\n",
       "0   43\n",
       "1   39\n",
       "2   41\n",
       "3   29\n",
       "4   19\n",
       "5   32\n",
       "6   41\n",
       "7   23\n",
       "8   39\n",
       "9   21"
      ]
     },
     "execution_count": 13,
     "metadata": {},
     "output_type": "execute_result"
    }
   ],
   "source": [
    "transformed_data_2"
   ]
  },
  {
   "cell_type": "code",
   "execution_count": null,
   "metadata": {},
   "outputs": [],
   "source": []
  }
 ],
 "metadata": {
  "hide_input": false,
  "kernelspec": {
   "display_name": "Python 3 (ipykernel)",
   "language": "python",
   "name": "python3"
  },
  "language_info": {
   "codemirror_mode": {
    "name": "ipython",
    "version": 3
   },
   "file_extension": ".py",
   "mimetype": "text/x-python",
   "name": "python",
   "nbconvert_exporter": "python",
   "pygments_lexer": "ipython3",
   "version": "3.7.11"
  },
  "toc": {
   "base_numbering": 1,
   "nav_menu": {},
   "number_sections": true,
   "sideBar": true,
   "skip_h1_title": false,
   "title_cell": "Table of Contents",
   "title_sidebar": "Contents",
   "toc_cell": false,
   "toc_position": {},
   "toc_section_display": true,
   "toc_window_display": false
  },
  "varInspector": {
   "cols": {
    "lenName": 16,
    "lenType": 16,
    "lenVar": 40
   },
   "kernels_config": {
    "python": {
     "delete_cmd_postfix": "",
     "delete_cmd_prefix": "del ",
     "library": "var_list.py",
     "varRefreshCmd": "print(var_dic_list())"
    },
    "r": {
     "delete_cmd_postfix": ") ",
     "delete_cmd_prefix": "rm(",
     "library": "var_list.r",
     "varRefreshCmd": "cat(var_dic_list()) "
    }
   },
   "types_to_exclude": [
    "module",
    "function",
    "builtin_function_or_method",
    "instance",
    "_Feature"
   ],
   "window_display": false
  }
 },
 "nbformat": 4,
 "nbformat_minor": 2
}
