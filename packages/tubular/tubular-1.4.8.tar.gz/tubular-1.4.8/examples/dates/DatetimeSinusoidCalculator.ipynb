{
 "cells": [
  {
   "cell_type": "markdown",
   "metadata": {},
   "source": [
    "# DatetimeSinusoidCalculator\n",
    "This notebook shows the functionality of the `DatetimeSinusoidCalculator` class. This transformer derives a feature in a dataframe by calculating the sine or cosine of a datetime column in a given unit (e.g hour), with the option to scale period of the sine or cosine to match the natural period of the unit (e.g. 24)."
   ]
  },
  {
   "cell_type": "code",
   "execution_count": 1,
   "metadata": {},
   "outputs": [],
   "source": [
    "import tubular\n",
    "import tests.test_data as d\n",
    "from tubular.dates import DatetimeSinusoidCalculator"
   ]
  },
  {
   "cell_type": "code",
   "execution_count": 2,
   "metadata": {},
   "outputs": [
    {
     "data": {
      "text/plain": [
       "'0.3.3'"
      ]
     },
     "execution_count": 2,
     "metadata": {},
     "output_type": "execute_result"
    }
   ],
   "source": [
    "tubular.__version__"
   ]
  },
  {
   "cell_type": "markdown",
   "metadata": {},
   "source": [
    "## Load dummy dataset"
   ]
  },
  {
   "cell_type": "code",
   "execution_count": 3,
   "metadata": {},
   "outputs": [
    {
     "data": {
      "text/plain": [
       "(8, 2)"
      ]
     },
     "execution_count": 3,
     "metadata": {},
     "output_type": "execute_result"
    }
   ],
   "source": [
    "df = d.create_datediff_test_df()\n",
    "df.shape"
   ]
  },
  {
   "cell_type": "code",
   "execution_count": 4,
   "metadata": {},
   "outputs": [
    {
     "data": {
      "text/html": [
       "<div>\n",
       "<style scoped>\n",
       "    .dataframe tbody tr th:only-of-type {\n",
       "        vertical-align: middle;\n",
       "    }\n",
       "\n",
       "    .dataframe tbody tr th {\n",
       "        vertical-align: top;\n",
       "    }\n",
       "\n",
       "    .dataframe thead th {\n",
       "        text-align: right;\n",
       "    }\n",
       "</style>\n",
       "<table border=\"1\" class=\"dataframe\">\n",
       "  <thead>\n",
       "    <tr style=\"text-align: right;\">\n",
       "      <th></th>\n",
       "      <th>a</th>\n",
       "      <th>b</th>\n",
       "    </tr>\n",
       "  </thead>\n",
       "  <tbody>\n",
       "    <tr>\n",
       "      <th>0</th>\n",
       "      <td>1993-09-27 11:58:58</td>\n",
       "      <td>2020-05-01 12:59:59</td>\n",
       "    </tr>\n",
       "    <tr>\n",
       "      <th>1</th>\n",
       "      <td>2000-03-19 12:59:59</td>\n",
       "      <td>2019-12-25 11:58:58</td>\n",
       "    </tr>\n",
       "    <tr>\n",
       "      <th>2</th>\n",
       "      <td>2018-11-10 11:59:59</td>\n",
       "      <td>2018-11-10 11:59:59</td>\n",
       "    </tr>\n",
       "    <tr>\n",
       "      <th>3</th>\n",
       "      <td>2018-10-10 11:59:59</td>\n",
       "      <td>2018-11-10 11:59:59</td>\n",
       "    </tr>\n",
       "    <tr>\n",
       "      <th>4</th>\n",
       "      <td>2018-10-10 11:59:59</td>\n",
       "      <td>2018-09-10 09:59:59</td>\n",
       "    </tr>\n",
       "    <tr>\n",
       "      <th>5</th>\n",
       "      <td>2018-10-10 10:59:59</td>\n",
       "      <td>2015-11-10 11:59:59</td>\n",
       "    </tr>\n",
       "    <tr>\n",
       "      <th>6</th>\n",
       "      <td>2018-12-10 11:59:59</td>\n",
       "      <td>2015-11-10 12:59:59</td>\n",
       "    </tr>\n",
       "    <tr>\n",
       "      <th>7</th>\n",
       "      <td>1985-07-23 11:59:59</td>\n",
       "      <td>2015-07-23 11:59:59</td>\n",
       "    </tr>\n",
       "  </tbody>\n",
       "</table>\n",
       "</div>"
      ],
      "text/plain": [
       "                    a                   b\n",
       "0 1993-09-27 11:58:58 2020-05-01 12:59:59\n",
       "1 2000-03-19 12:59:59 2019-12-25 11:58:58\n",
       "2 2018-11-10 11:59:59 2018-11-10 11:59:59\n",
       "3 2018-10-10 11:59:59 2018-11-10 11:59:59\n",
       "4 2018-10-10 11:59:59 2018-09-10 09:59:59\n",
       "5 2018-10-10 10:59:59 2015-11-10 11:59:59\n",
       "6 2018-12-10 11:59:59 2015-11-10 12:59:59\n",
       "7 1985-07-23 11:59:59 2015-07-23 11:59:59"
      ]
     },
     "execution_count": 4,
     "metadata": {},
     "output_type": "execute_result"
    }
   ],
   "source": [
    "df"
   ]
  },
  {
   "cell_type": "markdown",
   "metadata": {},
   "source": [
    "## Simple usage"
   ]
  },
  {
   "cell_type": "markdown",
   "metadata": {},
   "source": [
    "### Initialising DatetimeSinusoidCalculator\n",
    "The user must specify the following;\n",
    "- `columns` giving the column to operate on, this can be a single column or a list of column names.\n",
    "- `method` argument to specify which function is to be calculated. Accepted values are 'sin', 'cos' or a list containing both.\n",
    "- `units` which time unit the calculation is to be carried out on. Accepted values are 'year', 'month', 'day', 'hour', 'minute', 'second', 'microsecond'. \n",
    "- `period` the period of the output in the units specified above. To leave the period of the sinusoid output as 2 pi, leave the value as default.\n",
    "\n",
    "\n"
   ]
  },
  {
   "cell_type": "code",
   "execution_count": 5,
   "metadata": {},
   "outputs": [],
   "source": [
    "cosine_month_calculator = DatetimeSinusoidCalculator(\n",
    "    [\"a\", \"b\"],\n",
    "    [\"sin\", \"cos\"],\n",
    "    \"month\",\n",
    "    12,\n",
    ")"
   ]
  },
  {
   "cell_type": "markdown",
   "metadata": {
    "collapsed": true
   },
   "source": [
    "### DatetimeSinusoidCalculator fit\n",
    "There is no `fit` method for the `DatetimeSinusoidCalculator` class, it does not learn anything from the input data `X`."
   ]
  },
  {
   "cell_type": "markdown",
   "metadata": {},
   "source": [
    "### DateTimeSinusoidCalculator transform\n",
    "Four columns are added to the dataframe when the class is instantiated like this; sin_a, cos_a, sin_b and cos_b."
   ]
  },
  {
   "cell_type": "code",
   "execution_count": 6,
   "metadata": {},
   "outputs": [],
   "source": [
    "df_2 = cosine_month_calculator.transform(df)"
   ]
  },
  {
   "cell_type": "code",
   "execution_count": 7,
   "metadata": {},
   "outputs": [
    {
     "data": {
      "text/html": [
       "<div>\n",
       "<style scoped>\n",
       "    .dataframe tbody tr th:only-of-type {\n",
       "        vertical-align: middle;\n",
       "    }\n",
       "\n",
       "    .dataframe tbody tr th {\n",
       "        vertical-align: top;\n",
       "    }\n",
       "\n",
       "    .dataframe thead th {\n",
       "        text-align: right;\n",
       "    }\n",
       "</style>\n",
       "<table border=\"1\" class=\"dataframe\">\n",
       "  <thead>\n",
       "    <tr style=\"text-align: right;\">\n",
       "      <th></th>\n",
       "      <th>a</th>\n",
       "      <th>b</th>\n",
       "      <th>sin_a</th>\n",
       "      <th>cos_a</th>\n",
       "      <th>sin_b</th>\n",
       "      <th>cos_b</th>\n",
       "    </tr>\n",
       "  </thead>\n",
       "  <tbody>\n",
       "    <tr>\n",
       "      <th>0</th>\n",
       "      <td>1993-09-27 11:58:58</td>\n",
       "      <td>2020-05-01 12:59:59</td>\n",
       "      <td>-1.000000e+00</td>\n",
       "      <td>-1.836970e-16</td>\n",
       "      <td>5.000000e-01</td>\n",
       "      <td>-8.660254e-01</td>\n",
       "    </tr>\n",
       "    <tr>\n",
       "      <th>1</th>\n",
       "      <td>2000-03-19 12:59:59</td>\n",
       "      <td>2019-12-25 11:58:58</td>\n",
       "      <td>1.000000e+00</td>\n",
       "      <td>6.123234e-17</td>\n",
       "      <td>-2.449294e-16</td>\n",
       "      <td>1.000000e+00</td>\n",
       "    </tr>\n",
       "    <tr>\n",
       "      <th>2</th>\n",
       "      <td>2018-11-10 11:59:59</td>\n",
       "      <td>2018-11-10 11:59:59</td>\n",
       "      <td>-5.000000e-01</td>\n",
       "      <td>8.660254e-01</td>\n",
       "      <td>-5.000000e-01</td>\n",
       "      <td>8.660254e-01</td>\n",
       "    </tr>\n",
       "    <tr>\n",
       "      <th>3</th>\n",
       "      <td>2018-10-10 11:59:59</td>\n",
       "      <td>2018-11-10 11:59:59</td>\n",
       "      <td>-8.660254e-01</td>\n",
       "      <td>5.000000e-01</td>\n",
       "      <td>-5.000000e-01</td>\n",
       "      <td>8.660254e-01</td>\n",
       "    </tr>\n",
       "    <tr>\n",
       "      <th>4</th>\n",
       "      <td>2018-10-10 11:59:59</td>\n",
       "      <td>2018-09-10 09:59:59</td>\n",
       "      <td>-8.660254e-01</td>\n",
       "      <td>5.000000e-01</td>\n",
       "      <td>-1.000000e+00</td>\n",
       "      <td>-1.836970e-16</td>\n",
       "    </tr>\n",
       "    <tr>\n",
       "      <th>5</th>\n",
       "      <td>2018-10-10 10:59:59</td>\n",
       "      <td>2015-11-10 11:59:59</td>\n",
       "      <td>-8.660254e-01</td>\n",
       "      <td>5.000000e-01</td>\n",
       "      <td>-5.000000e-01</td>\n",
       "      <td>8.660254e-01</td>\n",
       "    </tr>\n",
       "    <tr>\n",
       "      <th>6</th>\n",
       "      <td>2018-12-10 11:59:59</td>\n",
       "      <td>2015-11-10 12:59:59</td>\n",
       "      <td>-2.449294e-16</td>\n",
       "      <td>1.000000e+00</td>\n",
       "      <td>-5.000000e-01</td>\n",
       "      <td>8.660254e-01</td>\n",
       "    </tr>\n",
       "    <tr>\n",
       "      <th>7</th>\n",
       "      <td>1985-07-23 11:59:59</td>\n",
       "      <td>2015-07-23 11:59:59</td>\n",
       "      <td>-5.000000e-01</td>\n",
       "      <td>-8.660254e-01</td>\n",
       "      <td>-5.000000e-01</td>\n",
       "      <td>-8.660254e-01</td>\n",
       "    </tr>\n",
       "  </tbody>\n",
       "</table>\n",
       "</div>"
      ],
      "text/plain": [
       "                    a                   b         sin_a         cos_a  \\\n",
       "0 1993-09-27 11:58:58 2020-05-01 12:59:59 -1.000000e+00 -1.836970e-16   \n",
       "1 2000-03-19 12:59:59 2019-12-25 11:58:58  1.000000e+00  6.123234e-17   \n",
       "2 2018-11-10 11:59:59 2018-11-10 11:59:59 -5.000000e-01  8.660254e-01   \n",
       "3 2018-10-10 11:59:59 2018-11-10 11:59:59 -8.660254e-01  5.000000e-01   \n",
       "4 2018-10-10 11:59:59 2018-09-10 09:59:59 -8.660254e-01  5.000000e-01   \n",
       "5 2018-10-10 10:59:59 2015-11-10 11:59:59 -8.660254e-01  5.000000e-01   \n",
       "6 2018-12-10 11:59:59 2015-11-10 12:59:59 -2.449294e-16  1.000000e+00   \n",
       "7 1985-07-23 11:59:59 2015-07-23 11:59:59 -5.000000e-01 -8.660254e-01   \n",
       "\n",
       "          sin_b         cos_b  \n",
       "0  5.000000e-01 -8.660254e-01  \n",
       "1 -2.449294e-16  1.000000e+00  \n",
       "2 -5.000000e-01  8.660254e-01  \n",
       "3 -5.000000e-01  8.660254e-01  \n",
       "4 -1.000000e+00 -1.836970e-16  \n",
       "5 -5.000000e-01  8.660254e-01  \n",
       "6 -5.000000e-01  8.660254e-01  \n",
       "7 -5.000000e-01 -8.660254e-01  "
      ]
     },
     "execution_count": 7,
     "metadata": {},
     "output_type": "execute_result"
    }
   ],
   "source": [
    "df_2"
   ]
  },
  {
   "cell_type": "code",
   "execution_count": 8,
   "metadata": {},
   "outputs": [
    {
     "data": {
      "text/plain": [
       "a        datetime64[ns]\n",
       "b        datetime64[ns]\n",
       "sin_a           float64\n",
       "cos_a           float64\n",
       "sin_b           float64\n",
       "cos_b           float64\n",
       "dtype: object"
      ]
     },
     "execution_count": 8,
     "metadata": {},
     "output_type": "execute_result"
    }
   ],
   "source": [
    "df_2.dtypes"
   ]
  }
 ],
 "metadata": {
  "kernelspec": {
   "display_name": "Python 3.8.0 ('tubular-dev')",
   "language": "python",
   "name": "python3"
  },
  "language_info": {
   "codemirror_mode": {
    "name": "ipython",
    "version": 3
   },
   "file_extension": ".py",
   "mimetype": "text/x-python",
   "name": "python",
   "nbconvert_exporter": "python",
   "pygments_lexer": "ipython3",
   "version": "3.8.0"
  },
  "toc": {
   "base_numbering": 1,
   "nav_menu": {},
   "number_sections": true,
   "sideBar": true,
   "skip_h1_title": false,
   "title_cell": "Table of Contents",
   "title_sidebar": "Contents",
   "toc_cell": false,
   "toc_position": {},
   "toc_section_display": true,
   "toc_window_display": true
  },
  "vscode": {
   "interpreter": {
    "hash": "cc666868ff21538e6058ba6d4768423bd0d0d7d7fded3ffb1bc309a0bf9339c2"
   }
  }
 },
 "nbformat": 4,
 "nbformat_minor": 2
}
