{
 "cells": [
  {
   "cell_type": "markdown",
   "metadata": {},
   "source": [
    "# DatetimeInfoExtractor\n",
    "This notebook shows the functionality of the `DatetimeInfoExtractor` class. This transformer extracts information from a `datetime` type column - such as the hour of the day, the month, etc - and then maps it to a label. The transformer contains default mappings for each set of extracted information, which can be overridden with an optional parameter."
   ]
  },
  {
   "cell_type": "code",
   "execution_count": 1,
   "metadata": {},
   "outputs": [],
   "source": [
    "import pandas as pd\n",
    "import numpy as np"
   ]
  },
  {
   "cell_type": "code",
   "execution_count": 2,
   "metadata": {},
   "outputs": [],
   "source": [
    "import tubular\n",
    "from tubular.dates import DatetimeInfoExtractor\n",
    "\n",
    "import tests.test_data as td"
   ]
  },
  {
   "cell_type": "code",
   "execution_count": 3,
   "metadata": {},
   "outputs": [
    {
     "data": {
      "text/plain": [
       "'0.3.3'"
      ]
     },
     "execution_count": 3,
     "metadata": {},
     "output_type": "execute_result"
    }
   ],
   "source": [
    "tubular.__version__"
   ]
  },
  {
   "cell_type": "markdown",
   "metadata": {},
   "source": [
    "## Load dataset\n",
    "Here we load in a dataset with datetime dtypes"
   ]
  },
  {
   "cell_type": "code",
   "execution_count": 4,
   "metadata": {},
   "outputs": [],
   "source": [
    "df = td.create_datediff_test_df()"
   ]
  },
  {
   "cell_type": "code",
   "execution_count": 5,
   "metadata": {},
   "outputs": [
    {
     "data": {
      "text/html": [
       "<div>\n",
       "<style scoped>\n",
       "    .dataframe tbody tr th:only-of-type {\n",
       "        vertical-align: middle;\n",
       "    }\n",
       "\n",
       "    .dataframe tbody tr th {\n",
       "        vertical-align: top;\n",
       "    }\n",
       "\n",
       "    .dataframe thead th {\n",
       "        text-align: right;\n",
       "    }\n",
       "</style>\n",
       "<table border=\"1\" class=\"dataframe\">\n",
       "  <thead>\n",
       "    <tr style=\"text-align: right;\">\n",
       "      <th></th>\n",
       "      <th>a</th>\n",
       "      <th>b</th>\n",
       "    </tr>\n",
       "  </thead>\n",
       "  <tbody>\n",
       "    <tr>\n",
       "      <th>0</th>\n",
       "      <td>1993-09-27 11:58:58</td>\n",
       "      <td>2020-05-01 12:59:59</td>\n",
       "    </tr>\n",
       "    <tr>\n",
       "      <th>1</th>\n",
       "      <td>2000-03-19 12:59:59</td>\n",
       "      <td>2019-12-25 11:58:58</td>\n",
       "    </tr>\n",
       "    <tr>\n",
       "      <th>2</th>\n",
       "      <td>2018-11-10 11:59:59</td>\n",
       "      <td>2018-11-10 11:59:59</td>\n",
       "    </tr>\n",
       "    <tr>\n",
       "      <th>3</th>\n",
       "      <td>2018-10-10 11:59:59</td>\n",
       "      <td>2018-11-10 11:59:59</td>\n",
       "    </tr>\n",
       "    <tr>\n",
       "      <th>4</th>\n",
       "      <td>2018-10-10 11:59:59</td>\n",
       "      <td>2018-09-10 09:59:59</td>\n",
       "    </tr>\n",
       "    <tr>\n",
       "      <th>5</th>\n",
       "      <td>2018-10-10 10:59:59</td>\n",
       "      <td>2015-11-10 11:59:59</td>\n",
       "    </tr>\n",
       "    <tr>\n",
       "      <th>6</th>\n",
       "      <td>2018-12-10 11:59:59</td>\n",
       "      <td>2015-11-10 12:59:59</td>\n",
       "    </tr>\n",
       "    <tr>\n",
       "      <th>7</th>\n",
       "      <td>1985-07-23 11:59:59</td>\n",
       "      <td>2015-07-23 11:59:59</td>\n",
       "    </tr>\n",
       "  </tbody>\n",
       "</table>\n",
       "</div>"
      ],
      "text/plain": [
       "                    a                   b\n",
       "0 1993-09-27 11:58:58 2020-05-01 12:59:59\n",
       "1 2000-03-19 12:59:59 2019-12-25 11:58:58\n",
       "2 2018-11-10 11:59:59 2018-11-10 11:59:59\n",
       "3 2018-10-10 11:59:59 2018-11-10 11:59:59\n",
       "4 2018-10-10 11:59:59 2018-09-10 09:59:59\n",
       "5 2018-10-10 10:59:59 2015-11-10 11:59:59\n",
       "6 2018-12-10 11:59:59 2015-11-10 12:59:59\n",
       "7 1985-07-23 11:59:59 2015-07-23 11:59:59"
      ]
     },
     "execution_count": 5,
     "metadata": {},
     "output_type": "execute_result"
    }
   ],
   "source": [
    "df"
   ]
  },
  {
   "cell_type": "code",
   "execution_count": 6,
   "metadata": {},
   "outputs": [
    {
     "data": {
      "text/plain": [
       "a    datetime64[ns]\n",
       "b    datetime64[ns]\n",
       "dtype: object"
      ]
     },
     "execution_count": 6,
     "metadata": {},
     "output_type": "execute_result"
    }
   ],
   "source": [
    "df.dtypes"
   ]
  },
  {
   "cell_type": "markdown",
   "metadata": {},
   "source": [
    "## Simple usage"
   ]
  },
  {
   "cell_type": "markdown",
   "metadata": {},
   "source": [
    "### Initialising DatetimeInfoExtractor"
   ]
  },
  {
   "cell_type": "markdown",
   "metadata": {},
   "source": [
    "The user must specify the following;\n",
    "- `columns` the datetime columns in the `DataFrame` passed to the `transform` method to extract information from.\n",
    "\n",
    "The user can also choose to specify;\n",
    "- `include` the information to extract. Must be a list containing some or all of the following - `[\"timeofday\", \"timeofmonth\", \"timeofyear\", \"dayofweek\"]`\n",
    "\n",
    "If one of these is in include but no mappings are provided default values will be used as follows:\n",
    "    timeofday_mapping = {\n",
    "        \"night\": range(0, 6),  # Midnight - 6am\n",
    "        \"morning\": range(6, 12),  # 6am - Noon\n",
    "        \"afternoon\": range(12, 18),  # Noon - 6pm\n",
    "        \"evening\": range(18, 24),  # 6pm - Midnight\n",
    "    }\n",
    "    timeofmonth_mapping = {\n",
    "        \"start\": range(0, 11),\n",
    "        \"middle\": range(11, 21),\n",
    "        \"end\": range(21, 32),\n",
    "    }\n",
    "    timeofyear_mapping = {\n",
    "        \"spring\": range(3, 6),  # Mar, Apr, May\n",
    "        \"summer\": range(6, 9),  # Jun, Jul, Aug\n",
    "        \"autumn\": range(9, 12),  # Sep, Oct, Nov\n",
    "        \"winter\": [12, 1, 2],  # Dec, Jan, Feb\n",
    "    }\n",
    "    dayofweek_mapping = {\n",
    "        \"monday\": [0],\n",
    "        \"tuesday\": [1],\n",
    "        \"wednesday\": [2],\n",
    "        \"thursday\": [3],\n",
    "        \"friday\": [4],\n",
    "        \"saturday\": [5],\n",
    "        \"sunday\": [6],\n",
    "    }"
   ]
  },
  {
   "cell_type": "code",
   "execution_count": 7,
   "metadata": {},
   "outputs": [],
   "source": [
    "simple_datetime_extractor = DatetimeInfoExtractor(columns=[\"a\"])"
   ]
  },
  {
   "cell_type": "markdown",
   "metadata": {
    "collapsed": true
   },
   "source": [
    "### DatetimeInfoExtractor fit\n",
    "There is no fit method for the `DatetimeInfoExtractor` as the methods that it can run do not 'learn' anything from the data."
   ]
  },
  {
   "cell_type": "markdown",
   "metadata": {},
   "source": [
    "### DatetimeInfoExtractor transform\n",
    "When running transform with this configuration a new column `a_timeofday_` is added to the input `X`."
   ]
  },
  {
   "cell_type": "code",
   "execution_count": 8,
   "metadata": {},
   "outputs": [],
   "source": [
    "df_2 = simple_datetime_extractor.transform(df)"
   ]
  },
  {
   "cell_type": "code",
   "execution_count": 9,
   "metadata": {},
   "outputs": [
    {
     "data": {
      "text/html": [
       "<div>\n",
       "<style scoped>\n",
       "    .dataframe tbody tr th:only-of-type {\n",
       "        vertical-align: middle;\n",
       "    }\n",
       "\n",
       "    .dataframe tbody tr th {\n",
       "        vertical-align: top;\n",
       "    }\n",
       "\n",
       "    .dataframe thead th {\n",
       "        text-align: right;\n",
       "    }\n",
       "</style>\n",
       "<table border=\"1\" class=\"dataframe\">\n",
       "  <thead>\n",
       "    <tr style=\"text-align: right;\">\n",
       "      <th></th>\n",
       "      <th>a</th>\n",
       "      <th>a_timeofday</th>\n",
       "    </tr>\n",
       "  </thead>\n",
       "  <tbody>\n",
       "    <tr>\n",
       "      <th>0</th>\n",
       "      <td>1993-09-27 11:58:58</td>\n",
       "      <td>morning</td>\n",
       "    </tr>\n",
       "    <tr>\n",
       "      <th>1</th>\n",
       "      <td>2000-03-19 12:59:59</td>\n",
       "      <td>afternoon</td>\n",
       "    </tr>\n",
       "    <tr>\n",
       "      <th>2</th>\n",
       "      <td>2018-11-10 11:59:59</td>\n",
       "      <td>morning</td>\n",
       "    </tr>\n",
       "    <tr>\n",
       "      <th>3</th>\n",
       "      <td>2018-10-10 11:59:59</td>\n",
       "      <td>morning</td>\n",
       "    </tr>\n",
       "    <tr>\n",
       "      <th>4</th>\n",
       "      <td>2018-10-10 11:59:59</td>\n",
       "      <td>morning</td>\n",
       "    </tr>\n",
       "  </tbody>\n",
       "</table>\n",
       "</div>"
      ],
      "text/plain": [
       "                    a a_timeofday\n",
       "0 1993-09-27 11:58:58     morning\n",
       "1 2000-03-19 12:59:59   afternoon\n",
       "2 2018-11-10 11:59:59     morning\n",
       "3 2018-10-10 11:59:59     morning\n",
       "4 2018-10-10 11:59:59     morning"
      ]
     },
     "execution_count": 9,
     "metadata": {},
     "output_type": "execute_result"
    }
   ],
   "source": [
    "df_2[[\"a\", \"a_timeofday\"]].head()"
   ]
  },
  {
   "cell_type": "markdown",
   "metadata": {},
   "source": [
    "## Use Custom Mappings\n",
    "\n",
    "The user can choose to specify individual mappings for any of the features extracted. The `datetime_mappings` must take the following form:\n",
    "\n",
    "`datetime_mappings = {\"feature_to_map\": {\"label\": [List_to_map]}}`\n",
    "\n",
    "All hours/days/months must be mapped for each feature\n",
    "\n",
    "ie, a mapping for `dayofweek` must include all values 0-6;\n",
    "datetime_mappings = {\"dayofweek\": {\"week\": [0, 1, 2, 3, 4],\n",
    "                                    \"weekend\": [5, 6]}}\n",
    "The values for the mapping array must be iterable;\n",
    "datetime_mappings = {\"timeofday\": {\"am\": range(0, 12),\n",
    "                                    \"pm\": range(12, 24)}}\n",
    "\n",
    "Keys of the dictionary must be contained in `include`\n",
    "\n",
    "The required ranges for each mapping are:\n",
    "- timeofday: 0-23\n",
    "- timeofmonth: 1-31\n",
    "- timeofyear: 1-12\n",
    "- dayofweek: 0-6\n"
   ]
  },
  {
   "cell_type": "code",
   "execution_count": 10,
   "metadata": {},
   "outputs": [],
   "source": [
    "datetime_mappings = {\n",
    "    \"timeofday\": {\"am\": range(0, 12), \"pm\": range(12, 24)},\n",
    "    \"dayofweek\": {\"week\": range(0, 5), \"weekend\": [5, 6]},\n",
    "}"
   ]
  },
  {
   "cell_type": "markdown",
   "metadata": {},
   "source": [
    "This `datetime_mapping` can then be used when creating the transformer. It is important to note that the transformer will only extract features in `include`, so all features with defined mappings must be in `include`"
   ]
  },
  {
   "cell_type": "code",
   "execution_count": 11,
   "metadata": {},
   "outputs": [
    {
     "data": {
      "text/html": [
       "<div>\n",
       "<style scoped>\n",
       "    .dataframe tbody tr th:only-of-type {\n",
       "        vertical-align: middle;\n",
       "    }\n",
       "\n",
       "    .dataframe tbody tr th {\n",
       "        vertical-align: top;\n",
       "    }\n",
       "\n",
       "    .dataframe thead th {\n",
       "        text-align: right;\n",
       "    }\n",
       "</style>\n",
       "<table border=\"1\" class=\"dataframe\">\n",
       "  <thead>\n",
       "    <tr style=\"text-align: right;\">\n",
       "      <th></th>\n",
       "      <th>b</th>\n",
       "      <th>b_timeofday</th>\n",
       "      <th>b_dayofweek</th>\n",
       "    </tr>\n",
       "  </thead>\n",
       "  <tbody>\n",
       "    <tr>\n",
       "      <th>0</th>\n",
       "      <td>2020-05-01 12:59:59</td>\n",
       "      <td>pm</td>\n",
       "      <td>week</td>\n",
       "    </tr>\n",
       "    <tr>\n",
       "      <th>1</th>\n",
       "      <td>2019-12-25 11:58:58</td>\n",
       "      <td>am</td>\n",
       "      <td>week</td>\n",
       "    </tr>\n",
       "    <tr>\n",
       "      <th>2</th>\n",
       "      <td>2018-11-10 11:59:59</td>\n",
       "      <td>am</td>\n",
       "      <td>weekend</td>\n",
       "    </tr>\n",
       "    <tr>\n",
       "      <th>3</th>\n",
       "      <td>2018-11-10 11:59:59</td>\n",
       "      <td>am</td>\n",
       "      <td>weekend</td>\n",
       "    </tr>\n",
       "    <tr>\n",
       "      <th>4</th>\n",
       "      <td>2018-09-10 09:59:59</td>\n",
       "      <td>am</td>\n",
       "      <td>week</td>\n",
       "    </tr>\n",
       "    <tr>\n",
       "      <th>5</th>\n",
       "      <td>2015-11-10 11:59:59</td>\n",
       "      <td>am</td>\n",
       "      <td>week</td>\n",
       "    </tr>\n",
       "    <tr>\n",
       "      <th>6</th>\n",
       "      <td>2015-11-10 12:59:59</td>\n",
       "      <td>pm</td>\n",
       "      <td>week</td>\n",
       "    </tr>\n",
       "    <tr>\n",
       "      <th>7</th>\n",
       "      <td>2015-07-23 11:59:59</td>\n",
       "      <td>am</td>\n",
       "      <td>week</td>\n",
       "    </tr>\n",
       "  </tbody>\n",
       "</table>\n",
       "</div>"
      ],
      "text/plain": [
       "                    b b_timeofday b_dayofweek\n",
       "0 2020-05-01 12:59:59          pm        week\n",
       "1 2019-12-25 11:58:58          am        week\n",
       "2 2018-11-10 11:59:59          am     weekend\n",
       "3 2018-11-10 11:59:59          am     weekend\n",
       "4 2018-09-10 09:59:59          am        week\n",
       "5 2015-11-10 11:59:59          am        week\n",
       "6 2015-11-10 12:59:59          pm        week\n",
       "7 2015-07-23 11:59:59          am        week"
      ]
     },
     "execution_count": 11,
     "metadata": {},
     "output_type": "execute_result"
    }
   ],
   "source": [
    "time_and_day_transformer = DatetimeInfoExtractor(\n",
    "    columns=[\"b\"],\n",
    "    include=[\"timeofday\", \"dayofweek\"],\n",
    "    datetime_mappings=datetime_mappings,\n",
    ")\n",
    "\n",
    "df3 = time_and_day_transformer.transform(df)\n",
    "\n",
    "df3[[\"b\", \"b_timeofday\", \"b_dayofweek\"]]"
   ]
  },
  {
   "cell_type": "code",
   "execution_count": null,
   "metadata": {},
   "outputs": [],
   "source": []
  }
 ],
 "metadata": {
  "kernelspec": {
   "display_name": "Python 3.8.0 ('tubular-dev')",
   "language": "python",
   "name": "python3"
  },
  "language_info": {
   "codemirror_mode": {
    "name": "ipython",
    "version": 3
   },
   "file_extension": ".py",
   "mimetype": "text/x-python",
   "name": "python",
   "nbconvert_exporter": "python",
   "pygments_lexer": "ipython3",
   "version": "3.8.0"
  },
  "toc": {
   "base_numbering": 1,
   "nav_menu": {},
   "number_sections": true,
   "sideBar": true,
   "skip_h1_title": false,
   "title_cell": "Table of Contents",
   "title_sidebar": "Contents",
   "toc_cell": false,
   "toc_position": {},
   "toc_section_display": true,
   "toc_window_display": true
  },
  "vscode": {
   "interpreter": {
    "hash": "cc666868ff21538e6058ba6d4768423bd0d0d7d7fded3ffb1bc309a0bf9339c2"
   }
  }
 },
 "nbformat": 4,
 "nbformat_minor": 2
}
