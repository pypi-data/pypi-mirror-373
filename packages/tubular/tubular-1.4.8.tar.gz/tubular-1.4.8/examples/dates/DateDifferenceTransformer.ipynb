{
 "cells": [
  {
   "cell_type": "markdown",
   "metadata": {},
   "source": [
    "# DateDiffTransformer\n",
    "This notebook shows the functionality in the `DateDifferenceTransformer` class. This transformer calculates the difference between 2 date fields in specified units"
   ]
  },
  {
   "cell_type": "code",
   "execution_count": 1,
   "metadata": {
    "ExecuteTime": {
     "end_time": "2020-12-07T17:17:54.101449Z",
     "start_time": "2020-12-07T17:17:53.471428Z"
    }
   },
   "outputs": [],
   "source": [
    "import datetime\n",
    "import pandas as pd\n",
    "import numpy as np"
   ]
  },
  {
   "cell_type": "code",
   "execution_count": 2,
   "metadata": {
    "ExecuteTime": {
     "end_time": "2020-12-07T17:17:55.040377Z",
     "start_time": "2020-12-07T17:17:54.104382Z"
    }
   },
   "outputs": [],
   "source": [
    "import tubular\n",
    "from tubular.dates import DateDifferenceTransformer"
   ]
  },
  {
   "cell_type": "code",
   "execution_count": 3,
   "metadata": {
    "ExecuteTime": {
     "end_time": "2020-12-07T17:17:55.056385Z",
     "start_time": "2020-12-07T17:17:55.042374Z"
    }
   },
   "outputs": [
    {
     "data": {
      "text/plain": [
       "'1.0.0'"
      ]
     },
     "execution_count": 3,
     "metadata": {},
     "output_type": "execute_result"
    }
   ],
   "source": [
    "tubular.__version__"
   ]
  },
  {
   "cell_type": "markdown",
   "metadata": {},
   "source": [
    "## Create and Load datetime data"
   ]
  },
  {
   "cell_type": "code",
   "execution_count": 4,
   "metadata": {
    "ExecuteTime": {
     "end_time": "2020-12-07T17:17:55.091383Z",
     "start_time": "2020-12-07T17:17:55.058376Z"
    }
   },
   "outputs": [],
   "source": [
    "def create_datetime_data():\n",
    "    seconds_1 = np.random.randint(0, 59, 10)\n",
    "    mins_1 = np.random.randint(0, 59, 10)\n",
    "    hours_1 = np.random.randint(0, 23, 10)\n",
    "    days_1 = np.random.randint(1, 29, 10)\n",
    "    months_1 = np.random.randint(1, 13, 10)\n",
    "    years_1 = np.random.randint(1970, 2000, 10)\n",
    "\n",
    "    seconds_2 = np.random.randint(0, 59, 10)\n",
    "    mins_2 = np.random.randint(0, 59, 10)\n",
    "    hours_2 = np.random.randint(0, 23, 10)\n",
    "    days_2 = np.random.randint(1, 29, 10)\n",
    "    months_2 = np.random.randint(1, 13, 10)\n",
    "    years_2 = np.random.randint(2010, 2020, 10)\n",
    "\n",
    "    date_1 = [\n",
    "        datetime.datetime(a, b, c, x, y, z)\n",
    "        for a, b, c, x, y, z in zip(\n",
    "            years_1, months_1, days_1, hours_1, mins_1, seconds_1\n",
    "        )\n",
    "    ]\n",
    "    date_2 = [\n",
    "        datetime.datetime(a, b, c, x, y, z)\n",
    "        for a, b, c, x, y, z in zip(\n",
    "            years_2, months_2, days_2, hours_2, mins_2, seconds_2\n",
    "        )\n",
    "    ]\n",
    "\n",
    "    data = pd.DataFrame({\"date_of_birth\": date_1, \"sale_date\": date_2})\n",
    "\n",
    "    return data"
   ]
  },
  {
   "cell_type": "code",
   "execution_count": 5,
   "metadata": {
    "ExecuteTime": {
     "end_time": "2020-12-07T17:17:55.114443Z",
     "start_time": "2020-12-07T17:17:55.094413Z"
    }
   },
   "outputs": [],
   "source": [
    "datetime_data = create_datetime_data()"
   ]
  },
  {
   "cell_type": "code",
   "execution_count": 6,
   "metadata": {
    "ExecuteTime": {
     "end_time": "2020-12-07T17:17:55.156409Z",
     "start_time": "2020-12-07T17:17:55.116383Z"
    }
   },
   "outputs": [
    {
     "data": {
      "text/html": [
       "<div>\n",
       "<style scoped>\n",
       "    .dataframe tbody tr th:only-of-type {\n",
       "        vertical-align: middle;\n",
       "    }\n",
       "\n",
       "    .dataframe tbody tr th {\n",
       "        vertical-align: top;\n",
       "    }\n",
       "\n",
       "    .dataframe thead th {\n",
       "        text-align: right;\n",
       "    }\n",
       "</style>\n",
       "<table border=\"1\" class=\"dataframe\">\n",
       "  <thead>\n",
       "    <tr style=\"text-align: right;\">\n",
       "      <th></th>\n",
       "      <th>date_of_birth</th>\n",
       "      <th>sale_date</th>\n",
       "    </tr>\n",
       "  </thead>\n",
       "  <tbody>\n",
       "    <tr>\n",
       "      <th>0</th>\n",
       "      <td>1989-08-23 04:22:45</td>\n",
       "      <td>2014-10-21 12:07:34</td>\n",
       "    </tr>\n",
       "    <tr>\n",
       "      <th>1</th>\n",
       "      <td>1984-07-07 14:23:31</td>\n",
       "      <td>2010-01-08 00:39:31</td>\n",
       "    </tr>\n",
       "    <tr>\n",
       "      <th>2</th>\n",
       "      <td>1982-08-08 20:19:41</td>\n",
       "      <td>2012-10-19 02:10:58</td>\n",
       "    </tr>\n",
       "    <tr>\n",
       "      <th>3</th>\n",
       "      <td>1990-12-05 22:14:44</td>\n",
       "      <td>2010-01-19 16:16:44</td>\n",
       "    </tr>\n",
       "    <tr>\n",
       "      <th>4</th>\n",
       "      <td>1982-07-02 20:35:35</td>\n",
       "      <td>2012-03-06 02:00:43</td>\n",
       "    </tr>\n",
       "    <tr>\n",
       "      <th>5</th>\n",
       "      <td>1983-12-11 17:03:47</td>\n",
       "      <td>2019-10-05 06:49:36</td>\n",
       "    </tr>\n",
       "    <tr>\n",
       "      <th>6</th>\n",
       "      <td>1994-12-22 08:22:01</td>\n",
       "      <td>2010-01-12 04:53:51</td>\n",
       "    </tr>\n",
       "    <tr>\n",
       "      <th>7</th>\n",
       "      <td>1998-03-16 20:16:38</td>\n",
       "      <td>2014-08-28 07:57:05</td>\n",
       "    </tr>\n",
       "    <tr>\n",
       "      <th>8</th>\n",
       "      <td>1997-02-03 07:33:51</td>\n",
       "      <td>2010-06-05 02:38:45</td>\n",
       "    </tr>\n",
       "    <tr>\n",
       "      <th>9</th>\n",
       "      <td>1992-03-23 00:23:57</td>\n",
       "      <td>2018-10-07 20:19:37</td>\n",
       "    </tr>\n",
       "  </tbody>\n",
       "</table>\n",
       "</div>"
      ],
      "text/plain": [
       "        date_of_birth           sale_date\n",
       "0 1989-08-23 04:22:45 2014-10-21 12:07:34\n",
       "1 1984-07-07 14:23:31 2010-01-08 00:39:31\n",
       "2 1982-08-08 20:19:41 2012-10-19 02:10:58\n",
       "3 1990-12-05 22:14:44 2010-01-19 16:16:44\n",
       "4 1982-07-02 20:35:35 2012-03-06 02:00:43\n",
       "5 1983-12-11 17:03:47 2019-10-05 06:49:36\n",
       "6 1994-12-22 08:22:01 2010-01-12 04:53:51\n",
       "7 1998-03-16 20:16:38 2014-08-28 07:57:05\n",
       "8 1997-02-03 07:33:51 2010-06-05 02:38:45\n",
       "9 1992-03-23 00:23:57 2018-10-07 20:19:37"
      ]
     },
     "execution_count": 6,
     "metadata": {},
     "output_type": "execute_result"
    }
   ],
   "source": [
    "datetime_data"
   ]
  },
  {
   "cell_type": "code",
   "execution_count": 7,
   "metadata": {
    "ExecuteTime": {
     "end_time": "2020-12-07T17:17:55.173419Z",
     "start_time": "2020-12-07T17:17:55.159408Z"
    }
   },
   "outputs": [
    {
     "data": {
      "text/plain": [
       "date_of_birth    datetime64[ns]\n",
       "sale_date        datetime64[ns]\n",
       "dtype: object"
      ]
     },
     "execution_count": 7,
     "metadata": {},
     "output_type": "execute_result"
    }
   ],
   "source": [
    "datetime_data.dtypes"
   ]
  },
  {
   "attachments": {},
   "cell_type": "markdown",
   "metadata": {},
   "source": [
    "## Usage\n",
    "The transformer requires 4 arguments:\n",
    "- `column_lower`: the datetime column that is being subtracted.\n",
    "- `column_upper`: the datetime column that is subtracted from.\n",
    "- `new_column_name`: the name of the new age column.\n",
    "- `units`: the time units: 'D', 'h', 'm' or 's'"
   ]
  },
  {
   "cell_type": "markdown",
   "metadata": {},
   "source": [
    "### Days"
   ]
  },
  {
   "cell_type": "code",
   "execution_count": 8,
   "metadata": {
    "ExecuteTime": {
     "end_time": "2020-12-07T17:17:55.347376Z",
     "start_time": "2020-12-07T17:17:55.336377Z"
    }
   },
   "outputs": [],
   "source": [
    "date_difference_transformer = DateDifferenceTransformer(\n",
    "    column_lower=\"date_of_birth\",\n",
    "    column_upper=\"sale_date\",\n",
    "    new_column_name=\"days\",\n",
    "    units=\"D\",\n",
    ")"
   ]
  },
  {
   "cell_type": "code",
   "execution_count": 9,
   "metadata": {
    "ExecuteTime": {
     "end_time": "2020-12-07T17:17:55.371394Z",
     "start_time": "2020-12-07T17:17:55.349376Z"
    }
   },
   "outputs": [],
   "source": [
    "transformed_data_days = date_difference_transformer.transform(datetime_data)"
   ]
  },
  {
   "cell_type": "code",
   "execution_count": 10,
   "metadata": {
    "ExecuteTime": {
     "end_time": "2020-12-07T17:17:55.405093Z",
     "start_time": "2020-12-07T17:17:55.372376Z"
    }
   },
   "outputs": [
    {
     "data": {
      "text/html": [
       "<div>\n",
       "<style scoped>\n",
       "    .dataframe tbody tr th:only-of-type {\n",
       "        vertical-align: middle;\n",
       "    }\n",
       "\n",
       "    .dataframe tbody tr th {\n",
       "        vertical-align: top;\n",
       "    }\n",
       "\n",
       "    .dataframe thead th {\n",
       "        text-align: right;\n",
       "    }\n",
       "</style>\n",
       "<table border=\"1\" class=\"dataframe\">\n",
       "  <thead>\n",
       "    <tr style=\"text-align: right;\">\n",
       "      <th></th>\n",
       "      <th>date_of_birth</th>\n",
       "      <th>sale_date</th>\n",
       "      <th>days</th>\n",
       "    </tr>\n",
       "  </thead>\n",
       "  <tbody>\n",
       "    <tr>\n",
       "      <th>0</th>\n",
       "      <td>1989-08-23 04:22:45</td>\n",
       "      <td>2014-10-21 12:07:34</td>\n",
       "      <td>9190.322789</td>\n",
       "    </tr>\n",
       "    <tr>\n",
       "      <th>1</th>\n",
       "      <td>1984-07-07 14:23:31</td>\n",
       "      <td>2010-01-08 00:39:31</td>\n",
       "      <td>9315.427778</td>\n",
       "    </tr>\n",
       "    <tr>\n",
       "      <th>2</th>\n",
       "      <td>1982-08-08 20:19:41</td>\n",
       "      <td>2012-10-19 02:10:58</td>\n",
       "      <td>11029.243947</td>\n",
       "    </tr>\n",
       "    <tr>\n",
       "      <th>3</th>\n",
       "      <td>1990-12-05 22:14:44</td>\n",
       "      <td>2010-01-19 16:16:44</td>\n",
       "      <td>6984.751389</td>\n",
       "    </tr>\n",
       "    <tr>\n",
       "      <th>4</th>\n",
       "      <td>1982-07-02 20:35:35</td>\n",
       "      <td>2012-03-06 02:00:43</td>\n",
       "      <td>10839.225787</td>\n",
       "    </tr>\n",
       "    <tr>\n",
       "      <th>5</th>\n",
       "      <td>1983-12-11 17:03:47</td>\n",
       "      <td>2019-10-05 06:49:36</td>\n",
       "      <td>13081.573484</td>\n",
       "    </tr>\n",
       "    <tr>\n",
       "      <th>6</th>\n",
       "      <td>1994-12-22 08:22:01</td>\n",
       "      <td>2010-01-12 04:53:51</td>\n",
       "      <td>5499.855440</td>\n",
       "    </tr>\n",
       "    <tr>\n",
       "      <th>7</th>\n",
       "      <td>1998-03-16 20:16:38</td>\n",
       "      <td>2014-08-28 07:57:05</td>\n",
       "      <td>6008.486424</td>\n",
       "    </tr>\n",
       "    <tr>\n",
       "      <th>8</th>\n",
       "      <td>1997-02-03 07:33:51</td>\n",
       "      <td>2010-06-05 02:38:45</td>\n",
       "      <td>4869.795069</td>\n",
       "    </tr>\n",
       "    <tr>\n",
       "      <th>9</th>\n",
       "      <td>1992-03-23 00:23:57</td>\n",
       "      <td>2018-10-07 20:19:37</td>\n",
       "      <td>9694.830324</td>\n",
       "    </tr>\n",
       "  </tbody>\n",
       "</table>\n",
       "</div>"
      ],
      "text/plain": [
       "        date_of_birth           sale_date          days\n",
       "0 1989-08-23 04:22:45 2014-10-21 12:07:34   9190.322789\n",
       "1 1984-07-07 14:23:31 2010-01-08 00:39:31   9315.427778\n",
       "2 1982-08-08 20:19:41 2012-10-19 02:10:58  11029.243947\n",
       "3 1990-12-05 22:14:44 2010-01-19 16:16:44   6984.751389\n",
       "4 1982-07-02 20:35:35 2012-03-06 02:00:43  10839.225787\n",
       "5 1983-12-11 17:03:47 2019-10-05 06:49:36  13081.573484\n",
       "6 1994-12-22 08:22:01 2010-01-12 04:53:51   5499.855440\n",
       "7 1998-03-16 20:16:38 2014-08-28 07:57:05   6008.486424\n",
       "8 1997-02-03 07:33:51 2010-06-05 02:38:45   4869.795069\n",
       "9 1992-03-23 00:23:57 2018-10-07 20:19:37   9694.830324"
      ]
     },
     "execution_count": 10,
     "metadata": {},
     "output_type": "execute_result"
    }
   ],
   "source": [
    "transformed_data_days"
   ]
  },
  {
   "cell_type": "markdown",
   "metadata": {},
   "source": [
    "### Hours"
   ]
  },
  {
   "cell_type": "code",
   "execution_count": 11,
   "metadata": {
    "ExecuteTime": {
     "end_time": "2020-12-07T17:17:55.426375Z",
     "start_time": "2020-12-07T17:17:55.407377Z"
    }
   },
   "outputs": [],
   "source": [
    "date_difference_transformer = DateDifferenceTransformer(\n",
    "    column_lower=\"date_of_birth\",\n",
    "    column_upper=\"sale_date\",\n",
    "    new_column_name=\"hours\",\n",
    "    units=\"h\",\n",
    ")"
   ]
  },
  {
   "cell_type": "code",
   "execution_count": 12,
   "metadata": {
    "ExecuteTime": {
     "end_time": "2020-12-07T17:17:55.446380Z",
     "start_time": "2020-12-07T17:17:55.428379Z"
    }
   },
   "outputs": [],
   "source": [
    "transformed_data_hours = date_difference_transformer.transform(transformed_data_days)"
   ]
  },
  {
   "cell_type": "code",
   "execution_count": 13,
   "metadata": {
    "ExecuteTime": {
     "end_time": "2020-12-07T17:17:55.483389Z",
     "start_time": "2020-12-07T17:17:55.448375Z"
    }
   },
   "outputs": [
    {
     "data": {
      "text/html": [
       "<div>\n",
       "<style scoped>\n",
       "    .dataframe tbody tr th:only-of-type {\n",
       "        vertical-align: middle;\n",
       "    }\n",
       "\n",
       "    .dataframe tbody tr th {\n",
       "        vertical-align: top;\n",
       "    }\n",
       "\n",
       "    .dataframe thead th {\n",
       "        text-align: right;\n",
       "    }\n",
       "</style>\n",
       "<table border=\"1\" class=\"dataframe\">\n",
       "  <thead>\n",
       "    <tr style=\"text-align: right;\">\n",
       "      <th></th>\n",
       "      <th>date_of_birth</th>\n",
       "      <th>sale_date</th>\n",
       "      <th>days</th>\n",
       "      <th>hours</th>\n",
       "    </tr>\n",
       "  </thead>\n",
       "  <tbody>\n",
       "    <tr>\n",
       "      <th>0</th>\n",
       "      <td>1989-08-23 04:22:45</td>\n",
       "      <td>2014-10-21 12:07:34</td>\n",
       "      <td>9190.322789</td>\n",
       "      <td>220567.746944</td>\n",
       "    </tr>\n",
       "    <tr>\n",
       "      <th>1</th>\n",
       "      <td>1984-07-07 14:23:31</td>\n",
       "      <td>2010-01-08 00:39:31</td>\n",
       "      <td>9315.427778</td>\n",
       "      <td>223570.266667</td>\n",
       "    </tr>\n",
       "    <tr>\n",
       "      <th>2</th>\n",
       "      <td>1982-08-08 20:19:41</td>\n",
       "      <td>2012-10-19 02:10:58</td>\n",
       "      <td>11029.243947</td>\n",
       "      <td>264701.854722</td>\n",
       "    </tr>\n",
       "    <tr>\n",
       "      <th>3</th>\n",
       "      <td>1990-12-05 22:14:44</td>\n",
       "      <td>2010-01-19 16:16:44</td>\n",
       "      <td>6984.751389</td>\n",
       "      <td>167634.033333</td>\n",
       "    </tr>\n",
       "    <tr>\n",
       "      <th>4</th>\n",
       "      <td>1982-07-02 20:35:35</td>\n",
       "      <td>2012-03-06 02:00:43</td>\n",
       "      <td>10839.225787</td>\n",
       "      <td>260141.418889</td>\n",
       "    </tr>\n",
       "    <tr>\n",
       "      <th>5</th>\n",
       "      <td>1983-12-11 17:03:47</td>\n",
       "      <td>2019-10-05 06:49:36</td>\n",
       "      <td>13081.573484</td>\n",
       "      <td>313957.763611</td>\n",
       "    </tr>\n",
       "    <tr>\n",
       "      <th>6</th>\n",
       "      <td>1994-12-22 08:22:01</td>\n",
       "      <td>2010-01-12 04:53:51</td>\n",
       "      <td>5499.855440</td>\n",
       "      <td>131996.530556</td>\n",
       "    </tr>\n",
       "    <tr>\n",
       "      <th>7</th>\n",
       "      <td>1998-03-16 20:16:38</td>\n",
       "      <td>2014-08-28 07:57:05</td>\n",
       "      <td>6008.486424</td>\n",
       "      <td>144203.674167</td>\n",
       "    </tr>\n",
       "    <tr>\n",
       "      <th>8</th>\n",
       "      <td>1997-02-03 07:33:51</td>\n",
       "      <td>2010-06-05 02:38:45</td>\n",
       "      <td>4869.795069</td>\n",
       "      <td>116875.081667</td>\n",
       "    </tr>\n",
       "    <tr>\n",
       "      <th>9</th>\n",
       "      <td>1992-03-23 00:23:57</td>\n",
       "      <td>2018-10-07 20:19:37</td>\n",
       "      <td>9694.830324</td>\n",
       "      <td>232675.927778</td>\n",
       "    </tr>\n",
       "  </tbody>\n",
       "</table>\n",
       "</div>"
      ],
      "text/plain": [
       "        date_of_birth           sale_date          days          hours\n",
       "0 1989-08-23 04:22:45 2014-10-21 12:07:34   9190.322789  220567.746944\n",
       "1 1984-07-07 14:23:31 2010-01-08 00:39:31   9315.427778  223570.266667\n",
       "2 1982-08-08 20:19:41 2012-10-19 02:10:58  11029.243947  264701.854722\n",
       "3 1990-12-05 22:14:44 2010-01-19 16:16:44   6984.751389  167634.033333\n",
       "4 1982-07-02 20:35:35 2012-03-06 02:00:43  10839.225787  260141.418889\n",
       "5 1983-12-11 17:03:47 2019-10-05 06:49:36  13081.573484  313957.763611\n",
       "6 1994-12-22 08:22:01 2010-01-12 04:53:51   5499.855440  131996.530556\n",
       "7 1998-03-16 20:16:38 2014-08-28 07:57:05   6008.486424  144203.674167\n",
       "8 1997-02-03 07:33:51 2010-06-05 02:38:45   4869.795069  116875.081667\n",
       "9 1992-03-23 00:23:57 2018-10-07 20:19:37   9694.830324  232675.927778"
      ]
     },
     "execution_count": 13,
     "metadata": {},
     "output_type": "execute_result"
    }
   ],
   "source": [
    "transformed_data_hours"
   ]
  },
  {
   "cell_type": "markdown",
   "metadata": {},
   "source": [
    "### Minutes"
   ]
  },
  {
   "cell_type": "code",
   "execution_count": 14,
   "metadata": {
    "ExecuteTime": {
     "end_time": "2020-12-07T17:17:55.503378Z",
     "start_time": "2020-12-07T17:17:55.485392Z"
    }
   },
   "outputs": [],
   "source": [
    "date_difference_transformer = DateDifferenceTransformer(\n",
    "    column_lower=\"date_of_birth\",\n",
    "    column_upper=\"sale_date\",\n",
    "    new_column_name=\"minutes\",\n",
    "    units=\"m\",\n",
    ")"
   ]
  },
  {
   "cell_type": "code",
   "execution_count": 15,
   "metadata": {
    "ExecuteTime": {
     "end_time": "2020-12-07T17:17:55.533375Z",
     "start_time": "2020-12-07T17:17:55.505376Z"
    }
   },
   "outputs": [],
   "source": [
    "transformed_data_minutes = date_difference_transformer.transform(transformed_data_hours)"
   ]
  },
  {
   "cell_type": "code",
   "execution_count": 16,
   "metadata": {
    "ExecuteTime": {
     "end_time": "2020-12-07T17:17:55.564394Z",
     "start_time": "2020-12-07T17:17:55.540376Z"
    }
   },
   "outputs": [
    {
     "data": {
      "text/html": [
       "<div>\n",
       "<style scoped>\n",
       "    .dataframe tbody tr th:only-of-type {\n",
       "        vertical-align: middle;\n",
       "    }\n",
       "\n",
       "    .dataframe tbody tr th {\n",
       "        vertical-align: top;\n",
       "    }\n",
       "\n",
       "    .dataframe thead th {\n",
       "        text-align: right;\n",
       "    }\n",
       "</style>\n",
       "<table border=\"1\" class=\"dataframe\">\n",
       "  <thead>\n",
       "    <tr style=\"text-align: right;\">\n",
       "      <th></th>\n",
       "      <th>date_of_birth</th>\n",
       "      <th>sale_date</th>\n",
       "      <th>days</th>\n",
       "      <th>hours</th>\n",
       "      <th>minutes</th>\n",
       "    </tr>\n",
       "  </thead>\n",
       "  <tbody>\n",
       "    <tr>\n",
       "      <th>0</th>\n",
       "      <td>1989-08-23 04:22:45</td>\n",
       "      <td>2014-10-21 12:07:34</td>\n",
       "      <td>9190.322789</td>\n",
       "      <td>220567.746944</td>\n",
       "      <td>1.323406e+07</td>\n",
       "    </tr>\n",
       "    <tr>\n",
       "      <th>1</th>\n",
       "      <td>1984-07-07 14:23:31</td>\n",
       "      <td>2010-01-08 00:39:31</td>\n",
       "      <td>9315.427778</td>\n",
       "      <td>223570.266667</td>\n",
       "      <td>1.341422e+07</td>\n",
       "    </tr>\n",
       "    <tr>\n",
       "      <th>2</th>\n",
       "      <td>1982-08-08 20:19:41</td>\n",
       "      <td>2012-10-19 02:10:58</td>\n",
       "      <td>11029.243947</td>\n",
       "      <td>264701.854722</td>\n",
       "      <td>1.588211e+07</td>\n",
       "    </tr>\n",
       "    <tr>\n",
       "      <th>3</th>\n",
       "      <td>1990-12-05 22:14:44</td>\n",
       "      <td>2010-01-19 16:16:44</td>\n",
       "      <td>6984.751389</td>\n",
       "      <td>167634.033333</td>\n",
       "      <td>1.005804e+07</td>\n",
       "    </tr>\n",
       "    <tr>\n",
       "      <th>4</th>\n",
       "      <td>1982-07-02 20:35:35</td>\n",
       "      <td>2012-03-06 02:00:43</td>\n",
       "      <td>10839.225787</td>\n",
       "      <td>260141.418889</td>\n",
       "      <td>1.560849e+07</td>\n",
       "    </tr>\n",
       "    <tr>\n",
       "      <th>5</th>\n",
       "      <td>1983-12-11 17:03:47</td>\n",
       "      <td>2019-10-05 06:49:36</td>\n",
       "      <td>13081.573484</td>\n",
       "      <td>313957.763611</td>\n",
       "      <td>1.883747e+07</td>\n",
       "    </tr>\n",
       "    <tr>\n",
       "      <th>6</th>\n",
       "      <td>1994-12-22 08:22:01</td>\n",
       "      <td>2010-01-12 04:53:51</td>\n",
       "      <td>5499.855440</td>\n",
       "      <td>131996.530556</td>\n",
       "      <td>7.919792e+06</td>\n",
       "    </tr>\n",
       "    <tr>\n",
       "      <th>7</th>\n",
       "      <td>1998-03-16 20:16:38</td>\n",
       "      <td>2014-08-28 07:57:05</td>\n",
       "      <td>6008.486424</td>\n",
       "      <td>144203.674167</td>\n",
       "      <td>8.652220e+06</td>\n",
       "    </tr>\n",
       "    <tr>\n",
       "      <th>8</th>\n",
       "      <td>1997-02-03 07:33:51</td>\n",
       "      <td>2010-06-05 02:38:45</td>\n",
       "      <td>4869.795069</td>\n",
       "      <td>116875.081667</td>\n",
       "      <td>7.012505e+06</td>\n",
       "    </tr>\n",
       "    <tr>\n",
       "      <th>9</th>\n",
       "      <td>1992-03-23 00:23:57</td>\n",
       "      <td>2018-10-07 20:19:37</td>\n",
       "      <td>9694.830324</td>\n",
       "      <td>232675.927778</td>\n",
       "      <td>1.396056e+07</td>\n",
       "    </tr>\n",
       "  </tbody>\n",
       "</table>\n",
       "</div>"
      ],
      "text/plain": [
       "        date_of_birth           sale_date          days          hours  \\\n",
       "0 1989-08-23 04:22:45 2014-10-21 12:07:34   9190.322789  220567.746944   \n",
       "1 1984-07-07 14:23:31 2010-01-08 00:39:31   9315.427778  223570.266667   \n",
       "2 1982-08-08 20:19:41 2012-10-19 02:10:58  11029.243947  264701.854722   \n",
       "3 1990-12-05 22:14:44 2010-01-19 16:16:44   6984.751389  167634.033333   \n",
       "4 1982-07-02 20:35:35 2012-03-06 02:00:43  10839.225787  260141.418889   \n",
       "5 1983-12-11 17:03:47 2019-10-05 06:49:36  13081.573484  313957.763611   \n",
       "6 1994-12-22 08:22:01 2010-01-12 04:53:51   5499.855440  131996.530556   \n",
       "7 1998-03-16 20:16:38 2014-08-28 07:57:05   6008.486424  144203.674167   \n",
       "8 1997-02-03 07:33:51 2010-06-05 02:38:45   4869.795069  116875.081667   \n",
       "9 1992-03-23 00:23:57 2018-10-07 20:19:37   9694.830324  232675.927778   \n",
       "\n",
       "        minutes  \n",
       "0  1.323406e+07  \n",
       "1  1.341422e+07  \n",
       "2  1.588211e+07  \n",
       "3  1.005804e+07  \n",
       "4  1.560849e+07  \n",
       "5  1.883747e+07  \n",
       "6  7.919792e+06  \n",
       "7  8.652220e+06  \n",
       "8  7.012505e+06  \n",
       "9  1.396056e+07  "
      ]
     },
     "execution_count": 16,
     "metadata": {},
     "output_type": "execute_result"
    }
   ],
   "source": [
    "transformed_data_minutes"
   ]
  },
  {
   "cell_type": "markdown",
   "metadata": {},
   "source": [
    "### Seconds"
   ]
  },
  {
   "cell_type": "code",
   "execution_count": 17,
   "metadata": {
    "ExecuteTime": {
     "end_time": "2020-12-07T17:17:55.582375Z",
     "start_time": "2020-12-07T17:17:55.568382Z"
    }
   },
   "outputs": [],
   "source": [
    "date_difference_transformer = DateDifferenceTransformer(\n",
    "    column_lower=\"date_of_birth\",\n",
    "    column_upper=\"sale_date\",\n",
    "    new_column_name=\"seconds\",\n",
    "    units=\"s\",\n",
    ")"
   ]
  },
  {
   "cell_type": "code",
   "execution_count": 18,
   "metadata": {
    "ExecuteTime": {
     "end_time": "2020-12-07T17:17:55.603377Z",
     "start_time": "2020-12-07T17:17:55.584377Z"
    }
   },
   "outputs": [],
   "source": [
    "transformed_data_seconds = date_difference_transformer.transform(\n",
    "    transformed_data_minutes\n",
    ")"
   ]
  },
  {
   "cell_type": "code",
   "execution_count": 19,
   "metadata": {
    "ExecuteTime": {
     "end_time": "2020-12-07T17:17:55.641379Z",
     "start_time": "2020-12-07T17:17:55.605378Z"
    },
    "scrolled": true
   },
   "outputs": [
    {
     "data": {
      "text/html": [
       "<div>\n",
       "<style scoped>\n",
       "    .dataframe tbody tr th:only-of-type {\n",
       "        vertical-align: middle;\n",
       "    }\n",
       "\n",
       "    .dataframe tbody tr th {\n",
       "        vertical-align: top;\n",
       "    }\n",
       "\n",
       "    .dataframe thead th {\n",
       "        text-align: right;\n",
       "    }\n",
       "</style>\n",
       "<table border=\"1\" class=\"dataframe\">\n",
       "  <thead>\n",
       "    <tr style=\"text-align: right;\">\n",
       "      <th></th>\n",
       "      <th>date_of_birth</th>\n",
       "      <th>sale_date</th>\n",
       "      <th>days</th>\n",
       "      <th>hours</th>\n",
       "      <th>minutes</th>\n",
       "      <th>seconds</th>\n",
       "    </tr>\n",
       "  </thead>\n",
       "  <tbody>\n",
       "    <tr>\n",
       "      <th>0</th>\n",
       "      <td>1989-08-23 04:22:45</td>\n",
       "      <td>2014-10-21 12:07:34</td>\n",
       "      <td>9190.322789</td>\n",
       "      <td>220567.746944</td>\n",
       "      <td>1.323406e+07</td>\n",
       "      <td>7.940439e+08</td>\n",
       "    </tr>\n",
       "    <tr>\n",
       "      <th>1</th>\n",
       "      <td>1984-07-07 14:23:31</td>\n",
       "      <td>2010-01-08 00:39:31</td>\n",
       "      <td>9315.427778</td>\n",
       "      <td>223570.266667</td>\n",
       "      <td>1.341422e+07</td>\n",
       "      <td>8.048530e+08</td>\n",
       "    </tr>\n",
       "    <tr>\n",
       "      <th>2</th>\n",
       "      <td>1982-08-08 20:19:41</td>\n",
       "      <td>2012-10-19 02:10:58</td>\n",
       "      <td>11029.243947</td>\n",
       "      <td>264701.854722</td>\n",
       "      <td>1.588211e+07</td>\n",
       "      <td>9.529267e+08</td>\n",
       "    </tr>\n",
       "    <tr>\n",
       "      <th>3</th>\n",
       "      <td>1990-12-05 22:14:44</td>\n",
       "      <td>2010-01-19 16:16:44</td>\n",
       "      <td>6984.751389</td>\n",
       "      <td>167634.033333</td>\n",
       "      <td>1.005804e+07</td>\n",
       "      <td>6.034825e+08</td>\n",
       "    </tr>\n",
       "    <tr>\n",
       "      <th>4</th>\n",
       "      <td>1982-07-02 20:35:35</td>\n",
       "      <td>2012-03-06 02:00:43</td>\n",
       "      <td>10839.225787</td>\n",
       "      <td>260141.418889</td>\n",
       "      <td>1.560849e+07</td>\n",
       "      <td>9.365091e+08</td>\n",
       "    </tr>\n",
       "    <tr>\n",
       "      <th>5</th>\n",
       "      <td>1983-12-11 17:03:47</td>\n",
       "      <td>2019-10-05 06:49:36</td>\n",
       "      <td>13081.573484</td>\n",
       "      <td>313957.763611</td>\n",
       "      <td>1.883747e+07</td>\n",
       "      <td>1.130248e+09</td>\n",
       "    </tr>\n",
       "    <tr>\n",
       "      <th>6</th>\n",
       "      <td>1994-12-22 08:22:01</td>\n",
       "      <td>2010-01-12 04:53:51</td>\n",
       "      <td>5499.855440</td>\n",
       "      <td>131996.530556</td>\n",
       "      <td>7.919792e+06</td>\n",
       "      <td>4.751875e+08</td>\n",
       "    </tr>\n",
       "    <tr>\n",
       "      <th>7</th>\n",
       "      <td>1998-03-16 20:16:38</td>\n",
       "      <td>2014-08-28 07:57:05</td>\n",
       "      <td>6008.486424</td>\n",
       "      <td>144203.674167</td>\n",
       "      <td>8.652220e+06</td>\n",
       "      <td>5.191332e+08</td>\n",
       "    </tr>\n",
       "    <tr>\n",
       "      <th>8</th>\n",
       "      <td>1997-02-03 07:33:51</td>\n",
       "      <td>2010-06-05 02:38:45</td>\n",
       "      <td>4869.795069</td>\n",
       "      <td>116875.081667</td>\n",
       "      <td>7.012505e+06</td>\n",
       "      <td>4.207503e+08</td>\n",
       "    </tr>\n",
       "    <tr>\n",
       "      <th>9</th>\n",
       "      <td>1992-03-23 00:23:57</td>\n",
       "      <td>2018-10-07 20:19:37</td>\n",
       "      <td>9694.830324</td>\n",
       "      <td>232675.927778</td>\n",
       "      <td>1.396056e+07</td>\n",
       "      <td>8.376333e+08</td>\n",
       "    </tr>\n",
       "  </tbody>\n",
       "</table>\n",
       "</div>"
      ],
      "text/plain": [
       "        date_of_birth           sale_date          days          hours  \\\n",
       "0 1989-08-23 04:22:45 2014-10-21 12:07:34   9190.322789  220567.746944   \n",
       "1 1984-07-07 14:23:31 2010-01-08 00:39:31   9315.427778  223570.266667   \n",
       "2 1982-08-08 20:19:41 2012-10-19 02:10:58  11029.243947  264701.854722   \n",
       "3 1990-12-05 22:14:44 2010-01-19 16:16:44   6984.751389  167634.033333   \n",
       "4 1982-07-02 20:35:35 2012-03-06 02:00:43  10839.225787  260141.418889   \n",
       "5 1983-12-11 17:03:47 2019-10-05 06:49:36  13081.573484  313957.763611   \n",
       "6 1994-12-22 08:22:01 2010-01-12 04:53:51   5499.855440  131996.530556   \n",
       "7 1998-03-16 20:16:38 2014-08-28 07:57:05   6008.486424  144203.674167   \n",
       "8 1997-02-03 07:33:51 2010-06-05 02:38:45   4869.795069  116875.081667   \n",
       "9 1992-03-23 00:23:57 2018-10-07 20:19:37   9694.830324  232675.927778   \n",
       "\n",
       "        minutes       seconds  \n",
       "0  1.323406e+07  7.940439e+08  \n",
       "1  1.341422e+07  8.048530e+08  \n",
       "2  1.588211e+07  9.529267e+08  \n",
       "3  1.005804e+07  6.034825e+08  \n",
       "4  1.560849e+07  9.365091e+08  \n",
       "5  1.883747e+07  1.130248e+09  \n",
       "6  7.919792e+06  4.751875e+08  \n",
       "7  8.652220e+06  5.191332e+08  \n",
       "8  7.012505e+06  4.207503e+08  \n",
       "9  1.396056e+07  8.376333e+08  "
      ]
     },
     "execution_count": 19,
     "metadata": {},
     "output_type": "execute_result"
    }
   ],
   "source": [
    "transformed_data_seconds"
   ]
  },
  {
   "cell_type": "code",
   "execution_count": null,
   "metadata": {},
   "outputs": [],
   "source": []
  }
 ],
 "metadata": {
  "hide_input": false,
  "kernelspec": {
   "display_name": "tubular-dev",
   "language": "python",
   "name": "tubular-dev"
  },
  "language_info": {
   "codemirror_mode": {
    "name": "ipython",
    "version": 3
   },
   "file_extension": ".py",
   "mimetype": "text/x-python",
   "name": "python",
   "nbconvert_exporter": "python",
   "pygments_lexer": "ipython3",
   "version": "3.7.16 (default, Jan 17 2023, 09:28:58) \n[Clang 14.0.6 ]"
  },
  "toc": {
   "base_numbering": 1,
   "nav_menu": {},
   "number_sections": true,
   "sideBar": true,
   "skip_h1_title": false,
   "title_cell": "Table of Contents",
   "title_sidebar": "Contents",
   "toc_cell": true,
   "toc_position": {},
   "toc_section_display": true,
   "toc_window_display": true
  },
  "varInspector": {
   "cols": {
    "lenName": 16,
    "lenType": 16,
    "lenVar": 40
   },
   "kernels_config": {
    "python": {
     "delete_cmd_postfix": "",
     "delete_cmd_prefix": "del ",
     "library": "var_list.py",
     "varRefreshCmd": "print(var_dic_list())"
    },
    "r": {
     "delete_cmd_postfix": ") ",
     "delete_cmd_prefix": "rm(",
     "library": "var_list.r",
     "varRefreshCmd": "cat(var_dic_list()) "
    }
   },
   "types_to_exclude": [
    "module",
    "function",
    "builtin_function_or_method",
    "instance",
    "_Feature"
   ],
   "window_display": false
  },
  "vscode": {
   "interpreter": {
    "hash": "d463d7db6ef9d49126a88787c11f50b242a0912e8e22012de16706329e459b1d"
   }
  }
 },
 "nbformat": 4,
 "nbformat_minor": 2
}
