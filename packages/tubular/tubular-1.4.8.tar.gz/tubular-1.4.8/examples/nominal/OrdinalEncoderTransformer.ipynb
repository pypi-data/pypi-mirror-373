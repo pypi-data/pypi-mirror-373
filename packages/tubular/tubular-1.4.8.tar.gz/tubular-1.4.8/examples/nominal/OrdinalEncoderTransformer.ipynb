{
 "cells": [
  {
   "cell_type": "markdown",
   "metadata": {},
   "source": [
    "# OrdinalEncoderTransformer\n",
    "This notebook shows the functionality in the `OrdinalEncoderTransformer` class. This transformer maps categorical levels to rank-ordered integer values by target-mean in ascending order for a particular problem."
   ]
  },
  {
   "cell_type": "code",
   "execution_count": 1,
   "metadata": {},
   "outputs": [],
   "source": [
    "import pandas as pd\n",
    "import numpy as np\n",
    "from pprint import pprint\n",
    "from sklearn.datasets import load_diabetes"
   ]
  },
  {
   "cell_type": "code",
   "execution_count": 2,
   "metadata": {},
   "outputs": [],
   "source": [
    "import tubular\n",
    "from tubular.nominal import OrdinalEncoderTransformer"
   ]
  },
  {
   "cell_type": "code",
   "execution_count": 3,
   "metadata": {},
   "outputs": [
    {
     "data": {
      "text/plain": [
       "'0.3.0'"
      ]
     },
     "execution_count": 3,
     "metadata": {},
     "output_type": "execute_result"
    }
   ],
   "source": [
    "tubular.__version__"
   ]
  },
  {
   "cell_type": "markdown",
   "metadata": {},
   "source": [
    "## Load diabetes dataset from sklearn\n",
    "We also create a categorical column from `bmi` and treat it as unordered for demonstration purposes in this notebook."
   ]
  },
  {
   "cell_type": "code",
   "execution_count": 4,
   "metadata": {},
   "outputs": [],
   "source": [
    "diabetes, target = load_diabetes(return_X_y=True, as_frame=True)"
   ]
  },
  {
   "cell_type": "code",
   "execution_count": 5,
   "metadata": {},
   "outputs": [],
   "source": [
    "diabetes[\"bmi_cut\"] = pd.cut(diabetes[\"bmi\"], bins=20)"
   ]
  },
  {
   "cell_type": "code",
   "execution_count": 6,
   "metadata": {},
   "outputs": [],
   "source": [
    "diabetes[\"target\"] = target"
   ]
  },
  {
   "cell_type": "code",
   "execution_count": 7,
   "metadata": {},
   "outputs": [
    {
     "data": {
      "text/html": [
       "<div>\n",
       "<style scoped>\n",
       "    .dataframe tbody tr th:only-of-type {\n",
       "        vertical-align: middle;\n",
       "    }\n",
       "\n",
       "    .dataframe tbody tr th {\n",
       "        vertical-align: top;\n",
       "    }\n",
       "\n",
       "    .dataframe thead th {\n",
       "        text-align: right;\n",
       "    }\n",
       "</style>\n",
       "<table border=\"1\" class=\"dataframe\">\n",
       "  <thead>\n",
       "    <tr style=\"text-align: right;\">\n",
       "      <th></th>\n",
       "      <th>age</th>\n",
       "      <th>sex</th>\n",
       "      <th>bmi</th>\n",
       "      <th>bp</th>\n",
       "      <th>s1</th>\n",
       "      <th>s2</th>\n",
       "      <th>s3</th>\n",
       "      <th>s4</th>\n",
       "      <th>s5</th>\n",
       "      <th>s6</th>\n",
       "      <th>bmi_cut</th>\n",
       "      <th>target</th>\n",
       "    </tr>\n",
       "  </thead>\n",
       "  <tbody>\n",
       "    <tr>\n",
       "      <th>0</th>\n",
       "      <td>0.038076</td>\n",
       "      <td>0.050680</td>\n",
       "      <td>0.061696</td>\n",
       "      <td>0.021872</td>\n",
       "      <td>-0.044223</td>\n",
       "      <td>-0.034821</td>\n",
       "      <td>-0.043401</td>\n",
       "      <td>-0.002592</td>\n",
       "      <td>0.019908</td>\n",
       "      <td>-0.017646</td>\n",
       "      <td>(0.0532, 0.0662]</td>\n",
       "      <td>151.0</td>\n",
       "    </tr>\n",
       "    <tr>\n",
       "      <th>1</th>\n",
       "      <td>-0.001882</td>\n",
       "      <td>-0.044642</td>\n",
       "      <td>-0.051474</td>\n",
       "      <td>-0.026328</td>\n",
       "      <td>-0.008449</td>\n",
       "      <td>-0.019163</td>\n",
       "      <td>0.074412</td>\n",
       "      <td>-0.039493</td>\n",
       "      <td>-0.068330</td>\n",
       "      <td>-0.092204</td>\n",
       "      <td>(-0.0642, -0.0512]</td>\n",
       "      <td>75.0</td>\n",
       "    </tr>\n",
       "    <tr>\n",
       "      <th>2</th>\n",
       "      <td>0.085299</td>\n",
       "      <td>0.050680</td>\n",
       "      <td>0.044451</td>\n",
       "      <td>-0.005671</td>\n",
       "      <td>-0.045599</td>\n",
       "      <td>-0.034194</td>\n",
       "      <td>-0.032356</td>\n",
       "      <td>-0.002592</td>\n",
       "      <td>0.002864</td>\n",
       "      <td>-0.025930</td>\n",
       "      <td>(0.0401, 0.0532]</td>\n",
       "      <td>141.0</td>\n",
       "    </tr>\n",
       "    <tr>\n",
       "      <th>3</th>\n",
       "      <td>-0.089063</td>\n",
       "      <td>-0.044642</td>\n",
       "      <td>-0.011595</td>\n",
       "      <td>-0.036656</td>\n",
       "      <td>0.012191</td>\n",
       "      <td>0.024991</td>\n",
       "      <td>-0.036038</td>\n",
       "      <td>0.034309</td>\n",
       "      <td>0.022692</td>\n",
       "      <td>-0.009362</td>\n",
       "      <td>(-0.012, 0.00102]</td>\n",
       "      <td>206.0</td>\n",
       "    </tr>\n",
       "    <tr>\n",
       "      <th>4</th>\n",
       "      <td>0.005383</td>\n",
       "      <td>-0.044642</td>\n",
       "      <td>-0.036385</td>\n",
       "      <td>0.021872</td>\n",
       "      <td>0.003935</td>\n",
       "      <td>0.015596</td>\n",
       "      <td>0.008142</td>\n",
       "      <td>-0.002592</td>\n",
       "      <td>-0.031991</td>\n",
       "      <td>-0.046641</td>\n",
       "      <td>(-0.0381, -0.0251]</td>\n",
       "      <td>135.0</td>\n",
       "    </tr>\n",
       "  </tbody>\n",
       "</table>\n",
       "</div>"
      ],
      "text/plain": [
       "        age       sex       bmi        bp        s1        s2        s3  \\\n",
       "0  0.038076  0.050680  0.061696  0.021872 -0.044223 -0.034821 -0.043401   \n",
       "1 -0.001882 -0.044642 -0.051474 -0.026328 -0.008449 -0.019163  0.074412   \n",
       "2  0.085299  0.050680  0.044451 -0.005671 -0.045599 -0.034194 -0.032356   \n",
       "3 -0.089063 -0.044642 -0.011595 -0.036656  0.012191  0.024991 -0.036038   \n",
       "4  0.005383 -0.044642 -0.036385  0.021872  0.003935  0.015596  0.008142   \n",
       "\n",
       "         s4        s5        s6             bmi_cut  target  \n",
       "0 -0.002592  0.019908 -0.017646    (0.0532, 0.0662]   151.0  \n",
       "1 -0.039493 -0.068330 -0.092204  (-0.0642, -0.0512]    75.0  \n",
       "2 -0.002592  0.002864 -0.025930    (0.0401, 0.0532]   141.0  \n",
       "3  0.034309  0.022692 -0.009362   (-0.012, 0.00102]   206.0  \n",
       "4 -0.002592 -0.031991 -0.046641  (-0.0381, -0.0251]   135.0  "
      ]
     },
     "execution_count": 7,
     "metadata": {},
     "output_type": "execute_result"
    }
   ],
   "source": [
    "diabetes.head()"
   ]
  },
  {
   "cell_type": "code",
   "execution_count": 8,
   "metadata": {},
   "outputs": [
    {
     "data": {
      "text/plain": [
       "(-0.012, 0.00102]     0.117647\n",
       "(-0.0381, -0.0251]    0.110860\n",
       "(-0.0251, -0.012]     0.110860\n",
       "(-0.0512, -0.0381]    0.085973\n",
       "(0.00102, 0.0141]     0.085973\n",
       "(0.0141, 0.0271]      0.081448\n",
       "(-0.0642, -0.0512]    0.063348\n",
       "(0.0271, 0.0401]      0.063348\n",
       "(0.0532, 0.0662]      0.063348\n",
       "(0.0401, 0.0532]      0.049774\n",
       "(-0.0772, -0.0642]    0.049774\n",
       "(0.0662, 0.0793]      0.036199\n",
       "(-0.0905, -0.0772]    0.022624\n",
       "(0.0923, 0.105]       0.020362\n",
       "(0.0793, 0.0923]      0.015837\n",
       "(0.118, 0.131]        0.009050\n",
       "(0.105, 0.118]        0.006787\n",
       "(0.158, 0.171]        0.004525\n",
       "(0.131, 0.144]        0.002262\n",
       "(0.144, 0.158]        0.000000\n",
       "Name: bmi_cut, dtype: float64"
      ]
     },
     "execution_count": 8,
     "metadata": {},
     "output_type": "execute_result"
    }
   ],
   "source": [
    "diabetes[\"bmi_cut\"].value_counts(dropna=False) / diabetes.shape[0]"
   ]
  },
  {
   "cell_type": "markdown",
   "metadata": {},
   "source": [
    "## Simple usage"
   ]
  },
  {
   "cell_type": "markdown",
   "metadata": {},
   "source": [
    "### Initialising OrdinalEncoderTransformer\n",
    "The `response_column` argument must be specified to set the response column that the `fit` method will use. <br>\n",
    "There can be no nulls in the response column otherwise an exception will be raised."
   ]
  },
  {
   "cell_type": "code",
   "execution_count": 9,
   "metadata": {},
   "outputs": [
    {
     "name": "stdout",
     "output_type": "stream",
     "text": [
      "BaseTransformer.__init__() called\n"
     ]
    }
   ],
   "source": [
    "oe_1 = OrdinalEncoderTransformer(\n",
    "    columns=\"bmi_cut\", response_column=\"target\", copy=True, verbose=True\n",
    ")"
   ]
  },
  {
   "cell_type": "markdown",
   "metadata": {
    "collapsed": true
   },
   "source": [
    "### OrdinalEncoderTransformer fit\n",
    "The `fit` method must be run before the `transform` method. It calculates the average response column value for each level and then calculated the ascending ordinal integer values accordingly. The mappings are stored in an attribute called `mappings`."
   ]
  },
  {
   "cell_type": "code",
   "execution_count": 10,
   "metadata": {},
   "outputs": [
    {
     "name": "stdout",
     "output_type": "stream",
     "text": [
      "BaseTransformer.fit() called\n"
     ]
    },
    {
     "data": {
      "text/plain": [
       "OrdinalEncoderTransformer(columns=['bmi_cut'], response_column='target')"
      ]
     },
     "execution_count": 10,
     "metadata": {},
     "output_type": "execute_result"
    }
   ],
   "source": [
    "oe_1.fit(diabetes)"
   ]
  },
  {
   "cell_type": "code",
   "execution_count": 11,
   "metadata": {},
   "outputs": [
    {
     "name": "stdout",
     "output_type": "stream",
     "text": [
      "{'bmi_cut': {Interval(-0.0905, -0.0772, closed='right'): 2,\n",
      "             Interval(-0.0772, -0.0642, closed='right'): 1,\n",
      "             Interval(-0.0642, -0.0512, closed='right'): 3,\n",
      "             Interval(-0.0512, -0.0381, closed='right'): 4,\n",
      "             Interval(-0.0381, -0.0251, closed='right'): 5,\n",
      "             Interval(-0.0251, -0.012, closed='right'): 6,\n",
      "             Interval(-0.012, 0.00102, closed='right'): 7,\n",
      "             Interval(0.00102, 0.0141, closed='right'): 8,\n",
      "             Interval(0.0141, 0.0271, closed='right'): 11,\n",
      "             Interval(0.0271, 0.0401, closed='right'): 10,\n",
      "             Interval(0.0401, 0.0532, closed='right'): 9,\n",
      "             Interval(0.0532, 0.0662, closed='right'): 12,\n",
      "             Interval(0.0662, 0.0793, closed='right'): 13,\n",
      "             Interval(0.0793, 0.0923, closed='right'): 16,\n",
      "             Interval(0.0923, 0.105, closed='right'): 15,\n",
      "             Interval(0.105, 0.118, closed='right'): 17,\n",
      "             Interval(0.118, 0.131, closed='right'): 19,\n",
      "             Interval(0.131, 0.144, closed='right'): 14,\n",
      "             Interval(0.144, 0.158, closed='right'): 20,\n",
      "             Interval(0.158, 0.171, closed='right'): 18}}\n"
     ]
    }
   ],
   "source": [
    "pprint(oe_1.mappings)"
   ]
  },
  {
   "cell_type": "markdown",
   "metadata": {},
   "source": [
    "### OrdinalEncoderTransformer transform"
   ]
  },
  {
   "cell_type": "code",
   "execution_count": 12,
   "metadata": {},
   "outputs": [
    {
     "name": "stdout",
     "output_type": "stream",
     "text": [
      "BaseTransformer.transform() called\n"
     ]
    }
   ],
   "source": [
    "diabetes_2 = oe_1.transform(diabetes)"
   ]
  },
  {
   "cell_type": "code",
   "execution_count": 13,
   "metadata": {},
   "outputs": [
    {
     "data": {
      "text/plain": [
       "7     52\n",
       "5     49\n",
       "6     49\n",
       "4     38\n",
       "8     38\n",
       "11    36\n",
       "3     28\n",
       "10    28\n",
       "12    28\n",
       "9     22\n",
       "1     22\n",
       "13    16\n",
       "2     10\n",
       "15     9\n",
       "16     7\n",
       "19     4\n",
       "17     3\n",
       "18     2\n",
       "14     1\n",
       "20     0\n",
       "Name: bmi_cut, dtype: int64"
      ]
     },
     "execution_count": 13,
     "metadata": {},
     "output_type": "execute_result"
    }
   ],
   "source": [
    "diabetes_2[\"bmi_cut\"].value_counts(dropna=False)"
   ]
  },
  {
   "cell_type": "markdown",
   "metadata": {},
   "source": [
    "## Transform with nulls\n",
    "Null values are not converted in the `OrdinalEncoderTransformer`. There are other transforrmers in the package which can be used to deal with imputation first."
   ]
  },
  {
   "cell_type": "code",
   "execution_count": 14,
   "metadata": {},
   "outputs": [],
   "source": [
    "diabetes[\"bmi_cut_str\"] = diabetes[\"bmi_cut\"].astype(str)"
   ]
  },
  {
   "cell_type": "code",
   "execution_count": 15,
   "metadata": {},
   "outputs": [],
   "source": [
    "diabetes.loc[0, \"bmi_cut_str\"] = np.NaN"
   ]
  },
  {
   "cell_type": "code",
   "execution_count": 16,
   "metadata": {},
   "outputs": [
    {
     "data": {
      "text/plain": [
       "1"
      ]
     },
     "execution_count": 16,
     "metadata": {},
     "output_type": "execute_result"
    }
   ],
   "source": [
    "diabetes[\"bmi_cut_str\"].isnull().sum()"
   ]
  },
  {
   "cell_type": "code",
   "execution_count": 17,
   "metadata": {},
   "outputs": [
    {
     "name": "stdout",
     "output_type": "stream",
     "text": [
      "BaseTransformer.__init__() called\n"
     ]
    }
   ],
   "source": [
    "oe_2 = OrdinalEncoderTransformer(\n",
    "    columns=[\"bmi_cut_str\"], response_column=\"target\", copy=True, verbose=True\n",
    ")"
   ]
  },
  {
   "cell_type": "code",
   "execution_count": 18,
   "metadata": {
    "scrolled": true
   },
   "outputs": [
    {
     "name": "stdout",
     "output_type": "stream",
     "text": [
      "BaseTransformer.fit() called\n"
     ]
    },
    {
     "data": {
      "text/plain": [
       "OrdinalEncoderTransformer(columns=['bmi_cut_str'], response_column='target')"
      ]
     },
     "execution_count": 18,
     "metadata": {},
     "output_type": "execute_result"
    }
   ],
   "source": [
    "oe_2.fit(diabetes)"
   ]
  },
  {
   "cell_type": "code",
   "execution_count": 19,
   "metadata": {},
   "outputs": [
    {
     "name": "stdout",
     "output_type": "stream",
     "text": [
      "<class 'ValueError'> nulls would be introduced into column bmi_cut_str from levels not present in mapping\n"
     ]
    }
   ],
   "source": [
    "try:\n",
    "    oe_2.transform(diabetes)\n",
    "except Exception as err:\n",
    "    print(type(err), err)"
   ]
  },
  {
   "cell_type": "markdown",
   "metadata": {},
   "source": [
    "## Weights column\n",
    "It is possible to specify a weights column using the `weights_column` argument when initialising the transformer. <br>\n",
    "If this is the case then a weighted mean, using this column, will be calculated in `fit`."
   ]
  },
  {
   "cell_type": "code",
   "execution_count": 20,
   "metadata": {},
   "outputs": [],
   "source": [
    "diabetes[\"weights\"] = diabetes[\"bp\"].abs()"
   ]
  },
  {
   "cell_type": "code",
   "execution_count": 21,
   "metadata": {},
   "outputs": [],
   "source": [
    "oe_3 = OrdinalEncoderTransformer(\n",
    "    columns=\"bmi_cut\", response_column=\"target\", weights_column=\"weights\"\n",
    ")"
   ]
  },
  {
   "cell_type": "code",
   "execution_count": 22,
   "metadata": {},
   "outputs": [
    {
     "data": {
      "text/plain": [
       "OrdinalEncoderTransformer(columns=['bmi_cut'], response_column='target',\n",
       "                          weights_column='weights')"
      ]
     },
     "execution_count": 22,
     "metadata": {},
     "output_type": "execute_result"
    }
   ],
   "source": [
    "oe_3.fit(diabetes)"
   ]
  },
  {
   "cell_type": "code",
   "execution_count": 23,
   "metadata": {},
   "outputs": [],
   "source": [
    "diabetes_4 = oe_3.transform(diabetes)"
   ]
  },
  {
   "cell_type": "code",
   "execution_count": 24,
   "metadata": {},
   "outputs": [
    {
     "data": {
      "text/plain": [
       "13    52\n",
       "6     49\n",
       "5     49\n",
       "4     38\n",
       "9     38\n",
       "17    36\n",
       "3     28\n",
       "8     28\n",
       "12    28\n",
       "11    22\n",
       "1     22\n",
       "16    16\n",
       "2     10\n",
       "7      9\n",
       "14     7\n",
       "10     4\n",
       "15     3\n",
       "18     2\n",
       "19     1\n",
       "20     0\n",
       "Name: bmi_cut, dtype: int64"
      ]
     },
     "execution_count": 24,
     "metadata": {},
     "output_type": "execute_result"
    }
   ],
   "source": [
    "diabetes_4[\"bmi_cut\"].value_counts(dropna=False)"
   ]
  },
  {
   "cell_type": "code",
   "execution_count": null,
   "metadata": {},
   "outputs": [],
   "source": []
  },
  {
   "cell_type": "code",
   "execution_count": null,
   "metadata": {},
   "outputs": [],
   "source": []
  },
  {
   "cell_type": "code",
   "execution_count": null,
   "metadata": {},
   "outputs": [],
   "source": []
  },
  {
   "cell_type": "code",
   "execution_count": null,
   "metadata": {},
   "outputs": [],
   "source": []
  }
 ],
 "metadata": {
  "kernelspec": {
   "display_name": "python3",
   "language": "python",
   "name": "python3"
  },
  "language_info": {
   "codemirror_mode": {
    "name": "ipython",
    "version": 3
   },
   "file_extension": ".py",
   "mimetype": "text/x-python",
   "name": "python",
   "nbconvert_exporter": "python",
   "pygments_lexer": "ipython3",
   "version": "3.7.10"
  },
  "toc": {
   "base_numbering": 1,
   "nav_menu": {},
   "number_sections": true,
   "sideBar": true,
   "skip_h1_title": false,
   "title_cell": "Table of Contents",
   "title_sidebar": "Contents",
   "toc_cell": false,
   "toc_position": {
    "height": "calc(100% - 180px)",
    "left": "10px",
    "top": "150px",
    "width": "261.933px"
   },
   "toc_section_display": true,
   "toc_window_display": true
  }
 },
 "nbformat": 4,
 "nbformat_minor": 2
}
