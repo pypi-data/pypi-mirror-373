{
 "cells": [
  {
   "cell_type": "markdown",
   "metadata": {},
   "source": [
    "# NominalToIntegerTransformer\n",
    "This notebook shows the functionality in the `NominalToIntegerTransformer` class. This transformer converts nominal columns to integer columns. Although once converted to integers these columns are inherently ordered - there is no particular ordering of nominal levels in the mapping to integer. <br>"
   ]
  },
  {
   "cell_type": "code",
   "execution_count": 1,
   "metadata": {},
   "outputs": [],
   "source": [
    "import pandas as pd\n",
    "import numpy as np\n",
    "from pprint import pprint\n",
    "from sklearn.datasets import load_diabetes"
   ]
  },
  {
   "cell_type": "code",
   "execution_count": 2,
   "metadata": {},
   "outputs": [],
   "source": [
    "import tubular\n",
    "from tubular.nominal import NominalToIntegerTransformer"
   ]
  },
  {
   "cell_type": "code",
   "execution_count": 3,
   "metadata": {},
   "outputs": [
    {
     "data": {
      "text/plain": [
       "'0.3.0'"
      ]
     },
     "execution_count": 3,
     "metadata": {},
     "output_type": "execute_result"
    }
   ],
   "source": [
    "tubular.__version__"
   ]
  },
  {
   "cell_type": "markdown",
   "metadata": {},
   "source": [
    "## Load diabetes dataset from sklearn\n",
    "We also create a categorical column from `bmi` and treat it as unordered for demonstration purposes in this notebook."
   ]
  },
  {
   "cell_type": "code",
   "execution_count": 4,
   "metadata": {},
   "outputs": [],
   "source": [
    "diabetes = load_diabetes(return_X_y=False, as_frame=True)[\"data\"]"
   ]
  },
  {
   "cell_type": "code",
   "execution_count": 5,
   "metadata": {},
   "outputs": [],
   "source": [
    "diabetes[\"bmi_cut\"] = pd.cut(diabetes[\"bmi\"], bins=20)"
   ]
  },
  {
   "cell_type": "code",
   "execution_count": 6,
   "metadata": {},
   "outputs": [
    {
     "data": {
      "text/html": [
       "<div>\n",
       "<style scoped>\n",
       "    .dataframe tbody tr th:only-of-type {\n",
       "        vertical-align: middle;\n",
       "    }\n",
       "\n",
       "    .dataframe tbody tr th {\n",
       "        vertical-align: top;\n",
       "    }\n",
       "\n",
       "    .dataframe thead th {\n",
       "        text-align: right;\n",
       "    }\n",
       "</style>\n",
       "<table border=\"1\" class=\"dataframe\">\n",
       "  <thead>\n",
       "    <tr style=\"text-align: right;\">\n",
       "      <th></th>\n",
       "      <th>age</th>\n",
       "      <th>sex</th>\n",
       "      <th>bmi</th>\n",
       "      <th>bp</th>\n",
       "      <th>s1</th>\n",
       "      <th>s2</th>\n",
       "      <th>s3</th>\n",
       "      <th>s4</th>\n",
       "      <th>s5</th>\n",
       "      <th>s6</th>\n",
       "      <th>bmi_cut</th>\n",
       "    </tr>\n",
       "  </thead>\n",
       "  <tbody>\n",
       "    <tr>\n",
       "      <th>0</th>\n",
       "      <td>0.038076</td>\n",
       "      <td>0.050680</td>\n",
       "      <td>0.061696</td>\n",
       "      <td>0.021872</td>\n",
       "      <td>-0.044223</td>\n",
       "      <td>-0.034821</td>\n",
       "      <td>-0.043401</td>\n",
       "      <td>-0.002592</td>\n",
       "      <td>0.019908</td>\n",
       "      <td>-0.017646</td>\n",
       "      <td>(0.0532, 0.0662]</td>\n",
       "    </tr>\n",
       "    <tr>\n",
       "      <th>1</th>\n",
       "      <td>-0.001882</td>\n",
       "      <td>-0.044642</td>\n",
       "      <td>-0.051474</td>\n",
       "      <td>-0.026328</td>\n",
       "      <td>-0.008449</td>\n",
       "      <td>-0.019163</td>\n",
       "      <td>0.074412</td>\n",
       "      <td>-0.039493</td>\n",
       "      <td>-0.068330</td>\n",
       "      <td>-0.092204</td>\n",
       "      <td>(-0.0642, -0.0512]</td>\n",
       "    </tr>\n",
       "    <tr>\n",
       "      <th>2</th>\n",
       "      <td>0.085299</td>\n",
       "      <td>0.050680</td>\n",
       "      <td>0.044451</td>\n",
       "      <td>-0.005671</td>\n",
       "      <td>-0.045599</td>\n",
       "      <td>-0.034194</td>\n",
       "      <td>-0.032356</td>\n",
       "      <td>-0.002592</td>\n",
       "      <td>0.002864</td>\n",
       "      <td>-0.025930</td>\n",
       "      <td>(0.0401, 0.0532]</td>\n",
       "    </tr>\n",
       "    <tr>\n",
       "      <th>3</th>\n",
       "      <td>-0.089063</td>\n",
       "      <td>-0.044642</td>\n",
       "      <td>-0.011595</td>\n",
       "      <td>-0.036656</td>\n",
       "      <td>0.012191</td>\n",
       "      <td>0.024991</td>\n",
       "      <td>-0.036038</td>\n",
       "      <td>0.034309</td>\n",
       "      <td>0.022692</td>\n",
       "      <td>-0.009362</td>\n",
       "      <td>(-0.012, 0.00102]</td>\n",
       "    </tr>\n",
       "    <tr>\n",
       "      <th>4</th>\n",
       "      <td>0.005383</td>\n",
       "      <td>-0.044642</td>\n",
       "      <td>-0.036385</td>\n",
       "      <td>0.021872</td>\n",
       "      <td>0.003935</td>\n",
       "      <td>0.015596</td>\n",
       "      <td>0.008142</td>\n",
       "      <td>-0.002592</td>\n",
       "      <td>-0.031991</td>\n",
       "      <td>-0.046641</td>\n",
       "      <td>(-0.0381, -0.0251]</td>\n",
       "    </tr>\n",
       "  </tbody>\n",
       "</table>\n",
       "</div>"
      ],
      "text/plain": [
       "        age       sex       bmi        bp        s1        s2        s3  \\\n",
       "0  0.038076  0.050680  0.061696  0.021872 -0.044223 -0.034821 -0.043401   \n",
       "1 -0.001882 -0.044642 -0.051474 -0.026328 -0.008449 -0.019163  0.074412   \n",
       "2  0.085299  0.050680  0.044451 -0.005671 -0.045599 -0.034194 -0.032356   \n",
       "3 -0.089063 -0.044642 -0.011595 -0.036656  0.012191  0.024991 -0.036038   \n",
       "4  0.005383 -0.044642 -0.036385  0.021872  0.003935  0.015596  0.008142   \n",
       "\n",
       "         s4        s5        s6             bmi_cut  \n",
       "0 -0.002592  0.019908 -0.017646    (0.0532, 0.0662]  \n",
       "1 -0.039493 -0.068330 -0.092204  (-0.0642, -0.0512]  \n",
       "2 -0.002592  0.002864 -0.025930    (0.0401, 0.0532]  \n",
       "3  0.034309  0.022692 -0.009362   (-0.012, 0.00102]  \n",
       "4 -0.002592 -0.031991 -0.046641  (-0.0381, -0.0251]  "
      ]
     },
     "execution_count": 6,
     "metadata": {},
     "output_type": "execute_result"
    }
   ],
   "source": [
    "diabetes.head()"
   ]
  },
  {
   "cell_type": "code",
   "execution_count": 7,
   "metadata": {},
   "outputs": [
    {
     "data": {
      "text/plain": [
       "(-0.012, 0.00102]     0.117647\n",
       "(-0.0381, -0.0251]    0.110860\n",
       "(-0.0251, -0.012]     0.110860\n",
       "(-0.0512, -0.0381]    0.085973\n",
       "(0.00102, 0.0141]     0.085973\n",
       "(0.0141, 0.0271]      0.081448\n",
       "(-0.0642, -0.0512]    0.063348\n",
       "(0.0271, 0.0401]      0.063348\n",
       "(0.0532, 0.0662]      0.063348\n",
       "(0.0401, 0.0532]      0.049774\n",
       "(-0.0772, -0.0642]    0.049774\n",
       "(0.0662, 0.0793]      0.036199\n",
       "(-0.0905, -0.0772]    0.022624\n",
       "(0.0923, 0.105]       0.020362\n",
       "(0.0793, 0.0923]      0.015837\n",
       "(0.118, 0.131]        0.009050\n",
       "(0.105, 0.118]        0.006787\n",
       "(0.158, 0.171]        0.004525\n",
       "(0.131, 0.144]        0.002262\n",
       "(0.144, 0.158]        0.000000\n",
       "Name: bmi_cut, dtype: float64"
      ]
     },
     "execution_count": 7,
     "metadata": {},
     "output_type": "execute_result"
    }
   ],
   "source": [
    "diabetes[\"bmi_cut\"].value_counts(dropna=False) / diabetes.shape[0]"
   ]
  },
  {
   "cell_type": "markdown",
   "metadata": {},
   "source": [
    "## Simple usage"
   ]
  },
  {
   "cell_type": "markdown",
   "metadata": {},
   "source": [
    "### Initialising NominalToIntegerTransformer\n",
    "Note, tt is possible to convert multiple nominal columns to integer by specifying a list of columns in the `columns` argument. Note, the same `start_encoding` value will be used for all columns (see section 1.3)."
   ]
  },
  {
   "cell_type": "code",
   "execution_count": 8,
   "metadata": {},
   "outputs": [
    {
     "name": "stdout",
     "output_type": "stream",
     "text": [
      "BaseTransformer.__init__() called\n"
     ]
    }
   ],
   "source": [
    "nom_1 = NominalToIntegerTransformer(columns=\"bmi_cut\", copy=True, verbose=True)"
   ]
  },
  {
   "cell_type": "markdown",
   "metadata": {
    "collapsed": true
   },
   "source": [
    "### NominalToIntegerTransformer fit\n",
    "The `fit` method sets the mappings from nominal levels to integer values for each of the specified columns. It must be run before the `transform` method.\n",
    "The mappings are stored in an attribute called `mappings`."
   ]
  },
  {
   "cell_type": "code",
   "execution_count": 9,
   "metadata": {},
   "outputs": [
    {
     "name": "stdout",
     "output_type": "stream",
     "text": [
      "BaseTransformer.fit() called\n"
     ]
    },
    {
     "data": {
      "text/plain": [
       "NominalToIntegerTransformer(columns=['bmi_cut'])"
      ]
     },
     "execution_count": 9,
     "metadata": {},
     "output_type": "execute_result"
    }
   ],
   "source": [
    "nom_1.fit(diabetes)"
   ]
  },
  {
   "cell_type": "code",
   "execution_count": 10,
   "metadata": {},
   "outputs": [
    {
     "name": "stdout",
     "output_type": "stream",
     "text": [
      "{'bmi_cut': {Interval(-0.0905, -0.0772, closed='right'): 7,\n",
      "             Interval(-0.0772, -0.0642, closed='right'): 11,\n",
      "             Interval(-0.0642, -0.0512, closed='right'): 1,\n",
      "             Interval(-0.0512, -0.0381, closed='right'): 5,\n",
      "             Interval(-0.0381, -0.0251, closed='right'): 4,\n",
      "             Interval(-0.0251, -0.012, closed='right'): 9,\n",
      "             Interval(-0.012, 0.00102, closed='right'): 3,\n",
      "             Interval(0.00102, 0.0141, closed='right'): 10,\n",
      "             Interval(0.0141, 0.0271, closed='right'): 8,\n",
      "             Interval(0.0271, 0.0401, closed='right'): 6,\n",
      "             Interval(0.0401, 0.0532, closed='right'): 2,\n",
      "             Interval(0.0532, 0.0662, closed='right'): 0,\n",
      "             Interval(0.0662, 0.0793, closed='right'): 13,\n",
      "             Interval(0.0793, 0.0923, closed='right'): 14,\n",
      "             Interval(0.0923, 0.105, closed='right'): 16,\n",
      "             Interval(0.105, 0.118, closed='right'): 15,\n",
      "             Interval(0.118, 0.131, closed='right'): 12,\n",
      "             Interval(0.131, 0.144, closed='right'): 18,\n",
      "             Interval(0.158, 0.171, closed='right'): 17}}\n"
     ]
    }
   ],
   "source": [
    "pprint(nom_1.mappings)"
   ]
  },
  {
   "cell_type": "markdown",
   "metadata": {},
   "source": [
    "### NominalToIntegerTransformer transform"
   ]
  },
  {
   "cell_type": "code",
   "execution_count": 11,
   "metadata": {},
   "outputs": [
    {
     "name": "stdout",
     "output_type": "stream",
     "text": [
      "BaseTransformer.transform() called\n"
     ]
    }
   ],
   "source": [
    "diabetes_2 = nom_1.transform(diabetes)"
   ]
  },
  {
   "cell_type": "code",
   "execution_count": 12,
   "metadata": {},
   "outputs": [
    {
     "data": {
      "text/plain": [
       "0.0     28\n",
       "1.0     28\n",
       "2.0     22\n",
       "3.0     52\n",
       "4.0     49\n",
       "5.0     38\n",
       "6.0     28\n",
       "7.0     10\n",
       "8.0     36\n",
       "9.0     49\n",
       "10.0    38\n",
       "11.0    22\n",
       "12.0     4\n",
       "13.0    16\n",
       "14.0     7\n",
       "15.0     3\n",
       "16.0     9\n",
       "17.0     2\n",
       "18.0     1\n",
       "Name: bmi_cut, dtype: int64"
      ]
     },
     "execution_count": 12,
     "metadata": {},
     "output_type": "execute_result"
    }
   ],
   "source": [
    "diabetes_2[\"bmi_cut\"].value_counts(dropna=False).sort_index()"
   ]
  },
  {
   "cell_type": "markdown",
   "metadata": {},
   "source": [
    "## Starting the mapping at a different value\n",
    "It is possible to start the encoding a another integer value by specifiying the `start_encoding` argument when initialising the NominalToIntegerTransformer."
   ]
  },
  {
   "cell_type": "code",
   "execution_count": 13,
   "metadata": {},
   "outputs": [],
   "source": [
    "nom_2 = NominalToIntegerTransformer(\n",
    "    columns=\"bmi_cut\", start_encoding=-10, copy=True, verbose=False\n",
    ")"
   ]
  },
  {
   "cell_type": "code",
   "execution_count": 14,
   "metadata": {},
   "outputs": [
    {
     "data": {
      "text/plain": [
       "NominalToIntegerTransformer(columns=['bmi_cut'], start_encoding=-10)"
      ]
     },
     "execution_count": 14,
     "metadata": {},
     "output_type": "execute_result"
    }
   ],
   "source": [
    "nom_2.fit(diabetes)"
   ]
  },
  {
   "cell_type": "code",
   "execution_count": 15,
   "metadata": {},
   "outputs": [],
   "source": [
    "diabetes_3 = nom_2.transform(diabetes)"
   ]
  },
  {
   "cell_type": "code",
   "execution_count": 16,
   "metadata": {},
   "outputs": [
    {
     "data": {
      "text/plain": [
       "-10.0    28\n",
       "-9.0     28\n",
       "-8.0     22\n",
       "-7.0     52\n",
       "-6.0     49\n",
       "-5.0     38\n",
       "-4.0     28\n",
       "-3.0     10\n",
       "-2.0     36\n",
       "-1.0     49\n",
       " 0.0     38\n",
       " 1.0     22\n",
       " 2.0      4\n",
       " 3.0     16\n",
       " 4.0      7\n",
       " 5.0      3\n",
       " 6.0      9\n",
       " 7.0      2\n",
       " 8.0      1\n",
       "Name: bmi_cut, dtype: int64"
      ]
     },
     "execution_count": 16,
     "metadata": {},
     "output_type": "execute_result"
    }
   ],
   "source": [
    "diabetes_3[\"bmi_cut\"].value_counts(dropna=False).sort_index()"
   ]
  },
  {
   "cell_type": "code",
   "execution_count": null,
   "metadata": {},
   "outputs": [],
   "source": []
  },
  {
   "cell_type": "code",
   "execution_count": null,
   "metadata": {},
   "outputs": [],
   "source": []
  },
  {
   "cell_type": "code",
   "execution_count": null,
   "metadata": {},
   "outputs": [],
   "source": []
  },
  {
   "cell_type": "code",
   "execution_count": null,
   "metadata": {},
   "outputs": [],
   "source": []
  },
  {
   "cell_type": "code",
   "execution_count": null,
   "metadata": {},
   "outputs": [],
   "source": []
  },
  {
   "cell_type": "code",
   "execution_count": null,
   "metadata": {},
   "outputs": [],
   "source": []
  }
 ],
 "metadata": {
  "kernelspec": {
   "display_name": "python3",
   "language": "python",
   "name": "python3"
  },
  "language_info": {
   "codemirror_mode": {
    "name": "ipython",
    "version": 3
   },
   "file_extension": ".py",
   "mimetype": "text/x-python",
   "name": "python",
   "nbconvert_exporter": "python",
   "pygments_lexer": "ipython3",
   "version": "3.7.10"
  },
  "toc": {
   "base_numbering": 1,
   "nav_menu": {},
   "number_sections": true,
   "sideBar": true,
   "skip_h1_title": false,
   "title_cell": "Table of Contents",
   "title_sidebar": "Contents",
   "toc_cell": false,
   "toc_position": {},
   "toc_section_display": true,
   "toc_window_display": true
  }
 },
 "nbformat": 4,
 "nbformat_minor": 2
}
