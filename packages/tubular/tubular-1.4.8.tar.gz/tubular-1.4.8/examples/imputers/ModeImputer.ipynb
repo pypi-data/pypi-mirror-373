{
 "cells": [
  {
   "cell_type": "markdown",
   "metadata": {},
   "source": [
    "# ModeImputer\n",
    "This notebook shows the functionality in the ModeImputer class. This transformer fills null values with the mode value of each column."
   ]
  },
  {
   "cell_type": "code",
   "execution_count": 1,
   "metadata": {
    "ExecuteTime": {
     "end_time": "2020-06-08T09:33:17.495886Z",
     "start_time": "2020-06-08T09:33:17.044627Z"
    }
   },
   "outputs": [],
   "source": [
    "import pandas as pd\n",
    "import numpy as np\n",
    "from sklearn.datasets import fetch_california_housing"
   ]
  },
  {
   "cell_type": "code",
   "execution_count": 2,
   "metadata": {
    "ExecuteTime": {
     "end_time": "2020-06-08T09:33:17.836724Z",
     "start_time": "2020-06-08T09:33:17.829667Z"
    }
   },
   "outputs": [],
   "source": [
    "import tubular\n",
    "from tubular.imputers import ModeImputer"
   ]
  },
  {
   "cell_type": "code",
   "execution_count": 3,
   "metadata": {
    "ExecuteTime": {
     "end_time": "2020-06-08T09:33:17.858297Z",
     "start_time": "2020-06-08T09:33:17.838665Z"
    }
   },
   "outputs": [
    {
     "data": {
      "text/plain": [
       "'0.3.0'"
      ]
     },
     "execution_count": 3,
     "metadata": {},
     "output_type": "execute_result"
    }
   ],
   "source": [
    "tubular.__version__"
   ]
  },
  {
   "cell_type": "markdown",
   "metadata": {},
   "source": [
    "## Load California housing dataset from sklearn"
   ]
  },
  {
   "cell_type": "code",
   "execution_count": 4,
   "metadata": {
    "ExecuteTime": {
     "end_time": "2020-06-08T09:33:17.905222Z",
     "start_time": "2020-06-08T09:33:17.858297Z"
    }
   },
   "outputs": [],
   "source": [
    "cali = fetch_california_housing()\n",
    "cali_df = pd.DataFrame(cali[\"data\"], columns=cali[\"feature_names\"])\n",
    "cali_df[\"AveOccup\"] = cali_df[\"AveOccup\"].sample(frac=0.99, random_state=1)\n",
    "cali_df[\"HouseAge\"] = cali_df[\"HouseAge\"].sample(frac=0.95, random_state=2)\n",
    "cali_df[\"Population\"] = cali_df[\"Population\"].sample(frac=0.995, random_state=3)"
   ]
  },
  {
   "cell_type": "code",
   "execution_count": 5,
   "metadata": {
    "ExecuteTime": {
     "end_time": "2020-06-08T09:33:17.936474Z",
     "start_time": "2020-06-08T09:33:17.905222Z"
    }
   },
   "outputs": [
    {
     "data": {
      "text/html": [
       "<div>\n",
       "<style scoped>\n",
       "    .dataframe tbody tr th:only-of-type {\n",
       "        vertical-align: middle;\n",
       "    }\n",
       "\n",
       "    .dataframe tbody tr th {\n",
       "        vertical-align: top;\n",
       "    }\n",
       "\n",
       "    .dataframe thead th {\n",
       "        text-align: right;\n",
       "    }\n",
       "</style>\n",
       "<table border=\"1\" class=\"dataframe\">\n",
       "  <thead>\n",
       "    <tr style=\"text-align: right;\">\n",
       "      <th></th>\n",
       "      <th>MedInc</th>\n",
       "      <th>HouseAge</th>\n",
       "      <th>AveRooms</th>\n",
       "      <th>AveBedrms</th>\n",
       "      <th>Population</th>\n",
       "      <th>AveOccup</th>\n",
       "      <th>Latitude</th>\n",
       "      <th>Longitude</th>\n",
       "    </tr>\n",
       "  </thead>\n",
       "  <tbody>\n",
       "    <tr>\n",
       "      <th>0</th>\n",
       "      <td>8.3252</td>\n",
       "      <td>41.0</td>\n",
       "      <td>6.984127</td>\n",
       "      <td>1.023810</td>\n",
       "      <td>322.0</td>\n",
       "      <td>2.555556</td>\n",
       "      <td>37.88</td>\n",
       "      <td>-122.23</td>\n",
       "    </tr>\n",
       "    <tr>\n",
       "      <th>1</th>\n",
       "      <td>8.3014</td>\n",
       "      <td>21.0</td>\n",
       "      <td>6.238137</td>\n",
       "      <td>0.971880</td>\n",
       "      <td>2401.0</td>\n",
       "      <td>2.109842</td>\n",
       "      <td>37.86</td>\n",
       "      <td>-122.22</td>\n",
       "    </tr>\n",
       "    <tr>\n",
       "      <th>2</th>\n",
       "      <td>7.2574</td>\n",
       "      <td>52.0</td>\n",
       "      <td>8.288136</td>\n",
       "      <td>1.073446</td>\n",
       "      <td>496.0</td>\n",
       "      <td>2.802260</td>\n",
       "      <td>37.85</td>\n",
       "      <td>-122.24</td>\n",
       "    </tr>\n",
       "    <tr>\n",
       "      <th>3</th>\n",
       "      <td>5.6431</td>\n",
       "      <td>52.0</td>\n",
       "      <td>5.817352</td>\n",
       "      <td>1.073059</td>\n",
       "      <td>558.0</td>\n",
       "      <td>2.547945</td>\n",
       "      <td>37.85</td>\n",
       "      <td>-122.25</td>\n",
       "    </tr>\n",
       "    <tr>\n",
       "      <th>4</th>\n",
       "      <td>3.8462</td>\n",
       "      <td>52.0</td>\n",
       "      <td>6.281853</td>\n",
       "      <td>1.081081</td>\n",
       "      <td>565.0</td>\n",
       "      <td>2.181467</td>\n",
       "      <td>37.85</td>\n",
       "      <td>-122.25</td>\n",
       "    </tr>\n",
       "  </tbody>\n",
       "</table>\n",
       "</div>"
      ],
      "text/plain": [
       "   MedInc  HouseAge  AveRooms  AveBedrms  Population  AveOccup  Latitude  \\\n",
       "0  8.3252      41.0  6.984127   1.023810       322.0  2.555556     37.88   \n",
       "1  8.3014      21.0  6.238137   0.971880      2401.0  2.109842     37.86   \n",
       "2  7.2574      52.0  8.288136   1.073446       496.0  2.802260     37.85   \n",
       "3  5.6431      52.0  5.817352   1.073059       558.0  2.547945     37.85   \n",
       "4  3.8462      52.0  6.281853   1.081081       565.0  2.181467     37.85   \n",
       "\n",
       "   Longitude  \n",
       "0    -122.23  \n",
       "1    -122.22  \n",
       "2    -122.24  \n",
       "3    -122.25  \n",
       "4    -122.25  "
      ]
     },
     "execution_count": 5,
     "metadata": {},
     "output_type": "execute_result"
    }
   ],
   "source": [
    "cali_df.head()"
   ]
  },
  {
   "cell_type": "code",
   "execution_count": 6,
   "metadata": {
    "ExecuteTime": {
     "end_time": "2020-06-08T09:33:17.958133Z",
     "start_time": "2020-06-08T09:33:17.938490Z"
    }
   },
   "outputs": [
    {
     "data": {
      "text/plain": [
       "MedInc           0\n",
       "HouseAge      1032\n",
       "AveRooms         0\n",
       "AveBedrms        0\n",
       "Population     103\n",
       "AveOccup       206\n",
       "Latitude         0\n",
       "Longitude        0\n",
       "dtype: int64"
      ]
     },
     "execution_count": 6,
     "metadata": {},
     "output_type": "execute_result"
    }
   ],
   "source": [
    "cali_df.isnull().sum()"
   ]
  },
  {
   "cell_type": "markdown",
   "metadata": {},
   "source": [
    "## Simple usage"
   ]
  },
  {
   "cell_type": "markdown",
   "metadata": {},
   "source": [
    "### Initialising ModeImputer"
   ]
  },
  {
   "cell_type": "code",
   "execution_count": 7,
   "metadata": {
    "ExecuteTime": {
     "end_time": "2020-06-08T09:33:17.973757Z",
     "start_time": "2020-06-08T09:33:17.958133Z"
    }
   },
   "outputs": [
    {
     "name": "stdout",
     "output_type": "stream",
     "text": [
      "BaseTransformer.__init__() called\n"
     ]
    }
   ],
   "source": [
    "imp_1 = ModeImputer(\n",
    "    columns=[\"HouseAge\", \"AveOccup\", \"Population\"], copy=True, verbose=True\n",
    ")"
   ]
  },
  {
   "cell_type": "markdown",
   "metadata": {
    "collapsed": true
   },
   "source": [
    "### ModeImputer fit\n",
    "The fit method must be run before the transform method. It computes the mode value from each of the specified columns. <br>\n",
    "The mode values are stored in an attribute called 'impute_values_'."
   ]
  },
  {
   "cell_type": "code",
   "execution_count": 8,
   "metadata": {
    "ExecuteTime": {
     "end_time": "2020-06-08T09:33:17.989509Z",
     "start_time": "2020-06-08T09:33:17.973757Z"
    }
   },
   "outputs": [
    {
     "name": "stdout",
     "output_type": "stream",
     "text": [
      "BaseTransformer.fit() called\n"
     ]
    },
    {
     "data": {
      "text/plain": [
       "ModeImputer(columns=['HouseAge', 'AveOccup', 'Population'])"
      ]
     },
     "execution_count": 8,
     "metadata": {},
     "output_type": "execute_result"
    }
   ],
   "source": [
    "imp_1.fit(cali_df)"
   ]
  },
  {
   "cell_type": "code",
   "execution_count": 9,
   "metadata": {
    "ExecuteTime": {
     "end_time": "2020-06-08T09:33:18.006178Z",
     "start_time": "2020-06-08T09:33:17.990547Z"
    }
   },
   "outputs": [
    {
     "data": {
      "text/plain": [
       "{'HouseAge': 52.0, 'AveOccup': 3.0, 'Population': 891.0}"
      ]
     },
     "execution_count": 9,
     "metadata": {},
     "output_type": "execute_result"
    }
   ],
   "source": [
    "imp_1.impute_values_"
   ]
  },
  {
   "cell_type": "code",
   "execution_count": 10,
   "metadata": {
    "ExecuteTime": {
     "end_time": "2020-06-08T09:33:18.021850Z",
     "start_time": "2020-06-08T09:33:18.006178Z"
    }
   },
   "outputs": [
    {
     "data": {
      "text/plain": [
       "HouseAge       52.0\n",
       "AveOccup        3.0\n",
       "Population    891.0\n",
       "Name: 0, dtype: float64"
      ]
     },
     "execution_count": 10,
     "metadata": {},
     "output_type": "execute_result"
    }
   ],
   "source": [
    "cali_df[[\"HouseAge\", \"AveOccup\", \"Population\"]].mode().iloc[0]"
   ]
  },
  {
   "cell_type": "markdown",
   "metadata": {},
   "source": [
    "### ModeImputer transform\n",
    "Multiple column mappings were specified when creating imp_1 so these columns will be imputed when the transform method is run."
   ]
  },
  {
   "cell_type": "code",
   "execution_count": 11,
   "metadata": {
    "ExecuteTime": {
     "end_time": "2020-06-08T09:33:18.037478Z",
     "start_time": "2020-06-08T09:33:18.021850Z"
    }
   },
   "outputs": [
    {
     "name": "stdout",
     "output_type": "stream",
     "text": [
      "BaseTransformer.transform() called\n"
     ]
    }
   ],
   "source": [
    "cali_df_2 = imp_1.transform(cali_df)"
   ]
  },
  {
   "cell_type": "code",
   "execution_count": 12,
   "metadata": {
    "ExecuteTime": {
     "end_time": "2020-06-08T09:33:18.057635Z",
     "start_time": "2020-06-08T09:33:18.040497Z"
    }
   },
   "outputs": [
    {
     "data": {
      "text/plain": [
       "HouseAge      0\n",
       "AveOccup      0\n",
       "Population    0\n",
       "dtype: int64"
      ]
     },
     "execution_count": 12,
     "metadata": {},
     "output_type": "execute_result"
    }
   ],
   "source": [
    "cali_df_2[[\"HouseAge\", \"AveOccup\", \"Population\"]].isnull().sum()"
   ]
  },
  {
   "cell_type": "code",
   "execution_count": 13,
   "metadata": {
    "ExecuteTime": {
     "end_time": "2020-06-08T09:33:18.088881Z",
     "start_time": "2020-06-08T09:33:18.057635Z"
    }
   },
   "outputs": [
    {
     "name": "stdout",
     "output_type": "stream",
     "text": [
      "HouseAge HouseAge    2247\n",
      "dtype: int64 \n",
      "\n",
      "AveOccup AveOccup    241\n",
      "dtype: int64 \n",
      "\n",
      "Population Population    128\n",
      "dtype: int64 \n",
      "\n"
     ]
    }
   ],
   "source": [
    "for x in [\"HouseAge\", \"AveOccup\", \"Population\"]:\n",
    "    print(x, (cali_df_2[[x]] == imp_1.impute_values_[x]).sum(), \"\\n\")"
   ]
  }
 ],
 "metadata": {
  "kernelspec": {
   "display_name": "Python 3 (ipykernel)",
   "language": "python",
   "name": "python3"
  },
  "language_info": {
   "codemirror_mode": {
    "name": "ipython",
    "version": 3
   },
   "file_extension": ".py",
   "mimetype": "text/x-python",
   "name": "python",
   "nbconvert_exporter": "python",
   "pygments_lexer": "ipython3",
   "version": "3.7.11"
  },
  "toc": {
   "base_numbering": 1,
   "nav_menu": {},
   "number_sections": true,
   "sideBar": true,
   "skip_h1_title": false,
   "title_cell": "Table of Contents",
   "title_sidebar": "Contents",
   "toc_cell": false,
   "toc_position": {},
   "toc_section_display": true,
   "toc_window_display": true
  }
 },
 "nbformat": 4,
 "nbformat_minor": 2
}
