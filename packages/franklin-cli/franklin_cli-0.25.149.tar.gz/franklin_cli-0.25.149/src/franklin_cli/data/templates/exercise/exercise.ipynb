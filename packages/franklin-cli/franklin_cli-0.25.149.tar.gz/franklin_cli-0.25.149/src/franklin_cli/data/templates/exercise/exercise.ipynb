{
 "cells": [
  {
   "cell_type": "markdown",
   "id": "07e51a87-7d15-4af4-bab4-6dcce62f6b4c",
   "metadata": {},
   "source": [
    "---\n",
    "title: Exercise Title\n",
    "---"
   ]
  },
  {
   "cell_type": "markdown",
   "id": "bb10b007",
   "metadata": {},
   "source": [
    "::: {.callout-note}\n",
    "## Educator: How to use this template\n",
    "\n",
    "This template presents some common data analysis patterns. Delete the stuff you do not need - except for the cell below. The cell below loads the `%franklin` magic, a utility designed to simplify the installation of packages and synchronize their addition to the Docker image (so do not delete it). Beginning each section below, you see callout boxes explaining how to use the `%franklin` magic to install/add the packages needed for using the section's code examples.\n",
    "\n",
    "Each code example is rendered as it would with all dependencies installed. If you want to run the code yourself, you must install the dependencies as described. **NB:** Do not add dependencies unless they are needed for the exercise as run by the students. Such excess dependencies unnecessarily increases the disk space take up by the exercise.\n",
    "\n",
    ":::"
   ]
  },
  {
   "cell_type": "code",
   "execution_count": null,
   "id": "c354767f",
   "metadata": {},
   "outputs": [],
   "source": [
    "%load_ext franklin_container.magic"
   ]
  },
  {
   "cell_type": "markdown",
   "id": "4e663497",
   "metadata": {},
   "source": [
    "## Markdown cell\n",
    "\n",
    "### Quick syntax reminder\n",
    "\n",
    "Some normal text with `verbatim`, *italic*, and **bold** words. \n",
    "\n",
    "An empty line begins a new paragraph like this one with an inline formula $x = \\log y^2$ and anohter displayed below.\n",
    "\n",
    "$$y = \\sum_{i=0}^n x_i $$\n",
    "\n",
    "\n",
    "```txt\n",
    "A block of\n",
    "verbatim text\n",
    "```\n",
    "\n",
    "A listing some Python code with markup for students to read:\n",
    "\n",
    "```python\n",
    "print('Hello world')\n",
    "```\n",
    "\n",
    "The code cell below is followed by a Markdown cell with a reveal, explaining the code."
   ]
  },
  {
   "cell_type": "code",
   "execution_count": null,
   "id": "acabf774",
   "metadata": {},
   "outputs": [],
   "source": [
    "print('Hello world')"
   ]
  },
  {
   "cell_type": "markdown",
   "id": "71bcb338",
   "metadata": {},
   "source": [
    "<details>\n",
    "<summary><small>Click have the code explained</small></summary>\n",
    "<!-- You can fill in any Markdown between this line -->\n",
    "\n",
    "The `print` function **prints** the string `'Hello world'` to the cell output.\n",
    "\n",
    "\n",
    "<!-- and this one. -->\n",
    "</details>"
   ]
  },
  {
   "cell_type": "markdown",
   "id": "bfde101f",
   "metadata": {},
   "source": [
    "::: {.callout-note}\n",
    "## Educator: collapsible code explanations\n",
    "\n",
    "As you can see in the cell above, markdown cells can also contain raw HTML code. In this case we use it to produce a collapsible explanation of a code block.\n",
    "\n",
    ":::"
   ]
  },
  {
   "cell_type": "markdown",
   "id": "b0a423fb",
   "metadata": {},
   "source": [
    "## Data analysis with Pandas"
   ]
  },
  {
   "cell_type": "markdown",
   "id": "2ad4e006",
   "metadata": {},
   "source": [
    "::: {.callout-note}\n",
    "## Educator: Dependencies\n",
    "\n",
    "The tutorial on [NumPy and Pandas](https://munch-group.org/franklin/pages/numpy_and_pandas.html) lists typical uses of this package. To be able to run the code, you need to add install the required dependencies and add them to the Docker image for the exercise. You do both at the same time by creating a code cell with just then then run it. Once run, the cell no longer serve any purpose and must be deleted so it is not part of the notebook once the students get it. Just like magicians never reveal their tricks, students should never see your `%franklin` magics.\n",
    "\n",
    "```txt\n",
    "%franklin pandas numpy\n",
    "```\n",
    "\n",
    ":::\n"
   ]
  },
  {
   "cell_type": "code",
   "execution_count": null,
   "id": "5200ce0c",
   "metadata": {},
   "outputs": [],
   "source": [
    "# import pandas as pd\n",
    "# import numpy as np"
   ]
  },
  {
   "cell_type": "markdown",
   "id": "e4eef856",
   "metadata": {},
   "source": [
    "## Plotting with Seaborn"
   ]
  },
  {
   "cell_type": "markdown",
   "id": "26e6a93b",
   "metadata": {},
   "source": [
    "::: {.callout-note}\n",
    "## Educator: Dependencies\n",
    "\n",
    "The tutorial on [Plotting](https://munch-group.org/franklin/pages/plotting.html) lists typical uses of this package. To be able to run the code, you need to add install the required dependencies and add them to the Docker image for the exercise. You do both at the same time by creating a code cell with just then then run it. Once run, the cell no longer serve any purpose and must be deleted so it is not part of the notebook once the students get it. Just like magicians never reveal their tricks, students should never see your `%franklin` magics.\n",
    "\n",
    "```txt\n",
    "%franklin seaborn matplotlib\n",
    "```\n",
    "\n",
    ":::"
   ]
  },
  {
   "cell_type": "code",
   "execution_count": null,
   "id": "3b32015b",
   "metadata": {},
   "outputs": [],
   "source": [
    "# import seaborn as sns\n",
    "# import matplotlib.pyplot as plt"
   ]
  },
  {
   "cell_type": "markdown",
   "id": "cced6e63",
   "metadata": {},
   "source": [
    "## Plotting widget"
   ]
  },
  {
   "cell_type": "markdown",
   "id": "451c46c8",
   "metadata": {},
   "source": [
    "::: {.callout-note}\n",
    "## Educator: Dependencies\n",
    "\n",
    "The tutorial on [Widgets](https://munch-group.org/franklin/pages/widgets.html) lists typical uses of this package. To be able to run the code, you need to add install the required dependencies and add them to the Docker image for the exercise. You do both at the same time by creating a code cell with just then then run it. Once run, the cell no longer serve any purpose and must be deleted so it is not part of the notebook once the students get it. Just like magicians never reveal their tricks, students should never see your `%franklin` magics.\n",
    "\n",
    "```txt\n",
    "%franklin iplot\n",
    "```\n",
    "\n",
    ":::"
   ]
  },
  {
   "cell_type": "code",
   "execution_count": null,
   "id": "d731dc47",
   "metadata": {},
   "outputs": [],
   "source": [
    "# from iplot import iplot\n",
    "\n",
    "# data = sns.load_dataset('penguins')\n",
    "# iplot(data)"
   ]
  }
 ],
 "metadata": {
  "kernelspec": {
   "display_name": "Python 3 (ipykernel)",
   "language": "python",
   "name": "python3"
  },
  "language_info": {
   "codemirror_mode": {
    "name": "ipython",
    "version": 3
   },
   "file_extension": ".py",
   "mimetype": "text/x-python",
   "name": "python",
   "nbconvert_exporter": "python",
   "pygments_lexer": "ipython3",
   "version": "3.13.2"
  },
  "widgets": {
   "application/vnd.jupyter.widget-state+json": {
    "state": {},
    "version_major": 2,
    "version_minor": 0
   }
  }
 },
 "nbformat": 4,
 "nbformat_minor": 5
}
