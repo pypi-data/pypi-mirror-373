{
 "cells": [
  {
   "cell_type": "code",
   "execution_count": 26,
   "id": "ef9ef6b1-b233-4871-b86c-2417cc59ab7e",
   "metadata": {},
   "outputs": [],
   "source": [
    "import polars as pl\n",
    "from spatial_filtering import arrays, constants, direction_of_arrival\n",
    "import importlib\n",
    "\n",
    "importlib.reload(arrays)\n",
    "importlib.reload(constants)\n",
    "importlib.reload(direction_of_arrival)\n",
    "\n",
    "meerkat_pos = pl.read_excel('meerkat positions.xlsx')\n",
    "meerkat_pos = meerkat_pos.with_columns(distance_from_center_m=(pl.col('East')**2 + pl.col('North')**2 + pl.col('Up')**2).sqrt())\n",
    "meerkat_pos_core = meerkat_pos.filter(pl.col('distance_from_center_m') < 750)\n",
    "core_indices = [int(r[-2:]) for r in meerkat_pos_core['Antenna'].to_list()]\n",
    "data_np = meerkat_pos_core[['East', 'North', 'Up']].to_numpy()\n",
    "\n",
    "from spatial_filtering.arrays import Array\n",
    "import numpy as np\n",
    "\n",
    "array = arrays.Array(data_np)\n",
    "N = array.num_antennas\n",
    "f = 1.227574219e9              # Frequency 1.2276 GHz GPS L2 band.\n",
    "wavelength = constants.c / f\n",
    "snapshots = 2000\n"
   ]
  },
  {
   "cell_type": "code",
   "execution_count": 211,
   "id": "3c02d5ed-11f6-4d3b-a5fc-65ff24138d87",
   "metadata": {},
   "outputs": [
    {
     "name": "stdout",
     "output_type": "stream",
     "text": [
      "{'HEADER': 'DADA', 'HDR_VERSION': '1.0', 'HDR_SIZE': 4096, 'DADA_VERSION': '1.0', 'OBS_ID': 'None', 'FILE_SIZE': '3048214528', 'FILE_NUMBER': '0', 'UTC_START': '1708082482.092702505', 'MJD_START': '60356.47317236924195', 'OBS_OFFSET': '0', 'OBS_OVERLAP': '0', 'SOURCE': 'J1644-4559_Offset1', 'RA': '16:44:26.25', 'DEC': '-45:59:09.6', 'TELESCOPE': 'MeerKAT', 'INSTRUMENT': 'CBF-Feng', 'RECEIVER': 'L-band', 'FREQ': '1284000000.000000', 'BW': '856000000.000000', 'TSAMP': '4.7850467290', 'BYTES_PER_SECOND': '3424000000.000000', 'NBIT': 8, 'NDIM': 2, 'NPOL': 2, 'NCHAN': 64, 'NANT': 57, 'ORDER': 'TAFTP', 'INNER_T': 256, 'SYNC_TIME': '1708039531.000000', 'SAMPLE_CLOCK': '1712000000.000000', 'SAMPLE_CLOCK_START': '73532270706688', 'CHAN0_IDX': 1728, 'Lowest_freq (MHz)': 1217.125}\n"
     ]
    }
   ],
   "source": [
    "from dadanalyse import read_dada\n",
    "GPS_CHANNEL = 50\n",
    "POL = 1 \n",
    "# J1644-4559_2024-02-16T11:21:22.092_29_73532270706688.dada\n",
    "dada = read_dada(\"../../../data/gps.dada\")\n",
    "print(dada.get_header())\n",
    "dada = dada.combined_data()\n",
    "\n"
   ]
  },
  {
   "cell_type": "code",
   "execution_count": 212,
   "id": "79acee3d-8793-4e04-834e-581fe729055f",
   "metadata": {},
   "outputs": [
    {
     "data": {
      "text/plain": [
       "array([ 0.28936544-0.9572187j , -0.38367628+0.92346765j,\n",
       "       -0.8083881 -0.58864988j,  0.89296643+0.45012327j,\n",
       "        0.63408678+0.77326189j, -0.54450583-0.83875706j,\n",
       "       -0.71451342+0.69962174j,  0.99988422-0.01521692j,\n",
       "        0.12862974+0.99169269j, -0.99080042+0.13533121j,\n",
       "        0.3375557 +0.94130556j, -0.91359294+0.40662998j,\n",
       "        0.22982853+0.97323114j, -0.9492535 +0.31451198j,\n",
       "        0.37860534-0.92555821j,  0.70924556+0.70496152j,\n",
       "        0.77494962-0.63202301j, -0.48599853+0.87395963j,\n",
       "        0.99237859-0.12322637j,  0.06867479-0.9976391j ,\n",
       "       -0.94016331-0.34072417j,  0.07684229-0.99704326j,\n",
       "        0.67667242-0.73628421j,  0.94554284+0.32549769j,\n",
       "        0.53298596+0.84612409j,  0.01641594+0.99986525j,\n",
       "        0.77013833+0.63787691j, -0.99937132+0.0354537j ,\n",
       "       -0.11375228-0.99350914j, -0.98203582+0.1886946j ,\n",
       "        0.32209399+0.94670769j, -0.86295217+0.50528561j,\n",
       "        0.50018058-0.86592112j, -0.07006181+0.99754265j,\n",
       "        0.65739175-0.753549j  , -0.14607839-0.98927302j,\n",
       "        0.54799961+0.83647859j,  0.86667295+0.49887674j,\n",
       "        0.9383332 +0.34573227j, -0.95880232-0.28407413j,\n",
       "       -0.06597668+0.99782117j,  0.27171002+0.96237917j,\n",
       "       -0.94045429+0.33992018j])"
      ]
     },
     "execution_count": 212,
     "metadata": {},
     "output_type": "execute_result"
    }
   ],
   "source": [
    "array.steering_vector([0,0], wavelength)"
   ]
  },
  {
   "cell_type": "code",
   "execution_count": 213,
   "id": "8e33365b-0d94-43f4-9c01-2d0372434b99",
   "metadata": {},
   "outputs": [
    {
     "data": {
      "text/plain": [
       "(208896, 57, 64, 2)"
      ]
     },
     "execution_count": 213,
     "metadata": {},
     "output_type": "execute_result"
    }
   ],
   "source": [
    "dada.shape"
   ]
  },
  {
   "cell_type": "code",
   "execution_count": 214,
   "id": "5bb9ee2d-e0a1-48a4-a4e8-0e18dd8fc657",
   "metadata": {},
   "outputs": [],
   "source": [
    "dada = dada[0:2000, core_indices, GPS_CHANNEL, POL].T\n",
    "X = dada"
   ]
  },
  {
   "cell_type": "code",
   "execution_count": 6,
   "id": "b4f32feb-1a6b-4a61-b720-8d0d41806570",
   "metadata": {},
   "outputs": [
    {
     "name": "stderr",
     "output_type": "stream",
     "text": [
      "/var/folders/vv/d9ncb4ms2x1gl0mmkrvk8m7c0000gp/T/ipykernel_9853/1887256366.py:12: DeprecationWarning: datetime.datetime.utcfromtimestamp() is deprecated and scheduled for removal in a future version. Use timezone-aware objects to represent datetimes in UTC: datetime.datetime.fromtimestamp(timestamp, datetime.UTC).\n",
      "  dt = datetime.utcfromtimestamp(timestamp)\n"
     ]
    },
    {
     "data": {
      "text/plain": [
       "datetime.datetime(2024, 2, 16, 11, 21, 22, 92702)"
      ]
     },
     "execution_count": 6,
     "metadata": {},
     "output_type": "execute_result"
    }
   ],
   "source": [
    "from skyfield.api import load, Topos, EarthSatellite\n",
    "from datetime import datetime\n",
    "import numpy as np\n",
    "\n",
    "# Location: MeerKAT Telescope (converted to decimal degrees)\n",
    "lat = -30.71106\n",
    "lon = 21.44389\n",
    "elevation_m = 1086.6\n",
    "\n",
    "# Time: Convert UNIX timestamp to UTC\n",
    "timestamp = 1708082482.092702505\n",
    "dt = datetime.utcfromtimestamp(timestamp)\n",
    "dt"
   ]
  },
  {
   "cell_type": "code",
   "execution_count": 230,
   "id": "4e649237-1835-4a5d-adf0-bd278975838c",
   "metadata": {},
   "outputs": [],
   "source": [
    "array_factor = array.steering_vector([np.deg2rad(220.66994094517895), np.deg2rad(65.97484924086021)], wavelength)\n",
    "#X = X.T\n",
    "X_adj = X.copy()\n",
    "for i, shift in enumerate(array_factor):\n",
    "    X_adj[i, :] = X_adj[i, :] * array_factor[i].conj()\n",
    "\n",
    "R = X @ X.conj().T / (N-1)\n",
    "R_adj = X_adj @ X_adj.conj().T / (N-1)"
   ]
  },
  {
   "cell_type": "code",
   "execution_count": 231,
   "id": "514d7d3a-5188-4a22-b232-43ff7c7b4e8b",
   "metadata": {},
   "outputs": [
    {
     "data": {
      "text/plain": [
       "array([[ 22.959665 +8.0531855e+00j,  27.45773  -4.6990139e+01j,\n",
       "         24.20182  +1.8419334e+01j, ...,   6.4681816-8.0101576e+00j,\n",
       "         11.822832 -4.4634300e+01j, -31.098295 -1.9618767e+01j],\n",
       "       [  6.3426657-8.9872465e+00j,  31.764166 -1.5525392e+01j,\n",
       "         22.106506 +3.3618958e+00j, ...,  -7.689391 -2.9788032e+00j,\n",
       "          8.985279 -1.4465986e+01j,  -5.9146366-3.8444988e+01j],\n",
       "       [ -8.461606 -8.0871019e+00j,  30.669937 -2.2568893e+01j,\n",
       "         34.34584  +6.3532047e+00j, ..., -27.007862 +2.4177994e+01j,\n",
       "          3.3015137-5.9716831e+01j,  -3.8424134+3.7730439e+00j],\n",
       "       ...,\n",
       "       [-21.327545 -8.6680899e+00j,   6.315111 -3.7803696e+01j,\n",
       "          8.90452  +1.1777500e+01j, ..., -39.88571  -1.7692107e+00j,\n",
       "         12.110221 -3.8449219e+01j, -45.382633 -1.8585388e+01j],\n",
       "       [ 19.063509 +4.5973717e+01j,   1.9999981-2.7620457e-03j,\n",
       "         13.998606 -1.0193334e+00j, ...,  35.01654  +1.1951653e+01j,\n",
       "         22.020695 +1.4969604e+01j, -29.97097  +2.1041410e+01j],\n",
       "       [  5.570219 +5.1935205e+00j, -40.232265 +2.5228627e+00j,\n",
       "          4.5152936-3.0259083e+01j, ...,  19.005466 -1.4415002e+01j,\n",
       "          5.0051713-1.0952089e+01j,  30.447433 +9.8971634e+00j]],\n",
       "      shape=(43, 2000), dtype=complex64)"
      ]
     },
     "execution_count": 231,
     "metadata": {},
     "output_type": "execute_result"
    }
   ],
   "source": [
    "X_adj"
   ]
  },
  {
   "cell_type": "code",
   "execution_count": 232,
   "id": "0f2054a7-2d13-49dc-853e-3d36e8ee93d0",
   "metadata": {},
   "outputs": [
    {
     "data": {
      "text/plain": [
       "array([ 0.98521064-0.1713476j , -0.81702237+0.57660597j,\n",
       "        0.91551881-0.40227516j, -0.97013456+0.24256737j,\n",
       "       -0.87409142-0.48576146j, -0.98936311-0.14546695j,\n",
       "        0.73548116-0.67754518j,  0.92245159-0.38611276j,\n",
       "        0.35741329+0.93394633j, -0.97816871+0.20781234j,\n",
       "       -0.76481695-0.64424765j,  0.07071357+0.99749666j,\n",
       "        0.52870965+0.84880275j,  0.57490302+0.81822156j,\n",
       "        0.99564738+0.09320028j,  0.46626122+0.88464709j,\n",
       "        0.92972319+0.36825914j, -0.15314914-0.98820309j,\n",
       "       -0.00585464-0.99998286j, -0.9960426 +0.08887707j,\n",
       "       -0.81955951+0.57299407j, -0.05844499+0.99829063j,\n",
       "        0.24214976-0.97023888j,  0.00741343-0.99997252j,\n",
       "        0.85806616-0.51353916j,  0.03638833+0.99933773j,\n",
       "       -0.5335527 +0.84576682j, -0.54947241-0.83551186j,\n",
       "       -0.74067205-0.67186673j,  0.61706576-0.78691159j,\n",
       "       -0.99856655+0.05352428j, -0.98952302-0.14437517j,\n",
       "        0.98706133+0.16034317j,  0.9053115 +0.42474826j,\n",
       "       -0.60712774+0.79460425j, -0.4908007 -0.87127187j,\n",
       "        0.9728426 -0.23146765j,  0.79148688+0.61118616j,\n",
       "        0.15241947-0.98831589j,  0.77361071+0.63366116j,\n",
       "        0.90918013-0.41640304j,  0.00138102-0.99999905j,\n",
       "       -0.33868943-0.94089822j])"
      ]
     },
     "execution_count": 232,
     "metadata": {},
     "output_type": "execute_result"
    }
   ],
   "source": [
    "array_factor"
   ]
  },
  {
   "cell_type": "code",
   "execution_count": 233,
   "id": "ab16bdd1-077a-4aa9-8553-91a9bf9d3f8c",
   "metadata": {},
   "outputs": [
    {
     "data": {
      "text/plain": [
       "array([[44985.168    +0.j    , -1459.5714-5582.095j ,\n",
       "         3569.9763+3302.238j , ...,  2061.7144+5717.2383j,\n",
       "        -1153.7144-4108.262j ,  3663.786  -374.5j   ],\n",
       "       [-1459.5714+5582.095j , 42051.       +0.j    ,\n",
       "        -3400.6428+1791.9048j, ..., -2518.0952 -918.6905j,\n",
       "         4717.905 +3536.2383j, -1269.5952+4113.1904j],\n",
       "       [ 3569.9763-3302.238j , -3400.6428-1791.9048j,\n",
       "        47091.336    +0.j    , ...,  7553.595 -2686.6428j,\n",
       "        -3954.3096-2637.4287j, -1480.9286-4906.024j ],\n",
       "       ...,\n",
       "       [ 2061.7144-5717.2383j, -2518.0952 +918.6905j,\n",
       "         7553.595 +2686.6428j, ..., 47223.836    +0.j    ,\n",
       "        -5985.643  -355.6905j,  -861.5238-6947.2856j],\n",
       "       [-1153.7144+4108.262j ,  4717.905 -3536.2383j,\n",
       "        -3954.3096+2637.4287j, ..., -5985.643  +355.6905j,\n",
       "        44721.383    +0.j    ,  1339.1906+5939.262j ],\n",
       "       [ 3663.786  +374.5j   , -1269.5952-4113.1904j,\n",
       "        -1480.9286+4906.024j , ...,  -861.5238+6947.2856j,\n",
       "         1339.1906-5939.262j , 41712.07     +0.j    ]],\n",
       "      shape=(43, 43), dtype=complex64)"
      ]
     },
     "execution_count": 233,
     "metadata": {},
     "output_type": "execute_result"
    }
   ],
   "source": [
    "import numpy as np\n",
    "\n",
    "evals, evecs = np.linalg.eigh(R)\n",
    "R"
   ]
  },
  {
   "cell_type": "code",
   "execution_count": 234,
   "id": "7f82623f-9e25-4c53-a3c0-98d3e8bcf8c6",
   "metadata": {},
   "outputs": [
    {
     "data": {
      "text/plain": [
       "array([[44985.223  -2.6381115e-04j,  3708.6797 +4.4199419e+03j,\n",
       "         4256.8506 +2.3513235e+03j, ...,  3448.6538 +5.0044272e+03j,\n",
       "        -4245.786  +4.2684729e+02j, -1000.74445-3.5443022e+03j],\n",
       "       [ 3708.6797 -4.4199414e+03j, 42050.99   +1.7336206e-04j,\n",
       "         3689.4648 -1.0784878e+03j, ...,  2306.0237 +1.3664003e+03j,\n",
       "        -5612.0605 +1.8078691e+03j, -3627.7468 -2.3172529e+03j],\n",
       "       [ 4256.8506 -2.3513250e+03j,  3689.4648 +1.0784866e+03j,\n",
       "        47091.32   -5.4255637e-05j, ...,  7511.088  -2.8032834e+03j,\n",
       "        -4008.867  +2.5537388e+03j, -4995.8564 +1.1417706e+03j],\n",
       "       ...,\n",
       "       [ 3448.653  -5.0044277e+03j,  2306.025  -1.3664006e+03j,\n",
       "         7511.0723 +2.8032834e+03j, ..., 47223.836  +1.1625744e-05j,\n",
       "        -2823.1343 +5.2900215e+03j, -6995.0635 +2.7586703e+02j],\n",
       "       [-4245.776  -4.2684763e+02j, -5612.058  -1.8078730e+03j,\n",
       "        -4008.8699 -2.5537415e+03j, ..., -2823.1343 -5.2900220e+03j,\n",
       "        44721.375  +0.0000000e+00j,  3278.695  +5.1301470e+03j],\n",
       "       [-1000.74414+3.5443018e+03j, -3627.7485 +2.3172571e+03j,\n",
       "        -4995.8506 -1.1417708e+03j, ..., -6995.0635 -2.7586703e+02j,\n",
       "         3278.695  -5.1301470e+03j, 41712.07   +0.0000000e+00j]],\n",
       "      shape=(43, 43), dtype=complex64)"
      ]
     },
     "execution_count": 234,
     "metadata": {},
     "output_type": "execute_result"
    }
   ],
   "source": [
    "R_adj"
   ]
  },
  {
   "cell_type": "code",
   "execution_count": 235,
   "id": "5677aef5-f22b-41d4-be72-1107d883a79e",
   "metadata": {},
   "outputs": [],
   "source": [
    "\n",
    "\n",
    "theta_steps = 180 * 4\n",
    "phi_steps = 360 * 4\n",
    "\n",
    "output = direction_of_arrival.MUSICDOA2D().get_directions(\n",
    "    array,\n",
    "    R_adj, \n",
    "    num_interferers=5,\n",
    "    wavelength = wavelength,\n",
    "    theta_min_deg = 0,\n",
    "    theta_max_deg = 90,\n",
    "    theta_steps=theta_steps,\n",
    "    phi_min_deg = 0,\n",
    "    phi_max_deg = 360,\n",
    "    phi_steps=phi_steps,\n",
    ")"
   ]
  },
  {
   "cell_type": "code",
   "execution_count": 236,
   "id": "5b977f91-7bba-4f37-84fb-d8d1da812f2e",
   "metadata": {},
   "outputs": [
    {
     "data": {
      "text/html": [
       "<iframe\n",
       "    scrolling=\"no\"\n",
       "    width=\"100%\"\n",
       "    height=\"545px\"\n",
       "    src=\"iframe_figures/figure_236.html\"\n",
       "    frameborder=\"0\"\n",
       "    allowfullscreen\n",
       "></iframe>\n"
      ]
     },
     "metadata": {},
     "output_type": "display_data"
    }
   ],
   "source": [
    "\n",
    "import plotly.express as px\n",
    "\n",
    "import plotly.io as pio\n",
    "pio.renderers.default = 'iframe'  \n",
    "\n",
    "# Filter top 1% Q values (adjust as needed)\n",
    "threshold = output['Q'].quantile(0.999975)\n",
    "high_Q = output.filter(pl.col('Q') >= threshold)\n",
    "\n",
    "# Create 3D scatter plot\n",
    "fig = px.scatter_3d(\n",
    "    high_Q,\n",
    "    x='theta',  # azimuth\n",
    "    y='phi',      # range\n",
    "    z='Q',      # MUSIC power\n",
    "    color='Q',\n",
    "    color_continuous_scale='Jet',\n",
    "    opacity=0.8\n",
    ")\n",
    "\n",
    "# Update layout for better visuals\n",
    "fig.update_layout(\n",
    "    title='High-Q MUSIC Spectrum Peaks',\n",
    "    scene=dict(\n",
    "        xaxis_title='Angle (degrees)',\n",
    "        yaxis_title='Phi (degrees)',\n",
    "        zaxis_title='Q (dB)'\n",
    "    )\n",
    ")\n",
    "\n",
    "fig.show()"
   ]
  },
  {
   "cell_type": "markdown",
   "id": "1f03546b-debd-4ff4-9a06-d4a71d9cda06",
   "metadata": {},
   "source": [
    "The MJD I want is 60356.47317236924195\n",
    "\n",
    "\n"
   ]
  },
  {
   "cell_type": "code",
   "execution_count": 159,
   "id": "3fd4f139-fb8b-42c7-ba96-187a0eea5d77",
   "metadata": {},
   "outputs": [
    {
     "name": "stdout",
     "output_type": "stream",
     "text": [
      "Loaded 54 satellites\n"
     ]
    }
   ],
   "source": [
    "from skyfield.api import load, EarthSatellite\n",
    "from skyfield.iokit import parse_tle_file\n",
    "import json\n",
    "ts = load.timescale()\n",
    "\n",
    "with load.open('gp2_2.tle') as f:\n",
    "    data = json.load(f)\n",
    "\n",
    "ts = load.timescale()\n",
    "sats = [EarthSatellite.from_omm(ts, fields) for fields in data]\n",
    "\n",
    "print('Loaded', len(data), 'satellites')"
   ]
  },
  {
   "cell_type": "code",
   "execution_count": 200,
   "id": "38f45a71-5241-4f47-9d4a-d88fd1de11db",
   "metadata": {},
   "outputs": [
    {
     "name": "stdout",
     "output_type": "stream",
     "text": [
      "Source RA/DEC\n",
      "Altitude: 24.0252 deg\n",
      "Azimuth: 229.3301 deg\n",
      "Source Theta / Phi\n",
      "Theta: 65.97484924086021\n",
      "Phi: 220.66994094517895\n"
     ]
    }
   ],
   "source": [
    "from astropy.coordinates import SkyCoord, EarthLocation, AltAz\n",
    "from astropy.time import Time\n",
    "import astropy.units as u\n",
    "\n",
    "# Observer location (MeerKAT)\n",
    "location = EarthLocation(lat=-30.71106*u.deg,\n",
    "                         lon=21.44389*u.deg,\n",
    "                         height=1086.6*u.m)\n",
    "\n",
    "# Time of observation (UTC)\n",
    "obstime = Time('2024-02-16 11:21:22')\n",
    "\n",
    "# RA/DEC coordinates\n",
    "ra_str = '16:44:26.25'\n",
    "dec_str = '-45:59:09.6'\n",
    "\n",
    "# Create SkyCoord object in ICRS (equatorial)\n",
    "sky_coord = SkyCoord(ra=ra_str, dec=dec_str, unit=(u.hourangle, u.deg), frame='icrs')\n",
    "\n",
    "# Create AltAz frame at observer location and time\n",
    "altaz_frame = AltAz(obstime=obstime, location=location)\n",
    "\n",
    "# Transform RA/DEC to AltAz\n",
    "altaz = sky_coord.transform_to(altaz_frame)\n",
    "\n",
    "# Output altitude and azimuth\n",
    "print(\"Source RA/DEC\")\n",
    "print(f\"Altitude: {altaz.alt:.4f}\")\n",
    "print(f\"Azimuth: {altaz.az:.4f}\")\n",
    "\n",
    "print(\"Source Theta / Phi\")\n",
    "print(f\"Theta: {90 - altaz.alt.degree}\")\n",
    "print(f\"Phi: {(90 - altaz.az.degree) % 360}\")"
   ]
  },
  {
   "cell_type": "code",
   "execution_count": 208,
   "id": "1b7c801d-d7b9-4feb-8473-db79421f857c",
   "metadata": {},
   "outputs": [
    {
     "name": "stdout",
     "output_type": "stream",
     "text": [
      "10\n"
     ]
    },
    {
     "data": {
      "text/html": [
       "<div><style>\n",
       ".dataframe > thead > tr,\n",
       ".dataframe > tbody > tr {\n",
       "  text-align: right;\n",
       "  white-space: pre-wrap;\n",
       "}\n",
       "</style>\n",
       "<small>shape: (10, 5)</small><table border=\"1\" class=\"dataframe\"><thead><tr><th>name</th><th>alt</th><th>az</th><th>theta</th><th>phi</th></tr><tr><td>str</td><td>f64</td><td>f64</td><td>f64</td><td>f64</td></tr></thead><tbody><tr><td>&quot;NAVSTAR 69 (USA 248)&quot;</td><td>4.096493</td><td>141.102433</td><td>85.903507</td><td>-51.102433</td></tr><tr><td>&quot;NAVSTAR 81 (USA 319)&quot;</td><td>8.048966</td><td>45.01476</td><td>81.951034</td><td>44.98524</td></tr><tr><td>&quot;NAVSTAR 47 (USA 150)&quot;</td><td>16.642376</td><td>91.633704</td><td>73.357624</td><td>-1.633704</td></tr><tr><td>&quot;NAVSTAR 79 (USA 304)&quot;</td><td>22.556092</td><td>245.454394</td><td>67.443908</td><td>-155.454394</td></tr><tr><td>&quot;NAVSTAR 67 (USA 239)&quot;</td><td>36.857815</td><td>20.403034</td><td>53.142185</td><td>69.596966</td></tr><tr><td>&quot;NAVSTAR 61 (USA 199)&quot;</td><td>37.980936</td><td>309.60797</td><td>52.019064</td><td>-219.60797</td></tr><tr><td>&quot;NAVSTAR 64 (USA 206)&quot;</td><td>44.369909</td><td>123.403165</td><td>45.630091</td><td>-33.403165</td></tr><tr><td>&quot;NAVSTAR 78 (USA 293)&quot;</td><td>45.372665</td><td>219.380969</td><td>44.627335</td><td>-129.380969</td></tr><tr><td>&quot;NAVSTAR 43 (USA 132)&quot;</td><td>49.903986</td><td>140.065598</td><td>40.096014</td><td>-50.065598</td></tr><tr><td>&quot;NAVSTAR 60 (USA 196)&quot;</td><td>76.956355</td><td>197.642354</td><td>13.043645</td><td>-107.642354</td></tr></tbody></table></div>"
      ],
      "text/plain": [
       "shape: (10, 5)\n",
       "┌──────────────────────┬───────────┬────────────┬───────────┬─────────────┐\n",
       "│ name                 ┆ alt       ┆ az         ┆ theta     ┆ phi         │\n",
       "│ ---                  ┆ ---       ┆ ---        ┆ ---       ┆ ---         │\n",
       "│ str                  ┆ f64       ┆ f64        ┆ f64       ┆ f64         │\n",
       "╞══════════════════════╪═══════════╪════════════╪═══════════╪═════════════╡\n",
       "│ NAVSTAR 69 (USA 248) ┆ 4.096493  ┆ 141.102433 ┆ 85.903507 ┆ -51.102433  │\n",
       "│ NAVSTAR 81 (USA 319) ┆ 8.048966  ┆ 45.01476   ┆ 81.951034 ┆ 44.98524    │\n",
       "│ NAVSTAR 47 (USA 150) ┆ 16.642376 ┆ 91.633704  ┆ 73.357624 ┆ -1.633704   │\n",
       "│ NAVSTAR 79 (USA 304) ┆ 22.556092 ┆ 245.454394 ┆ 67.443908 ┆ -155.454394 │\n",
       "│ NAVSTAR 67 (USA 239) ┆ 36.857815 ┆ 20.403034  ┆ 53.142185 ┆ 69.596966   │\n",
       "│ NAVSTAR 61 (USA 199) ┆ 37.980936 ┆ 309.60797  ┆ 52.019064 ┆ -219.60797  │\n",
       "│ NAVSTAR 64 (USA 206) ┆ 44.369909 ┆ 123.403165 ┆ 45.630091 ┆ -33.403165  │\n",
       "│ NAVSTAR 78 (USA 293) ┆ 45.372665 ┆ 219.380969 ┆ 44.627335 ┆ -129.380969 │\n",
       "│ NAVSTAR 43 (USA 132) ┆ 49.903986 ┆ 140.065598 ┆ 40.096014 ┆ -50.065598  │\n",
       "│ NAVSTAR 60 (USA 196) ┆ 76.956355 ┆ 197.642354 ┆ 13.043645 ┆ -107.642354 │\n",
       "└──────────────────────┴───────────┴────────────┴───────────┴─────────────┘"
      ]
     },
     "execution_count": 208,
     "metadata": {},
     "output_type": "execute_result"
    }
   ],
   "source": [
    "from skyfield.api import wgs84, Topos\n",
    "\n",
    "meerkat = Topos(latitude_degrees=-30.71106,\n",
    "                longitude_degrees=21.44389,\n",
    "                elevation_m= 1086.6)\n",
    "\n",
    "obs_site = meerkat\n",
    "t_obs = ts.utc(2024, 2, 16, 11, 21, 22)\n",
    "sats_visible = []\n",
    "sats_processed = set()\n",
    "\n",
    "for satellite in sats:\n",
    "    # There are some duplicate TLEs - don't worry about this.\n",
    "    # any of them should give essentially the same result.\n",
    "    if satellite.name in sats_processed:\n",
    "        continue\n",
    "    event_dict = {}\n",
    "    event_dict['name'] = satellite.name\n",
    "\n",
    "    topocentric = (satellite - obs_site).at(t_obs)\n",
    "    alt, az, _ = topocentric.altaz()\n",
    "    event_dict['alt'] = alt.degrees\n",
    "    event_dict['az'] = az.degrees\n",
    "    if alt.degrees > 0:\n",
    "        sats_visible.append(event_dict)\n",
    "    sats_processed.add(satellite.name)\n",
    "\n",
    "df = pl.from_records(sats_visible)\n",
    "#df.write_excel('sats.xlsx')\n",
    "#len(sats_processed)\n",
    "print(len(sats_visible))\n",
    "df.with_columns(theta=pl.lit(90) - pl.col('alt'), phi=(pl.lit(90) - pl.col('az'))).sort(by=\"alt\", descending=False)\n"
   ]
  },
  {
   "cell_type": "code",
   "execution_count": 209,
   "id": "71475ad9-6d84-4ad2-bdeb-b3c7d72991bb",
   "metadata": {},
   "outputs": [
    {
     "data": {
      "text/html": [
       "<div><style>\n",
       ".dataframe > thead > tr,\n",
       ".dataframe > tbody > tr {\n",
       "  text-align: right;\n",
       "  white-space: pre-wrap;\n",
       "}\n",
       "</style>\n",
       "<small>shape: (10, 5)</small><table border=\"1\" class=\"dataframe\"><thead><tr><th>phi</th><th>theta</th><th>Q</th><th>dist_from_theta</th><th>dist_from_phi</th></tr><tr><td>f64</td><td>f64</td><td>f64</td><td>f64</td><td>f64</td></tr></thead><tbody><tr><td>262.182071</td><td>77.732962</td><td>0.0</td><td>12.267038</td><td>187.817929</td></tr><tr><td>189.881862</td><td>5.006954</td><td>-0.02927</td><td>84.993046</td><td>260.118138</td></tr><tr><td>31.772064</td><td>12.01669</td><td>-0.123808</td><td>77.98331</td><td>58.227936</td></tr><tr><td>299.207783</td><td>22.906815</td><td>-0.225441</td><td>67.093185</td><td>150.792217</td></tr><tr><td>331.230021</td><td>74.353268</td><td>-0.304817</td><td>15.646732</td><td>118.769979</td></tr><tr><td>197.136901</td><td>12.392211</td><td>-0.347596</td><td>77.607789</td><td>252.863099</td></tr><tr><td>265.184156</td><td>67.969402</td><td>-0.404166</td><td>22.030598</td><td>184.815844</td></tr><tr><td>13.259208</td><td>5.757997</td><td>-0.410941</td><td>84.242003</td><td>76.740792</td></tr><tr><td>70.799166</td><td>56.328234</td><td>-0.411669</td><td>33.671766</td><td>19.200834</td></tr><tr><td>11.007644</td><td>58.205841</td><td>-0.416105</td><td>31.794159</td><td>78.992356</td></tr></tbody></table></div>"
      ],
      "text/plain": [
       "shape: (10, 5)\n",
       "┌────────────┬───────────┬───────────┬─────────────────┬───────────────┐\n",
       "│ phi        ┆ theta     ┆ Q         ┆ dist_from_theta ┆ dist_from_phi │\n",
       "│ ---        ┆ ---       ┆ ---       ┆ ---             ┆ ---           │\n",
       "│ f64        ┆ f64       ┆ f64       ┆ f64             ┆ f64           │\n",
       "╞════════════╪═══════════╪═══════════╪═════════════════╪═══════════════╡\n",
       "│ 262.182071 ┆ 77.732962 ┆ 0.0       ┆ 12.267038       ┆ 187.817929    │\n",
       "│ 189.881862 ┆ 5.006954  ┆ -0.02927  ┆ 84.993046       ┆ 260.118138    │\n",
       "│ 31.772064  ┆ 12.01669  ┆ -0.123808 ┆ 77.98331        ┆ 58.227936     │\n",
       "│ 299.207783 ┆ 22.906815 ┆ -0.225441 ┆ 67.093185       ┆ 150.792217    │\n",
       "│ 331.230021 ┆ 74.353268 ┆ -0.304817 ┆ 15.646732       ┆ 118.769979    │\n",
       "│ 197.136901 ┆ 12.392211 ┆ -0.347596 ┆ 77.607789       ┆ 252.863099    │\n",
       "│ 265.184156 ┆ 67.969402 ┆ -0.404166 ┆ 22.030598       ┆ 184.815844    │\n",
       "│ 13.259208  ┆ 5.757997  ┆ -0.410941 ┆ 84.242003       ┆ 76.740792     │\n",
       "│ 70.799166  ┆ 56.328234 ┆ -0.411669 ┆ 33.671766       ┆ 19.200834     │\n",
       "│ 11.007644  ┆ 58.205841 ┆ -0.416105 ┆ 31.794159       ┆ 78.992356     │\n",
       "└────────────┴───────────┴───────────┴─────────────────┴───────────────┘"
      ]
     },
     "execution_count": 209,
     "metadata": {},
     "output_type": "execute_result"
    }
   ],
   "source": [
    "output.with_columns(dist_from_theta=90 - pl.col('theta'), dist_from_phi = (90-pl.col('phi')) % 360).sort(by=\"Q\", descending=True).head(10)"
   ]
  },
  {
   "cell_type": "code",
   "execution_count": 163,
   "id": "775ba7c8-75a8-44f3-bf42-c2a03731fffc",
   "metadata": {},
   "outputs": [
    {
     "name": "stdout",
     "output_type": "stream",
     "text": [
      "UTC Time: 2024-02-16 11:21:22.093\n",
      "Year: 2024\n",
      "Datetime: 2024-02-16 11:21:22.092702\n"
     ]
    }
   ],
   "source": [
    "from astropy.time import Time\n",
    "\n",
    "# Your MJD value (example)\n",
    "mjd = 60356.47317236924195\n",
    "\n",
    "# Create Time object\n",
    "t = Time(mjd, format='mjd', scale='utc')\n",
    "\n",
    "# Print UTC as ISO format\n",
    "print(\"UTC Time:\", t.utc.iso)\n",
    "\n",
    "# Or get components\n",
    "print(\"Year:\", t.utc.datetime.year)\n",
    "print(\"Datetime:\", t.utc.datetime)"
   ]
  },
  {
   "cell_type": "code",
   "execution_count": 164,
   "id": "fabe66d4-2f2e-494c-85f2-41f20651ed9a",
   "metadata": {
    "scrolled": true
   },
   "outputs": [
    {
     "data": {
      "text/plain": [
       "9576625.173138944"
      ]
     },
     "execution_count": 164,
     "metadata": {},
     "output_type": "execute_result"
    }
   ],
   "source": [
    "## Near-field limit calculation\n",
    "1500**2 / (constants.c / 1.276e9)"
   ]
  },
  {
   "cell_type": "code",
   "execution_count": 83,
   "id": "5faa83f5-3247-46d9-9716-51f132975816",
   "metadata": {},
   "outputs": [
    {
     "data": {
      "text/plain": [
       "220.67"
      ]
     },
     "execution_count": 83,
     "metadata": {},
     "output_type": "execute_result"
    }
   ],
   "source": [
    "(90 - 229.33) % 360"
   ]
  },
  {
   "cell_type": "code",
   "execution_count": 85,
   "id": "51132716-d02a-487b-8e3d-e8dd83c3c1c0",
   "metadata": {},
   "outputs": [
    {
     "data": {
      "text/plain": [
       "65.97"
      ]
     },
     "execution_count": 85,
     "metadata": {},
     "output_type": "execute_result"
    }
   ],
   "source": [
    "90 - 24.03"
   ]
  },
  {
   "cell_type": "code",
   "execution_count": 88,
   "id": "eb248e15-3738-4d76-b6f6-d5e4be79799a",
   "metadata": {},
   "outputs": [
    {
     "data": {
      "text/plain": [
       "np.float64(-0.5952199413798546)"
      ]
     },
     "execution_count": 88,
     "metadata": {},
     "output_type": "execute_result"
    }
   ],
   "source": [
    "np.sin(np.deg2rad(65.97)) * np.sin(np.deg2rad(220.67))"
   ]
  },
  {
   "cell_type": "code",
   "execution_count": null,
   "id": "028f6b82-cf27-4f9e-baf0-a5eb0f5b26b5",
   "metadata": {},
   "outputs": [],
   "source": []
  }
 ],
 "metadata": {
  "kernelspec": {
   "display_name": "Python 3 (ipykernel)",
   "language": "python",
   "name": "python3"
  },
  "language_info": {
   "codemirror_mode": {
    "name": "ipython",
    "version": 3
   },
   "file_extension": ".py",
   "mimetype": "text/x-python",
   "name": "python",
   "nbconvert_exporter": "python",
   "pygments_lexer": "ipython3",
   "version": "3.13.2"
  }
 },
 "nbformat": 4,
 "nbformat_minor": 5
}
