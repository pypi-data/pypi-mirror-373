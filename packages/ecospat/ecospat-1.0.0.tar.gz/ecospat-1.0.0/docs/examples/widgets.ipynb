{
 "cells": [
  {
   "cell_type": "markdown",
   "metadata": {
    "vscode": {
     "languageId": "plaintext"
    }
   },
   "source": [
    "[![Open In Colab](https://colab.research.google.com/assets/colab-badge.svg)](https://colab.research.google.com/github/anytko/ecospat/blob/main/docs/examples/widgets.ipynb)"
   ]
  },
  {
   "cell_type": "markdown",
   "metadata": {},
   "source": [
    "### Ecospat provides a widget that will run and return all the functionality provided in the package. "
   ]
  },
  {
   "cell_type": "markdown",
   "metadata": {},
   "source": [
    "#### Map Types:\n",
    "- Modern: Display categorizied modern GBIF data with range edges. \n",
    "- Historic: Display categorized historic Little map data. \n",
    "- Individual persistence: Display polygon and point data indicating individual persistence at 5 years.\n",
    "- 3D population density map: Open a new window with 3D population density map. \n",
    "\n",
    "#### Save Selection: \n",
    "- Modern GBIF Data: Save gdf of modern gbif occurrences with classified range edges. \n",
    "- Historical GBIF Data: Save gdf of historical gbif occurrences with classified range edges. \n",
    "- Individual Persistence Data: Save gdf of points and polygons with individual persistence values and classified range edges.\n",
    "- 3D population density map: Save 3D population density map to downloads as .html. \n",
    "- Movement Results: Save folder to downloads containing 2 csv files: 1) range_pattern.csv includes the range pattern designation for the species as well as temperature, precipitation, and elevation averages across the entire range of the species. 2) category_summary.csv includes the northward movement,  population density change, temperature, precipitation, and elevation averages for each range edge.\n",
    "- Predicted Persistence Raster: Save persistence raster of range or entire world as .tif to downloads. "
   ]
  },
  {
   "cell_type": "code",
   "execution_count": null,
   "metadata": {},
   "outputs": [],
   "source": [
    "import ecospat.ecospat as ecospat_full"
   ]
  },
  {
   "cell_type": "code",
   "execution_count": null,
   "metadata": {},
   "outputs": [],
   "source": [
    "widget_map = ecospat_full.Map()\n",
    "widget_map.add_control_panel()\n",
    "widget_map.add_basemap_gui()\n",
    "widget_map"
   ]
  }
 ],
 "metadata": {
  "kernelspec": {
   "display_name": "biodiviz",
   "language": "python",
   "name": "python3"
  },
  "language_info": {
   "codemirror_mode": {
    "name": "ipython",
    "version": 3
   },
   "file_extension": ".py",
   "mimetype": "text/x-python",
   "name": "python",
   "nbconvert_exporter": "python",
   "pygments_lexer": "ipython3",
   "version": "3.12.9"
  }
 },
 "nbformat": 4,
 "nbformat_minor": 2
}
