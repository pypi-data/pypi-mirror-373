{
 "cells": [
  {
   "cell_type": "markdown",
   "metadata": {},
   "source": [
    "[![Open In Colab](https://colab.research.google.com/assets/colab-badge.svg)](https://colab.research.google.com/github/anytko/ecospat/blob/main/docs/examples/persistence_raster.ipynb)"
   ]
  },
  {
   "cell_type": "markdown",
   "metadata": {},
   "source": [
    "## Steps and pipeline for creating and visualizing a persistence raster for a species given it's modern distribution, northward movement, and population density change."
   ]
  },
  {
   "cell_type": "markdown",
   "metadata": {},
   "source": [
    "### Step-by-step"
   ]
  },
  {
   "cell_type": "code",
   "execution_count": null,
   "metadata": {},
   "outputs": [],
   "source": [
    "import ecospat.ecospat as ecospat_full\n",
    "from ecospat.stand_alone_functions import (\n",
    "    process_species_historical_range,\n",
    "    analyze_species_distribution,\n",
    "    analyze_northward_shift,\n",
    "    calculate_rate_of_change_first_last,\n",
    "    merge_category_dataframes,\n",
    "    prepare_gdf_for_rasterization,\n",
    "    cat_int_mapping,\n",
    "    rasterize_multiband_gdf_match,\n",
    "    rasterize_multiband_gdf_world,\n",
    "    compute_propagule_pressure_range,\n",
    "    save_raster_to_downloads_range,\n",
    "    full_propagule_pressure_pipeline,\n",
    ")"
   ]
  },
  {
   "cell_type": "markdown",
   "metadata": {},
   "source": [
    "#### First, we need to classify the historical range edges."
   ]
  },
  {
   "cell_type": "code",
   "execution_count": null,
   "metadata": {},
   "outputs": [],
   "source": [
    "hist_pipeline = ecospat_full.Map()\n",
    "hist_range = process_species_historical_range(\n",
    "    new_map=hist_pipeline, species_name=\"Populus angustifolia\"\n",
    ")"
   ]
  },
  {
   "cell_type": "markdown",
   "metadata": {},
   "source": [
    "#### Then we need to classify the modern range edges."
   ]
  },
  {
   "cell_type": "code",
   "execution_count": null,
   "metadata": {},
   "outputs": [],
   "source": [
    "classified_modern, classified_historic = analyze_species_distribution(\n",
    "    \"Populus angustifolia\", record_limit=1000\n",
    ")"
   ]
  },
  {
   "cell_type": "markdown",
   "metadata": {},
   "source": [
    "#### Next we will calculate the northward rate of change. We will also clean this dataframe to only include the movement for leading, core, and trailing populations. "
   ]
  },
  {
   "cell_type": "code",
   "execution_count": null,
   "metadata": {},
   "outputs": [],
   "source": [
    "northward_rate_df = analyze_northward_shift(\n",
    "    gdf_hist=hist_range,\n",
    "    gdf_new=classified_modern,\n",
    "    species_name=\"Populus angustifolia\",\n",
    ")\n",
    "northward_rate_df = northward_rate_df[\n",
    "    northward_rate_df[\"category\"].isin([\"leading\", \"core\", \"trailing\"])\n",
    "]\n",
    "\n",
    "northward_rate_df[\"category\"] = northward_rate_df[\"category\"].str.title()"
   ]
  },
  {
   "cell_type": "markdown",
   "metadata": {},
   "source": [
    "#### After, we will calculate the population density change and clean the dataframe to only include density change for leading, core, and trailing populations. "
   ]
  },
  {
   "cell_type": "code",
   "execution_count": null,
   "metadata": {},
   "outputs": [],
   "source": [
    "change = calculate_rate_of_change_first_last(\n",
    "    classified_historic, classified_modern, \"Populus angustifolia\", custom_end_year=2025\n",
    ")\n",
    "\n",
    "\n",
    "change = change[change[\"collapsed_category\"].isin([\"leading\", \"core\", \"trailing\"])]\n",
    "change = change.rename(\n",
    "    columns={\n",
    "        \"collapsed_category\": \"Category\",\n",
    "        \"rate_of_change_first_last\": \"Rate of Change\",\n",
    "        \"start_time_period\": \"Start Years\",\n",
    "        \"end_time_period\": \"End Years\",\n",
    "    }\n",
    ")\n",
    "\n",
    "\n",
    "change[\"Category\"] = change[\"Category\"].str.title()"
   ]
  },
  {
   "cell_type": "markdown",
   "metadata": {},
   "source": [
    "#### We will then merge these dataframes and prepare them for persistence raster creation."
   ]
  },
  {
   "cell_type": "code",
   "execution_count": null,
   "metadata": {},
   "outputs": [],
   "source": [
    "merged = merge_category_dataframes(northward_rate_df, change)\n",
    "\n",
    "preped_gdf = prepare_gdf_for_rasterization(classified_modern, merged)\n",
    "\n",
    "preped_gdf_new = cat_int_mapping(preped_gdf)\n",
    "\n",
    "preped_gdf_new.head()"
   ]
  },
  {
   "cell_type": "markdown",
   "metadata": {},
   "source": [
    "#### Once the data is preped, we will rasterize each element into one raster object of 4 different bands. We can either rasterize just the range of the species (rasterize_multiband_gdf_match) or we can extend this raster to the entire world (rasterize_multiband_gdf_world)."
   ]
  },
  {
   "cell_type": "code",
   "execution_count": null,
   "metadata": {},
   "outputs": [],
   "source": [
    "value_columns = [\n",
    "    \"density\",\n",
    "    \"northward_rate_km_per_year\",\n",
    "    \"Rate of Change\",\n",
    "    \"category_int\",\n",
    "]\n",
    "raster_show, transform, show_bounds = rasterize_multiband_gdf_match(\n",
    "    preped_gdf_new, value_columns\n",
    ")"
   ]
  },
  {
   "cell_type": "code",
   "execution_count": null,
   "metadata": {},
   "outputs": [],
   "source": [
    "import matplotlib.pyplot as plt\n",
    "\n",
    "# Plotting one of these bands (northward movement rate)\n",
    "\n",
    "plt.imshow(raster_show[1], cmap=\"viridis\", origin=\"upper\")\n",
    "plt.colorbar(label=\"Pressure\")\n",
    "plt.xlabel(\"Longitude\")\n",
    "plt.ylabel(\"Latitude\")\n",
    "plt.show()"
   ]
  },
  {
   "cell_type": "markdown",
   "metadata": {},
   "source": [
    "#### After rasterizing the data, we can now construct the persistence raster."
   ]
  },
  {
   "cell_type": "code",
   "execution_count": null,
   "metadata": {},
   "outputs": [],
   "source": [
    "pressure_show = compute_propagule_pressure_range(raster_show)"
   ]
  },
  {
   "cell_type": "code",
   "execution_count": null,
   "metadata": {},
   "outputs": [],
   "source": [
    "import matplotlib.pyplot as plt\n",
    "\n",
    "plt.imshow(pressure_show, cmap=\"viridis\", origin=\"upper\")\n",
    "plt.colorbar(label=\"Pressure\")\n",
    "plt.xlabel(\"Longitude\")\n",
    "plt.ylabel(\"Latitude\")\n",
    "plt.show()"
   ]
  },
  {
   "cell_type": "markdown",
   "metadata": {},
   "source": [
    "#### (Optional) We can also save this raster as a .tif"
   ]
  },
  {
   "cell_type": "code",
   "execution_count": null,
   "metadata": {},
   "outputs": [],
   "source": [
    "# raster_download = save_raster_to_downloads_range(pressure_show, show_bounds, \"Populus angustifolia\")"
   ]
  },
  {
   "cell_type": "markdown",
   "metadata": {},
   "source": [
    "#### To display this saved .tif raster we can use the .add_raster method. There is already an example raster download within the package to add here."
   ]
  },
  {
   "cell_type": "code",
   "execution_count": null,
   "metadata": {},
   "outputs": [],
   "source": [
    "persistence_map = ecospat_full.Map()\n",
    "persistence_map.add_basemap(\"GBIF.Classic\")\n",
    "persistence_map.add_raster(\n",
    "    \"Populus_angustifolia_persistence_raster.tif\",\n",
    "    colormap=\"viridis\",\n",
    "    legend=True,\n",
    "    name=\"Persistence Raster\",\n",
    ")\n",
    "# persistence_map.add_layer_control()\n",
    "persistence_map"
   ]
  },
  {
   "cell_type": "markdown",
   "metadata": {},
   "source": [
    "### Pipeline to generate persistence raster "
   ]
  },
  {
   "cell_type": "markdown",
   "metadata": {},
   "source": [
    "#### For the simplified pipeline, we will still need to fetch the gbif data, calculate the northward movement, and the population density change."
   ]
  },
  {
   "cell_type": "code",
   "execution_count": null,
   "metadata": {},
   "outputs": [],
   "source": [
    "full_show, full_save, show_bounds, save_bounds, gdf_transform, world_transform = (\n",
    "    full_propagule_pressure_pipeline(classified_modern, northward_rate_df, change)\n",
    ")"
   ]
  },
  {
   "cell_type": "code",
   "execution_count": null,
   "metadata": {},
   "outputs": [],
   "source": [
    "import matplotlib.pyplot as plt\n",
    "\n",
    "plt.imshow(full_show, cmap=\"viridis\", origin=\"upper\")\n",
    "plt.colorbar(label=\"Pressure\")\n",
    "plt.xlabel(\"Longitude\")\n",
    "plt.ylabel(\"Latitude\")\n",
    "plt.show()"
   ]
  }
 ],
 "metadata": {
  "kernelspec": {
   "display_name": "biodiviz",
   "language": "python",
   "name": "python3"
  },
  "language_info": {
   "codemirror_mode": {
    "name": "ipython",
    "version": 3
   },
   "file_extension": ".py",
   "mimetype": "text/x-python",
   "name": "python",
   "nbconvert_exporter": "python",
   "pygments_lexer": "ipython3",
   "version": "3.12.9"
  }
 },
 "nbformat": 4,
 "nbformat_minor": 2
}
