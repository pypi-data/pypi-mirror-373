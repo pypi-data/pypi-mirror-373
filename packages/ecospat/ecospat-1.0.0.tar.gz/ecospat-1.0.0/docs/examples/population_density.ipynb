{
 "cells": [
  {
   "cell_type": "markdown",
   "metadata": {},
   "source": [
    "[![Open In Colab](https://colab.research.google.com/assets/colab-badge.svg)](https://colab.research.google.com/github/anytko/ecospat/blob/main/docs/examples/population_density.ipynb)"
   ]
  },
  {
   "cell_type": "markdown",
   "metadata": {},
   "source": [
    "## Steps to visualizing population density and calculating change in relative population density by range edge though time."
   ]
  },
  {
   "cell_type": "code",
   "execution_count": null,
   "metadata": {},
   "outputs": [],
   "source": [
    "import ecospat.ecospat as ecospat_full\n",
    "from ecospat.stand_alone_functions import (\n",
    "    process_species_historical_range,\n",
    "    analyze_species_distribution,\n",
    "    calculate_rate_of_change_first_last,\n",
    "    create_interactive_map,\n",
    ")"
   ]
  },
  {
   "cell_type": "markdown",
   "metadata": {},
   "source": [
    "### First, we need to classify the historic and modern range edges using GBIF data."
   ]
  },
  {
   "cell_type": "code",
   "execution_count": null,
   "metadata": {},
   "outputs": [],
   "source": [
    "classified_modern, classified_historic = analyze_species_distribution(\n",
    "    \"Populus angustifolia\", record_limit=1000\n",
    ")\n",
    "classified_modern.head()"
   ]
  },
  {
   "cell_type": "markdown",
   "metadata": {},
   "source": [
    "### Next, we can calculate the rate of change in individuals per range edge though time. "
   ]
  },
  {
   "cell_type": "markdown",
   "metadata": {},
   "source": [
    "#### Remember that this is a proportional metric; a density change of -0.8 in the leading edge means that though the time period examined, the leading edge has proportionally less individuals out of the total individuals then it did in the past."
   ]
  },
  {
   "cell_type": "code",
   "execution_count": null,
   "metadata": {},
   "outputs": [],
   "source": [
    "pop_change = calculate_rate_of_change_first_last(\n",
    "    classified_historic, classified_modern, \"Populus angustifolia\", custom_end_year=2025\n",
    ")\n",
    "pop_change"
   ]
  },
  {
   "cell_type": "code",
   "execution_count": null,
   "metadata": {},
   "outputs": [],
   "source": [
    "# Making the df more self-explanatory\n",
    "\n",
    "pop_change = pop_change.rename(\n",
    "    columns={\n",
    "        \"collapsed_category\": \"Category\",\n",
    "        \"rate_of_change_first_last\": \"Rate of Change\",\n",
    "        \"start_time_period\": \"Start Years\",\n",
    "        \"end_time_period\": \"End Years\",\n",
    "    }\n",
    ")\n",
    "\n",
    "\n",
    "pop_change[\"Category\"] = pop_change[\"Category\"].str.title()\n",
    "pop_change"
   ]
  },
  {
   "cell_type": "markdown",
   "metadata": {},
   "source": [
    "### We can also plot the population density of the modern (or historic) polygons on a 3D map."
   ]
  },
  {
   "cell_type": "code",
   "execution_count": null,
   "metadata": {},
   "outputs": [],
   "source": [
    "# Running this code will open a popup in a browser displaying the map. Set if_save = True if you want to save the map to your local device\n",
    "create_interactive_map(classified_modern, if_save=False)"
   ]
  }
 ],
 "metadata": {
  "kernelspec": {
   "display_name": "biodiviz",
   "language": "python",
   "name": "python3"
  },
  "language_info": {
   "codemirror_mode": {
    "name": "ipython",
    "version": 3
   },
   "file_extension": ".py",
   "mimetype": "text/x-python",
   "name": "python",
   "nbconvert_exporter": "python",
   "pygments_lexer": "ipython3",
   "version": "3.12.9"
  }
 },
 "nbformat": 4,
 "nbformat_minor": 2
}
