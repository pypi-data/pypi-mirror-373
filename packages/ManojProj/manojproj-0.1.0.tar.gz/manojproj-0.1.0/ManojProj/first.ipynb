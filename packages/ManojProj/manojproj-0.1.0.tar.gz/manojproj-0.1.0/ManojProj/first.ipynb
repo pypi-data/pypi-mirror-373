{
 "cells": [
  {
   "cell_type": "code",
   "execution_count": 4,
   "id": "150b7d77-7da1-4e98-b0ac-bf3ae1004417",
   "metadata": {},
   "outputs": [
    {
     "name": "stdout",
     "output_type": "stream",
     "text": [
      "manoj test 1\n",
      "manoj test 2\n",
      "manoj test 3\n",
      "manoj test 4\n"
     ]
    }
   ],
   "source": [
    "a=[1,2,3,4]\n",
    "for x in a:\n",
    "    print(f\"manoj test {x}\")"
   ]
  },
  {
   "cell_type": "code",
   "execution_count": null,
   "id": "bf8a7688-3ce4-489f-ab4c-517c5afbef63",
   "metadata": {},
   "outputs": [
    {
     "name": "stdout",
     "output_type": "stream",
     "text": [
      "<class 'tuple'>\n"
     ]
    }
   ],
   "source": [
    "import datetime\n",
    "import os\n",
    "print(type((1,2,3)))\n",
    "print(dateime.now().day)\n",
    "print(os.)"
   ]
  },
  {
   "cell_type": "code",
   "execution_count": 6,
   "id": "bf63c881-da24-4e5b-a466-205264cb31d4",
   "metadata": {},
   "outputs": [
    {
     "name": "stdout",
     "output_type": "stream",
     "text": [
      "True\n",
      "140717664023432\n",
      "140717664023432\n",
      "(1, 2, 3)\n",
      "True\n",
      "140717664023432\n",
      "140717664023432\n",
      "(3, 4, 7)\n"
     ]
    }
   ],
   "source": [
    "def manojtest(first,second):\n",
    "    x=0\n",
    "    y=x\n",
    "    print(x is y)\n",
    "    print(id(x))\n",
    "    print(id(y))\n",
    "    return first,second,first+second\n",
    "print(manojtest(1,2))\n",
    "print(manojtest(3,4))"
   ]
  },
  {
   "cell_type": "code",
   "execution_count": 15,
   "id": "574de633-0218-4953-9fbd-81a89432427b",
   "metadata": {},
   "outputs": [
    {
     "name": "stdout",
     "output_type": "stream",
     "text": [
      "1\n",
      "2\n"
     ]
    }
   ],
   "source": [
    "class generatenum:\n",
    "    def __init__(self,n):\n",
    "        self.count=0\n",
    "        self.n=n\n",
    "    def __iter__(self):\n",
    "        return self\n",
    "    def __next__(self):\n",
    "        self.count+=1\n",
    "        if self.count>self.n:\n",
    "            raise StopIteration\n",
    "        return self.count\n",
    "xiter=generatenum(5)\n",
    "#for x in xiter:\n",
    "#    print(x)\n",
    "\n",
    "print(next(xiter))\n",
    "print(next(xiter))    \n",
    "        \n",
    "        "
   ]
  },
  {
   "cell_type": "code",
   "execution_count": null,
   "id": "cd72579b-a9c7-4f5a-96ae-70f086a38249",
   "metadata": {},
   "outputs": [],
   "source": []
  },
  {
   "cell_type": "code",
   "execution_count": null,
   "id": "96429737-0090-4373-8e8e-04299b34735b",
   "metadata": {},
   "outputs": [],
   "source": []
  }
 ],
 "metadata": {
  "kernelspec": {
   "display_name": "Python 3 (ipykernel)",
   "language": "python",
   "name": "python3"
  },
  "language_info": {
   "codemirror_mode": {
    "name": "ipython",
    "version": 3
   },
   "file_extension": ".py",
   "mimetype": "text/x-python",
   "name": "python",
   "nbconvert_exporter": "python",
   "pygments_lexer": "ipython3",
   "version": "3.13.5"
  }
 },
 "nbformat": 4,
 "nbformat_minor": 5
}
