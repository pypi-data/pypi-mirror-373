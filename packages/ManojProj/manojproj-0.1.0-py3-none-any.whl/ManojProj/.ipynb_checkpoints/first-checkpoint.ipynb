{
 "cells": [
  {
   "cell_type": "code",
   "execution_count": 4,
   "id": "150b7d77-7da1-4e98-b0ac-bf3ae1004417",
   "metadata": {},
   "outputs": [
    {
     "name": "stdout",
     "output_type": "stream",
     "text": [
      "manoj test 1\n",
      "manoj test 2\n",
      "manoj test 3\n",
      "manoj test 4\n"
     ]
    }
   ],
   "source": [
    "a=[1,2,3,4]\n",
    "for x in a:\n",
    "    print(f\"manoj test {x}\")"
   ]
  },
  {
   "cell_type": "code",
   "execution_count": null,
   "id": "bf8a7688-3ce4-489f-ab4c-517c5afbef63",
   "metadata": {},
   "outputs": [
    {
     "name": "stdout",
     "output_type": "stream",
     "text": [
      "<class 'tuple'>\n"
     ]
    }
   ],
   "source": [
    "import datetime\n",
    "import os\n",
    "print(type((1,2,3)))\n",
    "print(dateime.now().day)\n",
    "print(os.)"
   ]
  },
  {
   "cell_type": "code",
   "execution_count": 9,
   "id": "bf63c881-da24-4e5b-a466-205264cb31d4",
   "metadata": {},
   "outputs": [
    {
     "name": "stdout",
     "output_type": "stream",
     "text": [
      "(1, 2, 3)\n"
     ]
    }
   ],
   "source": [
    "def manojtest(first,second):\n",
    "    return first,second,first+second\n",
    "print(manojtest(1,2))"
   ]
  },
  {
   "cell_type": "code",
   "execution_count": null,
   "id": "574de633-0218-4953-9fbd-81a89432427b",
   "metadata": {},
   "outputs": [],
   "source": []
  }
 ],
 "metadata": {
  "kernelspec": {
   "display_name": "Python 3 (ipykernel)",
   "language": "python",
   "name": "python3"
  },
  "language_info": {
   "codemirror_mode": {
    "name": "ipython",
    "version": 3
   },
   "file_extension": ".py",
   "mimetype": "text/x-python",
   "name": "python",
   "nbconvert_exporter": "python",
   "pygments_lexer": "ipython3",
   "version": "3.13.5"
  }
 },
 "nbformat": 4,
 "nbformat_minor": 5
}
