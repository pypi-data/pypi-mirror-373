{
 "cells": [
  {
   "cell_type": "markdown",
   "id": "0",
   "metadata": {},
   "source": [
    "# EgoMap"
   ]
  },
  {
   "cell_type": "markdown",
   "id": "1",
   "metadata": {},
   "source": [
    "Every researcher is the center of her own universe. With EgoMaps, everyone can visualize that universe!\n",
    "\n",
    "Concretely, your EgoMap is a co-publication graph containing:\n",
    "\n",
    "- The *sun*, i.e. you, the center of the universe\n",
    "- The *planets*, i.e. your co-authors\n",
    "- The *moons*, e.g. the co-authors of your co-authors\n",
    "\n",
    "By default, EgoMaps comprise up to 50 researchers, selecting first planets, then moons."
   ]
  },
  {
   "cell_type": "markdown",
   "id": "2",
   "metadata": {},
   "source": [
    "## Simple case"
   ]
  },
  {
   "cell_type": "markdown",
   "id": "3",
   "metadata": {},
   "source": [
    "For basic scenarios, you just need to enter the name of the researcher. For example:"
   ]
  },
  {
   "cell_type": "code",
   "execution_count": null,
   "id": "4",
   "metadata": {},
   "outputs": [],
   "source": [
    "from gismap.lab import EgoMap as Map\n",
    "celine = Map(\"Céline Comte\")\n",
    "celine.build()"
   ]
  },
  {
   "cell_type": "markdown",
   "id": "5",
   "metadata": {},
   "source": [
    "You can display your EgoMap with `show_html` and save it with `save_html`"
   ]
  },
  {
   "cell_type": "code",
   "execution_count": null,
   "id": "6",
   "metadata": {},
   "outputs": [],
   "source": [
    "celine.show_html()"
   ]
  },
  {
   "cell_type": "markdown",
   "id": "7",
   "metadata": {},
   "source": [
    "## Adjusting the size"
   ]
  },
  {
   "cell_type": "markdown",
   "id": "8",
   "metadata": {},
   "source": [
    "Depending on your degree, you may want to adjust the size of your universe with `target`."
   ]
  },
  {
   "cell_type": "code",
   "execution_count": null,
   "id": "9",
   "metadata": {},
   "outputs": [],
   "source": [
    "fabien = Map(\"Fabien Mathieu\")\n",
    "fabien.build(target=70)"
   ]
  },
  {
   "cell_type": "code",
   "execution_count": null,
   "id": "10",
   "metadata": {},
   "outputs": [],
   "source": [
    "fabien.show_html()"
   ]
  },
  {
   "cell_type": "markdown",
   "id": "11",
   "metadata": {},
   "source": [
    "## Using specific DBs"
   ]
  },
  {
   "cell_type": "markdown",
   "id": "12",
   "metadata": {},
   "source": [
    "You can specify the DB(s) you want to use. For example, if you are a French researcher not working in computer science, HAL is enough."
   ]
  },
  {
   "cell_type": "code",
   "execution_count": null,
   "id": "13",
   "metadata": {},
   "outputs": [],
   "source": [
    "mathilde = Map(\"Mathilde Labbé\", dbs=\"hal\")\n",
    "mathilde.sun.metadata.img = \"https://0.academia-photos.com/282997/7894577/15068468/s200_mathilde.labbe.jpg\"\n",
    "mathilde.build(target=25)"
   ]
  },
  {
   "cell_type": "code",
   "execution_count": null,
   "id": "14",
   "metadata": {},
   "outputs": [],
   "source": [
    "mathilde.show_html()"
   ]
  },
  {
   "cell_type": "markdown",
   "id": "15",
   "metadata": {},
   "source": [
    "## Filtering"
   ]
  },
  {
   "cell_type": "markdown",
   "id": "16",
   "metadata": {},
   "source": [
    "EgoMaps have default filters that try to prevent data pollution. For example, it filters out:\n",
    "\n",
    "- Publications with too many authors. They are usually not relevant in fields like computer science.\n",
    "- Publications that look like editorials.\n",
    "\n",
    "Filters can customized. \n",
    "For example, this publication about horse locomotion is wrongly referenced in DBLP:\n",
    "https://dblp.org/rec/journals/sensors/PasquietBTDDF22.html\n",
    "\n",
    "It can be discarded by ignoring all publications about horses."
   ]
  },
  {
   "cell_type": "code",
   "execution_count": null,
   "id": "17",
   "metadata": {},
   "outputs": [],
   "source": [
    "from gismap.lab.filters import publication_taboo_filter\n",
    "fanfan = Map(fabien.authors['fradurand'])\n",
    "fanfan.publication_selectors.append(publication_taboo_filter(\"Horse\"))\n",
    "fanfan.build(target=25)"
   ]
  },
  {
   "cell_type": "code",
   "execution_count": null,
   "id": "18",
   "metadata": {},
   "outputs": [],
   "source": [
    "fanfan.show_html()"
   ]
  }
 ],
 "metadata": {
  "kernelspec": {
   "display_name": "Python 3 (ipykernel)",
   "language": "python",
   "name": "python3"
  },
  "language_info": {
   "codemirror_mode": {
    "name": "ipython",
    "version": 3
   },
   "file_extension": ".py",
   "mimetype": "text/x-python",
   "name": "python",
   "nbconvert_exporter": "python",
   "pygments_lexer": "ipython3",
   "version": "3.12.8"
  }
 },
 "nbformat": 4,
 "nbformat_minor": 5
}
