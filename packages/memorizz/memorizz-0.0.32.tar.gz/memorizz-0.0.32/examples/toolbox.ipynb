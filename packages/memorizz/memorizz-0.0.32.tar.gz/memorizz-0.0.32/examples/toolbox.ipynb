{
 "cells": [
  {
   "cell_type": "code",
   "execution_count": null,
   "metadata": {},
   "outputs": [],
   "source": [
    "! pip install -qU memorizz yahooquery openai voyageai"
   ]
  },
  {
   "cell_type": "markdown",
   "metadata": {},
   "source": [
    "# ToolBox Functionality in the MemoRizz Library\n",
    "\n",
    "-------"
   ]
  },
  {
   "cell_type": "markdown",
   "metadata": {},
   "source": [
    "The Toolbox system in MemoRizz provides a powerful framework for registering, managing, and utilizing external functions as AI-callable tools. This system enables agents to seamlessly interact with external systems, APIs, and data sources through a standardized interface.\n",
    "\n",
    "## Core Concepts\n",
    "\n",
    "### Function Registration and Discovery\n",
    "- **Registration**: Convert Python functions into LLM-callable tools with semantic metadata\n",
    "- **Vector Embeddings**: Index tools for efficient semantic retrieval based on natural language queries\n",
    "- **Discoverability**: Find relevant tools based on contextual requirements without explicit references \n",
    "- **Persistence**: Store tool definitions across sessions and application restarts\n",
    "\n",
    "### Tool Management\n",
    "- **Centralized Repository**: Maintain all tools in a single, organized collection\n",
    "- **Access Control**: Configure private or global tool access patterns for agents\n",
    "- **Tool Metadata**: Enhance functions with rich descriptions and usage examples\n",
    "- **Versioning**: Update tool implementations while maintaining consistent identifiers\n",
    "\n",
    "### Agent Integration\n",
    "- **Dynamic Tool Selection**: Agents can discover and utilize the most relevant tools for each query\n",
    "- **Contextual Relevance**: Tools are matched to queries based on semantic similarity\n",
    "- **Automatic Documentation**: Generate parameter schemas and usage instructions for LLMs\n",
    "- **Error Handling**: Gracefully manage missing or broken tool implementations\n",
    "\n",
    "## Implementation Details\n",
    "\n",
    "Under the hood, the Toolbox system:\n",
    "1. Analyzes function signatures and docstrings to extract parameter information\n",
    "2. Generates embeddings that capture the semantic meaning of each tool\n",
    "3. Stores both the metadata and function references in the memory provider\n",
    "4. Provides retrieval mechanisms for both exact and similarity-based lookups\n",
    "\n",
    "This architecture enables a powerful \"tools as a service\" model where functions can be registered once and utilized by multiple agents throughout your application ecosystem.\n"
   ]
  },
  {
   "cell_type": "markdown",
   "metadata": {},
   "source": [
    "## Implementation & Usage Guidance\n",
    "\n",
    "\n",
    "To fully leverage MemoRizz's memory subsystem, always initialize a `MemoryProvider` before interacting with the library. In this workflow, the `MemoryProvider` acts as the authoritative store for all `ToolBox` data—handling both persistence and retrieval of function definitions, tool metadata, and embedding vectors throughout your application lifecycle. \n",
    "\n",
    "The ToolBox component relies on this persistent storage to enable seamless tool discovery, contextual matching, and function execution across different sessions and application instances.\n"
   ]
  },
  {
   "cell_type": "code",
   "execution_count": 1,
   "metadata": {},
   "outputs": [],
   "source": [
    "import getpass\n",
    "import os\n",
    "\n",
    "# Function to securely get and set environment variables\n",
    "def set_env_securely(var_name, prompt):\n",
    "    value = getpass.getpass(prompt)\n",
    "    os.environ[var_name] = value"
   ]
  },
  {
   "cell_type": "code",
   "execution_count": 2,
   "metadata": {},
   "outputs": [],
   "source": [
    "set_env_securely(\"MONGODB_URI\", \"Enter your MongoDB URI: \")"
   ]
  },
  {
   "cell_type": "code",
   "execution_count": 3,
   "metadata": {},
   "outputs": [],
   "source": [
    "set_env_securely(\"OPENAI_API_KEY\", \"Enter your OpenAI API Key: \")"
   ]
  },
  {
   "cell_type": "code",
   "execution_count": 4,
   "metadata": {},
   "outputs": [],
   "source": [
    "set_env_securely(\"VOYAGE_API_KEY\", \"Enter your VOYAGE_API_KEY API Key: \")"
   ]
  },
  {
   "cell_type": "code",
   "execution_count": 5,
   "metadata": {},
   "outputs": [
    {
     "name": "stderr",
     "output_type": "stream",
     "text": [
      "/Users/richmondalake/miniconda3/envs/agent_memory_course/lib/python3.11/site-packages/tqdm/auto.py:21: TqdmWarning: IProgress not found. Please update jupyter and ipywidgets. See https://ipywidgets.readthedocs.io/en/stable/user_install.html\n",
      "  from .autonotebook import tqdm as notebook_tqdm\n"
     ]
    },
    {
     "name": "stdout",
     "output_type": "stream",
     "text": [
      "Vector search index 'vector_index' already exists for collection personas.\n",
      "Vector search index 'vector_index' already exists for collection toolbox.\n",
      "Vector search index 'vector_index' already exists for collection short_term_memory.\n",
      "Vector search index 'vector_index' already exists for collection long_term_memory.\n",
      "Vector search index 'vector_index' already exists for collection conversation_memory.\n",
      "Vector search index 'vector_index' already exists for collection workflow_memory.\n",
      "Vector search index 'vector_index' already exists for collection agents.\n",
      "Vector search index 'vector_index' already exists for collection shared_memory.\n",
      "Vector search index 'vector_index' already exists for collection summaries.\n"
     ]
    }
   ],
   "source": [
    "from memorizz.memory_provider.mongodb.provider import MongoDBConfig, MongoDBProvider\n",
    "\n",
    "# Create a mongodb config with voyageai embeddings\n",
    "mongodb_config = MongoDBConfig(\n",
    "    uri=os.environ[\"MONGODB_URI\"],\n",
    "    db_name=\"testing_memorizz\",\n",
    "    embedding_provider=\"voyageai\",\n",
    "    embedding_config={\n",
    "        \"embedding_type\": \"contextualized\",\n",
    "        \"model\": \"voyage-context-3\",\n",
    "        \"output_dimension\": 256,\n",
    "    }\n",
    ")\n",
    "\n",
    "# Create a memory provider\n",
    "memory_provider = MongoDBProvider(mongodb_config)"
   ]
  },
  {
   "cell_type": "markdown",
   "metadata": {},
   "source": [
    "### Step 1: Creating Function-Based Tools\n",
    "\n",
    "In this initial step, we define specialized Python functions that will serve as the foundation for our toolbox. These functions encapsulate discrete capabilities that can be semantically discovered and executed by AI agents:\n",
    "\n",
    "1. The `get_stock_price()` function interfaces with the `yfinance` library to retrieve real-time financial market data. It accepts a stock symbol parameter (e.g., 'AAPL') and an optional currency code, returning formatted price information with proper numerical formatting.\n",
    "\n",
    "2. The `get_weather()` function leverages the Open-Meteo API to access meteorological data based on precise geolocation coordinates. It extracts the current temperature at the specified latitude and longitude, providing environmental context to agent interactions.\n",
    "\n",
    "These functions are designed with comprehensive type hints, descriptive docstrings, and robust error handling to ensure they can be properly indexed, discovered, and reliably executed when registered in the MemoRizz toolbox system.\n"
   ]
  },
  {
   "cell_type": "code",
   "execution_count": 6,
   "metadata": {},
   "outputs": [],
   "source": [
    "from functools import lru_cache\n",
    "from yahooquery import Ticker\n",
    "import time\n",
    "\n",
    "@lru_cache(maxsize=128)\n",
    "def _fetch_price(symbol: str) -> float:\n",
    "    \"\"\"\n",
    "    Internal helper to fetch the latest market price via yahooquery.\n",
    "    Caching helps avoid repeated hits for the same symbol.\n",
    "    \"\"\"\n",
    "    ticker = Ticker(symbol)\n",
    "    # This returns a dict keyed by symbol:\n",
    "    info = ticker.price or {}\n",
    "    # regularMarketPrice holds the current trading price\n",
    "    price = info.get(symbol.upper(), {}).get(\"regularMarketPrice\")\n",
    "    if price is None:\n",
    "        raise ValueError(f\"No price data for '{symbol}'\")\n",
    "    return price\n",
    "\n",
    "def get_stock_price(\n",
    "    symbol: str,\n",
    "    currency: str = \"USD\",\n",
    "    retry: int = 3,\n",
    "    backoff: float = 0.5\n",
    ") -> str:\n",
    "    \"\"\"\n",
    "    Get the current stock price for a given symbol using yahooquery,\n",
    "    with simple retry/backoff to handle occasional rate-limits.\n",
    "\n",
    "    Parameters\n",
    "    ----------\n",
    "    symbol : str\n",
    "        Stock ticker, e.g. \"AAPL\"\n",
    "    currency : str, optional\n",
    "        Currency code (Currently informational only; yahooquery returns native)\n",
    "    retry : int, optional\n",
    "        Number of retries on failure (default: 3)\n",
    "    backoff : float, optional\n",
    "        Backoff factor in seconds between retries (default: 0.5s)\n",
    "\n",
    "    Returns\n",
    "    -------\n",
    "    str\n",
    "        e.g. \"The current price of AAPL is 172.34 USD.\"\n",
    "    \"\"\"\n",
    "    symbol = symbol.upper()\n",
    "    last_err = None\n",
    "    for attempt in range(1, retry + 1):\n",
    "        try:\n",
    "            price = _fetch_price(symbol)\n",
    "            return f\"The current price of {symbol} is {price:.2f} {currency.upper()}.\"\n",
    "        except Exception as e:\n",
    "            last_err = e\n",
    "            # simple backoff\n",
    "            time.sleep(backoff * attempt)\n",
    "    # if we get here, all retries failed\n",
    "    raise RuntimeError(f\"Failed to fetch price for '{symbol}' after {retry} attempts: {last_err}\")\n"
   ]
  },
  {
   "cell_type": "code",
   "execution_count": 7,
   "metadata": {},
   "outputs": [
    {
     "name": "stdout",
     "output_type": "stream",
     "text": [
      "The current price of AAPL is 232.01 USD.\n"
     ]
    }
   ],
   "source": [
    "print(get_stock_price(\"AAPL\"))"
   ]
  },
  {
   "cell_type": "code",
   "execution_count": 8,
   "metadata": {},
   "outputs": [],
   "source": [
    "import requests\n",
    "\n",
    "def get_weather(latitude, longitude):\n",
    "    response = requests.get(f\"https://api.open-meteo.com/v1/forecast?latitude={latitude}&longitude={longitude}&current=temperature_2m,wind_speed_10m&hourly=temperature_2m,relative_humidity_2m,wind_speed_10m\")\n",
    "    data = response.json()\n",
    "    return data['current']['temperature_2m']"
   ]
  },
  {
   "cell_type": "code",
   "execution_count": 9,
   "metadata": {},
   "outputs": [
    {
     "name": "stdout",
     "output_type": "stream",
     "text": [
      "30.8\n"
     ]
    }
   ],
   "source": [
    "latitude = 40.7128\n",
    "longitude = -74.0060\n",
    "weather = get_weather(latitude, longitude)\n",
    "print(weather)"
   ]
  },
  {
   "cell_type": "markdown",
   "metadata": {},
   "source": [
    "Ensure values from the methods are printed in the cells above"
   ]
  },
  {
   "cell_type": "markdown",
   "metadata": {},
   "source": [
    "\n",
    "### Step 2: Initializing the Toolbox and Registering Function Tools\n",
    "\n",
    "This phase focuses on transforming our raw Python functions into semantically discoverable AI tools through the MemoRizz orchestration layer:\n",
    "\n",
    "1. Instantiate a Toolbox instance that interfaces with our memory provider\n",
    "2. Register each function as a discoverable tool within the system\n",
    "3. Generate embedding vectors and metadata to enable contextual discovery\n",
    "4. Persist the registered tools in the memory provider for cross-session availability\n",
    "\n",
    "The registration process automatically analyzes function signatures, docstrings, and behavior patterns to create comprehensive tool schemas that language models can understand and invoke during agent interactions.\n"
   ]
  },
  {
   "cell_type": "code",
   "execution_count": 10,
   "metadata": {},
   "outputs": [
    {
     "data": {
      "text/plain": [
       "'689caba8d37d383690b36265'"
      ]
     },
     "execution_count": 10,
     "metadata": {},
     "output_type": "execute_result"
    }
   ],
   "source": [
    "from memorizz.long_term_memory.procedural.toolbox import Toolbox\n",
    "\n",
    "toolbox = Toolbox(memory_provider=memory_provider)\n",
    "\n",
    "# Now the tools are registered in the memory provider within the toolbox\n",
    "toolbox.register_tool(get_weather)\n",
    "toolbox.register_tool(get_stock_price)"
   ]
  },
  {
   "cell_type": "markdown",
   "metadata": {},
   "source": [
    "\n",
    "### Step 3: Retrieving Tools from the Toolbox Repository\n",
    "\n",
    "The MemoRizz toolbox provides multiple access patterns for tool retrieval, accommodating different operational needs:\n",
    "\n",
    "1. **Deterministic Retrieval by Name**: The `get_tool_by_name()` method enables direct access to specific tools using their registered function names. This approach is ideal when you know exactly which tool you need.\n",
    "\n",
    "2. **Retrieval by Unique Identifier**: The `get_tool_by_id()` method allows precise tool access using the unique ID assigned during registration. This method is particularly useful in distributed systems or when tool names might overlap across different domains.\n",
    "\n",
    "3. **Semantic Discovery**: The `get_most_similar_tools()` method leverages vector embeddings to identify contextually relevant tools based on natural language queries. This powerful capability allows agents to discover appropriate tools without knowing their exact names.\n",
    "\n",
    "4. **Comprehensive Inventory**: The `list_tools()` method provides a complete catalog of all registered tools in the toolbox repository, enabling auditing, documentation generation, and management operations.\n",
    "\n",
    "Each retrieval method returns both the tool metadata (parameters, descriptions, etc.) and the callable Python function reference, ensuring seamless integration between the semantic discovery layer and executable functionality.\n"
   ]
  },
  {
   "cell_type": "code",
   "execution_count": 11,
   "metadata": {},
   "outputs": [],
   "source": [
    "specific_tool = toolbox.get_tool_by_name(\"get_stock_price\")\n",
    "specific_tool"
   ]
  },
  {
   "cell_type": "code",
   "execution_count": 12,
   "metadata": {},
   "outputs": [
    {
     "data": {
      "text/plain": [
       "[{'_id': ObjectId('6894ecadcb348e000d054e7d'),\n",
       "  'function': {'name': 'updated_get_stock_price',\n",
       "   'description': 'Retrieve the current stock price for a given ticker symbol, with options for specifying the currency. This function is useful for investors or analysts looking to obtain real-time market data in different currencies.',\n",
       "   'parameters': [{'name': 'ticker',\n",
       "     'description': \"The stock ticker symbol represents a specific company's stock, such as 'AAPL' for Apple Inc. This parameter is required and must be a valid ticker symbol.\",\n",
       "     'type': 'string',\n",
       "     'required': True},\n",
       "    {'name': 'currency',\n",
       "     'description': \"Specifies the currency in which the stock price should be returned. The default value is 'USD' (U.S. Dollar). This parameter is optional and should be a valid currency code as per ISO 4217 standards.\",\n",
       "     'type': 'string',\n",
       "     'required': False}],\n",
       "   'required': ['ticker'],\n",
       "   'queries': [\"What is the current stock price for 'GOOGL' in EUR?\",\n",
       "    \"Get the stock price for 'TSLA'.\",\n",
       "    \"Retrieve Apple's stock price in GBP.\"]},\n",
       "  'queries': 'Here are some example queries to leverage the `get_stock_price` function:\\n\\n1. **Check the current price of a stock:**\\n   ```python\\n   >>> get_stock_price(\"TSLA\")\\n   ```\\n\\n2. **Get the stock price in a different currency:**\\n   ```python\\n   >>> get_stock_price(\"AMZN\", currency=\"GBP\")\\n   ```\\n\\n3. **Retrieve the stock price for a European company:**\\n   ```python\\n   >>> get_stock_price(\"SAP\", currency=\"EUR\")\\n   ```\\n\\n4. **Find the price of a tech stock in US dollars:**\\n   ```python\\n   >>> get_stock_price(\"MSFT\")\\n   ```\\n\\n5. **Determine the stock price of a bank with conversion:**\\n   ```python\\n   >>> get_stock_price(\"HSBC\", currency=\"USD\")\\n   ```\\n\\n6. **Fetch the price for a retail company in euros:**\\n   ```python\\n   >>> get_stock_price(\"H&M\", currency=\"EUR\")\\n   ```\\n\\n7. **Check a company\\'s stock price during market hours:**\\n   ```python\\n   >>> get_stock_price(\"FB\")\\n   ```\\n\\n8. **Get historical stock price data notes:**\\n   ```python\\n   >>> get_stock_price(\"NFLX\", currency=\"USD\")\\n   ```\\n\\n9. **Track price changes of a specific stock:**\\n   ```python\\n   >>> get_stock_price(\"ADBE\", currency=\"USD\")\\n   ```\\n\\n10. **Obtain stock information for financial analysis:**\\n   ```python\\n   >>> get_stock_price(\"JPM\", currency=\"USD\")\\n   ```',\n",
       "  'type': 'function',\n",
       "  'score': 0.7943747043609619}]"
      ]
     },
     "execution_count": 12,
     "metadata": {},
     "output_type": "execute_result"
    }
   ],
   "source": [
    "# Get similar tools\n",
    "similar_tools = toolbox.get_most_similar_tools(\"Get the stock price for Apple\", limit=1)\n",
    "similar_tools"
   ]
  },
  {
   "cell_type": "code",
   "execution_count": 13,
   "metadata": {},
   "outputs": [
    {
     "data": {
      "text/plain": [
       "[{'_id': ObjectId('6894ecadcb348e000d054e7d'),\n",
       "  'function': {'name': 'updated_get_stock_price',\n",
       "   'description': 'Retrieve the current stock price for a given ticker symbol, with options for specifying the currency. This function is useful for investors or analysts looking to obtain real-time market data in different currencies.',\n",
       "   'parameters': [{'name': 'ticker',\n",
       "     'description': \"The stock ticker symbol represents a specific company's stock, such as 'AAPL' for Apple Inc. This parameter is required and must be a valid ticker symbol.\",\n",
       "     'type': 'string',\n",
       "     'required': True},\n",
       "    {'name': 'currency',\n",
       "     'description': \"Specifies the currency in which the stock price should be returned. The default value is 'USD' (U.S. Dollar). This parameter is optional and should be a valid currency code as per ISO 4217 standards.\",\n",
       "     'type': 'string',\n",
       "     'required': False}],\n",
       "   'required': ['ticker'],\n",
       "   'queries': [\"What is the current stock price for 'GOOGL' in EUR?\",\n",
       "    \"Get the stock price for 'TSLA'.\",\n",
       "    \"Retrieve Apple's stock price in GBP.\"]},\n",
       "  'queries': 'Here are some example queries to leverage the `get_stock_price` function:\\n\\n1. **Check the current price of a stock:**\\n   ```python\\n   >>> get_stock_price(\"TSLA\")\\n   ```\\n\\n2. **Get the stock price in a different currency:**\\n   ```python\\n   >>> get_stock_price(\"AMZN\", currency=\"GBP\")\\n   ```\\n\\n3. **Retrieve the stock price for a European company:**\\n   ```python\\n   >>> get_stock_price(\"SAP\", currency=\"EUR\")\\n   ```\\n\\n4. **Find the price of a tech stock in US dollars:**\\n   ```python\\n   >>> get_stock_price(\"MSFT\")\\n   ```\\n\\n5. **Determine the stock price of a bank with conversion:**\\n   ```python\\n   >>> get_stock_price(\"HSBC\", currency=\"USD\")\\n   ```\\n\\n6. **Fetch the price for a retail company in euros:**\\n   ```python\\n   >>> get_stock_price(\"H&M\", currency=\"EUR\")\\n   ```\\n\\n7. **Check a company\\'s stock price during market hours:**\\n   ```python\\n   >>> get_stock_price(\"FB\")\\n   ```\\n\\n8. **Get historical stock price data notes:**\\n   ```python\\n   >>> get_stock_price(\"NFLX\", currency=\"USD\")\\n   ```\\n\\n9. **Track price changes of a specific stock:**\\n   ```python\\n   >>> get_stock_price(\"ADBE\", currency=\"USD\")\\n   ```\\n\\n10. **Obtain stock information for financial analysis:**\\n   ```python\\n   >>> get_stock_price(\"JPM\", currency=\"USD\")\\n   ```',\n",
       "  'type': 'function'},\n",
       " {'_id': ObjectId('6894ed9c3303403ca8d74ed6'),\n",
       "  'function': {'name': 'get_weather',\n",
       "   'description': 'Retrieve real-time weather information for a specific geographic location based on provided latitude and longitude coordinates. This function accesses a weather service to deliver current conditions, such as temperature, humidity, wind speed, and precipitation information, which can be used for planning outdoor activities, travel, or general interest in climate patterns.',\n",
       "   'parameters': [{'name': 'latitude',\n",
       "     'description': 'The geographic coordinate that specifies the north-south position of a location. The value must be a float between -90 and 90, representing degrees north or south of the equator. This parameter is required to accurately identify the location for which weather data is to be retrieved.',\n",
       "     'type': 'float or double precision number.',\n",
       "     'required': True},\n",
       "    {'name': 'longitude',\n",
       "     'description': 'The geographic coordinate that specifies the east-west position of a location. The value must be a float between -180 and 180, representing degrees east or west of the Prime Meridian. This parameter is required to accurately identify the location for which weather data is to be retrieved.',\n",
       "     'type': 'float or double precision number.',\n",
       "     'required': True}],\n",
       "   'required': ['latitude', 'longitude'],\n",
       "   'queries': ['Get the current weather for New York City using its latitude and longitude coordinates.',\n",
       "    'Retrieve weather conditions for the coordinates of the Eiffel Tower.',\n",
       "    'Obtain weather data for a remote location at specific latitude and longitude coordinates for scientific research.']},\n",
       "  'type': 'function'},\n",
       " {'_id': ObjectId('6894eda33303403ca8d74ed7'),\n",
       "  'function': {'name': 'calculate_distance',\n",
       "   'description': 'Calculate the distance between two cities. Given the names of two cities, this function determines and returns the geographical distance between them, typically in kilometers. The method uses geolocation data to calculate an accurate measurement, making it useful for travel planning, logistics, and geographic analysis.',\n",
       "   'parameters': [{'name': 'city1',\n",
       "     'description': 'The name of the first city. This parameter is required and should be a valid city name. It represents the starting point for the distance calculation.',\n",
       "     'type': 'string',\n",
       "     'required': True},\n",
       "    {'name': 'city2',\n",
       "     'description': 'The name of the second city. This parameter is required and should be a valid city name. It represents the endpoint for the distance calculation.',\n",
       "     'type': 'string',\n",
       "     'required': True}],\n",
       "   'required': ['city1', 'city2'],\n",
       "   'queries': [\"calculate_distance('New York', 'Los Angeles')\",\n",
       "    \"calculate_distance('London', 'Paris')\",\n",
       "    \"calculate_distance('Tokyo', 'Seoul')\"]},\n",
       "  'type': 'object'},\n",
       " {'_id': ObjectId('6894edf33303403ca8d74ed9'),\n",
       "  'function': {'name': 'get_weather',\n",
       "   'description': 'Retrieve current weather information for a specified geographic location using latitude and longitude coordinates. The function provides detailed weather data, such as temperature, humidity, wind conditions, and weather descriptions, which can be used for various applications, including travel planning, agriculture management, and disaster preparedness.',\n",
       "   'parameters': [{'name': 'latitude',\n",
       "     'description': 'The latitude of the geographic location for which the weather information is required. Must be a floating-point number representing degrees and is constrained to values between -90 and 90, where positive values indicate the northern hemisphere and negative values indicate the southern hemisphere.',\n",
       "     'type': 'float',\n",
       "     'required': True},\n",
       "    {'name': 'longitude',\n",
       "     'description': 'The longitude of the geographic location for which the weather information is required. Must be a floating-point number representing degrees and is constrained to values between -180 and 180, where positive values indicate the eastern hemisphere and negative values indicate the western hemisphere.',\n",
       "     'type': 'float',\n",
       "     'required': True}],\n",
       "   'required': ['latitude', 'longitude'],\n",
       "   'queries': ['What is the current weather at the coordinates (40.7128, -74.0060)?',\n",
       "    'Provide the weather forecast for a latitude of 34.0522 and longitude of -118.2437.']},\n",
       "  'type': 'function'},\n",
       " {'_id': ObjectId('6894edfa3303403ca8d74eda'),\n",
       "  'function': {'name': 'calculate_distance',\n",
       "   'description': 'Calculate the distance between two cities based on their geographical locations. This function retrieves and computes the shortest travel distance between the specified cities, providing results in either kilometers or miles.',\n",
       "   'parameters': [{'name': 'city1',\n",
       "     'description': 'The name of the first city to calculate the distance from. This should be a valid city name and must be provided in string format.',\n",
       "     'type': 'string',\n",
       "     'required': True},\n",
       "    {'name': 'city2',\n",
       "     'description': 'The name of the second city to calculate the distance to. This should be a valid city name and must be provided in string format.',\n",
       "     'type': 'string',\n",
       "     'required': True}],\n",
       "   'required': ['city1', 'city2'],\n",
       "   'queries': [\"calculate_distance(city1='New York', city2='Los Angeles')\",\n",
       "    \"calculate_distance(city1='London', city2='Paris')\"]},\n",
       "  'type': 'object'},\n",
       " {'_id': ObjectId('6894ee003303403ca8d74edb'),\n",
       "  'function': {'name': 'book_flight',\n",
       "   'description': 'This function books a flight between two specified cities on a given date. It requires the origin city, destination city, and date of travel to complete the booking. Once executed, it returns a confirmation of the booking status.',\n",
       "   'parameters': [{'name': 'origin',\n",
       "     'description': \"The city from which the flight will depart. This should be provided as a string representing the city name or airport code. Example: 'New York' or 'JFK'.\",\n",
       "     'type': 'string',\n",
       "     'required': True},\n",
       "    {'name': 'destination',\n",
       "     'description': \"The city where the flight is heading. This should be provided as a string representing the city name or airport code. Example: 'Los Angeles' or 'LAX'.\",\n",
       "     'type': 'string',\n",
       "     'required': True},\n",
       "    {'name': 'date',\n",
       "     'description': \"The date of the flight in YYYY-MM-DD format. This must be a valid future date. Example: '2023-12-25'.\",\n",
       "     'type': 'string',\n",
       "     'required': True}],\n",
       "   'required': ['origin', 'destination', 'date'],\n",
       "   'queries': [\"book_flight('New York', 'Los Angeles', '2023-12-25')\",\n",
       "    \"book_flight('Tokyo', 'San Francisco', '2024-01-15')\"]},\n",
       "  'type': 'function'},\n",
       " {'_id': ObjectId('6894ee063303403ca8d74edc'),\n",
       "  'function': {'name': 'get_currency_rate',\n",
       "   'description': 'Retrieve the exchange rate between two specified currencies. This function takes two currency codes as input and returns the current exchange rate from the source currency to the target currency. It is useful for financial applications that require currency conversion.',\n",
       "   'parameters': [{'name': 'from_currency',\n",
       "     'description': \"The ISO 4217 code of the currency you want to convert from, such as 'USD' for US Dollar. This parameter is required.\",\n",
       "     'type': 'string',\n",
       "     'required': True},\n",
       "    {'name': 'to_currency',\n",
       "     'description': \"The ISO 4217 code of the currency you want to convert to, such as 'EUR' for Euro. This parameter is required.\",\n",
       "     'type': 'string',\n",
       "     'required': True}],\n",
       "   'required': ['from_currency', 'to_currency'],\n",
       "   'queries': ['What is the exchange rate from USD to EUR?',\n",
       "    'Convert GBP to JPY.',\n",
       "    'How much is 100 CAD in AUD?']},\n",
       "  'type': 'function'},\n",
       " {'_id': ObjectId('6894f25af56e448906b1db35'),\n",
       "  'function': {'name': 'get_weather',\n",
       "   'description': 'Retrieve weather information for a specific geographic location based on latitude and longitude coordinates. This function can be used to obtain current weather data including temperature, humidity, and atmospheric conditions for a specified location globally. Essential for applications that need to provide users with real-time weather updates based on their precise location.',\n",
       "   'parameters': [{'name': 'latitude',\n",
       "     'description': 'The latitude of the location for which to retrieve the weather data. Must be a float between -90 and 90, inclusive, representing degrees north or south of the equator. Required.',\n",
       "     'type': 'float',\n",
       "     'required': True},\n",
       "    {'name': 'longitude',\n",
       "     'description': 'The longitude of the location for which to retrieve the weather data. Must be a float between -180 and 180, inclusive, representing degrees east or west of the prime meridian. Required.',\n",
       "     'type': 'float',\n",
       "     'required': True}],\n",
       "   'required': ['latitude', 'longitude'],\n",
       "   'queries': ['Get weather data for New York City using latitude 40.7128 and longitude -74.0060.',\n",
       "    'Retrieve current weather conditions for latitude 37.7749 and longitude -122.4194, corresponding to San Francisco.']},\n",
       "  'type': 'metadata'},\n",
       " {'_id': ObjectId('6894f260f56e448906b1db36'),\n",
       "  'function': {'name': 'calculate_distance',\n",
       "   'description': 'Calculate the distance between two specified cities in kilometers. This function takes the names of two cities as input and returns a string representing the distance between them. It uses geographical data to compute this distance accurately, accounting for the curvature of the Earth using the great-circle distance formula.',\n",
       "   'parameters': [{'name': 'city1',\n",
       "     'description': 'The name of the first city. This should be a valid city name recognized by the geographic database. It is used as the starting point for distance calculation.',\n",
       "     'type': 'string',\n",
       "     'required': True},\n",
       "    {'name': 'city2',\n",
       "     'description': 'The name of the second city. This should also be a valid city name recognized by the geographic database. It is used as the endpoint for distance calculation.',\n",
       "     'type': 'string',\n",
       "     'required': True}],\n",
       "   'required': ['city1', 'city2'],\n",
       "   'queries': [\"calculate_distance(city1='New York', city2='Los Angeles')\",\n",
       "    \"calculate_distance(city1='London', city2='Paris')\"]},\n",
       "  'type': 'function'},\n",
       " {'_id': ObjectId('6894f267f56e448906b1db37'),\n",
       "  'function': {'name': 'book_flight',\n",
       "   'description': 'This function allows users to book a flight between two specified cities on a particular date. It requires the origin and destination cities along with the desired flight date. The function returns a confirmation or booking reference for the flight.',\n",
       "   'parameters': [{'name': 'origin',\n",
       "     'description': \"The departure city of the flight. It must be a valid city name where the flight originates. For example, 'New York'.\",\n",
       "     'type': 'string',\n",
       "     'required': True},\n",
       "    {'name': 'destination',\n",
       "     'description': \"The arrival city of the flight. It must be a valid city name where the flight ends. For example, 'Los Angeles'.\",\n",
       "     'type': 'string',\n",
       "     'required': True},\n",
       "    {'name': 'date',\n",
       "     'description': \"The date of the flight in the format 'YYYY-MM-DD'. It must be a future date to ensure the booking can be made.\",\n",
       "     'type': 'string',\n",
       "     'required': True}],\n",
       "   'required': ['origin', 'destination', 'date'],\n",
       "   'queries': ['Book a flight from New York to Los Angeles on 2023-12-25.',\n",
       "    'Reserve a seat from Chicago to Miami on 2023-11-10.']},\n",
       "  'type': 'object'},\n",
       " {'_id': ObjectId('6894f26ef56e448906b1db38'),\n",
       "  'function': {'name': 'get_currency_rate',\n",
       "   'description': 'This function fetches the current exchange rate between two specified currencies. It is useful for converting amounts between different currencies, allowing users to understand the value of one currency in terms of another. The function returns the exchange rate as a string, which can be used in financial applications, budgeting tools, or travel expense calculators. The data is typically sourced from a reliable financial data provider.',\n",
       "   'parameters': [{'name': 'from_currency',\n",
       "     'description': \"The ISO 4217 code of the currency you wish to convert from, such as 'USD' for US Dollars. This parameter is required and must be a three-letter uppercase string.\",\n",
       "     'type': 'string',\n",
       "     'required': True},\n",
       "    {'name': 'to_currency',\n",
       "     'description': \"The ISO 4217 code of the currency you wish to convert to, like 'EUR' for Euros. This parameter is required and must be a three-letter uppercase string.\",\n",
       "     'type': 'string',\n",
       "     'required': True}],\n",
       "   'required': ['from_currency', 'to_currency'],\n",
       "   'queries': ['What is the exchange rate from USD to EUR?',\n",
       "    'Convert 100 JPY to GBP.',\n",
       "    'How much is 1 BTC in USD?']},\n",
       "  'type': 'function'},\n",
       " {'_id': ObjectId('689c9f5949e226b10bee5f49'),\n",
       "  'function': {'name': 'get_weather',\n",
       "   'description': 'Fetches the current weather information for a specified geographic location using latitude and longitude coordinates. This function accesses real-time weather databases to provide accurate forecasts and conditions, including temperature, humidity, wind speed, and other relevant meteorological data.',\n",
       "   'parameters': [{'name': 'latitude',\n",
       "     'description': 'A float representing the geographical latitude of the location. Values range from -90.0 to 90.0. Positive values indicate northern latitude, while negative values indicate southern latitude.',\n",
       "     'type': 'float',\n",
       "     'required': True},\n",
       "    {'name': 'longitude',\n",
       "     'description': 'A float representing the geographical longitude of the location. Values range from -180.0 to 180.0. Positive values indicate eastern longitude, while negative values indicate western longitude.',\n",
       "     'type': 'float',\n",
       "     'required': True}],\n",
       "   'required': ['latitude', 'longitude'],\n",
       "   'queries': ['Retrieve the current weather for New York City using its geographical coordinates: latitude 40.7128, longitude -74.0060.',\n",
       "    \"Get the weather forecast for the Eiffel Tower's location: latitude 48.8584, longitude 2.2945.\"]},\n",
       "  'type': 'object'},\n",
       " {'_id': ObjectId('689c9f6049e226b10bee5f4a'),\n",
       "  'function': {'name': 'get_stock_price',\n",
       "   'description': 'Fetch the current stock price for a specified stock symbol using yahooquery, implementing retry and backoff strategies to manage potential rate-limit issues.',\n",
       "   'parameters': [{'name': 'symbol',\n",
       "     'description': 'The stock ticker symbol representing the stock. It must be a string, such as \"AAPL\" for Apple Inc. This parameter is required.',\n",
       "     'type': 'string',\n",
       "     'required': True},\n",
       "    {'name': 'currency',\n",
       "     'description': 'The currency code, meant for informational purposes. It should be a string like \"USD\", although yahooquery returns stock prices in their native currency regardless of this setting. This parameter is optional and defaults to \\'USD\\'.',\n",
       "     'type': 'string',\n",
       "     'required': False},\n",
       "    {'name': 'retry',\n",
       "     'description': 'The number of times the function should attempt to retry fetching the stock price in case of failure. This should be an integer and defaults to 3 retries.',\n",
       "     'type': 'integer',\n",
       "     'required': False},\n",
       "    {'name': 'backoff',\n",
       "     'description': 'The backoff factor in seconds to wait before each retry attempt. It defines the delay between retries as a float, with a default value of 0.5 seconds.',\n",
       "     'type': 'number',\n",
       "     'required': False}],\n",
       "   'required': ['symbol'],\n",
       "   'queries': [\"Example 1: To get the stock price of Apple Inc. in its native currency with default retries and backoff - get_stock_price(symbol='AAPL')\",\n",
       "    \"Example 2: To retrieve the stock price of Tesla in GBP with 5 retry attempts and 1 second backoff - get_stock_price(symbol='TSLA', currency='GBP', retry=5, backoff=1.0)\"]},\n",
       "  'type': 'function'},\n",
       " {'_id': ObjectId('689ca0a71018716aa5a62509'),\n",
       "  'function': {'name': 'get_weather',\n",
       "   'description': 'Fetches the current weather information for a specific geographical location using latitude and longitude coordinates.',\n",
       "   'parameters': [{'name': 'latitude',\n",
       "     'description': 'The latitude of the location for which the weather data is requested. It should be a decimal number representing the degrees north or south of the equator, within the range of -90 to 90. This parameter is required.',\n",
       "     'type': 'number',\n",
       "     'required': True},\n",
       "    {'name': 'longitude',\n",
       "     'description': 'The longitude of the location for which the weather data is requested. It should be a decimal number representing the degrees east or west of the Prime Meridian, within the range of -180 to 180. This parameter is required.',\n",
       "     'type': 'number',\n",
       "     'required': True}],\n",
       "   'required': ['latitude', 'longitude'],\n",
       "   'queries': ['Retrieve current weather data for New York City using its latitude and longitude.',\n",
       "    'Get weather conditions for a given point in the Sahara Desert using coordinates.']},\n",
       "  'type': 'object'},\n",
       " {'_id': ObjectId('689ca0ad1018716aa5a6250a'),\n",
       "  'function': {'name': 'get_stock_price',\n",
       "   'description': 'This function retrieves the current stock price for a specified stock symbol using the Yahoo Query library. It includes mechanisms to handle rate-limit errors through retries and backoff strategies.',\n",
       "   'parameters': [{'name': 'symbol',\n",
       "     'description': \"The stock ticker symbol, such as 'AAPL' for Apple Inc. This parameter is required.\",\n",
       "     'type': 'string',\n",
       "     'required': True},\n",
       "    {'name': 'currency',\n",
       "     'description': \"The currency code in which the price is expressed. Although currently informational only, as the function returns the native currency by default (e.g., 'USD').\",\n",
       "     'type': 'string',\n",
       "     'required': False},\n",
       "    {'name': 'retry',\n",
       "     'description': 'The number of attempts to retry fetching the data upon encountering failures. Default value is 3 retries.',\n",
       "     'type': 'integer',\n",
       "     'required': False},\n",
       "    {'name': 'backoff',\n",
       "     'description': 'The time in seconds to wait between retry attempts. This helps in minimizing rapid subsequent requests after a failure. Default value is 0.5 seconds.',\n",
       "     'type': 'float',\n",
       "     'required': False}],\n",
       "   'required': ['symbol'],\n",
       "   'queries': [\"get_stock_price(symbol='AAPL')\",\n",
       "    \"get_stock_price(symbol='GOOGL', currency='EUR', retry=5, backoff=1.0)\"]},\n",
       "  'type': 'ToolSchemaType'},\n",
       " {'_id': ObjectId('689caba3d37d383690b36264'),\n",
       "  'function': {'name': 'get_weather',\n",
       "   'description': 'Retrieves the current weather information for a specified geographic location identified by latitude and longitude coordinates. Useful in applications such as travel planning, outdoor activity scheduling, or real-time weather monitoring for specific areas.',\n",
       "   'parameters': [{'name': 'latitude',\n",
       "     'description': 'The geographical latitude of the location for which the weather information is requested. It must be a floating-point number between -90.0 and 90.0, where positive values indicate the northern hemisphere.',\n",
       "     'type': 'float',\n",
       "     'required': True},\n",
       "    {'name': 'longitude',\n",
       "     'description': 'The geographical longitude of the location for which the weather information is requested. It must be a floating-point number between -180.0 and 180.0, where positive values indicate the eastern hemisphere.',\n",
       "     'type': 'float',\n",
       "     'required': True}],\n",
       "   'required': ['latitude', 'longitude'],\n",
       "   'queries': ['Get the weather for New York City using its coordinates (40.7128, -74.0060).',\n",
       "    'Retrieve weather information for the Eiffel Tower area (48.8584, 2.2945).',\n",
       "    'Check current weather for Sydney, Australia (-33.8688, 151.2093).']},\n",
       "  'type': 'function'},\n",
       " {'_id': ObjectId('689caba8d37d383690b36265'),\n",
       "  'function': {'name': 'get_stock_price',\n",
       "   'description': 'Retrieve the current stock price for a given symbol using yahooquery. This function implements a retry mechanism with a backoff factor to manage rate-limit issues. It provides real-time stock price information, ideal for financial data analysis and monitoring stock market trends.',\n",
       "   'parameters': [{'name': 'symbol',\n",
       "     'description': \"A required string parameter representing the stock ticker symbol. For example, 'AAPL' for Apple Inc. It is a unique identifier for publicly traded shares.\",\n",
       "     'type': 'string',\n",
       "     'required': True},\n",
       "    {'name': 'currency',\n",
       "     'description': \"An optional string parameter specifying the currency code. This is informational only as yahooquery returns prices in the stock's native currency. Default is 'USD'.\",\n",
       "     'type': 'string',\n",
       "     'required': False},\n",
       "    {'name': 'retry',\n",
       "     'description': 'An optional integer parameter indicating the number of retries allowed in case of a failure due to rate-limit issues. Default is 3 retries.',\n",
       "     'type': 'integer',\n",
       "     'required': False},\n",
       "    {'name': 'backoff',\n",
       "     'description': 'An optional float parameter specifying the backoff factor in seconds between retries to manage rate-limit issues efficiently. Default is 0.5 seconds.',\n",
       "     'type': 'number',\n",
       "     'required': False}],\n",
       "   'required': ['symbol'],\n",
       "   'queries': [\"Get the stock price for Apple using the symbol 'AAPL' with default settings.\",\n",
       "    \"Fetch the stock price for Tesla ('TSLA') with a specified retry of 5 and a backoff of 1 second.\"]},\n",
       "  'type': 'function'}]"
      ]
     },
     "execution_count": 13,
     "metadata": {},
     "output_type": "execute_result"
    }
   ],
   "source": [
    "list_all_tools = toolbox.list_tools()\n",
    "list_all_tools"
   ]
  },
  {
   "cell_type": "code",
   "execution_count": 14,
   "metadata": {},
   "outputs": [
    {
     "data": {
      "text/plain": [
       "{'_id': ObjectId('6894ecadcb348e000d054e7d'),\n",
       " 'function': {'name': 'updated_get_stock_price',\n",
       "  'description': 'Retrieve the current stock price for a given ticker symbol, with options for specifying the currency. This function is useful for investors or analysts looking to obtain real-time market data in different currencies.',\n",
       "  'parameters': [{'name': 'ticker',\n",
       "    'description': \"The stock ticker symbol represents a specific company's stock, such as 'AAPL' for Apple Inc. This parameter is required and must be a valid ticker symbol.\",\n",
       "    'type': 'string',\n",
       "    'required': True},\n",
       "   {'name': 'currency',\n",
       "    'description': \"Specifies the currency in which the stock price should be returned. The default value is 'USD' (U.S. Dollar). This parameter is optional and should be a valid currency code as per ISO 4217 standards.\",\n",
       "    'type': 'string',\n",
       "    'required': False}],\n",
       "  'required': ['ticker'],\n",
       "  'queries': [\"What is the current stock price for 'GOOGL' in EUR?\",\n",
       "   \"Get the stock price for 'TSLA'.\",\n",
       "   \"Retrieve Apple's stock price in GBP.\"]},\n",
       " 'queries': 'Here are some example queries to leverage the `get_stock_price` function:\\n\\n1. **Check the current price of a stock:**\\n   ```python\\n   >>> get_stock_price(\"TSLA\")\\n   ```\\n\\n2. **Get the stock price in a different currency:**\\n   ```python\\n   >>> get_stock_price(\"AMZN\", currency=\"GBP\")\\n   ```\\n\\n3. **Retrieve the stock price for a European company:**\\n   ```python\\n   >>> get_stock_price(\"SAP\", currency=\"EUR\")\\n   ```\\n\\n4. **Find the price of a tech stock in US dollars:**\\n   ```python\\n   >>> get_stock_price(\"MSFT\")\\n   ```\\n\\n5. **Determine the stock price of a bank with conversion:**\\n   ```python\\n   >>> get_stock_price(\"HSBC\", currency=\"USD\")\\n   ```\\n\\n6. **Fetch the price for a retail company in euros:**\\n   ```python\\n   >>> get_stock_price(\"H&M\", currency=\"EUR\")\\n   ```\\n\\n7. **Check a company\\'s stock price during market hours:**\\n   ```python\\n   >>> get_stock_price(\"FB\")\\n   ```\\n\\n8. **Get historical stock price data notes:**\\n   ```python\\n   >>> get_stock_price(\"NFLX\", currency=\"USD\")\\n   ```\\n\\n9. **Track price changes of a specific stock:**\\n   ```python\\n   >>> get_stock_price(\"ADBE\", currency=\"USD\")\\n   ```\\n\\n10. **Obtain stock information for financial analysis:**\\n   ```python\\n   >>> get_stock_price(\"JPM\", currency=\"USD\")\\n   ```',\n",
       " 'type': 'function'}"
      ]
     },
     "execution_count": 14,
     "metadata": {},
     "output_type": "execute_result"
    }
   ],
   "source": [
    "# Get a tool by id\n",
    "tool_id = similar_tools[0][\"_id\"]\n",
    "tool_retrieved_by_id = toolbox.get_tool_by_id(tool_id)\n",
    "tool_retrieved_by_id"
   ]
  },
  {
   "cell_type": "markdown",
   "metadata": {},
   "source": [
    "\n",
    "### Creating a MemAgent with a Toolbox\n",
    "\n",
    "#### Design Considerations\n",
    "\n",
    "- A tool added via the `add_tool` method to the MemAgent will be located in the `tools` attribute of the agent itself. This approach ensures each agent maintains its own isolated tool registry.\n",
    "\n",
    "- A copy of the tool in the toolbox is made and stored within the MemAgent, preserving the tool's metadata, schema, and function reference. This design prevents cross-agent contamination when tool implementations are updated.\n",
    "\n",
    "- Methods such as `refresh_tools(tool_id)` allow you to update specific tools within an agent when their implementations change in the source toolbox. This ensures agents can receive tool updates without complete reconfiguration.\n",
    "\n",
    "- The `tool_access` attribute determines how tools are discovered during agent execution:\n",
    "  - When set to `\"private\"` (default), agents only access tools explicitly added to them\n",
    "  - When set to `\"global\"`, agents can dynamically discover any tool in the toolbox based on query relevance\n",
    "\n",
    "- Each agent maintains a private map of `tool_id → python_function` references in the `_tool_functions` attribute, ensuring function calls are properly directed to their implementations.\n",
    "\n",
    "- When an agent is persisted via `save()`, tool references are stored in the database, making them available after application restarts or when loading agents on different machines.\n",
    "\n",
    "- Tools with missing implementations are gracefully handled during agent execution with informative error messages rather than runtime failures.\n",
    "\n",
    "- You can inspect an agent's available tools using the native `list_tools()` method inherited from the toolbox interface.\n",
    "\n",
    "This architecture provides a clean separation between tool definition (in the toolbox) and tool availability (in the agent), enabling fine-grained control over which capabilities are exposed to different agents in your system.\n"
   ]
  },
  {
   "cell_type": "markdown",
   "metadata": {},
   "source": [
    "Create a MemAgent and pass in the memory provider that the agent is stored in"
   ]
  },
  {
   "cell_type": "code",
   "execution_count": 15,
   "metadata": {},
   "outputs": [],
   "source": [
    "from memorizz import MemAgent\n",
    "\n",
    "monday_agent = MemAgent(memory_provider=memory_provider)"
   ]
  },
  {
   "cell_type": "code",
   "execution_count": 16,
   "metadata": {},
   "outputs": [
    {
     "data": {
      "text/plain": [
       "MemAgent(agent_id=689cabb4d37d383690b36266, memory_provider=<memorizz.memory_provider.mongodb.provider.MongoDBProvider object at 0x117963b50>)"
      ]
     },
     "execution_count": 16,
     "metadata": {},
     "output_type": "execute_result"
    }
   ],
   "source": [
    "# Save the agent to the memory provider\n",
    "monday_agent.save()"
   ]
  },
  {
   "cell_type": "markdown",
   "metadata": {},
   "source": [
    "\n",
    "The `add_tool` method can add tools to the Agent document in two ways:\n",
    "\n",
    "1. **Individual Tool Registration**: By providing a specific `tool_id` parameter, agents can selectively incorporate a single tool from the toolbox. This approach gives precise control over which capabilities are available to each agent.\n",
    "\n",
    "2. **Bulk Toolbox Integration**: By passing an entire `toolbox` instance, agents can automatically import all compatible tools in a single operation. This method is efficient when you want an agent to have access to a predefined set of related capabilities.\n",
    "\n",
    "In both cases, the system handles:\n",
    "- Resolving tool metadata from the memory provider\n",
    "- Connecting to the actual Python function implementations\n",
    "- Ensuring the tools are properly formatted for LLM function-calling\n",
    "- Persisting the tool references in the agent's configuration\n",
    "\n",
    "This flexibility allows developers to create specialized agents with targeted functionality or general-purpose agents with comprehensive tool access, all while maintaining a clean separation between tool definition and agent configuration.\n"
   ]
  },
  {
   "cell_type": "code",
   "execution_count": 17,
   "metadata": {},
   "outputs": [
    {
     "data": {
      "text/plain": [
       "True"
      ]
     },
     "execution_count": 17,
     "metadata": {},
     "output_type": "execute_result"
    }
   ],
   "source": [
    "\n",
    "monday_agent.add_tool(toolbox=toolbox)"
   ]
  },
  {
   "cell_type": "code",
   "execution_count": 18,
   "metadata": {},
   "outputs": [
    {
     "data": {
      "text/plain": [
       "MemAgent(agent_id=689cabb4d37d383690b36266, memory_provider=<memorizz.memory_provider.mongodb.provider.MongoDBProvider object at 0x117963b50>)"
      ]
     },
     "execution_count": 18,
     "metadata": {},
     "output_type": "execute_result"
    }
   ],
   "source": [
    "monday_agent"
   ]
  },
  {
   "cell_type": "code",
   "execution_count": 19,
   "metadata": {},
   "outputs": [
    {
     "data": {
      "text/plain": [
       "'The current stock price of Apple (AAPL) is $232.01 USD. If you need more details or a live update, let me know!'"
      ]
     },
     "execution_count": 19,
     "metadata": {},
     "output_type": "execute_result"
    }
   ],
   "source": [
    "monday_agent.run(\"Get me the stock price of Apple\")"
   ]
  },
  {
   "cell_type": "code",
   "execution_count": 20,
   "metadata": {},
   "outputs": [
    {
     "data": {
      "text/plain": [
       "'The current weather in London is 25.7°C. If you need additional details such as humidity, wind speed, or a forecast for the coming days, just let me know!'"
      ]
     },
     "execution_count": 20,
     "metadata": {},
     "output_type": "execute_result"
    }
   ],
   "source": [
    "monday_agent.run(\"Get me the weather in London\")"
   ]
  },
  {
   "cell_type": "markdown",
   "metadata": {},
   "source": [
    "### Step 4: Updating Tools"
   ]
  },
  {
   "cell_type": "code",
   "execution_count": 21,
   "metadata": {},
   "outputs": [
    {
     "data": {
      "text/plain": [
       "True"
      ]
     },
     "execution_count": 21,
     "metadata": {},
     "output_type": "execute_result"
    }
   ],
   "source": [
    "updated_tool = toolbox.update_tool_by_id(tool_id, {\"name\": \"get_stock_price_for_american_companies\"})\n",
    "updated_tool"
   ]
  },
  {
   "cell_type": "code",
   "execution_count": 22,
   "metadata": {},
   "outputs": [
    {
     "data": {
      "text/plain": [
       "{'_id': ObjectId('6894ecadcb348e000d054e7d'),\n",
       " 'function': {'name': 'updated_get_stock_price',\n",
       "  'description': 'Retrieve the current stock price for a given ticker symbol, with options for specifying the currency. This function is useful for investors or analysts looking to obtain real-time market data in different currencies.',\n",
       "  'parameters': [{'name': 'ticker',\n",
       "    'description': \"The stock ticker symbol represents a specific company's stock, such as 'AAPL' for Apple Inc. This parameter is required and must be a valid ticker symbol.\",\n",
       "    'type': 'string',\n",
       "    'required': True},\n",
       "   {'name': 'currency',\n",
       "    'description': \"Specifies the currency in which the stock price should be returned. The default value is 'USD' (U.S. Dollar). This parameter is optional and should be a valid currency code as per ISO 4217 standards.\",\n",
       "    'type': 'string',\n",
       "    'required': False}],\n",
       "  'required': ['ticker'],\n",
       "  'queries': [\"What is the current stock price for 'GOOGL' in EUR?\",\n",
       "   \"Get the stock price for 'TSLA'.\",\n",
       "   \"Retrieve Apple's stock price in GBP.\"]},\n",
       " 'queries': 'Here are some example queries to leverage the `get_stock_price` function:\\n\\n1. **Check the current price of a stock:**\\n   ```python\\n   >>> get_stock_price(\"TSLA\")\\n   ```\\n\\n2. **Get the stock price in a different currency:**\\n   ```python\\n   >>> get_stock_price(\"AMZN\", currency=\"GBP\")\\n   ```\\n\\n3. **Retrieve the stock price for a European company:**\\n   ```python\\n   >>> get_stock_price(\"SAP\", currency=\"EUR\")\\n   ```\\n\\n4. **Find the price of a tech stock in US dollars:**\\n   ```python\\n   >>> get_stock_price(\"MSFT\")\\n   ```\\n\\n5. **Determine the stock price of a bank with conversion:**\\n   ```python\\n   >>> get_stock_price(\"HSBC\", currency=\"USD\")\\n   ```\\n\\n6. **Fetch the price for a retail company in euros:**\\n   ```python\\n   >>> get_stock_price(\"H&M\", currency=\"EUR\")\\n   ```\\n\\n7. **Check a company\\'s stock price during market hours:**\\n   ```python\\n   >>> get_stock_price(\"FB\")\\n   ```\\n\\n8. **Get historical stock price data notes:**\\n   ```python\\n   >>> get_stock_price(\"NFLX\", currency=\"USD\")\\n   ```\\n\\n9. **Track price changes of a specific stock:**\\n   ```python\\n   >>> get_stock_price(\"ADBE\", currency=\"USD\")\\n   ```\\n\\n10. **Obtain stock information for financial analysis:**\\n   ```python\\n   >>> get_stock_price(\"JPM\", currency=\"USD\")\\n   ```',\n",
       " 'type': 'function',\n",
       " 'name': 'get_stock_price_for_american_companies'}"
      ]
     },
     "execution_count": 22,
     "metadata": {},
     "output_type": "execute_result"
    }
   ],
   "source": [
    "# Confirm that the tool has been updated\n",
    "toolbox.get_tool_by_id(tool_id)"
   ]
  },
  {
   "cell_type": "code",
   "execution_count": 23,
   "metadata": {},
   "outputs": [
    {
     "data": {
      "text/plain": [
       "False"
      ]
     },
     "execution_count": 23,
     "metadata": {},
     "output_type": "execute_result"
    }
   ],
   "source": [
    "# Delete a tool by name\n",
    "success = toolbox.delete_tool_by_name(\"get_stock_price\")\n",
    "success"
   ]
  },
  {
   "cell_type": "code",
   "execution_count": 24,
   "metadata": {},
   "outputs": [
    {
     "data": {
      "text/plain": [
       "True"
      ]
     },
     "execution_count": 24,
     "metadata": {},
     "output_type": "execute_result"
    }
   ],
   "source": [
    "# Delete a tool by id\n",
    "success_deleting_tool_by_id = toolbox.delete_tool_by_id(tool_id)\n",
    "success_deleting_tool_by_id\n"
   ]
  },
  {
   "cell_type": "code",
   "execution_count": 25,
   "metadata": {},
   "outputs": [
    {
     "data": {
      "text/plain": [
       "True"
      ]
     },
     "execution_count": 25,
     "metadata": {},
     "output_type": "execute_result"
    }
   ],
   "source": [
    "# Delete all tools within the toolbox\n",
    "success_deleting_all_tools = toolbox.delete_all()\n",
    "success_deleting_all_tools"
   ]
  },
  {
   "cell_type": "markdown",
   "metadata": {},
   "source": [
    "### Step  : Augmenting Tool Metadata"
   ]
  },
  {
   "cell_type": "markdown",
   "metadata": {},
   "source": [
    "You can enhance the tool's searchability and retrieval accuracy by using an LLM to augment the tool description and generate synthetic queries. These enhancements are automatically added to the tool's metadata and used during embedding generation, significantly improving the tool selection process.\n",
    "\n",
    "To enable this feature, simply set `augment=True` when registering your tool using the `@toolbox.register_tool` decorator."
   ]
  },
  {
   "cell_type": "code",
   "execution_count": 26,
   "metadata": {},
   "outputs": [],
   "source": [
    "@toolbox.register_tool(augment=True)\n",
    "def updated_get_stock_price(ticker: str, currency: str = \"USD\") -> str:\n",
    "    \"\"\"\n",
    "    Get the current stock price for a specified ticker symbol.\n",
    "\n",
    "    Parameters:\n",
    "    -----------\n",
    "    ticker : str\n",
    "        The stock ticker symbol (e.g., \"AAPL\" for Apple).\n",
    "    currency : str, optional\n",
    "        The currency in which the price should be returned (default is USD).\n",
    "\n",
    "    Returns:\n",
    "    --------\n",
    "    str\n",
    "        A description of the current stock price.\n",
    "    \"\"\"\n",
    "    # Implementation here\n",
    "    pass"
   ]
  }
 ],
 "metadata": {
  "kernelspec": {
   "display_name": "agent_memory_course",
   "language": "python",
   "name": "python3"
  },
  "language_info": {
   "codemirror_mode": {
    "name": "ipython",
    "version": 3
   },
   "file_extension": ".py",
   "mimetype": "text/x-python",
   "name": "python",
   "nbconvert_exporter": "python",
   "pygments_lexer": "ipython3",
   "version": "3.11.13"
  }
 },
 "nbformat": 4,
 "nbformat_minor": 2
}
