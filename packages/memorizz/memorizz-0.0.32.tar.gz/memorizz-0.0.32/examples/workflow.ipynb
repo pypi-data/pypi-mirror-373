{
 "cells": [
  {
   "cell_type": "code",
   "execution_count": 1,
   "metadata": {},
   "outputs": [],
   "source": [
    "! pip install -qU memorizz yahooquery"
   ]
  },
  {
   "cell_type": "code",
   "execution_count": 4,
   "metadata": {},
   "outputs": [],
   "source": [
    "import getpass\n",
    "import os\n",
    "\n",
    "# Function to securely get and set environment variables\n",
    "def set_env_securely(var_name, prompt):\n",
    "    value = getpass.getpass(prompt)\n",
    "    os.environ[var_name] = value"
   ]
  },
  {
   "cell_type": "code",
   "execution_count": 5,
   "metadata": {},
   "outputs": [],
   "source": [
    "set_env_securely(\"MONGODB_URI\", \"Enter your MongoDB URI: \")"
   ]
  },
  {
   "cell_type": "code",
   "execution_count": 6,
   "metadata": {},
   "outputs": [],
   "source": [
    "set_env_securely(\"OPENAI_API_KEY\", \"Enter your OpenAI API Key: \")"
   ]
  },
  {
   "cell_type": "code",
   "execution_count": 7,
   "metadata": {},
   "outputs": [],
   "source": [
    "set_env_securely(\"VOYAGE_API_KEY\", \"Enter your VOYAGE_API_KEY API Key: \")"
   ]
  },
  {
   "cell_type": "code",
   "execution_count": 8,
   "metadata": {},
   "outputs": [
    {
     "name": "stderr",
     "output_type": "stream",
     "text": [
      "/Users/richmondalake/miniconda3/envs/agent_memory_course/lib/python3.11/site-packages/tqdm/auto.py:21: TqdmWarning: IProgress not found. Please update jupyter and ipywidgets. See https://ipywidgets.readthedocs.io/en/stable/user_install.html\n",
      "  from .autonotebook import tqdm as notebook_tqdm\n"
     ]
    },
    {
     "name": "stdout",
     "output_type": "stream",
     "text": [
      "Vector search index 'vector_index' already exists for collection personas.\n",
      "Vector search index 'vector_index' already exists for collection toolbox.\n",
      "Vector search index 'vector_index' already exists for collection short_term_memory.\n",
      "Vector search index 'vector_index' already exists for collection long_term_memory.\n",
      "Vector search index 'vector_index' already exists for collection conversation_memory.\n",
      "Vector search index 'vector_index' already exists for collection workflow_memory.\n",
      "Vector search index 'vector_index' already exists for collection agents.\n",
      "Vector search index 'vector_index' already exists for collection shared_memory.\n",
      "Vector search index 'vector_index' already exists for collection summaries.\n"
     ]
    }
   ],
   "source": [
    "from memorizz.memory_provider.mongodb.provider import MongoDBConfig, MongoDBProvider\n",
    "\n",
    "# Create a mongodb config with voyageai embeddings\n",
    "mongodb_config = MongoDBConfig(\n",
    "    uri=os.environ[\"MONGODB_URI\"],\n",
    "    db_name=\"testing_memorizz\",\n",
    "    embedding_provider=\"voyageai\",\n",
    "    embedding_config={\n",
    "        \"embedding_type\": \"contextualized\",\n",
    "        \"model\": \"voyage-context-3\",\n",
    "        \"output_dimension\": 256,\n",
    "    }\n",
    ")\n",
    "\n",
    "# Create a memory provider\n",
    "memory_provider = MongoDBProvider(mongodb_config)"
   ]
  },
  {
   "cell_type": "code",
   "execution_count": 9,
   "metadata": {},
   "outputs": [],
   "source": [
    "from memorizz.enums.application_mode import ApplicationMode\n",
    "from memorizz.long_term_memory.procedural.workflow.workflow import Workflow\n",
    "from memorizz import Toolbox\n",
    "import requests\n",
    "\n",
    "def get_weather(latitude, longitude):\n",
    "    response = requests.get(f\"https://api.open-meteo.com/v1/forecast?latitude={latitude}&longitude={longitude}&current=temperature_2m,wind_speed_10m&hourly=temperature_2m,relative_humidity_2m,wind_speed_10m\")\n",
    "    data = response.json()\n",
    "    return data['current']['temperature_2m']\n",
    "\n",
    "def calculate_distance(city1: str, city2: str) -> str:\n",
    "    \"\"\"Calculate distance between two cities.\"\"\"\n",
    "    # Simulate distance calculation\n",
    "    distances = {\n",
    "        (\"New York\", \"London\"): \"3,459 miles (5,567 km)\",\n",
    "        (\"New York\", \"Tokyo\"): \"6,743 miles (10,850 km)\",\n",
    "        (\"London\", \"Paris\"): \"214 miles (344 km)\",\n",
    "        (\"Tokyo\", \"Sydney\"): \"4,840 miles (7,788 km)\",\n",
    "        (\"New York\", \"Paris\"): \"3,631 miles (5,844 km)\"\n",
    "    }\n",
    "    key = (city1, city2) if (city1, city2) in distances else (city2, city1)\n",
    "    return distances.get(key, f\"Distance data not available between {city1} and {city2}\")\n",
    "\n",
    "def book_flight(origin: str, destination: str, date: str) -> str:\n",
    "    \"\"\"Book a flight between two cities.\"\"\"\n",
    "    # Simulate flight booking (will sometimes \"fail\" for demonstration)\n",
    "    if \"Mars\" in origin or \"Mars\" in destination:\n",
    "        raise Exception(\"No flights available to Mars at this time\")\n",
    "    \n",
    "    price = hash(f\"{origin}{destination}{date}\") % 500 + 200\n",
    "    return f\"Flight booked from {origin} to {destination} on {date}. Price: ${price}. Confirmation: FL{hash(date) % 10000}\"\n",
    "\n",
    "def get_currency_rate(from_currency: str, to_currency: str) -> str:\n",
    "    \"\"\"Get currency exchange rate.\"\"\"\n",
    "    # Simulate currency rates\n",
    "    rates = {\n",
    "        (\"USD\", \"EUR\"): \"0.85\",\n",
    "        (\"USD\", \"GBP\"): \"0.73\",\n",
    "        (\"USD\", \"JPY\"): \"110.0\",\n",
    "        (\"EUR\", \"USD\"): \"1.18\",\n",
    "        (\"GBP\", \"USD\"): \"1.37\"\n",
    "    }\n",
    "    key = (from_currency.upper(), to_currency.upper())\n",
    "    rate = rates.get(key, \"1.00\")\n",
    "    return f\"1 {from_currency.upper()} = {rate} {to_currency.upper()}\""
   ]
  },
  {
   "cell_type": "code",
   "execution_count": 10,
   "metadata": {},
   "outputs": [
    {
     "data": {
      "text/plain": [
       "'689cac95137aa47894ad4c80'"
      ]
     },
     "execution_count": 10,
     "metadata": {},
     "output_type": "execute_result"
    }
   ],
   "source": [
    "# Create toolbox and register tools, with memory provider\n",
    "toolbox = Toolbox(memory_provider=memory_provider)\n",
    "\n",
    "toolbox.register_tool(get_weather)\n",
    "toolbox.register_tool(calculate_distance)\n",
    "toolbox.register_tool(book_flight)\n",
    "toolbox.register_tool(get_currency_rate)\n"
   ]
  },
  {
   "cell_type": "code",
   "execution_count": 11,
   "metadata": {},
   "outputs": [],
   "source": [
    "def print_section(title):\n",
    "    \"\"\"Print a formatted section header.\"\"\"\n",
    "    print(f\"\\n{'='*60}\")\n",
    "    print(f\" {title}\")\n",
    "    print(f\"{'='*60}\")"
   ]
  },
  {
   "cell_type": "code",
   "execution_count": 12,
   "metadata": {},
   "outputs": [],
   "source": [
    "def print_workflow_info(workflow):\n",
    "    \"\"\"Print workflow information in a readable format.\"\"\"\n",
    "    print(f\"Workflow: {workflow.name}\")\n",
    "    print(f\"Description: {workflow.description}\")\n",
    "    print(f\"Outcome: {workflow.outcome.value}\")\n",
    "    print(f\"Created: {workflow.created_at}\")\n",
    "    print(f\"Steps: {len(workflow.steps)}\")\n",
    "    \n",
    "    for step_name, step_data in workflow.steps.items():\n",
    "        print(f\"  - {step_name}\")\n",
    "        print(f\"    Function: {step_data.get('_id', 'Unknown')}\")\n",
    "        print(f\"    Arguments: {step_data.get('arguments', {})}\")\n",
    "        if step_data.get('error'):\n",
    "            print(f\"    Error: {step_data.get('error')}\")\n",
    "        else:\n",
    "            result = step_data.get('result', 'No result')\n",
    "            # Handle different result types properly\n",
    "            if isinstance(result, str):\n",
    "                print(f\"    Result: {result[:100]}...\" if len(result) > 100 else f\"    Result: {result}\")\n",
    "            else:\n",
    "                # For non-string results (like float, int, etc.), convert to string first\n",
    "                result_str = str(result)\n",
    "                print(f\"    Result: {result_str[:100]}...\" if len(result_str) > 100 else f\"    Result: {result_str}\")"
   ]
  },
  {
   "cell_type": "code",
   "execution_count": 13,
   "metadata": {},
   "outputs": [],
   "source": [
    "import time\n",
    "from memorizz.memagent import MemAgent\n",
    "\n",
    "def demonstrate_workflow_memory():\n",
    "    \"\"\"Main demonstration function.\"\"\"\n",
    "    \n",
    "    print_section(\"Workflow Memory Demonstration\")\n",
    "    print(\"This demo shows how MemAgent learns from previous tool executions\")\n",
    "    print(\"and uses that knowledge to guide future similar tasks.\\n\")\n",
    "    \n",
    "    # Create memory provider and toolbox    \n",
    "    # Create agent with workflow memory mode\n",
    "    print(\"Creating MemAgent with Workflow memory mode...\")\n",
    "    agent = MemAgent(\n",
    "        tools=toolbox,\n",
    "        application_mode=ApplicationMode.WORKFLOW, # Set the application mode to Workflow\n",
    "        memory_provider=memory_provider, # Add the memory provider\n",
    "        instruction=\"You are a helpful travel assistant. Use the available tools to help users with travel-related queries.\"\n",
    "    )\n",
    "\n",
    "    # agent.add_tool(toolbox=toolbox)\n",
    "\n",
    "    print(\"Created agent with tools: \", agent.tools)\n",
    "    \n",
    "    # Save the agent\n",
    "    agent.save()\n",
    "    \n",
    "    # Phase 1: Create initial workflows\n",
    "    print_section(\"Phase 1: Creating Initial Workflows\")\n",
    "    \n",
    "    # Successful workflow example\n",
    "    print(\"\\n1. Running travel planning query (will create successful workflow)...\")\n",
    "    response1 = agent.run(\"I want to plan a trip from New York to London. Can you help me with weather and distance information?\")\n",
    "    print(f\"Response: {response1}...\")\n",
    "    \n",
    "    time.sleep(1)  # Brief pause for demo effect\n",
    "    \n",
    "    # Failed workflow example\n",
    "    print(\"\\n2. Running impossible travel query (will create failed workflow)...\")\n",
    "    try:\n",
    "        response2 = agent.run(\"I want to book a flight from New York to Mars for next week, what is the weather like in Mars?\")\n",
    "        print(f\"Response: {response2}...\")\n",
    "    except Exception as e:\n",
    "        print(f\"Query completed with some failures as expected: {str(e)}...\")\n",
    "    \n",
    "    time.sleep(1)\n",
    "    \n",
    "    # Another successful workflow\n",
    "    print(\"\\n3. Running currency conversion query (will create successful workflow)...\")\n",
    "    response3 = agent.run(\"What's the exchange rate from USD to EUR, and what's the weather like in Paris?\")\n",
    "    print(f\"Response: {response3[:200]}...\")\n",
    "    \n",
    "    # Phase 2: Show workflow retrieval\n",
    "    print_section(\"Phase 2: Examining Created Workflows\")\n",
    "    \n",
    "    # Retrieve workflows to show what was stored\n",
    "    print(\"Retrieving stored workflows...\")\n",
    "    workflows = Workflow.retrieve_workflows_by_query(\"travel planning\", memory_provider)\n",
    "    \n",
    "    print(f\"\\nFound {len(workflows)} workflows related to travel planning:\")\n",
    "    for i, workflow in enumerate(workflows, 1):\n",
    "        print(f\"\\n--- Workflow {i} ---\")\n",
    "        print_workflow_info(workflow)\n",
    "    \n",
    "    # Phase 3: Demonstrate workflow memory in action\n",
    "    print_section(\"Phase 3: Workflow Memory Guidance in Action\")\n",
    "    \n",
    "    print(\"Now running a similar query to see how workflow memory guides execution...\")\n",
    "    print(\"The agent should reference previous successful workflows for travel planning.\\n\")\n",
    "    \n",
    "    # This query should benefit from previous workflow memory\n",
    "    response4 = agent.run(\"I'm planning another trip from London to Tokyo. Can you help me with the same kind of information as before?\")\n",
    "    print(f\"Response: {response4[:300]}...\")\n",
    "    \n",
    "    print(\"\\n\" + \"=\"*60)\n",
    "    print(\"Notice how the agent can reference previous workflow executions\")\n",
    "    print(\"to understand what 'same kind of information' means and follow\")\n",
    "    print(\"similar successful patterns from past workflows.\")\n",
    "    print(\"=\"*60)\n",
    "    \n",
    "    # Phase 4: Show workflow failure learning\n",
    "    print_section(\"Phase 4: Learning from Failures\")\n",
    "    \n",
    "    print(\"Running another impossible travel query to show failure learning...\")\n",
    "    try:\n",
    "        response5 = agent.run(\"Can you book me a flight to Mars? I know it didn't work before.\")\n",
    "        print(f\"Response: {response5[:200]}...\")\n",
    "    except Exception as e:\n",
    "        print(f\"Query completed: {str(e)[:100]}...\")\n",
    "    \n",
    "    print(\"\\nThe agent should learn from previous failures and potentially\")\n",
    "    print(\"avoid repeating the same failed approaches.\")\n",
    "    \n",
    "    # Final summary\n",
    "    print_section(\"Workflow Memory Benefits Demonstrated\")\n",
    "    print(\"✓ Tool executions are tracked as workflows\")\n",
    "    print(\"✓ Successful workflows guide future similar tasks\")\n",
    "    print(\"✓ Failed workflows help avoid repeating mistakes\")\n",
    "    print(\"✓ Context from past executions improves task understanding\")\n",
    "    print(\"✓ Learning accumulates over time for better performance\")\n",
    "    \n",
    "    print(f\"\\nAgent ID for future reference: {agent.agent_id}\")\n",
    "    print(\"You can load this agent later to see accumulated workflow memory.\")\n",
    "\n"
   ]
  },
  {
   "cell_type": "code",
   "execution_count": 14,
   "metadata": {},
   "outputs": [
    {
     "name": "stderr",
     "output_type": "stream",
     "text": [
      "Skipping tool with _id 689cabbfd37d383690b36270 - no callable function found\n"
     ]
    },
    {
     "name": "stdout",
     "output_type": "stream",
     "text": [
      "\n",
      "============================================================\n",
      " Workflow Memory Demonstration\n",
      "============================================================\n",
      "This demo shows how MemAgent learns from previous tool executions\n",
      "and uses that knowledge to guide future similar tasks.\n",
      "\n",
      "Creating MemAgent with Workflow memory mode...\n",
      "Created agent with tools:  [{'_id': ObjectId('689cac7d137aa47894ad4c7d'), 'name': 'get_weather', 'description': 'Fetches the current weather information for a given geographical location using latitude and longitude coordinates. This function contacts a weather service to retrieve data such as temperature, humidity, wind speed, and conditions (e.g., sunny, cloudy). It is useful for applications that require real-time weather updates for any place on Earth.', 'parameters': [{'name': 'latitude', 'description': 'The latitude of the location for which the weather information is requested. It should be a decimal number representing the geographical coordinate. Positive values correspond to the northern hemisphere, while negative values correspond to the southern hemisphere. Required parameter.', 'type': 'number', 'required': True}, {'name': 'longitude', 'description': 'The longitude of the location for which the weather information is requested. It should be a decimal number representing the geographical coordinate. Positive values represent locations east of the Prime Meridian, while negative values represent locations west of the Prime Meridian. Required parameter.', 'type': 'number', 'required': True}], 'strict': True}, {'_id': ObjectId('689cac85137aa47894ad4c7e'), 'name': 'calculate_distance', 'description': 'The `calculate_distance` function computes the distance between two specified cities. The distance is typically returned as a string, indicating the measurement in either kilometers or miles, depending on the default or specified configuration. This function leverages geographic data to provide an accurate estimate of the distance, accounting for real-world travel routes where possible.', 'parameters': [{'name': 'city1', 'description': 'The name of the first city for which the distance calculation will start. This should be a valid city name, ideally recognized by major mapping services.', 'type': 'string', 'required': True}, {'name': 'city2', 'description': 'The name of the second city to which the distance is calculated from the first city. This should also be a valid city name and recognizable by mapping services.', 'type': 'string', 'required': True}], 'strict': True}, {'_id': ObjectId('689cac8d137aa47894ad4c7f'), 'name': 'book_flight', 'description': 'This function books a flight between two specified cities on a given date. It requires the origin city, destination city, and the desired date of travel. The function returns a confirmation of the booking or an error message if the booking cannot be completed.', 'parameters': [{'name': 'origin', 'description': 'The starting city for the flight. This should be specified as a city name or IATA airport code.', 'type': 'string', 'required': True}, {'name': 'destination', 'description': 'The arrival city for the flight. This should be specified as a city name or IATA airport code.', 'type': 'string', 'required': True}, {'name': 'date', 'description': \"The date of the flight. This must be provided in the format 'YYYY-MM-DD'.\", 'type': 'string', 'required': True}], 'strict': True}, {'_id': ObjectId('689cac95137aa47894ad4c80'), 'name': 'get_currency_rate', 'description': 'Get the exchange rate between two specified currencies. This function takes in two currency codes and returns the current exchange rate from the base currency to the target currency.', 'parameters': [{'name': 'from_currency', 'description': \"The currency code of the base currency for which the exchange rate is sought. This should be a valid ISO 4217 currency code, such as 'USD' for United States Dollar. Required.\", 'type': 'string', 'required': True}, {'name': 'to_currency', 'description': \"The currency code of the target currency to which the exchange rate should be converted. This should also be a valid ISO 4217 currency code, such as 'EUR' for Euro. Required.\", 'type': 'string', 'required': True}], 'strict': True}]\n",
      "\n",
      "============================================================\n",
      " Phase 1: Creating Initial Workflows\n",
      "============================================================\n",
      "\n",
      "1. Running travel planning query (will create successful workflow)...\n"
     ]
    },
    {
     "name": "stderr",
     "output_type": "stream",
     "text": [
      "CONVERSATION_MEMORY not in active memory types for user query: [<MemoryType.WORKFLOW_MEMORY: 'workflow_memory'>, <MemoryType.TOOLBOX: 'toolbox'>, <MemoryType.LONG_TERM_MEMORY: 'long_term_memory'>, <MemoryType.SHORT_TERM_MEMORY: 'short_term_memory'>]\n",
      "CONVERSATION_MEMORY not in active memory types: [<MemoryType.WORKFLOW_MEMORY: 'workflow_memory'>, <MemoryType.TOOLBOX: 'toolbox'>, <MemoryType.LONG_TERM_MEMORY: 'long_term_memory'>, <MemoryType.SHORT_TERM_MEMORY: 'short_term_memory'>]\n"
     ]
    },
    {
     "name": "stdout",
     "output_type": "stream",
     "text": [
      "Response: Here’s the key information for planning your trip from New York to London:\n",
      "\n",
      "Weather Information:\n",
      "\n",
      "- Current temperature in New York: 26.4°C\n",
      "- Current temperature in London: 20.8°C\n",
      "\n",
      "Distance Information:\n",
      "\n",
      "- The distance between New York and London is approximately 3,459 miles (5,567 km).\n",
      "\n",
      "If you need flight booking, tips, or more details about travel or currency exchange, let me know!...\n",
      "\n",
      "2. Running impossible travel query (will create failed workflow)...\n"
     ]
    },
    {
     "name": "stderr",
     "output_type": "stream",
     "text": [
      "CONVERSATION_MEMORY not in active memory types for user query: [<MemoryType.WORKFLOW_MEMORY: 'workflow_memory'>, <MemoryType.TOOLBOX: 'toolbox'>, <MemoryType.LONG_TERM_MEMORY: 'long_term_memory'>, <MemoryType.SHORT_TERM_MEMORY: 'short_term_memory'>]\n",
      "CONVERSATION_MEMORY not in active memory types: [<MemoryType.WORKFLOW_MEMORY: 'workflow_memory'>, <MemoryType.TOOLBOX: 'toolbox'>, <MemoryType.LONG_TERM_MEMORY: 'long_term_memory'>, <MemoryType.SHORT_TERM_MEMORY: 'short_term_memory'>]\n"
     ]
    },
    {
     "name": "stdout",
     "output_type": "stream",
     "text": [
      "Response: Booking a flight from New York to Mars is currently not possible with available commercial or conventional flight technologies—I can only book flights between cities on Earth.\n",
      "\n",
      "As for the weather on Mars:\n",
      "- I do not have real-time data for the Martian atmosphere as it's outside Earth's weather monitoring systems.\n",
      "- Generally, Mars is extremely cold, with average temperatures around -63°C (-81°F), and dust storms are common. The atmosphere is thin, mostly carbon dioxide, and weather can be harsh compared to any place on Earth.\n",
      "\n",
      "If you have any other interplanetary or space travel queries—or need help booking a flight on Earth—I’d be happy to help!...\n",
      "\n",
      "3. Running currency conversion query (will create successful workflow)...\n"
     ]
    },
    {
     "name": "stderr",
     "output_type": "stream",
     "text": [
      "CONVERSATION_MEMORY not in active memory types for user query: [<MemoryType.WORKFLOW_MEMORY: 'workflow_memory'>, <MemoryType.TOOLBOX: 'toolbox'>, <MemoryType.LONG_TERM_MEMORY: 'long_term_memory'>, <MemoryType.SHORT_TERM_MEMORY: 'short_term_memory'>]\n",
      "CONVERSATION_MEMORY not in active memory types: [<MemoryType.WORKFLOW_MEMORY: 'workflow_memory'>, <MemoryType.TOOLBOX: 'toolbox'>, <MemoryType.LONG_TERM_MEMORY: 'long_term_memory'>, <MemoryType.SHORT_TERM_MEMORY: 'short_term_memory'>]\n"
     ]
    },
    {
     "name": "stdout",
     "output_type": "stream",
     "text": [
      "Response: The current exchange rate from USD to EUR is 1 USD = 0.85 EUR.\n",
      "\n",
      "The weather in Paris is currently 31.2°C. If you need more details about the weather (such as conditions or forecasts), let me know!...\n",
      "\n",
      "============================================================\n",
      " Phase 2: Examining Created Workflows\n",
      "============================================================\n",
      "Retrieving stored workflows...\n",
      "\n",
      "Found 5 workflows related to travel planning:\n",
      "\n",
      "--- Workflow 1 ---\n",
      "Workflow: Tool Execution: 3 steps\n",
      "Description: Execution of 3 tools\n",
      "Outcome: success\n",
      "Created: 2025-08-07 19:38:09.952389\n",
      "Steps: 3\n",
      "  - Step 1: get_weather\n",
      "    Function: 6894f25af56e448906b1db35\n",
      "    Arguments: {'latitude': 51.5074, 'longitude': -0.1278}\n",
      "    Result: 20.8\n",
      "  - Step 2: get_weather\n",
      "    Function: 6894f25af56e448906b1db35\n",
      "    Arguments: {'latitude': 35.6895, 'longitude': 139.6917}\n",
      "    Result: 24.5\n",
      "  - Step 3: calculate_distance\n",
      "    Function: 6894f260f56e448906b1db36\n",
      "    Arguments: {'city1': 'London', 'city2': 'Tokyo'}\n",
      "    Result: Distance data not available between London and Tokyo\n",
      "\n",
      "--- Workflow 2 ---\n",
      "Workflow: Tool Execution: 2 steps\n",
      "Description: Execution of 2 tools\n",
      "Outcome: success\n",
      "Created: 2025-08-07 19:38:12.480154\n",
      "Steps: 2\n",
      "  - Step 1: book_flight\n",
      "    Function: 6894f267f56e448906b1db37\n",
      "    Arguments: {'origin': 'London', 'destination': 'Tokyo', 'date': '2025-08-08'}\n",
      "    Result: Flight booked from London to Tokyo on 2025-08-08. Price: $204. Confirmation: FL6499\n",
      "  - Step 2: get_currency_rate\n",
      "    Function: 6894f26ef56e448906b1db38\n",
      "    Arguments: {'from_currency': 'GBP', 'to_currency': 'JPY'}\n",
      "    Result: 1 GBP = 1.00 JPY\n",
      "\n",
      "--- Workflow 3 ---\n",
      "Workflow: Tool Execution: 3 steps\n",
      "Description: Execution of 3 tools\n",
      "Outcome: success\n",
      "Created: 2025-08-07 19:37:43.789363\n",
      "Steps: 3\n",
      "  - Step 1: get_weather\n",
      "    Function: 6894f25af56e448906b1db35\n",
      "    Arguments: {'latitude': 40.7128, 'longitude': -74.006}\n",
      "    Result: 26.4\n",
      "  - Step 2: get_weather\n",
      "    Function: 6894f25af56e448906b1db35\n",
      "    Arguments: {'latitude': 51.5074, 'longitude': -0.1278}\n",
      "    Result: 20.8\n",
      "  - Step 3: calculate_distance\n",
      "    Function: 6894f260f56e448906b1db36\n",
      "    Arguments: {'city1': 'New York', 'city2': 'London'}\n",
      "    Result: 3,459 miles (5,567 km)\n",
      "\n",
      "--- Workflow 4 ---\n",
      "Workflow: Tool Execution: 2 steps\n",
      "Description: Execution of 2 tools\n",
      "Outcome: success\n",
      "Created: 2025-08-13 16:18:12.047423\n",
      "Steps: 2\n",
      "  - Step 1: get_currency_rate\n",
      "    Function: 689cac95137aa47894ad4c80\n",
      "    Arguments: {'from_currency': 'USD', 'to_currency': 'EUR'}\n",
      "    Result: 1 USD = 0.85 EUR\n",
      "  - Step 2: get_weather\n",
      "    Function: 689cac7d137aa47894ad4c7d\n",
      "    Arguments: {'latitude': 48.8566, 'longitude': 2.3522}\n",
      "    Result: 31.2\n",
      "\n",
      "--- Workflow 5 ---\n",
      "Workflow: Tool Execution: 2 steps\n",
      "Description: Execution of 2 tools\n",
      "Outcome: success\n",
      "Created: 2025-08-07 19:38:05.048355\n",
      "Steps: 2\n",
      "  - Step 1: get_currency_rate\n",
      "    Function: 6894f26ef56e448906b1db38\n",
      "    Arguments: {'from_currency': 'USD', 'to_currency': 'EUR'}\n",
      "    Result: 1 USD = 0.85 EUR\n",
      "  - Step 2: get_weather\n",
      "    Function: 6894f25af56e448906b1db35\n",
      "    Arguments: {'latitude': 48.8566, 'longitude': 2.3522}\n",
      "    Result: 28.9\n",
      "\n",
      "============================================================\n",
      " Phase 3: Workflow Memory Guidance in Action\n",
      "============================================================\n",
      "Now running a similar query to see how workflow memory guides execution...\n",
      "The agent should reference previous successful workflows for travel planning.\n",
      "\n"
     ]
    },
    {
     "name": "stderr",
     "output_type": "stream",
     "text": [
      "CONVERSATION_MEMORY not in active memory types for user query: [<MemoryType.WORKFLOW_MEMORY: 'workflow_memory'>, <MemoryType.TOOLBOX: 'toolbox'>, <MemoryType.LONG_TERM_MEMORY: 'long_term_memory'>, <MemoryType.SHORT_TERM_MEMORY: 'short_term_memory'>]\n",
      "CONVERSATION_MEMORY not in active memory types: [<MemoryType.WORKFLOW_MEMORY: 'workflow_memory'>, <MemoryType.TOOLBOX: 'toolbox'>, <MemoryType.LONG_TERM_MEMORY: 'long_term_memory'>, <MemoryType.SHORT_TERM_MEMORY: 'short_term_memory'>]\n"
     ]
    },
    {
     "name": "stdout",
     "output_type": "stream",
     "text": [
      "Response: Here is the up-to-date information for your upcoming trip from London to Tokyo:\n",
      "\n",
      "- Current weather in London: 25.6°C\n",
      "- Current weather in Tokyo: 24.9°C\n",
      "- Distance between London and Tokyo: Distance data is currently not available.\n",
      "- Currency exchange rate: 1 GBP = 1.00 JPY\n",
      "\n",
      "If you would like to book...\n",
      "\n",
      "============================================================\n",
      "Notice how the agent can reference previous workflow executions\n",
      "to understand what 'same kind of information' means and follow\n",
      "similar successful patterns from past workflows.\n",
      "============================================================\n",
      "\n",
      "============================================================\n",
      " Phase 4: Learning from Failures\n",
      "============================================================\n",
      "Running another impossible travel query to show failure learning...\n"
     ]
    },
    {
     "name": "stderr",
     "output_type": "stream",
     "text": [
      "CONVERSATION_MEMORY not in active memory types for user query: [<MemoryType.WORKFLOW_MEMORY: 'workflow_memory'>, <MemoryType.TOOLBOX: 'toolbox'>, <MemoryType.LONG_TERM_MEMORY: 'long_term_memory'>, <MemoryType.SHORT_TERM_MEMORY: 'short_term_memory'>]\n",
      "CONVERSATION_MEMORY not in active memory types: [<MemoryType.WORKFLOW_MEMORY: 'workflow_memory'>, <MemoryType.TOOLBOX: 'toolbox'>, <MemoryType.LONG_TERM_MEMORY: 'long_term_memory'>, <MemoryType.SHORT_TERM_MEMORY: 'short_term_memory'>]\n"
     ]
    },
    {
     "name": "stdout",
     "output_type": "stream",
     "text": [
      "Response: Thank you for referencing our workflow history and remembering that interplanetary flight bookings have not been possible previously.\n",
      "\n",
      "Currently, with the available tools and resources, I can only boo...\n",
      "\n",
      "The agent should learn from previous failures and potentially\n",
      "avoid repeating the same failed approaches.\n",
      "\n",
      "============================================================\n",
      " Workflow Memory Benefits Demonstrated\n",
      "============================================================\n",
      "✓ Tool executions are tracked as workflows\n",
      "✓ Successful workflows guide future similar tasks\n",
      "✓ Failed workflows help avoid repeating mistakes\n",
      "✓ Context from past executions improves task understanding\n",
      "✓ Learning accumulates over time for better performance\n",
      "\n",
      "Agent ID for future reference: 689cac9b137aa47894ad4c81\n",
      "You can load this agent later to see accumulated workflow memory.\n"
     ]
    }
   ],
   "source": [
    "try:\n",
    "    demonstrate_workflow_memory()\n",
    "except KeyboardInterrupt:\n",
    "    print(\"\\nDemo interrupted by user.\")\n",
    "except Exception as e:\n",
    "    print(f\"\\nDemo error: {e}\")\n",
    "    import traceback\n",
    "    traceback.print_exc()"
   ]
  }
 ],
 "metadata": {
  "kernelspec": {
   "display_name": "agent_memory_course",
   "language": "python",
   "name": "python3"
  },
  "language_info": {
   "codemirror_mode": {
    "name": "ipython",
    "version": 3
   },
   "file_extension": ".py",
   "mimetype": "text/x-python",
   "name": "python",
   "nbconvert_exporter": "python",
   "pygments_lexer": "ipython3",
   "version": "3.11.13"
  }
 },
 "nbformat": 4,
 "nbformat_minor": 2
}
