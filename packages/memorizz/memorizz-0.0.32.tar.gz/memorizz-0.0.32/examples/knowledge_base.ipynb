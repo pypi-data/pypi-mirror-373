{
 "cells": [
  {
   "cell_type": "markdown",
   "metadata": {},
   "source": [
    "[![Open In Colab](https://colab.research.google.com/assets/colab-badge.svg)](https://colab.research.google.com/github/RichmondAlake/memorizz/blob/main/examples/knowledge_base.ipynb)"
   ]
  },
  {
   "cell_type": "code",
   "execution_count": 1,
   "metadata": {},
   "outputs": [],
   "source": [
    "! pip install -qU memorizz"
   ]
  },
  {
   "cell_type": "code",
   "execution_count": 2,
   "metadata": {},
   "outputs": [],
   "source": [
    "import getpass\n",
    "import os\n",
    "\n",
    "# Function to securely get and set environment variables\n",
    "def set_env_securely(var_name, prompt):\n",
    "    value = getpass.getpass(prompt)\n",
    "    os.environ[var_name] = value"
   ]
  },
  {
   "cell_type": "code",
   "execution_count": 3,
   "metadata": {},
   "outputs": [],
   "source": [
    "\n",
    "set_env_securely(\"MONGODB_URI\", \"Enter your MongoDB URI: \")"
   ]
  },
  {
   "cell_type": "code",
   "execution_count": 4,
   "metadata": {},
   "outputs": [],
   "source": [
    "set_env_securely(\"OPENAI_API_KEY\", \"Enter your OpenAI API Key: \")"
   ]
  },
  {
   "cell_type": "code",
   "execution_count": 5,
   "metadata": {},
   "outputs": [],
   "source": [
    "set_env_securely(\"VOYAGE_API_KEY\", \"Enter your VOYAGE_API_KEY API Key: \")"
   ]
  },
  {
   "cell_type": "code",
   "execution_count": 6,
   "metadata": {},
   "outputs": [
    {
     "name": "stderr",
     "output_type": "stream",
     "text": [
      "/Users/richmondalake/miniconda3/envs/agent_memory_course/lib/python3.11/site-packages/tqdm/auto.py:21: TqdmWarning: IProgress not found. Please update jupyter and ipywidgets. See https://ipywidgets.readthedocs.io/en/stable/user_install.html\n",
      "  from .autonotebook import tqdm as notebook_tqdm\n"
     ]
    },
    {
     "name": "stdout",
     "output_type": "stream",
     "text": [
      "Vector search index 'vector_index' already exists for collection personas.\n",
      "Vector search index 'vector_index' already exists for collection toolbox.\n",
      "Vector search index 'vector_index' already exists for collection short_term_memory.\n",
      "Vector search index 'vector_index' already exists for collection long_term_memory.\n",
      "Vector search index 'vector_index' already exists for collection conversation_memory.\n",
      "Vector search index 'vector_index' already exists for collection workflow_memory.\n",
      "Vector search index 'vector_index' already exists for collection agents.\n",
      "Vector search index 'vector_index' already exists for collection shared_memory.\n",
      "Vector search index 'vector_index' already exists for collection summaries.\n"
     ]
    }
   ],
   "source": [
    "from memorizz.memory_provider.mongodb.provider import MongoDBConfig, MongoDBProvider\n",
    "\n",
    "# Create a mongodb config with voyageai embeddings\n",
    "mongodb_config = MongoDBConfig(\n",
    "    uri=os.environ[\"MONGODB_URI\"],\n",
    "    db_name=\"testing_memorizz\",\n",
    "    embedding_provider=\"voyageai\",\n",
    "    embedding_config={\n",
    "        \"embedding_type\": \"contextualized\",\n",
    "        \"model\": \"voyage-context-3\",\n",
    "        \"output_dimension\": 256,\n",
    "    }\n",
    ")\n",
    "\n",
    "# Create a memory provider\n",
    "memory_provider = MongoDBProvider(mongodb_config)"
   ]
  },
  {
   "cell_type": "code",
   "execution_count": 7,
   "metadata": {},
   "outputs": [],
   "source": [
    "from memorizz.long_term_memory import KnowledgeBase\n",
    "\n",
    "# Create a knowledge base\n",
    "kb = KnowledgeBase(memory_provider)"
   ]
  },
  {
   "cell_type": "code",
   "execution_count": 8,
   "metadata": {},
   "outputs": [],
   "source": [
    "# Sample knowledge to ingest\n",
    "company_info = \"\"\"\n",
    "Acme Corporation is a fictional company that manufactures everything from portable holes to rocket-powered devices.\n",
    "Founded in 1952, Acme has been a leading supplier of innovative products for over 70 years.\n",
    "The company is headquartered in California and has 5,000 employees worldwide.\n",
    "Their most popular products include the Portable Hole, Rocket Skates, and Giant Rubber Band.\n",
    "\"\"\"\n",
    "\n",
    "product_info = \"\"\"\n",
    "Acme's Portable Hole is a revolutionary product that creates a temporary hole in any surface.\n",
    "Simply place the Portable Hole on a wall, floor, or ceiling, and it creates a passage to the other side.\n",
    "The hole can be folded up and carried in a pocket when not in use.\n",
    "Warning: Do not stack Portable Holes or place them face-to-face, as this may create a rift in space-time.\n",
    "\"\"\""
   ]
  },
  {
   "cell_type": "code",
   "execution_count": 9,
   "metadata": {},
   "outputs": [
    {
     "name": "stdout",
     "output_type": "stream",
     "text": [
      "Ingesting knowledge...\n",
      "Created knowledge entries with IDs: 689caabdb3de2baa6380a973, 689caabdb3de2baa6380a975\n"
     ]
    }
   ],
   "source": [
    "# Ingest the knowledge\n",
    "print(\"Ingesting knowledge...\")\n",
    "company_memory_id = kb.ingest_knowledge(company_info, namespace=\"company_info\")\n",
    "product_memory_id = kb.ingest_knowledge(product_info, namespace=\"product_info\")\n",
    "print(f\"Created knowledge entries with IDs: {company_memory_id}, {product_memory_id}\")"
   ]
  },
  {
   "cell_type": "code",
   "execution_count": 10,
   "metadata": {},
   "outputs": [],
   "source": [
    "from memorizz import MemAgent\n",
    "\n",
    "# Create a simple agent\n",
    "agent = MemAgent(\n",
    "    instruction=\"You are a helpful assistant that provides information about Acme Corporation and its products.\",\n",
    "    memory_provider=memory_provider\n",
    ")"
   ]
  },
  {
   "cell_type": "code",
   "execution_count": 11,
   "metadata": {},
   "outputs": [
    {
     "name": "stdout",
     "output_type": "stream",
     "text": [
      "Created agent with ID: 689caabeb3de2baa6380a977\n"
     ]
    }
   ],
   "source": [
    "# Save the agent to get an agent_id\n",
    "agent.save()\n",
    "print(f\"Created agent with ID: {agent.agent_id}\")\n"
   ]
  },
  {
   "cell_type": "code",
   "execution_count": 12,
   "metadata": {},
   "outputs": [
    {
     "name": "stdout",
     "output_type": "stream",
     "text": [
      "Attached company info to agent\n"
     ]
    }
   ],
   "source": [
    "# Method 1: Attach knowledge using the KnowledgeBase\n",
    "kb.attach_to_agent(agent, company_memory_id)\n",
    "print(\"Attached company info to agent\")"
   ]
  },
  {
   "cell_type": "code",
   "execution_count": 13,
   "metadata": {},
   "outputs": [
    {
     "name": "stdout",
     "output_type": "stream",
     "text": [
      "Added product info via agent method\n"
     ]
    }
   ],
   "source": [
    "# Method 2: Attach knowledge using the agent's method\n",
    "agent.add_long_term_memory(product_info, namespace=\"additional_product_info\")\n",
    "print(\"Added product info via agent method\")"
   ]
  },
  {
   "cell_type": "code",
   "execution_count": 14,
   "metadata": {},
   "outputs": [
    {
     "name": "stdout",
     "output_type": "stream",
     "text": [
      "\n",
      "Agent has 2 knowledge entries:\n",
      "1. Namespace: company_info\n",
      "   Content: \n",
      "Acme Corporation is a fictional company that manu...\n",
      "2. Namespace: additional_product_info\n",
      "   Content: \n",
      "Acme's Portable Hole is a revolutionary product t...\n"
     ]
    }
   ],
   "source": [
    "# Retrieve and print all long-term memories associated with the agent\n",
    "memories = agent.retrieve_long_term_memory()\n",
    "print(f\"\\nAgent has {len(memories)} knowledge entries:\")\n",
    "for i, memory in enumerate(memories, 1):\n",
    "    print(f\"{i}. Namespace: {memory.get('namespace')}\")\n",
    "    print(f\"   Content: {memory.get('content')[:50]}...\")"
   ]
  },
  {
   "cell_type": "code",
   "execution_count": 15,
   "metadata": {},
   "outputs": [
    {
     "name": "stdout",
     "output_type": "stream",
     "text": [
      "\n",
      "Running queries with the agent:\n",
      "\n",
      "Query: What is Acme Corporation?\n",
      "Response: Acme Corporation is a fictional company, commonly known for its wide variety of inventive and outlandish products. Founded in 1952 and headquartered in California, Acme has established itself (in the realms of cartoons and fiction) as a leading supplier of creative and often humorous devices. With about 5,000 employees worldwide, the company is recognized for popular products such as the Portable Hole, Rocket Skates, and the Giant Rubber Band.\n",
      "\n",
      "Acme’s products are famously featured in classic animation—particularly the Looney Tunes series—where they are frequently used (and misused) by characters like Wile E. Coyote. Over more than 70 years, Acme has become synonymous with imaginative—and sometimes unpredictable—gadgets that capture the spirit of invention.\n",
      "\n",
      "If you want more details about Acme’s history or specific products, let me know!\n",
      "\n",
      "Query: Tell me about the Portable Hole.\n",
      "Response: The Acme Portable Hole is one of the company’s most iconic and inventive products. Here’s an overview based on your request:\n",
      "\n",
      "What is the Portable Hole?\n",
      "\n",
      "- The Portable Hole is a fictional, highly versatile device that creates a temporary passage through any solid surface—such as walls, floors, or ceilings. \n",
      "- To use it, simply unfold the Portable Hole and place it on the surface you wish to pass through. Instantly, the spot becomes a usable, traversable hole, allowing you to move to the other side as if the surface didn’t exist.\n",
      "- When you’re done, remove the Portable Hole. It can be folded up for easy storage and carried in your pocket or bag for quick access.\n",
      "\n",
      "Special Notes and Warnings:\n",
      "\n",
      "- The Portable Hole is reusable and designed for convenience, but should be handled with care.\n",
      "- Important safety warning: Do not stack multiple Portable Holes or place them face-to-face. Doing so may cause unpredictable effects, including the potential to create a rift in space-time.\n",
      "\n",
      "Origin & Popularity:\n",
      "\n",
      "- The Portable Hole first rose to fame in Looney Tunes cartoons, especially in the escapades of Wile E. Coyote and the Road Runner. Its imaginative, reality-bending function captures the playful, inventive spirit for which Acme Corporation is known.\n",
      "\n",
      "If you’d like to know more about how the Portable Hole is used or about other Acme products, just let me know!\n",
      "\n",
      "Query: When was Acme founded?\n",
      "Response: Acme Corporation was founded in 1952.\n"
     ]
    }
   ],
   "source": [
    "# Run some queries to demonstrate knowledge retrieval\n",
    "print(\"\\nRunning queries with the agent:\")\n",
    "\n",
    "queries = [\n",
    "    \"What is Acme Corporation?\",\n",
    "    \"Tell me about the Portable Hole.\",\n",
    "    \"When was Acme founded?\"\n",
    "]\n",
    "\n",
    "for query in queries:\n",
    "    print(f\"\\nQuery: {query}\")\n",
    "    response = agent.run(query)\n",
    "    print(f\"Response: {response}\")"
   ]
  },
  {
   "cell_type": "code",
   "execution_count": 16,
   "metadata": {},
   "outputs": [
    {
     "name": "stdout",
     "output_type": "stream",
     "text": [
      "\n",
      "Cleaning up...\n"
     ]
    },
    {
     "data": {
      "text/plain": [
       "True"
      ]
     },
     "execution_count": 16,
     "metadata": {},
     "output_type": "execute_result"
    }
   ],
   "source": [
    "# Clean up (optional)\n",
    "print(\"\\nCleaning up...\")\n",
    "agent.delete_long_term_memory(company_memory_id)\n",
    "agent.delete()"
   ]
  }
 ],
 "metadata": {
  "kernelspec": {
   "display_name": "agent_memory_course",
   "language": "python",
   "name": "python3"
  },
  "language_info": {
   "codemirror_mode": {
    "name": "ipython",
    "version": 3
   },
   "file_extension": ".py",
   "mimetype": "text/x-python",
   "name": "python",
   "nbconvert_exporter": "python",
   "pygments_lexer": "ipython3",
   "version": "3.11.13"
  }
 },
 "nbformat": 4,
 "nbformat_minor": 2
}
