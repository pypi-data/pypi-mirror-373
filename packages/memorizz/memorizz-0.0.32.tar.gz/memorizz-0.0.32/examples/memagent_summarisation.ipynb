{
 "cells": [
  {
   "cell_type": "code",
   "execution_count": 2,
   "id": "bf87e29d",
   "metadata": {},
   "outputs": [],
   "source": [
    "! pip install -qU memorizz"
   ]
  },
  {
   "cell_type": "code",
   "execution_count": 3,
   "id": "ddc8887c",
   "metadata": {},
   "outputs": [],
   "source": [
    "import getpass\n",
    "import os\n",
    "\n",
    "# Function to securely get and set environment variables\n",
    "def set_env_securely(var_name, prompt):\n",
    "    value = getpass.getpass(prompt)\n",
    "    os.environ[var_name] = value"
   ]
  },
  {
   "cell_type": "code",
   "execution_count": 4,
   "id": "30c18ebb",
   "metadata": {},
   "outputs": [],
   "source": [
    "set_env_securely(\"MONGODB_URI\", \"Enter your MongoDB URI: \")"
   ]
  },
  {
   "cell_type": "code",
   "execution_count": 6,
   "id": "c2e14279",
   "metadata": {},
   "outputs": [],
   "source": [
    "set_env_securely(\"OPENAI_API_KEY\", \"Enter your OpenAI API key: \")"
   ]
  },
  {
   "cell_type": "code",
   "execution_count": 7,
   "id": "69d25068",
   "metadata": {},
   "outputs": [],
   "source": [
    "set_env_securely(\"VOYAGE_API_KEY\", \"Enter your VOYAGE_API_KEY: \")"
   ]
  },
  {
   "cell_type": "code",
   "execution_count": 8,
   "id": "2fa62798",
   "metadata": {},
   "outputs": [
    {
     "name": "stderr",
     "output_type": "stream",
     "text": [
      "/Users/richmondalake/miniconda3/envs/agent_memory_course/lib/python3.11/site-packages/tqdm/auto.py:21: TqdmWarning: IProgress not found. Please update jupyter and ipywidgets. See https://ipywidgets.readthedocs.io/en/stable/user_install.html\n",
      "  from .autonotebook import tqdm as notebook_tqdm\n"
     ]
    },
    {
     "name": "stdout",
     "output_type": "stream",
     "text": [
      "Vector search index 'vector_index' already exists for collection personas.\n",
      "Vector search index 'vector_index' already exists for collection toolbox.\n",
      "Vector search index 'vector_index' already exists for collection short_term_memory.\n",
      "Vector search index 'vector_index' already exists for collection long_term_memory.\n",
      "Vector search index 'vector_index' already exists for collection conversation_memory.\n",
      "Vector search index 'vector_index' already exists for collection workflow_memory.\n",
      "Vector search index 'vector_index' already exists for collection agents.\n",
      "Vector search index 'vector_index' already exists for collection shared_memory.\n",
      "Vector search index 'vector_index' already exists for collection summaries.\n"
     ]
    }
   ],
   "source": [
    "from memorizz.memory_provider.mongodb.provider import MongoDBConfig, MongoDBProvider\n",
    "\n",
    "# Create a mongodb config with voyageai embeddings\n",
    "mongodb_config = MongoDBConfig(\n",
    "    uri=os.environ[\"MONGODB_URI\"],\n",
    "    db_name=\"testing_memorizz\",\n",
    "    embedding_provider=\"voyageai\",\n",
    "    embedding_config={\n",
    "        \"embedding_type\": \"contextualized\",\n",
    "        \"model\": \"voyage-context-3\",\n",
    "        \"output_dimension\": 256,\n",
    "    }\n",
    ")\n",
    "\n",
    "# Create a memory provider\n",
    "memory_provider = MongoDBProvider(mongodb_config)"
   ]
  },
  {
   "cell_type": "code",
   "execution_count": 12,
   "id": "dc158050",
   "metadata": {},
   "outputs": [],
   "source": [
    "from memorizz.long_term_memory.semantic.persona import Persona, RoleType\n",
    "\n",
    "# Create a persona for our agent\n",
    "persona = Persona(\n",
    "    name=\"Alex\",\n",
    "    role=RoleType.ASSISTANT,\n",
    "    goals=\"Help users learn and provide thoughtful assistance\",\n",
    "    background=\"An AI assistant focused on being helpful, educational, and adaptive\"\n",
    ")"
   ]
  },
  {
   "cell_type": "code",
   "execution_count": 13,
   "id": "c976c474",
   "metadata": {},
   "outputs": [],
   "source": [
    "from memorizz.memagent import MemAgent\n",
    "from memorizz.llms.openai import OpenAI\n",
    "\n",
    "# Create an agent with the persona\n",
    "agent = MemAgent(\n",
    "    model=OpenAI(model=\"gpt-4\"),\n",
    "    persona=persona,\n",
    "    instruction=\"You are a helpful learning assistant that adapts based on interactions\",\n",
    "    application_mode=\"assistant\",\n",
    "    memory_provider=memory_provider\n",
    ")"
   ]
  },
  {
   "cell_type": "code",
   "execution_count": 14,
   "id": "8593d98a",
   "metadata": {},
   "outputs": [
    {
     "data": {
      "text/plain": [
       "MemAgent(agent_id=689ca9dd8fc3ee839edbfc35, memory_provider=<memorizz.memory_provider.mongodb.provider.MongoDBProvider object at 0x118d2d010>)"
      ]
     },
     "execution_count": 14,
     "metadata": {},
     "output_type": "execute_result"
    }
   ],
   "source": [
    "agent.save()"
   ]
  },
  {
   "cell_type": "code",
   "execution_count": 15,
   "id": "553d7378",
   "metadata": {},
   "outputs": [
    {
     "name": "stdout",
     "output_type": "stream",
     "text": [
      "Created agent: 689ca9dd8fc3ee839edbfc35\n",
      "Initial persona goals: Assist users by offering timely and personalized support. Help users learn and provide thoughtful assistance\n",
      "Initial persona background: An assistant agent crafted to manage schedules, answer queries, and help with daily tasks. An AI assistant focused on being helpful, educational, and adaptive\n"
     ]
    }
   ],
   "source": [
    "print(f\"Created agent: {agent.agent_id}\")\n",
    "print(f\"Initial persona goals: {agent.persona.goals}\")\n",
    "print(f\"Initial persona background: {agent.persona.background}\")"
   ]
  },
  {
   "cell_type": "code",
   "execution_count": 16,
   "id": "c0ba8a0b",
   "metadata": {},
   "outputs": [],
   "source": [
    "# Simulate some interactions to create memory components\n",
    "interactions = [\n",
    "    \"Can you help me understand machine learning?\",\n",
    "    \"I'm struggling with Python programming concepts\",\n",
    "    \"What are the best practices for data visualization?\", \n",
    "    \"How do I improve my debugging skills?\",\n",
    "    \"Can you explain neural networks in simple terms?\",\n",
    "    \"I need help with statistical analysis\",\n",
    "    \"What's the difference between supervised and unsupervised learning?\",\n",
    "    \"How do I handle missing data in datasets?\",\n",
    "    \"Can you recommend learning resources for data science?\",\n",
    "    \"I'm working on a classification problem and need guidance\"\n",
    "]"
   ]
  },
  {
   "cell_type": "code",
   "execution_count": 17,
   "id": "df6f0048",
   "metadata": {},
   "outputs": [
    {
     "name": "stdout",
     "output_type": "stream",
     "text": [
      "Processing interaction 1: Can you help me understand machine learning?...\n",
      "  Response: Sure, I'd be happy to help you understand machine learning. At its core, machine learning is a metho...\n",
      "Processing interaction 2: I'm struggling with Python programming concepts...\n",
      "  Response: Sure, I'd be happy to help you with Python programming concepts. Python is a widely-used, interprete...\n",
      "Processing interaction 3: What are the best practices for data visualization...\n",
      "  Response: Sure, here are some broadly recognized best practices for data visualization:\n",
      "\n",
      "1. **Choose the Right...\n",
      "Processing interaction 4: How do I improve my debugging skills?...\n",
      "  Response: Debugging is a crucial skill for any programmer and improving this skill can greatly enhance your ef...\n",
      "Processing interaction 5: Can you explain neural networks in simple terms?...\n",
      "  Response: Sure, I'd be happy to explain neural networks in simple terms.\n",
      "\n",
      "A neural network is a type of machin...\n",
      "Processing interaction 6: I need help with statistical analysis...\n",
      "  Response: Sure, I'd be happy to help! Statistical analysis is a broad field, but I'll start by explaining the ...\n",
      "Processing interaction 7: What's the difference between supervised and unsup...\n",
      "  Response: Sure, let's delve into the differences between supervised and unsupervised learning:\n",
      "\n",
      "**Supervised L...\n",
      "Processing interaction 8: How do I handle missing data in datasets?...\n",
      "  Response: There are several ways to handle missing data in datasets:\n",
      "\n",
      "1. **Delete Rows**: The simplest option ...\n",
      "Processing interaction 9: Can you recommend learning resources for data scie...\n",
      "  Response: Certainly, here are some recommended resources to learn various aspects of Data Science:\n",
      "\n",
      "**Python P...\n",
      "Processing interaction 10: I'm working on a classification problem and need g...\n",
      "  Response: Absolutely, I would be happy to help you with your classification problem. Here are some general ste...\n",
      "\n",
      "Agent now has 1 memory sessions\n"
     ]
    }
   ],
   "source": [
    "import time\n",
    "\n",
    "# Process interactions to build up memory\n",
    "for i, query in enumerate(interactions):\n",
    "    print(f\"Processing interaction {i+1}: {query[:50]}...\")\n",
    "    response = agent.run(query)\n",
    "    print(f\"  Response: {response[:100]}...\")\n",
    "    \n",
    "    # Add a small delay to create time separation\n",
    "    time.sleep(1)\n",
    "\n",
    "print(f\"\\nAgent now has {len(agent.memory_ids)} memory sessions\")"
   ]
  },
  {
   "cell_type": "code",
   "execution_count": 18,
   "id": "61a26399",
   "metadata": {},
   "outputs": [],
   "source": [
    "# Generate summaries from the accumulated memories\n",
    "# 💡 Tip: This can be placed in background task that's triggered by a cron job\n",
    "# 💡 Tip: Or it can be provided to the agent as a tool to be used at it's discretion\n",
    "summary_ids = agent.generate_summaries(\n",
    "    days_back=1,  # Look back 1 day (covers all our interactions)\n",
    "    max_memories_per_summary=5  # Smaller chunks for demo\n",
    ")"
   ]
  },
  {
   "cell_type": "code",
   "execution_count": 19,
   "id": "94e89797",
   "metadata": {},
   "outputs": [
    {
     "name": "stdout",
     "output_type": "stream",
     "text": [
      "Generated 4 summaries:\n",
      "  Summary 1: 689cab328fc3ee839edbfc55\n",
      "  Summary 2: 689cab438fc3ee839edbfc56\n",
      "  Summary 3: 689cab508fc3ee839edbfc57\n",
      "  Summary 4: 689cab5c8fc3ee839edbfc58\n"
     ]
    }
   ],
   "source": [
    "print(f\"Generated {len(summary_ids)} summaries:\")\n",
    "for i, summary_id in enumerate(summary_ids):\n",
    "    print(f\"  Summary {i+1}: {summary_id}\")"
   ]
  },
  {
   "cell_type": "code",
   "execution_count": 22,
   "id": "9259a93f",
   "metadata": {},
   "outputs": [
    {
     "name": "stdout",
     "output_type": "stream",
     "text": [
      "\n",
      "--- Examining Summaries ---\n",
      "Sample summary content:\n",
      "  Raw period_start: 1755097574.076263 (type: <class 'float'>)\n",
      "  Raw period_end: 1755097616.510677 (type: <class 'float'>)\n",
      "  Period: 2025-08-13 16:06:14.076263 to 2025-08-13 16:06:56.510677\n",
      "  Memory units: 5\n",
      "  Content: The individual demonstrated a desire to understand complex topics, starting with machine learning. They learned about different types of machine learning, such as supervised learning, unsupervised learning, and reinforcement learning. They also understood how machine learning algorithms are beneficial in scenarios where defining deterministic rules is challenging but ample data is available.\n",
      "\n",
      "Foll...\n"
     ]
    }
   ],
   "source": [
    "from datetime import datetime\n",
    "from memorizz import MemoryType\n",
    "\n",
    "# Show what the summaries look like\n",
    "print(\"\\n--- Examining Summaries ---\")\n",
    "if summary_ids:\n",
    "    # Get the first summary to show its content\n",
    "    summary = memory_provider.retrieve_by_id(summary_ids[0], MemoryType.SUMMARIES)\n",
    "    if summary:\n",
    "        print(f\"Sample summary content:\")\n",
    "        \n",
    "        # Debug: Check what format the timestamps are in\n",
    "        print(f\"  Raw period_start: {summary['period_start']} (type: {type(summary['period_start'])})\")\n",
    "        print(f\"  Raw period_end: {summary['period_end']} (type: {type(summary['period_end'])})\")\n",
    "        \n",
    "        # Try to parse timestamps (handle both numeric strings and ISO format)\n",
    "        try:\n",
    "            # If they're numeric strings, convert to float first\n",
    "            start_time = float(summary['period_start'])\n",
    "            end_time = float(summary['period_end'])\n",
    "            start_dt = datetime.fromtimestamp(start_time)\n",
    "            end_dt = datetime.fromtimestamp(end_time)\n",
    "            print(f\"  Period: {start_dt} to {end_dt}\")\n",
    "        except ValueError:\n",
    "            # If they're ISO format strings, parse directly\n",
    "            try:\n",
    "                start_dt = datetime.fromisoformat(summary['period_start'])\n",
    "                end_dt = datetime.fromisoformat(summary['period_end'])\n",
    "                print(f\"  Period: {start_dt} to {end_dt}\")\n",
    "            except ValueError:\n",
    "                # If neither works, just show the raw values\n",
    "                print(f\"  Period: {summary['period_start']} to {summary['period_end']} (unknown format)\")\n",
    "        \n",
    "        print(f\"  Memory units: {summary['memory_units_count']}\")\n",
    "        print(f\"  Content: {summary['summary_content'][:400]}...\")"
   ]
  },
  {
   "cell_type": "code",
   "execution_count": 23,
   "id": "9d29fb64",
   "metadata": {},
   "outputs": [
    {
     "name": "stdout",
     "output_type": "stream",
     "text": [
      "Storing persona: Alex in the memory provider, in the personas collection\n"
     ]
    }
   ],
   "source": [
    "# Update persona based on summaries\n",
    "# 💡 Tip: This can be placed in background task that's triggered by a cron job\n",
    "# 💡 Tip: Or it can be provided to the agent as a tool to be used at it's discretion\n",
    "persona_updated = agent.update_persona_from_summaries(\n",
    "    max_summaries=3,  # Use up to 3 most recent summaries\n",
    "    save=True         # Save the updated persona\n",
    ")"
   ]
  },
  {
   "cell_type": "code",
   "execution_count": 24,
   "id": "59f69f8b",
   "metadata": {},
   "outputs": [
    {
     "name": "stdout",
     "output_type": "stream",
     "text": [
      "✅ Persona successfully updated!\n",
      "Updated goals: Continue to assist users by offering in-depth and personalized support. Guide users in complex areas such as data science, machine learning, and data visualization. Promote continuous learning, simplify complex concepts, and provide thoughtful assistance with refined expertise and accuracy.\n",
      "Updated background: An evolved AI assistant with an advanced understanding of technical areas like data science, machine learning and statistical analysis. Skilled in explaining intricate concepts in manageable terms, offering detailed learning resources, crucial problem-solving strategies and coaching in cognitively challenging tasks. Proven expertise in patiently fostering user understanding and boosting their confidence in managing complex subjects.\n"
     ]
    }
   ],
   "source": [
    "if persona_updated:\n",
    "    print(\"✅ Persona successfully updated!\")\n",
    "    print(f\"Updated goals: {agent.persona.goals}\")\n",
    "    print(f\"Updated background: {agent.persona.background}\")\n",
    "else:\n",
    "    print(\"❌ Persona update failed\")\n",
    "\n"
   ]
  },
  {
   "cell_type": "code",
   "execution_count": 25,
   "id": "f6151490",
   "metadata": {},
   "outputs": [
    {
     "name": "stdout",
     "output_type": "stream",
     "text": [
      "Found 4 summaries for memory_id 689ca9e38fc3ee839edbfc36\n",
      "Found 4 summaries in the last 24 hours\n"
     ]
    }
   ],
   "source": [
    "# Get all summaries for this agent\n",
    "if agent.memory_ids:\n",
    "    memory_id = agent.memory_ids[0]\n",
    "    all_summaries = memory_provider.get_summaries_by_memory_id(memory_id, limit=10)\n",
    "    print(f\"Found {len(all_summaries)} summaries for memory_id {memory_id}\")\n",
    "    \n",
    "    # Get summaries within a time range\n",
    "    current_time = time.time()\n",
    "    start_time = current_time - (24 * 60 * 60)  # Last 24 hours\n",
    "    time_range_summaries = memory_provider.get_summaries_by_time_range(\n",
    "        memory_id, start_time, current_time\n",
    "    )\n",
    "    print(f\"Found {len(time_range_summaries)} summaries in the last 24 hours\")\n"
   ]
  },
  {
   "cell_type": "code",
   "execution_count": 26,
   "id": "67991ed2",
   "metadata": {},
   "outputs": [
    {
     "name": "stdout",
     "output_type": "stream",
     "text": [
      "\n",
      "Agent saved with ID: 689ca9dd8fc3ee839edbfc35\n"
     ]
    }
   ],
   "source": [
    "agent.save()\n",
    "print(f\"\\nAgent saved with ID: {agent.agent_id}\")"
   ]
  },
  {
   "cell_type": "code",
   "execution_count": null,
   "id": "9d9b2275",
   "metadata": {},
   "outputs": [],
   "source": []
  }
 ],
 "metadata": {
  "kernelspec": {
   "display_name": "memorizz",
   "language": "python",
   "name": "python3"
  },
  "language_info": {
   "codemirror_mode": {
    "name": "ipython",
    "version": 3
   },
   "file_extension": ".py",
   "mimetype": "text/x-python",
   "name": "python",
   "nbconvert_exporter": "python",
   "pygments_lexer": "ipython3",
   "version": "3.9.19"
  }
 },
 "nbformat": 4,
 "nbformat_minor": 5
}
