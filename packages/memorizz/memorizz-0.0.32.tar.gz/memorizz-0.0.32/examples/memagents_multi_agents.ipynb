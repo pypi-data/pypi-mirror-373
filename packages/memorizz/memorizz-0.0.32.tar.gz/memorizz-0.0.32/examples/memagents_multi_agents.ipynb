{
 "cells": [
  {
   "cell_type": "markdown",
   "metadata": {},
   "source": [
    "[![Open In Colab](https://colab.research.google.com/assets/colab-badge.svg)](https://colab.research.google.com/github/RichmondAlake/memorizz/blob/main/examples/memagents_multi_agents.ipynb)"
   ]
  },
  {
   "cell_type": "code",
   "execution_count": 1,
   "metadata": {},
   "outputs": [],
   "source": [
    "! pip install -qU memorizz yahooquery"
   ]
  },
  {
   "cell_type": "code",
   "execution_count": 2,
   "metadata": {},
   "outputs": [],
   "source": [
    "import getpass\n",
    "import os\n",
    "\n",
    "# Function to securely get and set environment variables\n",
    "def set_env_securely(var_name, prompt):\n",
    "    value = getpass.getpass(prompt)\n",
    "    os.environ[var_name] = value"
   ]
  },
  {
   "cell_type": "code",
   "execution_count": 3,
   "metadata": {},
   "outputs": [],
   "source": [
    "set_env_securely(\"MONGODB_URI\", \"Enter your MongoDB URI: \")"
   ]
  },
  {
   "cell_type": "code",
   "execution_count": 4,
   "metadata": {},
   "outputs": [],
   "source": [
    "set_env_securely(\"OPENAI_API_KEY\", \"Enter your OpenAI API key: \")"
   ]
  },
  {
   "cell_type": "code",
   "execution_count": 5,
   "metadata": {},
   "outputs": [],
   "source": [
    "set_env_securely(\"VOYAGE_API_KEY\", \"Enter your Voyage AI API key: \")"
   ]
  },
  {
   "cell_type": "markdown",
   "metadata": {},
   "source": [
    "### Step 1: Initalize a Memory Provider\n",
    "\n",
    "A Memory Provider is a core abstraction layer that manages the persistence, organization, and retrieval of all memory components within an agentic system. It serves as the central nervous system for memory management, providing standardized interfaces between AI agents and underlying storage technologies.\n"
   ]
  },
  {
   "cell_type": "code",
   "execution_count": 6,
   "metadata": {},
   "outputs": [
    {
     "name": "stderr",
     "output_type": "stream",
     "text": [
      "/Users/richmondalake/miniconda3/envs/agent_memory_course/lib/python3.11/site-packages/tqdm/auto.py:21: TqdmWarning: IProgress not found. Please update jupyter and ipywidgets. See https://ipywidgets.readthedocs.io/en/stable/user_install.html\n",
      "  from .autonotebook import tqdm as notebook_tqdm\n"
     ]
    },
    {
     "name": "stdout",
     "output_type": "stream",
     "text": [
      "Vector search index 'vector_index' already exists for collection personas.\n",
      "Vector search index 'vector_index' already exists for collection toolbox.\n",
      "Vector search index 'vector_index' already exists for collection short_term_memory.\n",
      "Vector search index 'vector_index' already exists for collection long_term_memory.\n",
      "Vector search index 'vector_index' already exists for collection conversation_memory.\n",
      "Vector search index 'vector_index' already exists for collection workflow_memory.\n",
      "Vector search index 'vector_index' already exists for collection agents.\n",
      "Vector search index 'vector_index' already exists for collection shared_memory.\n",
      "Vector search index 'vector_index' already exists for collection summaries.\n"
     ]
    }
   ],
   "source": [
    "from memorizz.memory_provider.mongodb.provider import MongoDBConfig, MongoDBProvider\n",
    "\n",
    "# Create a mongodb config with voyageai embeddings\n",
    "mongodb_config = MongoDBConfig(\n",
    "    uri=os.environ[\"MONGODB_URI\"],\n",
    "    db_name=\"testing_memorizz\",\n",
    "    embedding_provider=\"voyageai\",\n",
    "    embedding_config={\n",
    "        \"embedding_type\": \"contextualized\",\n",
    "        \"model\": \"voyage-context-3\",\n",
    "        \"output_dimension\": 256,\n",
    "    }\n",
    ")\n",
    "\n",
    "# Create a memory provider\n",
    "memory_provider = MongoDBProvider(mongodb_config)"
   ]
  },
  {
   "cell_type": "code",
   "execution_count": 7,
   "metadata": {},
   "outputs": [],
   "source": [
    "import requests\n",
    "\n",
    "def get_weather(latitude, longitude):\n",
    "    response = requests.get(f\"https://api.open-meteo.com/v1/forecast?latitude={latitude}&longitude={longitude}&current=temperature_2m,wind_speed_10m&hourly=temperature_2m,relative_humidity_2m,wind_speed_10m\")\n",
    "    data = response.json()\n",
    "    return data['current']['temperature_2m']"
   ]
  },
  {
   "cell_type": "code",
   "execution_count": 8,
   "metadata": {},
   "outputs": [
    {
     "name": "stdout",
     "output_type": "stream",
     "text": [
      "29.9\n"
     ]
    }
   ],
   "source": [
    "latitude = 40.7128\n",
    "longitude = -74.0060\n",
    "weather = get_weather(latitude, longitude)\n",
    "print(weather)\n"
   ]
  },
  {
   "cell_type": "code",
   "execution_count": 9,
   "metadata": {},
   "outputs": [],
   "source": [
    "from functools import lru_cache\n",
    "from yahooquery import Ticker\n",
    "import time\n",
    "\n",
    "@lru_cache(maxsize=128)\n",
    "def _fetch_price(symbol: str) -> float:\n",
    "    \"\"\"\n",
    "    Internal helper to fetch the latest market price via yahooquery.\n",
    "    Caching helps avoid repeated hits for the same symbol.\n",
    "    \"\"\"\n",
    "    ticker = Ticker(symbol)\n",
    "    # This returns a dict keyed by symbol:\n",
    "    info = ticker.price or {}\n",
    "    # regularMarketPrice holds the current trading price\n",
    "    price = info.get(symbol.upper(), {}).get(\"regularMarketPrice\")\n",
    "    if price is None:\n",
    "        raise ValueError(f\"No price data for '{symbol}'\")\n",
    "    return price\n",
    "\n",
    "def get_stock_price(\n",
    "    symbol: str,\n",
    "    currency: str = \"USD\",\n",
    "    retry: int = 3,\n",
    "    backoff: float = 0.5\n",
    ") -> str:\n",
    "    \"\"\"\n",
    "    Get the current stock price for a given symbol using yahooquery,\n",
    "    with simple retry/backoff to handle occasional rate-limits.\n",
    "\n",
    "    Parameters\n",
    "    ----------\n",
    "    symbol : str\n",
    "        Stock ticker, e.g. \"AAPL\"\n",
    "    currency : str, optional\n",
    "        Currency code (Currently informational only; yahooquery returns native)\n",
    "    retry : int, optional\n",
    "        Number of retries on failure (default: 3)\n",
    "    backoff : float, optional\n",
    "        Backoff factor in seconds between retries (default: 0.5s)\n",
    "\n",
    "    Returns\n",
    "    -------\n",
    "    str\n",
    "        e.g. \"The current price of AAPL is 172.34 USD.\"\n",
    "    \"\"\"\n",
    "    symbol = symbol.upper()\n",
    "    last_err = None\n",
    "    for attempt in range(1, retry + 1):\n",
    "        try:\n",
    "            price = _fetch_price(symbol)\n",
    "            return f\"The current price of {symbol} is {price:.2f} {currency.upper()}.\"\n",
    "        except Exception as e:\n",
    "            last_err = e\n",
    "            # simple backoff\n",
    "            time.sleep(backoff * attempt)\n",
    "    # if we get here, all retries failed\n",
    "    raise RuntimeError(f\"Failed to fetch price for '{symbol}' after {retry} attempts: {last_err}\")\n"
   ]
  },
  {
   "cell_type": "code",
   "execution_count": 10,
   "metadata": {},
   "outputs": [
    {
     "name": "stdout",
     "output_type": "stream",
     "text": [
      "The current price of AAPL is 231.88 USD.\n"
     ]
    }
   ],
   "source": [
    "print(get_stock_price(\"AAPL\"))"
   ]
  },
  {
   "cell_type": "code",
   "execution_count": 11,
   "metadata": {},
   "outputs": [
    {
     "data": {
      "text/plain": [
       "'689ca0ad1018716aa5a6250a'"
      ]
     },
     "execution_count": 11,
     "metadata": {},
     "output_type": "execute_result"
    }
   ],
   "source": [
    "from memorizz import Toolbox\n",
    "# Create a Toolbox instance\n",
    "weather_toolbox = Toolbox(memory_provider=memory_provider)\n",
    "stock_toolbox = Toolbox(memory_provider=memory_provider)\n",
    "# Register the functions with the Toolbox\n",
    "# These tools are now stored in the `ToolBox` store within the storage provider\n",
    "weather_toolbox.register_tool(get_weather)\n",
    "stock_toolbox.register_tool(get_stock_price)"
   ]
  },
  {
   "cell_type": "code",
   "execution_count": 12,
   "metadata": {},
   "outputs": [
    {
     "data": {
      "text/plain": [
       "MemAgent(agent_id=689ca0b21018716aa5a6250b, memory_provider=<memorizz.memory_provider.mongodb.provider.MongoDBProvider object at 0x111fb7410>)"
      ]
     },
     "execution_count": 12,
     "metadata": {},
     "output_type": "execute_result"
    }
   ],
   "source": [
    "from memorizz import MemAgent\n",
    "from memorizz.enums import ApplicationMode\n",
    "\n",
    "# Create specialized agents\n",
    "weather_agent = MemAgent(\n",
    "    memory_provider=memory_provider,\n",
    "    instruction=\"You are a weather specialist focused on weather data gathering and analysis.\",\n",
    "    application_mode=ApplicationMode.DEFAULT, # Default application mode is Assistant\n",
    ")\n",
    "\n",
    "weather_agent.add_tool(toolbox=weather_toolbox, persist=True)\n",
    "\n",
    "weather_agent.save()"
   ]
  },
  {
   "cell_type": "code",
   "execution_count": 13,
   "metadata": {},
   "outputs": [
    {
     "data": {
      "text/plain": [
       "MemAgent(agent_id=689ca0b21018716aa5a6250c, memory_provider=<memorizz.memory_provider.mongodb.provider.MongoDBProvider object at 0x111fb7410>)"
      ]
     },
     "execution_count": 13,
     "metadata": {},
     "output_type": "execute_result"
    }
   ],
   "source": [
    "stock_agent = MemAgent(\n",
    "    memory_provider=memory_provider,\n",
    "    instruction=\"You are a stock specialist focused on stock data gathering and analysis.\"\n",
    ")\n",
    "stock_agent.add_tool(toolbox=stock_toolbox)\n",
    "stock_agent.save()"
   ]
  },
  {
   "cell_type": "code",
   "execution_count": 14,
   "metadata": {},
   "outputs": [
    {
     "data": {
      "text/plain": [
       "MemAgent(agent_id=689ca0b21018716aa5a6250d, memory_provider=<memorizz.memory_provider.mongodb.provider.MongoDBProvider object at 0x111fb7410>)"
      ]
     },
     "execution_count": 14,
     "metadata": {},
     "output_type": "execute_result"
    }
   ],
   "source": [
    "# Create root agent with delegates\n",
    "coordinator = MemAgent(\n",
    "    memory_provider=memory_provider,\n",
    "    delegates=[weather_agent, stock_agent],\n",
    "    instruction=\"You coordinate complex tasks by delegating to specialized agents.\"\n",
    ")\n",
    "\n",
    "coordinator.save()"
   ]
  },
  {
   "cell_type": "code",
   "execution_count": 15,
   "metadata": {},
   "outputs": [],
   "source": [
    "# Execute multi-agent workflow\n",
    "result = coordinator.run(\"Give me the weather in San Francisco and then the stock price of Apple\")"
   ]
  },
  {
   "cell_type": "code",
   "execution_count": 16,
   "metadata": {},
   "outputs": [
    {
     "data": {
      "text/plain": [
       "'Here is the consolidated response based on the sub-task results:\\n\\nThe current weather in San Francisco is approximately 15.3°C. If you need additional weather details (such as wind, humidity, or specific conditions), please let me know.\\n\\nThe current stock price of Apple (AAPL) is $231.88 USD.\\n\\nIf you need further information about San Francisco’s weather or more detailed analysis of Apple’s stock, feel free to ask!\\n\\n**No gaps or conflicting information were found in the sub-task results.** The objective has been fully met based on the details provided.'"
      ]
     },
     "execution_count": 16,
     "metadata": {},
     "output_type": "execute_result"
    }
   ],
   "source": [
    "result"
   ]
  },
  {
   "cell_type": "code",
   "execution_count": null,
   "metadata": {},
   "outputs": [],
   "source": []
  }
 ],
 "metadata": {
  "kernelspec": {
   "display_name": "memorizz",
   "language": "python",
   "name": "python3"
  },
  "language_info": {
   "codemirror_mode": {
    "name": "ipython",
    "version": 3
   },
   "file_extension": ".py",
   "mimetype": "text/x-python",
   "name": "python",
   "nbconvert_exporter": "python",
   "pygments_lexer": "ipython3",
   "version": "3.9.19"
  }
 },
 "nbformat": 4,
 "nbformat_minor": 2
}
