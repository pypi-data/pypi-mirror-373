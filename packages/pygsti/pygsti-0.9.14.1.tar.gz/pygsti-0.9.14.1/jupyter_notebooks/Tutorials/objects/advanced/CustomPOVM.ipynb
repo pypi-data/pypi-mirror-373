{
 "cells": [
  {
   "cell_type": "markdown",
   "metadata": {},
   "source": [
    "# Custom POVM Tutorial\n",
    "This tutorial will demonstrate how to encode custom POVMs -- such as two-qubit parity measurement into a pyGSTi model -- rather than the standard Z measurement in the computational basis."
   ]
  },
  {
   "cell_type": "code",
   "execution_count": null,
   "metadata": {},
   "outputs": [],
   "source": [
    "import pygsti\n",
    "from pygsti.modelpacks import smq2Q_XYCNOT as std\n",
    "import numpy as np"
   ]
  },
  {
   "cell_type": "markdown",
   "metadata": {},
   "source": [
    "## Parity measurement construction\n",
    "\n",
    "We start with a standard two-qubit model, and replace the default POVM with one that measures the parity instead. We do this by providing the superkets which described the desired measurement. This is straightforward for the parity measurement in the Pauli product basis, as shown below."
   ]
  },
  {
   "cell_type": "code",
   "execution_count": null,
   "metadata": {},
   "outputs": [],
   "source": [
    "parity_model = std.target_model()\n",
    "\n",
    "# Here, we specify the superkets for the even/odd effects\n",
    "# This can be done in any basis, but we use Pauli-product here since\n",
    "# we know the structure of the parity measurements in this basis\n",
    "even_dmvec = np.zeros(16)\n",
    "even_dmvec[0] = 1.0  # II element should be 1\n",
    "even_dmvec[15] = 1.0 # ZZ element should also be 1 for even\n",
    "\n",
    "odd_dmvec = np.zeros(16)\n",
    "odd_dmvec[0] = 1.0  # II element is still 1 for odd...\n",
    "odd_dmvec[15] = -1.0 # ... but ZZ element should be -1 for odd\n",
    "\n",
    "parity_povm_dict = {'e': even_dmvec, 'o': odd_dmvec}\n",
    "\n",
    "parity_povm = pygsti.modelmembers.povms.create_from_dmvecs(parity_povm_dict, \"full TP\",\n",
    "    basis='pp', evotype=parity_model.evotype, state_space=parity_model.state_space)\n",
    "\n",
    "parity_model['Mdefault'] = parity_povm\n",
    "print(parity_model)"
   ]
  },
  {
   "cell_type": "markdown",
   "metadata": {},
   "source": [
    "We can test this by running some simple circuits and seeing what outcomes we observe."
   ]
  },
  {
   "cell_type": "code",
   "execution_count": null,
   "metadata": {},
   "outputs": [],
   "source": [
    "# Idle circuit should give us even outcome\n",
    "dict(parity_model.probabilities( pygsti.circuits.Circuit([], line_labels=(0,1))))"
   ]
  },
  {
   "cell_type": "code",
   "execution_count": null,
   "metadata": {},
   "outputs": [],
   "source": [
    "# Partial flip of one qubit gives an equal superposition of odd and even\n",
    "dict(parity_model.probabilities( pygsti.circuits.Circuit([('Gxpi2', 0)], line_labels=(0,1))))"
   ]
  },
  {
   "cell_type": "code",
   "execution_count": null,
   "metadata": {},
   "outputs": [],
   "source": [
    "# Full bitflip of one qubit should give us an odd outcome\n",
    "dict(parity_model.probabilities( pygsti.circuits.Circuit([('Gxpi2', 0), ('Gxpi2', 0)], line_labels=(0,1))))"
   ]
  },
  {
   "cell_type": "code",
   "execution_count": null,
   "metadata": {},
   "outputs": [],
   "source": [
    "# Making a Bell pair (using H = Y(pi/2)X(pi), in operation order) should maintain the even outcome\n",
    "dict(parity_model.probabilities( pygsti.circuits.Circuit([('Gypi2', 0), ('Gxpi2', 0), ('Gxpi2', 0), ('Gcnot', 0, 1)], line_labels=(0,1))))"
   ]
  },
  {
   "cell_type": "code",
   "execution_count": null,
   "metadata": {},
   "outputs": [],
   "source": [
    "# Making a Bell pair and then flipping one qubit should give odd\n",
    "dict(parity_model.probabilities( pygsti.circuits.Circuit([('Gypi2', 0), ('Gxpi2', 0), ('Gxpi2', 0), ('Gcnot', 0, 1),\n",
    "                                                          ('Gxpi2', 1), ('Gxpi2', 1)], line_labels=(0,1))))"
   ]
  },
  {
   "cell_type": "markdown",
   "metadata": {},
   "source": [
    "## Combining measurements\n",
    "\n",
    "It is also possible to use different measurements on different sets of qubits. For example, we can mix computational basis states with our parity measurement from above.\n",
    "\n",
    "Since we are going up to 3 qubits for this example, we will swap over to using a `QubitProcessorSpec` and `pygsti.modelconstruction` to build our initial `ExplicitModel` rather than loading it from a modelpack."
   ]
  },
  {
   "cell_type": "code",
   "execution_count": null,
   "metadata": {},
   "outputs": [],
   "source": [
    "# Get a basic 3-qubit model\n",
    "pspec = pygsti.processors.QubitProcessorSpec(3, ['Gxpi2', 'Gypi2', 'Gcnot'], geometry='line')\n",
    "Z_parity_model = pygsti.models.create_explicit_model(pspec)\n",
    "\n",
    "# Get a 1-qubit Z basis (computational) measurement\n",
    "computational_povm = pygsti.modelmembers.povms.ComputationalBasisPOVM(nqubits=1)\n",
    "\n",
    "# Get a composite POVM that performs Z measurement on qubit 1 and a parity measurement on qubits 2 and 3\n",
    "# We are using the same parity POVM as the one defined above\n",
    "Z_parity_povm = pygsti.modelmembers.povms.TensorProductPOVM([computational_povm, parity_povm])\n",
    "\n",
    "# Override our standard measurement with the composite one\n",
    "Z_parity_model['Mdefault'] = Z_parity_povm\n"
   ]
  },
  {
   "cell_type": "markdown",
   "metadata": {},
   "source": [
    "And we can again test this with some simple measurements. Notice that instead of binary bitstrings, the \"e\"/\"o\" outcome labels are used as the second part of the outcome labels."
   ]
  },
  {
   "cell_type": "code",
   "execution_count": null,
   "metadata": {},
   "outputs": [],
   "source": [
    "# Idle circuit should give us 0 on first qubit and even parity on second and third qubits\n",
    "dict(Z_parity_model.probabilities( pygsti.circuits.Circuit([], line_labels=(0,1,2)) ))"
   ]
  },
  {
   "cell_type": "code",
   "execution_count": null,
   "metadata": {},
   "outputs": [],
   "source": [
    "# We can flip just the first qubit to see a 1 but still even outcome\n",
    "dict(Z_parity_model.probabilities( pygsti.circuits.Circuit([('Gxpi2', 0), ('Gxpi2', 0)], line_labels=(0,1,2)) ))"
   ]
  },
  {
   "cell_type": "code",
   "execution_count": null,
   "metadata": {},
   "outputs": [],
   "source": [
    "# Alternatively we can flip the last qubit to get a 0 but odd outcome\n",
    "dict(Z_parity_model.probabilities( pygsti.circuits.Circuit([('Gxpi2', 2), ('Gxpi2', 2)], line_labels=(0,1,2)) ))"
   ]
  },
  {
   "cell_type": "code",
   "execution_count": null,
   "metadata": {},
   "outputs": [],
   "source": [
    "# And we can do partial flip of qubits 0 and 1 to get a uniform spread over all outcome possibilities\n",
    "dict(Z_parity_model.probabilities( pygsti.circuits.Circuit([('Gxpi2', 0), ('Gxpi2', 1)], line_labels=(0,1,2)) ))"
   ]
  },
  {
   "cell_type": "markdown",
   "metadata": {},
   "source": [
    "## Multiple custom measurements\n",
    "\n",
    "The above works nicely if there is only one type of mixed measurement, but what if you have multiple? For example, what if you could measure parity on either pair of neighboring qubits, and also computational basis measurements on all qubits?\n",
    "\n",
    "In this case, we can just add both POVMs to the model. However, we have to be careful about the \"default\" measurement of the system. For this example, we will use the computational basis POVM as the default measurement and assign the two parity-containing measurements to other keys. We just have to be careful that we explicitly use the correct POVM key when we want to do a different measurement."
   ]
  },
  {
   "cell_type": "code",
   "execution_count": null,
   "metadata": {},
   "outputs": [],
   "source": [
    "# Get a basic 3-qubit model\n",
    "mult_meas_model = pygsti.models.create_explicit_model(pspec)\n",
    "\n",
    "# Note that Mdefault is the 3-qubit computational basis measurement already\n",
    "print(mult_meas_model['Mdefault'])"
   ]
  },
  {
   "cell_type": "code",
   "execution_count": null,
   "metadata": {},
   "outputs": [],
   "source": [
    "# Now let's build our two other custom measurements and assign them to other keys\n",
    "Z_parity_povm = pygsti.modelmembers.povms.TensorProductPOVM([computational_povm, parity_povm])\n",
    "parity_Z_povm = pygsti.modelmembers.povms.TensorProductPOVM([parity_povm, computational_povm])\n",
    "\n",
    "mult_meas_model['M_Z_par'] = Z_parity_povm\n",
    "mult_meas_model['M_par_Z'] = parity_Z_povm\n",
    "\n",
    "print(mult_meas_model)"
   ]
  },
  {
   "cell_type": "markdown",
   "metadata": {},
   "source": [
    "As usual, let's test with some circuits to see if this has our expected behavior."
   ]
  },
  {
   "cell_type": "code",
   "execution_count": null,
   "metadata": {
    "tags": []
   },
   "outputs": [],
   "source": [
    "# Let's try to run a circuit with a bitflip on qubit 1...\n",
    "try:\n",
    "    dict(mult_meas_model.probabilities( pygsti.circuits.Circuit([('Gxpi2', 0), ('Gxpi2', 0)], line_labels=(0,1,2)) ))\n",
    "except Exception as e:\n",
    "    print(e)"
   ]
  },
  {
   "cell_type": "markdown",
   "metadata": {},
   "source": [
    "Notice that this fails! In particular, it tells us that there is not POVM label in the Circuit, and the model does not have a default. This is expected behavior - when models have multiple measurements, pyGSTi does not automatically assume that one is default.\n",
    "\n",
    "We can fix this by just explicitly adding the Mdefault key."
   ]
  },
  {
   "cell_type": "code",
   "execution_count": null,
   "metadata": {},
   "outputs": [],
   "source": [
    "dict(mult_meas_model.probabilities( pygsti.circuits.Circuit([('Gxpi2', 0), ('Gxpi2', 0), \"Mdefault\"], line_labels=(0,1,2)) ))"
   ]
  },
  {
   "cell_type": "markdown",
   "metadata": {},
   "source": [
    "Now, let's run the same circuit but use our other measurements."
   ]
  },
  {
   "cell_type": "code",
   "execution_count": null,
   "metadata": {},
   "outputs": [],
   "source": [
    "# Using the Z-parity should give us 1 on qubit 0 and even for qubits 2 & 3...\n",
    "dict(mult_meas_model.probabilities( pygsti.circuits.Circuit([('Gxpi2', 0), ('Gxpi2', 0), \"M_Z_par\"], line_labels=(0,1,2)) ))"
   ]
  },
  {
   "cell_type": "code",
   "execution_count": null,
   "metadata": {},
   "outputs": [],
   "source": [
    "# ... while using parity-Z should give us odd for qubits 0 & 1 and 0 for qubit 2\n",
    "dict(mult_meas_model.probabilities( pygsti.circuits.Circuit([('Gxpi2', 0), ('Gxpi2', 0), \"M_par_Z\"], line_labels=(0,1,2)) ))"
   ]
  },
  {
   "cell_type": "code",
   "execution_count": null,
   "metadata": {},
   "outputs": [],
   "source": []
  }
 ],
 "metadata": {
  "kernelspec": {
   "display_name": "Python 3 (ipykernel)",
   "language": "python",
   "name": "python3"
  },
  "language_info": {
   "codemirror_mode": {
    "name": "ipython",
    "version": 3
   },
   "file_extension": ".py",
   "mimetype": "text/x-python",
   "name": "python",
   "nbconvert_exporter": "python",
   "pygments_lexer": "ipython3",
   "version": "3.11.5"
  }
 },
 "nbformat": 4,
 "nbformat_minor": 4
}
