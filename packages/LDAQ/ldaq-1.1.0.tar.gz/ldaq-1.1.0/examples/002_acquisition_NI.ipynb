{
 "cells": [
  {
   "cell_type": "markdown",
   "metadata": {},
   "source": [
    "# NI acquisition"
   ]
  },
  {
   "cell_type": "code",
   "execution_count": 1,
   "metadata": {},
   "outputs": [],
   "source": [
    "import os\n",
    "import sys\n",
    "sys.path.insert(0, os.path.realpath('../'))"
   ]
  },
  {
   "cell_type": "code",
   "execution_count": 2,
   "metadata": {},
   "outputs": [],
   "source": [
    "import LDAQ"
   ]
  },
  {
   "cell_type": "code",
   "execution_count": 3,
   "metadata": {},
   "outputs": [
    {
     "data": {
      "text/plain": [
       "Task name: input_task\n",
       "Connected devices:\n",
       "\t(0) - VirtualDevice\n",
       "\t(1) - VirtualDevice2\n",
       "Channels: []"
      ]
     },
     "execution_count": 3,
     "metadata": {},
     "output_type": "execute_result"
    }
   ],
   "source": [
    "# Create a NI task:\n",
    "# (if you defined a task in NI MAX you can skip this step)\n",
    "task_in = LDAQ.NITask(\"input_task\", sample_rate=25600)\n",
    "task_in # prints available devices, here we will use virtual device predefined in NI MAX"
   ]
  },
  {
   "cell_type": "code",
   "execution_count": 4,
   "metadata": {},
   "outputs": [],
   "source": [
    "# add channels to the task:\n",
    "task_in.add_channel(channel_name=\"Voltage\", device_ind=0, channel_ind=0, sensitivity=None, sensitivity_units=None, units=\"V\", scale=1., min_val=-3, max_val=3)\n",
    "task_in.add_channel(channel_name=\"Acceleration\", device_ind=0, channel_ind=1, sensitivity=100, sensitivity_units=\"mV/g\", units=\"g\", min_val=-4, max_val=4)"
   ]
  },
  {
   "cell_type": "code",
   "execution_count": 5,
   "metadata": {},
   "outputs": [],
   "source": [
    "# use created input task in acquisition source:\n",
    "# (if you created a task using NI MAX, you can just use the task name in a string as the first argument)\n",
    "acq_ni = LDAQ.national_instruments.NIAcquisition(task_name=task_in, acquisition_name=\"NI\")"
   ]
  },
  {
   "cell_type": "code",
   "execution_count": 6,
   "metadata": {},
   "outputs": [
    {
     "name": "stdout",
     "output_type": "stream",
     "text": [
      "+--------+-------------------------------------------------+\n",
      "| HOTKEY |                   DESCRIPTION                   |\n",
      "+--------+-------------------------------------------------+\n",
      "|   s    | Start the measurement manually (ignore trigger) |\n",
      "+--------+-------------------------------------------------+\n",
      "|   q    |              Stop the measurement               |\n",
      "+--------+-------------------------------------------------+\n",
      "\n",
      "Waiting for trigger...\n",
      "triggered.\n",
      "\tRecording...Measurement finished.\n"
     ]
    }
   ],
   "source": [
    "# create core object and add acquisition source:\n",
    "ldaq = LDAQ.Core(acquisitions=[acq_ni])\n",
    "# set trigger:\n",
    "ldaq.set_trigger(\n",
    "    source=\"NI\",\n",
    "    channel=\"Voltage\",\n",
    "    level=1.5,\n",
    "    duration=1.0,\n",
    "    presamples=1000,\n",
    "    trigger_type='abs'\n",
    ")\n",
    "# run acquisition:\n",
    "ldaq.run()"
   ]
  },
  {
   "cell_type": "code",
   "execution_count": 7,
   "metadata": {},
   "outputs": [
    {
     "data": {
      "text/plain": [
       "{'NI': {'time': array([0.00000000e+00, 3.90625000e-05, 7.81250000e-05, ...,\n",
       "         9.99882812e-01, 9.99921875e-01, 9.99960938e-01]),\n",
       "  'channel_names': ['Voltage', 'Acceleration'],\n",
       "  'data': array([[-1.29528113, -1.95764911],\n",
       "         [-1.20128996, -2.0144583 ],\n",
       "         [-1.34819754, -1.87521588],\n",
       "         ...,\n",
       "         [-2.6492937 , -3.15299053],\n",
       "         [-2.51784757, -3.1706037 ],\n",
       "         [-2.64967457, -3.19743772]]),\n",
       "  'sample_rate': 25600}}"
      ]
     },
     "execution_count": 7,
     "metadata": {},
     "output_type": "execute_result"
    }
   ],
   "source": [
    "# Retrieve the measurement data:\n",
    "measurement = ldaq.get_measurement_dict()\n",
    "measurement"
   ]
  }
 ],
 "metadata": {
  "kernelspec": {
   "display_name": "Python 3.9.12 ('base')",
   "language": "python",
   "name": "python3"
  },
  "language_info": {
   "codemirror_mode": {
    "name": "ipython",
    "version": 3
   },
   "file_extension": ".py",
   "mimetype": "text/x-python",
   "name": "python",
   "nbconvert_exporter": "python",
   "pygments_lexer": "ipython3",
   "version": "3.10.11"
  },
  "toc": {
   "base_numbering": 1,
   "nav_menu": {},
   "number_sections": true,
   "sideBar": true,
   "skip_h1_title": false,
   "title_cell": "Table of Contents",
   "title_sidebar": "Contents",
   "toc_cell": false,
   "toc_position": {},
   "toc_section_display": true,
   "toc_window_display": false
  },
  "varInspector": {
   "cols": {
    "lenName": 16,
    "lenType": 16,
    "lenVar": 40
   },
   "kernels_config": {
    "python": {
     "delete_cmd_postfix": "",
     "delete_cmd_prefix": "del ",
     "library": "var_list.py",
     "varRefreshCmd": "print(var_dic_list())"
    },
    "r": {
     "delete_cmd_postfix": ") ",
     "delete_cmd_prefix": "rm(",
     "library": "var_list.r",
     "varRefreshCmd": "cat(var_dic_list()) "
    }
   },
   "types_to_exclude": [
    "module",
    "function",
    "builtin_function_or_method",
    "instance",
    "_Feature"
   ],
   "window_display": false
  },
  "vscode": {
   "interpreter": {
    "hash": "4a14d6850f8b7ae03939e3e8d0a94af880f09a63e1f8d48b5eb202e35ffc6de5"
   }
  }
 },
 "nbformat": 4,
 "nbformat_minor": 4
}
