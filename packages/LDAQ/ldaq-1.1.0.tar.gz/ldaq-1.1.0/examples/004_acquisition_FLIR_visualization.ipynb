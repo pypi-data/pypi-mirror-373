{
 "cells": [
  {
   "cell_type": "markdown",
   "metadata": {},
   "source": [
    "# Flir acquisition and visualization"
   ]
  },
  {
   "cell_type": "code",
   "execution_count": 1,
   "metadata": {},
   "outputs": [],
   "source": [
    "import os\n",
    "import sys\n",
    "sys.path.insert(0, os.path.realpath('../'))"
   ]
  },
  {
   "cell_type": "code",
   "execution_count": 2,
   "metadata": {},
   "outputs": [],
   "source": [
    "import LDAQ"
   ]
  },
  {
   "cell_type": "code",
   "execution_count": 3,
   "metadata": {},
   "outputs": [],
   "source": [
    "# Create FLIR camera acquisition source:\n",
    "acq_flir = LDAQ.flir.FLIRThermalCamera(acquisition_name=\"FLIRCam\")"
   ]
  },
  {
   "cell_type": "code",
   "execution_count": 5,
   "metadata": {},
   "outputs": [
    {
     "data": {
      "text/plain": [
       "{'time': array([0.000e+00, 2.000e-03, 4.000e-03, ..., 4.994e+00, 4.996e+00,\n",
       "        4.998e+00]),\n",
       " 'channel_names': ['channel 1', 'channel 2'],\n",
       " 'data': array([[ 512.,  998.],\n",
       "        [ 512., 1014.],\n",
       "        [ 512., 1022.],\n",
       "        ...,\n",
       "        [ 512.,  906.],\n",
       "        [ 512.,  944.],\n",
       "        [ 512.,  975.]]),\n",
       " 'sample_rate': 500}"
      ]
     },
     "execution_count": 5,
     "metadata": {},
     "output_type": "execute_result"
    }
   ],
   "source": [
    "# function to calculate average temperature:\n",
    "def average_temperature(array):\n",
    "    \"\"\"This function calculates the average temperature of the image.\n",
    "    Returned array can be either (N, 1) or (N, M, K), where N is the number\n",
    "    of samples. \n",
    "    \n",
    "    If return array is of shape (N, 1), then the virtual channel\n",
    "    will be treated as a data channel. \n",
    "    \n",
    "    If the returned array is of shape\n",
    "    (N, M, K), then the virtual channel will be treated as an video channel.\n",
    "    \"\"\"\n",
    "    mean = array.mean(axis=1).mean(axis=1)\n",
    "    return mean.reshape(-1,1)\n",
    "\n",
    "# add virtual channel:\n",
    "acq_flir.add_virtual_channel(\n",
    "    virtual_channel_name=\"average_temperature\", \n",
    "    source_channels=[\"temperature_field\"], \n",
    "    function=average_temperature)"
   ]
  },
  {
   "cell_type": "code",
   "execution_count": null,
   "metadata": {},
   "outputs": [],
   "source": [
    "# Create visualization object:\n",
    "vis = LDAQ.Visualization(refresh_rate=100)\n",
    "\n",
    "# add virtual channel to visualization:\n",
    "vis.add_lines(position=(0,0),   # 1st subplots\n",
    "              source=\"FLIRCam\", # acquisition source\n",
    "              channels=[0],     # channel index (from acq_flir.channel_names where data channels are stored)\n",
    "              t_span=3.0)       # time span of the plot\n",
    "vis.config_subplot((0, 0), ylim=(20, 40)) # configure subplot\n",
    "\n",
    "# add thermal image to visualization:\n",
    "vis.add_image(source=\"FLIRCam\", \n",
    "              channel=\"temperature_field\", \n",
    "              refresh_rate=200) "
   ]
  },
  {
   "cell_type": "code",
   "execution_count": 6,
   "metadata": {},
   "outputs": [
    {
     "name": "stdout",
     "output_type": "stream",
     "text": [
      "+--------+-------------------------------------------------+\n",
      "| HOTKEY |                   DESCRIPTION                   |\n",
      "+--------+-------------------------------------------------+\n",
      "|   s    | Start the measurement manually (ignore trigger) |\n",
      "+--------+-------------------------------------------------+\n",
      "|   q    |              Stop the measurement               |\n",
      "+--------+-------------------------------------------------+\n",
      "\n",
      "Waiting for trigger...\n",
      "triggered.\n",
      "\tRecording...Measurement finished.\n"
     ]
    },
    {
     "name": "stderr",
     "output_type": "stream",
     "text": [
      "sys:1: ResourceWarning: Unclosed socket <zmq.Socket(zmq.PUSH) at 0x1539f7e2c20>\n",
      "ResourceWarning: Enable tracemalloc to get the object allocation traceback\n"
     ]
    }
   ],
   "source": [
    "# create Core object:\n",
    "ldaq = LDAQ.Core(acquisitions=[acq_flir], visualization=vis)\n",
    "ldaq.run(10.) # run for 10 secs after triggering"
   ]
  },
  {
   "cell_type": "code",
   "execution_count": 7,
   "metadata": {},
   "outputs": [
    {
     "data": {
      "text/plain": [
       "{'arduino': {'time': array([0.000e+00, 2.000e-03, 4.000e-03, ..., 4.994e+00, 4.996e+00,\n",
       "         4.998e+00]),\n",
       "  'channel_names': ['channel 1', 'channel 2'],\n",
       "  'data': array([[ 512.,  576.],\n",
       "         [ 512.,  639.],\n",
       "         [ 512.,  700.],\n",
       "         ...,\n",
       "         [-512.,  384.],\n",
       "         [-512.,  447.],\n",
       "         [ 512.,  512.]]),\n",
       "  'sample_rate': 500}}"
      ]
     },
     "execution_count": 7,
     "metadata": {},
     "output_type": "execute_result"
    }
   ],
   "source": [
    "# Retrieve the measurement data:\n",
    "measurement = ldaq.get_measurement_dict()\n",
    "measurement"
   ]
  }
 ],
 "metadata": {
  "kernelspec": {
   "display_name": "Python 3.9.12 ('base')",
   "language": "python",
   "name": "python3"
  },
  "language_info": {
   "codemirror_mode": {
    "name": "ipython",
    "version": 3
   },
   "file_extension": ".py",
   "mimetype": "text/x-python",
   "name": "python",
   "nbconvert_exporter": "python",
   "pygments_lexer": "ipython3",
   "version": "3.10.11"
  },
  "toc": {
   "base_numbering": 1,
   "nav_menu": {},
   "number_sections": true,
   "sideBar": true,
   "skip_h1_title": false,
   "title_cell": "Table of Contents",
   "title_sidebar": "Contents",
   "toc_cell": false,
   "toc_position": {},
   "toc_section_display": true,
   "toc_window_display": false
  },
  "varInspector": {
   "cols": {
    "lenName": 16,
    "lenType": 16,
    "lenVar": 40
   },
   "kernels_config": {
    "python": {
     "delete_cmd_postfix": "",
     "delete_cmd_prefix": "del ",
     "library": "var_list.py",
     "varRefreshCmd": "print(var_dic_list())"
    },
    "r": {
     "delete_cmd_postfix": ") ",
     "delete_cmd_prefix": "rm(",
     "library": "var_list.r",
     "varRefreshCmd": "cat(var_dic_list()) "
    }
   },
   "types_to_exclude": [
    "module",
    "function",
    "builtin_function_or_method",
    "instance",
    "_Feature"
   ],
   "window_display": false
  },
  "vscode": {
   "interpreter": {
    "hash": "4a14d6850f8b7ae03939e3e8d0a94af880f09a63e1f8d48b5eb202e35ffc6de5"
   }
  }
 },
 "nbformat": 4,
 "nbformat_minor": 4
}
