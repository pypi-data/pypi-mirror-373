{
 "cells": [
  {
   "cell_type": "markdown",
   "metadata": {},
   "source": [
    "# Simultated data and video"
   ]
  },
  {
   "cell_type": "code",
   "execution_count": 1,
   "metadata": {},
   "outputs": [],
   "source": [
    "import os\n",
    "import sys\n",
    "import numpy as np\n",
    "sys.path.insert(0, os.path.realpath('../'))\n",
    "\n",
    "import LDAQ"
   ]
  },
  {
   "cell_type": "code",
   "execution_count": 2,
   "metadata": {},
   "outputs": [],
   "source": [
    "# ------------------------------------------\n",
    "# Create simulated data acquisition sources:\n",
    "# ------------------------------------------\n",
    "acq_simulated_data = LDAQ.simulator.SimulatedAcquisition(acquisition_name='sim_data')"
   ]
  },
  {
   "cell_type": "code",
   "execution_count": 3,
   "metadata": {},
   "outputs": [],
   "source": [
    "# define simulated data using numpy array (array will be looped over):\n",
    "fs = 10000\n",
    "t = np.arange(fs*2)\n",
    "x = np.sin(2*np.pi*50*t/fs) + np.random.randn(len(t))*0.2\n",
    "y = np.sin(2*np.pi*100*t/fs + np.pi/2)\n",
    "simulated_data = np.array([x, y]).T\n",
    "\n",
    "# define simulated data using a function:\n",
    "def simulate_signal(t, f1, f2):\n",
    "    \"\"\"\n",
    "    first argument must be time.\n",
    "    If multi_processing is True, then the function must be pickable and \n",
    "    all libraries must be imported inside the function.\n",
    "    \"\"\"\n",
    "    #import numpy as np\n",
    "    sig1 = np.sin(2*np.pi*f1*t) + np.random.rand(len(t))*0.3\n",
    "    sig2 = np.cos(2*np.pi*f2*t) + np.random.rand(len(t))*0.3\n",
    "    return np.array([sig1, sig2]).T"
   ]
  },
  {
   "cell_type": "code",
   "execution_count": 4,
   "metadata": {},
   "outputs": [],
   "source": [
    "# set simulated data (first argument is the function or array):\n",
    "acq_simulated_data.set_simulated_data(simulated_data, channel_names=[\"ch1\", \"ch2\"], sample_rate=fs, args=(84, 120)) # use array\n",
    "# acq_simulated_data.set_simulated_data(simulate_signal, channel_names=[\"ch1\", \"ch2\"], sample_rate=fs, args=(84, 120)) # use function"
   ]
  },
  {
   "cell_type": "code",
   "execution_count": 5,
   "metadata": {},
   "outputs": [],
   "source": [
    "# ------------------------------------------\n",
    "# create simulated video acquisition source:\n",
    "# ------------------------------------------\n",
    "acq_simulated_video = LDAQ.simulator.SimulatedAcquisition(acquisition_name='sim_video')"
   ]
  },
  {
   "cell_type": "code",
   "execution_count": 6,
   "metadata": {},
   "outputs": [],
   "source": [
    "# define simulated video using numpy array:\n",
    "fs = 30\n",
    "simulated_video = np.random.randn(1000, 100, 100)\n",
    "\n",
    "# define simulated video using a function:\n",
    "def simulate_video(t):\n",
    "    \"\"\"\n",
    "    first argument must be time.\n",
    "    If multi_processing is True, then the function must be pickable and \n",
    "    all libraries must be imported inside the function.\n",
    "    \"\"\"\n",
    "    #import numpy as np\n",
    "    N = t.shape[0]\t\n",
    "    return np.random.randn(N, 100, 100)"
   ]
  },
  {
   "cell_type": "code",
   "execution_count": 7,
   "metadata": {},
   "outputs": [],
   "source": [
    "acq_simulated_video.set_simulated_video(simulated_video, channel_name_video='cam', sample_rate=fs) # use array\n",
    "#acq_simulated_video.set_simulated_video(simulate_video, channel_name_video='cam', sample_rate=fs) # use function"
   ]
  },
  {
   "cell_type": "code",
   "execution_count": 8,
   "metadata": {},
   "outputs": [],
   "source": [
    "# ----------------------------\n",
    "# Create visulaization object:\n",
    "# ----------------------------\n",
    "\n",
    "vis = LDAQ.Visualization(sequential_plot_updates=False)\n",
    "vis.add_lines((0,0), source='sim_data', channels=[\"ch1\", \"ch2\"], refresh_rate=50)\n",
    "vis.add_lines((1,0), source='sim_data', channels=[\"ch1\", \"ch2\"], refresh_rate=500, function=\"fft\")\n",
    "\n",
    "vis.add_image(source=\"sim_video\", channel=\"cam\", refresh_rate=30)\n",
    "\n",
    "vis.config_subplot((0,0), t_span=0.04, ylim=(-1.1, 1.1))\n",
    "vis.config_subplot((1,0), t_span=0.5, ylim=(0, 1.1), xlim=(0, 500))"
   ]
  },
  {
   "cell_type": "code",
   "execution_count": 9,
   "metadata": {},
   "outputs": [],
   "source": [
    "ldaq = LDAQ.Core(acquisitions=[acq_simulated_data, acq_simulated_video], visualization=vis)\n",
    "ldaq.run(10.) # run for 10 seconds\n",
    "#ldaq.run(60., save_interval=4.0, save_channels=[\"ch1\"],) # run for 60 seconds and save data every 4 seconds, save only channel \"ch1\""
   ]
  },
  {
   "cell_type": "code",
   "execution_count": null,
   "metadata": {},
   "outputs": [],
   "source": [
    "ldaq.get_measurement_dict()"
   ]
  }
 ],
 "metadata": {
  "kernelspec": {
   "display_name": "Python 3.9.12 ('base')",
   "language": "python",
   "name": "python3"
  },
  "language_info": {
   "codemirror_mode": {
    "name": "ipython",
    "version": 3
   },
   "file_extension": ".py",
   "mimetype": "text/x-python",
   "name": "python",
   "nbconvert_exporter": "python",
   "pygments_lexer": "ipython3",
   "version": "3.10.11"
  },
  "toc": {
   "base_numbering": 1,
   "nav_menu": {},
   "number_sections": true,
   "sideBar": true,
   "skip_h1_title": false,
   "title_cell": "Table of Contents",
   "title_sidebar": "Contents",
   "toc_cell": false,
   "toc_position": {},
   "toc_section_display": true,
   "toc_window_display": false
  },
  "varInspector": {
   "cols": {
    "lenName": 16,
    "lenType": 16,
    "lenVar": 40
   },
   "kernels_config": {
    "python": {
     "delete_cmd_postfix": "",
     "delete_cmd_prefix": "del ",
     "library": "var_list.py",
     "varRefreshCmd": "print(var_dic_list())"
    },
    "r": {
     "delete_cmd_postfix": ") ",
     "delete_cmd_prefix": "rm(",
     "library": "var_list.r",
     "varRefreshCmd": "cat(var_dic_list()) "
    }
   },
   "types_to_exclude": [
    "module",
    "function",
    "builtin_function_or_method",
    "instance",
    "_Feature"
   ],
   "window_display": false
  },
  "vscode": {
   "interpreter": {
    "hash": "4a14d6850f8b7ae03939e3e8d0a94af880f09a63e1f8d48b5eb202e35ffc6de5"
   }
  }
 },
 "nbformat": 4,
 "nbformat_minor": 4
}
