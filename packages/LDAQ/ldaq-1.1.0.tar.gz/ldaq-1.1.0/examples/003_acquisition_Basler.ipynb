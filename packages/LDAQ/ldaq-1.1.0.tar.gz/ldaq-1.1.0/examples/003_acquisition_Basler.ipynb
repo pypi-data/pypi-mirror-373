{
 "cells": [
  {
   "cell_type": "markdown",
   "metadata": {},
   "source": [
    "# Basler acquisition"
   ]
  },
  {
   "cell_type": "code",
   "execution_count": 1,
   "metadata": {},
   "outputs": [],
   "source": [
    "import os\n",
    "import sys\n",
    "sys.path.insert(0, os.path.realpath('../'))"
   ]
  },
  {
   "cell_type": "code",
   "execution_count": 2,
   "metadata": {},
   "outputs": [],
   "source": [
    "import LDAQ"
   ]
  },
  {
   "cell_type": "code",
   "execution_count": 3,
   "metadata": {},
   "outputs": [],
   "source": [
    "# Create acquisition source with Basler camera:\n",
    "acq_basler = LDAQ.basler.BaslerCamera(acquisition_name=\"Cam\", sample_rate=10, \n",
    "                                     offset=(0,0), size=(1000, 1000), subsample=1,\n",
    "                                     exposure_time_ms=4)"
   ]
  },
  {
   "cell_type": "code",
   "execution_count": 4,
   "metadata": {},
   "outputs": [
    {
     "name": "stdout",
     "output_type": "stream",
     "text": [
      "+--------+-------------------------------------------------+\n",
      "| HOTKEY |                   DESCRIPTION                   |\n",
      "+--------+-------------------------------------------------+\n",
      "|   s    | Start the measurement manually (ignore trigger) |\n",
      "+--------+-------------------------------------------------+\n",
      "|   q    |              Stop the measurement               |\n",
      "+--------+-------------------------------------------------+\n",
      "\n",
      "Waiting for trigger...\n",
      "triggered.\n",
      "\tRecording..."
     ]
    },
    {
     "name": "stderr",
     "output_type": "stream",
     "text": [
      "sys:1: ResourceWarning: Unclosed socket <zmq.Socket(zmq.PUSH) at 0x245424da620>\n",
      "ResourceWarning: Enable tracemalloc to get the object allocation traceback\n"
     ]
    },
    {
     "name": "stdout",
     "output_type": "stream",
     "text": [
      "Measurement finished.\n"
     ]
    }
   ],
   "source": [
    "ldaq = LDAQ.Core(acquisitions=[acq_basler])\n",
    "ldaq.run(3.0)"
   ]
  },
  {
   "cell_type": "code",
   "execution_count": 5,
   "metadata": {},
   "outputs": [
    {
     "data": {
      "text/plain": [
       "{'Cam': {'time': array([0. , 0.1, 0.2, 0.3, 0.4, 0.5, 0.6, 0.7, 0.8, 0.9, 1. , 1.1, 1.2,\n",
       "         1.3, 1.4, 1.5, 1.6, 1.7, 1.8, 1.9, 2. , 2.1, 2.2, 2.3, 2.4, 2.5,\n",
       "         2.6, 2.7, 2.8, 2.9]),\n",
       "  'channel_names': [],\n",
       "  'data': array([], dtype=float64),\n",
       "  'channel_names_video': ['Camera'],\n",
       "  'video': [array([[[  6,   5,   2, ...,  10,  12,  14],\n",
       "           [  5,   4,   4, ...,  13,  13,   7],\n",
       "           [  2,   3,   2, ...,  11,   7,  11],\n",
       "           ...,\n",
       "           [253, 253, 236, ..., 314, 283, 319],\n",
       "           [248, 237, 256, ..., 303, 299, 280],\n",
       "           [263, 241, 252, ..., 319, 322, 296]],\n",
       "   \n",
       "          [[  3,   2,   1, ...,   9,  10,   7],\n",
       "           [  2,   4,   3, ...,  10,  10,  12],\n",
       "           [  0,   5,   2, ...,   6,  12,  11],\n",
       "           ...,\n",
       "           [257, 246, 244, ..., 291, 289, 312],\n",
       "           [255, 228, 257, ..., 299, 309, 299],\n",
       "           [263, 238, 248, ..., 287, 310, 286]],\n",
       "   \n",
       "          [[  4,   4,   0, ...,  13,   8,  11],\n",
       "           [  4,   3,   5, ...,  12,   7,  13],\n",
       "           [  2,   3,   6, ...,  14,   7,  14],\n",
       "           ...,\n",
       "           [262, 258, 254, ..., 279, 291, 296],\n",
       "           [256, 239, 248, ..., 309, 286, 307],\n",
       "           [264, 253, 247, ..., 306, 309, 284]],\n",
       "   \n",
       "          ...,\n",
       "   \n",
       "          [[  5,   4,   3, ...,   7,  11,   9],\n",
       "           [  3,   3,   1, ...,  12,  11,   9],\n",
       "           [  4,   1,   3, ...,  12,  10,   9],\n",
       "           ...,\n",
       "           [254, 257, 246, ..., 295, 286, 294],\n",
       "           [255, 243, 255, ..., 295, 304, 301],\n",
       "           [249, 252, 251, ..., 298, 293, 282]],\n",
       "   \n",
       "          [[  2,   4,   4, ...,   8,  10,   8],\n",
       "           [  6,   4,   6, ...,   8,  13,   7],\n",
       "           [  2,   4,   3, ...,  12,   5,   7],\n",
       "           ...,\n",
       "           [244, 249, 237, ..., 296, 296, 272],\n",
       "           [246, 257, 258, ..., 318, 294, 300],\n",
       "           [261, 254, 249, ..., 303, 295, 299]],\n",
       "   \n",
       "          [[  5,   5,   3, ...,   8,  12,   6],\n",
       "           [  5,   1,   6, ...,  11,   7,   9],\n",
       "           [  5,   3,   2, ...,   8,  13,  10],\n",
       "           ...,\n",
       "           [269, 259, 264, ..., 305, 294, 282],\n",
       "           [246, 249, 256, ..., 284, 301, 290],\n",
       "           [250, 259, 257, ..., 306, 279, 302]]], dtype=uint16)],\n",
       "  'sample_rate': 10.0}}"
      ]
     },
     "execution_count": 5,
     "metadata": {},
     "output_type": "execute_result"
    }
   ],
   "source": [
    "# Retrieve the measurement data:\n",
    "measurement = ldaq.get_measurement_dict()\n",
    "measurement"
   ]
  },
  {
   "cell_type": "code",
   "execution_count": null,
   "metadata": {},
   "outputs": [],
   "source": [
    "# Save measurement:\n",
    "ldaq.save_measurement(name=\"save_name\", root=\"\", timestamp=True, comment=\"Your comment\")"
   ]
  }
 ],
 "metadata": {
  "kernelspec": {
   "display_name": "Python 3.9.12 ('base')",
   "language": "python",
   "name": "python3"
  },
  "language_info": {
   "codemirror_mode": {
    "name": "ipython",
    "version": 3
   },
   "file_extension": ".py",
   "mimetype": "text/x-python",
   "name": "python",
   "nbconvert_exporter": "python",
   "pygments_lexer": "ipython3",
   "version": "3.10.11"
  },
  "toc": {
   "base_numbering": 1,
   "nav_menu": {},
   "number_sections": true,
   "sideBar": true,
   "skip_h1_title": false,
   "title_cell": "Table of Contents",
   "title_sidebar": "Contents",
   "toc_cell": false,
   "toc_position": {},
   "toc_section_display": true,
   "toc_window_display": false
  },
  "varInspector": {
   "cols": {
    "lenName": 16,
    "lenType": 16,
    "lenVar": 40
   },
   "kernels_config": {
    "python": {
     "delete_cmd_postfix": "",
     "delete_cmd_prefix": "del ",
     "library": "var_list.py",
     "varRefreshCmd": "print(var_dic_list())"
    },
    "r": {
     "delete_cmd_postfix": ") ",
     "delete_cmd_prefix": "rm(",
     "library": "var_list.r",
     "varRefreshCmd": "cat(var_dic_list()) "
    }
   },
   "types_to_exclude": [
    "module",
    "function",
    "builtin_function_or_method",
    "instance",
    "_Feature"
   ],
   "window_display": false
  },
  "vscode": {
   "interpreter": {
    "hash": "4a14d6850f8b7ae03939e3e8d0a94af880f09a63e1f8d48b5eb202e35ffc6de5"
   }
  }
 },
 "nbformat": 4,
 "nbformat_minor": 4
}
