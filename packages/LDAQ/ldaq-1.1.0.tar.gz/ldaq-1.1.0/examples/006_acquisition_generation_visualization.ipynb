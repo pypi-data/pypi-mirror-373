{
 "cells": [
  {
   "cell_type": "markdown",
   "metadata": {},
   "source": [
    "# NI Acquisition, generation and visualization"
   ]
  },
  {
   "cell_type": "code",
   "execution_count": 1,
   "metadata": {},
   "outputs": [],
   "source": [
    "import os\n",
    "import sys\n",
    "sys.path.insert(0, os.path.realpath('../'))"
   ]
  },
  {
   "cell_type": "code",
   "execution_count": 2,
   "metadata": {},
   "outputs": [],
   "source": [
    "import LDAQ\n",
    "import numpy as np"
   ]
  },
  {
   "cell_type": "code",
   "execution_count": 3,
   "metadata": {},
   "outputs": [],
   "source": [
    "# Create input and output tasks:\n",
    "\n",
    "# NI 9234\n",
    "task_in = LDAQ.national_instruments.NITask(\"TestInputTask_2\", sample_rate=25600)\n",
    "task_in.add_channel(channel_name=\"V0\", device_ind=2, channel_ind=0, sensitivity=None, sensitivity_units=None, units=\"V\", scale=1., min_val=-4, max_val=4.0)\n",
    "task_in.add_channel(channel_name=\"V1\", device_ind=2, channel_ind=1, sensitivity=None, sensitivity_units=None, units=\"V\", scale=1., min_val=-4, max_val=4.0)\n",
    "\n",
    "# NI 9260\n",
    "task_out = LDAQ.national_instruments.NITaskOutput(\"TestOutputTask_2\", sample_rate=25600)\n",
    "task_out.add_channel(channel_name=\"V0_out\", device_ind=1, channel_ind=0, min_val=-4, max_val=4)\n",
    "task_out.add_channel(channel_name=\"V2_out\", device_ind=1, channel_ind=1, min_val=-4, max_val=4)"
   ]
  },
  {
   "cell_type": "code",
   "execution_count": 4,
   "metadata": {},
   "outputs": [
    {
     "data": {
      "text/plain": [
       "Task name: TestInputTask_2\n",
       "Connected devices:\n",
       "\t(0) - cDAQ4\n",
       "\t(1) - cDAQ4Mod1\n",
       "\t(2) - cDAQ4Mod2\n",
       "\t(3) - VirtualDevice\n",
       "\t(4) - VirtualDevice2\n",
       "Channels: ['V0', 'V1']"
      ]
     },
     "execution_count": 4,
     "metadata": {},
     "output_type": "execute_result"
    }
   ],
   "source": [
    "task_in"
   ]
  },
  {
   "cell_type": "code",
   "execution_count": 5,
   "metadata": {},
   "outputs": [],
   "source": [
    "#create signal:\n",
    "fs = 25600 # output sample rate\n",
    "mp = 10\n",
    "\n",
    "t = np.arange(fs * mp) / fs  \n",
    "signal1 = np.sin(2*np.pi*800*t) \n",
    "signal2 = np.sin(2*np.pi*450*t) \n",
    "\n",
    "excitation_signal = np.array([signal1, signal2]).T # exitation signal that generation class will use"
   ]
  },
  {
   "cell_type": "code",
   "execution_count": 6,
   "metadata": {},
   "outputs": [],
   "source": [
    "# create instances:\n",
    "gen = LDAQ.national_instruments.NIGeneration(task_out, excitation_signal)\n",
    "gen.add_delay(2.0) # generation will start 2 seconds after run() is called on the Core instance\n",
    "\n",
    "acq = LDAQ.national_instruments.NIAcquisition(task_in, acquisition_name=\"NI\")\n",
    "vis = LDAQ.Visualization(refresh_rate=100)\n",
    "\n",
    "# configure live visualization:\n",
    "vis.add_lines((0,0), \"NI\", [0]) # Time signal V0\n",
    "vis.add_lines((1,0), \"NI\", [1]) # Time signal V1\n",
    "vis.add_lines((2,0), \"NI\", [0], function=\"fft\", refresh_rate=3000) # Fourier transform of V0\n",
    "vis.add_lines((3,0), \"NI\", [1], function=\"fft\", refresh_rate=3000) # Fourier transform of V1\n",
    "\n",
    "vis.config_subplot((0, 0), t_span=0.05, ylim=(-10, 10))\n",
    "vis.config_subplot((1, 0), t_span=0.05, ylim=(-10, 10))\n",
    "vis.config_subplot((2, 0), t_span=5.0, ylim=(0, 1.2), xlim=(200, 1000))\n",
    "vis.config_subplot((3, 0), t_span=5.0, ylim=(0, 1.2), xlim=(200, 1000))\n",
    "\n",
    "# create core object and add acquisition sources:\n",
    "ldaq = LDAQ.Core(acquisitions=[acq], generations=[gen], visualization=vis)\n",
    "\n",
    "# run acquisition:\n",
    "ldaq.run(10.)"
   ]
  },
  {
   "cell_type": "code",
   "execution_count": 7,
   "metadata": {},
   "outputs": [
    {
     "data": {
      "text/plain": [
       "{'time': array([56.40003906, 56.40007813, 56.40011719, ..., 59.99988281,\n",
       "        59.99992187, 59.99996094]),\n",
       " 'channel_names': ['V0', 'V1'],\n",
       " 'data': array([[-5.03444934e-01, -9.94202753e-01],\n",
       "        [-6.62328816e-01, -9.77152079e-01],\n",
       "        [-7.95702724e-01, -9.48246068e-01],\n",
       "        ...,\n",
       "        [ 3.82937440e-01, -9.13326268e-01],\n",
       "        [ 1.95559480e-01, -9.52440940e-01],\n",
       "        [ 6.84911256e-04, -9.80014218e-01]]),\n",
       " 'sample_rate': 25600}"
      ]
     },
     "execution_count": 7,
     "metadata": {},
     "output_type": "execute_result"
    }
   ],
   "source": [
    "# Retrieve the measurement data:\n",
    "measurement = ldaq.get_measurement_dict()\n",
    "measurement[\"NI\"]"
   ]
  }
 ],
 "metadata": {
  "kernelspec": {
   "display_name": "Python 3.9.12 ('base')",
   "language": "python",
   "name": "python3"
  },
  "language_info": {
   "codemirror_mode": {
    "name": "ipython",
    "version": 3
   },
   "file_extension": ".py",
   "mimetype": "text/x-python",
   "name": "python",
   "nbconvert_exporter": "python",
   "pygments_lexer": "ipython3",
   "version": "3.10.0"
  },
  "toc": {
   "base_numbering": 1,
   "nav_menu": {},
   "number_sections": true,
   "sideBar": true,
   "skip_h1_title": false,
   "title_cell": "Table of Contents",
   "title_sidebar": "Contents",
   "toc_cell": false,
   "toc_position": {},
   "toc_section_display": true,
   "toc_window_display": false
  },
  "varInspector": {
   "cols": {
    "lenName": 16,
    "lenType": 16,
    "lenVar": 40
   },
   "kernels_config": {
    "python": {
     "delete_cmd_postfix": "",
     "delete_cmd_prefix": "del ",
     "library": "var_list.py",
     "varRefreshCmd": "print(var_dic_list())"
    },
    "r": {
     "delete_cmd_postfix": ") ",
     "delete_cmd_prefix": "rm(",
     "library": "var_list.r",
     "varRefreshCmd": "cat(var_dic_list()) "
    }
   },
   "types_to_exclude": [
    "module",
    "function",
    "builtin_function_or_method",
    "instance",
    "_Feature"
   ],
   "window_display": false
  },
  "vscode": {
   "interpreter": {
    "hash": "4a14d6850f8b7ae03939e3e8d0a94af880f09a63e1f8d48b5eb202e35ffc6de5"
   }
  }
 },
 "nbformat": 4,
 "nbformat_minor": 4
}
