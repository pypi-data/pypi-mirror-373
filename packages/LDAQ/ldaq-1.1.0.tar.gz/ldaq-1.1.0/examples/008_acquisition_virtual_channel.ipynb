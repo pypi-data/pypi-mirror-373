{
 "cells": [
  {
   "cell_type": "markdown",
   "metadata": {},
   "source": [
    "# Virtual channel"
   ]
  },
  {
   "cell_type": "code",
   "execution_count": 2,
   "metadata": {},
   "outputs": [],
   "source": [
    "import os\n",
    "import sys\n",
    "import numpy as np\n",
    "sys.path.insert(0, os.path.realpath('../'))"
   ]
  },
  {
   "cell_type": "code",
   "execution_count": 3,
   "metadata": {},
   "outputs": [],
   "source": [
    "import LDAQ"
   ]
  },
  {
   "cell_type": "code",
   "execution_count": 4,
   "metadata": {},
   "outputs": [],
   "source": [
    "# Create 1st serial acquisition source:\n",
    "acq_arduino = LDAQ.serial_communication.SerialAcquisition(port=\"COM3\", baudrate=250000, \n",
    "                                                acquisition_name=\"arduino\",\n",
    "                                                byte_sequence=((\"int16\", 2), ),\n",
    "                                                start_bytes=  b\"\\xfa\\xfb\",\n",
    "                                                end_bytes= b\"\\n\",\n",
    "                                                sample_rate=500,\n",
    "                                                channel_names=[\"channel 1\", \"channel 2\"])\n",
    "\n",
    "# Here the arduino sends out bytes over serial where a line would look like this:\n",
    "# b\"\\xfa\\xfb\\x00\\x01\\x00\\x02\\n\n",
    "\n",
    "# Explanation:\n",
    "# b\"\\xfa\\xfb\" are the start bytes\n",
    "# b\"\\n\" is the end byte\n",
    "# b\"\\x00\\x01\" is the first sample (int16)\n",
    "# b\"\\x00\\x02\" is the second sample (int16)"
   ]
  },
  {
   "cell_type": "code",
   "execution_count": 6,
   "metadata": {},
   "outputs": [],
   "source": [
    "# add virtual channel:\n",
    "def fun_ratio(ch1, ch2):\n",
    "    return ch1 / ch2 # ensure that shape is (N, 1) and not (N, )\n",
    "\n",
    "acq_arduino.add_virtual_channel(virtual_channel_name=\"ratio channel\",\n",
    "                                source_channels=[\"channel 1\", \"channel 2\"],\n",
    "                                function=fun_ratio)\n",
    "\n",
    "# add virtual channel:\n",
    "current_sum = 0\n",
    "def fun_cumulative_sum(ch2):\n",
    "    global current_sum\n",
    "    local_sum = np.cumsum(ch2) + current_sum\n",
    "    local_sum = local_sum.reshape(-1, 1)\n",
    "    \n",
    "    if local_sum.shape[0] > 0:\n",
    "        current_sum = local_sum[-1]\n",
    "        return  local_sum # ensure that shape is (N, 1) and not (N, )\n",
    "    else:\n",
    "        return np.empty((0, 1))\n",
    "\n",
    "acq_arduino.add_virtual_channel(virtual_channel_name=\"cumsum channel\",\n",
    "                                source_channels=[\"channel 2\"],\n",
    "                                function=fun_cumulative_sum)"
   ]
  },
  {
   "cell_type": "code",
   "execution_count": 7,
   "metadata": {},
   "outputs": [],
   "source": [
    "# Create visualization:\n",
    "vis = LDAQ.Visualization(refresh_rate=30)\n",
    "vis.add_lines((0, 0), \"arduino\", [\"channel 1\"]) # channel 1\n",
    "vis.add_lines((0, 1), \"arduino\", [\"channel 2\"]) # channel 2\n",
    "vis.add_lines((1, 0), \"arduino\", [\"ratio channel\"]) # virtual channel\n",
    "vis.add_lines((2, 0), \"arduino\", [\"cumsum channel\"]) # virtual channel\n",
    "\n",
    "vis.config_subplot((0, 0), t_span=0.5)\n",
    "vis.config_subplot((0, 1), t_span=0.5)\n",
    "vis.config_subplot((1, 0), t_span=5.0, colspan=2)\n",
    "vis.config_subplot((2, 0), t_span=5.0, colspan=2)"
   ]
  },
  {
   "cell_type": "code",
   "execution_count": 8,
   "metadata": {},
   "outputs": [],
   "source": [
    "# create core object and add acquisition sources:\n",
    "ldaq = LDAQ.Core(acquisitions=[acq_arduino], visualization=vis)\n",
    "# set trigger:\n",
    "ldaq.set_trigger(\n",
    "    source  = \"arduino\",\n",
    "    channel = \"channel 2\",\n",
    "    level   = 100,\n",
    "    duration= 60.) # if check event not triggered, measurement will run for 60 seconds\n",
    "\n",
    "# run acquisition:\n",
    "ldaq.run()"
   ]
  },
  {
   "cell_type": "code",
   "execution_count": 9,
   "metadata": {},
   "outputs": [
    {
     "data": {
      "text/plain": [
       "{'arduino': {'time': array([0.0000e+00, 2.0000e-03, 4.0000e-03, ..., 1.1756e+01, 1.1758e+01,\n",
       "         1.1760e+01]),\n",
       "  'channel_names': ['channel 1',\n",
       "   'channel 2',\n",
       "   'ratio channel',\n",
       "   'cumsum channel'],\n",
       "  'data': array([[ 5.12000000e+02,  5.76000000e+02,  8.88888889e-01,\n",
       "           5.78709459e+02],\n",
       "         [ 5.12000000e+02,  6.39000000e+02,  8.01251956e-01,\n",
       "           1.21770946e+03],\n",
       "         [ 5.12000000e+02,  7.00000000e+02,  7.31428571e-01,\n",
       "           1.91770946e+03],\n",
       "         ...,\n",
       "         [-5.12000000e+02,  2.65000000e+02, -1.93207547e+00,\n",
       "           3.01461971e+06],\n",
       "         [-5.12000000e+02,  2.11000000e+02, -2.42654028e+00,\n",
       "           3.01483071e+06],\n",
       "         [-5.12000000e+02,  1.61000000e+02, -3.18012422e+00,\n",
       "           3.01499171e+06]]),\n",
       "  'sample_rate': 500}}"
      ]
     },
     "execution_count": 9,
     "metadata": {},
     "output_type": "execute_result"
    }
   ],
   "source": [
    "# Retrieve the measurement data:\n",
    "measurement = ldaq.get_measurement_dict()\n",
    "measurement"
   ]
  },
  {
   "cell_type": "code",
   "execution_count": null,
   "metadata": {},
   "outputs": [],
   "source": []
  }
 ],
 "metadata": {
  "kernelspec": {
   "display_name": "Python 3.9.12 ('base')",
   "language": "python",
   "name": "python3"
  },
  "language_info": {
   "codemirror_mode": {
    "name": "ipython",
    "version": 3
   },
   "file_extension": ".py",
   "mimetype": "text/x-python",
   "name": "python",
   "nbconvert_exporter": "python",
   "pygments_lexer": "ipython3",
   "version": "3.10.11"
  },
  "toc": {
   "base_numbering": 1,
   "nav_menu": {},
   "number_sections": true,
   "sideBar": true,
   "skip_h1_title": false,
   "title_cell": "Table of Contents",
   "title_sidebar": "Contents",
   "toc_cell": false,
   "toc_position": {},
   "toc_section_display": true,
   "toc_window_display": false
  },
  "varInspector": {
   "cols": {
    "lenName": 16,
    "lenType": 16,
    "lenVar": 40
   },
   "kernels_config": {
    "python": {
     "delete_cmd_postfix": "",
     "delete_cmd_prefix": "del ",
     "library": "var_list.py",
     "varRefreshCmd": "print(var_dic_list())"
    },
    "r": {
     "delete_cmd_postfix": ") ",
     "delete_cmd_prefix": "rm(",
     "library": "var_list.r",
     "varRefreshCmd": "cat(var_dic_list()) "
    }
   },
   "types_to_exclude": [
    "module",
    "function",
    "builtin_function_or_method",
    "instance",
    "_Feature"
   ],
   "window_display": false
  },
  "vscode": {
   "interpreter": {
    "hash": "4a14d6850f8b7ae03939e3e8d0a94af880f09a63e1f8d48b5eb202e35ffc6de5"
   }
  }
 },
 "nbformat": 4,
 "nbformat_minor": 4
}
