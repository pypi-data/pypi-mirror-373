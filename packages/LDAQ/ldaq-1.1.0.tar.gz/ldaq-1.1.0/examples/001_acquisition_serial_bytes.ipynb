{
 "cells": [
  {
   "cell_type": "markdown",
   "metadata": {},
   "source": [
    "# Serial Acquisition"
   ]
  },
  {
   "cell_type": "code",
   "execution_count": 1,
   "metadata": {},
   "outputs": [],
   "source": [
    "import os\n",
    "import sys\n",
    "sys.path.insert(0, os.path.realpath('../'))"
   ]
  },
  {
   "cell_type": "code",
   "execution_count": 2,
   "metadata": {},
   "outputs": [],
   "source": [
    "import LDAQ"
   ]
  },
  {
   "cell_type": "code",
   "execution_count": 3,
   "metadata": {},
   "outputs": [],
   "source": [
    "# Create serial acquisition source:\n",
    "acq_serial = LDAQ.serial_communication.SerialAcquisition(port=\"COM3\", baudrate=250000, \n",
    "                                                acquisition_name=\"arduino\",\n",
    "                                                byte_sequence=((\"int16\", 2), ),\n",
    "                                                start_bytes=  b\"\\xfa\\xfb\",\n",
    "                                                end_bytes= b\"\\n\",\n",
    "                                                sample_rate=500,\n",
    "                                                channel_names=[\"channel 1\", \"channel 2\"])\n",
    "\n",
    "# Here the arduino sends out bytes over serial where a line would look like this:\n",
    "# b\"\\xfa\\xfb\\x00\\x01\\x00\\x02\\n\n",
    "# Explanation:\n",
    "# b\"\\xfa\\xfb\" are the start bytes\n",
    "# b\"\\n\" is the end byte\n",
    "# b\"\\x00\\x01\" is the first  sample (int16)\n",
    "# b\"\\x00\\x02\" is the second sample (int16)"
   ]
  },
  {
   "cell_type": "code",
   "execution_count": 4,
   "metadata": {},
   "outputs": [
    {
     "data": {
      "text/plain": [
       "{'time': array([0.000e+00, 2.000e-03, 4.000e-03, ..., 4.994e+00, 4.996e+00,\n",
       "        4.998e+00]),\n",
       " 'channel_names': ['channel 1', 'channel 2'],\n",
       " 'data': array([[512., 906.],\n",
       "        [512., 944.],\n",
       "        [512., 975.],\n",
       "        ...,\n",
       "        [512., 758.],\n",
       "        [512., 812.],\n",
       "        [512., 862.]]),\n",
       " 'sample_rate': 500}"
      ]
     },
     "execution_count": 4,
     "metadata": {},
     "output_type": "execute_result"
    }
   ],
   "source": [
    "# Each acquisition source can also be run by itself:\n",
    "acq_serial.run_acquisition(5.0)   # run for 2 seconds\n",
    "acq_serial.get_measurement_dict() # get the measurement dictionary"
   ]
  },
  {
   "cell_type": "code",
   "execution_count": 5,
   "metadata": {},
   "outputs": [
    {
     "name": "stdout",
     "output_type": "stream",
     "text": [
      "+--------+-------------------------------------------------+\n",
      "| HOTKEY |                   DESCRIPTION                   |\n",
      "+--------+-------------------------------------------------+\n",
      "|   s    | Start the measurement manually (ignore trigger) |\n",
      "+--------+-------------------------------------------------+\n",
      "|   q    |              Stop the measurement               |\n",
      "+--------+-------------------------------------------------+\n",
      "\n",
      "Waiting for trigger...\n",
      "triggered.\n",
      "\tRecording...Measurement finished.\n"
     ]
    },
    {
     "name": "stderr",
     "output_type": "stream",
     "text": [
      "sys:1: ResourceWarning: Unclosed socket <zmq.Socket(zmq.PUSH) at 0x19d60157ee0>\n",
      "ResourceWarning: Enable tracemalloc to get the object allocation traceback\n"
     ]
    }
   ],
   "source": [
    "# create core object and add acquisition source:\n",
    "ldaq = LDAQ.Core(acquisitions=[acq_serial])\n",
    "# set trigger:\n",
    "ldaq.set_trigger(\n",
    "    source=\"arduino\",\n",
    "    channel=\"channel 2\",\n",
    "    level=100,\n",
    "    duration=5.0)\n",
    "# run acquisition:\n",
    "ldaq.run()"
   ]
  },
  {
   "cell_type": "code",
   "execution_count": 6,
   "metadata": {},
   "outputs": [
    {
     "data": {
      "text/plain": [
       "{'arduino': {'time': array([0.000e+00, 2.000e-03, 4.000e-03, ..., 4.994e+00, 4.996e+00,\n",
       "         4.998e+00]),\n",
       "  'channel_names': ['channel 1', 'channel 2'],\n",
       "  'data': array([[ 512.,  576.],\n",
       "         [ 512.,  639.],\n",
       "         [ 512.,  700.],\n",
       "         ...,\n",
       "         [-512.,  384.],\n",
       "         [-512.,  447.],\n",
       "         [ 512.,  512.]]),\n",
       "  'sample_rate': 500}}"
      ]
     },
     "execution_count": 6,
     "metadata": {},
     "output_type": "execute_result"
    }
   ],
   "source": [
    "# Retrieve the measurement data:\n",
    "measurement = ldaq.get_measurement_dict()\n",
    "measurement"
   ]
  },
  {
   "attachments": {},
   "cell_type": "markdown",
   "metadata": {},
   "source": [
    "## C code uploaded to the Arduino:\n",
    "\n",
    "```C\n",
    "#include <avr/interrupt.h>\n",
    "#include <stdint.h>\n",
    "#include <math.h>\n",
    "\n",
    "const uint16_t sampleRate = 500; // Set the desired sample rate in Hz\n",
    "\n",
    "// Signal generation parameters:\n",
    "const float frequencySquareWave = 5; // Frequency of the square wave in Hz\n",
    "const float frequencySinWave = 10;   // Frequency of the sinusoidal wave in Hz\n",
    "const float amplitudeSinWave = 512;  // Amplitude of the sinusoidal wave\n",
    "const float offsetSinWave = 512;     // Offset for the sinusoidal wave\n",
    "\n",
    "// variables:\n",
    "int16_t valSquareWave = 0;\n",
    "int16_t valSinWave = 0;\n",
    "\n",
    "// Other variables setup:\n",
    "uint32_t sampleCounter = 0;\n",
    "\n",
    "void setup() {\n",
    "  Serial.begin(250000); // Begin serial, set baudrate\n",
    "  setupTimerInterrupt();\n",
    "}\n",
    "\n",
    "void loop() {\n",
    "  // Do nothing in the main loop, everything is done by the interrupt\n",
    "}\n",
    "\n",
    "void setupTimerInterrupt() {\n",
    "  // Configure Timer1 for the desired sample rate\n",
    "  cli(); // Disable interrupts\n",
    "  TCCR1A = 0; // Clear control registers\n",
    "  TCCR1B = 0;\n",
    "  TCNT1 = 0; // Initialize counter value to 0\n",
    "  uint32_t ocrValue = (F_CPU / 8 / sampleRate) - 1; // Calculate OCR1A value\n",
    "  OCR1A = ocrValue; // Set compare match register for the desired sample rate\n",
    "  TCCR1B |= (1 << WGM12); // Set CTC mode\n",
    "  TCCR1B |= (1 << CS11); // Set 8 prescaler\n",
    "  TIMSK1 |= (1 << OCIE1A); // Enable timer compare interrupt\n",
    "  sei(); // Enable interrupts\n",
    "}\n",
    "\n",
    "ISR(TIMER1_COMPA_vect) {\n",
    "  // Timer interrupt routine\n",
    "  float elapsedTime = (float)sampleCounter / sampleRate;\n",
    "  sampleCounter++;\n",
    "\n",
    "  // Generate square wave\n",
    "  valSquareWave = (int16_t)(512 * (sin(2 * PI * frequencySquareWave * elapsedTime) >= 0 ? 1 : -1));\n",
    "  // Generate sinusoidal wave\n",
    "  valSinWave = (int16_t)(amplitudeSinWave * sin(2 * PI * frequencySinWave * elapsedTime) + offsetSinWave);\n",
    "\n",
    "  Serial.write(0xfa); // starting byte 1\n",
    "  Serial.write(0xfb); // starting byte 2\n",
    "  send2Bytes(valSquareWave);\n",
    "  send2Bytes(valSinWave);\n",
    "  Serial.write('\\n'); // ending byte\n",
    "}\n",
    "\n",
    "// Functions for sending data over serial:\n",
    "void send4Bytes(uint32_t data) {\n",
    "  Serial.write(data & 0xFF);\n",
    "  Serial.write((data >> 8) & 0xFF);\n",
    "  Serial.write((data >> 16) & 0xFF);\n",
    "  Serial.write((data >> 24) & 0xFF);\n",
    "}\n",
    "void send2Bytes(int16_t data) {\n",
    "  Serial.write(data & 0xFF);\n",
    "  Serial.write((data >> 8) & 0xFF);\n",
    "}\n",
    "void send1Byte(int8_t data) {\n",
    "  Serial.write(data & 0xFF);\n",
    "}\n",
    "```"
   ]
  },
  {
   "attachments": {},
   "cell_type": "markdown",
   "metadata": {},
   "source": []
  }
 ],
 "metadata": {
  "kernelspec": {
   "display_name": "Python 3.9.12 ('base')",
   "language": "python",
   "name": "python3"
  },
  "language_info": {
   "codemirror_mode": {
    "name": "ipython",
    "version": 3
   },
   "file_extension": ".py",
   "mimetype": "text/x-python",
   "name": "python",
   "nbconvert_exporter": "python",
   "pygments_lexer": "ipython3",
   "version": "3.10.11"
  },
  "toc": {
   "base_numbering": 1,
   "nav_menu": {},
   "number_sections": true,
   "sideBar": true,
   "skip_h1_title": false,
   "title_cell": "Table of Contents",
   "title_sidebar": "Contents",
   "toc_cell": false,
   "toc_position": {},
   "toc_section_display": true,
   "toc_window_display": false
  },
  "varInspector": {
   "cols": {
    "lenName": 16,
    "lenType": 16,
    "lenVar": 40
   },
   "kernels_config": {
    "python": {
     "delete_cmd_postfix": "",
     "delete_cmd_prefix": "del ",
     "library": "var_list.py",
     "varRefreshCmd": "print(var_dic_list())"
    },
    "r": {
     "delete_cmd_postfix": ") ",
     "delete_cmd_prefix": "rm(",
     "library": "var_list.r",
     "varRefreshCmd": "cat(var_dic_list()) "
    }
   },
   "types_to_exclude": [
    "module",
    "function",
    "builtin_function_or_method",
    "instance",
    "_Feature"
   ],
   "window_display": false
  },
  "vscode": {
   "interpreter": {
    "hash": "4a14d6850f8b7ae03939e3e8d0a94af880f09a63e1f8d48b5eb202e35ffc6de5"
   }
  }
 },
 "nbformat": 4,
 "nbformat_minor": 4
}
