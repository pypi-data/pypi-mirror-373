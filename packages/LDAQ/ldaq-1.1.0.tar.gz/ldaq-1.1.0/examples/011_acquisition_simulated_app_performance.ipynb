{
 "cells": [
  {
   "cell_type": "markdown",
   "metadata": {},
   "source": [
    "# App performance"
   ]
  },
  {
   "cell_type": "code",
   "execution_count": 1,
   "metadata": {},
   "outputs": [],
   "source": [
    "import os\n",
    "import sys\n",
    "import numpy as np\n",
    "import psutil\n",
    "sys.path.insert(0, os.path.realpath('../'))\n",
    "\n",
    "import LDAQ"
   ]
  },
  {
   "cell_type": "code",
   "execution_count": 2,
   "metadata": {},
   "outputs": [],
   "source": [
    "# ------------------------------------------\n",
    "# Create simulated data acquisition sources:\n",
    "# ------------------------------------------\n",
    "acq_simulated_data = LDAQ.simulator.SimulatedAcquisition(acquisition_name='PerformanceTracker')"
   ]
  },
  {
   "cell_type": "code",
   "execution_count": 3,
   "metadata": {},
   "outputs": [],
   "source": [
    "# define simulated data using a function:\n",
    "def retrieve_memory_and_cpu(t):\n",
    "    \"\"\"\n",
    "    first argument must be time.\n",
    "    If multi_processing is True, then the function must be pickable and \n",
    "    all libraries must be imported inside the function.\n",
    "    \"\"\"\n",
    "    if t.shape[0] > 0:\n",
    "        pid = psutil.Process(os.getpid())\n",
    "        memory_usage = pid.memory_info().rss / 1024**2 # B\n",
    "        cpu_usage    = pid.cpu_percent(interval=0.1)\n",
    "                \n",
    "        #memory_usage = 1\n",
    "        data = np.array([memory_usage, cpu_usage] * t.shape[0] ).reshape((-1, 2))\n",
    "    else:\n",
    "        data = np.empty((0, 2))\n",
    "    return data"
   ]
  },
  {
   "cell_type": "code",
   "execution_count": 4,
   "metadata": {},
   "outputs": [],
   "source": [
    "# set simulated data (first argument is the function or array):\n",
    "acq_simulated_data.set_simulated_data(retrieve_memory_and_cpu, channel_names=[\"memory\", \"CPU\"], sample_rate=1., args=())"
   ]
  },
  {
   "cell_type": "code",
   "execution_count": 5,
   "metadata": {},
   "outputs": [],
   "source": [
    "# ------------------------------------------\n",
    "# create simulated video acquisition source:\n",
    "# ------------------------------------------\n",
    "acq_simulated_video = LDAQ.simulator.SimulatedAcquisition(acquisition_name='sim_video')"
   ]
  },
  {
   "cell_type": "code",
   "execution_count": 6,
   "metadata": {},
   "outputs": [],
   "source": [
    "# define simulated video using numpy array:\n",
    "fs = 30\n",
    "simulated_video = np.random.randn(1000, 100, 100)"
   ]
  },
  {
   "cell_type": "code",
   "execution_count": 7,
   "metadata": {},
   "outputs": [],
   "source": [
    "acq_simulated_video.set_simulated_video(simulated_video, channel_name_video='cam', sample_rate=fs) # use array"
   ]
  },
  {
   "cell_type": "code",
   "execution_count": 8,
   "metadata": {},
   "outputs": [],
   "source": [
    "# ----------------------------\n",
    "# Create visulaization object:\n",
    "# ----------------------------\n",
    "\n",
    "vis = LDAQ.Visualization(sequential_plot_updates=False)\n",
    "vis.add_lines((0,0), source='PerformanceTracker', channels=[\"memory\"], refresh_rate=1000, nth=1)\n",
    "vis.add_lines((1,0), source='PerformanceTracker', channels=[\"CPU\"],    refresh_rate=1000, nth=1)\n",
    "vis.add_image(source=\"sim_video\", channel=\"cam\", refresh_rate=30)\n",
    "\n",
    "vis.config_subplot((0,0), t_span=1000)\n",
    "vis.config_subplot((1,0), t_span=1000)"
   ]
  },
  {
   "cell_type": "code",
   "execution_count": 9,
   "metadata": {},
   "outputs": [],
   "source": [
    "ldaq = LDAQ.Core(acquisitions=[acq_simulated_data, acq_simulated_video], visualization=vis)\n",
    "#ldaq = LDAQ.Core(acquisitions=[acq_simulated_video], visualization=vis)\n",
    "#ldaq = LDAQ.Core(acquisitions=[acq_simulated_data], visualization=vis)\n",
    "ldaq.run(3.)"
   ]
  },
  {
   "cell_type": "code",
   "execution_count": null,
   "metadata": {},
   "outputs": [],
   "source": [
    "memory_usage = psutil.Process(os.getpid()).memory_info().rss / 1024**2 # B"
   ]
  },
  {
   "cell_type": "code",
   "execution_count": null,
   "metadata": {},
   "outputs": [],
   "source": [
    "ldaq.get_measurement_dict()"
   ]
  }
 ],
 "metadata": {
  "kernelspec": {
   "display_name": "Python 3.9.12 ('base')",
   "language": "python",
   "name": "python3"
  },
  "language_info": {
   "codemirror_mode": {
    "name": "ipython",
    "version": 3
   },
   "file_extension": ".py",
   "mimetype": "text/x-python",
   "name": "python",
   "nbconvert_exporter": "python",
   "pygments_lexer": "ipython3",
   "version": "3.10.0"
  },
  "toc": {
   "base_numbering": 1,
   "nav_menu": {},
   "number_sections": true,
   "sideBar": true,
   "skip_h1_title": false,
   "title_cell": "Table of Contents",
   "title_sidebar": "Contents",
   "toc_cell": false,
   "toc_position": {},
   "toc_section_display": true,
   "toc_window_display": false
  },
  "varInspector": {
   "cols": {
    "lenName": 16,
    "lenType": 16,
    "lenVar": 40
   },
   "kernels_config": {
    "python": {
     "delete_cmd_postfix": "",
     "delete_cmd_prefix": "del ",
     "library": "var_list.py",
     "varRefreshCmd": "print(var_dic_list())"
    },
    "r": {
     "delete_cmd_postfix": ") ",
     "delete_cmd_prefix": "rm(",
     "library": "var_list.r",
     "varRefreshCmd": "cat(var_dic_list()) "
    }
   },
   "types_to_exclude": [
    "module",
    "function",
    "builtin_function_or_method",
    "instance",
    "_Feature"
   ],
   "window_display": false
  },
  "vscode": {
   "interpreter": {
    "hash": "4a14d6850f8b7ae03939e3e8d0a94af880f09a63e1f8d48b5eb202e35ffc6de5"
   }
  }
 },
 "nbformat": 4,
 "nbformat_minor": 4
}
