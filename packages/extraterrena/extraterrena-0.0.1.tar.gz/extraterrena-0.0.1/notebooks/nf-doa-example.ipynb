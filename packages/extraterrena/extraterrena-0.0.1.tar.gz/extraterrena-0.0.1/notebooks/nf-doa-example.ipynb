{
 "cells": [
  {
   "cell_type": "code",
   "execution_count": 7,
   "id": "674d021a-b71e-4417-8e42-a426bd4453c5",
   "metadata": {},
   "outputs": [
    {
     "data": {
      "text/html": [
       "<div><style>\n",
       ".dataframe > thead > tr,\n",
       ".dataframe > tbody > tr {\n",
       "  text-align: right;\n",
       "  white-space: pre-wrap;\n",
       "}\n",
       "</style>\n",
       "<small>shape: (20, 4)</small><table border=\"1\" class=\"dataframe\"><thead><tr><th>r</th><th>theta</th><th>phi</th><th>Q</th></tr><tr><td>f64</td><td>f64</td><td>f64</td><td>f64</td></tr></thead><tbody><tr><td>2500.0</td><td>88.0</td><td>0.0</td><td>0.0</td></tr><tr><td>20.0</td><td>75.0</td><td>0.0</td><td>-0.073947</td></tr><tr><td>3000.0</td><td>5.0</td><td>0.0</td><td>-0.09783</td></tr><tr><td>2499.0</td><td>88.0</td><td>0.0</td><td>-0.166427</td></tr><tr><td>4000.0</td><td>40.0</td><td>0.0</td><td>-0.337478</td></tr><tr><td>&hellip;</td><td>&hellip;</td><td>&hellip;</td><td>&hellip;</td></tr><tr><td>2494.0</td><td>88.0</td><td>0.0</td><td>-5.157085</td></tr><tr><td>2506.0</td><td>88.0</td><td>0.0</td><td>-5.560853</td></tr><tr><td>2493.0</td><td>88.0</td><td>0.0</td><td>-6.167949</td></tr><tr><td>2507.0</td><td>88.0</td><td>0.0</td><td>-6.532202</td></tr><tr><td>2492.0</td><td>88.0</td><td>0.0</td><td>-7.105643</td></tr></tbody></table></div>"
      ],
      "text/plain": [
       "shape: (20, 4)\n",
       "┌────────┬───────┬─────┬───────────┐\n",
       "│ r      ┆ theta ┆ phi ┆ Q         │\n",
       "│ ---    ┆ ---   ┆ --- ┆ ---       │\n",
       "│ f64    ┆ f64   ┆ f64 ┆ f64       │\n",
       "╞════════╪═══════╪═════╪═══════════╡\n",
       "│ 2500.0 ┆ 88.0  ┆ 0.0 ┆ 0.0       │\n",
       "│ 20.0   ┆ 75.0  ┆ 0.0 ┆ -0.073947 │\n",
       "│ 3000.0 ┆ 5.0   ┆ 0.0 ┆ -0.09783  │\n",
       "│ 2499.0 ┆ 88.0  ┆ 0.0 ┆ -0.166427 │\n",
       "│ 4000.0 ┆ 40.0  ┆ 0.0 ┆ -0.337478 │\n",
       "│ …      ┆ …     ┆ …   ┆ …         │\n",
       "│ 2494.0 ┆ 88.0  ┆ 0.0 ┆ -5.157085 │\n",
       "│ 2506.0 ┆ 88.0  ┆ 0.0 ┆ -5.560853 │\n",
       "│ 2493.0 ┆ 88.0  ┆ 0.0 ┆ -6.167949 │\n",
       "│ 2507.0 ┆ 88.0  ┆ 0.0 ┆ -6.532202 │\n",
       "│ 2492.0 ┆ 88.0  ┆ 0.0 ┆ -7.105643 │\n",
       "└────────┴───────┴─────┴───────────┘"
      ]
     },
     "execution_count": 7,
     "metadata": {},
     "output_type": "execute_result"
    }
   ],
   "source": [
    "import numpy as np\n",
    "import matplotlib.pyplot as plt\n",
    "from numpy.linalg import eig,eigh\n",
    "\n",
    "from spatial_filtering import arrays, constants, direction_of_arrival\n",
    "import importlib\n",
    "\n",
    "importlib.reload(arrays)\n",
    "importlib.reload(constants)\n",
    "importlib.reload(direction_of_arrival)\n",
    "\n",
    "\n",
    "# Constants\n",
    "f = 1e9              # Frequency 1 GHz\n",
    "wavelength = constants.c / f\n",
    "\n",
    "# ULA parameters\n",
    "N = 400             # Number of elements\n",
    "d = 10 * wavelength / 2   # Spacing\n",
    "\n",
    "array = arrays.UniformLinearArray(N, d)\n",
    "\n",
    "# Near-field source parameters\n",
    "r_source = [200, 20, 4000, 2500, 3000]        # meters\n",
    "theta_source_deg = [20, 75, 40, 88, 5]\n",
    "theta_source = np.deg2rad(theta_source_deg)\n",
    "\n",
    "r_steps = 5001\n",
    "theta_steps = 91\n",
    "\n",
    "# Signal parameters\n",
    "SNR_dB = 40\n",
    "SNR = 10**(SNR_dB / 10)\n",
    "snapshots = 2000\n",
    "\n",
    "\n",
    "X = np.zeros((N, snapshots), dtype=np.complex128)\n",
    "# Generate signal\n",
    "for (r, theta) in zip(r_source, theta_source):\n",
    "    a = array.nf_steering_vector(r, [0, theta], wavelength).reshape(-1,1)\n",
    "    signal = (np.random.randn(1, snapshots) + 1j * np.random.randn(1, snapshots)) / np.sqrt(2)  # complex Gaussian signal\n",
    "    X += a @ signal\n",
    "noise_power = 1 / SNR\n",
    "noise = np.sqrt(noise_power / 2) * (np.random.randn(N, snapshots) + 1j * np.random.randn(N, snapshots))\n",
    "\n",
    "X += noise\n",
    "\n",
    "# Received signal\n",
    "# Covariance matrix\n",
    "R = X @ X.conj().T / N #np.cov(X)\n",
    "\n",
    "output = direction_of_arrival.MUSICNF2D().get_direction(\n",
    "    array,\n",
    "    R, \n",
    "    num_interferers=len(r_source),\n",
    "    wavelength = wavelength,\n",
    "    r_min=0,\n",
    "    r_max = 5000,\n",
    "    r_steps=r_steps,\n",
    "    theta_min_deg = 0,\n",
    "    theta_max_deg = 90,\n",
    "    theta_steps=theta_steps,\n",
    "    phi_min_deg = 0,\n",
    "    phi_max_deg = 0,\n",
    "    phi_steps=1,\n",
    ")\n",
    "\n",
    "\n",
    "# Plot\n",
    "output.sort(by=\"Q\", descending = True).head(20)"
   ]
  },
  {
   "cell_type": "code",
   "execution_count": 8,
   "id": "32192f7f-a958-4dac-8ee0-cd72bc8525f8",
   "metadata": {},
   "outputs": [
    {
     "data": {
      "text/html": [
       "<iframe\n",
       "    scrolling=\"no\"\n",
       "    width=\"100%\"\n",
       "    height=\"545px\"\n",
       "    src=\"iframe_figures/figure_8.html\"\n",
       "    frameborder=\"0\"\n",
       "    allowfullscreen\n",
       "></iframe>\n"
      ]
     },
     "metadata": {},
     "output_type": "display_data"
    }
   ],
   "source": [
    "\n",
    "import plotly.express as px\n",
    "import polars as pl\n",
    "import plotly.io as pio\n",
    "pio.renderers.default = 'iframe'  # or 'iframe' or 'colab' depending on your environment\n",
    "\n",
    "# Filter top 1% Q values (adjust as needed)\n",
    "threshold = output['Q'].quantile(0.95)\n",
    "high_Q = output.filter(pl.col('Q') >= threshold)\n",
    "\n",
    "# Create 3D scatter plot\n",
    "fig = px.scatter_3d(\n",
    "    high_Q,\n",
    "    x='theta',  # azimuth\n",
    "    y='r',      # range\n",
    "    z='Q',      # MUSIC power\n",
    "    color='Q',\n",
    "    color_continuous_scale='Jet',\n",
    "    opacity=0.8\n",
    ")\n",
    "\n",
    "# Update layout for better visuals\n",
    "fig.update_layout(\n",
    "    title='High-Q MUSIC Spectrum Peaks',\n",
    "    scene=dict(\n",
    "        xaxis_title='Angle (degrees)',\n",
    "        yaxis_title='Range (meters)',\n",
    "        zaxis_title='Q (dB)'\n",
    "    )\n",
    ")\n",
    "\n",
    "fig.show()"
   ]
  },
  {
   "cell_type": "code",
   "execution_count": 9,
   "id": "1f97b580-87b8-4e4f-92a7-7a5658c694f9",
   "metadata": {},
   "outputs": [],
   "source": [
    "output.write_parquet('nf_example_output.parquet')"
   ]
  },
  {
   "cell_type": "code",
   "execution_count": null,
   "id": "1a028563-a881-4bbb-af84-1c49c1811018",
   "metadata": {},
   "outputs": [],
   "source": []
  }
 ],
 "metadata": {
  "kernelspec": {
   "display_name": "Python 3 (ipykernel)",
   "language": "python",
   "name": "python3"
  },
  "language_info": {
   "codemirror_mode": {
    "name": "ipython",
    "version": 3
   },
   "file_extension": ".py",
   "mimetype": "text/x-python",
   "name": "python",
   "nbconvert_exporter": "python",
   "pygments_lexer": "ipython3",
   "version": "3.13.2"
  }
 },
 "nbformat": 4,
 "nbformat_minor": 5
}
