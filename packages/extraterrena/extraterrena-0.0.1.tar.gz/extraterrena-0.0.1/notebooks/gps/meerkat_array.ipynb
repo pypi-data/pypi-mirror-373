{
 "cells": [
  {
   "cell_type": "code",
   "execution_count": 5,
   "id": "4f93b405-63da-434d-a3b2-9ce74792e5ef",
   "metadata": {},
   "outputs": [],
   "source": [
    "import polars as pl\n",
    "from spatial_filtering import arrays, constants, direction_of_arrival\n",
    "import importlib\n",
    "\n",
    "importlib.reload(arrays)\n",
    "importlib.reload(constants)\n",
    "importlib.reload(direction_of_arrival)\n",
    "data = pl.read_excel(\"meerkat positions.xlsx\")\n"
   ]
  },
  {
   "cell_type": "code",
   "execution_count": 6,
   "id": "0211e42a-4f85-44ec-a330-88a3a9969a7c",
   "metadata": {},
   "outputs": [
    {
     "data": {
      "text/html": [
       "<div><style>\n",
       ".dataframe > thead > tr,\n",
       ".dataframe > tbody > tr {\n",
       "  text-align: right;\n",
       "  white-space: pre-wrap;\n",
       "}\n",
       "</style>\n",
       "<small>shape: (5, 4)</small><table border=\"1\" class=\"dataframe\"><thead><tr><th>Antenna</th><th>East</th><th>North</th><th>Up</th></tr><tr><td>str</td><td>f64</td><td>f64</td><td>f64</td></tr></thead><tbody><tr><td>&quot;m000&quot;</td><td>-8.264</td><td>-207.29</td><td>8.597</td></tr><tr><td>&quot;m001&quot;</td><td>1.121</td><td>-171.762</td><td>8.471</td></tr><tr><td>&quot;m002&quot;</td><td>-32.113</td><td>-224.236</td><td>8.645</td></tr><tr><td>&quot;m003&quot;</td><td>-66.518</td><td>-202.276</td><td>8.285</td></tr><tr><td>&quot;m004&quot;</td><td>-123.624</td><td>-252.946</td><td>8.513</td></tr></tbody></table></div>"
      ],
      "text/plain": [
       "shape: (5, 4)\n",
       "┌─────────┬──────────┬──────────┬───────┐\n",
       "│ Antenna ┆ East     ┆ North    ┆ Up    │\n",
       "│ ---     ┆ ---      ┆ ---      ┆ ---   │\n",
       "│ str     ┆ f64      ┆ f64      ┆ f64   │\n",
       "╞═════════╪══════════╪══════════╪═══════╡\n",
       "│ m000    ┆ -8.264   ┆ -207.29  ┆ 8.597 │\n",
       "│ m001    ┆ 1.121    ┆ -171.762 ┆ 8.471 │\n",
       "│ m002    ┆ -32.113  ┆ -224.236 ┆ 8.645 │\n",
       "│ m003    ┆ -66.518  ┆ -202.276 ┆ 8.285 │\n",
       "│ m004    ┆ -123.624 ┆ -252.946 ┆ 8.513 │\n",
       "└─────────┴──────────┴──────────┴───────┘"
      ]
     },
     "execution_count": 6,
     "metadata": {},
     "output_type": "execute_result"
    }
   ],
   "source": [
    "data.head()"
   ]
  },
  {
   "cell_type": "code",
   "execution_count": 7,
   "id": "77886a1f-0833-43fd-9a93-98255264c231",
   "metadata": {},
   "outputs": [],
   "source": [
    "data_np = data[['East', 'North', 'Up']].to_numpy()"
   ]
  },
  {
   "cell_type": "code",
   "execution_count": null,
   "id": "b4b669c7-e400-48a0-84f8-7b5df67d76c9",
   "metadata": {},
   "outputs": [],
   "source": [
    "from spatial_filtering.arrays import Array\n",
    "import numpy as np\n",
    "\n",
    "array = arrays.Array(data_np)\n",
    "N = array.num_antennas\n",
    "f = 1.6e9              # Frequency 1.6 GHz\n",
    "wavelength = constants.c / f\n",
    "\n",
    "r_source = [200, 20, 4000, 2500, 3000]        # meters\n",
    "theta_source_deg = [20, 75, 40, 88, 5]\n",
    "theta_source = np.deg2rad(theta_source_deg)\n",
    "\n",
    "r_steps = 5001\n",
    "theta_steps = 91 * 2 ** 10\n",
    "\n",
    "# Signal parameters\n",
    "SNR_dB = 40\n",
    "SNR = 10**(SNR_dB / 10)\n",
    "snapshots = 2000\n",
    "\n",
    "\n",
    "X = np.zeros((N, snapshots), dtype=np.complex128)\n",
    "# Generate signal\n",
    "for (r, theta) in zip(r_source, theta_source):\n",
    "    a = array.nf_steering_vector(r, [0, theta], wavelength).reshape(-1,1)\n",
    "    signal = (np.random.randn(1, snapshots) + 1j * np.random.randn(1, snapshots)) / np.sqrt(2)  # complex Gaussian signal\n",
    "    X += a @ signal\n",
    "noise_power = 1 / SNR\n",
    "noise = np.sqrt(noise_power / 2) * (np.random.randn(N, snapshots) + 1j * np.random.randn(N, snapshots))\n",
    "\n",
    "X += noise\n",
    "\n",
    "# Received signal\n",
    "# Covariance matrix\n",
    "R = X @ X.conj().T / N \n",
    "\n",
    "output = direction_of_arrival.MUSICNF2D().get_direction(\n",
    "    array,\n",
    "    R, \n",
    "    num_interferers=len(r_source),\n",
    "    wavelength = wavelength,\n",
    "    r_min=0,\n",
    "    r_max = 5000,\n",
    "    r_steps=r_steps,\n",
    "    theta_min_deg = 0,\n",
    "    theta_max_deg = 90,\n",
    "    theta_steps=theta_steps,\n",
    "    phi_min_deg = 0,\n",
    "    phi_max_deg = 0,\n",
    "    phi_steps=1,\n",
    ")"
   ]
  },
  {
   "cell_type": "code",
   "execution_count": null,
   "id": "66917afa-35c9-4946-8833-a01d040eabb2",
   "metadata": {},
   "outputs": [],
   "source": [
    "\n",
    "import plotly.express as px\n",
    "\n",
    "import plotly.io as pio\n",
    "pio.renderers.default = 'iframe'  # or 'iframe' or 'colab' depending on your environment\n",
    "\n",
    "# Filter top 1% Q values (adjust as needed)\n",
    "threshold = output['Q'].quantile(0.999975)\n",
    "high_Q = output.filter(pl.col('Q') >= threshold)\n",
    "\n",
    "# Create 3D scatter plot\n",
    "fig = px.scatter_3d(\n",
    "    high_Q,\n",
    "    x='theta',  # azimuth\n",
    "    y='r',      # range\n",
    "    z='Q',      # MUSIC power\n",
    "    color='Q',\n",
    "    color_continuous_scale='Jet',\n",
    "    opacity=0.8\n",
    ")\n",
    "\n",
    "# Update layout for better visuals\n",
    "fig.update_layout(\n",
    "    title='High-Q MUSIC Spectrum Peaks',\n",
    "    scene=dict(\n",
    "        xaxis_title='Angle (degrees)',\n",
    "        yaxis_title='Range (meters)',\n",
    "        zaxis_title='Q (dB)'\n",
    "    )\n",
    ")\n",
    "\n",
    "fig.show()"
   ]
  },
  {
   "cell_type": "code",
   "execution_count": null,
   "id": "cc19c660-d0c5-450a-a4d1-6b45318f25fb",
   "metadata": {},
   "outputs": [],
   "source": [
    "for r, theta in zip(r_source, theta_source_deg):\n",
    "    print(f\"{r} / {theta} deg\")"
   ]
  },
  {
   "cell_type": "code",
   "execution_count": null,
   "id": "d5659b98-3407-4c8d-9f1d-b857e008601d",
   "metadata": {},
   "outputs": [],
   "source": []
  }
 ],
 "metadata": {
  "kernelspec": {
   "display_name": "Python 3 (ipykernel)",
   "language": "python",
   "name": "python3"
  },
  "language_info": {
   "codemirror_mode": {
    "name": "ipython",
    "version": 3
   },
   "file_extension": ".py",
   "mimetype": "text/x-python",
   "name": "python",
   "nbconvert_exporter": "python",
   "pygments_lexer": "ipython3",
   "version": "3.10.12"
  }
 },
 "nbformat": 4,
 "nbformat_minor": 5
}
