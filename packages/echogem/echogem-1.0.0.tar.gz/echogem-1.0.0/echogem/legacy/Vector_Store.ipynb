{
  "cells": [
    {
      "cell_type": "code",
      "execution_count": null,
      "metadata": {
        "id": "OjoftPv5aLlx"
      },
      "outputs": [],
      "source": [
        "%pip install Pinecone"
      ]
    },
    {
      "cell_type": "code",
      "execution_count": 6,
      "metadata": {
        "id": "YPEJEFmEaBbJ"
      },
      "outputs": [],
      "source": [
        "import pinecone\n",
        "from pinecone import Pinecone\n",
        "\n",
        "import uuid\n",
        "\n",
        "from langchain.embeddings import GoogleGenerativeAIEmbeddings\n",
        "from langchain.schema.embeddings import Embeddings"
      ]
    },
    {
      "cell_type": "code",
      "execution_count": null,
      "metadata": {
        "id": "ytahA8xPkDkP"
      },
      "outputs": [],
      "source": [
        "from pydantic import BaseModel, Field"
      ]
    },
    {
      "cell_type": "code",
      "execution_count": null,
      "metadata": {
        "id": "cKxuxa_Bj8q4"
      },
      "outputs": [],
      "source": [
        "class Chunk(BaseModel):\n",
        "    title: str\n",
        "    content: str\n",
        "    keywords: list[str]\n",
        "    named_entities: list[str]\n",
        "    timestamp_range: str\n",
        "\n",
        "class ChunkResponse(BaseModel):\n",
        "    chunks: list[Chunk]"
      ]
    },
    {
      "cell_type": "code",
      "execution_count": null,
      "metadata": {
        "id": "99Orwxna55N4"
      },
      "outputs": [],
      "source": [
        "class ChunkVectorDB:\n",
        "  def __init__(self,\n",
        "               embedding_model : Embeddings,\n",
        "               api_key : str = \"pcsk_8eiAt_DKBYBA3H1mQg3RsGd8qRwcmh7AdGxfet3XxeE3poUVKHEt8Zpbms3q3wgXeD7Ct\",\n",
        "               index_name : str = \"dense-index\"):\n",
        "\n",
        "    # initialize pinecone\n",
        "    self.pc = Pinecone(api_key= api_key)\n",
        "    self.index_name = index_name\n",
        "    self.embedding_model = embedding_model\n",
        "\n",
        "    # create pinecone index\n",
        "    if not self.pc.has_index(self.index_name):\n",
        "        self.pc.create_index_for_model(\n",
        "            name=self.index_name,\n",
        "            cloud=\"aws\",\n",
        "            region=\"us-east-1\",\n",
        "            embed={\n",
        "                \"model\":\"llama-text-embed-v2\",\n",
        "                \"field_map\":{\"text\": \"chunk_text\"}\n",
        "            }\n",
        "        )\n",
        "\n",
        "    self.index = self.pc.Index(self.index_name)\n",
        "\n",
        "  def vectorize_chunks(self, chunks: list[Chunk]):\n",
        "    texts = [chunk.content for chunk in chunks]\n",
        "    embeddings = self.embedding_model.embed_documents(texts)\n",
        "\n",
        "    vectors = []\n",
        "    for chunk, vector in zip(chunks, embeddings):\n",
        "      chunk_id = str(uuid.uuid4())\n",
        "      vectors.append({\n",
        "          \"id\": chunk_id,\n",
        "          \"values\": vector,\n",
        "          \"metadata\": {\n",
        "              \"title\": chunk.title,\n",
        "              \"keywords\": chunk.keywords,\n",
        "              \"named_entities\": chunk.named_entities,\n",
        "              \"timestamp_range\": chunk.timestamp_range\n",
        "          }\n",
        "      })\n",
        "\n",
        "    self.index.upsert(\"chunks\", vectors)\n",
        "\n",
        "  def read_vectors(self):\n",
        "    all_ids = []\n",
        "\n",
        "    for page in self.index.list_vectors():\n",
        "        ids = [v.id for v in page.vectors]\n",
        "        all_ids.extend(ids)\n",
        "\n",
        "    print(f\"Total IDs: {len(all_ids)}\")\n",
        "\n",
        "    batch_size = 100\n",
        "    for i in range(0, len(all_ids), batch_size):\n",
        "        batch_ids = all_ids[i:i+batch_size]\n",
        "        response = self.index.fetch(ids=batch_ids)\n",
        "        for vector_id, vector in response.vectors.items():\n",
        "            print(f\"\\nID: {vector_id}\")\n",
        "            print(f\"Values: {vector.values}\")\n",
        "            print(f\"Metadata: {vector.metadata}\")\n",
        "\n",
        "  def delete_index(self):\n",
        "    self.pc.delete_index(name=self.index_name)"
      ]
    }
  ],
  "metadata": {
    "colab": {
      "provenance": []
    },
    "kernelspec": {
      "display_name": "Python 3",
      "name": "python3"
    },
    "language_info": {
      "name": "python"
    }
  },
  "nbformat": 4,
  "nbformat_minor": 0
}
