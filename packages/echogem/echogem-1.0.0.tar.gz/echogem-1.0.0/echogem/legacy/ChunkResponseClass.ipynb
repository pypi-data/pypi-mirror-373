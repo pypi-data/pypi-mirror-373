{
  "cells": [
    {
      "cell_type": "code",
      "execution_count": 1,
      "metadata": {
        "id": "1OBN5GrX4Q5-"
      },
      "outputs": [],
      "source": [
        "from pydantic import BaseModel"
      ]
    },
    {
      "cell_type": "code",
      "execution_count": 2,
      "metadata": {
        "id": "w_PHGVTT4F86"
      },
      "outputs": [],
      "source": [
        "class Chunk(BaseModel):\n",
        "    title: str\n",
        "    content: str\n",
        "    keywords: list[str]\n",
        "    named_entities: list[str]\n",
        "    timestamp_range: str\n",
        "\n",
        "class ChunkResponse(BaseModel):\n",
        "    chunks: list[Chunk]"
      ]
    }
  ],
  "metadata": {
    "colab": {
      "provenance": []
    },
    "kernelspec": {
      "display_name": "Python 3",
      "name": "python3"
    },
    "language_info": {
      "codemirror_mode": {
        "name": "ipython",
        "version": 3
      },
      "file_extension": ".py",
      "mimetype": "text/x-python",
      "name": "python",
      "nbconvert_exporter": "python",
      "pygments_lexer": "ipython3",
      "version": "3.10.11"
    }
  },
  "nbformat": 4,
  "nbformat_minor": 0
}
