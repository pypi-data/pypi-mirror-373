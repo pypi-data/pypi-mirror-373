{
  "cells": [
    {
      "cell_type": "code",
      "execution_count": 5,
      "metadata": {
        "colab": {
          "base_uri": "https://localhost:8080/"
        },
        "collapsed": true,
        "id": "GpxBPH1yyiWP",
        "outputId": "29382ae9-0cca-4ca8-8f98-21b79acfc1d0"
      },
      "outputs": [
        {
          "name": "stdout",
          "output_type": "stream",
          "text": [
            "Requirement already satisfied: redis in c:\\users\\aryan\\appdata\\local\\packages\\pythonsoftwarefoundation.python.3.10_qbz5n2kfra8p0\\localcache\\local-packages\\python310\\site-packages (6.2.0)\n",
            "Requirement already satisfied: async-timeout>=4.0.3 in c:\\users\\aryan\\appdata\\local\\packages\\pythonsoftwarefoundation.python.3.10_qbz5n2kfra8p0\\localcache\\local-packages\\python310\\site-packages (from redis) (5.0.1)\n",
            "Note: you may need to restart the kernel to use updated packages.\n"
          ]
        },
        {
          "name": "stderr",
          "output_type": "stream",
          "text": [
            "\n",
            "[notice] A new release of pip is available: 23.0.1 -> 25.1.1\n",
            "[notice] To update, run: C:\\Users\\aryan\\AppData\\Local\\Microsoft\\WindowsApps\\PythonSoftwareFoundation.Python.3.10_qbz5n2kfra8p0\\python.exe -m pip install --upgrade pip\n"
          ]
        }
      ],
      "source": [
        "%pip install redis"
      ]
    },
    {
      "cell_type": "code",
      "execution_count": 2,
      "metadata": {
        "id": "PpJbaIapzkKJ"
      },
      "outputs": [],
      "source": [
        "import redis\n",
        "import json\n",
        "from datetime import datetime\n",
        "from typing import Optional\n",
        "\n",
        "from pydantic import BaseModel"
      ]
    },
    {
      "cell_type": "code",
      "execution_count": 3,
      "metadata": {
        "id": "W-k-COTjvqoq"
      },
      "outputs": [],
      "source": [
        "class Chunk(BaseModel):\n",
        "    title: str\n",
        "    content: str\n",
        "    keywords: list[str]\n",
        "    named_entities: list[str]\n",
        "    timestamp_range: str\n",
        "\n",
        "class ChunkResponse(BaseModel):\n",
        "    chunks: list[Chunk]"
      ]
    },
    {
      "cell_type": "code",
      "execution_count": null,
      "metadata": {},
      "outputs": [],
      "source": [
        "import redis, uuid, hashlib, json\n",
        "from datetime import datetime, timezone\n",
        "from typing import Any, Dict, List, Optional"
      ]
    },
    {
      "cell_type": "code",
      "execution_count": 4,
      "metadata": {
        "id": "gvROGO8c50aZ"
      },
      "outputs": [
        {
          "ename": "NameError",
          "evalue": "name 'Dict' is not defined",
          "output_type": "error",
          "traceback": [
            "\u001b[1;31m---------------------------------------------------------------------------\u001b[0m",
            "\u001b[1;31mNameError\u001b[0m                                 Traceback (most recent call last)",
            "Cell \u001b[1;32mIn[4], line 1\u001b[0m\n\u001b[1;32m----> 1\u001b[0m \u001b[38;5;28;01mclass\u001b[39;00m\u001b[38;5;250m \u001b[39m\u001b[38;5;21;01mUsageCache\u001b[39;00m:\n\u001b[0;32m      2\u001b[0m     \u001b[38;5;28;01mdef\u001b[39;00m\u001b[38;5;250m \u001b[39m\u001b[38;5;21m__init__\u001b[39m(\u001b[38;5;28mself\u001b[39m, host: \u001b[38;5;28mstr\u001b[39m \u001b[38;5;241m=\u001b[39m \u001b[38;5;124m\"\u001b[39m\u001b[38;5;124mlocalhost\u001b[39m\u001b[38;5;124m\"\u001b[39m, port: \u001b[38;5;28mint\u001b[39m \u001b[38;5;241m=\u001b[39m \u001b[38;5;241m6379\u001b[39m, db: \u001b[38;5;28mint\u001b[39m \u001b[38;5;241m=\u001b[39m \u001b[38;5;241m0\u001b[39m):\n\u001b[0;32m      3\u001b[0m         \u001b[38;5;28mself\u001b[39m\u001b[38;5;241m.\u001b[39mclient \u001b[38;5;241m=\u001b[39m redis\u001b[38;5;241m.\u001b[39mRedis(host\u001b[38;5;241m=\u001b[39mhost, port\u001b[38;5;241m=\u001b[39mport, db\u001b[38;5;241m=\u001b[39mdb, decode_responses\u001b[38;5;241m=\u001b[39m\u001b[38;5;28;01mTrue\u001b[39;00m)\n",
            "Cell \u001b[1;32mIn[4], line 12\u001b[0m, in \u001b[0;36mUsageCache\u001b[1;34m()\u001b[0m\n\u001b[0;32m      9\u001b[0m \u001b[38;5;28;01mdef\u001b[39;00m\u001b[38;5;250m \u001b[39m\u001b[38;5;21m_now\u001b[39m(\u001b[38;5;28mself\u001b[39m) \u001b[38;5;241m-\u001b[39m\u001b[38;5;241m>\u001b[39m \u001b[38;5;28mstr\u001b[39m:\n\u001b[0;32m     10\u001b[0m     \u001b[38;5;28;01mreturn\u001b[39;00m datetime\u001b[38;5;241m.\u001b[39mnow(timezone\u001b[38;5;241m.\u001b[39mutc)\u001b[38;5;241m.\u001b[39misoformat()\n\u001b[1;32m---> 12\u001b[0m \u001b[38;5;28;01mdef\u001b[39;00m\u001b[38;5;250m \u001b[39m\u001b[38;5;21mset_chunk\u001b[39m(\u001b[38;5;28mself\u001b[39m, chunk_id: \u001b[38;5;28mstr\u001b[39m, metadata: \u001b[43mDict\u001b[49m[\u001b[38;5;28mstr\u001b[39m, Any]) \u001b[38;5;241m-\u001b[39m\u001b[38;5;241m>\u001b[39m \u001b[38;5;28;01mNone\u001b[39;00m:\n\u001b[0;32m     13\u001b[0m     \u001b[38;5;28mself\u001b[39m\u001b[38;5;241m.\u001b[39mclient\u001b[38;5;241m.\u001b[39mhset(\u001b[38;5;28mself\u001b[39m\u001b[38;5;241m.\u001b[39m_key(chunk_id), mapping\u001b[38;5;241m=\u001b[39mmetadata)\n\u001b[0;32m     15\u001b[0m \u001b[38;5;28;01mdef\u001b[39;00m\u001b[38;5;250m \u001b[39m\u001b[38;5;21mupdate_usage\u001b[39m(\u001b[38;5;28mself\u001b[39m, chunk_id: \u001b[38;5;28mstr\u001b[39m) \u001b[38;5;241m-\u001b[39m\u001b[38;5;241m>\u001b[39m \u001b[38;5;28;01mNone\u001b[39;00m:\n",
            "\u001b[1;31mNameError\u001b[0m: name 'Dict' is not defined"
          ]
        }
      ],
      "source": [
        "class UsageCache:\n",
        "    def __init__(self, host: str = \"localhost\", port: int = 6379, db: int = 0):\n",
        "        self.client = redis.Redis(host=host, port=port, db=db, decode_responses=True)\n",
        "        self.client.ping()\n",
        "\n",
        "    def _key(self, chunk_id: str) -> str:\n",
        "        return f\"chunk:{chunk_id}\"\n",
        "\n",
        "    def _now(self) -> str:\n",
        "        return datetime.now(timezone.utc).isoformat()\n",
        "\n",
        "    def set_chunk(self, chunk_id: str, metadata: Dict[str, Any]) -> None:\n",
        "        self.client.hset(self._key(chunk_id), mapping=metadata)\n",
        "\n",
        "    def update_usage(self, chunk_id: str) -> None:\n",
        "        pipe = self.client.pipeline()\n",
        "        pipe.hset(self._key(chunk_id), \"last_used\", self._now())\n",
        "        pipe.hincrby(self._key(chunk_id), \"times_used\", 1)\n",
        "        pipe.execute()\n",
        "\n",
        "    def get_chunk(self, chunk_id: str) -> Optional[Dict[str, str]]:\n",
        "        data = self.client.hgetall(self._key(chunk_id))\n",
        "        return data or None\n",
        "\n",
        "    def delete_chunk(self, chunk_id: str) -> None:\n",
        "        self.client.delete(self._key(chunk_id))\n",
        "\n",
        "    def get_all_chunks(self) -> Dict[str, Dict[str, str]]:\n",
        "        out = {}\n",
        "        for key in self.client.scan_iter(match=\"chunk:*\"):\n",
        "            cid = key.split(\"chunk:\")[1]\n",
        "            out[cid] = self.client.hgetall(key)\n",
        "        return out\n",
        "\n",
        "    def push_chunks(self, chunks: List[\"Chunk\"]) -> List[str]:\n",
        "        ids: List[str] = []\n",
        "        now = self._now()\n",
        "        pipe = self.client.pipeline()\n",
        "\n",
        "        for chunk in chunks:\n",
        "            # id_ = str(uuid.uuid4())\n",
        "            id_ = hashlib.sha256(chunk.text.encode()).hexdigest()\n",
        "\n",
        "            md = dict(chunk.metadata or {})\n",
        "            md.update({\"last_used\": now, \"times_used\": 0})\n",
        "            pipe.hset(self._key(id_), mapping=md)\n",
        "            ids.append(id_)\n",
        "\n",
        "        pipe.execute()\n",
        "        print(f\"Cached {len(chunks)} chunks\")\n",
        "        return ids\n"
      ]
    }
  ],
  "metadata": {
    "colab": {
      "provenance": []
    },
    "kernelspec": {
      "display_name": "Python 3",
      "name": "python3"
    },
    "language_info": {
      "codemirror_mode": {
        "name": "ipython",
        "version": 3
      },
      "file_extension": ".py",
      "mimetype": "text/x-python",
      "name": "python",
      "nbconvert_exporter": "python",
      "pygments_lexer": "ipython3",
      "version": "3.10.11"
    }
  },
  "nbformat": 4,
  "nbformat_minor": 0
}
