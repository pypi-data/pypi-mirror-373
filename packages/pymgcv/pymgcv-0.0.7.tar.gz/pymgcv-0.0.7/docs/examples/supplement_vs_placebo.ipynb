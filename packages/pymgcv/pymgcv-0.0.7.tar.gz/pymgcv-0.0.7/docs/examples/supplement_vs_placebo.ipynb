{
 "cells": [
  {
   "cell_type": "markdown",
   "id": "a0d5ef14",
   "metadata": {},
   "source": [
    "# Supplement vs placebo \n",
    "\n",
    "The data consists of 112 girls randomized to receive calcium or placebo. The response variable consists of longitudinal measurements of **bone mineral density (g/cm²)** measured approximately every 6 months for 3 years. All girls are approximately 11 years old at the start of the trial.  \n",
    "\n",
    "The main variables are:\n",
    "\n",
    "- **bmd**: bone mass density  \n",
    "- **group**: placebo or supplement  \n",
    "- **person**: factor indicating the ID of each girl  \n",
    "- **age**: the age of each girl at the time of each measurement  \n",
    "\n"
   ]
  },
  {
   "cell_type": "code",
   "execution_count": 1,
   "id": "1a055ed1",
   "metadata": {
    "execution": {
     "iopub.execute_input": "2025-09-01T11:32:01.900149Z",
     "iopub.status.busy": "2025-09-01T11:32:01.899811Z",
     "iopub.status.idle": "2025-09-01T11:32:16.422162Z",
     "shell.execute_reply": "2025-09-01T11:32:16.421132Z"
    }
   },
   "outputs": [],
   "source": [
    "import matplotlib.pyplot as plt\n",
    "import pandas as pd\n",
    "from pymgcv.gam import GAM\n",
    "from pymgcv.terms import S, L\n",
    "from pymgcv.utils import load_rdata_dataframe_from_url\n",
    "from pymgcv.basis_functions import RandomEffect\n",
    "\n",
    "data = load_rdata_dataframe_from_url(\n",
    "    \"https://github.com/mfasiolo/testGam/raw/master/data/calcium.rda\",\n",
    ")\n",
    "data[\"group\"] = data[\"group\"].astype(\"category\")\n",
    "data[\"person\"] = data[\"person\"].astype(\"category\")"
   ]
  },
  {
   "cell_type": "markdown",
   "id": "403bf5e2",
   "metadata": {},
   "source": [
    "- Let's create a naive model, not taking into account differences between individuals."
   ]
  },
  {
   "cell_type": "code",
   "execution_count": 2,
   "id": "ddc0b56b",
   "metadata": {
    "execution": {
     "iopub.execute_input": "2025-09-01T11:32:16.425609Z",
     "iopub.status.busy": "2025-09-01T11:32:16.425205Z",
     "iopub.status.idle": "2025-09-01T11:32:16.473389Z",
     "shell.execute_reply": "2025-09-01T11:32:16.472543Z"
    }
   },
   "outputs": [
    {
     "name": "stdout",
     "output_type": "stream",
     "text": [
      "\n",
      "Family: gaussian \n",
      "Link function: identity \n",
      "\n",
      "Formula:\n",
      "bmd ~ group + age + 1\n",
      "\n",
      "Parametric coefficients:\n",
      "             Estimate Std. Error t value Pr(>|t|)    \n",
      "(Intercept)  0.337882   0.051553   6.554  1.4e-10 ***\n",
      "groupP      -0.019539   0.006055  -3.227  0.00133 ** \n",
      "age          0.049501   0.004282  11.560  < 2e-16 ***\n",
      "---\n",
      "Signif. codes:  0 ‘***’ 0.001 ‘**’ 0.01 ‘*’ 0.05 ‘.’ 0.1 ‘ ’ 1\n",
      "\n",
      "\n",
      "R-sq.(adj) =  0.221   Deviance explained = 22.4%\n",
      "-REML = -625.72  Scale est. = 0.004589  n = 501\n"
     ]
    }
   ],
   "source": [
    "gam = GAM({\"bmd\": L(\"group\") + L(\"age\")})\n",
    "gam.fit(data)\n",
    "print(gam.summary())"
   ]
  },
  {
   "cell_type": "markdown",
   "id": "694514c0",
   "metadata": {},
   "source": [
    "- The placebo has a negative effect, as you would expect if the treatment works\n",
    "- Let's add a [`RandomEffect`][pymgcv.basis_functions.RandomEffect] for each subject"
   ]
  },
  {
   "cell_type": "code",
   "execution_count": 3,
   "id": "db8c9e83",
   "metadata": {
    "execution": {
     "iopub.execute_input": "2025-09-01T11:32:16.476119Z",
     "iopub.status.busy": "2025-09-01T11:32:16.475828Z",
     "iopub.status.idle": "2025-09-01T11:32:24.914593Z",
     "shell.execute_reply": "2025-09-01T11:32:24.913222Z"
    }
   },
   "outputs": [
    {
     "name": "stdout",
     "output_type": "stream",
     "text": [
      "\n",
      "Family: gaussian \n",
      "Link function: identity \n",
      "\n",
      "Formula:\n",
      "bmd ~ group + age + s(person, bs = \"re\") + 1\n",
      "\n",
      "Parametric coefficients:\n",
      "             Estimate Std. Error t value Pr(>|t|)    \n",
      "(Intercept)  0.329263   0.015168  21.707   <2e-16 ***\n",
      "groupP      -0.019323   0.012785  -1.511    0.132    \n",
      "age          0.050217   0.001017  49.394   <2e-16 ***\n",
      "---\n",
      "Signif. codes:  0 ‘***’ 0.001 ‘**’ 0.01 ‘*’ 0.05 ‘.’ 0.1 ‘ ’ 1\n",
      "\n",
      "Approximate significance of smooth terms:\n",
      "            edf Ref.df     F p-value    \n",
      "s(person) 108.4    110 82.75  <2e-16 ***\n",
      "---\n",
      "Signif. codes:  0 ‘***’ 0.001 ‘**’ 0.01 ‘*’ 0.05 ‘.’ 0.1 ‘ ’ 1\n",
      "\n",
      "R-sq.(adj) =   0.96   Deviance explained = 96.9%\n",
      "-REML = -1121.3  Scale est. = 0.00023803  n = 501\n"
     ]
    }
   ],
   "source": [
    "gam = GAM({\"bmd\": L(\"group\") + L(\"age\") + S(\"person\", bs=RandomEffect())})\n",
    "gam.fit(data)\n",
    "print(gam.summary())"
   ]
  },
  {
   "cell_type": "markdown",
   "id": "cb46fe91",
   "metadata": {},
   "source": [
    "- The metrics look much better. Obviously individual differences should be taken into account\n",
    "\n",
    "Let's consider a non-linear age component, and compare AICs"
   ]
  },
  {
   "cell_type": "code",
   "execution_count": 4,
   "id": "e0b81b44",
   "metadata": {
    "execution": {
     "iopub.execute_input": "2025-09-01T11:32:24.921675Z",
     "iopub.status.busy": "2025-09-01T11:32:24.921111Z",
     "iopub.status.idle": "2025-09-01T11:32:34.085736Z",
     "shell.execute_reply": "2025-09-01T11:32:34.083738Z"
    }
   },
   "outputs": [
    {
     "name": "stdout",
     "output_type": "stream",
     "text": [
      "linear age: AIC=-2659.205960161043\n",
      "non-linear age: AIC=-2658.1008821828736\n"
     ]
    }
   ],
   "source": [
    "non_lin_gam = GAM({\"bmd\": L(\"group\") + S(\"age\") + S(\"person\", bs=RandomEffect())})\n",
    "non_lin_gam.fit(data)\n",
    "\n",
    "\n",
    "models = {\n",
    "    \"linear age\": gam,\n",
    "    \"non-linear age\": non_lin_gam,\n",
    "}\n",
    "for name, model in models.items():\n",
    "    print(f\"{name}: AIC={model.aic()}\")"
   ]
  },
  {
   "cell_type": "markdown",
   "id": "04a1fdb1",
   "metadata": {},
   "source": [
    "- Very similar AICs, hard to say!"
   ]
  },
  {
   "cell_type": "code",
   "execution_count": 5,
   "id": "fd1b7631",
   "metadata": {
    "execution": {
     "iopub.execute_input": "2025-09-01T11:32:34.093445Z",
     "iopub.status.busy": "2025-09-01T11:32:34.092439Z",
     "iopub.status.idle": "2025-09-01T11:32:37.729180Z",
     "shell.execute_reply": "2025-09-01T11:32:37.728459Z"
    }
   },
   "outputs": [
    {
     "data": {
      "image/png": "[encoded data removed]",
      "text/plain": [
       "<Figure size 800x200 with 3 Axes>"
      ]
     },
     "metadata": {},
     "output_type": "display_data"
    }
   ],
   "source": [
    "from pymgcv.plot import plot_gam\n",
    "fig, ax = plot_gam(non_lin_gam, ncols=3)\n",
    "fig.set_size_inches(8, 2)"
   ]
  }
 ],
 "metadata": {
  "kernelspec": {
   "display_name": "Python 3",
   "language": "python",
   "name": "python3"
  },
  "language_info": {
   "codemirror_mode": {
    "name": "ipython",
    "version": 3
   },
   "file_extension": ".py",
   "mimetype": "text/x-python",
   "name": "python",
   "nbconvert_exporter": "python",
   "pygments_lexer": "ipython3",
   "version": "3.12.11"
  }
 },
 "nbformat": 4,
 "nbformat_minor": 5
}
