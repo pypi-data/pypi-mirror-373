{
 "cells": [
  {
   "cell_type": "markdown",
   "id": "eae20948",
   "metadata": {},
   "source": [
    "# This is DEV test notebook, not much useful around here"
   ]
  },
  {
   "cell_type": "code",
   "execution_count": 6,
   "id": "78882d96",
   "metadata": {},
   "outputs": [
    {
     "name": "stdout",
     "output_type": "stream",
     "text": [
      "ml4fmri imported from: /Users/ppopov1/meanMLP/src/ml4fmri\n",
      "ml4fmri ready\n"
     ]
    }
   ],
   "source": [
    "# module reloading script, fetches updates to ml4fmri package\n",
    "import sys, importlib\n",
    "from pathlib import Path\n",
    "\n",
    "PKG = \"ml4fmri\"\n",
    "# adjust as needed; this assumes your repo root is the CWD and sources are in ../src\n",
    "SRC = Path().joinpath(\"../src\").resolve()\n",
    "\n",
    "def _ensure_src_on_path():\n",
    "    p = str(SRC)\n",
    "    if p not in sys.path:\n",
    "        sys.path.insert(0, p)\n",
    "\n",
    "def fresh_import_ml4fmri():\n",
    "    \"\"\"\n",
    "    Remove any cached ml4fmri modules and import from SRC.\n",
    "    Returns the ml4fmri module and (if available) meanMLP class.\n",
    "    \"\"\"\n",
    "    _ensure_src_on_path()\n",
    "\n",
    "    # purge previous imports so code changes take effect\n",
    "    to_delete = [k for k in list(sys.modules) if k == PKG or k.startswith(PKG + \".\")]\n",
    "    for k in to_delete:\n",
    "        del sys.modules[k]\n",
    "\n",
    "    importlib.invalidate_caches()\n",
    "\n",
    "    ml4fmri = __import__(PKG)\n",
    "    meanMLP = None\n",
    "    try:\n",
    "        from ml4fmri.models import meanMLP \n",
    "    except Exception as e:\n",
    "        print(\"Note: could not import meanMLP yet:\", e)\n",
    "\n",
    "    try:\n",
    "        import inspect\n",
    "        print(\"ml4fmri imported from:\", Path(inspect.getfile(ml4fmri)).parent)\n",
    "    except Exception:\n",
    "        pass\n",
    "    print(\"ml4fmri ready\")\n",
    "    return ml4fmri\n",
    "\n",
    "# --- first import (or manual reload later) ---\n",
    "ml4fmri = fresh_import_ml4fmri()\n",
    "\n",
    "# get sample data for experiments\n",
    "from abide import load_data as load_abide\n",
    "from cobre import load_data as load_cobre\n",
    "\n",
    "data, labels = load_abide()\n",
    "data.shape, labels.shape\n",
    "\n",
    "data, labels = data[:100], labels[:100]"
   ]
  },
  {
   "cell_type": "code",
   "execution_count": 17,
   "id": "8b5a71b4",
   "metadata": {},
   "outputs": [],
   "source": [
    "from abide import load_data as load_abide\n",
    "from cobre import load_data as load_cobre\n",
    "\n",
    "data, labels = load_abide()\n",
    "DATA, LABELS = data, labels\n",
    "data.shape, labels.shape\n",
    "\n",
    "data, labels = data[50:150], labels[50:150]"
   ]
  },
  {
   "cell_type": "code",
   "execution_count": null,
   "id": "4f15ab45",
   "metadata": {},
   "outputs": [],
   "source": [
    "ml4fmri = fresh_import_ml4fmri()\n",
    "from ml4fmri import cvbench # runs CV experiments with implemented models on the given data\n",
    "report = cvbench(data, labels, n_folds=10)\n",
    "# report = cvbench(data, labels, models='lite', n_folds=2)\n",
    "# report = cvbench(data, labels, models='LR', n_folds=2)\n",
    "report.plot_scores()"
   ]
  },
  {
   "cell_type": "code",
   "execution_count": 4,
   "id": "14efaa9b",
   "metadata": {},
   "outputs": [
    {
     "data": {
      "image/png": "[encoded data removed]",
      "text/plain": [
       "<Figure size 750x400 with 1 Axes>"
      ]
     },
     "metadata": {},
     "output_type": "display_data"
    }
   ],
   "source": [
    "report.plot_scores_h()"
   ]
  },
  {
   "cell_type": "markdown",
   "id": "81f1e336",
   "metadata": {},
   "source": [
    "# test cvbench model socket"
   ]
  },
  {
   "cell_type": "code",
   "execution_count": 3,
   "id": "4aac320d",
   "metadata": {},
   "outputs": [],
   "source": [
    "\n",
    "import torch\n",
    "from torch import nn\n",
    "\n",
    "from torch.nn.functional import cross_entropy, mse_loss\n",
    "\n",
    "from ml4fmri.models.helper_functions import basic_ce_loss, basic_handle_batch, basic_dataloader, basic_Adam_optimizer, BasicTrainer\n",
    "\n",
    "class LSTM(nn.Module):\n",
    "    \"\"\"\n",
    "    TIME SERIES MODEL\n",
    "\n",
    "    Vanilla-style LSTM classifier for fMRI data from https://doi.org/10.1016/j.neuroimage.2024.120909.\n",
    "    Expected input shape: [batch_size, time_length, input_feature_size].\n",
    "    Output: [batch_size, n_classes]\n",
    "    \"\"\"\n",
    "\n",
    "    def __init__(\n",
    "            self,\n",
    "            input_size: int,\n",
    "            output_size: int,\n",
    "            hidden_size: int = 210,\n",
    "            num_layers: int = 1,\n",
    "            bidirectional: bool = False,\n",
    "            dropout: float = 0.5,\n",
    "            lr: float = 4e-5,\n",
    "    ):\n",
    "        \"\"\"\n",
    "        Initialize LSTM model.\n",
    "        Args:\n",
    "            input_size (int): Size of the vector at each time step in the input time series. \\\n",
    "                Common to all models, for FNC models it is the number of nodes (width or length) in the FNC matrix.\n",
    "            output_size (int): Number of classes for classification. \\\n",
    "                Common to all models.\n",
    "            hidden_size (int, hyperparameter): LSTM hidden size. Defaults to 210.\n",
    "            num_layers (int, hyperparameter): Number of LSTM layers. Defaults to 1.\n",
    "            bidirectional (bool, hyperparameter): Whether to use a bidirectional LSTM. Defaults to True.\n",
    "            dropout (float, hyperparameter): Dropout rate for classifier. Defaults to 0.5.\n",
    "            lr (float, hyperparameter): Learning rate for the optimizer. Defaults to 4e-5. \\\n",
    "                Common to all models. Isn't used by the model per se, presented as a reference LR from the paper. \n",
    "        \"\"\"\n",
    "        super().__init__()\n",
    "        self.lr = lr  # learning rate used in the paper. Defined like this in every model for reference.\n",
    "\n",
    "        self.bidirectional = bidirectional\n",
    "        self.hidden_size = hidden_size\n",
    "\n",
    "        self.lstm = nn.LSTM(\n",
    "            input_size=input_size,\n",
    "            hidden_size=hidden_size,\n",
    "            num_layers=num_layers,\n",
    "            batch_first=True,\n",
    "            bidirectional=bidirectional,\n",
    "        )\n",
    "\n",
    "        lstm_output_size = 2 * hidden_size if bidirectional else hidden_size\n",
    "\n",
    "        self.predictor = nn.Sequential(\n",
    "            nn.Dropout(p=dropout),\n",
    "            nn.Linear(\n",
    "                lstm_output_size,\n",
    "                lstm_output_size,\n",
    "            ),\n",
    "            nn.ReLU(),\n",
    "            nn.Linear(\n",
    "                lstm_output_size,\n",
    "                input_size,\n",
    "            ),\n",
    "        )\n",
    "\n",
    "        self.clf = nn.Sequential(\n",
    "            nn.Dropout(p=dropout),\n",
    "            nn.Linear(\n",
    "                lstm_output_size,\n",
    "                output_size,\n",
    "            ),\n",
    "        )\n",
    "\n",
    "    def forward(self, x):\n",
    "        lstm_output, _ = self.lstm(x)\n",
    "\n",
    "        if self.bidirectional:\n",
    "            out_forward = lstm_output[:, -1, : self.hidden_size]\n",
    "            out_reverse = lstm_output[:, 0, self.hidden_size :]\n",
    "            lstm_output_clf = torch.cat((out_forward, out_reverse), 1)\n",
    "        else:\n",
    "            lstm_output_clf = lstm_output[:, -1, :]\n",
    "\n",
    "        preds = self.predictor(lstm_output[:, :-1, :])\n",
    "        origs = x[:, 1:, :]\n",
    "\n",
    "        ts_logits = self.clf(lstm_output)\n",
    "        logits = ts_logits.mean(axis=1)\n",
    "\n",
    "        return logits, {\"logits\": logits, \"preds\": preds, \"origs\": origs, \"ts_logits\": ts_logits}\n",
    "\n",
    "    #### Helper functions for model training and evaluation ####\n",
    "\n",
    "    def compute_loss(self, loss_load, targets):\n",
    "        \"\"\"\n",
    "        Standard loss computation routine for models.\n",
    "        Args:\n",
    "            loss_load (dict): Forward's second output for the batch.\n",
    "            targets (torch.Tensor): True labels for the batch.\n",
    "        \n",
    "        Returns\n",
    "        -------\n",
    "        loss : Tensor\n",
    "            Loss for backpropagation.\n",
    "        logs : dict\n",
    "            Dictionary containing the loss components for logs.\n",
    "        \"\"\"\n",
    "\n",
    "        ce_loss = cross_entropy(loss_load[\"logits\"], targets)\n",
    "        pred_loss = mse_loss(loss_load[\"preds\"], loss_load[\"origs\"])\n",
    "\n",
    "        loss = ce_loss + pred_loss\n",
    "\n",
    "        return loss, {\"CE_loss\": float(ce_loss.detach().cpu().item()), \"Pred_loss\": float(pred_loss.detach().cpu().item())}\n",
    "\n",
    "    def handle_batch(self, batch):\n",
    "        \"\"\"\n",
    "        Standard batch handling routine for models. \n",
    "        Returns loss for backprop and a dictionary of classification metrics and losses for logs.\n",
    "        \n",
    "        Args:\n",
    "            batch (tuple): A batch containing the time series data and labels as a tuple.\n",
    "        Returns\n",
    "        -------\n",
    "        loss : Tensor\n",
    "            Loss for backpropagation.\n",
    "        batch_log : dict\n",
    "            Dictionary of classification metrics and losses for logs.\n",
    "        \"\"\"\n",
    "\n",
    "        loss, batch_log = basic_handle_batch(self, batch)\n",
    "        return loss, batch_log\n",
    "    \n",
    "    def get_optimizer(self, lr=None):\n",
    "        \"\"\"\n",
    "        Standard optimizer getter routine for models.\n",
    "        \"\"\"\n",
    "        if lr is None:\n",
    "            lr = self.lr\n",
    "        return basic_Adam_optimizer(self, lr)\n",
    "\n",
    "    @staticmethod\n",
    "    def prepare_dataloader(data,\n",
    "                           labels,\n",
    "                           batch_size: int = 64,\n",
    "                           shuffle: bool = True):\n",
    "        \"\"\"\n",
    "        Returns torch DataLoader that produces appropriate batches for the model (can pass to `handle_batch`)\n",
    "        Args:\n",
    "            data (array-like): Time series data of shape (B, T, D).\n",
    "            labels (array-like): Class labels for the data.\n",
    "            batch_size (int, optional): Batch size for the DataLoader. Defaults to 64.\n",
    "            shuffle (bool, optional): Whether to shuffle batching in the DataLoader. Defaults to True.\n",
    "        \n",
    "        Returns:\n",
    "            DataLoader: A PyTorch DataLoader generating the batches of time series data and labels. \n",
    "        \"\"\"\n",
    "        return basic_dataloader(data,\n",
    "                                labels,\n",
    "                                type=\"TS\",\n",
    "                                batch_size=batch_size,\n",
    "                                shuffle=shuffle)\n",
    "    \n",
    "    def train_model(self,\n",
    "              train_loader,\n",
    "              val_loader,\n",
    "              test_loader,\n",
    "              epochs: int = 200,\n",
    "              lr: float = None,\n",
    "              device: str = None,\n",
    "              patience: int = 30,\n",
    "        ):\n",
    "        \"\"\"\n",
    "        Standard model training routine.\n",
    "        Args:\n",
    "            train_loader (DataLoader): DataLoader for the training set. Used for training.\n",
    "            val_loader (DataLoader): DataLoader for the validation set. Used during training to find most generalizable model.\n",
    "            test_loader (DataLoader): DataLoader for the test set.\n",
    "            epochs (int, optional): Number of training epochs. Defaults to 200.\n",
    "            lr (float, optional): Optimizer learning rate (default: use model's self.lr).\n",
    "            device (str, optional): Device to train the model on: \"cuda\", \"mps\", or \"cpu\". Default: auto-detect (cuda -> mps -> cpu).\n",
    "            patience (int, optional): Early stopping patience (in epochs). Defaults to 30.\n",
    "        Returns\n",
    "        -------\n",
    "        (train_logs, test_logs)\n",
    "            Training and test dataframes containing loss and accuracy metrics.\n",
    "        \"\"\"\n",
    "        \n",
    "        trainer = BasicTrainer(\n",
    "            model=self,\n",
    "            train_loader=train_loader,\n",
    "            val_loader=val_loader,\n",
    "            test_loader=test_loader,\n",
    "            epochs=epochs,\n",
    "            lr=lr,\n",
    "            device=device,\n",
    "            patience=patience,\n",
    "        )\n",
    "\n",
    "        train_logs, test_logs = trainer.run()\n",
    "        return train_logs, test_logs\n"
   ]
  },
  {
   "cell_type": "code",
   "execution_count": null,
   "id": "fb84d063",
   "metadata": {},
   "outputs": [],
   "source": [
    "ml4fmri = fresh_import_ml4fmri()\n",
    "from ml4fmri import cvbench # runs CV experiments with implemented models on the given data\n",
    "# report = cvbench(data, labels, n_folds=10)\n",
    "report = cvbench(data, labels, models=[\"meanMLP\", \"LSTM\"], custom_models=[LSTM], n_folds=5)\n",
    "# report = cvbench(data, labels, models=[\"meanMLP\", \"LSTM\"], n_folds=5)\n",
    "report.plot_scores()"
   ]
  },
  {
   "cell_type": "markdown",
   "id": "15bb82cb",
   "metadata": {},
   "source": [
    "# test cvbench"
   ]
  },
  {
   "cell_type": "code",
   "execution_count": 7,
   "id": "46a00df9",
   "metadata": {},
   "outputs": [
    {
     "name": "stderr",
     "output_type": "stream",
     "text": [
      "cvbench INFO: Got DATA in shape (569, 140, 53) and LABELS in shape (569,)\n",
      "cvbench INFO: Unique labels: [0 1], Counts: [255 314]\n",
      "cvbench INFO: Using device: <built-in function all>\n",
      "cvbench INFO: Running models: ['LR', 'meanMLP', 'MILC', 'Transformer', 'meanTransformer', 'BNT', 'BrainNetCNN', 'LSTM', 'meanLSTM', 'FBNetGen', 'DICE', 'Glacier', 'BolT']\n",
      "cvbench INFO: Training model: LR\n",
      "cvbench.LR INFO: Fold 01/02: Train/Val/Test AUC 1.000/1.000/0.707: Time elapsed 0.13 s\n"
     ]
    },
    {
     "name": "stdout",
     "output_type": "stream",
     "text": [
      "ml4fmri imported from: /Users/ppopov1/meanMLP/src/ml4fmri\n",
      "ml4fmri ready\n"
     ]
    },
    {
     "name": "stderr",
     "output_type": "stream",
     "text": [
      "cvbench.LR INFO: Fold 02/02: Train/Val/Test AUC 1.000/1.000/0.718: Time elapsed 0.11 s\n",
      "cvbench INFO: Training model: meanMLP\n"
     ]
    },
    {
     "ename": "TypeError",
     "evalue": "device() received an invalid combination of arguments - got (builtin_function_or_method), but expected one of:\n * (torch.device device)\n      didn't match because some of the arguments have invalid types: (!builtin_function_or_method!)\n * (str type, int index = -1)\n",
     "output_type": "error",
     "traceback": [
      "\u001b[31m---------------------------------------------------------------------------\u001b[39m",
      "\u001b[31mTypeError\u001b[39m                                 Traceback (most recent call last)",
      "\u001b[36mCell\u001b[39m\u001b[36m \u001b[39m\u001b[32mIn[7]\u001b[39m\u001b[32m, line 4\u001b[39m\n\u001b[32m      2\u001b[39m \u001b[38;5;28;01mfrom\u001b[39;00m\u001b[38;5;250m \u001b[39m\u001b[34;01mml4fmri\u001b[39;00m\u001b[38;5;250m \u001b[39m\u001b[38;5;28;01mimport\u001b[39;00m cvbench \u001b[38;5;66;03m# runs CV experiments with implemented models on the given data\u001b[39;00m\n\u001b[32m      3\u001b[39m \u001b[38;5;66;03m# report = cvbench(data, labels, n_folds=10)\u001b[39;00m\n\u001b[32m----> \u001b[39m\u001b[32m4\u001b[39m report = \u001b[43mcvbench\u001b[49m\u001b[43m(\u001b[49m\u001b[43mdata\u001b[49m\u001b[43m,\u001b[49m\u001b[43m \u001b[49m\u001b[43mlabels\u001b[49m\u001b[43m,\u001b[49m\u001b[43m \u001b[49m\u001b[43mdevice\u001b[49m\u001b[43m=\u001b[49m\u001b[38;5;28;43mall\u001b[39;49m\u001b[43m,\u001b[49m\u001b[43m \u001b[49m\u001b[43mn_folds\u001b[49m\u001b[43m=\u001b[49m\u001b[32;43m2\u001b[39;49m\u001b[43m)\u001b[49m\n\u001b[32m      5\u001b[39m report.plot_scores()\n",
      "\u001b[36mFile \u001b[39m\u001b[32m~/meanMLP/src/ml4fmri/cvreport.py:257\u001b[39m, in \u001b[36mcvbench\u001b[39m\u001b[34m(data, labels, models, custom_models, n_folds, val_ratio, random_state, epochs, lr, device, patience)\u001b[39m\n\u001b[32m    254\u001b[39m model = model_class(input_size=D, output_size=C)\n\u001b[32m    256\u001b[39m \u001b[38;5;66;03m# Train model\u001b[39;00m\n\u001b[32m--> \u001b[39m\u001b[32m257\u001b[39m train_df, test_df = \u001b[43mmodel\u001b[49m\u001b[43m.\u001b[49m\u001b[43mtrain_model\u001b[49m\u001b[43m(\u001b[49m\u001b[43mtrain_loader\u001b[49m\u001b[43m,\u001b[49m\u001b[43m \u001b[49m\u001b[43mval_loader\u001b[49m\u001b[43m,\u001b[49m\u001b[43m \u001b[49m\u001b[43mtest_loader\u001b[49m\u001b[43m,\u001b[49m\n\u001b[32m    258\u001b[39m \u001b[43m                                      \u001b[49m\u001b[43mepochs\u001b[49m\u001b[43m=\u001b[49m\u001b[43mepochs\u001b[49m\u001b[43m,\u001b[49m\u001b[43m \u001b[49m\u001b[43mlr\u001b[49m\u001b[43m=\u001b[49m\u001b[43mlr\u001b[49m\u001b[43m,\u001b[49m\u001b[43m \u001b[49m\u001b[43mdevice\u001b[49m\u001b[43m=\u001b[49m\u001b[43mdevice\u001b[49m\u001b[43m,\u001b[49m\u001b[43m \u001b[49m\u001b[43mpatience\u001b[49m\u001b[43m=\u001b[49m\u001b[43mpatience\u001b[49m\u001b[43m)\u001b[49m\n\u001b[32m    260\u001b[39m time_elapsed = time.time() - start\n\u001b[32m    262\u001b[39m \u001b[38;5;66;03m# Annotate and save logs\u001b[39;00m\n",
      "\u001b[36mFile \u001b[39m\u001b[32m~/meanMLP/src/ml4fmri/models/meanMLP.py:174\u001b[39m, in \u001b[36mmeanMLP.train_model\u001b[39m\u001b[34m(self, train_loader, val_loader, test_loader, epochs, lr, device, patience)\u001b[39m\n\u001b[32m    149\u001b[39m \u001b[38;5;28;01mdef\u001b[39;00m\u001b[38;5;250m \u001b[39m\u001b[34mtrain_model\u001b[39m(\u001b[38;5;28mself\u001b[39m,\n\u001b[32m    150\u001b[39m           train_loader,\n\u001b[32m    151\u001b[39m           val_loader,\n\u001b[32m   (...)\u001b[39m\u001b[32m    156\u001b[39m           patience: \u001b[38;5;28mint\u001b[39m = \u001b[32m30\u001b[39m,\n\u001b[32m    157\u001b[39m     ):\n\u001b[32m    158\u001b[39m \u001b[38;5;250m    \u001b[39m\u001b[33;03m\"\"\"\u001b[39;00m\n\u001b[32m    159\u001b[39m \u001b[33;03m    Standard model training routine.\u001b[39;00m\n\u001b[32m    160\u001b[39m \u001b[33;03m    Args:\u001b[39;00m\n\u001b[32m   (...)\u001b[39m\u001b[32m    171\u001b[39m \u001b[33;03m        Training and test dataframes containing loss and accuracy metrics.\u001b[39;00m\n\u001b[32m    172\u001b[39m \u001b[33;03m    \"\"\"\u001b[39;00m\n\u001b[32m--> \u001b[39m\u001b[32m174\u001b[39m     trainer = \u001b[43mBasicTrainer\u001b[49m\u001b[43m(\u001b[49m\n\u001b[32m    175\u001b[39m \u001b[43m        \u001b[49m\u001b[43mmodel\u001b[49m\u001b[43m=\u001b[49m\u001b[38;5;28;43mself\u001b[39;49m\u001b[43m,\u001b[49m\n\u001b[32m    176\u001b[39m \u001b[43m        \u001b[49m\u001b[43mtrain_loader\u001b[49m\u001b[43m=\u001b[49m\u001b[43mtrain_loader\u001b[49m\u001b[43m,\u001b[49m\n\u001b[32m    177\u001b[39m \u001b[43m        \u001b[49m\u001b[43mval_loader\u001b[49m\u001b[43m=\u001b[49m\u001b[43mval_loader\u001b[49m\u001b[43m,\u001b[49m\n\u001b[32m    178\u001b[39m \u001b[43m        \u001b[49m\u001b[43mtest_loader\u001b[49m\u001b[43m=\u001b[49m\u001b[43mtest_loader\u001b[49m\u001b[43m,\u001b[49m\n\u001b[32m    179\u001b[39m \u001b[43m        \u001b[49m\u001b[43mepochs\u001b[49m\u001b[43m=\u001b[49m\u001b[43mepochs\u001b[49m\u001b[43m,\u001b[49m\n\u001b[32m    180\u001b[39m \u001b[43m        \u001b[49m\u001b[43mlr\u001b[49m\u001b[43m=\u001b[49m\u001b[43mlr\u001b[49m\u001b[43m,\u001b[49m\n\u001b[32m    181\u001b[39m \u001b[43m        \u001b[49m\u001b[43mdevice\u001b[49m\u001b[43m=\u001b[49m\u001b[43mdevice\u001b[49m\u001b[43m,\u001b[49m\n\u001b[32m    182\u001b[39m \u001b[43m        \u001b[49m\u001b[43mpatience\u001b[49m\u001b[43m=\u001b[49m\u001b[43mpatience\u001b[49m\u001b[43m,\u001b[49m\n\u001b[32m    183\u001b[39m \u001b[43m    \u001b[49m\u001b[43m)\u001b[49m\n\u001b[32m    185\u001b[39m     train_logs, test_logs = trainer.run()\n\u001b[32m    186\u001b[39m     \u001b[38;5;28;01mreturn\u001b[39;00m train_logs, test_logs\n",
      "\u001b[36mFile \u001b[39m\u001b[32m~/meanMLP/src/ml4fmri/models/helper_functions.py:252\u001b[39m, in \u001b[36mBasicTrainer.__init__\u001b[39m\u001b[34m(self, model, train_loader, val_loader, test_loader, epochs, lr, device, patience)\u001b[39m\n\u001b[32m    250\u001b[39m \u001b[38;5;28mself\u001b[39m.lr = lr\n\u001b[32m    251\u001b[39m \u001b[38;5;28;01mif\u001b[39;00m device \u001b[38;5;129;01mis\u001b[39;00m \u001b[38;5;129;01mnot\u001b[39;00m \u001b[38;5;28;01mNone\u001b[39;00m:\n\u001b[32m--> \u001b[39m\u001b[32m252\u001b[39m     \u001b[38;5;28mself\u001b[39m.device = \u001b[43mtorch\u001b[49m\u001b[43m.\u001b[49m\u001b[43mdevice\u001b[49m\u001b[43m(\u001b[49m\u001b[43mdevice\u001b[49m\u001b[43m)\u001b[49m\n\u001b[32m    253\u001b[39m \u001b[38;5;28;01melse\u001b[39;00m:\n\u001b[32m    254\u001b[39m     \u001b[38;5;28mself\u001b[39m.device = torch.device(\u001b[33m\"\u001b[39m\u001b[33mcuda\u001b[39m\u001b[33m\"\u001b[39m) \u001b[38;5;28;01mif\u001b[39;00m torch.cuda.is_available() \\\n\u001b[32m    255\u001b[39m         \u001b[38;5;28;01melse\u001b[39;00m torch.device(\u001b[33m\"\u001b[39m\u001b[33mmps\u001b[39m\u001b[33m\"\u001b[39m) \u001b[38;5;28;01mif\u001b[39;00m torch.backends.mps.is_available() \\\n\u001b[32m    256\u001b[39m             \u001b[38;5;28;01melse\u001b[39;00m torch.device(\u001b[33m\"\u001b[39m\u001b[33mcpu\u001b[39m\u001b[33m\"\u001b[39m)\n",
      "\u001b[31mTypeError\u001b[39m: device() received an invalid combination of arguments - got (builtin_function_or_method), but expected one of:\n * (torch.device device)\n      didn't match because some of the arguments have invalid types: (!builtin_function_or_method!)\n * (str type, int index = -1)\n"
     ]
    }
   ],
   "source": [
    "ml4fmri = fresh_import_ml4fmri()\n",
    "from ml4fmri import cvbench # runs CV experiments with implemented models on the given data\n",
    "# report = cvbench(data, labels, n_folds=10)\n",
    "report = cvbench(data, labels, device=all, n_folds=2)\n",
    "report.plot_scores()"
   ]
  },
  {
   "cell_type": "code",
   "execution_count": null,
   "id": "ad2aa9b4",
   "metadata": {},
   "outputs": [],
   "source": [
    "# ml4fmri = fresh_import_ml4fmri()\n",
    "from ml4fmri import cvbench # runs CV experiments with implemented models on the given data\n",
    "# report = cvbench(data, labels, n_folds=10)\n",
    "report = cvbench(data, labels, device=\"mps\", n_folds=10)\n",
    "report.plot_scores()"
   ]
  },
  {
   "cell_type": "code",
   "execution_count": null,
   "id": "f2ad4dd6",
   "metadata": {},
   "outputs": [],
   "source": [
    "report.plot_scores_h(metric='test_f1_macro')"
   ]
  },
  {
   "cell_type": "code",
   "execution_count": null,
   "id": "d8755cd2",
   "metadata": {},
   "outputs": [],
   "source": [
    "# extract report dataframes\n",
    "\n",
    "test_df = report.get_test_dataframe() # returns dataframe with test metrics: \n",
    "# classification metrics and loss on the test data and training time per fold for each model.\n",
    "# Useful for model comparison.\n",
    "\n",
    "train_df = report.get_train_dataframe() # returns dataframe with training logs: \n",
    "# losses and classification metrics on the training and validation data per fold for each model. \n",
    "# Useful for training inspection.\n",
    "\n",
    "meta_df = report.get_meta() # dictionary with metadata about the training process:\n",
    "# ['models', 'n_folds', 'val_ratio', 'random_state', 'input_size', 'n_classes', 'train_indices', 'val_indices', 'test_indices']\n",
    "# the last 3 give you CV indices per fold, so that you can potentially replicate the splits in your experiments."
   ]
  },
  {
   "cell_type": "code",
   "execution_count": null,
   "id": "f7ebdecc",
   "metadata": {},
   "outputs": [],
   "source": [
    "report.plot_training_curves()"
   ]
  },
  {
   "cell_type": "code",
   "execution_count": null,
   "id": "b4246653",
   "metadata": {},
   "outputs": [],
   "source": [
    "train_df = report.get_train_dataframe()\n",
    "test_df = report.get_test_dataframe()\n",
    "meta = report.meta"
   ]
  },
  {
   "cell_type": "code",
   "execution_count": null,
   "id": "a3ebf969",
   "metadata": {},
   "outputs": [],
   "source": [
    "report.save() # saves the report to disk: \n",
    "# cvbench_train.csv with train dataframe, \n",
    "# cvbench_test.csv with test dataframe,\n",
    "# cvbench_meta.json with metadata,"
   ]
  }
 ],
 "metadata": {
  "kernelspec": {
   "display_name": "meanmlp-dev",
   "language": "python",
   "name": "python3"
  },
  "language_info": {
   "codemirror_mode": {
    "name": "ipython",
    "version": 3
   },
   "file_extension": ".py",
   "mimetype": "text/x-python",
   "name": "python",
   "nbconvert_exporter": "python",
   "pygments_lexer": "ipython3",
   "version": "3.12.11"
  }
 },
 "nbformat": 4,
 "nbformat_minor": 5
}
