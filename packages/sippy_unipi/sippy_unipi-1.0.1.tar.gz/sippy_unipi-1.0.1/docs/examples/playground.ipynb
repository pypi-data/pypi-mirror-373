{
 "cells": [
  {
   "cell_type": "code",
   "execution_count": 22,
   "metadata": {},
   "outputs": [
    {
     "data": {
      "text/plain": [
       "SX(0)"
      ]
     },
     "execution_count": 22,
     "metadata": {},
     "output_type": "execute_result"
    }
   ],
   "source": [
    "import numpy as np\n",
    "from casadi import SX, vertcat, mtimes, DM\n",
    "\n",
    "w_opt = SX.sym(\"w\", 1)\n",
    "mtimes(vertcat(-SX.zeros(10)[1 - 1 : 1], SX.zeros(10)[1:1]), w_opt)"
   ]
  },
  {
   "cell_type": "code",
   "execution_count": 9,
   "metadata": {},
   "outputs": [
    {
     "data": {
      "text/plain": [
       "SX(1x0)"
      ]
     },
     "execution_count": 9,
     "metadata": {},
     "output_type": "execute_result"
    }
   ],
   "source": [
    "vertcat(-SX.zeros(10)[1:1], SX.zeros(10)[1:1]).T"
   ]
  },
  {
   "cell_type": "code",
   "execution_count": 10,
   "metadata": {},
   "outputs": [
    {
     "data": {
      "text/plain": [
       "SX(0x1)"
      ]
     },
     "execution_count": 10,
     "metadata": {},
     "output_type": "execute_result"
    }
   ],
   "source": [
    "SX.zeros(10)[1:1]"
   ]
  },
  {
   "cell_type": "code",
   "execution_count": 11,
   "metadata": {},
   "outputs": [
    {
     "data": {
      "text/plain": [
       "array([], dtype=int64)"
      ]
     },
     "execution_count": 11,
     "metadata": {},
     "output_type": "execute_result"
    }
   ],
   "source": [
    "np.hstack((np.array(range(3))[1:1][::-1], np.array(range(3))[1:1][::-1]))"
   ]
  },
  {
   "cell_type": "code",
   "execution_count": 12,
   "metadata": {},
   "outputs": [
    {
     "data": {
      "text/plain": [
       "SX(0x0)"
      ]
     },
     "execution_count": 12,
     "metadata": {},
     "output_type": "execute_result"
    }
   ],
   "source": [
    "SX()"
   ]
  },
  {
   "cell_type": "code",
   "execution_count": 13,
   "metadata": {},
   "outputs": [
    {
     "data": {
      "text/plain": [
       "array([0, 1, 2, 3, 4, 5, 6, 7, 8, 9])"
      ]
     },
     "execution_count": 13,
     "metadata": {},
     "output_type": "execute_result"
    }
   ],
   "source": [
    "np.arange(10)"
   ]
  },
  {
   "cell_type": "code",
   "execution_count": 14,
   "metadata": {},
   "outputs": [
    {
     "data": {
      "text/plain": [
       "array([6, 7])"
      ]
     },
     "execution_count": 14,
     "metadata": {},
     "output_type": "execute_result"
    }
   ],
   "source": [
    "np.arange(10)[-4:-2]"
   ]
  },
  {
   "cell_type": "code",
   "execution_count": 29,
   "metadata": {},
   "outputs": [
    {
     "data": {
      "text/plain": [
       "4"
      ]
     },
     "execution_count": 29,
     "metadata": {},
     "output_type": "execute_result"
    }
   ],
   "source": [
    "vertcat(SX.sym(\"w\", 2), SX.sym(\"b\", 2), SX.sym(\"c\", 0)).size()[0]"
   ]
  },
  {
   "cell_type": "code",
   "execution_count": 25,
   "metadata": {},
   "outputs": [
    {
     "data": {
      "text/plain": [
       "DM([-inf, -inf, -inf, -inf, -inf, -inf, -inf, -inf, -inf, -inf])"
      ]
     },
     "execution_count": 25,
     "metadata": {},
     "output_type": "execute_result"
    }
   ],
   "source": [
    "-DM.inf(10)"
   ]
  },
  {
   "cell_type": "code",
   "execution_count": 49,
   "metadata": {},
   "outputs": [
    {
     "data": {
      "text/plain": [
       "SX([w_0, w_1, b_0, b_1])"
      ]
     },
     "execution_count": 49,
     "metadata": {},
     "output_type": "execute_result"
    }
   ],
   "source": [
    "from casadi import vertcat\n",
    "\n",
    "vertcat(SX.sym(\"w\", 2), SX.sym(\"b\", 2), SX.zeros(0), SX())"
   ]
  },
  {
   "cell_type": "code",
   "execution_count": 47,
   "metadata": {},
   "outputs": [
    {
     "data": {
      "text/plain": [
       "(SX(0), SX(0x1), SX(0x0))"
      ]
     },
     "execution_count": 47,
     "metadata": {},
     "output_type": "execute_result"
    }
   ],
   "source": [
    "SX.zeros(), SX.sym(\"x\", 0), SX()"
   ]
  },
  {
   "cell_type": "code",
   "execution_count": 57,
   "metadata": {},
   "outputs": [
    {
     "data": {
      "text/plain": [
       "casadi.casadi.SX"
      ]
     },
     "execution_count": 57,
     "metadata": {},
     "output_type": "execute_result"
    }
   ],
   "source": [
    "type(SX.sym(\"x\", 0))"
   ]
  },
  {
   "cell_type": "code",
   "execution_count": 56,
   "metadata": {},
   "outputs": [
    {
     "data": {
      "text/plain": [
       "SX([0, 1, 2, 3, 4])"
      ]
     },
     "execution_count": 56,
     "metadata": {},
     "output_type": "execute_result"
    }
   ],
   "source": [
    "import numpy as np\n",
    "\n",
    "SX(np.arange(5))"
   ]
  },
  {
   "cell_type": "code",
   "execution_count": 64,
   "metadata": {},
   "outputs": [
    {
     "data": {
      "text/plain": [
       "SX(0x1)"
      ]
     },
     "execution_count": 64,
     "metadata": {},
     "output_type": "execute_result"
    }
   ],
   "source": [
    "SX.sym(\"a\", 0)"
   ]
  },
  {
   "cell_type": "code",
   "execution_count": 65,
   "metadata": {},
   "outputs": [
    {
     "data": {
      "text/plain": [
       "SX(0x0)"
      ]
     },
     "execution_count": 65,
     "metadata": {},
     "output_type": "execute_result"
    }
   ],
   "source": [
    "SX().T"
   ]
  },
  {
   "cell_type": "code",
   "execution_count": 71,
   "metadata": {},
   "outputs": [
    {
     "data": {
      "text/plain": [
       "SX(0x1)"
      ]
     },
     "execution_count": 71,
     "metadata": {},
     "output_type": "execute_result"
    }
   ],
   "source": [
    "mtimes(SX().T, SX.sym(\"a\", 0))"
   ]
  },
  {
   "cell_type": "code",
   "execution_count": 60,
   "metadata": {},
   "outputs": [
    {
     "data": {
      "text/plain": [
       "(SX(0x0), SX(0x0))"
      ]
     },
     "execution_count": 60,
     "metadata": {},
     "output_type": "execute_result"
    }
   ],
   "source": [
    "SX(), vertcat(SX())"
   ]
  },
  {
   "cell_type": "markdown",
   "metadata": {},
   "source": [
    "# Issue"
   ]
  },
  {
   "cell_type": "markdown",
   "metadata": {},
   "source": [
    "## Consistency with numpy slicer"
   ]
  },
  {
   "cell_type": "code",
   "execution_count": 32,
   "metadata": {},
   "outputs": [
    {
     "data": {
      "text/plain": [
       "array([], dtype=float64)"
      ]
     },
     "execution_count": 32,
     "metadata": {},
     "output_type": "execute_result"
    }
   ],
   "source": [
    "import numpy as np\n",
    "\n",
    "np.zeros(0)[100:100]"
   ]
  },
  {
   "cell_type": "code",
   "execution_count": 33,
   "metadata": {},
   "outputs": [
    {
     "ename": "RuntimeError",
     "evalue": ".../casadi/core/slice.cpp:82: Assertion \"stop<=len\" failed:\nSlice (start=100, stop=100, step=1) out of bounds with supplied length of 0",
     "output_type": "error",
     "traceback": [
      "\u001b[31m---------------------------------------------------------------------------\u001b[39m",
      "\u001b[31mRuntimeError\u001b[39m                              Traceback (most recent call last)",
      "\u001b[32m/var/folders/r5/m56sdg656cj3mp06q32vtxrw0000gn/T/ipykernel_43793/119149468.py\u001b[39m in \u001b[36m?\u001b[39m\u001b[34m()\u001b[39m\n\u001b[32m----> \u001b[39m\u001b[32m1\u001b[39m SX.sym(\u001b[33m\"Ww\"\u001b[39m, \u001b[32m0\u001b[39m)[\u001b[32m100\u001b[39m:\u001b[32m100\u001b[39m]\n",
      "\u001b[32m~/pyprojects/SIPPY/.venv/lib/python3.12/site-packages/casadi/casadi.py\u001b[39m in \u001b[36m?\u001b[39m\u001b[34m(self, s)\u001b[39m\n\u001b[32m  13619\u001b[39m     \u001b[38;5;28;01mdef\u001b[39;00m __getitem__(self, s):\n\u001b[32m  13620\u001b[39m           \u001b[38;5;28;01mif\u001b[39;00m isinstance(s, tuple) \u001b[38;5;28;01mand\u001b[39;00m len(s)==\u001b[32m2\u001b[39m:\n\u001b[32m  13621\u001b[39m             \u001b[38;5;28;01mif\u001b[39;00m s[\u001b[32m1\u001b[39m] \u001b[38;5;28;01mis\u001b[39;00m \u001b[38;5;28;01mNone\u001b[39;00m: \u001b[38;5;28;01mraise\u001b[39;00m TypeError(\u001b[33m\"Cannot slice with None\"\u001b[39m)\n\u001b[32m  13622\u001b[39m             \u001b[38;5;28;01mreturn\u001b[39;00m self.get(\u001b[38;5;28;01mFalse\u001b[39;00m, s[\u001b[32m0\u001b[39m], s[\u001b[32m1\u001b[39m])\n\u001b[32m> \u001b[39m\u001b[32m13623\u001b[39m           \u001b[38;5;28;01mreturn\u001b[39;00m self.get(\u001b[38;5;28;01mFalse\u001b[39;00m, s)\n",
      "\u001b[32m~/pyprojects/SIPPY/.venv/lib/python3.12/site-packages/casadi/casadi.py\u001b[39m in \u001b[36m?\u001b[39m\u001b[34m(self, *args)\u001b[39m\n\u001b[32m  11938\u001b[39m \n\u001b[32m  11939\u001b[39m \n\u001b[32m  11940\u001b[39m \n\u001b[32m  11941\u001b[39m         \"\"\"\n\u001b[32m> \u001b[39m\u001b[32m11942\u001b[39m         \u001b[38;5;28;01mreturn\u001b[39;00m _casadi.SX_get(self, *args)\n",
      "\u001b[31mRuntimeError\u001b[39m: .../casadi/core/slice.cpp:82: Assertion \"stop<=len\" failed:\nSlice (start=100, stop=100, step=1) out of bounds with supplied length of 0"
     ]
    }
   ],
   "source": [
    "SX.sym(\"Ww\", 0)[100:100]"
   ]
  },
  {
   "cell_type": "markdown",
   "metadata": {},
   "source": [
    "## Unexpected behavior with zeros in vertcat"
   ]
  },
  {
   "cell_type": "code",
   "execution_count": 45,
   "metadata": {},
   "outputs": [
    {
     "data": {
      "text/plain": [
       "SX([a, 0])"
      ]
     },
     "execution_count": 45,
     "metadata": {},
     "output_type": "execute_result"
    }
   ],
   "source": [
    "vertcat(SX.zeros(0), SX.sym(\"a\", 1), SX.zeros())"
   ]
  },
  {
   "cell_type": "markdown",
   "metadata": {},
   "source": [
    "## Incorrect type hints"
   ]
  },
  {
   "cell_type": "code",
   "execution_count": 58,
   "metadata": {},
   "outputs": [
    {
     "data": {
      "text/plain": [
       "casadi.casadi.SX"
      ]
     },
     "execution_count": 58,
     "metadata": {},
     "output_type": "execute_result"
    }
   ],
   "source": [
    "type(\n",
    "    vertcat(SX.zeros(0), SX.sym(\"a\", 1), SX.zeros())\n",
    ")  # Suggests -> (DM | Unknown)"
   ]
  },
  {
   "cell_type": "code",
   "execution_count": null,
   "metadata": {},
   "outputs": [],
   "source": [
    "SX.sym(\"x\", 0)  # Suggests *args: SX"
   ]
  },
  {
   "cell_type": "markdown",
   "metadata": {},
   "source": [
    "## WTF shape is (0,1)"
   ]
  },
  {
   "cell_type": "code",
   "execution_count": 81,
   "metadata": {},
   "outputs": [
    {
     "data": {
      "text/plain": [
       "SX(0x1)"
      ]
     },
     "execution_count": 81,
     "metadata": {},
     "output_type": "execute_result"
    }
   ],
   "source": [
    "mtimes(SX().T, SX.sym(\"a\", 0))"
   ]
  },
  {
   "cell_type": "markdown",
   "metadata": {},
   "source": [
    "## How to set allow_free?"
   ]
  }
 ],
 "metadata": {
  "kernelspec": {
   "display_name": ".venv",
   "language": "python",
   "name": "python3"
  },
  "language_info": {
   "codemirror_mode": {
    "name": "ipython",
    "version": 3
   },
   "file_extension": ".py",
   "mimetype": "text/x-python",
   "name": "python",
   "nbconvert_exporter": "python",
   "pygments_lexer": "ipython3",
   "version": "3.12.10"
  }
 },
 "nbformat": 4,
 "nbformat_minor": 2
}
