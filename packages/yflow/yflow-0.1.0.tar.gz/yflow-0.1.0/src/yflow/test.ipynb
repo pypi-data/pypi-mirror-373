{
 "cells": [
  {
   "cell_type": "code",
   "execution_count": 1,
   "id": "dd7715f9",
   "metadata": {},
   "outputs": [
    {
     "name": "stdout",
     "output_type": "stream",
     "text": [
      "ReplaceValues(function='replace_values_in_column', input_cols='name', replace_values={}, default_col=None)\n"
     ]
    }
   ],
   "source": [
    "from dataclasses import dataclass, field, asdict\n",
    "from typing import Dict, Optional\n",
    "\n",
    "@dataclass(kw_only=True)\n",
    "class TransformationConfig:\n",
    "    function: str\n",
    "    input_cols: Dict[str, str] | str\n",
    "\n",
    "@dataclass(kw_only=True)\n",
    "class ReplaceValues(TransformationConfig):\n",
    "    replace_values: Dict[str, str] = field(default_factory=dict)\n",
    "    default_col: Optional[bool] = None\n",
    "\n",
    "\n",
    "r = ReplaceValues(function=\"replace_values_in_column\", input_cols=\"name\")\n",
    "print(r)  "
   ]
  }
 ],
 "metadata": {
  "kernelspec": {
   "display_name": "venv",
   "language": "python",
   "name": "python3"
  },
  "language_info": {
   "codemirror_mode": {
    "name": "ipython",
    "version": 3
   },
   "file_extension": ".py",
   "mimetype": "text/x-python",
   "name": "python",
   "nbconvert_exporter": "python",
   "pygments_lexer": "ipython3",
   "version": "3.12.9"
  }
 },
 "nbformat": 4,
 "nbformat_minor": 5
}
