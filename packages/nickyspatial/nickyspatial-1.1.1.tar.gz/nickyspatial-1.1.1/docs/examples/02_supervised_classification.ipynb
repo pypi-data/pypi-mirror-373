{
 "cells": [
  {
   "cell_type": "markdown",
   "metadata": {},
   "source": [
    "# Supervised Classification Workflow Example\n",
    "\n",
    "[![Open In Colab](https://colab.research.google.com/assets/colab-badge.svg)](https://colab.research.google.com/github/kshitijrajsharma/nickyspatial/blob/refs/heads/master/docs/examples/02_supervised_classification.ipynb)\n",
    "\n",
    "[![Binder](https://mybinder.org/badge_logo.svg)](https://mybinder.org/v2/gh/kshitijrajsharma/nickyspatial/master?urlpath=%2Fdoc%2Ftree%2Fdocs%2Fexamples%2F02_supervised_classification.ipynb)\n",
    "\n",
    "This example explains how to perform supervised classification."
   ]
  },
  {
   "cell_type": "markdown",
   "metadata": {},
   "source": []
  },
  {
   "cell_type": "markdown",
   "metadata": {},
   "source": [
    "## Setup & Imports\n",
    "\n",
    "We begin by importing the required modules and setting up the environment. & Download the sample quickbird satellite image for our module"
   ]
  },
  {
   "cell_type": "code",
   "execution_count": null,
   "metadata": {},
   "outputs": [],
   "source": [
    "! pip install nickyspatial"
   ]
  },
  {
   "cell_type": "markdown",
   "metadata": {},
   "source": [
    "## Summary\n",
    "\n",
    "In this notebook we will perform following steps\n",
    "- Load a sample raster image.\n",
    "- Perform segmentation on the raster.\n",
    "- Add NDVI feature.\n",
    "- Define classes and sample collection\n",
    "- Apply supervised classification using Random Forest Classifier\n",
    "- Explore additional funtions: Merge_regions, Enclosed_by, Touched_by"
   ]
  },
  {
   "cell_type": "code",
   "execution_count": null,
   "metadata": {},
   "outputs": [],
   "source": [
    "import os\n",
    "import requests\n",
    "import matplotlib.pyplot as plt\n",
    "import pandas as pd\n",
    "\n",
    "from nickyspatial import (\n",
    "    LayerManager,\n",
    "    SlicSegmentation,\n",
    "    RuleSet,\n",
    "    attach_ndvi,\n",
    "    attach_shape_metrics,\n",
    "    attach_spectral_indices,\n",
    "    layer_to_raster,\n",
    "    layer_to_vector,\n",
    "    plot_classification,\n",
    "    plot_sample,\n",
    "    plot_layer,\n",
    "    plot_layer_interactive,\n",
    "    read_raster,\n",
    "    plot_layer_interactive_plotly,\n",
    "    MergeRuleSet,\n",
    "    EnclosedByRuleSet,\n",
    "    TouchedByRuleSet,\n",
    "    SupervisedClassifier,\n",
    "    Layer,\n",
    ")\n",
    "\n",
    "output_dir = \"output\"\n",
    "os.makedirs(output_dir, exist_ok=True)\n",
    "\n",
    "\n",
    "data_dir = \"data\"\n",
    "os.makedirs(data_dir, exist_ok=True)\n",
    "\n",
    "raster_path = os.path.join(data_dir, \"sample.tif\")\n",
    "\n",
    "\n",
    "if not os.path.exists(raster_path):\n",
    "    url = \"https://github.com/kshitijrajsharma/nickyspatial/raw/refs/heads/master/data/sample.tif\"\n",
    "    print(f\"Downloading sample raster from {url}...\")\n",
    "    response = requests.get(url)\n",
    "    response.raise_for_status()  # Ensure the download succeeded\n",
    "    with open(raster_path, \"wb\") as f:\n",
    "        f.write(response.content)\n",
    "    print(f\"Downloaded sample raster to {raster_path}\")\n",
    "else:\n",
    "    print(f\"Using existing raster at: {raster_path}\")"
   ]
  },
  {
   "cell_type": "markdown",
   "metadata": {},
   "source": [
    "## Reading the Raster\n",
    "\n",
    "We now read the raster data and print some basic information about the image."
   ]
  },
  {
   "cell_type": "code",
   "execution_count": null,
   "metadata": {},
   "outputs": [],
   "source": [
    "image_data, transform, crs = read_raster(raster_path)\n",
    "print(f\"Image dimensions: {image_data.shape}\")\n",
    "print(f\"Coordinate system: {crs}\")"
   ]
  },
  {
   "cell_type": "markdown",
   "metadata": {},
   "source": [
    "## Performing Segmentation\n",
    "\n",
    "Here we perform multi-resolution segmentation. A `LayerManager` is used to keep track of all layers created in the process. nickyspatial packages uses a layer object which is an underlying vector segmentation tied up to the raster , similar concept as layer in ecognition"
   ]
  },
  {
   "cell_type": "code",
   "execution_count": null,
   "metadata": {},
   "outputs": [],
   "source": [
    "manager = LayerManager()\n",
    "\n",
    "segmenter = SlicSegmentation(scale=20, compactness=0.50)\n",
    "segmentation_layer = segmenter.execute(\n",
    "    image_data,\n",
    "    transform,\n",
    "    crs,\n",
    "    layer_manager=manager,\n",
    "    layer_name=\"Base_Segmentation\",\n",
    ")\n",
    "\n",
    "print(\"Segmentation layer created:\")\n",
    "print(segmentation_layer)"
   ]
  },
  {
   "cell_type": "markdown",
   "metadata": {},
   "source": [
    "## Visualizing Segmentation\n",
    "\n",
    "We utilize the built-in plotting function to visualize the segmentation. The image will be displayed inline."
   ]
  },
  {
   "cell_type": "code",
   "execution_count": null,
   "metadata": {},
   "outputs": [],
   "source": [
    "# plt.close(\"all\")\n",
    "# %matplotlib inline\n",
    "fig1 = plot_layer(layer=segmentation_layer, image_data=image_data, rgb_bands=(3, 2, 1), show_boundaries=True, figsize=(10, 8))\n",
    "plt.show()\n",
    "\n",
    "fig1.savefig(os.path.join(output_dir, \"1_segmentation.png\"))"
   ]
  },
  {
   "cell_type": "markdown",
   "metadata": {},
   "source": [
    "## Adding NDVI feature"
   ]
  },
  {
   "cell_type": "code",
   "execution_count": null,
   "metadata": {},
   "outputs": [],
   "source": [
    "segmentation_layer.attach_function(\n",
    "    attach_ndvi,\n",
    "    name=\"ndvi_stats\",\n",
    "    nir_column=\"band_4_mean\",\n",
    "    red_column=\"band_3_mean\",\n",
    "    output_column=\"NDVI\",\n",
    ")\n",
    "segmentation_layer.attach_function(attach_shape_metrics, name=\"shape_metrics\")"
   ]
  },
  {
   "cell_type": "markdown",
   "metadata": {},
   "source": [
    "## Sample data collection\n",
    "\n",
    "Using plotly package, interactive map is plotted to collect the segments_id(sample) for supervised classification.\n",
    "\n",
    "Just Hover the mouse in the map, segment_id will be displayed.\n",
    "\n"
   ]
  },
  {
   "cell_type": "code",
   "execution_count": null,
   "metadata": {},
   "outputs": [],
   "source": [
    "plot_layer_interactive_plotly(segmentation_layer, image_data, rgb_bands=(3, 2, 1), show_boundaries=True, figsize=(900, 600))"
   ]
  },
  {
   "cell_type": "code",
   "execution_count": null,
   "metadata": {},
   "outputs": [],
   "source": [
    "# Sample Data for Classification\n",
    "# This section defines the sample data used for classification.\n",
    "# Each class is assigned with a list of segment IDs and a specific color for visualization.\n",
    "samples = {\n",
    "    \"Water\": [102, 384, 659, 1142, 1662, 1710, 2113, 2182, 2481, 1024],\n",
    "    \"Builtup\": [467, 1102, 1431, 1984, 1227, 1736, 774, 1065],\n",
    "    \"Vegetation\": [832, 1778, 2035, 1417, 1263, 242, 2049, 2397],\n",
    "}\n",
    "\n",
    "classes_color = {\"Water\": \"#3437c2\", \"Builtup\": \"#de1421\", \"Vegetation\": \"#0f6b2f\"}"
   ]
  },
  {
   "cell_type": "markdown",
   "metadata": {},
   "source": [
    "## Sample Data Visualization\n",
    "\n",
    "In this steps, defined sample segment is visualized."
   ]
  },
  {
   "cell_type": "code",
   "execution_count": null,
   "metadata": {},
   "outputs": [],
   "source": [
    "sample_objects = segmentation_layer.objects.copy()\n",
    "sample_objects[\"classification\"] = None\n",
    "\n",
    "for class_name in samples.keys():\n",
    "    sample_objects.loc[sample_objects[\"segment_id\"].isin(samples[class_name]), \"classification\"] = class_name\n",
    "\n",
    "# Step 3: Wrap the modified GeoDataFrame back into a Layer\n",
    "sample_layer = Layer(name=\"Sample Classification\", type=\"classification\")\n",
    "sample_layer.objects = sample_objects\n",
    "\n",
    "fig = plot_sample(\n",
    "    sample_layer,\n",
    "    image_data=image_data,\n",
    "    rgb_bands=(3, 2, 1),\n",
    "    transform=transform,\n",
    "    class_field=\"classification\",\n",
    "    class_color=classes_color,\n",
    "    figsize=(10, 8),\n",
    ")\n",
    "plt.show()"
   ]
  },
  {
   "cell_type": "code",
   "execution_count": null,
   "metadata": {},
   "outputs": [],
   "source": [
    "# To get the columns/features name if the segmenatation layer.\n",
    "# This is useful to define the features list in the following supervised classification task\n",
    "segmentation_layer.objects.columns"
   ]
  },
  {
   "cell_type": "markdown",
   "metadata": {},
   "source": [
    "## Supervised Classification using Random Forest Classifier\n",
    "\n",
    "In this step, we will define and execute the supervised classification."
   ]
  },
  {
   "cell_type": "code",
   "execution_count": null,
   "metadata": {},
   "outputs": [],
   "source": [
    "# Parameters for defining Random Forest Classifier\n",
    "# Source: https://scikit-learn.org/stable/modules/generated/sklearn.ensemble.RandomForestClassifier.html\n",
    "params = {\n",
    "    \"n_estimators\": 100,\n",
    "    \"oob_score\": True,\n",
    "    \"random_state\": 42,\n",
    "}\n",
    "# Define features based on which classifier performs the classification\n",
    "features = [\n",
    "    \"band_1_mean\",\n",
    "    \"band_1_std\",\n",
    "    \"band_2_mean\",\n",
    "    \"band_2_std\",\n",
    "    \"band_3_mean\",\n",
    "    \"band_3_std\",\n",
    "    \"band_4_mean\",\n",
    "    \"band_4_std\",\n",
    "    \"NDVI\",\n",
    "]\n",
    "\n",
    "# Define supervised classifier and execute it\n",
    "RF_classification = SupervisedClassifier(name=\"RF Classification\", classifier_type=\"Random Forest\", classifier_params=params)\n",
    "RF_classification_layer, accuracy, feature_importances = RF_classification.execute(\n",
    "    segmentation_layer, samples=samples, layer_manager=manager, layer_name=\"RF Classification\", features=features\n",
    ")\n",
    "print(\"OOB SCORE\", accuracy)\n",
    "\n",
    "# Plot classification result\n",
    "fig4 = plot_classification(RF_classification_layer, class_field=\"classification\", class_color=classes_color, figsize=(10, 8))\n",
    "\n",
    "# Plot feature importance graph\n",
    "ig, ax = plt.subplots(figsize=(6, 4))\n",
    "feature_importances.plot.bar(ax=ax)\n",
    "ax.set_title(\"Importances\")\n",
    "ax.set_xlabel(\"Features\")\n",
    "ax.set_ylabel(\"Importance (%)\")\n",
    "plt.tight_layout()\n",
    "plt.show()"
   ]
  },
  {
   "cell_type": "markdown",
   "metadata": {},
   "source": [
    "## Applying merge rule\n",
    "In this step we will further refine the classification. \n",
    "In this example, we will merge region based on class value i.e. merge adjacent segments if they share the same class label."
   ]
  },
  {
   "cell_type": "code",
   "execution_count": null,
   "metadata": {},
   "outputs": [],
   "source": [
    "merger = MergeRuleSet(\"Merge Segmentation\")\n",
    "class_value = [\"Water\", \"Vegetation\"]\n",
    "merged_layer = merger.execute(\n",
    "    source_layer=RF_classification_layer,\n",
    "    class_column_name=\"classification\",\n",
    "    class_value=class_value,\n",
    "    layer_manager=manager,\n",
    "    layer_name=\"Merged RF Classification\",\n",
    ")\n",
    "fig4 = plot_classification(merged_layer, class_field=\"classification\", class_color=classes_color, figsize=(10, 8))"
   ]
  },
  {
   "cell_type": "markdown",
   "metadata": {},
   "source": [
    "## Applying Enclosed_by rule\n",
    "This rule is also applied based on class label. This function determine whether a object/segment is completely contained/surrounded within/by another object or class and return the updated layer.\n",
    "\n",
    "This function is very helpful in applying the context-aware rules in classification.\n",
    "\n",
    "In this example, we define the new class \"Urban Vegetation\" if \"Vegetation\" is enclosed by \"Builtup\".\n"
   ]
  },
  {
   "cell_type": "code",
   "execution_count": null,
   "metadata": {},
   "outputs": [],
   "source": [
    "enclosed_by_rule = EnclosedByRuleSet()\n",
    "enclosed_by_layer = enclosed_by_rule.execute(\n",
    "    source_layer=merged_layer,\n",
    "    class_column_name=\"classification\",\n",
    "    class_value_a=\"Vegetation\",\n",
    "    class_value_b=\"Builtup\",\n",
    "    new_class_name=\"Urban Vegetation\",\n",
    "    layer_manager=manager,\n",
    "    layer_name=\"enclosed_by_layer\",\n",
    ")\n",
    "classes_color[\"Urban Vegetation\"] = \"#84f547\"\n",
    "fig4 = plot_classification(enclosed_by_layer, class_field=\"classification\", class_color=classes_color)"
   ]
  },
  {
   "cell_type": "markdown",
   "metadata": {},
   "source": [
    "## Applying Touched_by rule\n",
    "This rule is also applied based on class labels. This determines whether an object/segment is in direct contact with another object or class — that is, they share a boundary.\n",
    "\n",
    "This function is very useful in implementing context-aware rules in classification, especially when spatial relationships between features matter.\n",
    "\n",
    "In this example, we define a new class \"Builtup near WaterBodies\" if \"Builtup\" is touchedBy \"Water\".\n"
   ]
  },
  {
   "cell_type": "code",
   "execution_count": null,
   "metadata": {},
   "outputs": [],
   "source": [
    "touched_by_rule = TouchedByRuleSet()\n",
    "touched_by_layer = touched_by_rule.execute(\n",
    "    source_layer=enclosed_by_layer,\n",
    "    class_column_name=\"classification\",\n",
    "    class_value_a=\"Builtup\",\n",
    "    class_value_b=\"Water\",\n",
    "    new_class_name=\"Builtup near WaterBodies\",\n",
    "    layer_manager=manager,\n",
    "    layer_name=\"touched_by_layer\",\n",
    ")\n",
    "classes_color[\"Builtup near WaterBodies\"] = \"#1df0e2\"\n",
    "fig4 = plot_classification(touched_by_layer, class_field=\"classification\", class_color=classes_color)"
   ]
  },
  {
   "cell_type": "code",
   "execution_count": null,
   "metadata": {},
   "outputs": [],
   "source": [
    "# Applying merge rule to generate the final merged segments\n",
    "merge_rule = MergeRuleSet(\"MergeByVegAndType\")\n",
    "merged_layer2 = merger.execute(\n",
    "    source_layer=touched_by_layer,\n",
    "    class_column_name=\"classification\",\n",
    "    class_value=[\"Builtup near WaterBodies\", \"Builtup\"],\n",
    "    layer_manager=manager,\n",
    "    layer_name=\"Merged RF Classification 2\",\n",
    ")\n",
    "fig4 = plot_classification(merged_layer2, class_field=\"classification\", class_color=classes_color)"
   ]
  }
 ],
 "metadata": {
  "kernelspec": {
   "display_name": "nickyspatial",
   "language": "python",
   "name": "python3"
  },
  "language_info": {
   "codemirror_mode": {
    "name": "ipython",
    "version": 3
   },
   "file_extension": ".py",
   "mimetype": "text/x-python",
   "name": "python",
   "nbconvert_exporter": "python",
   "pygments_lexer": "ipython3",
   "version": "3.12.2"
  }
 },
 "nbformat": 4,
 "nbformat_minor": 2
}
