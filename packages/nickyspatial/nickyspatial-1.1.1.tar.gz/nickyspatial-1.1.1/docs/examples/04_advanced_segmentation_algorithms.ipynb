{
 "cells": [
  {
   "cell_type": "markdown",
   "metadata": {},
   "source": [
    "# Segmentation Algorithms & Supervised Classification\n",
    "\n",
    "\n",
    "\n",
    "[![Open In Colab](https://colab.research.google.com/assets/colab-badge.svg)](https://colab.research.google.com/github/kshitijrajsharma/nickyspatial/blob/refs/heads/master/docs/examples/supervised_classification.ipynb)\n",
    "\n",
    "\n",
    "[![Binder](https://mybinder.org/badge_logo.svg)](https://mybinder.org/v2/gh/kshitijrajsharma/nickyspatial/master?urlpath=%2Fdoc%2Ftree%2Fdocs%2Fexamples%2Fsupervised_classification.ipynb)\n",
    "\n",
    "This example explains how to use the segmentation algorithms and later on apply different methods of supervised classification."
   ]
  },
  {
   "cell_type": "markdown",
   "metadata": {},
   "source": [
    "## Setup & Imports\n",
    "\n",
    "We begin by importing the required modules and setting up the environment.\n",
    " - Download the image sample from quickbird satellite image for our module"
   ]
  },
  {
   "cell_type": "code",
   "execution_count": null,
   "metadata": {},
   "outputs": [],
   "source": [
    "import os\n",
    "import requests\n",
    "import matplotlib.pyplot as plt\n",
    "import pandas as pd\n",
    "\n",
    "from nickyspatial.core.segmentation import (\n",
    "    SlicSegmentation,\n",
    "    FelzenszwalbSegmentation,\n",
    "    WatershedSegmentation,\n",
    "    RegularGridSegmentation,\n",
    ")\n",
    "\n",
    "from nickyspatial import SpectralIndexCalculator, get_available_indices, add_custom_index, attach_spectral_index\n",
    "\n",
    "# Now import everything from your local version\n",
    "from nickyspatial import (\n",
    "    LayerManager,\n",
    "    SlicSegmentation,\n",
    "    RuleSet,\n",
    "    attach_ndvi,\n",
    "    attach_shape_metrics,\n",
    "    attach_spectral_indices,\n",
    "    layer_to_raster,\n",
    "    layer_to_vector,\n",
    "    plot_classification,\n",
    "    plot_sample,\n",
    "    plot_layer,\n",
    "    plot_layer_interactive,\n",
    "    read_raster,\n",
    "    plot_layer_interactive_plotly,\n",
    "    MergeRuleSet,\n",
    "    EnclosedByRuleSet,\n",
    "    TouchedByRuleSet,\n",
    "    SupervisedClassifier,\n",
    "    Layer,\n",
    ")\n",
    "\n",
    "\n",
    "import inspect\n",
    "\n",
    "print(\"LayerManager from:\", inspect.getfile(LayerManager))\n",
    "print(\"SupervisedClassifier from:\", inspect.getfile(SupervisedClassifier))\n",
    "print(\"SpectralIndexCalculator from:\", inspect.getfile(SpectralIndexCalculator))"
   ]
  },
  {
   "cell_type": "markdown",
   "metadata": {},
   "source": [
    "## Summary\n",
    "\n",
    "In this notebook we will perform following steps\n",
    "- Load a sample raster image.\n",
    "- Perform different segmentation algorithms on the raster.\n",
    "- Add NDVI feature.\n",
    "- Add NDWI.\n",
    "- Define classes and sample collection\n",
    "- Apply supervised classification using Support Vector Classifier\n",
    "- Explore additional funtions: Merge_regions, Enclosed_by, Touched_by"
   ]
  },
  {
   "cell_type": "code",
   "execution_count": null,
   "metadata": {},
   "outputs": [],
   "source": [
    "output_dir = \"output\"\n",
    "os.makedirs(output_dir, exist_ok=True)\n",
    "\n",
    "\n",
    "data_dir = \"data\"\n",
    "os.makedirs(data_dir, exist_ok=True)\n",
    "\n",
    "raster_path = os.path.join(data_dir, \"sample.tif\")\n",
    "\n",
    "\n",
    "if not os.path.exists(raster_path):\n",
    "    url = \"https://github.com/kshitijrajsharma/nickyspatial/raw/refs/heads/master/data/sample.tif\"\n",
    "    print(f\"Downloading sample raster from {url}...\")\n",
    "    response = requests.get(url)\n",
    "    response.raise_for_status()  # Ensure the download succeeded\n",
    "    with open(raster_path, \"wb\") as f:\n",
    "        f.write(response.content)\n",
    "    print(f\"Downloaded sample raster to {raster_path}\")\n",
    "else:\n",
    "    print(f\"Using existing raster at: {raster_path}\")"
   ]
  },
  {
   "cell_type": "markdown",
   "metadata": {},
   "source": [
    "## Reading the Raster\n",
    "\n",
    "We now read the raster data and print some basic information about the image."
   ]
  },
  {
   "cell_type": "code",
   "execution_count": null,
   "metadata": {},
   "outputs": [],
   "source": [
    "image_data, transform, crs = read_raster(raster_path)\n",
    "print(f\"Image dimensions: {image_data.shape}\")\n",
    "print(f\"Coordinate system: {crs}\")"
   ]
  },
  {
   "cell_type": "code",
   "execution_count": null,
   "metadata": {},
   "outputs": [],
   "source": [
    "import matplotlib.pyplot as plt\n",
    "import numpy as np\n",
    "\n",
    "# Set up the figure with 4 subplots (one for each channel)\n",
    "fig, axes = plt.subplots(2, 2, figsize=(15, 10))\n",
    "fig.suptitle(\"Distribution of Channel Values\", fontsize=16)\n",
    "\n",
    "# Channel names\n",
    "channel_names = [\"Blue\", \"Green\", \"Red\", \"NIR\"]\n",
    "colors = [\"blue\", \"green\", \"red\", \"purple\"]\n",
    "\n",
    "# Plot histogram for each channel\n",
    "for idx, (ax, name, color) in enumerate(zip(axes.flat, channel_names, colors)):\n",
    "    # Create histogram\n",
    "    ax.hist(image_data[idx].flatten(), bins=50, color=color, alpha=0.7)\n",
    "    ax.set_title(f\"{name} Channel Distribution\")\n",
    "    ax.set_xlabel(\"Pixel Value\")\n",
    "    ax.set_ylabel(\"Frequency\")\n",
    "\n",
    "    # Add mean and std annotations\n",
    "    mean_val = np.mean(image_data[idx])\n",
    "    std_val = np.std(image_data[idx])\n",
    "    ax.axvline(mean_val, color=\"k\", linestyle=\"dashed\", linewidth=1)\n",
    "    ax.text(0.02, 0.98, f\"Mean: {mean_val:.2f}\\nStd: {std_val:.2f}\", transform=ax.transAxes, verticalalignment=\"top\")\n",
    "\n",
    "plt.tight_layout()\n",
    "plt.show()\n",
    "\n",
    "# Print basic statistics\n",
    "for idx, name in enumerate(channel_names):\n",
    "    print(f\"\\n{name} Channel Statistics:\")\n",
    "    print(f\"Min: {np.min(image_data[idx]):.2f}\")\n",
    "    print(f\"Max: {np.max(image_data[idx]):.2f}\")\n",
    "    print(f\"Mean: {np.mean(image_data[idx]):.2f}\")\n",
    "    print(f\"Std: {np.std(image_data[idx]):.2f}\")"
   ]
  },
  {
   "cell_type": "markdown",
   "metadata": {},
   "source": [
    "## Testing different Segmentation Algorithms\n",
    "\n",
    "Here we perform different segmentation strategies with different parameters.\n",
    "A `LayerManager` is used to keep track of all layers created in the process.\n",
    "Nickyspatial packages uses a layer object which is an underlying vector segmentation tied up to the raster, similar concept as layer in ecognition\n",
    "\n",
    "Here we are performing the following algorithms:\n",
    "- Slic\n",
    "- Felzenswalb\n",
    "- RegularGrid\n",
    "- Watershed "
   ]
  },
  {
   "cell_type": "code",
   "execution_count": null,
   "metadata": {},
   "outputs": [],
   "source": [
    "manager = LayerManager()\n",
    "\n",
    "## --------------------------\n",
    "## SLIC\n",
    "segmenter = SlicSegmentation(scale=35, compactness=0.80)\n",
    "slic_segmentation_layer = segmenter.execute(\n",
    "    image_data,\n",
    "    transform,\n",
    "    crs,\n",
    "    layer_manager=manager,\n",
    "    layer_name=\"Base_Segmentation\",\n",
    ")\n",
    "\n",
    "print(\"Segmentation layer created:\")\n",
    "print(slic_segmentation_layer)\n",
    "\n",
    "## -------------------\n",
    "## Felzenswalb\n",
    "segmenter = FelzenszwalbSegmentation(scale=75, sigma=0.5, min_size=50)\n",
    "felzenszwalb_segmentation_layer = segmenter.execute(\n",
    "    image_data,\n",
    "    transform,\n",
    "    crs,\n",
    "    layer_manager=manager,\n",
    "    layer_name=\"Felzenszwalb_Segmentation\",\n",
    ")\n",
    "\n",
    "print(\"Felzenszwalb segmentation layer created:\")\n",
    "print(felzenszwalb_segmentation_layer)\n",
    "\n",
    "## -------------------\n",
    "## Regular Grid\n",
    "segmenter = RegularGridSegmentation(grid_size=(50, 50), overlap=0, boundary_handling=\"pad\")\n",
    "grid_layer = segmenter.execute(image_data, transform, crs, layer_manager=manager, layer_name=\"Regular_Grid_50x50\")\n",
    "print(\"Regular grid segmentation layer created:\")\n",
    "print(grid_layer)"
   ]
  },
  {
   "cell_type": "markdown",
   "metadata": {},
   "source": [
    "### Visualizing"
   ]
  },
  {
   "cell_type": "code",
   "execution_count": null,
   "metadata": {},
   "outputs": [],
   "source": [
    "manager.get_layer_names()"
   ]
  },
  {
   "cell_type": "code",
   "execution_count": null,
   "metadata": {},
   "outputs": [],
   "source": [
    "fig1 = plot_layer(\n",
    "    layer=slic_segmentation_layer,\n",
    "    image_data=image_data,\n",
    "    rgb_bands=(3, 2, 1),\n",
    "    title=\"Slic Segmentation\",\n",
    "    show_boundaries=True,\n",
    "    figsize=(10, 8),\n",
    ")\n",
    "\n",
    "\n",
    "fig2 = plot_layer(\n",
    "    layer=felzenszwalb_segmentation_layer,\n",
    "    image_data=image_data,\n",
    "    rgb_bands=(3, 2, 1),\n",
    "    title=\"Felzenszwalb Segmentation\",\n",
    "    show_boundaries=True,\n",
    "    figsize=(10, 8),\n",
    ")\n",
    "\n",
    "\n",
    "fig3 = plot_layer(\n",
    "    layer=grid_layer,\n",
    "    image_data=image_data,\n",
    "    rgb_bands=(3, 2, 1),\n",
    "    title=\"Regular Grid Segmentation\",\n",
    "    show_boundaries=True,\n",
    "    figsize=(10, 8),\n",
    ")"
   ]
  },
  {
   "cell_type": "code",
   "execution_count": null,
   "metadata": {},
   "outputs": [],
   "source": [
    "image_data.shape"
   ]
  },
  {
   "cell_type": "markdown",
   "metadata": {},
   "source": [
    "## Adding Indexes features\n",
    "\n",
    "We decided to move on with the Felzenswalb segmentation and adding different indexes features!"
   ]
  },
  {
   "cell_type": "code",
   "execution_count": null,
   "metadata": {},
   "outputs": [],
   "source": [
    "felzenszwalb_segmentation_layer.objects.columns"
   ]
  },
  {
   "cell_type": "code",
   "execution_count": null,
   "metadata": {},
   "outputs": [],
   "source": [
    "# We move forward with Felzenswalb\n",
    "segmentation_layer = felzenszwalb_segmentation_layer.copy()\n",
    "\n",
    "## METHODS to attach Indices and metrics\n",
    "\n",
    "# Attach NDVI stats at each segmented object\n",
    "segmentation_layer.attach_function(\n",
    "    attach_ndvi,\n",
    "    name=\"ndvi_stats\",\n",
    "    nir_column=\"band_4_mean\",\n",
    "    red_column=\"band_3_mean\",\n",
    "    output_column=\"NDVI\",\n",
    ")\n",
    "\n",
    "## Attach NDVI and NDWI as default indices from the function\n",
    "segmentation_layer.attach_function(\n",
    "    attach_spectral_indices,\n",
    "    name=\"spectral_indices\",\n",
    "    bands={\n",
    "        \"blue\": \"band_1_mean\",\n",
    "        \"green\": \"band_2_mean\",\n",
    "        \"red\": \"band_3_mean\",\n",
    "        \"nir\": \"band_4_mean\",\n",
    "    },\n",
    ")\n",
    "\n",
    "## Applying a custom spectral index\n",
    "segmentation_layer.attach_function(\n",
    "    attach_spectral_index,\n",
    "    name=\"custom_vegetation_index\",\n",
    "    index_name=\"GBNDVI\",  # Green-Blue Normalized Difference Vegetation Index\n",
    "    formula=\"(N-(G+B))/(N+(G+B))\",\n",
    "    bands={\"N\": \"band_4_mean\", \"R\": \"band_3_mean\", \"B\": \"band_1_mean\", \"G\": \"band_2_mean\"},\n",
    ")\n",
    "\n",
    "# Attach metrics for the objects generated by the segmentation\n",
    "segmentation_layer.attach_function(attach_shape_metrics, name=\"shape_metrics\")"
   ]
  },
  {
   "cell_type": "code",
   "execution_count": null,
   "metadata": {},
   "outputs": [],
   "source": [
    "segmentation_layer.objects.columns"
   ]
  },
  {
   "cell_type": "markdown",
   "metadata": {},
   "source": [
    "So now we are plotting the index created!"
   ]
  },
  {
   "cell_type": "code",
   "execution_count": null,
   "metadata": {},
   "outputs": [],
   "source": [
    "# Create figure and axes with 1 row and 3 columns\n",
    "\n",
    "# # NDVI plot\n",
    "plot_layer(segmentation_layer, attribute=\"NDVI\", title=\"NDVI Values\", cmap=\"RdYlGn\")\n",
    "\n",
    "# NDWI plot\n",
    "plot_layer(segmentation_layer, attribute=\"NDWI\", title=\"NDWI Values\", cmap=\"PuOr\")\n",
    "\n",
    "# GBNDVI plot\n",
    "plot_layer(segmentation_layer, attribute=\"GBNDVI\", title=\"GBNDVI Values\", cmap=\"RdYlGn\")\n",
    "\n",
    "# Adjust layout\n",
    "plt.tight_layout()\n",
    "plt.show()"
   ]
  },
  {
   "cell_type": "code",
   "execution_count": null,
   "metadata": {},
   "outputs": [],
   "source": [
    "segmentation_layer.metadata"
   ]
  },
  {
   "cell_type": "markdown",
   "metadata": {},
   "source": [
    "# Supervised Classification \n",
    "\n",
    "## SVM - Support Vector Machine"
   ]
  },
  {
   "cell_type": "markdown",
   "metadata": {},
   "source": [
    "### Sample data collection\n",
    "\n",
    "Using plotly package, interactive map is plotted to collect the segments_id(sample) for supervised classification.\n",
    "\n",
    "Just Hover the mouse in the map, segment_id will be displayed.\n",
    "\n"
   ]
  },
  {
   "cell_type": "code",
   "execution_count": null,
   "metadata": {},
   "outputs": [],
   "source": [
    "plot_layer_interactive_plotly(segmentation_layer, image_data, rgb_bands=(3, 2, 1), show_boundaries=True, figsize=(900, 600))"
   ]
  },
  {
   "cell_type": "code",
   "execution_count": null,
   "metadata": {},
   "outputs": [],
   "source": [
    "# Sample Data for Classification\n",
    "# This section defines the sample data used for classification.\n",
    "# Each class is assigned with a list of segment IDs and a specific color for visualization.\n",
    "samples = {\n",
    "    \"Water\": [1466, 858, 191, 579, 279, 205, 1370, 1646, 1160],\n",
    "    \"Builtup\": [522, 513, 423, 336, 135, 32, 209, 869, 1668],\n",
    "    \"Vegetation\": [1541, 889, 422, 361, 963],\n",
    "}\n",
    "\n",
    "classes_color = {\"Water\": \"#3437c2\", \"Builtup\": \"#de1421\", \"Vegetation\": \"#0f6b2f\"}"
   ]
  },
  {
   "cell_type": "markdown",
   "metadata": {},
   "source": [
    "### Sample Data Visualization\n",
    "\n",
    "Visualizing samples"
   ]
  },
  {
   "cell_type": "code",
   "execution_count": null,
   "metadata": {},
   "outputs": [],
   "source": [
    "sample_objects = segmentation_layer.objects.copy()\n",
    "sample_objects[\"classification\"] = None\n",
    "\n",
    "for class_name in samples.keys():\n",
    "    sample_objects.loc[sample_objects[\"segment_id\"].isin(samples[class_name]), \"classification\"] = class_name\n",
    "\n",
    "# Step 3: Wrap the modified GeoDataFrame back into a Layer\n",
    "sample_layer = Layer(name=\"Sample Classification\", type=\"classification\")\n",
    "sample_layer.objects = sample_objects\n",
    "\n",
    "fig = plot_sample(\n",
    "    sample_layer,\n",
    "    image_data=image_data,\n",
    "    rgb_bands=(3, 2, 1),\n",
    "    transform=transform,\n",
    "    class_field=\"classification\",\n",
    "    class_color=classes_color,\n",
    "    figsize=(10, 8),\n",
    ")\n",
    "plt.show()"
   ]
  },
  {
   "cell_type": "code",
   "execution_count": null,
   "metadata": {},
   "outputs": [],
   "source": [
    "# To get the columns/features name if the segmentation layer.\n",
    "# This is useful to define the features list in the following supervised classification task\n",
    "segmentation_layer.objects.columns"
   ]
  },
  {
   "cell_type": "markdown",
   "metadata": {},
   "source": [
    "## Supervised Classification - SVM \n",
    "\n",
    "In this step, we will define and execute the supervised classification."
   ]
  },
  {
   "cell_type": "code",
   "execution_count": null,
   "metadata": {},
   "outputs": [],
   "source": [
    "samples"
   ]
  },
  {
   "cell_type": "code",
   "execution_count": null,
   "metadata": {},
   "outputs": [],
   "source": [
    "params = {\"C\": 1.0, \"kernel\": \"rbf\", \"gamma\": \"scale\"}\n",
    "\n",
    "# Define features based on which classifier performs the classification\n",
    "features = [\n",
    "    \"band_1_mean\",\n",
    "    \"band_1_std\",\n",
    "    \"band_2_mean\",\n",
    "    \"band_2_std\",\n",
    "    \"band_3_mean\",\n",
    "    \"band_3_std\",\n",
    "    \"band_4_mean\",\n",
    "    \"band_4_std\",\n",
    "    \"NDVI\",\n",
    "    \"NDWI\",\n",
    "    \"GBNDVI\",\n",
    "]\n",
    "\n",
    "## Create the Supervised Classifier instance\n",
    "\n",
    "SVM_classification = SupervisedClassifier(name=\"SVM_Classification\", classifier_type=\"SVC\", classifier_params=params)\n",
    "\n",
    "SVM_classification_layer, _, _ = SVM_classification.execute(\n",
    "    source_layer=segmentation_layer, samples=samples, layer_manager=manager, features=features, layer_name=\"SVM_Classification\"\n",
    ")"
   ]
  },
  {
   "cell_type": "code",
   "execution_count": null,
   "metadata": {},
   "outputs": [],
   "source": [
    "# Plot classification result\n",
    "fig4 = plot_classification(SVM_classification_layer, class_field=\"classification\", class_color=classes_color, figsize=(10, 8))\n",
    "\n",
    "plt.show()"
   ]
  },
  {
   "cell_type": "markdown",
   "metadata": {},
   "source": [
    "### Testing different parameters"
   ]
  },
  {
   "cell_type": "markdown",
   "metadata": {},
   "source": [
    "### Kernels"
   ]
  },
  {
   "cell_type": "code",
   "execution_count": null,
   "metadata": {},
   "outputs": [],
   "source": [
    "from nickyspatial import plot_subplots_classification"
   ]
  },
  {
   "cell_type": "code",
   "execution_count": null,
   "metadata": {},
   "outputs": [],
   "source": [
    "params1 = {\"C\": 1.0, \"kernel\": \"rbf\", \"gamma\": \"scale\"}\n",
    "\n",
    "pararams2 = {\"C\": 1.0, \"kernel\": \"linear\", \"gamma\": \"scale\"}\n",
    "\n",
    "params3 = {\n",
    "    \"C\": 1.0,\n",
    "    \"kernel\": \"poly\",\n",
    "    \"degree\": 3,\n",
    "}\n",
    "\n",
    "list_params = [params1, pararams2, params3]\n",
    "\n",
    "# Define features based on which classifier performs the classification\n",
    "features = [\n",
    "    \"band_1_mean\",\n",
    "    \"band_1_std\",\n",
    "    \"band_2_mean\",\n",
    "    \"band_2_std\",\n",
    "    \"band_3_mean\",\n",
    "    \"band_3_std\",\n",
    "    \"band_4_mean\",\n",
    "    \"band_4_std\",\n",
    "    \"NDVI\",\n",
    "    \"NDWI\",\n",
    "    \"GBNDVI\",\n",
    "]\n",
    "\n",
    "list_results = []\n",
    "for params in list_params:\n",
    "    print(f\"Running classification with parameters: {params}\")\n",
    "    # Create the Supervised Classifier instance\n",
    "    SVM_classification = SupervisedClassifier(name=\"SVM_Classification\", classifier_type=\"SVC\", classifier_params=params)\n",
    "\n",
    "    SVM_classification_layer, metrics, _ = SVM_classification.execute(\n",
    "        source_layer=segmentation_layer,\n",
    "        samples=samples,\n",
    "        layer_manager=manager,\n",
    "        features=features,\n",
    "        layer_name=\"SVM_Classification\",\n",
    "    )\n",
    "\n",
    "    list_results.append(SVM_classification_layer)\n",
    "\n",
    "## FIGURE\n",
    "# Create figure and axes with 1 row and 3 columns\n",
    "fig, (ax1, ax2, ax3) = plt.subplots(1, 3, figsize=(20, 6))\n",
    "fig.suptitle(\"SVM - Kernel test\", fontsize=16)\n",
    "\n",
    "for results, _ax in zip(list_results, [ax1, ax2, ax3]):\n",
    "    # Plot classification result\n",
    "    plot_subplots_classification(\n",
    "        results,\n",
    "        class_field=\"classification\",\n",
    "        class_color=classes_color,\n",
    "        figsize=(10, 8),\n",
    "        ax=_ax,\n",
    "        title=f\"SVM params: Kernel={results.metadata['classifier_params']['kernel']}\",\n",
    "    )\n",
    "\n",
    "# Adjust layout\n",
    "plt.tight_layout()\n",
    "plt.show()"
   ]
  },
  {
   "cell_type": "markdown",
   "metadata": {},
   "source": [
    "### Parameter C\n"
   ]
  },
  {
   "cell_type": "code",
   "execution_count": null,
   "metadata": {},
   "outputs": [],
   "source": [
    "params1 = {\"C\": 10.0, \"kernel\": \"rbf\", \"gamma\": \"scale\"}\n",
    "\n",
    "pararams2 = {\"C\": 1.0, \"kernel\": \"rbf\", \"gamma\": \"scale\"}\n",
    "\n",
    "params3 = {\n",
    "    \"C\": 0.1,\n",
    "    \"kernel\": \"rbf\",\n",
    "    \"degree\": 3,\n",
    "}\n",
    "\n",
    "list_params = [params1, pararams2, params3]\n",
    "\n",
    "# Define features based on which classifier performs the classification\n",
    "features = [\n",
    "    \"band_1_mean\",\n",
    "    \"band_1_std\",\n",
    "    \"band_2_mean\",\n",
    "    \"band_2_std\",\n",
    "    \"band_3_mean\",\n",
    "    \"band_3_std\",\n",
    "    \"band_4_mean\",\n",
    "    \"band_4_std\",\n",
    "    \"NDVI\",\n",
    "    \"NDWI\",\n",
    "    \"GBNDVI\",\n",
    "]\n",
    "\n",
    "list_results = []\n",
    "for params in list_params:\n",
    "    print(f\"Running classification with parameters: {params}\")\n",
    "    # Create the Supervised Classifier instance\n",
    "    SVM_classification = SupervisedClassifier(name=\"SVM_Classification\", classifier_type=\"SVC\", classifier_params=params)\n",
    "\n",
    "    SVM_classification_layer, metrics, _ = SVM_classification.execute(\n",
    "        source_layer=segmentation_layer,\n",
    "        samples=samples,\n",
    "        layer_manager=manager,\n",
    "        features=features,\n",
    "        layer_name=\"SVM_Classification\",\n",
    "    )\n",
    "\n",
    "    list_results.append(SVM_classification_layer)\n",
    "\n",
    "## FIGURE\n",
    "# Create figure and axes with 1 row and 3 columns\n",
    "fig, (ax1, ax2, ax3) = plt.subplots(1, 3, figsize=(20, 6))\n",
    "fig.suptitle(\"SVM - Kernel test\", fontsize=16)\n",
    "\n",
    "for results, _ax in zip(list_results, [ax1, ax2, ax3]):\n",
    "    print(f\"Results layer metada: {results.metadata['classifier_params']}\")\n",
    "    # Plot classification result\n",
    "\n",
    "    plot_subplots_classification(\n",
    "        results,\n",
    "        class_field=\"classification\",\n",
    "        class_color=classes_color,\n",
    "        figsize=(10, 8),\n",
    "        ax=_ax,\n",
    "        title=f\"SVM params: C={results.metadata['classifier_params']['C']}\",\n",
    "    )\n",
    "\n",
    "# Adjust layout\n",
    "plt.tight_layout()\n",
    "plt.show()"
   ]
  },
  {
   "cell_type": "markdown",
   "metadata": {},
   "source": [
    "## Done!!\n",
    "\n",
    "So, now, you can keep following the Simple_USECASE, applying different expert knowledge techniques"
   ]
  },
  {
   "cell_type": "markdown",
   "metadata": {},
   "source": [
    "------------------------------------------------------------"
   ]
  },
  {
   "cell_type": "markdown",
   "metadata": {},
   "source": [
    "## Applying merge rule\n",
    "In this step we will further refine the classification. \n",
    "In this example, we will merge region based on class value i.e. merge adjacent segments if they share the same class label."
   ]
  },
  {
   "cell_type": "code",
   "execution_count": null,
   "metadata": {},
   "outputs": [],
   "source": [
    "merger = MergeRuleSet(\"Merge Segmentation\")\n",
    "class_value = [\"Water\", \"Vegetation\"]\n",
    "merged_layer = merger.execute(\n",
    "    source_layer=SVM_classification_layer,\n",
    "    class_column_name=\"classification\",\n",
    "    class_value=class_value,\n",
    "    layer_manager=manager,\n",
    "    layer_name=\"Merged SVM Classification\",\n",
    ")\n",
    "fig4 = plot_classification(merged_layer, class_field=\"classification\", class_color=classes_color, figsize=(10, 8))"
   ]
  },
  {
   "cell_type": "markdown",
   "metadata": {},
   "source": [
    "## Applying Enclosed_by rule\n",
    "This rule is also applied based on class label. This function determine whether a object/segment is completely contained/surrounded within/by another object or class and return the updated layer.\n",
    "\n",
    "This function is very helpful in applying the context-aware rules in classification.\n",
    "\n",
    "In this example, we define the new class \"Urban Vegetation\" if \"Vegetation\" is enclosed by \"Builtup\".\n"
   ]
  },
  {
   "cell_type": "code",
   "execution_count": null,
   "metadata": {},
   "outputs": [],
   "source": [
    "enclosed_by_rule = EnclosedByRuleSet()\n",
    "enclosed_by_layer = enclosed_by_rule.execute(\n",
    "    source_layer=merged_layer,\n",
    "    class_column_name=\"classification\",\n",
    "    class_value_a=\"Vegetation\",\n",
    "    class_value_b=\"Builtup\",\n",
    "    new_class_name=\"Urban Vegetation\",\n",
    "    layer_manager=manager,\n",
    "    layer_name=\"enclosed_by_layer\",\n",
    ")\n",
    "classes_color[\"Urban Vegetation\"] = \"#84f547\"\n",
    "fig4 = plot_classification(enclosed_by_layer, class_field=\"classification\", class_color=classes_color)"
   ]
  },
  {
   "cell_type": "markdown",
   "metadata": {},
   "source": [
    "## Applying Touched_by rule\n",
    "This rule is also applied based on class labels. This determines whether an object/segment is in direct contact with another object or class — that is, they share a boundary.\n",
    "\n",
    "This function is very useful in implementing context-aware rules in classification, especially when spatial relationships between features matter.\n",
    "\n",
    "In this example, we define a new class \"Builtup near WaterBodies\" if \"Builtup\" is touchedBy \"Water\".\n"
   ]
  },
  {
   "cell_type": "code",
   "execution_count": null,
   "metadata": {},
   "outputs": [],
   "source": [
    "touched_by_rule = TouchedByRuleSet()\n",
    "touched_by_layer = touched_by_rule.execute(\n",
    "    source_layer=enclosed_by_layer,\n",
    "    class_column_name=\"classification\",\n",
    "    class_value_a=\"Builtup\",\n",
    "    class_value_b=\"Water\",\n",
    "    new_class_name=\"Builtup near WaterBodies\",\n",
    "    layer_manager=manager,\n",
    "    layer_name=\"touched_by_layer\",\n",
    ")\n",
    "classes_color[\"Builtup near WaterBodies\"] = \"#1df0e2\"\n",
    "fig4 = plot_classification(touched_by_layer, class_field=\"classification\", class_color=classes_color)"
   ]
  },
  {
   "cell_type": "code",
   "execution_count": null,
   "metadata": {},
   "outputs": [],
   "source": [
    "# Applying merge rule to generate the final merged segments\n",
    "merge_rule = MergeRuleSet(\"MergeByVegAndType\")\n",
    "merged_layer2 = merger.execute(\n",
    "    source_layer=touched_by_layer,\n",
    "    class_column_name=\"classification\",\n",
    "    class_value=[\"Builtup near WaterBodies\", \"Builtup\"],\n",
    "    layer_manager=manager,\n",
    "    layer_name=\"Merged RF Classification 2\",\n",
    ")\n",
    "fig4 = plot_classification(merged_layer2, class_field=\"classification\", class_color=classes_color)"
   ]
  }
 ],
 "metadata": {
  "kernelspec": {
   "display_name": "nickyspatial",
   "language": "python",
   "name": "python3"
  },
  "language_info": {
   "codemirror_mode": {
    "name": "ipython",
    "version": 3
   },
   "file_extension": ".py",
   "mimetype": "text/x-python",
   "name": "python",
   "nbconvert_exporter": "python",
   "pygments_lexer": "ipython3",
   "version": "3.12.9"
  }
 },
 "nbformat": 4,
 "nbformat_minor": 2
}
