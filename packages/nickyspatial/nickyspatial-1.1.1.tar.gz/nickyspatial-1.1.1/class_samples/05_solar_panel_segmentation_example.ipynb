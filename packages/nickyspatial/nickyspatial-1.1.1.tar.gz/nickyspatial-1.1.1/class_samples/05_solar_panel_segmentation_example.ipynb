{
 "cells": [
  {
   "cell_type": "markdown",
   "id": "0",
   "metadata": {},
   "source": [
    "# OBIA Solar Panel Segmentation using `nickyspatial`"
   ]
  },
  {
   "cell_type": "markdown",
   "id": "1",
   "metadata": {},
   "source": [
    "## 1. Segment on nickyspatial\n",
    "Note: If the image is too big, downsample the image. The code to downsample the image is at last of this notebook. "
   ]
  },
  {
   "cell_type": "markdown",
   "id": "2",
   "metadata": {},
   "source": [
    "### 1.1. Define Segmentation"
   ]
  },
  {
   "cell_type": "code",
   "execution_count": null,
   "id": "3",
   "metadata": {},
   "outputs": [],
   "source": [
    "import os\n",
    "\n",
    "import numpy as np\n",
    "\n",
    "from nickyspatial import LayerManager, SlicSegmentation, plot_layer, read_raster\n",
    "\n",
    "\n",
    "def run_slic_segmentation(raster_path, output_dir, scale=40.0, compactness=0.5):\n",
    "    \"\"\"Runs OBIA segmentation using SLIC on a given raster and saves the output image.\n",
    "\n",
    "    Parameters:\n",
    "        raster_path (str): Path to the input raster image.\n",
    "        output_dir (str): Directory where the output image will be saved.\n",
    "        scale (float): Scale parameter for SLIC segmentation.\n",
    "        compactness (float): Compactness parameter for SLIC segmentation.\n",
    "    \"\"\"\n",
    "    # Step 1: Read raster\n",
    "    print(f\"Reading raster from: {raster_path}\")\n",
    "    image_array, transform, crs = read_raster(raster_path)\n",
    "    print(f\"Original image shape: {image_array.shape} (bands, height, width)\")\n",
    "    print(f\"CRS: {crs}\")\n",
    "\n",
    "    # Step 2: OBIA segmentation\n",
    "    print(\"Running OBIA segmentation using SlicSegmentation...\")\n",
    "    manager = LayerManager()\n",
    "    segmenter = SlicSegmentation(scale=scale, compactness=compactness)\n",
    "\n",
    "    segmentation_layer = segmenter.execute(image_array, transform, crs, layer_manager=manager, layer_name=\"Solar_OBIA_Segments\")\n",
    "\n",
    "    print(\"Segmentation complete.\")\n",
    "    print(segmentation_layer)\n",
    "\n",
    "    # Step 3: Prepare RGB image for visualization\n",
    "    image_array_rgb = np.moveaxis(image_array, 0, -1)  # (bands, H, W) → (H, W, bands)\n",
    "    if image_array_rgb.max() > 1:\n",
    "        image_array_rgb = image_array_rgb / 255.0\n",
    "\n",
    "    # Step 4: Validate dimensions\n",
    "    seg = segmentation_layer.raster\n",
    "    print(f\"Segmentation shape: {seg.shape}, Image shape: {image_array_rgb.shape[:2]}\")\n",
    "\n",
    "    if seg.shape != image_array_rgb.shape[:2]:\n",
    "        raise ValueError(\"Mismatch between segmentation and image dimensions.\")\n",
    "\n",
    "    # Step 5: Plot using NickySpatial’s plot_layer\n",
    "    print(\"Plotting segmentation overlay using plot_layer from NickySpatial...\")\n",
    "\n",
    "    # plot only 3 bands of the multispectral image. RGB image does not need this.\n",
    "    seg_h, seg_w = segmentation_layer.raster.shape\n",
    "    image_array_rgb = image_array[:3, :seg_h, :seg_w]  # shape: (3, H, W)\n",
    "\n",
    "    print(f\"Final RGB shape: {image_array_rgb.shape}, Segmentation shape: {segmentation_layer.raster.shape}\")\n",
    "\n",
    "    fig = plot_layer(\n",
    "        layer=segmentation_layer,\n",
    "        image_data=image_array_rgb,\n",
    "        show_boundaries=True,\n",
    "        title=\"SLIC Segmentation Overlaid on Ortho\",\n",
    "        figsize=(10, 10),\n",
    "    )\n",
    "\n",
    "    # Step 6: Save the figure\n",
    "    os.makedirs(output_dir, exist_ok=True)\n",
    "    output_path = os.path.join(output_dir, \"slic_segments.png\")\n",
    "    fig.savefig(output_path, dpi=150)\n",
    "    print(f\"Segmentation overlay saved at: {output_path}\")\n",
    "\n",
    "    return segmentation_layer"
   ]
  },
  {
   "cell_type": "markdown",
   "id": "4",
   "metadata": {},
   "source": [
    "### 1.2. Run Segmentation"
   ]
  },
  {
   "cell_type": "code",
   "execution_count": null,
   "id": "5",
   "metadata": {},
   "outputs": [],
   "source": [
    "segmentation_layer = run_slic_segmentation(raster_path=\"ortho/QuickBird.tif\", output_dir=\"results\", scale=40.0, compactness=0.3)"
   ]
  },
  {
   "cell_type": "code",
   "execution_count": null,
   "id": "6",
   "metadata": {},
   "outputs": [],
   "source": []
  },
  {
   "cell_type": "markdown",
   "id": "7",
   "metadata": {},
   "source": [
    "## 2. Register indices to objects"
   ]
  },
  {
   "cell_type": "code",
   "execution_count": null,
   "id": "8",
   "metadata": {},
   "outputs": [],
   "source": [
    "import geopandas as gpd\n",
    "import matplotlib.pyplot as plt\n",
    "\n",
    "from nickyspatial import (\n",
    "    Layer,\n",
    "    RuleSet,\n",
    "    attach_ndvi,\n",
    "    attach_shape_metrics,\n",
    "    attach_spectral_indices,\n",
    "    layer_to_vector,\n",
    "    plot_classification,\n",
    ")\n",
    "\n",
    "# --- Step 1: Setup paths ---\n",
    "output_dir = \"results\"\n",
    "os.makedirs(output_dir, exist_ok=True)\n",
    "\n",
    "raster_path = \"ortho/small_area_downsampled.tif\"\n",
    "geojson_path = \"results/segment.geojson\"\n",
    "\n",
    "# --- Step 2: Load raster ---\n",
    "image_array, transform, crs = read_raster(raster_path)\n",
    "\n",
    "# --- Step 4: Add to manager ---\n",
    "manager = LayerManager()\n",
    "manager.add_layer(segmentation_layer)\n",
    "\n",
    "# --- Step 5: Attach metrics ---\n",
    "# segmentation_layer.attach_function(attach_shape_metrics, name=\"shape_metrics\")\n",
    "# print(segmentation_layer.objects)\n",
    "segmentation_layer.attach_function(attach_shape_metrics, name=\"shape_metrics\")\n",
    "# print(segmentation_layer.objects[\"area_pixels\"].describe())\n",
    "\n",
    "\n",
    "# Attach spectral means (needed for NDVI and other indices)\n",
    "segmentation_layer.attach_function(\n",
    "    attach_spectral_indices,\n",
    "    name=\"spectral_indices\",\n",
    "    bands={\n",
    "        \"blue\": \"band_1_mean\",  # Band 1 = Blue\n",
    "        \"green\": \"band_2_mean\",  # Band 2 = Green\n",
    "        \"red\": \"band_3_mean\",  # Band 3 = Red\n",
    "    },\n",
    ")\n",
    "\n",
    "# Reuse `attach_ndvi` to compute NDVI = (NIR - R) / (NIR + R)\n",
    "segmentation_layer.attach_function(\n",
    "    attach_ndvi,\n",
    "    name=\"ndvi_stats\",\n",
    "    nir_column=\"band_4_mean\",  # NIR\n",
    "    red_column=\"band_3_mean\",  # Red\n",
    "    output_column=\"NDVI\",\n",
    ")\n",
    "\n",
    "# --- Optional: Visualize NDVI ---\n",
    "fig = plot_layer(segmentation_layer, attribute=\"NDVI\", title=\"NDVI Index\", cmap=\"RdYlGn\")\n",
    "plt.show()\n",
    "# fig.savefig(os.path.join(output_dir, \"1_ndvi.png\"))"
   ]
  },
  {
   "cell_type": "code",
   "execution_count": null,
   "id": "9",
   "metadata": {},
   "outputs": [],
   "source": []
  },
  {
   "cell_type": "code",
   "execution_count": null,
   "id": "10",
   "metadata": {},
   "outputs": [],
   "source": []
  },
  {
   "cell_type": "markdown",
   "id": "11",
   "metadata": {},
   "source": [
    "## 3. Rule Based Classification"
   ]
  },
  {
   "cell_type": "code",
   "execution_count": null,
   "id": "12",
   "metadata": {},
   "outputs": [],
   "source": [
    "rules = RuleSet(name=\"Test_Classification\")\n",
    "rules.add_rule(\n",
    "    name=\"Vegetation\",\n",
    "    condition=\"(NDVI > 0.3) & (NDVI < 0.9)\",\n",
    ")\n",
    "rules.add_rule(\n",
    "    name=\"Other\",\n",
    "    condition=\"(NDVI < 0.3) & (NDVI > 0.9)\",\n",
    ")\n",
    "\n",
    "classified_layer = rules.execute(\n",
    "    segmentation_layer, layer_manager=manager, layer_name=\"Classified_Layer\", result_field=\"classification\"\n",
    ")\n",
    "\n",
    "# --- Step 7: Visualize and save ---\n",
    "fig = plot_classification(classified_layer, class_field=\"classification\")\n",
    "plt.show()\n",
    "# fig.savefig(os.path.join(output_dir, \"2_classified.png\"))\n",
    "\n",
    "# layer_to_vector(classified_layer, os.path.join(output_dir, \"classified.geojson\"))\n",
    "# layer_to_raster(classified_layer, os.path.join(output_dir, \"classified.tif\"), column=\"classification\")\n",
    "\n",
    "print(\" Classification complete. Results saved to 'results/' folder.\")"
   ]
  },
  {
   "cell_type": "code",
   "execution_count": null,
   "id": "13",
   "metadata": {},
   "outputs": [],
   "source": []
  },
  {
   "cell_type": "markdown",
   "id": "14",
   "metadata": {},
   "source": [
    "## 4. Export Segments and Classification to Geojson"
   ]
  },
  {
   "cell_type": "code",
   "execution_count": null,
   "id": "15",
   "metadata": {},
   "outputs": [],
   "source": [
    "from copy import deepcopy\n",
    "\n",
    "\n",
    "# Export segmentation layer to GeoJSON\n",
    "def export_layer(layer, path):\n",
    "    # Step 1: Make a deep copy of the segmentation layer\n",
    "    export_layer = deepcopy(layer)\n",
    "\n",
    "    # Step 2: Reproject the copied layer's GeoDataFrame\n",
    "    export_layer.objects = export_layer.objects.to_crs(epsg=4326)\n",
    "\n",
    "    # Step 3: Set the copied layer's CRS metadata\n",
    "    export_layer.crs = \"EPSG:4326\"\n",
    "\n",
    "    # Step 4: Export to GeoJSON for leaflet map\n",
    "\n",
    "    layer_to_vector(export_layer, output_path=path)\n",
    "    print(f\"Reprojected GeoJSON saved to: {path}\")"
   ]
  },
  {
   "cell_type": "code",
   "execution_count": null,
   "id": "16",
   "metadata": {},
   "outputs": [],
   "source": [
    "segmentation_path = \"results/segment.geojson\"\n",
    "classified_path = \"results/classified.geojson\"\n",
    "export_layer(segmentation_layer, segmentation_path)\n",
    "export_layer(classified_layer, classified_path)"
   ]
  },
  {
   "cell_type": "code",
   "execution_count": null,
   "id": "17",
   "metadata": {},
   "outputs": [],
   "source": []
  },
  {
   "cell_type": "markdown",
   "id": "18",
   "metadata": {},
   "source": [
    "## 5. Pick Samples for Supervised Classification in Map"
   ]
  },
  {
   "cell_type": "code",
   "execution_count": null,
   "id": "19",
   "metadata": {},
   "outputs": [],
   "source": [
    "# Download the whole folder: https://github.com/kshitijrajsharma/nickyspatial/tree/master/class_samples\n",
    "# Now, to open the leaflet map, follow the steps below. open terminal and goto the folder. You need to be on the same folder where this downloaded index.html is. Otherwise use --directory folder_name and update file paths in main.js"
   ]
  },
  {
   "cell_type": "code",
   "execution_count": null,
   "id": "20",
   "metadata": {},
   "outputs": [],
   "source": [
    "!start cmd /k python -m http.server 8001"
   ]
  },
  {
   "cell_type": "code",
   "execution_count": null,
   "id": "21",
   "metadata": {},
   "outputs": [],
   "source": [
    "import webbrowser\n",
    "\n",
    "webbrowser.open(\"http://localhost:8001/index.html\")"
   ]
  },
  {
   "cell_type": "code",
   "execution_count": null,
   "id": "22",
   "metadata": {},
   "outputs": [],
   "source": [
    "# If you have index.html and results folder on the same folder and inside results folder: segment.geojson file, it will automatically pull the segment.geojson. Otherwise follow these steps to upload geojson.\n",
    "# you can upload geojson file or relative path of your segmentation geojson file.\n",
    "# You can also upload small image file\n",
    "# go to next tab to start adding the samples.\n",
    "# 1. First choose number of classes\n",
    "# 2. Give class names in input fields for each class\n",
    "# 3. select class in radio button and start selecting samples in the map. you will see the segment_id of the selected sample will be added on the list on the right.\n",
    "# 4. Continue this for other classes. dont forget to select radio before the classname before selecting samples in map\n",
    "# 5. After samples are collected, click Download Class Values button to download json file with the list of samples with classnames.\n",
    "# 6. Copy and paste this json in your result folder. By pasting in result folder, you can directly use this file to load or copy paste values from this file to use it for classification."
   ]
  },
  {
   "cell_type": "code",
   "execution_count": null,
   "id": "23",
   "metadata": {},
   "outputs": [],
   "source": [
    "# In case your image is big and browser hangs, you have to create tiles using gdal2tiles. create those tiles first.\n",
    "\n",
    "# then, go to folder inside tiles\n",
    "# cd tiles\n",
    "# python -m http.server 8000\n",
    "# or\n",
    "!start cmd /k python -m http.server 8000 --directory ortho/small_area_tiles\n",
    "\n",
    "# Then you can paste your tile url: http://localhost:8000/{z}/{x}/{-y}.png in the map. It will open the tiles in the map."
   ]
  },
  {
   "cell_type": "code",
   "execution_count": null,
   "id": "24",
   "metadata": {},
   "outputs": [],
   "source": [
    "# After you have the list of samples. Run the classification"
   ]
  },
  {
   "cell_type": "code",
   "execution_count": null,
   "id": "25",
   "metadata": {},
   "outputs": [],
   "source": []
  },
  {
   "cell_type": "code",
   "execution_count": null,
   "id": "26",
   "metadata": {},
   "outputs": [],
   "source": []
  },
  {
   "cell_type": "markdown",
   "id": "27",
   "metadata": {},
   "source": [
    "## 6. ML based classification"
   ]
  },
  {
   "cell_type": "markdown",
   "id": "28",
   "metadata": {},
   "source": [
    "### 6.1. RandomForest"
   ]
  },
  {
   "cell_type": "markdown",
   "id": "29",
   "metadata": {},
   "source": [
    "#### 6.1.1. Define RandomForest Classification"
   ]
  },
  {
   "cell_type": "code",
   "execution_count": null,
   "id": "30",
   "metadata": {},
   "outputs": [],
   "source": [
    "import json\n",
    "import os\n",
    "\n",
    "import matplotlib.pyplot as plt\n",
    "\n",
    "from nickyspatial import plot_classification\n",
    "from nickyspatial.core.classifier import SupervisedClassifier\n",
    "from nickyspatial.core.layer import Layer, LayerManager\n",
    "\n",
    "\n",
    "def classify_segments_from_file(\n",
    "    segment_geojson_path,\n",
    "    samples_json_path=None,\n",
    "    samples_dict=None,\n",
    "    classifier_type=\"Random Forest\",\n",
    "    classifier_params=None,\n",
    "    output_layer_name=\"Solar_Only_Classification\",\n",
    "    class_field=\"classification\",\n",
    "    show_plot=True,\n",
    "):\n",
    "    \"\"\"Performs supervised classification on a GeoJSON segment layer using sample IDs.\n",
    "\n",
    "    Parameters:\n",
    "        segment_geojson_path (str): Path to the GeoJSON file containing segment objects.\n",
    "        samples_json_path (str): Path to a JSON file with sample IDs (optional if samples_dict is given).\n",
    "        samples_dict (dict): Dictionary of labeled sample IDs (e.g. { \"Solar\": [...], \"Non-Solar\": [...] }).\n",
    "        classifier_type (str): Type of classifier to use (default is \"Random Forest\").\n",
    "        classifier_params (dict): Parameters for the classifier (default is RF with 100 trees).\n",
    "        output_layer_name (str): Name of the result layer.\n",
    "        class_field (str): Name of the classification field in the output.\n",
    "        show_plot (bool): Whether to show the classification plot.\n",
    "\n",
    "    Returns:\n",
    "        result_layer: Classified Layer object\n",
    "        accuracy (float): Classification accuracy\n",
    "        feature_importances (DataFrame or None)\n",
    "    \"\"\"\n",
    "    # Load segment GeoJSON\n",
    "    gdf = gpd.read_file(segment_geojson_path)\n",
    "\n",
    "    # Load sample IDs\n",
    "    if samples_dict is None:\n",
    "        if samples_json_path is None:\n",
    "            raise ValueError(\"Either samples_dict or samples_json_path must be provided.\")\n",
    "        with open(samples_json_path, \"r\", encoding=\"utf-8\") as f:\n",
    "            samples_dict = json.load(f)\n",
    "\n",
    "    # Setup Layer and Manager\n",
    "    layer = Layer(name=\"SegmentLayer\", type=\"segmentation\")\n",
    "    layer.objects = gdf\n",
    "    manager = LayerManager()\n",
    "    manager.add_layer(layer)\n",
    "\n",
    "    # Classifier parameters\n",
    "    if classifier_params is None:\n",
    "        classifier_params = {\"n_estimators\": 100, \"oob_score\": True, \"random_state\": 42}\n",
    "\n",
    "    classifier = SupervisedClassifier(name=\"SolarClassifier\", classifier_type=classifier_type, classifier_params=classifier_params)\n",
    "\n",
    "    # Perform classification\n",
    "    result_layer, accuracy, feature_importances = classifier.execute(\n",
    "        source_layer=layer, samples=samples_dict, layer_manager=manager, layer_name=output_layer_name\n",
    "    )\n",
    "\n",
    "    # Plot result\n",
    "    if show_plot:\n",
    "        fig = plot_classification(result_layer, class_field=class_field)\n",
    "        plt.show()\n",
    "\n",
    "    print(\"Classification Accuracy:\", accuracy)\n",
    "    if feature_importances is not None:\n",
    "        print(\"Top Features:\\n\", feature_importances.head())\n",
    "\n",
    "    return result_layer, accuracy, feature_importances"
   ]
  },
  {
   "cell_type": "markdown",
   "id": "31",
   "metadata": {},
   "source": [
    "#### 6.1.2. Run RandomForest Classification"
   ]
  },
  {
   "cell_type": "code",
   "execution_count": null,
   "id": "32",
   "metadata": {},
   "outputs": [],
   "source": [
    "result_layer_RF, _, _ = classify_segments_from_file(\n",
    "    segment_geojson_path=\"results/segment.geojson\",\n",
    "    samples_json_path=\"results/samples.json\",  # you can either pass directly downloaded json or copy-paste the dictionary values inside file below.\n",
    "    # samples_dict={\n",
    "    #     \"Solar\": [1855, 2177, 2448],\n",
    "    #     \"Non-Solar\": [7769, 5981, 5899]\n",
    "    # }\n",
    ")"
   ]
  },
  {
   "cell_type": "code",
   "execution_count": null,
   "id": "33",
   "metadata": {},
   "outputs": [],
   "source": [
    "classified_RF_path = \"results/classified_RF.geojson\"\n",
    "export_layer(result_layer_RF, classified_RF_path)"
   ]
  },
  {
   "cell_type": "code",
   "execution_count": null,
   "id": "34",
   "metadata": {},
   "outputs": [],
   "source": []
  },
  {
   "cell_type": "markdown",
   "id": "35",
   "metadata": {},
   "source": [
    "### 6.2. SVM"
   ]
  },
  {
   "cell_type": "markdown",
   "id": "36",
   "metadata": {},
   "source": [
    "#### 6.2.1. Define SVM Classification"
   ]
  },
  {
   "cell_type": "code",
   "execution_count": null,
   "id": "37",
   "metadata": {},
   "outputs": [],
   "source": [
    "from nickyspatial import plot_classification\n",
    "from nickyspatial.core.layer import LayerManager\n",
    "\n",
    "\n",
    "def run_svm_classification(\n",
    "    segment_geojson_path,\n",
    "    samples_json_path=None,\n",
    "    samples_dict=None,\n",
    "    classifier_name=\"SVM_Classifier\",\n",
    "    classifier_params=None,\n",
    "    source_layer_name=\"SegmentLayer\",\n",
    "    result_layer_name=\"SVM_Classification\",\n",
    "):\n",
    "    \"\"\"Perform SVM classification on a segmentation layer using NickySpatial.\n",
    "\n",
    "    Parameters:\n",
    "        segment_geojson_path (str): Path to segment GeoJSON file.\n",
    "        samples_json_path (str): Optional path to JSON file with training sample IDs.\n",
    "        samples_dict (dict): Optional inline dictionary of sample IDs.\n",
    "        classifier_name (str): Name to give to the classifier.\n",
    "        classifier_params (dict): SVM parameters.\n",
    "        source_layer_name (str): Name of the segmentation layer.\n",
    "        result_layer_name (str): Name of the resulting classification layer.\n",
    "\n",
    "    Returns:\n",
    "        result_layer (Layer), accuracy (float), feature_importances (None for SVM)\n",
    "    \"\"\"\n",
    "    assert samples_json_path or samples_dict, \"Provide either 'samples_json_path' or 'samples_dict'\"\n",
    "\n",
    "    # Load training samples\n",
    "    if samples_json_path:\n",
    "        with open(samples_json_path, \"r\", encoding=\"utf-8\") as f:\n",
    "            samples = json.load(f)\n",
    "    else:\n",
    "        samples = samples_dict\n",
    "\n",
    "    # Load segment GeoJSON\n",
    "    gdf = gpd.read_file(segment_geojson_path)\n",
    "\n",
    "    # Prepare NickySpatial layer\n",
    "    layer = Layer(name=source_layer_name, type=\"segmentation\")\n",
    "    layer.objects = gdf\n",
    "\n",
    "    # Create and register LayerManager\n",
    "    manager = LayerManager()\n",
    "    manager.add_layer(layer)\n",
    "\n",
    "    # Default SVM parameters if not provided\n",
    "    if classifier_params is None:\n",
    "        classifier_params = {\"kernel\": \"rbf\", \"C\": 1.0, \"gamma\": \"scale\", \"probability\": False}\n",
    "\n",
    "    # Initialize classifier\n",
    "    classifier = SupervisedClassifier(name=classifier_name, classifier_type=\"SVC\", classifier_params=classifier_params)\n",
    "\n",
    "    # Run classification\n",
    "    result_layer, accuracy, feature_importances = classifier.execute(\n",
    "        source_layer=layer, samples=samples, layer_manager=manager, layer_name=result_layer_name\n",
    "    )\n",
    "\n",
    "    # Plot classification result\n",
    "    fig = plot_classification(result_layer, class_field=\"classification\")\n",
    "    fig.show()\n",
    "\n",
    "    print(\"Classification Accuracy:\", accuracy)\n",
    "    if result_layer and hasattr(result_layer, \"objects\"):\n",
    "        print(\"Class Distribution:\\n\", result_layer.objects[\"classification\"].value_counts())\n",
    "\n",
    "    return result_layer, accuracy, feature_importances"
   ]
  },
  {
   "cell_type": "markdown",
   "id": "38",
   "metadata": {},
   "source": [
    "#### 6.2.2. Run SVM Classification"
   ]
  },
  {
   "cell_type": "code",
   "execution_count": null,
   "id": "39",
   "metadata": {},
   "outputs": [],
   "source": [
    "# Direct call\n",
    "result_layer_SVM, _, _ = run_svm_classification(\n",
    "    segment_geojson_path=\"results/segment.geojson\",\n",
    "    samples_json_path=\"results/samples.json\",  # you can either pass directly downloaded json or copy-paste the dictionary values inside file below.\n",
    "    # samples_dict={\n",
    "    #     \"Solar\": [1855, 2177, 2448],\n",
    "    #     \"Non-Solar\": [7769, 5981, 5899]\n",
    "    # },\n",
    ")"
   ]
  },
  {
   "cell_type": "code",
   "execution_count": null,
   "id": "40",
   "metadata": {},
   "outputs": [],
   "source": [
    "# export file\n",
    "classified_SVM_path = \"results/classified_SVM_wgs84.geojson\"\n",
    "export_layer(result_layer_SVM, classified_SVM_path)"
   ]
  },
  {
   "cell_type": "markdown",
   "id": "41",
   "metadata": {},
   "source": [
    "### 6.3. KNN"
   ]
  },
  {
   "cell_type": "markdown",
   "id": "42",
   "metadata": {},
   "source": [
    "#### 6.3.1. Define KNN Classification"
   ]
  },
  {
   "cell_type": "code",
   "execution_count": null,
   "id": "43",
   "metadata": {},
   "outputs": [],
   "source": [
    "from nickyspatial import plot_classification\n",
    "from nickyspatial.core.layer import LayerManager\n",
    "\n",
    "\n",
    "def run_knn_classification(\n",
    "    segment_geojson_path: str, samples_json_path: str = None, samples_dict: dict = None, n_neighbors: int = 5\n",
    "):\n",
    "    \"\"\"Perform supervised classification using KNN on segmented data.\n",
    "\n",
    "    Parameters:\n",
    "    - segment_geojson_path: str → path to the segmentation GeoJSON\n",
    "    - samples_json_path: str → path to JSON file with training sample IDs\n",
    "    - samples_dict: dict → dictionary of manually verified sample segment IDs\n",
    "    - n_neighbors: int → number of neighbors to use in KNN\n",
    "\n",
    "    Returns:\n",
    "    - result_layer: classified layer\n",
    "    - accuracy: float classification accuracy\n",
    "    \"\"\"\n",
    "    assert samples_json_path or samples_dict, \"Provide either samples_json_path or samples_dict\"\n",
    "\n",
    "    # Load GeoJSON\n",
    "    gdf = gpd.read_file(segment_geojson_path)\n",
    "\n",
    "    # Load training samples\n",
    "    if samples_dict is None:\n",
    "        with open(samples_json_path, \"r\", encoding=\"utf-8\") as f:\n",
    "            samples = json.load(f)\n",
    "    else:\n",
    "        samples = samples_dict\n",
    "\n",
    "    # Create segmentation layer\n",
    "    layer = Layer(name=\"SegmentLayer\", type=\"segmentation\")\n",
    "    layer.objects = gdf\n",
    "\n",
    "    # Layer manager\n",
    "    manager = LayerManager()\n",
    "    manager.add_layer(layer)\n",
    "\n",
    "    # KNN classifier\n",
    "    knn_params = {\"n_neighbors\": n_neighbors}\n",
    "    classifier = SupervisedClassifier(name=\"KNN_SolarClassifier\", classifier_type=\"KNN\", classifier_params=knn_params)\n",
    "\n",
    "    # Execute classification\n",
    "    result_layer, accuracy, feature_importances = classifier.execute(\n",
    "        source_layer=layer, samples=samples, layer_manager=manager, layer_name=\"KNN_Classification\"\n",
    "    )\n",
    "\n",
    "    # Plot results\n",
    "    fig = plot_classification(result_layer, class_field=\"classification\")\n",
    "    fig.show()\n",
    "\n",
    "    # Output\n",
    "    print(\"Classification Accuracy:\", accuracy)\n",
    "    print(\"Feature importances not available for KNN.\")\n",
    "\n",
    "    return result_layer, accuracy"
   ]
  },
  {
   "cell_type": "markdown",
   "id": "44",
   "metadata": {},
   "source": [
    "#### 6.3.2. Run KNN Classification"
   ]
  },
  {
   "cell_type": "code",
   "execution_count": null,
   "id": "45",
   "metadata": {},
   "outputs": [],
   "source": [
    "# Run\n",
    "result_layer_KNN, _ = run_knn_classification(\n",
    "    segment_geojson_path=\"results/segment_wgs84_final.geojson\",\n",
    "    samples_json_path=\"results/samples.json\",\n",
    "    # samples_dict={\n",
    "    #     \"Solar\": [1855, 2177, 2448],\n",
    "    #     \"Non-Solar\": [7769, 5981, 5899]\n",
    "    # },\n",
    "    n_neighbors=3,\n",
    ")"
   ]
  },
  {
   "cell_type": "code",
   "execution_count": null,
   "id": "46",
   "metadata": {},
   "outputs": [],
   "source": [
    "# export file\n",
    "classified_KNN_path = \"results/classified_KNN_wgs84.geojson\"\n",
    "export_layer(result_layer_KNN, classified_KNN_path)"
   ]
  },
  {
   "cell_type": "markdown",
   "id": "47",
   "metadata": {},
   "source": [
    "## 7. Downsample Raster (optional)\n",
    "If the raster is very big it might fail because of memory error. Downsample if memory error is faced."
   ]
  },
  {
   "cell_type": "code",
   "execution_count": null,
   "id": "48",
   "metadata": {},
   "outputs": [],
   "source": [
    "import rasterio\n",
    "from rasterio.enums import Resampling\n",
    "\n",
    "\n",
    "def downsample_raster(input_path, output_path, factor):\n",
    "    \"\"\"Downsample a raster by a given factor and save to a new file.\n",
    "\n",
    "    Parameters:\n",
    "        input_path (str): Path to the input orthophoto.\n",
    "        output_path (str): Path where the downsampled raster will be saved.\n",
    "        factor (int or float): Downsampling factor. E.g., 4 means image becomes 1/4 the size.\n",
    "    \"\"\"\n",
    "    with rasterio.open(input_path) as src:\n",
    "        # Calculate new dimensions\n",
    "        new_width = int(src.width / factor)\n",
    "        new_height = int(src.height / factor)\n",
    "\n",
    "        # Read data with new shape\n",
    "        data = src.read(out_shape=(src.count, new_height, new_width), resampling=Resampling.bilinear)\n",
    "\n",
    "        # Scale the transform accordingly\n",
    "        transform = src.transform * src.transform.scale(src.width / new_width, src.height / new_height)\n",
    "\n",
    "        # Write to output\n",
    "        profile = src.profile\n",
    "        profile.update({\"height\": new_height, \"width\": new_width, \"transform\": transform})\n",
    "\n",
    "        with rasterio.open(output_path, \"w\", **profile) as dst:\n",
    "            dst.write(data)\n",
    "            print(\"saved file\")\n",
    "\n",
    "\n",
    "# Example usage:\n",
    "downsample_raster(\n",
    "    input_path=\"ortho/small_area.tif\",\n",
    "    output_path=\"ortho/small_area_downsampled.tif\",\n",
    "    factor=4,  # Change as needed\n",
    ")"
   ]
  },
  {
   "cell_type": "code",
   "execution_count": null,
   "id": "49",
   "metadata": {},
   "outputs": [],
   "source": []
  },
  {
   "cell_type": "code",
   "execution_count": null,
   "id": "50",
   "metadata": {},
   "outputs": [],
   "source": []
  },
  {
   "cell_type": "code",
   "execution_count": null,
   "id": "51",
   "metadata": {},
   "outputs": [],
   "source": []
  }
 ],
 "metadata": {
  "kernelspec": {
   "display_name": "OBIA Solar",
   "language": "python",
   "name": "obia_solar"
  },
  "language_info": {
   "codemirror_mode": {
    "name": "ipython",
    "version": 3
   },
   "file_extension": ".py",
   "mimetype": "text/x-python",
   "name": "python",
   "nbconvert_exporter": "python",
   "pygments_lexer": "ipython3",
   "version": "3.10.18"
  }
 },
 "nbformat": 4,
 "nbformat_minor": 5
}
