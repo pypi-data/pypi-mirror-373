{
 "cells": [
  {
   "cell_type": "code",
   "id": "initial_id",
   "metadata": {
    "collapsed": true,
    "ExecuteTime": {
     "end_time": "2025-08-30T18:25:01.798648Z",
     "start_time": "2025-08-30T18:25:01.795008Z"
    }
   },
   "source": [
    "import subprocess\n",
    "from pathlib import Path\n",
    "import re"
   ],
   "outputs": [],
   "execution_count": 63
  },
  {
   "metadata": {
    "ExecuteTime": {
     "end_time": "2025-08-30T18:45:18.514748Z",
     "start_time": "2025-08-30T18:45:18.511197Z"
    }
   },
   "cell_type": "code",
   "source": [
    "LM = Path(\"/Users/xiaohaoyang/Documents/llamacpp/internvl3-vision/InternVL3-8B-Instruct-Q8_0.gguf\")\n",
    "MP = Path(\"/Users/xiaohaoyang/Documents/llamacpp/internvl3-vision/mmproj-InternVL3-8B-Instruct-Q8_0.gguf\")\n",
    "IMG = Path(\"/Users/xiaohaoyang/Downloads/Screenshot.png\")\n",
    "\n",
    "prompt =  '''\n",
    "    You are given street view image(s) of a residential property. Based solely on what you see in the image, assess the residential condition of the house and answer the following questions:\n",
    "    Question 1 - Is there any damage on the roof?\n",
    "    Question 2 - Is any window broken or boarded?\n",
    "    Question 3 - Is any door broken, missing, or boarded?\n",
    "    Question 4 - Is the wall missing or damaged?\n",
    "\n",
    "    For each question, you have to respond in the following format:\n",
    "    yes (true) / no (false)\n",
    "'''\n",
    "\n",
    "\n",
    "cmd = [\n",
    "    \"llama-mtmd-cli\",\n",
    "    \"-m\", str(LM),\n",
    "    \"--mmproj\", str(MP),\n",
    "    \"-p\", prompt,\n",
    "    \"--image\", str(IMG)\n",
    "]\n"
   ],
   "id": "70fc05112aef423d",
   "outputs": [],
   "execution_count": 100
  },
  {
   "metadata": {
    "ExecuteTime": {
     "end_time": "2025-08-30T18:45:28.020532Z",
     "start_time": "2025-08-30T18:45:22.189441Z"
    }
   },
   "cell_type": "code",
   "source": "res = subprocess.run(cmd, check=True, text=True, capture_output=True)",
   "id": "a9e6a58d4544fa2e",
   "outputs": [],
   "execution_count": 101
  },
  {
   "metadata": {
    "ExecuteTime": {
     "end_time": "2025-08-30T18:45:28.032941Z",
     "start_time": "2025-08-30T18:45:28.029307Z"
    }
   },
   "cell_type": "code",
   "source": [
    "raw = res.stdout\n",
    "m = re.search(r'image decoded.*? in \\d+\\s*ms(?:\\r?\\n){1,2}', raw, re.I)\n",
    "content = raw[m.end():] if m else raw\n",
    "content.replace('\\r', '').replace('\\n', '').strip()"
   ],
   "id": "cf2287378dea92e4",
   "outputs": [
    {
     "data": {
      "text/plain": [
       "'Based on the provided image, here are the assessments for each question:Question 1 - Is there any damage on the roof?**No (false)**Question 2 - Is any window broken or boarded?**No (false)**Question 3 - Is any door broken, missing, or boarded?**No (false)**Question 4 - Is the wall missing or damaged?**No (false)**The house appears to be in good condition with no visible damage or issues.'"
      ]
     },
     "execution_count": 102,
     "metadata": {},
     "output_type": "execute_result"
    }
   ],
   "execution_count": 102
  },
  {
   "metadata": {
    "ExecuteTime": {
     "end_time": "2025-08-30T18:46:03.913254Z",
     "start_time": "2025-08-30T18:46:03.908490Z"
    }
   },
   "cell_type": "code",
   "source": "raw",
   "id": "7fffc42f2020ff7c",
   "outputs": [
    {
     "data": {
      "text/plain": [
       "'main: loading model: /Users/xiaohaoyang/Documents/llamacpp/internvl3-vision/InternVL3-8B-Instruct-Q8_0.gguf\\nencoding image slice...\\nimage slice encoded in 347 ms\\ndecoding image batch 1/1, n_tokens_batch = 256\\nimage decoded (batch 1/1) in 664 ms\\n\\nBased on the provided image, here are the assessments for each question:\\n\\nQuestion 1 - Is there any damage on the roof?\\n**No (false)**\\n\\nQuestion 2 - Is any window broken or boarded?\\n**No (false)**\\n\\nQuestion 3 - Is any door broken, missing, or boarded?\\n**No (false)**\\n\\nQuestion 4 - Is the wall missing or damaged?\\n**No (false)**\\n\\nThe house appears to be in good condition with no visible damage or issues.\\n\\n\\n'"
      ]
     },
     "execution_count": 103,
     "metadata": {},
     "output_type": "execute_result"
    }
   ],
   "execution_count": 103
  }
 ],
 "metadata": {
  "kernelspec": {
   "display_name": "Python 3",
   "language": "python",
   "name": "python3"
  },
  "language_info": {
   "codemirror_mode": {
    "name": "ipython",
    "version": 2
   },
   "file_extension": ".py",
   "mimetype": "text/x-python",
   "name": "python",
   "nbconvert_exporter": "python",
   "pygments_lexer": "ipython2",
   "version": "2.7.6"
  }
 },
 "nbformat": 4,
 "nbformat_minor": 5
}
