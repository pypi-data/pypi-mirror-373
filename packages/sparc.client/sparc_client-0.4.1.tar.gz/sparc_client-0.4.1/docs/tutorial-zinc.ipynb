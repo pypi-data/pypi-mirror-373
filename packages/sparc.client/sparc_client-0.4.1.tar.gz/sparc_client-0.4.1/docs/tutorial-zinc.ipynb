{
 "cells": [
  {
   "cell_type": "markdown",
   "id": "c6562321-792a-4a60-857e-0d6e733b49c6",
   "metadata": {},
   "source": [
    "# Tutorial: Python Sparc Client Library with CMLibs Zinc Integration"
   ]
  },
  {
   "cell_type": "markdown",
   "id": "75454bb3",
   "metadata": {},
   "source": [
    "## Install prerequisities"
   ]
  },
  {
   "cell_type": "markdown",
   "id": "3479301a",
   "metadata": {},
   "source": [
    "Before we start, make sure you have installed the Python Sparc Client library (sparc.client) and the CMLibs Zinc library (cmlibs.zinc). If you haven't installed them yet, use the following commands:"
   ]
  },
  {
   "cell_type": "code",
   "execution_count": null,
   "id": "824ef8a8-3f92-4e27-8aac-16889a746283",
   "metadata": {},
   "outputs": [],
   "source": [
    "!pip install sparc.client\n",
    "!pip install cmlibs.zinc"
   ]
  },
  {
   "cell_type": "markdown",
   "id": "f8320ecb",
   "metadata": {},
   "source": [
    "## Load modules\n"
   ]
  },
  {
   "cell_type": "markdown",
   "id": "91f1971a-4d82-434f-b9cd-e7efe851cb4e",
   "metadata": {},
   "source": [
    "To work with the Sparc Client library and CMLibs Zinc, we need to import the required modules. Additionally, you can load modules from other locations by providing a dictionary with configurations and the path to the module. We will also import the 'os' library, which we will use later in the examples to verify the existence of the output file."
   ]
  },
  {
   "cell_type": "code",
   "execution_count": null,
   "id": "0520dc56",
   "metadata": {},
   "outputs": [],
   "source": [
    "# Import the required modules\n",
    "import os\n",
    "from sparc.client.zinchelper import ZincHelper\n",
    "\n",
    "zinc = ZincHelper()"
   ]
  },
  {
   "cell_type": "markdown",
   "id": "3cb4ce04",
   "metadata": {},
   "source": [
    "## CMLibs Zinc API "
   ]
  },
  {
   "cell_type": "markdown",
   "id": "5f45d3be",
   "metadata": {},
   "source": [
    "The Python Sparc Client library provides seamless access to CMLibs Zinc API functionalities. \n",
    "Utilize the 'sparc.client' module to fetch a scaffold or scaffold description. \n",
    "Obtain the scaffold data, convert it to a widely-used mesh format (such as VTK) by leveraging the existing packages within the mapping tools codebase.\n",
    "\n",
    "Let's explore some essential functionalities:"
   ]
  },
  {
   "cell_type": "markdown",
   "id": "0ae562a9",
   "metadata": {},
   "source": [
    "### Export scaffold as VTK file"
   ]
  },
  {
   "cell_type": "markdown",
   "id": "1f602988",
   "metadata": {},
   "source": [
    "To export a scaffold data to VTK format, use the 'zinc.get_scaffold_vtk()' function, which automatically handles the data retrieval. Simply provide the 'dataset_id' and specify the 'output_file' where the scaffold data will be saved in VTK format. \n",
    "After the function call, you can verify the existence of the output file using 'os.path.exists(output_file)'."
   ]
  },
  {
   "cell_type": "code",
   "execution_count": null,
   "id": "52954b64",
   "metadata": {},
   "outputs": [],
   "source": [
    "# Given dataset ID and desired output file name\n",
    "dataset_id = 292\n",
    "output_file = \"scaffold.vtk\"\n",
    "\n",
    "# Use the get_scaffold_vtk() function to export scaffold data to VTK\n",
    "zinc.get_scaffold_vtk(dataset_id, output_file)\n",
    "\n",
    "# Verify the existence of the output file\n",
    "if os.path.exists(output_file):\n",
    "    print(f\"Scaffold data successfully exported to VTK: {output_file}\")\n",
    "else:\n",
    "    print(\"Export to VTK failed. Please check your inputs and try again.\")"
   ]
  },
  {
   "cell_type": "markdown",
   "id": "6a5981f1-9991-484d-977f-4c198b046c00",
   "metadata": {},
   "source": [
    "### Export MBF segementation file as VTK file"
   ]
  },
  {
   "cell_type": "markdown",
   "id": "0196c370-ca17-4725-9596-e04ef488ad46",
   "metadata": {},
   "source": [
    "To export an MBF Segmentation to VTK format, use the 'zinc.get_mbf_vtk()' function.\r\n",
    "\r\n",
    "Provide the dataset ID, MBF Segmentation file, and desired output file name as input. The function handles the conversion, and you can verify the output file's existence with 'os.path.exists()'."
   ]
  },
  {
   "cell_type": "code",
   "execution_count": null,
   "id": "bc3e189b",
   "metadata": {},
   "outputs": [],
   "source": [
    "# Given dataset ID, MBF Segmentation file, and desired output file name\n",
    "dataset_id = 107\n",
    "dataset_file = \"10991_20180817_143553.xml\"\n",
    "output_file = \"mbf_vtk.vtk\"\n",
    "\n",
    "# Use the get_mbf_vtk() function to export MBF Segmentation to VTK\n",
    "zinc.get_mbf_vtk(dataset_id, dataset_file, output_file)\n",
    "\n",
    "# Verify the existence of the output file\n",
    "if os.path.exists(output_file):\n",
    "    print(f\"MBF Segmentation successfully exported to VTK: {output_file}\")\n",
    "else:\n",
    "    print(\"Export to VTK failed. Please check your inputs and try again.\")"
   ]
  },
  {
   "cell_type": "markdown",
   "id": "be3bed82",
   "metadata": {},
   "source": [
    "### Analyse MBF XML file"
   ]
  },
  {
   "cell_type": "markdown",
   "id": "fb6f7132-a8c1-424d-bbcb-4442d1d44a2f",
   "metadata": {},
   "source": [
    "The 'zinc.analyse()' function analyses a given MBF XML segmentation data file for its suitability to use in the mapping tools fitting workflow.To get started, you need to provide the function with the path of the input MBF XML file, the name of the target organ (can be a single organ or a list of multiple organs), and an optional species name. For example, consider the following code:"
   ]
  },
  {
   "cell_type": "code",
   "execution_count": null,
   "id": "40eb49a5",
   "metadata": {},
   "outputs": [],
   "source": [
    "# Given input filename, species, and organ\n",
    "input_file_name = \"../tests/resources/3Dscaffold-CGRP-Mice-Dorsal-2.xml\"\n",
    "species = \"Mice\"\n",
    "organ = \"stomach\"\n",
    "\n",
    "# Call the analyse function and it will print the analyse result\n",
    "zinc.analyse(input_file_name, organ, species)"
   ]
  },
  {
   "cell_type": "markdown",
   "id": "b6096d93-29b6-4412-8444-f40f929004c7",
   "metadata": {},
   "source": [
    "\n",
    "Upon execution, the 'zinc.analyse()' function will conduct an in-depth analysis of the MBF XML file and print the analysis report directly to the console. The report not only provides information about the suitability of the specified data file for mapping to the given organ but also highlights any groups that are not covered by the inputted organs. This comprehensive analysis empowers researchers and developers to make well-informed decisions when dealing with MBF data and organ-specific mappings."
   ]
  },
  {
   "cell_type": "markdown",
   "id": "2d3cae33-63af-4e92-997b-680be28959dd",
   "metadata": {},
   "source": [
    "If the input file contains data from different organs, the 'zinc.analyse()' function can gracefully handle this scenario by accepting a list of organs as input.\n",
    "Here's another example for inputting a list of multiple organs:"
   ]
  },
  {
   "cell_type": "code",
   "execution_count": null,
   "id": "f8eca397-cf8e-46ef-8c4b-a9769b9c29ad",
   "metadata": {},
   "outputs": [],
   "source": [
    "# Given input filename, species, and a list of multiple organs\n",
    "input_file_name = \"../tests/resources/3Dscaffold-CGRP-Mice-Dorsal-2.xml\"\n",
    "species = \"Mice\"\n",
    "organ = [\"stomach\", \"esophagus\"]\n",
    "\n",
    "# Call the analyse function and it will print the analyse result\n",
    "zinc.analyse(input_file_name, organ, species)"
   ]
  },
  {
   "cell_type": "markdown",
   "id": "24ed70ae-6b53-4305-a588-4bee2b345b3e",
   "metadata": {},
   "source": [
    "This feature enables comprehensive evaluations for mapping suitability across multiple organs."
   ]
  }
 ],
 "metadata": {
  "kernelspec": {
   "display_name": "Python 3 (ipykernel)",
   "language": "python",
   "name": "python3"
  },
  "language_info": {
   "codemirror_mode": {
    "name": "ipython",
    "version": 3
   },
   "file_extension": ".py",
   "mimetype": "text/x-python",
   "name": "python",
   "nbconvert_exporter": "python",
   "pygments_lexer": "ipython3",
   "version": "3.11.2"
  }
 },
 "nbformat": 4,
 "nbformat_minor": 5
}
