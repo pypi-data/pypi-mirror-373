








import datetime as dt
import os
import numpy as np
import towerpy as tp
import cartopy.crs as ccrs
from tqdm import tqdm

%matplotlib notebook





RSITE = 'dudwick'
WDIR = '../../../datasets/'

plot_methods = False





SCANS_ELEVS = ['spel1', 'spel2', 'spel3', 'spel4']
# SCANS_ELEVS = ['lpel1', 'lpel2', 'lpel3', 'lpel4']

lfiles_elevs = [f'{WDIR}{RSITE}/2020/spel1/metoffice-c-band-rain-radar_dudwick_202010031811_raw-dual-polar-augzdr-sp-el1.dat',
                f'{WDIR}{RSITE}/2020/spel2/metoffice-c-band-rain-radar_dudwick_202010031811_raw-dual-polar-augzdr-sp-el2.dat',
                f'{WDIR}{RSITE}/2020/spel3/metoffice-c-band-rain-radar_dudwick_202010031810_raw-dual-polar-augzdr-sp-el3.dat',
                f'{WDIR}{RSITE}/2020/spel4/metoffice-c-band-rain-radar_dudwick_202010031810_raw-dual-polar-augzdr-sp-el4.dat'
               ]





# Initialise the towerpy's objects.
rdata = [tp.io.ukmo.Rad_scan(i, RSITE) for i in lfiles_elevs]

# Read-in the data
[robj.ppi_ukmoraw(exclude_vars=['W [m/s]', 'SQI [-]', 'CI [dB]'])
 for c, robj in enumerate(rdata)]

# Create a georeference grid for each object.
[robj.ppi_ukmogeoref() for c, robj in enumerate(rdata)]








rsnr = [tp.eclass.snr.SNR_Classif(robj) for robj in rdata]
[robj.signalnoiseratio(rdata[c].georef, rdata[c].params, rdata[c].vars,
                       min_snr=55, data2correct=rdata[c].vars,
                       plot_method=plot_methods)
 for c, robj in enumerate(rsnr)]








rnme = [tp.eclass.nme.NME_ID(robj) for robj in rsnr]
[robj.clutter_id(rdata[c].georef, rdata[c].params, rsnr[c].vars,
                 binary_class=159, data2correct=rsnr[c].vars,
                 plot_method=plot_methods)
 for c, robj in enumerate(tqdm(rnme, desc='NME_ID'))]








help(tp.profs.polprofs.PolarimetricProfiles.pol_rdqvps)


rdqvps = tp.profs.polprofs.PolarimetricProfiles(rnme)
rdqvps.pol_rdqvps([i.georef for i in rdata], [i.params for i in rdata],
                  [i.vars for i in rnme],
                  spec_range=25, plot_method=True)








rmlyr = tp.ml.mlyr.MeltingLayer(rdqvps)
rmlyr.ml_detection(rdqvps, min_h=0.25, comb_id=14, param_k=0.1, plot_method=True)


rmlyr.ml_top


rmlyr.ml_bottom



