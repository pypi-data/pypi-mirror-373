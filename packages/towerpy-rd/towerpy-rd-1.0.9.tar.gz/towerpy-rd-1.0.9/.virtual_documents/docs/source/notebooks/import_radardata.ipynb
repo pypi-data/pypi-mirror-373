








import towerpy as tp
import datetime as dt





wdir = 'path/to/radarfile/'
fname = 'radarfile.dat'
rsite = 'myradarsite'
scan_time = dt.datetime(2018, 7, 14, 17, 25, 30)








wrobj = []





rdata = tp.io.empty.Rad_scan(wdir+fname, f'{rsite}')
rdata.ppi_emptylike(nrays=360, ngates=1000, elev=0.6,
                    rad_vars='default', scandt=scan_time, tz='Europe/Berlin')





rdata.vars


rdata.params








rdata.vars['ZH [dBZ]'] = wrobj.ZH.values[0]
rdata.vars['ZDR [dB]'] = wrobj.ZDR.values[0]
rdata.vars['PhiDP [deg]'] = wrobj.PHIDP.values[0]
rdata.vars['rhoHV [-]'] = wrobj.RHOHV.values[0]
rdata.vars['KDP [deg/km]'] = wrobj.KDP.values[0]





rdata.ppi_emptygeoref(gate0=75, gateres=150.)


rdata.georef





# tp.datavis.rad_display.plot_ppi(rdata.georef, rdata.params, rdata.vars)



