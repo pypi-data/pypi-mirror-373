








import pickle
import towerpy as tp
from IPython import get_ipython

# %matplotlib notebook





rsite = 'chenies'
fdir = f'../../../datasets/{rsite}/y2020/spel4/'

with open(fdir+'qvps.tpy', 'rb') as f:
    rprofs = pickle.load(f)

with open(fdir+'mlyrsqvps.tpy', 'rb') as f:
    rmlyr = pickle.load(f)

# These objects were created with a previous version of Towerpy,
# so it is necessary to update the pof_type argument to agree with the latest release.
for i in rprofs:
    i.profs_type = 'QVPs'





radb = tp.datavis.rad_interactive.hti_base(rprofs, mlyrs=rmlyr, stats='std_dev',
                                           ptype='fcontour',
                                           var2plot='rhoHV [-]',
                                           # contourl='ZH [dBZ]',
                                           htiylim=[0, 8], tz='Europe/London')
radexpvis = tp.datavis.rad_interactive.HTI_Int()
radb.on_clicked(radexpvis.hzfunc)



