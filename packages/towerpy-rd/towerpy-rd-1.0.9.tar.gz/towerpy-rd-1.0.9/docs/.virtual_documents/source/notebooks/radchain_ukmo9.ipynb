








import towerpy as tp
import cartopy.crs as ccrs

%matplotlib notebook





rsite = 'chenies'
fdir = f'../../../datasets/{rsite}/y2020/spel4/'
fname = (f'metoffice-c-band-rain-radar_{rsite}_202010030730_raw-dual-polar-'
         + 'augzdr-sp-el4.dat')





rdata = tp.io.ukmo.Rad_scan(fdir+fname, rsite)
rdata.ppi_ukmoraw(exclude_vars=['W [m/s]', 'SQI [-]', 'CI [dB]'])
rdata.ppi_ukmogeoref()

#tp.datavis.rad_display.plot_ppi(rdata.georef, rdata.params, rdata.vars)
tp.datavis.rad_display.plot_setppi(rdata.georef, rdata.params, rdata.vars)





rsnr = tp.eclass.snr.SNR_Classif(rdata)
rsnr.signalnoiseratio(rdata.georef, rdata.params, rdata.vars, min_snr=55,
                      data2correct=rdata.vars, plot_method=True)





rprofs = tp.profs.polprofs.PolarimetricProfiles(rdata)
rprofs.pol_qvps(rdata.georef, rdata.params, rsnr.vars, stats=True)





tp.datavis.rad_display.plot_radprofiles(rprofs,
                                        rprofs.georef['profiles_height [km]'],
                                        colours=True)





rmlyr = tp.ml.mlyr.MeltingLayer(rprofs)
rmlyr.ml_detection(rprofs, min_h=0.25, comb_id=14, plot_method=True)


rmlyr.ml_top


rmlyr.ml_thickness


rmlyr.ml_bottom








rcalzdr = tp.calib.calib_zdr.ZDR_Calibration(rdata)
rcalzdr.offsetdetection_qvps(pol_profs=rprofs, mlyr=rmlyr, min_h=0.25, zdr_0=0.182)


rcalzdr.zdr_offset






