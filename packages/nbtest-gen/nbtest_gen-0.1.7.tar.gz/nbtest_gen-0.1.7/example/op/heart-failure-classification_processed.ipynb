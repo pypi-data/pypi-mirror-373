{
 "cells": [
  {
   "cell_type": "code",
   "execution_count": null,
   "id": "8008f4f6",
   "metadata": {},
   "outputs": [],
   "source": [
    "import nbtest\n",
    "import json\n",
    "import numpy as np\n",
    "import matplotlib.pyplot as plt\n",
    "random_seed = np.random.randint(10000)"
   ]
  },
  {
   "cell_type": "markdown",
   "id": "301d0f47",
   "metadata": {
    "id": "43RPOJM2DHvA"
   },
   "source": [
    "# Data Understanding Step"
   ]
  },
  {
   "cell_type": "code",
   "execution_count": null,
   "id": "0e3d2849",
   "metadata": {},
   "outputs": [],
   "source": [
    "import pandas as pd\n",
    "import matplotlib.pyplot as plt\n",
    "df = pd.read_csv(\"./heart_failure.csv\")"
   ]
  },
  {
   "cell_type": "code",
   "execution_count": null,
   "id": "2f7a5945",
   "metadata": {},
   "outputs": [],
   "source": [
    "df.head(n=10)"
   ]
  },
  {
   "cell_type": "code",
   "execution_count": null,
   "id": "d5de1855",
   "metadata": {},
   "outputs": [],
   "source": [
    "df.info()"
   ]
  },
  {
   "cell_type": "code",
   "execution_count": null,
   "id": "b8b73672",
   "metadata": {},
   "outputs": [],
   "source": [
    "df.isnull().any()"
   ]
  },
  {
   "cell_type": "code",
   "execution_count": null,
   "id": "0ae48df3",
   "metadata": {},
   "outputs": [],
   "source": [
    "df.shape"
   ]
  },
  {
   "cell_type": "code",
   "execution_count": null,
   "id": "43530881",
   "metadata": {},
   "outputs": [],
   "source": [
    "df.describe()"
   ]
  },
  {
   "cell_type": "code",
   "execution_count": null,
   "id": "e170b043",
   "metadata": {},
   "outputs": [],
   "source": [
    "for i in df.columns:\n",
    "  print(i)\n",
    "  print(df[f\"{i}\"].value_counts())"
   ]
  },
  {
   "cell_type": "code",
   "execution_count": null,
   "id": "e190bb12",
   "metadata": {},
   "outputs": [],
   "source": [
    "import seaborn as sns\n",
    "import matplotlib.pyplot as plt\n",
    "sns.pairplot(df, vars=['age', 'anaemia', 'creatinine_phosphokinase', 'diabetes',\n",
    "       'ejection_fraction', 'high_blood_pressure', 'platelets',\n",
    "       'serum_creatinine', 'serum_sodium', 'sex', 'smoking', 'time','DEATH_EVENT'], hue='DEATH_EVENT')\n",
    "plt.show()"
   ]
  },
  {
   "cell_type": "code",
   "execution_count": null,
   "id": "823aa1e4",
   "metadata": {},
   "outputs": [],
   "source": [
    "korelasyon_matrisi = df.corr().abs()\n",
    "plt.figure(figsize=(8, 6), dpi=100)\n",
    "sns.heatmap(korelasyon_matrisi, annot=True, cmap='rocket_r', fmt=\".2f\", linewidths=1)\n",
    "plt.title(\"Korelasyon Heatmap\")\n",
    "plt.show()"
   ]
  },
  {
   "cell_type": "code",
   "execution_count": null,
   "id": "ee03033d",
   "metadata": {},
   "outputs": [],
   "source": [
    "print(df.corr().abs()[\"DEATH_EVENT\"].nlargest(15))"
   ]
  },
  {
   "cell_type": "code",
   "execution_count": null,
   "id": "bf909ec3",
   "metadata": {},
   "outputs": [],
   "source": [
    "col_reduced = df.corr().abs()[\"DEATH_EVENT\"].nlargest(6).index\n",
    "col_reduced"
   ]
  },
  {
   "cell_type": "markdown",
   "id": "372bff23",
   "metadata": {
    "id": "XxnN_jC0DUDN"
   },
   "source": [
    "# **Data Slicing Step**"
   ]
  },
  {
   "cell_type": "code",
   "execution_count": null,
   "id": "19b553f1",
   "metadata": {},
   "outputs": [],
   "source": [
    "x = df[['time', 'serum_creatinine', 'ejection_fraction', 'age', 'serum_sodium']].values # Numpy Array\n",
    "y = df.iloc[:,-1].values # Numpy Array"
   ]
  },
  {
   "cell_type": "markdown",
   "id": "120aa98a",
   "metadata": {
    "id": "7NlbF3uaLPRO"
   },
   "source": [
    "# **Model Training**"
   ]
  },
  {
   "cell_type": "markdown",
   "id": "f5795ef7",
   "metadata": {
    "id": "929B_XS-LiCL"
   },
   "source": [
    "# **Train and Test Split**"
   ]
  },
  {
   "cell_type": "code",
   "execution_count": null,
   "id": "b9389a6c",
   "metadata": {},
   "outputs": [],
   "source": [
    "from sklearn.model_selection import train_test_split\n",
    "x_train, x_test, y_train, y_test = train_test_split(x, y, test_size=0.2, random_state=2)"
   ]
  },
  {
   "cell_type": "markdown",
   "id": "0e98e659",
   "metadata": {
    "id": "Sg6lDxB-cE_C"
   },
   "source": [
    "#**Verilerin Ölceklenmesi**"
   ]
  },
  {
   "cell_type": "code",
   "execution_count": null,
   "id": "a5835da3",
   "metadata": {},
   "outputs": [],
   "source": [
    "from sklearn.metrics import roc_curve, auc, accuracy_score\n",
    "from sklearn.metrics import confusion_matrix\n",
    "from sklearn.metrics import ConfusionMatrixDisplay\n",
    "from sklearn.preprocessing import StandardScaler\n",
    "sc=StandardScaler()\n",
    "X_train = sc.fit_transform(x_train)\n",
    "X_test = sc.transform(x_test)"
   ]
  },
  {
   "cell_type": "markdown",
   "id": "2648c7b5",
   "metadata": {
    "id": "nS_hM4fhahgI"
   },
   "source": [
    "#**Logistic Regression**"
   ]
  },
  {
   "cell_type": "code",
   "execution_count": null,
   "id": "62865a89",
   "metadata": {},
   "outputs": [],
   "source": [
    "from sklearn.linear_model import LogisticRegression\n",
    "logr = LogisticRegression(random_state=0)\n",
    "logr.fit(X_train,y_train)\n",
    "y_pred = logr.predict(X_test)\n",
    "cm = confusion_matrix(y_test, y_pred, labels = logr.classes_)\n",
    "disp = ConfusionMatrixDisplay(confusion_matrix = cm, display_labels = logr.classes_)\n",
    "disp.plot(cmap=\"YlGnBu\")\n",
    "plt.show()\n",
    "print()\n",
    "print(\"accuracy: \", accuracy_score(y_test, y_pred))"
   ]
  },
  {
   "cell_type": "code",
   "execution_count": null,
   "id": "05745972",
   "metadata": {},
   "outputs": [],
   "source": [
    "import sklearn\n",
    "y_proba = logr.predict_proba(X_test)\n",
    "fpr, tpr, thresholds = roc_curve(y_test, y_proba[:, 1], pos_label=1)\n",
    "roc_auc = auc(fpr, tpr)\n",
    "plt.figure(figsize=(10, 6))\n",
    "plt.plot(fpr, tpr, color='darkorange', lw=2, label='ROC curve (area = {:.2f})'.format(roc_auc))\n",
    "plt.plot([0, 1], [0, 1], color='navy', lw=2, linestyle='--')\n",
    "plt.xlim([0.0, 1.0])\n",
    "plt.ylim([0.0, 1.05])\n",
    "plt.xlabel('False Positive Rate')\n",
    "plt.ylabel('True Positive Rate')\n",
    "plt.title('Receiver Operating Characteristic (ROC) Curve')\n",
    "plt.legend(loc='lower right')\n",
    "plt.show()\n",
    "print(sklearn.metrics.roc_auc_score(y_test, y_pred))"
   ]
  },
  {
   "cell_type": "markdown",
   "id": "296f7a03",
   "metadata": {
    "id": "CU-4cx90eyJW"
   },
   "source": [
    "#**KNN - K Nearest Neighboor**"
   ]
  },
  {
   "cell_type": "code",
   "execution_count": null,
   "id": "1872bb45",
   "metadata": {},
   "outputs": [],
   "source": [
    "from sklearn.neighbors import KNeighborsClassifier\n",
    "knn = KNeighborsClassifier(n_neighbors=5, metric='euclidean')\n",
    "knn.fit(X_train,y_train)\n",
    "y_pred = knn.predict(X_test)\n",
    "cm = confusion_matrix(y_test, y_pred, labels = knn.classes_)\n",
    "disp = ConfusionMatrixDisplay(confusion_matrix = cm, display_labels = knn.classes_)\n",
    "disp.plot(cmap=\"YlGnBu\")\n",
    "plt.show()\n",
    "print()\n",
    "print(\"accuracy: \", accuracy_score(y_test, y_pred))"
   ]
  },
  {
   "cell_type": "code",
   "execution_count": null,
   "id": "694ce92b",
   "metadata": {},
   "outputs": [],
   "source": [
    "import matplotlib.pyplot as plt\n",
    "y_proba = knn.predict_proba(X_test)\n",
    "fpr, tpr, thresholds = roc_curve(y_test, y_proba[:, 1], pos_label=1)\n",
    "roc_auc = auc(fpr, tpr)\n",
    "plt.figure(figsize=(10, 6))\n",
    "plt.plot(fpr, tpr, color='darkorange', lw=2, label='ROC curve (area = {:.2f})'.format(roc_auc))\n",
    "plt.plot([0, 1], [0, 1], color='navy', lw=2, linestyle='--')\n",
    "plt.xlim([0.0, 1.0])\n",
    "plt.ylim([0.0, 1.05])\n",
    "plt.xlabel('False Positive Rate')\n",
    "plt.ylabel('True Positive Rate')\n",
    "plt.title('Receiver Operating Characteristic (ROC) Curve')\n",
    "plt.legend(loc='lower right')\n",
    "plt.show()\n",
    "print(sklearn.metrics.roc_auc_score(y_test, y_pred))"
   ]
  },
  {
   "cell_type": "markdown",
   "id": "cfb93c69",
   "metadata": {
    "id": "GDocn462fBN3"
   },
   "source": [
    "#**SVC - Support Vector Classification**"
   ]
  },
  {
   "cell_type": "code",
   "execution_count": null,
   "id": "47d39355",
   "metadata": {},
   "outputs": [],
   "source": [
    "from sklearn.svm import SVC\n",
    "svc = SVC(kernel='rbf', probability=True)\n",
    "svc.fit(X_train,y_train)\n",
    "y_pred = svc.predict(X_test)\n",
    "cm = confusion_matrix(y_test, y_pred, labels = svc.classes_)\n",
    "disp = ConfusionMatrixDisplay(confusion_matrix = cm, display_labels = svc.classes_)\n",
    "disp.plot(cmap=\"YlGnBu\")\n",
    "plt.show()\n",
    "print()\n",
    "print(\"accuracy: \", accuracy_score(y_test, y_pred))"
   ]
  },
  {
   "cell_type": "code",
   "execution_count": null,
   "id": "250435e6",
   "metadata": {},
   "outputs": [],
   "source": [
    "import matplotlib.pyplot as plt\n",
    "y_proba = svc.predict_proba(X_test)\n",
    "fpr, tpr, thresholds = roc_curve(y_test, y_proba[:, 1], pos_label=1)\n",
    "roc_auc = auc(fpr, tpr)\n",
    "plt.figure(figsize=(10, 6))\n",
    "plt.plot(fpr, tpr, color='darkorange', lw=2, label='ROC curve (area = {:.2f})'.format(roc_auc))\n",
    "plt.plot([0, 1], [0, 1], color='navy', lw=2, linestyle='--')\n",
    "plt.xlim([0.0, 1.0])\n",
    "plt.ylim([0.0, 1.05])\n",
    "plt.xlabel('False Positive Rate')\n",
    "plt.ylabel('True Positive Rate')\n",
    "plt.title('Receiver Operating Characteristic (ROC) Curve')\n",
    "plt.legend(loc='lower right')\n",
    "plt.show()\n",
    "print(sklearn.metrics.roc_auc_score(y_test, y_pred))"
   ]
  },
  {
   "cell_type": "markdown",
   "id": "cdb73ce9",
   "metadata": {
    "id": "KP0nnGPnfN3P"
   },
   "source": [
    "#**Naive Bayes - Gaussian**"
   ]
  },
  {
   "cell_type": "code",
   "execution_count": null,
   "id": "674ba739",
   "metadata": {},
   "outputs": [],
   "source": [
    "from sklearn.naive_bayes import GaussianNB\n",
    "gnb = GaussianNB()\n",
    "gnb.fit(X_train, y_train)\n",
    "y_pred = gnb.predict(X_test)\n",
    "cm = confusion_matrix(y_test, y_pred, labels = gnb.classes_)\n",
    "disp = ConfusionMatrixDisplay(confusion_matrix = cm, display_labels = gnb.classes_)\n",
    "disp.plot(cmap=\"YlGnBu\")\n",
    "plt.show()\n",
    "print()\n",
    "print(\"accuracy: \", accuracy_score(y_test, y_pred))"
   ]
  },
  {
   "cell_type": "code",
   "execution_count": null,
   "id": "2c0e8ad8",
   "metadata": {},
   "outputs": [],
   "source": [
    "import matplotlib.pyplot as plt\n",
    "y_proba = gnb.predict_proba(X_test)\n",
    "fpr, tpr, thresholds = roc_curve(y_test, y_proba[:, 1], pos_label=1)\n",
    "roc_auc = auc(fpr, tpr)\n",
    "plt.figure(figsize=(10, 6))\n",
    "plt.plot(fpr, tpr, color='darkorange', lw=2, label='ROC curve (area = {:.2f})'.format(roc_auc))\n",
    "plt.plot([0, 1], [0, 1], color='navy', lw=2, linestyle='--')\n",
    "plt.xlim([0.0, 1.0])\n",
    "plt.ylim([0.0, 1.05])\n",
    "plt.xlabel('False Positive Rate')\n",
    "plt.ylabel('True Positive Rate')\n",
    "plt.title('Receiver Operating Characteristic (ROC) Curve')\n",
    "plt.legend(loc='lower right')\n",
    "plt.show()\n",
    "print(sklearn.metrics.roc_auc_score(y_test, y_pred))"
   ]
  },
  {
   "cell_type": "markdown",
   "id": "1f8d83c4",
   "metadata": {
    "id": "Ll3yVyQAf4g_"
   },
   "source": [
    "#**Decision Tree Classifier**"
   ]
  },
  {
   "cell_type": "code",
   "execution_count": null,
   "id": "7ea06430",
   "metadata": {},
   "outputs": [],
   "source": [
    "from sklearn.tree import DecisionTreeClassifier\n",
    "dtc = DecisionTreeClassifier(criterion = 'entropy', random_state=10)\n",
    "dtc.fit(X_train,y_train)\n",
    "y_pred = dtc.predict(X_test)\n",
    "cm = confusion_matrix(y_test, y_pred, labels = dtc.classes_)\n",
    "disp = ConfusionMatrixDisplay(confusion_matrix = cm, display_labels = dtc.classes_)\n",
    "disp.plot(cmap=\"YlGnBu\")\n",
    "plt.show()\n",
    "print()\n",
    "print(\"accuracy: \", accuracy_score(y_test, y_pred))"
   ]
  },
  {
   "cell_type": "code",
   "execution_count": null,
   "id": "fdec5c0e",
   "metadata": {},
   "outputs": [],
   "source": [
    "import matplotlib.pyplot as plt\n",
    "y_proba = dtc.predict_proba(X_test)\n",
    "fpr, tpr, thresholds = roc_curve(y_test, y_proba[:, 1], pos_label=1)\n",
    "roc_auc = auc(fpr, tpr)\n",
    "plt.figure(figsize=(10, 6))\n",
    "plt.plot(fpr, tpr, color='darkorange', lw=2, label='ROC curve (area = {:.2f})'.format(roc_auc))\n",
    "plt.plot([0, 1], [0, 1], color='navy', lw=2, linestyle='--')\n",
    "plt.xlim([0.0, 1.0])\n",
    "plt.ylim([0.0, 1.05])\n",
    "plt.xlabel('False Positive Rate')\n",
    "plt.ylabel('True Positive Rate')\n",
    "plt.title('Receiver Operating Characteristic (ROC) Curve')\n",
    "plt.legend(loc='lower right')\n",
    "plt.show()\n",
    "print(sklearn.metrics.roc_auc_score(y_test, y_pred))"
   ]
  },
  {
   "cell_type": "markdown",
   "id": "2f57576d",
   "metadata": {
    "id": "IqIiWpYVgM_Y"
   },
   "source": [
    "#**Random Forest Classification** - Best Model ✅"
   ]
  },
  {
   "cell_type": "code",
   "execution_count": null,
   "id": "7baebaa0",
   "metadata": {},
   "outputs": [],
   "source": [
    "from sklearn.ensemble import RandomForestClassifier\n",
    "rfc = RandomForestClassifier(n_estimators=35, criterion = 'entropy', random_state=24)\n",
    "rfc.fit(X_train,y_train)\n",
    "y_pred = rfc.predict(X_test)\n",
    "cm = confusion_matrix(y_test, y_pred, labels = rfc.classes_)\n",
    "disp = ConfusionMatrixDisplay(confusion_matrix = cm, display_labels = rfc.classes_)\n",
    "disp.plot(cmap=\"YlGnBu\")\n",
    "plt.show()\n",
    "print()\n",
    "print(\"accuracy: \", accuracy_score(y_test, y_pred))"
   ]
  },
  {
   "cell_type": "code",
   "execution_count": null,
   "id": "4cb1fb7e",
   "metadata": {},
   "outputs": [],
   "source": [
    "import matplotlib.pyplot as plt\n",
    "y_proba = rfc.predict_proba(X_test)\n",
    "fpr, tpr, thresholds = roc_curve(y_test, y_proba[:, 1], pos_label=1)\n",
    "roc_auc = auc(fpr, tpr)\n",
    "plt.figure(figsize=(10, 6))\n",
    "plt.plot(fpr, tpr, color='darkorange', lw=2, label='ROC curve (area = {:.2f})'.format(roc_auc))\n",
    "plt.plot([0, 1], [0, 1], color='navy', lw=2, linestyle='--')\n",
    "plt.xlim([0.0, 1.0])\n",
    "plt.ylim([0.0, 1.05])\n",
    "plt.xlabel('False Positive Rate')\n",
    "plt.ylabel('True Positive Rate')\n",
    "plt.title('Receiver Operating Characteristic (ROC) Curve')\n",
    "plt.legend(loc='lower right')\n",
    "plt.show()\n",
    "print(sklearn.metrics.roc_auc_score(y_test, y_pred))"
   ]
  }
 ],
 "metadata": {},
 "nbformat": 4,
 "nbformat_minor": 5
}
