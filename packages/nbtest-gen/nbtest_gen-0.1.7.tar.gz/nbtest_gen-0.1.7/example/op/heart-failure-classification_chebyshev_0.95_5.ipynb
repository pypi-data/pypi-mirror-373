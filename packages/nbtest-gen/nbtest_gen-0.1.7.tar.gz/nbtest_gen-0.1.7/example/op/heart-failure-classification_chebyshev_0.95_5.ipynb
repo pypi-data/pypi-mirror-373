{
 "cells": [
  {
   "cell_type": "code",
   "execution_count": null,
   "id": "8008f4f6",
   "metadata": {},
   "outputs": [],
   "source": [
    "import nbtest\n",
    "import json\n",
    "import numpy as np\n",
    "import matplotlib.pyplot as plt\n",
    "random_seed = np.random.randint(10000)"
   ]
  },
  {
   "cell_type": "markdown",
   "id": "301d0f47",
   "metadata": {
    "id": "43RPOJM2DHvA"
   },
   "source": [
    "# Data Understanding Step"
   ]
  },
  {
   "cell_type": "code",
   "execution_count": null,
   "id": "0e3d2849",
   "metadata": {
    "nbtest_hidden_asserts": [
     {
      "content": "nbtest.assert_shape(df, (299, 13), test_id='0')",
      "index": 3
     },
     {
      "content": "nbtest.assert_column_names(df, ['DEATH_EVENT', 'age', 'anaemia', 'creatinine_phosphokinase', 'diabetes', 'ejection_fraction', 'high_blood_pressure', 'platelets', 'serum_creatinine', 'serum_sodium', 'sex', 'smoking', 'time'], test_id='1')",
      "index": 4
     },
     {
      "content": "nbtest.assert_column_types(df, ['int64', 'float64', 'int64', 'int64', 'int64', 'int64', 'int64', 'float64', 'float64', 'int64', 'int64', 'int64', 'int64'], test_id='2')",
      "index": 5
     },
     {
      "content": "nbtest.assert_df_mean(df, 20331.504464625676, atol=0.0, test_id='3')",
      "index": 6
     },
     {
      "content": "nbtest.assert_df_var(df, 5655280085.135918, atol=0.0, test_id='4')",
      "index": 7
     }
    ]
   },
   "outputs": [],
   "source": [
    "import pandas as pd\n",
    "import matplotlib.pyplot as plt\n",
    "df = pd.read_csv('./heart_failure.csv')"
   ]
  },
  {
   "cell_type": "code",
   "execution_count": null,
   "id": "2f7a5945",
   "metadata": {
    "nbtest_hidden_asserts": [
     {
      "content": "nbtest.assert_shape(nbtest_tmpvar_0, (10, 13), test_id='5')",
      "index": 1
     },
     {
      "content": "nbtest.assert_column_names(nbtest_tmpvar_0, ['DEATH_EVENT', 'age', 'anaemia', 'creatinine_phosphokinase', 'diabetes', 'ejection_fraction', 'high_blood_pressure', 'platelets', 'serum_creatinine', 'serum_sodium', 'sex', 'smoking', 'time'], test_id='6')",
      "index": 2
     },
     {
      "content": "nbtest.assert_column_types(nbtest_tmpvar_0, ['int64', 'float64', 'int64', 'int64', 'int64', 'int64', 'int64', 'float64', 'float64', 'int64', 'int64', 'int64', 'int64'], test_id='7')",
      "index": 3
     },
     {
      "content": "nbtest.assert_df_mean(nbtest_tmpvar_0, 20584.102, atol=0.0, test_id='8')",
      "index": 4
     },
     {
      "content": "nbtest.assert_df_var(nbtest_tmpvar_0, 5735375787.815456, atol=0.0, test_id='9')",
      "index": 5
     }
    ]
   },
   "outputs": [],
   "source": [
    "nbtest_tmpvar_0 = df.head(n=10)"
   ]
  },
  {
   "cell_type": "code",
   "execution_count": null,
   "id": "d5de1855",
   "metadata": {},
   "outputs": [],
   "source": [
    "df.info()"
   ]
  },
  {
   "cell_type": "code",
   "execution_count": null,
   "id": "b8b73672",
   "metadata": {
    "nbtest_hidden_asserts": [
     {
      "content": "nbtest.assert_allclose(nbtest_tmpvar_2.sum(), 0.0, atol=0.0, test_id='10')",
      "index": 1
     }
    ]
   },
   "outputs": [],
   "source": [
    "nbtest_tmpvar_2 = df.isnull().any()"
   ]
  },
  {
   "cell_type": "code",
   "execution_count": null,
   "id": "0ae48df3",
   "metadata": {
    "nbtest_hidden_asserts": [
     {
      "content": "nbtest.assert_shape(df, (299, 13), test_id='11')",
      "index": 1
     }
    ]
   },
   "outputs": [],
   "source": [
    "df.shape"
   ]
  },
  {
   "cell_type": "code",
   "execution_count": null,
   "id": "43530881",
   "metadata": {
    "nbtest_hidden_asserts": [
     {
      "content": "nbtest.assert_shape(nbtest_tmpvar_3, (8, 13), test_id='12')",
      "index": 1
     },
     {
      "content": "nbtest.assert_column_names(nbtest_tmpvar_3, ['DEATH_EVENT', 'age', 'anaemia', 'creatinine_phosphokinase', 'diabetes', 'ejection_fraction', 'high_blood_pressure', 'platelets', 'serum_creatinine', 'serum_sodium', 'sex', 'smoking', 'time'], test_id='13')",
      "index": 2
     },
     {
      "content": "nbtest.assert_column_types(nbtest_tmpvar_3, ['float64', 'float64', 'float64', 'float64', 'float64', 'float64', 'float64', 'float64', 'float64', 'float64', 'float64', 'float64', 'float64'], test_id='14')",
      "index": 3
     },
     {
      "content": "nbtest.assert_df_mean(nbtest_tmpvar_3, 19528.024571370242, atol=0.0, test_id='15')",
      "index": 4
     },
     {
      "content": "nbtest.assert_df_var(nbtest_tmpvar_3, 9311258132.272377, atol=0.0, test_id='16')",
      "index": 5
     }
    ]
   },
   "outputs": [],
   "source": [
    "nbtest_tmpvar_3 = df.describe()"
   ]
  },
  {
   "cell_type": "code",
   "execution_count": null,
   "id": "e170b043",
   "metadata": {},
   "outputs": [],
   "source": [
    "for i in df.columns:\n",
    "  print(i)\n",
    "  print(df[f\"{i}\"].value_counts())"
   ]
  },
  {
   "cell_type": "code",
   "execution_count": null,
   "id": "e190bb12",
   "metadata": {
    "nbtest_hidden_asserts": [
     {
      "content": "nbtest.assert_plot_equal(nbtest_tmpvar_4, 'op/reference_plot_nbtest_tmpvar_4.png', tol=0.0, test_id='17')",
      "index": 4
     }
    ]
   },
   "outputs": [],
   "source": [
    "import seaborn as sns\n",
    "import matplotlib.pyplot as plt\n",
    "sns.pairplot(df, vars=['age', 'anaemia', 'creatinine_phosphokinase', 'diabetes', 'ejection_fraction', 'high_blood_pressure', 'platelets', 'serum_creatinine', 'serum_sodium', 'sex', 'smoking', 'time', 'DEATH_EVENT'], hue='DEATH_EVENT')\n",
    "nbtest_tmpvar_4 = plt.gcf()\n",
    "plt.show()"
   ]
  },
  {
   "cell_type": "code",
   "execution_count": null,
   "id": "823aa1e4",
   "metadata": {
    "nbtest_hidden_asserts": [
     {
      "content": "nbtest.assert_plot_equal(nbtest_tmpvar_6, 'op/reference_plot_nbtest_tmpvar_6.png', tol=0.0, test_id='18')",
      "index": 5
     }
    ]
   },
   "outputs": [],
   "source": [
    "korelasyon_matrisi = df.corr().abs()\n",
    "plt.figure(figsize=(8, 6), dpi=100)\n",
    "sns.heatmap(korelasyon_matrisi, annot=True, cmap='rocket_r', fmt='.2f', linewidths=1)\n",
    "plt.title('Korelasyon Heatmap')\n",
    "nbtest_tmpvar_6 = plt.gcf()\n",
    "plt.show()"
   ]
  },
  {
   "cell_type": "code",
   "execution_count": null,
   "id": "ee03033d",
   "metadata": {},
   "outputs": [],
   "source": [
    "print(df.corr().abs()[\"DEATH_EVENT\"].nlargest(15))"
   ]
  },
  {
   "cell_type": "code",
   "execution_count": null,
   "id": "bf909ec3",
   "metadata": {},
   "outputs": [],
   "source": [
    "col_reduced = df.corr().abs()[\"DEATH_EVENT\"].nlargest(6).index\n",
    "col_reduced"
   ]
  },
  {
   "cell_type": "markdown",
   "id": "372bff23",
   "metadata": {
    "id": "XxnN_jC0DUDN"
   },
   "source": [
    "# **Data Slicing Step**"
   ]
  },
  {
   "cell_type": "code",
   "execution_count": null,
   "id": "19b553f1",
   "metadata": {},
   "outputs": [],
   "source": [
    "x = df[['time', 'serum_creatinine', 'ejection_fraction', 'age', 'serum_sodium']].values # Numpy Array\n",
    "y = df.iloc[:,-1].values # Numpy Array"
   ]
  },
  {
   "cell_type": "markdown",
   "id": "120aa98a",
   "metadata": {
    "id": "7NlbF3uaLPRO"
   },
   "source": [
    "# **Model Training**"
   ]
  },
  {
   "cell_type": "markdown",
   "id": "f5795ef7",
   "metadata": {
    "id": "929B_XS-LiCL"
   },
   "source": [
    "# **Train and Test Split**"
   ]
  },
  {
   "cell_type": "code",
   "execution_count": null,
   "id": "b9389a6c",
   "metadata": {},
   "outputs": [],
   "source": [
    "from sklearn.model_selection import train_test_split\n",
    "x_train, x_test, y_train, y_test = train_test_split(x, y, test_size=0.2, random_state=2)"
   ]
  },
  {
   "cell_type": "markdown",
   "id": "0e98e659",
   "metadata": {
    "id": "Sg6lDxB-cE_C"
   },
   "source": [
    "#**Verilerin Ölceklenmesi**"
   ]
  },
  {
   "cell_type": "code",
   "execution_count": null,
   "id": "a5835da3",
   "metadata": {},
   "outputs": [],
   "source": [
    "from sklearn.metrics import roc_curve, auc, accuracy_score\n",
    "from sklearn.metrics import confusion_matrix\n",
    "from sklearn.metrics import ConfusionMatrixDisplay\n",
    "from sklearn.preprocessing import StandardScaler\n",
    "sc=StandardScaler()\n",
    "X_train = sc.fit_transform(x_train)\n",
    "X_test = sc.transform(x_test)"
   ]
  },
  {
   "cell_type": "markdown",
   "id": "2648c7b5",
   "metadata": {
    "id": "nS_hM4fhahgI"
   },
   "source": [
    "#**Logistic Regression**"
   ]
  },
  {
   "cell_type": "code",
   "execution_count": null,
   "id": "62865a89",
   "metadata": {
    "nbtest_hidden_asserts": [
     {
      "content": "nbtest.assert_plot_equal(nbtest_tmpvar_7, 'op/reference_plot_nbtest_tmpvar_7.png', tol=17.873398016821184, test_id='19')",
      "index": 8
     },
     {
      "content": "nbtest.assert_allclose(accuracy_score(y_test, y_pred), 0.86, atol=0.13824294235551798, test_id='20')",
      "index": 12
     }
    ]
   },
   "outputs": [],
   "source": [
    "from sklearn.linear_model import LogisticRegression\n",
    "logr = LogisticRegression(random_state=0)\n",
    "logr.fit(X_train, y_train)\n",
    "y_pred = logr.predict(X_test)\n",
    "cm = confusion_matrix(y_test, y_pred, labels=logr.classes_)\n",
    "disp = ConfusionMatrixDisplay(confusion_matrix=cm, display_labels=logr.classes_)\n",
    "disp.plot(cmap='YlGnBu')\n",
    "nbtest_tmpvar_7 = plt.gcf()\n",
    "plt.show()\n",
    "print()\n",
    "print('accuracy: ', accuracy_score(y_test, y_pred))"
   ]
  },
  {
   "cell_type": "code",
   "execution_count": null,
   "id": "05745972",
   "metadata": {
    "nbtest_hidden_asserts": [
     {
      "content": "nbtest.assert_allclose(roc_auc, 0.9011975576722046, atol=0.3108183263938182, test_id='21')",
      "index": 4
     },
     {
      "content": "nbtest.assert_plot_equal(nbtest_tmpvar_8, 'op/reference_plot_nbtest_tmpvar_8.png', tol=11.544812280903304, test_id='22')",
      "index": 15
     },
     {
      "content": "nbtest.assert_allclose(sklearn.metrics.roc_auc_score(y_test, y_pred), 0.8117294344508721, atol=0.25288984323232894, test_id='23')",
      "index": 18
     }
    ]
   },
   "outputs": [],
   "source": [
    "import sklearn\n",
    "y_proba = logr.predict_proba(X_test)\n",
    "fpr, tpr, thresholds = roc_curve(y_test, y_proba[:, 1], pos_label=1)\n",
    "roc_auc = auc(fpr, tpr)\n",
    "plt.figure(figsize=(10, 6))\n",
    "plt.plot(fpr, tpr, color='darkorange', lw=2, label='ROC curve (area = {:.2f})'.format(roc_auc))\n",
    "plt.plot([0, 1], [0, 1], color='navy', lw=2, linestyle='--')\n",
    "plt.xlim([0.0, 1.0])\n",
    "plt.ylim([0.0, 1.05])\n",
    "plt.xlabel('False Positive Rate')\n",
    "plt.ylabel('True Positive Rate')\n",
    "plt.title('Receiver Operating Characteristic (ROC) Curve')\n",
    "plt.legend(loc='lower right')\n",
    "nbtest_tmpvar_8 = plt.gcf()\n",
    "plt.show()\n",
    "print(sklearn.metrics.roc_auc_score(y_test, y_pred))"
   ]
  },
  {
   "cell_type": "markdown",
   "id": "296f7a03",
   "metadata": {
    "id": "CU-4cx90eyJW"
   },
   "source": [
    "#**KNN - K Nearest Neighboor**"
   ]
  },
  {
   "cell_type": "code",
   "execution_count": null,
   "id": "1872bb45",
   "metadata": {
    "nbtest_hidden_asserts": [
     {
      "content": "nbtest.assert_plot_equal(nbtest_tmpvar_9, 'op/reference_plot_nbtest_tmpvar_9.png', tol=17.07327335452311, test_id='24')",
      "index": 8
     },
     {
      "content": "nbtest.assert_allclose(accuracy_score(y_test, y_pred), 0.8399999999999999, atol=0.11155467020454334, test_id='25')",
      "index": 12
     }
    ]
   },
   "outputs": [],
   "source": [
    "from sklearn.neighbors import KNeighborsClassifier\n",
    "knn = KNeighborsClassifier(n_neighbors=5, metric='euclidean')\n",
    "knn.fit(X_train, y_train)\n",
    "y_pred = knn.predict(X_test)\n",
    "cm = confusion_matrix(y_test, y_pred, labels=knn.classes_)\n",
    "disp = ConfusionMatrixDisplay(confusion_matrix=cm, display_labels=knn.classes_)\n",
    "disp.plot(cmap='YlGnBu')\n",
    "nbtest_tmpvar_9 = plt.gcf()\n",
    "plt.show()\n",
    "print()\n",
    "print('accuracy: ', accuracy_score(y_test, y_pred))"
   ]
  },
  {
   "cell_type": "code",
   "execution_count": null,
   "id": "694ce92b",
   "metadata": {
    "nbtest_hidden_asserts": [
     {
      "content": "nbtest.assert_allclose(roc_auc, 0.8703553284927643, atol=0.2526541382312891, test_id='26')",
      "index": 4
     },
     {
      "content": "nbtest.assert_plot_equal(nbtest_tmpvar_10, 'op/reference_plot_nbtest_tmpvar_10.png', tol=13.68849511358324, test_id='27')",
      "index": 15
     },
     {
      "content": "nbtest.assert_allclose(sklearn.metrics.roc_auc_score(y_test, y_pred), 0.7828300078540773, atol=0.221447519938719, test_id='28')",
      "index": 18
     }
    ]
   },
   "outputs": [],
   "source": [
    "import matplotlib.pyplot as plt\n",
    "y_proba = knn.predict_proba(X_test)\n",
    "fpr, tpr, thresholds = roc_curve(y_test, y_proba[:, 1], pos_label=1)\n",
    "roc_auc = auc(fpr, tpr)\n",
    "plt.figure(figsize=(10, 6))\n",
    "plt.plot(fpr, tpr, color='darkorange', lw=2, label='ROC curve (area = {:.2f})'.format(roc_auc))\n",
    "plt.plot([0, 1], [0, 1], color='navy', lw=2, linestyle='--')\n",
    "plt.xlim([0.0, 1.0])\n",
    "plt.ylim([0.0, 1.05])\n",
    "plt.xlabel('False Positive Rate')\n",
    "plt.ylabel('True Positive Rate')\n",
    "plt.title('Receiver Operating Characteristic (ROC) Curve')\n",
    "plt.legend(loc='lower right')\n",
    "nbtest_tmpvar_10 = plt.gcf()\n",
    "plt.show()\n",
    "print(sklearn.metrics.roc_auc_score(y_test, y_pred))"
   ]
  },
  {
   "cell_type": "markdown",
   "id": "cfb93c69",
   "metadata": {
    "id": "GDocn462fBN3"
   },
   "source": [
    "#**SVC - Support Vector Classification**"
   ]
  },
  {
   "cell_type": "code",
   "execution_count": null,
   "id": "47d39355",
   "metadata": {
    "nbtest_hidden_asserts": [
     {
      "content": "nbtest.assert_plot_equal(nbtest_tmpvar_11, 'op/reference_plot_nbtest_tmpvar_11.png', tol=17.92612039413047, test_id='29')",
      "index": 8
     },
     {
      "content": "nbtest.assert_allclose(accuracy_score(y_test, y_pred), 0.8433333333333334, atol=0.17384539747207062, test_id='30')",
      "index": 12
     }
    ]
   },
   "outputs": [],
   "source": [
    "from sklearn.svm import SVC\n",
    "svc = SVC(kernel='rbf', probability=True)\n",
    "svc.fit(X_train, y_train)\n",
    "y_pred = svc.predict(X_test)\n",
    "cm = confusion_matrix(y_test, y_pred, labels=svc.classes_)\n",
    "disp = ConfusionMatrixDisplay(confusion_matrix=cm, display_labels=svc.classes_)\n",
    "disp.plot(cmap='YlGnBu')\n",
    "nbtest_tmpvar_11 = plt.gcf()\n",
    "plt.show()\n",
    "print()\n",
    "print('accuracy: ', accuracy_score(y_test, y_pred))"
   ]
  },
  {
   "cell_type": "code",
   "execution_count": null,
   "id": "250435e6",
   "metadata": {
    "nbtest_hidden_asserts": [
     {
      "content": "nbtest.assert_allclose(roc_auc, 0.892450814381976, atol=0.30124035651860387, test_id='31')",
      "index": 4
     },
     {
      "content": "nbtest.assert_plot_equal(nbtest_tmpvar_12, 'op/reference_plot_nbtest_tmpvar_12.png', tol=12.779822139620151, test_id='32')",
      "index": 15
     },
     {
      "content": "nbtest.assert_allclose(sklearn.metrics.roc_auc_score(y_test, y_pred), 0.795746294783522, atol=0.236021362799409, test_id='33')",
      "index": 18
     }
    ]
   },
   "outputs": [],
   "source": [
    "import matplotlib.pyplot as plt\n",
    "y_proba = svc.predict_proba(X_test)\n",
    "fpr, tpr, thresholds = roc_curve(y_test, y_proba[:, 1], pos_label=1)\n",
    "roc_auc = auc(fpr, tpr)\n",
    "plt.figure(figsize=(10, 6))\n",
    "plt.plot(fpr, tpr, color='darkorange', lw=2, label='ROC curve (area = {:.2f})'.format(roc_auc))\n",
    "plt.plot([0, 1], [0, 1], color='navy', lw=2, linestyle='--')\n",
    "plt.xlim([0.0, 1.0])\n",
    "plt.ylim([0.0, 1.05])\n",
    "plt.xlabel('False Positive Rate')\n",
    "plt.ylabel('True Positive Rate')\n",
    "plt.title('Receiver Operating Characteristic (ROC) Curve')\n",
    "plt.legend(loc='lower right')\n",
    "nbtest_tmpvar_12 = plt.gcf()\n",
    "plt.show()\n",
    "print(sklearn.metrics.roc_auc_score(y_test, y_pred))"
   ]
  },
  {
   "cell_type": "markdown",
   "id": "cdb73ce9",
   "metadata": {
    "id": "KP0nnGPnfN3P"
   },
   "source": [
    "#**Naive Bayes - Gaussian**"
   ]
  },
  {
   "cell_type": "code",
   "execution_count": null,
   "id": "674ba739",
   "metadata": {
    "nbtest_hidden_asserts": [
     {
      "content": "nbtest.assert_plot_equal(nbtest_tmpvar_13, 'op/reference_plot_nbtest_tmpvar_13.png', tol=17.94927077365101, test_id='34')",
      "index": 8
     },
     {
      "content": "nbtest.assert_allclose(accuracy_score(y_test, y_pred), 0.8033333333333333, atol=0.15202339001321824, test_id='35')",
      "index": 12
     }
    ]
   },
   "outputs": [],
   "source": [
    "from sklearn.naive_bayes import GaussianNB\n",
    "gnb = GaussianNB()\n",
    "gnb.fit(X_train, y_train)\n",
    "y_pred = gnb.predict(X_test)\n",
    "cm = confusion_matrix(y_test, y_pred, labels=gnb.classes_)\n",
    "disp = ConfusionMatrixDisplay(confusion_matrix=cm, display_labels=gnb.classes_)\n",
    "disp.plot(cmap='YlGnBu')\n",
    "nbtest_tmpvar_13 = plt.gcf()\n",
    "plt.show()\n",
    "print()\n",
    "print('accuracy: ', accuracy_score(y_test, y_pred))"
   ]
  },
  {
   "cell_type": "code",
   "execution_count": null,
   "id": "2c0e8ad8",
   "metadata": {
    "nbtest_hidden_asserts": [
     {
      "content": "nbtest.assert_allclose(roc_auc, 0.8713930328099135, atol=0.39655209707331956, test_id='36')",
      "index": 4
     },
     {
      "content": "nbtest.assert_plot_equal(nbtest_tmpvar_14, 'op/reference_plot_nbtest_tmpvar_14.png', tol=12.47883638070367, test_id='37')",
      "index": 15
     },
     {
      "content": "nbtest.assert_allclose(sklearn.metrics.roc_auc_score(y_test, y_pred), 0.7118261169368358, atol=0.266523372571644, test_id='38')",
      "index": 18
     }
    ]
   },
   "outputs": [],
   "source": [
    "import matplotlib.pyplot as plt\n",
    "y_proba = gnb.predict_proba(X_test)\n",
    "fpr, tpr, thresholds = roc_curve(y_test, y_proba[:, 1], pos_label=1)\n",
    "roc_auc = auc(fpr, tpr)\n",
    "plt.figure(figsize=(10, 6))\n",
    "plt.plot(fpr, tpr, color='darkorange', lw=2, label='ROC curve (area = {:.2f})'.format(roc_auc))\n",
    "plt.plot([0, 1], [0, 1], color='navy', lw=2, linestyle='--')\n",
    "plt.xlim([0.0, 1.0])\n",
    "plt.ylim([0.0, 1.05])\n",
    "plt.xlabel('False Positive Rate')\n",
    "plt.ylabel('True Positive Rate')\n",
    "plt.title('Receiver Operating Characteristic (ROC) Curve')\n",
    "plt.legend(loc='lower right')\n",
    "nbtest_tmpvar_14 = plt.gcf()\n",
    "plt.show()\n",
    "print(sklearn.metrics.roc_auc_score(y_test, y_pred))"
   ]
  },
  {
   "cell_type": "markdown",
   "id": "1f8d83c4",
   "metadata": {
    "id": "Ll3yVyQAf4g_"
   },
   "source": [
    "#**Decision Tree Classifier**"
   ]
  },
  {
   "cell_type": "code",
   "execution_count": null,
   "id": "7ea06430",
   "metadata": {
    "nbtest_hidden_asserts": [
     {
      "content": "nbtest.assert_plot_equal(nbtest_tmpvar_15, 'op/reference_plot_nbtest_tmpvar_15.png', tol=22.495355812572082, test_id='39')",
      "index": 8
     },
     {
      "content": "nbtest.assert_allclose(accuracy_score(y_test, y_pred), 0.8133333333333332, atol=0.3379677828169753, test_id='40')",
      "index": 12
     }
    ]
   },
   "outputs": [],
   "source": [
    "from sklearn.tree import DecisionTreeClassifier\n",
    "dtc = DecisionTreeClassifier(criterion='entropy', random_state=10)\n",
    "dtc.fit(X_train, y_train)\n",
    "y_pred = dtc.predict(X_test)\n",
    "cm = confusion_matrix(y_test, y_pred, labels=dtc.classes_)\n",
    "disp = ConfusionMatrixDisplay(confusion_matrix=cm, display_labels=dtc.classes_)\n",
    "disp.plot(cmap='YlGnBu')\n",
    "nbtest_tmpvar_15 = plt.gcf()\n",
    "plt.show()\n",
    "print()\n",
    "print('accuracy: ', accuracy_score(y_test, y_pred))"
   ]
  },
  {
   "cell_type": "code",
   "execution_count": null,
   "id": "fdec5c0e",
   "metadata": {
    "nbtest_hidden_asserts": [
     {
      "content": "nbtest.assert_allclose(roc_auc, 0.7751292495836783, atol=0.4653370173308644, test_id='41')",
      "index": 4
     },
     {
      "content": "nbtest.assert_plot_equal(nbtest_tmpvar_16, 'op/reference_plot_nbtest_tmpvar_16.png', tol=14.438387148032621, test_id='42')",
      "index": 15
     },
     {
      "content": "nbtest.assert_allclose(sklearn.metrics.roc_auc_score(y_test, y_pred), 0.7751292495836783, atol=0.4653370173308644, test_id='43')",
      "index": 18
     }
    ]
   },
   "outputs": [],
   "source": [
    "import matplotlib.pyplot as plt\n",
    "y_proba = dtc.predict_proba(X_test)\n",
    "fpr, tpr, thresholds = roc_curve(y_test, y_proba[:, 1], pos_label=1)\n",
    "roc_auc = auc(fpr, tpr)\n",
    "plt.figure(figsize=(10, 6))\n",
    "plt.plot(fpr, tpr, color='darkorange', lw=2, label='ROC curve (area = {:.2f})'.format(roc_auc))\n",
    "plt.plot([0, 1], [0, 1], color='navy', lw=2, linestyle='--')\n",
    "plt.xlim([0.0, 1.0])\n",
    "plt.ylim([0.0, 1.05])\n",
    "plt.xlabel('False Positive Rate')\n",
    "plt.ylabel('True Positive Rate')\n",
    "plt.title('Receiver Operating Characteristic (ROC) Curve')\n",
    "plt.legend(loc='lower right')\n",
    "nbtest_tmpvar_16 = plt.gcf()\n",
    "plt.show()\n",
    "print(sklearn.metrics.roc_auc_score(y_test, y_pred))"
   ]
  },
  {
   "cell_type": "markdown",
   "id": "2f57576d",
   "metadata": {
    "id": "IqIiWpYVgM_Y"
   },
   "source": [
    "#**Random Forest Classification** - Best Model ✅"
   ]
  },
  {
   "cell_type": "code",
   "execution_count": null,
   "id": "7baebaa0",
   "metadata": {
    "nbtest_hidden_asserts": [
     {
      "content": "nbtest.assert_plot_equal(nbtest_tmpvar_17, 'op/reference_plot_nbtest_tmpvar_17.png', tol=18.36240815161208, test_id='44')",
      "index": 8
     },
     {
      "content": "nbtest.assert_allclose(accuracy_score(y_test, y_pred), 0.8366666666666667, atol=0.20763215336529908, test_id='45')",
      "index": 12
     }
    ]
   },
   "outputs": [],
   "source": [
    "from sklearn.ensemble import RandomForestClassifier\n",
    "rfc = RandomForestClassifier(n_estimators=35, criterion='entropy', random_state=24)\n",
    "rfc.fit(X_train, y_train)\n",
    "y_pred = rfc.predict(X_test)\n",
    "cm = confusion_matrix(y_test, y_pred, labels=rfc.classes_)\n",
    "disp = ConfusionMatrixDisplay(confusion_matrix=cm, display_labels=rfc.classes_)\n",
    "disp.plot(cmap='YlGnBu')\n",
    "nbtest_tmpvar_17 = plt.gcf()\n",
    "plt.show()\n",
    "print()\n",
    "print('accuracy: ', accuracy_score(y_test, y_pred))"
   ]
  },
  {
   "cell_type": "code",
   "execution_count": null,
   "id": "4cb1fb7e",
   "metadata": {
    "nbtest_hidden_asserts": [
     {
      "content": "nbtest.assert_allclose(roc_auc, 0.9170399302178828, atol=0.26668563747498847, test_id='46')",
      "index": 4
     },
     {
      "content": "nbtest.assert_plot_equal(nbtest_tmpvar_18, 'op/reference_plot_nbtest_tmpvar_18.png', tol=10.94739485334311, test_id='47')",
      "index": 15
     },
     {
      "content": "nbtest.assert_allclose(sklearn.metrics.roc_auc_score(y_test, y_pred), 0.7985278699335182, atol=0.30135960809996126, test_id='48')",
      "index": 18
     }
    ]
   },
   "outputs": [],
   "source": [
    "import matplotlib.pyplot as plt\n",
    "y_proba = rfc.predict_proba(X_test)\n",
    "fpr, tpr, thresholds = roc_curve(y_test, y_proba[:, 1], pos_label=1)\n",
    "roc_auc = auc(fpr, tpr)\n",
    "plt.figure(figsize=(10, 6))\n",
    "plt.plot(fpr, tpr, color='darkorange', lw=2, label='ROC curve (area = {:.2f})'.format(roc_auc))\n",
    "plt.plot([0, 1], [0, 1], color='navy', lw=2, linestyle='--')\n",
    "plt.xlim([0.0, 1.0])\n",
    "plt.ylim([0.0, 1.05])\n",
    "plt.xlabel('False Positive Rate')\n",
    "plt.ylabel('True Positive Rate')\n",
    "plt.title('Receiver Operating Characteristic (ROC) Curve')\n",
    "plt.legend(loc='lower right')\n",
    "nbtest_tmpvar_18 = plt.gcf()\n",
    "plt.show()\n",
    "print(sklearn.metrics.roc_auc_score(y_test, y_pred))"
   ]
  }
 ],
 "metadata": {},
 "nbformat": 4,
 "nbformat_minor": 5
}
