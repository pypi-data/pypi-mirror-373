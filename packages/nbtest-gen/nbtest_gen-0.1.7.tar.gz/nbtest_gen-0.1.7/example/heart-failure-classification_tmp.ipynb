{
 "cells": [
  {
   "cell_type": "code",
   "execution_count": null,
   "id": "39a45553",
   "metadata": {},
   "outputs": [],
   "source": [
    "import nbtest\n",
    "import json\n",
    "import numpy as np\n",
    "import matplotlib.pyplot as plt\n",
    "random_seed = np.random.randint(10000)"
   ]
  },
  {
   "cell_type": "markdown",
   "id": "9ea8ea8b",
   "metadata": {
    "id": "43RPOJM2DHvA"
   },
   "source": [
    "# Data Understanding Step"
   ]
  },
  {
   "cell_type": "code",
   "execution_count": null,
   "id": "29e0ee7c",
   "metadata": {},
   "outputs": [],
   "source": [
    "import pandas as pd\n",
    "import matplotlib.pyplot as plt\n",
    "df = pd.read_csv('./heart_failure.csv')\n",
    "nbtest.instrument(df, 3, 3, 'heart-failure-classification', 'df', api='read_csv')"
   ]
  },
  {
   "cell_type": "code",
   "execution_count": null,
   "id": "d2f8cd0b",
   "metadata": {},
   "outputs": [],
   "source": [
    "nbtest_tmpvar_0 = df.head(n=10)\n",
    "nbtest.instrument(nbtest_tmpvar_0, 4, 1, 'heart-failure-classification', 'nbtest_tmpvar_0', api='head')"
   ]
  },
  {
   "cell_type": "code",
   "execution_count": null,
   "id": "3a5ad85d",
   "metadata": {},
   "outputs": [],
   "source": [
    "nbtest_tmpvar_1 = df.info()\n",
    "nbtest.instrument(nbtest_tmpvar_1, 5, 1, 'heart-failure-classification', 'nbtest_tmpvar_1', api='info')"
   ]
  },
  {
   "cell_type": "code",
   "execution_count": null,
   "id": "bc9ecfa6",
   "metadata": {},
   "outputs": [],
   "source": [
    "nbtest_tmpvar_2 = df.isnull().any()\n",
    "nbtest.instrument(nbtest_tmpvar_2, 6, 1, 'heart-failure-classification', 'nbtest_tmpvar_2', api='any')"
   ]
  },
  {
   "cell_type": "code",
   "execution_count": null,
   "id": "89a939db",
   "metadata": {},
   "outputs": [],
   "source": [
    "df.shape\n",
    "nbtest.instrument(df.shape, 7, 1, 'heart-failure-classification', 'df.shape')"
   ]
  },
  {
   "cell_type": "code",
   "execution_count": null,
   "id": "0acf4039",
   "metadata": {},
   "outputs": [],
   "source": [
    "nbtest_tmpvar_3 = df.describe()\n",
    "nbtest.instrument(nbtest_tmpvar_3, 8, 1, 'heart-failure-classification', 'nbtest_tmpvar_3', api='describe')"
   ]
  },
  {
   "cell_type": "code",
   "execution_count": null,
   "id": "ebf4c978",
   "metadata": {},
   "outputs": [],
   "source": [
    "for i in df.columns:\n",
    "    print(i)\n",
    "    nbtest.instrument(i, 9, 2, 'heart-failure-classification', 'i')\n",
    "    print(df[f'{i}'].value_counts())"
   ]
  },
  {
   "cell_type": "code",
   "execution_count": null,
   "id": "f4439604",
   "metadata": {},
   "outputs": [],
   "source": [
    "import seaborn as sns\n",
    "import matplotlib.pyplot as plt\n",
    "sns.pairplot(df, vars=['age', 'anaemia', 'creatinine_phosphokinase', 'diabetes', 'ejection_fraction', 'high_blood_pressure', 'platelets', 'serum_creatinine', 'serum_sodium', 'sex', 'smoking', 'time', 'DEATH_EVENT'], hue='DEATH_EVENT')\n",
    "nbtest_tmpvar_4 = plt.gcf()\n",
    "nbtest.instrument(nbtest_tmpvar_4, 10, 6, 'heart-failure-classification', 'nbtest_tmpvar_4')\n",
    "plt.show()"
   ]
  },
  {
   "cell_type": "code",
   "execution_count": null,
   "id": "8d0b35cd",
   "metadata": {},
   "outputs": [],
   "source": [
    "korelasyon_matrisi = df.corr().abs()\n",
    "plt.figure(figsize=(8, 6), dpi=100)\n",
    "nbtest_tmpvar_5 = sns.heatmap(korelasyon_matrisi, annot=True, cmap='rocket_r', fmt='.2f', linewidths=1)\n",
    "nbtest.instrument(nbtest_tmpvar_5, 11, 3, 'heart-failure-classification', 'nbtest_tmpvar_5', api='heatmap')\n",
    "plt.title('Korelasyon Heatmap')\n",
    "nbtest_tmpvar_6 = plt.gcf()\n",
    "nbtest.instrument(nbtest_tmpvar_6, 11, 5, 'heart-failure-classification', 'nbtest_tmpvar_6')\n",
    "plt.show()"
   ]
  },
  {
   "cell_type": "code",
   "execution_count": null,
   "id": "5e4e15a1",
   "metadata": {},
   "outputs": [],
   "source": [
    "print(df.corr().abs()['DEATH_EVENT'].nlargest(15))"
   ]
  },
  {
   "cell_type": "code",
   "execution_count": null,
   "id": "b51879ba",
   "metadata": {},
   "outputs": [],
   "source": [
    "col_reduced = df.corr().abs()['DEATH_EVENT'].nlargest(6).index\n",
    "col_reduced"
   ]
  },
  {
   "cell_type": "markdown",
   "id": "fcbc8be5",
   "metadata": {
    "id": "XxnN_jC0DUDN"
   },
   "source": [
    "# **Data Slicing Step**"
   ]
  },
  {
   "cell_type": "code",
   "execution_count": null,
   "id": "3a7474e2",
   "metadata": {},
   "outputs": [],
   "source": [
    "x = df[['time', 'serum_creatinine', 'ejection_fraction', 'age', 'serum_sodium']].values\n",
    "y = df.iloc[:, -1].values"
   ]
  },
  {
   "cell_type": "markdown",
   "id": "7a165496",
   "metadata": {
    "id": "7NlbF3uaLPRO"
   },
   "source": [
    "# **Model Training**"
   ]
  },
  {
   "cell_type": "markdown",
   "id": "41e01820",
   "metadata": {
    "id": "929B_XS-LiCL"
   },
   "source": [
    "# **Train and Test Split**"
   ]
  },
  {
   "cell_type": "code",
   "execution_count": null,
   "id": "009a37f1",
   "metadata": {},
   "outputs": [],
   "source": [
    "from sklearn.model_selection import train_test_split\n",
    "x_train, x_test, y_train, y_test = train_test_split(x, y, test_size=0.2, random_state=random_seed)\n",
    "nbtest.instrument(y_test, 18, 2, 'heart-failure-classification', 'y_test', api='train_test_split')\n",
    "nbtest.instrument(y_train, 18, 2, 'heart-failure-classification', 'y_train', api='train_test_split')\n",
    "nbtest.instrument(x_test, 18, 2, 'heart-failure-classification', 'x_test', api='train_test_split')\n",
    "nbtest.instrument(x_train, 18, 2, 'heart-failure-classification', 'x_train', api='train_test_split')"
   ]
  },
  {
   "cell_type": "markdown",
   "id": "433db07d",
   "metadata": {
    "id": "Sg6lDxB-cE_C"
   },
   "source": [
    "#**Verilerin Ölceklenmesi**"
   ]
  },
  {
   "cell_type": "code",
   "execution_count": null,
   "id": "ee0369f9",
   "metadata": {},
   "outputs": [],
   "source": [
    "from sklearn.metrics import roc_curve, auc, accuracy_score\n",
    "from sklearn.metrics import confusion_matrix\n",
    "from sklearn.metrics import ConfusionMatrixDisplay\n",
    "from sklearn.preprocessing import StandardScaler\n",
    "sc = StandardScaler()\n",
    "X_train = sc.fit_transform(x_train)\n",
    "X_test = sc.transform(x_test)"
   ]
  },
  {
   "cell_type": "markdown",
   "id": "32a4ae9b",
   "metadata": {
    "id": "nS_hM4fhahgI"
   },
   "source": [
    "#**Logistic Regression**"
   ]
  },
  {
   "cell_type": "code",
   "execution_count": null,
   "id": "745ba15f",
   "metadata": {},
   "outputs": [],
   "source": [
    "from sklearn.linear_model import LogisticRegression\n",
    "logr = LogisticRegression(random_state=random_seed)\n",
    "logr.fit(X_train, y_train)\n",
    "y_pred = logr.predict(X_test)\n",
    "cm = confusion_matrix(y_test, y_pred, labels=logr.classes_)\n",
    "nbtest.instrument(cm, 22, 5, 'heart-failure-classification', 'cm', api='confusion_matrix')\n",
    "disp = ConfusionMatrixDisplay(confusion_matrix=cm, display_labels=logr.classes_)\n",
    "disp.plot(cmap='YlGnBu')\n",
    "nbtest_tmpvar_7 = plt.gcf()\n",
    "nbtest.instrument(nbtest_tmpvar_7, 22, 8, 'heart-failure-classification', 'nbtest_tmpvar_7')\n",
    "plt.show()\n",
    "print()\n",
    "print('accuracy: ', accuracy_score(y_test, y_pred))\n",
    "nbtest.instrument(accuracy_score(y_test, y_pred), 22, 10, 'heart-failure-classification', 'accuracy_score(y_test, y_pred)', api='accuracy_score')"
   ]
  },
  {
   "cell_type": "code",
   "execution_count": null,
   "id": "a7203b15",
   "metadata": {},
   "outputs": [],
   "source": [
    "import sklearn\n",
    "y_proba = logr.predict_proba(X_test)\n",
    "fpr, tpr, thresholds = roc_curve(y_test, y_proba[:, 1], pos_label=1)\n",
    "roc_auc = auc(fpr, tpr)\n",
    "nbtest.instrument(roc_auc, 23, 4, 'heart-failure-classification', 'roc_auc', api='auc')\n",
    "plt.figure(figsize=(10, 6))\n",
    "plt.plot(fpr, tpr, color='darkorange', lw=2, label='ROC curve (area = {:.2f})'.format(roc_auc))\n",
    "plt.plot([0, 1], [0, 1], color='navy', lw=2, linestyle='--')\n",
    "plt.xlim([0.0, 1.0])\n",
    "plt.ylim([0.0, 1.05])\n",
    "plt.xlabel('False Positive Rate')\n",
    "plt.ylabel('True Positive Rate')\n",
    "plt.title('Receiver Operating Characteristic (ROC) Curve')\n",
    "plt.legend(loc='lower right')\n",
    "nbtest_tmpvar_8 = plt.gcf()\n",
    "nbtest.instrument(nbtest_tmpvar_8, 23, 14, 'heart-failure-classification', 'nbtest_tmpvar_8')\n",
    "plt.show()\n",
    "print(sklearn.metrics.roc_auc_score(y_test, y_pred))\n",
    "nbtest.instrument(sklearn.metrics.roc_auc_score(y_test, y_pred), 23, 15, 'heart-failure-classification', 'sklearn.metrics.roc_auc_score(y_test, y_pred)', api='roc_auc_score')"
   ]
  },
  {
   "cell_type": "markdown",
   "id": "f07f2f51",
   "metadata": {
    "id": "CU-4cx90eyJW"
   },
   "source": [
    "#**KNN - K Nearest Neighboor**"
   ]
  },
  {
   "cell_type": "code",
   "execution_count": null,
   "id": "042c5bee",
   "metadata": {},
   "outputs": [],
   "source": [
    "from sklearn.neighbors import KNeighborsClassifier\n",
    "knn = KNeighborsClassifier(n_neighbors=5, metric='euclidean')\n",
    "knn.fit(X_train, y_train)\n",
    "y_pred = knn.predict(X_test)\n",
    "cm = confusion_matrix(y_test, y_pred, labels=knn.classes_)\n",
    "nbtest.instrument(cm, 25, 5, 'heart-failure-classification', 'cm', api='confusion_matrix')\n",
    "disp = ConfusionMatrixDisplay(confusion_matrix=cm, display_labels=knn.classes_)\n",
    "disp.plot(cmap='YlGnBu')\n",
    "nbtest_tmpvar_9 = plt.gcf()\n",
    "nbtest.instrument(nbtest_tmpvar_9, 25, 8, 'heart-failure-classification', 'nbtest_tmpvar_9')\n",
    "plt.show()\n",
    "print()\n",
    "print('accuracy: ', accuracy_score(y_test, y_pred))\n",
    "nbtest.instrument(accuracy_score(y_test, y_pred), 25, 10, 'heart-failure-classification', 'accuracy_score(y_test, y_pred)', api='accuracy_score')"
   ]
  },
  {
   "cell_type": "code",
   "execution_count": null,
   "id": "8ab6ac89",
   "metadata": {},
   "outputs": [],
   "source": [
    "import matplotlib.pyplot as plt\n",
    "y_proba = knn.predict_proba(X_test)\n",
    "fpr, tpr, thresholds = roc_curve(y_test, y_proba[:, 1], pos_label=1)\n",
    "roc_auc = auc(fpr, tpr)\n",
    "nbtest.instrument(roc_auc, 26, 4, 'heart-failure-classification', 'roc_auc', api='auc')\n",
    "plt.figure(figsize=(10, 6))\n",
    "plt.plot(fpr, tpr, color='darkorange', lw=2, label='ROC curve (area = {:.2f})'.format(roc_auc))\n",
    "plt.plot([0, 1], [0, 1], color='navy', lw=2, linestyle='--')\n",
    "plt.xlim([0.0, 1.0])\n",
    "plt.ylim([0.0, 1.05])\n",
    "plt.xlabel('False Positive Rate')\n",
    "plt.ylabel('True Positive Rate')\n",
    "plt.title('Receiver Operating Characteristic (ROC) Curve')\n",
    "plt.legend(loc='lower right')\n",
    "nbtest_tmpvar_10 = plt.gcf()\n",
    "nbtest.instrument(nbtest_tmpvar_10, 26, 14, 'heart-failure-classification', 'nbtest_tmpvar_10')\n",
    "plt.show()\n",
    "print(sklearn.metrics.roc_auc_score(y_test, y_pred))\n",
    "nbtest.instrument(sklearn.metrics.roc_auc_score(y_test, y_pred), 26, 15, 'heart-failure-classification', 'sklearn.metrics.roc_auc_score(y_test, y_pred)', api='roc_auc_score')"
   ]
  },
  {
   "cell_type": "markdown",
   "id": "d154c90e",
   "metadata": {
    "id": "GDocn462fBN3"
   },
   "source": [
    "#**SVC - Support Vector Classification**"
   ]
  },
  {
   "cell_type": "code",
   "execution_count": null,
   "id": "f1a65a04",
   "metadata": {},
   "outputs": [],
   "source": [
    "from sklearn.svm import SVC\n",
    "svc = SVC(kernel='rbf', probability=True)\n",
    "svc.fit(X_train, y_train)\n",
    "y_pred = svc.predict(X_test)\n",
    "cm = confusion_matrix(y_test, y_pred, labels=svc.classes_)\n",
    "nbtest.instrument(cm, 28, 5, 'heart-failure-classification', 'cm', api='confusion_matrix')\n",
    "disp = ConfusionMatrixDisplay(confusion_matrix=cm, display_labels=svc.classes_)\n",
    "disp.plot(cmap='YlGnBu')\n",
    "nbtest_tmpvar_11 = plt.gcf()\n",
    "nbtest.instrument(nbtest_tmpvar_11, 28, 8, 'heart-failure-classification', 'nbtest_tmpvar_11')\n",
    "plt.show()\n",
    "print()\n",
    "print('accuracy: ', accuracy_score(y_test, y_pred))\n",
    "nbtest.instrument(accuracy_score(y_test, y_pred), 28, 10, 'heart-failure-classification', 'accuracy_score(y_test, y_pred)', api='accuracy_score')"
   ]
  },
  {
   "cell_type": "code",
   "execution_count": null,
   "id": "775c0db0",
   "metadata": {},
   "outputs": [],
   "source": [
    "import matplotlib.pyplot as plt\n",
    "y_proba = svc.predict_proba(X_test)\n",
    "fpr, tpr, thresholds = roc_curve(y_test, y_proba[:, 1], pos_label=1)\n",
    "roc_auc = auc(fpr, tpr)\n",
    "nbtest.instrument(roc_auc, 29, 4, 'heart-failure-classification', 'roc_auc', api='auc')\n",
    "plt.figure(figsize=(10, 6))\n",
    "plt.plot(fpr, tpr, color='darkorange', lw=2, label='ROC curve (area = {:.2f})'.format(roc_auc))\n",
    "plt.plot([0, 1], [0, 1], color='navy', lw=2, linestyle='--')\n",
    "plt.xlim([0.0, 1.0])\n",
    "plt.ylim([0.0, 1.05])\n",
    "plt.xlabel('False Positive Rate')\n",
    "plt.ylabel('True Positive Rate')\n",
    "plt.title('Receiver Operating Characteristic (ROC) Curve')\n",
    "plt.legend(loc='lower right')\n",
    "nbtest_tmpvar_12 = plt.gcf()\n",
    "nbtest.instrument(nbtest_tmpvar_12, 29, 14, 'heart-failure-classification', 'nbtest_tmpvar_12')\n",
    "plt.show()\n",
    "print(sklearn.metrics.roc_auc_score(y_test, y_pred))\n",
    "nbtest.instrument(sklearn.metrics.roc_auc_score(y_test, y_pred), 29, 15, 'heart-failure-classification', 'sklearn.metrics.roc_auc_score(y_test, y_pred)', api='roc_auc_score')"
   ]
  },
  {
   "cell_type": "markdown",
   "id": "bf7dad50",
   "metadata": {
    "id": "KP0nnGPnfN3P"
   },
   "source": [
    "#**Naive Bayes - Gaussian**"
   ]
  },
  {
   "cell_type": "code",
   "execution_count": null,
   "id": "11d53ebe",
   "metadata": {},
   "outputs": [],
   "source": [
    "from sklearn.naive_bayes import GaussianNB\n",
    "gnb = GaussianNB()\n",
    "gnb.fit(X_train, y_train)\n",
    "y_pred = gnb.predict(X_test)\n",
    "cm = confusion_matrix(y_test, y_pred, labels=gnb.classes_)\n",
    "nbtest.instrument(cm, 31, 5, 'heart-failure-classification', 'cm', api='confusion_matrix')\n",
    "disp = ConfusionMatrixDisplay(confusion_matrix=cm, display_labels=gnb.classes_)\n",
    "disp.plot(cmap='YlGnBu')\n",
    "nbtest_tmpvar_13 = plt.gcf()\n",
    "nbtest.instrument(nbtest_tmpvar_13, 31, 8, 'heart-failure-classification', 'nbtest_tmpvar_13')\n",
    "plt.show()\n",
    "print()\n",
    "print('accuracy: ', accuracy_score(y_test, y_pred))\n",
    "nbtest.instrument(accuracy_score(y_test, y_pred), 31, 10, 'heart-failure-classification', 'accuracy_score(y_test, y_pred)', api='accuracy_score')"
   ]
  },
  {
   "cell_type": "code",
   "execution_count": null,
   "id": "5716c746",
   "metadata": {},
   "outputs": [],
   "source": [
    "import matplotlib.pyplot as plt\n",
    "y_proba = gnb.predict_proba(X_test)\n",
    "fpr, tpr, thresholds = roc_curve(y_test, y_proba[:, 1], pos_label=1)\n",
    "roc_auc = auc(fpr, tpr)\n",
    "nbtest.instrument(roc_auc, 32, 4, 'heart-failure-classification', 'roc_auc', api='auc')\n",
    "plt.figure(figsize=(10, 6))\n",
    "plt.plot(fpr, tpr, color='darkorange', lw=2, label='ROC curve (area = {:.2f})'.format(roc_auc))\n",
    "plt.plot([0, 1], [0, 1], color='navy', lw=2, linestyle='--')\n",
    "plt.xlim([0.0, 1.0])\n",
    "plt.ylim([0.0, 1.05])\n",
    "plt.xlabel('False Positive Rate')\n",
    "plt.ylabel('True Positive Rate')\n",
    "plt.title('Receiver Operating Characteristic (ROC) Curve')\n",
    "plt.legend(loc='lower right')\n",
    "nbtest_tmpvar_14 = plt.gcf()\n",
    "nbtest.instrument(nbtest_tmpvar_14, 32, 14, 'heart-failure-classification', 'nbtest_tmpvar_14')\n",
    "plt.show()\n",
    "print(sklearn.metrics.roc_auc_score(y_test, y_pred))\n",
    "nbtest.instrument(sklearn.metrics.roc_auc_score(y_test, y_pred), 32, 15, 'heart-failure-classification', 'sklearn.metrics.roc_auc_score(y_test, y_pred)', api='roc_auc_score')"
   ]
  },
  {
   "cell_type": "markdown",
   "id": "168ae287",
   "metadata": {
    "id": "Ll3yVyQAf4g_"
   },
   "source": [
    "#**Decision Tree Classifier**"
   ]
  },
  {
   "cell_type": "code",
   "execution_count": null,
   "id": "d995737b",
   "metadata": {},
   "outputs": [],
   "source": [
    "from sklearn.tree import DecisionTreeClassifier\n",
    "dtc = DecisionTreeClassifier(criterion='entropy', random_state=random_seed)\n",
    "dtc.fit(X_train, y_train)\n",
    "y_pred = dtc.predict(X_test)\n",
    "cm = confusion_matrix(y_test, y_pred, labels=dtc.classes_)\n",
    "nbtest.instrument(cm, 34, 5, 'heart-failure-classification', 'cm', api='confusion_matrix')\n",
    "disp = ConfusionMatrixDisplay(confusion_matrix=cm, display_labels=dtc.classes_)\n",
    "disp.plot(cmap='YlGnBu')\n",
    "nbtest_tmpvar_15 = plt.gcf()\n",
    "nbtest.instrument(nbtest_tmpvar_15, 34, 8, 'heart-failure-classification', 'nbtest_tmpvar_15')\n",
    "plt.show()\n",
    "print()\n",
    "print('accuracy: ', accuracy_score(y_test, y_pred))\n",
    "nbtest.instrument(accuracy_score(y_test, y_pred), 34, 10, 'heart-failure-classification', 'accuracy_score(y_test, y_pred)', api='accuracy_score')"
   ]
  },
  {
   "cell_type": "code",
   "execution_count": null,
   "id": "424563b9",
   "metadata": {},
   "outputs": [],
   "source": [
    "import matplotlib.pyplot as plt\n",
    "y_proba = dtc.predict_proba(X_test)\n",
    "fpr, tpr, thresholds = roc_curve(y_test, y_proba[:, 1], pos_label=1)\n",
    "roc_auc = auc(fpr, tpr)\n",
    "nbtest.instrument(roc_auc, 35, 4, 'heart-failure-classification', 'roc_auc', api='auc')\n",
    "plt.figure(figsize=(10, 6))\n",
    "plt.plot(fpr, tpr, color='darkorange', lw=2, label='ROC curve (area = {:.2f})'.format(roc_auc))\n",
    "plt.plot([0, 1], [0, 1], color='navy', lw=2, linestyle='--')\n",
    "plt.xlim([0.0, 1.0])\n",
    "plt.ylim([0.0, 1.05])\n",
    "plt.xlabel('False Positive Rate')\n",
    "plt.ylabel('True Positive Rate')\n",
    "plt.title('Receiver Operating Characteristic (ROC) Curve')\n",
    "plt.legend(loc='lower right')\n",
    "nbtest_tmpvar_16 = plt.gcf()\n",
    "nbtest.instrument(nbtest_tmpvar_16, 35, 14, 'heart-failure-classification', 'nbtest_tmpvar_16')\n",
    "plt.show()\n",
    "print(sklearn.metrics.roc_auc_score(y_test, y_pred))\n",
    "nbtest.instrument(sklearn.metrics.roc_auc_score(y_test, y_pred), 35, 15, 'heart-failure-classification', 'sklearn.metrics.roc_auc_score(y_test, y_pred)', api='roc_auc_score')"
   ]
  },
  {
   "cell_type": "markdown",
   "id": "032e2f6f",
   "metadata": {
    "id": "IqIiWpYVgM_Y"
   },
   "source": [
    "#**Random Forest Classification** - Best Model ✅"
   ]
  },
  {
   "cell_type": "code",
   "execution_count": null,
   "id": "144ca168",
   "metadata": {},
   "outputs": [],
   "source": [
    "from sklearn.ensemble import RandomForestClassifier\n",
    "rfc = RandomForestClassifier(n_estimators=35, criterion='entropy', random_state=random_seed)\n",
    "rfc.fit(X_train, y_train)\n",
    "y_pred = rfc.predict(X_test)\n",
    "cm = confusion_matrix(y_test, y_pred, labels=rfc.classes_)\n",
    "nbtest.instrument(cm, 37, 5, 'heart-failure-classification', 'cm', api='confusion_matrix')\n",
    "disp = ConfusionMatrixDisplay(confusion_matrix=cm, display_labels=rfc.classes_)\n",
    "disp.plot(cmap='YlGnBu')\n",
    "nbtest_tmpvar_17 = plt.gcf()\n",
    "nbtest.instrument(nbtest_tmpvar_17, 37, 8, 'heart-failure-classification', 'nbtest_tmpvar_17')\n",
    "plt.show()\n",
    "print()\n",
    "print('accuracy: ', accuracy_score(y_test, y_pred))\n",
    "nbtest.instrument(accuracy_score(y_test, y_pred), 37, 10, 'heart-failure-classification', 'accuracy_score(y_test, y_pred)', api='accuracy_score')"
   ]
  },
  {
   "cell_type": "code",
   "execution_count": null,
   "id": "beb2e44c",
   "metadata": {},
   "outputs": [],
   "source": [
    "import matplotlib.pyplot as plt\n",
    "y_proba = rfc.predict_proba(X_test)\n",
    "fpr, tpr, thresholds = roc_curve(y_test, y_proba[:, 1], pos_label=1)\n",
    "roc_auc = auc(fpr, tpr)\n",
    "nbtest.instrument(roc_auc, 38, 4, 'heart-failure-classification', 'roc_auc', api='auc')\n",
    "plt.figure(figsize=(10, 6))\n",
    "plt.plot(fpr, tpr, color='darkorange', lw=2, label='ROC curve (area = {:.2f})'.format(roc_auc))\n",
    "plt.plot([0, 1], [0, 1], color='navy', lw=2, linestyle='--')\n",
    "plt.xlim([0.0, 1.0])\n",
    "plt.ylim([0.0, 1.05])\n",
    "plt.xlabel('False Positive Rate')\n",
    "plt.ylabel('True Positive Rate')\n",
    "plt.title('Receiver Operating Characteristic (ROC) Curve')\n",
    "plt.legend(loc='lower right')\n",
    "nbtest_tmpvar_18 = plt.gcf()\n",
    "nbtest.instrument(nbtest_tmpvar_18, 38, 14, 'heart-failure-classification', 'nbtest_tmpvar_18')\n",
    "plt.show()\n",
    "print(sklearn.metrics.roc_auc_score(y_test, y_pred))\n",
    "nbtest.instrument(sklearn.metrics.roc_auc_score(y_test, y_pred), 38, 15, 'heart-failure-classification', 'sklearn.metrics.roc_auc_score(y_test, y_pred)', api='roc_auc_score')"
   ]
  },
  {
   "cell_type": "code",
   "execution_count": null,
   "id": "db32a9ac",
   "metadata": {},
   "outputs": [],
   "source": [
    "exit()"
   ]
  }
 ],
 "metadata": {},
 "nbformat": 4,
 "nbformat_minor": 5
}
