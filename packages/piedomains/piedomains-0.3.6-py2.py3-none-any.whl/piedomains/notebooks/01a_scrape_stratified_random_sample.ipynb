{
 "cells": [
  {
   "cell_type": "markdown",
   "id": "df7adfbc",
   "metadata": {},
   "source": [
    "### Scrape Shallalist Data"
   ]
  },
  {
   "cell_type": "code",
   "execution_count": null,
   "id": "c96e3b03",
   "metadata": {},
   "outputs": [],
   "source": [
    "import requests\n",
    "import pandas as pd\n",
    "import random\n",
    "import logging\n",
    "from http.client import HTTPConnection"
   ]
  },
  {
   "cell_type": "code",
   "execution_count": null,
   "id": "d1a89e6a",
   "metadata": {
    "scrolled": false
   },
   "outputs": [],
   "source": [
    "shalla = pd.read_csv(\"./shallalist_all.csv\")\n",
    "shalla"
   ]
  },
  {
   "cell_type": "code",
   "execution_count": null,
   "id": "58197067",
   "metadata": {},
   "outputs": [],
   "source": [
    "# Drop duplicates\n",
    "shalla.drop_duplicates(subset = ['domain'], inplace = True)\n",
    "shalla.shape"
   ]
  },
  {
   "cell_type": "code",
   "execution_count": null,
   "id": "74fa6278",
   "metadata": {},
   "outputs": [],
   "source": [
    "shalla_samp = shalla.groupby('cat_name', group_keys=False).apply(lambda x: x.sample(min(len(x), 5000), random_state = 10)).reset_index()\n",
    "shalla_samp"
   ]
  },
  {
   "cell_type": "code",
   "execution_count": null,
   "id": "3d9d9947",
   "metadata": {},
   "outputs": [],
   "source": [
    "HTTPConnection.debuglevel = 0\n",
    "\n",
    "root_logger = logging.getLogger()\n",
    "root_logger.setLevel(logging.WARNING)\n",
    "root_logger.handlers = []\n",
    "requests_log = logging.getLogger(\"requests.packages.urllib3\")\n",
    "requests_log.setLevel(logging.WARNING)\n",
    "requests_log.propagate = False\n",
    "\n",
    "for i in shalla_samp.domain:\n",
    "    URL = \"http://\" + i\n",
    "    print(URL)\n",
    "    \n",
    "    try:\n",
    "        page = requests.get(URL, timeout = 3)\n",
    "        f = open(\"scrape_3/\" + i + \".html\", \"a\")\n",
    "        f.write(page.text)\n",
    "        f.close()\n",
    "    except requests.exceptions.HTTPError as err:\n",
    "        print (\"Exception:\", err)\n",
    "    except requests.exceptions.InvalidSchema as schema:\n",
    "        pass\n",
    "    except requests.exceptions.ConnectionError as errc:\n",
    "        pass\n",
    "    #print (\"Error Connecting:\", errc)\n",
    "    except requests.exceptions.Timeout as errt:\n",
    "        pass\n",
    "    #print (\"Timeout Error:\", errt)\n",
    "    except requests.exceptions.TooManyRedirects as errr:\n",
    "        pass\n",
    "    #print (\"Too many redirects:\", errr)\n",
    "    except requests.exceptions.ChunkedEncodingError as chunk:\n",
    "        pass\n",
    "    #print (\"Chunked Encoding:\", chunk)        \n",
    "    except requests.exceptions.ContentDecodingError as er:\n",
    "        pass\n",
    "    #print (\"Content Decoding Error:\", er)\n",
    "    except requests.exceptions.BaseHTTPError as base:\n",
    "        pass\n",
    "    except requests.exceptions.InvalidURL as invalid:\n",
    "        pass\n",
    "    #print (\"Base\": base)\n",
    "    #print (\"Some Error:\", ec)"
   ]
  }
 ],
 "metadata": {
  "kernelspec": {
   "display_name": "Python 3 (ipykernel)",
   "language": "python",
   "name": "python3"
  },
  "language_info": {
   "codemirror_mode": {
    "name": "ipython",
    "version": 3
   },
   "file_extension": ".py",
   "mimetype": "text/x-python",
   "name": "python",
   "nbconvert_exporter": "python",
   "pygments_lexer": "ipython3",
   "version": "3.8.12"
  }
 },
 "nbformat": 4,
 "nbformat_minor": 5
}
