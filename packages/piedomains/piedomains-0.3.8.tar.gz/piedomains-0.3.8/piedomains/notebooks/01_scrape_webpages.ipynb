{
 "cells": [
  {
   "cell_type": "markdown",
   "id": "df7adfbc",
   "metadata": {},
   "source": [
    "### Get Shallalist Data"
   ]
  },
  {
   "cell_type": "code",
   "execution_count": 42,
   "id": "c96e3b03",
   "metadata": {},
   "outputs": [],
   "source": [
    "import requests\n",
    "import pandas as pd\n",
    "import logging\n",
    "from http.client import HTTPConnection"
   ]
  },
  {
   "cell_type": "code",
   "execution_count": 43,
   "id": "d1a89e6a",
   "metadata": {
    "scrolled": false
   },
   "outputs": [
    {
     "data": {
      "text/html": [
       "<div>\n",
       "<style scoped>\n",
       "    .dataframe tbody tr th:only-of-type {\n",
       "        vertical-align: middle;\n",
       "    }\n",
       "\n",
       "    .dataframe tbody tr th {\n",
       "        vertical-align: top;\n",
       "    }\n",
       "\n",
       "    .dataframe thead th {\n",
       "        text-align: right;\n",
       "    }\n",
       "</style>\n",
       "<table border=\"1\" class=\"dataframe\">\n",
       "  <thead>\n",
       "    <tr style=\"text-align: right;\">\n",
       "      <th></th>\n",
       "      <th>domains</th>\n",
       "      <th>category</th>\n",
       "    </tr>\n",
       "  </thead>\n",
       "  <tbody>\n",
       "    <tr>\n",
       "      <th>0</th>\n",
       "      <td>000freexxx.com</td>\n",
       "      <td>ads</td>\n",
       "    </tr>\n",
       "    <tr>\n",
       "      <th>1</th>\n",
       "      <td>01sexe.com</td>\n",
       "      <td>ads</td>\n",
       "    </tr>\n",
       "    <tr>\n",
       "      <th>2</th>\n",
       "      <td>01viral.com</td>\n",
       "      <td>ads</td>\n",
       "    </tr>\n",
       "    <tr>\n",
       "      <th>3</th>\n",
       "      <td>039068a.dialer-select.com</td>\n",
       "      <td>ads</td>\n",
       "    </tr>\n",
       "    <tr>\n",
       "      <th>4</th>\n",
       "      <td>0427d7.se</td>\n",
       "      <td>ads</td>\n",
       "    </tr>\n",
       "  </tbody>\n",
       "</table>\n",
       "</div>"
      ],
      "text/plain": [
       "                     domains category\n",
       "0             000freexxx.com      ads\n",
       "1                 01sexe.com      ads\n",
       "2                01viral.com      ads\n",
       "3  039068a.dialer-select.com      ads\n",
       "4                  0427d7.se      ads"
      ]
     },
     "execution_count": 43,
     "metadata": {},
     "output_type": "execute_result"
    }
   ],
   "source": [
    "url = \"https://github.com/themains/rdomains/blob/master/data-raw/shallalist/accomplist/shallalist.gz?raw=true\"\n",
    "response = requests.get(url, stream=True)\n",
    "a = pd.read_csv(response.raw,compression='gzip')\n",
    "a.head()"
   ]
  },
  {
   "cell_type": "code",
   "execution_count": 44,
   "id": "375ef062",
   "metadata": {},
   "outputs": [
    {
     "data": {
      "text/plain": [
       "(745776, 2)"
      ]
     },
     "execution_count": 44,
     "metadata": {},
     "output_type": "execute_result"
    }
   ],
   "source": [
    "a.shape"
   ]
  },
  {
   "cell_type": "code",
   "execution_count": 46,
   "id": "3d9d9947",
   "metadata": {},
   "outputs": [
    {
     "name": "stdout",
     "output_type": "stream",
     "text": [
      "http://zvraceny.cz\n"
     ]
    }
   ],
   "source": [
    "HTTPConnection.debuglevel = 0\n",
    "\n",
    "root_logger = logging.getLogger()\n",
    "root_logger.setLevel(logging.WARNING)\n",
    "root_logger.handlers = []\n",
    "requests_log = logging.getLogger(\"requests.packages.urllib3\")\n",
    "requests_log.setLevel(logging.WARNING)\n",
    "requests_log.propagate = False\n",
    "\n",
    "for i in a.domains:\n",
    "    URL = \"http://\" + i\n",
    "    print(URL)\n",
    "    \n",
    "    try:\n",
    "        page = requests.get(URL, timeout = 3)\n",
    "        f = open(\"scrape/\" + i + \".html\", \"a\")\n",
    "        f.write(page.text)\n",
    "        f.close()\n",
    "    except requests.exceptions.HTTPError as err:\n",
    "        pass\n",
    "    #print (\"Exception:\", err)\n",
    "    except requests.exceptions.InvalidSchema as schema:\n",
    "        pass\n",
    "    except requests.exceptions.ConnectionError as errc:\n",
    "        pass\n",
    "    #print (\"Error Connecting:\", errc)\n",
    "    except requests.exceptions.Timeout as errt:\n",
    "        pass\n",
    "    #print (\"Timeout Error:\", errt)\n",
    "    except requests.exceptions.TooManyRedirects as errr:\n",
    "        pass\n",
    "    #print (\"Too many redirects:\", errr)\n",
    "    except requests.exceptions.ChunkedEncodingError as chunk:\n",
    "        pass\n",
    "    #print (\"Chunked Encoding:\", chunk)        \n",
    "    except requests.exceptions.ContentDecodingError as er:\n",
    "        pass\n",
    "    #print (\"Content Decoding Error:\", er)\n",
    "    except requests.exceptions.BaseHTTPError as base:\n",
    "        pass\n",
    "    except requests.exceptions.InvalidURL as invalid:\n",
    "        pass\n",
    "    #print (\"Base\": base)\n",
    "    #print (\"Some Error:\", ec)"
   ]
  },
  {
   "cell_type": "code",
   "execution_count": null,
   "id": "28b82237",
   "metadata": {},
   "outputs": [],
   "source": []
  }
 ],
 "metadata": {
  "kernelspec": {
   "display_name": "Python 3 (ipykernel)",
   "language": "python",
   "name": "python3"
  },
  "language_info": {
   "codemirror_mode": {
    "name": "ipython",
    "version": 3
   },
   "file_extension": ".py",
   "mimetype": "text/x-python",
   "name": "python",
   "nbconvert_exporter": "python",
   "pygments_lexer": "ipython3",
   "version": "3.8.12"
  }
 },
 "nbformat": 4,
 "nbformat_minor": 5
}
