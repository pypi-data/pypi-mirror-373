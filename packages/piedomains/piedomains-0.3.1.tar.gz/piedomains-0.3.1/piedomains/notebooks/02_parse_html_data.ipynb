{
 "cells": [
  {
   "cell_type": "code",
   "execution_count": 2,
   "id": "ac8ec040",
   "metadata": {},
   "outputs": [
    {
     "name": "stdout",
     "output_type": "stream",
     "text": [
      "URL-categorization-DFE.csv  parser.ipynb     shallalist_all.csv\r\n",
      "classification.tsv          \u001b[0m\u001b[01;34mscrape_3\u001b[0m/        shallalist_cats.txt\r\n",
      "data_in_scrape.ipynb        scraper.ipynb\r\n",
      "get_shallalist.ipynb        scraper_2.ipynb\r\n"
     ]
    }
   ],
   "source": [
    "%ls"
   ]
  },
  {
   "cell_type": "code",
   "execution_count": 3,
   "id": "0af205b0",
   "metadata": {},
   "outputs": [
    {
     "name": "stdout",
     "output_type": "stream",
     "text": [
      "/opt/notebooks/newpydomains/scrape_3\n"
     ]
    }
   ],
   "source": [
    "%cd scrape_3"
   ]
  },
  {
   "cell_type": "code",
   "execution_count": 4,
   "id": "c1632789",
   "metadata": {},
   "outputs": [
    {
     "name": "stdout",
     "output_type": "stream",
     "text": [
      "-rw-r--r-- 1 suriyant_gmail_com suriyant_gmail_com   153240 Mar 31 15:09 ad180.hpg.com.br.html\n",
      "-rw-r--r-- 1 suriyant_gmail_com suriyant_gmail_com   153240 Mar 31 15:09 ad176.hpg.com.br.html\n",
      "-rw-r--r-- 1 suriyant_gmail_com suriyant_gmail_com     8984 Mar 31 15:10 adcycle.com.html\n",
      "-rw-r--r-- 1 suriyant_gmail_com suriyant_gmail_com    45606 Mar 31 15:10 adshareware.net.html\n",
      "-rw-r--r-- 1 suriyant_gmail_com suriyant_gmail_com      272 Mar 31 15:10 ad37.erasercash.com.html\n",
      "-rw-r--r-- 1 suriyant_gmail_com suriyant_gmail_com      162 Mar 31 15:11 ad-center.com.html\n",
      "-rw-r--r-- 1 suriyant_gmail_com suriyant_gmail_com     2760 Mar 31 15:11 ads.clubplanet.com.html\n",
      "-rw-r--r-- 1 suriyant_gmail_com suriyant_gmail_com      533 Mar 31 15:12 ads-links.com.html\n",
      "-rw-r--r-- 1 suriyant_gmail_com suriyant_gmail_com      272 Mar 31 15:12 ad155.erasercash.com.html\n",
      "-rw-r--r-- 1 suriyant_gmail_com suriyant_gmail_com        0 Mar 31 15:12 adsrevenue.net.html\n",
      "ls: write error\n"
     ]
    }
   ],
   "source": [
    "!ls -ltr a*.html | head -10"
   ]
  },
  {
   "cell_type": "code",
   "execution_count": 15,
   "id": "2faf629c",
   "metadata": {},
   "outputs": [],
   "source": [
    "from bs4 import BeautifulSoup\n",
    "from bs4.element import Comment"
   ]
  },
  {
   "cell_type": "code",
   "execution_count": 26,
   "id": "10096f1e",
   "metadata": {},
   "outputs": [],
   "source": [
    "def tag_visible(element):\n",
    "    if element.parent.name in ['style', 'script', 'head', 'title', 'meta', '[document]']:\n",
    "        return False\n",
    "    if isinstance(element, Comment):\n",
    "        return False\n",
    "    return True\n",
    "\n",
    "def text_from_html(file):\n",
    "    with open(file, 'r') as f:\n",
    "        contents = f.read()\n",
    "        soup = BeautifulSoup(contents, 'lxml')\n",
    "        texts = soup.findAll(text=True)\n",
    "        visible_texts = filter(tag_visible, texts)\n",
    "        result = u\" \".join(t.strip() for t in visible_texts)\n",
    "        return ' '.join(result.split())"
   ]
  },
  {
   "cell_type": "code",
   "execution_count": 35,
   "id": "c5e60bfc",
   "metadata": {},
   "outputs": [
    {
     "name": "stdout",
     "output_type": "stream",
     "text": [
      "Error. Page cannot be displayed. Please contact your service provider for more details. (19)\n"
     ]
    }
   ],
   "source": [
    "result = text_from_html('ad155.erasercash.com.html')\n",
    "print(result)"
   ]
  },
  {
   "cell_type": "code",
   "execution_count": 36,
   "id": "69e1425d",
   "metadata": {},
   "outputs": [
    {
     "name": "stdout",
     "output_type": "stream",
     "text": [
      "403 Forbidden nginx\n"
     ]
    }
   ],
   "source": [
    "result = text_from_html('ads-links.com.html')\n",
    "print(result)"
   ]
  },
  {
   "cell_type": "code",
   "execution_count": 41,
   "id": "ab5e5586",
   "metadata": {},
   "outputs": [
    {
     "name": "stdout",
     "output_type": "stream",
     "text": [
      "503 Service Temporarily Unavailable\n",
      "True\n"
     ]
    }
   ],
   "source": [
    "result = text_from_html('ad-center.com.html')\n",
    "print(result)\n",
    "print(result.isascii())"
   ]
  },
  {
   "cell_type": "code",
   "execution_count": 40,
   "id": "f5ec49e0",
   "metadata": {},
   "outputs": [
    {
     "name": "stdout",
     "output_type": "stream",
     "text": [
      "False\n"
     ]
    }
   ],
   "source": [
    "result = text_from_html('adshareware.net.html')\n",
    "print(result.isascii())"
   ]
  },
  {
   "cell_type": "code",
   "execution_count": 43,
   "id": "47159c9d",
   "metadata": {
    "scrolled": true
   },
   "outputs": [
    {
     "name": "stdout",
     "output_type": "stream",
     "text": [
      "Início Notícias Carreira Dicas Direitos Educação Eventos Finanças Governo Serviços TV Veículos Home Expediente Acesse Nossas Redes Sociais HPG Home Notícias Sobre Expediente Governo Dicas TV Direitos Carreira Educação Finanças Privacidade Contato Empregos 2 minutos Atrás P&G Trabalhe Conosco: Vagas Abertas A Procter & Gamble é um empresa que reúne um enorme conglomerado de sub empresas, produzindo alimentos, produtos de higiene... Serviços 26 minutos Atrás Poupatempo Ubatuba: Agendamento (CNH RG DETRAN) Telefone 2 Via 2 horas Atrás Cartão Atacadão 2 Via da Fatura: Como Emitir Empregos 2 horas Atrás Aperam Trabalhe Conosco: Vagas Abertas Últimas Dicas 11 horas Atrás SABESP Trocar Titularidade de Conta de Água Como fazer a troca de Titularidade da conta de água fornecida pela Sabesp, além de saber um pouco da história... Governo 12 horas Atrás Aposentadoria Compulsória: O que é, Idade Dicas 19 horas Atrás ENEL Trocar Titularidade de Conta de Luz Empregos 22 horas Atrás ECTP Trabalhe Conosco: Vagas Abertas Concursos 23 horas Atrás Concurso BANDES 2022: Edital, Inscrições, Vagas, Salário Veículos 1 dia Atrás Licenciamento RN 2022: Tabela, Pagamento, Valor, Consulta Serviços 1 dia Atrás Delboni Agendamento Online: Telefone Conteúdo em Destaque Detran 1 mês Atrás Consultar Licenciamento DETRAN Dicas 2 meses Atrás Devolução do Pagamento: Quando o consumidor tem direito? 2 Via 2 meses Atrás 2ª via conta de Luz: Como fazer a emissão Governo 2 meses Atrás Dúvidas Frequentes Declaração IR 2022 Detran 2 meses Atrás 2ª Via da Habilitação no DETRAN: Emissão Carreira 2 meses Atrás Concurso INSS 2022: Edital, Inscrições, Vagas, Salário Carreira 2 meses Atrás SEBRAE Cursos Gratuitos 2022: Inscrições Dicas 2 meses Atrás Boleto MEI 2022: Pagamento mensal, cálculo Dicas 2 meses Atrás UBER Reclamações: Telefone, Contato, Atendimento Dicas 2 meses Atrás CLARO NXT Planos 2022: Pacotes, Valor, Vale a Pena? Mais Recentes Governo 12 horas Atrás Aposentadoria Compulsória: O que é, Idade Aposentadoria compulsória você sabe o que é? Quem tem direito? Com quantos anos se tem esse direito? são essas perguntas que vamos responder durante esse artigo.... Dicas 19 horas Atrás ENEL Trocar Titularidade de Conta de Luz Como proceder para trocar a Titularidade da conta de luz (ENEL), e quem é ENEL, serão assuntos abordados neste artigo. Quando temos a conquista da casa... Empregos 22 horas Atrás ECTP Trabalhe Conosco: Vagas Abertas Se você está em busca de uma boa oportunidade de iniciar ou alavancar sua carreira, então este artigo sobre ECTP Trabalhe Conosco: Vagas Abertas é ideal... Concursos 23 horas Atrás Concurso BANDES 2022: Edital, Inscrições, Vagas, Salário Um dos melhores e mais recentes concursos oferecidos foi o Concurso BNDES 2022. A agência é uma das mais importantes do programa do governo, já que... Veículos 1 dia Atrás Licenciamento RN 2022: Tabela, Pagamento, Valor, Consulta Se você já possui um veículo já sabe que todo ano deverá pagar algumas taxas para realizar o Licenciamento RN 2022. Mas se você ainda tem... Serviços 1 dia Atrás Delboni Agendamento Online: Telefone A Delboni é uma importante rede de laboratórios, que oferece um serviço de qualidade para os seus clientes. Você sabia que a Delboni permite o agendamento... Concursos 1 dia Atrás Concurso Polícia Científica 2022: Edital, Inscrições, Vagas, Salário A Polícia Científica é um setor da instituição responsável pela investigação técnica. Trata-se de um excelente setor para quem estuda para concurso. Saiba que, atualmente, há... Governo 1 dia Atrás Poupatempo Tremembé: Agendamento (CNH RG DETRAN) Telefone O Poupatempo é um sistema criado pelo governo estadual de São Paulo. Nas unidades do Poupatempo são realizados os principais serviços de competência estadual. Em algumas... Reclamações 2 dias Atrás Uber Central de Atendimento: Telefone 0800, Motorista Você está procurando pela Uber Central de Atendimento? A Central para o consumidor pode ser implementada de várias formas, como o canal telefônico, chat online, e-mail... Governo 2 dias Atrás Agendamento Título de Eleitor: Como agendar Você sabia que é possível fazer o agendamento de título de eleitor sem precisar sair de casa? Sim, e será sobre isso que vamos explicar hoje.... Mais Notícias... Page 1 of 132 1 2 3 4 5 Next › Last » Categorias 2 Via Amostras Assistências Técnicas Auxílio Brasil Carreira Carros Cartões Concursos Criptomoedas Cupons Cursos Gratuitos Detran Dicas Direitos Educação Empregos Empréstimos Encceja ENEM Eventos Finanças Governo Imposto de Renda INSS Investimentos Jovem Aprendiz Motos Notícias Programas Sociais Promoções Reclamações Serviços Shows TV Veículos Vestibular Hábito Pragmático Expediente Sobre Contato Privacidade HPG - Hábito Pragmático é gerido por Miidia Serviços de Publicidade Web EIRELI – CNPJ 14.444.032/0001-90 - Contato: [email protected] - Todo nosso conteúdo é original, de propriedade do HPG e pode ser reproduzido, desde que apontada a devida fonte com um link para nossa Home Page ou página em questão. Conteúdo de ordem Prática, Objetiva e Realista. Nossos parceiros e nós utilizamos cookies, de acordo com nossas Políticas de Privacidade Concordo Manage consent Fechar Privacy Overview This website uses cookies to improve your experience while you navigate through the website. Out of these, the cookies that are categorized as necessary are stored on your browser as they are essential for the working of basic functionalities of the website. We also use third-party cookies that help us analyze and understand how you use this website. These cookies will be stored in your browser only with your consent. You also have the option to opt-out of these cookies. But opting out of some of these cookies may affect your browsing experience. SALVAR E ACEITAR\n",
      "False\n"
     ]
    }
   ],
   "source": [
    "result = text_from_html('ad176.hpg.com.br.html')\n",
    "print(result)\n",
    "print(result.isascii())"
   ]
  },
  {
   "cell_type": "code",
   "execution_count": 48,
   "id": "47dbb8ba",
   "metadata": {},
   "outputs": [
    {
     "name": "stdout",
     "output_type": "stream",
     "text": [
      "10000 domains parsed\n",
      "20000 domains parsed\n"
     ]
    },
    {
     "name": "stderr",
     "output_type": "stream",
     "text": [
      "/opt/envs/jupyter/lib/python3.8/site-packages/bs4/__init__.py:337: MarkupResemblesLocatorWarning: \".\" looks like a directory name, not markup. You may want to open a file found in this directory and pass the filehandle into Beautiful Soup.\n",
      "  warnings.warn(\n"
     ]
    },
    {
     "name": "stdout",
     "output_type": "stream",
     "text": [
      "30000 domains parsed\n",
      "40000 domains parsed\n",
      "50000 domains parsed\n",
      "60000 domains parsed\n"
     ]
    },
    {
     "name": "stderr",
     "output_type": "stream",
     "text": [
      "/opt/envs/jupyter/lib/python3.8/site-packages/bs4/__init__.py:337: MarkupResemblesLocatorWarning: \"//////\" looks like a directory name, not markup. You may want to open a file found in this directory and pass the filehandle into Beautiful Soup.\n",
      "  warnings.warn(\n"
     ]
    },
    {
     "name": "stdout",
     "output_type": "stream",
     "text": [
      "70000 domains parsed\n",
      "80000 domains parsed\n",
      "90000 domains parsed\n",
      "100000 domains parsed\n",
      "110000 domains parsed\n",
      "120000 domains parsed\n",
      "130000 domains parsed\n"
     ]
    }
   ],
   "source": [
    "import os\n",
    "import csv\n",
    "\n",
    "directory = '.'\n",
    "\n",
    "count = 0\n",
    "with open('/opt/notebooks/newpydomains/domain_text.csv', 'w') as f:\n",
    "    writer = csv.writer(f)\n",
    "    writer.writerow(['domain','text'])\n",
    "    for root, dirs, files in os.walk(directory):\n",
    "        for filename in files:\n",
    "            if '.html' in filename:\n",
    "                result = text_from_html(filename)\n",
    "                writer.writerow([filename.strip(\".html\"),result])\n",
    "                count = count + 1\n",
    "                if count % 10000 == 0:\n",
    "                    print(f\"{count} domains parsed\")"
   ]
  },
  {
   "cell_type": "code",
   "execution_count": 50,
   "id": "2832b2a2",
   "metadata": {},
   "outputs": [
    {
     "name": "stdout",
     "output_type": "stream",
     "text": [
      "139276\r\n"
     ]
    }
   ],
   "source": [
    "%ls -ltr | wc -l"
   ]
  },
  {
   "cell_type": "code",
   "execution_count": 54,
   "id": "dff0d992",
   "metadata": {},
   "outputs": [
    {
     "name": "stdout",
     "output_type": "stream",
     "text": [
      "tar: Removing leading `/' from member names\r\n"
     ]
    }
   ],
   "source": [
    "!tar -czf /opt/notebooks/newpydomains/domain_text.tar.gz /opt/notebooks/newpydomains/domain_text.csv "
   ]
  }
 ],
 "metadata": {
  "kernelspec": {
   "display_name": "Python 3 (ipykernel)",
   "language": "python",
   "name": "python3"
  },
  "language_info": {
   "codemirror_mode": {
    "name": "ipython",
    "version": 3
   },
   "file_extension": ".py",
   "mimetype": "text/x-python",
   "name": "python",
   "nbconvert_exporter": "python",
   "pygments_lexer": "ipython3",
   "version": "3.8.12"
  }
 },
 "nbformat": 4,
 "nbformat_minor": 5
}
