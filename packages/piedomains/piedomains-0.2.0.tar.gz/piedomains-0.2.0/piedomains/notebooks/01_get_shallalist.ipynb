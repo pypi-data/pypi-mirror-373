{
 "cells": [
  {
   "cell_type": "markdown",
   "id": "abe916f3",
   "metadata": {},
   "source": [
    "### Get Shallalist Data From Accomplist\n",
    "\n",
    "https://github.com/cbuijs/shallalist"
   ]
  },
  {
   "cell_type": "code",
   "execution_count": 1,
   "id": "57e66190",
   "metadata": {},
   "outputs": [],
   "source": [
    "import pandas as pd"
   ]
  },
  {
   "cell_type": "code",
   "execution_count": 2,
   "id": "16a8ce18",
   "metadata": {},
   "outputs": [],
   "source": [
    "cats = pd.read_csv(\"./shallalist_cats.txt\", header = None, names = [\"cat_name\"])"
   ]
  },
  {
   "cell_type": "code",
   "execution_count": 3,
   "id": "06ff450c",
   "metadata": {},
   "outputs": [],
   "source": [
    "all_cats = []\n",
    "\n",
    "for i in cats['cat_name']:\n",
    "    target_url = \"https://raw.githubusercontent.com/cbuijs/shallalist/master/\" + i + \"/domains\"\n",
    "    temp = pd.read_csv(target_url, header = None, names = [\"domain\"])\n",
    "    temp['cat_name'] = i\n",
    "    all_cats.append(temp)\n",
    "\n",
    "all_dat = pd.concat(all_cats)"
   ]
  },
  {
   "cell_type": "code",
   "execution_count": 4,
   "id": "a5947d1d",
   "metadata": {},
   "outputs": [
    {
     "data": {
      "text/plain": [
       "(1443337, 2)"
      ]
     },
     "execution_count": 4,
     "metadata": {},
     "output_type": "execute_result"
    }
   ],
   "source": [
    "all_dat.shape"
   ]
  },
  {
   "cell_type": "code",
   "execution_count": 5,
   "id": "d3b357f1",
   "metadata": {},
   "outputs": [],
   "source": [
    "all_dat.to_csv(\"./shallalist_all.csv\", index = False)"
   ]
  },
  {
   "cell_type": "code",
   "execution_count": null,
   "id": "fbe46691",
   "metadata": {},
   "outputs": [],
   "source": []
  }
 ],
 "metadata": {
  "kernelspec": {
   "display_name": "Python 3 (ipykernel)",
   "language": "python",
   "name": "python3"
  },
  "language_info": {
   "codemirror_mode": {
    "name": "ipython",
    "version": 3
   },
   "file_extension": ".py",
   "mimetype": "text/x-python",
   "name": "python",
   "nbconvert_exporter": "python",
   "pygments_lexer": "ipython3",
   "version": "3.8.12"
  }
 },
 "nbformat": 4,
 "nbformat_minor": 5
}
