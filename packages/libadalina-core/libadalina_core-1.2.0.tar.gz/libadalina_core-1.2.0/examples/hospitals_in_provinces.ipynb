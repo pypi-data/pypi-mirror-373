{
 "cells": [
  {
   "metadata": {},
   "cell_type": "markdown",
   "source": "# Spatial join between regions and hospitals in Italy",
   "id": "3c590d8612cfbd0"
  },
  {
   "metadata": {},
   "cell_type": "markdown",
   "source": "Import necessary libraries and modules",
   "id": "3658529254acd963"
  },
  {
   "metadata": {},
   "cell_type": "code",
   "source": [
    "from libadalina_core.readers import geopackage_to_dataframe\n",
    "import pathlib\n",
    "import os"
   ],
   "id": "502bb54c4829fccf",
   "outputs": [],
   "execution_count": null
  },
  {
   "metadata": {},
   "cell_type": "markdown",
   "source": "Read the geopackages containing the location of hospitals and regions in Italy and returns geopandas DataFrames",
   "id": "7357777b914fbf3c"
  },
  {
   "metadata": {},
   "cell_type": "code",
   "source": [
    "base_path = pathlib.Path(os.environ.get(\"SAMPLES_DIR\", \"\"))\n",
    "\n",
    "hospitals = geopackage_to_dataframe(\n",
    "    str(base_path / \"healthcare\" / \"EU_healthcare.gpkg\"),\n",
    "    \"EU\"\n",
    ")[[\"hospital_name\", \"geometry\", \"city\", \"cap_beds\"]]\n",
    "\n",
    "regions = geopackage_to_dataframe(\n",
    "        str(base_path / \"regions\" / \"NUTS_RG_20M_2024_4326.gpkg\"),\n",
    "        \"NUTS_RG_20M_2024_4326.gpkg\"\n",
    "    )[[\"LEVL_CODE\", \"NUTS_NAME\", \"CNTR_CODE\", \"geometry\"]]"
   ],
   "id": "be7a1c15b2ace932",
   "outputs": [],
   "execution_count": null
  },
  {
   "metadata": {},
   "cell_type": "markdown",
   "source": "Import libadalina-core spatial operators for performing spatial joins and aggregations.",
   "id": "d2454bd2f2d8f7e6"
  },
  {
   "metadata": {},
   "cell_type": "code",
   "source": [
    "from libadalina_core.spatial_operators import spatial_join, JoinType, spatial_aggregation, AggregationType, \\\n",
    "    AggregationFunction"
   ],
   "id": "72cf9ba893ff4e",
   "outputs": [],
   "execution_count": null
  },
  {
   "metadata": {},
   "cell_type": "markdown",
   "source": [
    "For the sake of this example, filter the regions to select only those that correspond to the provinces of Milan and Cremona.\n",
    "`regions` and `filtered_regions` are geopandas DataFrame at this step"
   ],
   "id": "cc7edeaf0d127b98"
  },
  {
   "metadata": {},
   "cell_type": "code",
   "source": [
    "# select province of Milan and Cremona\n",
    "filtered_regions = regions[\n",
    "    (regions['LEVL_CODE'] == 3) &\n",
    "    (regions['CNTR_CODE'] == \"IT\") &\n",
    "    (regions['NUTS_NAME'].str.contains('Milano|Cremona', case=False))\n",
    "]"
   ],
   "id": "c2180bc3e0bf54a3",
   "outputs": [],
   "execution_count": null
  },
  {
   "metadata": {},
   "cell_type": "markdown",
   "source": [
    "Join provinces and hospitals in such a way that for each province we get the hospitals that are located withing its boundaries.\n",
    "The `result` is a PySpark DataFrame having an entry for each pair of province and hospital in that province."
   ],
   "id": "32a4ad3d2bbbbdc5"
  },
  {
   "metadata": {},
   "cell_type": "code",
   "source": [
    "result = (spatial_join(filtered_regions, hospitals, join_type=JoinType.LEFT)\n",
    "          # join operator renames the geometries adding suffixes _left and _right to avoid conflicts\n",
    "          .withColumnRenamed('geometry_left', 'geometry'))\n",
    "result.show(truncate=False)"
   ],
   "id": "3c4dfa275e4876db",
   "outputs": [],
   "execution_count": null
  },
  {
   "metadata": {},
   "cell_type": "markdown",
   "source": [
    "Aggregate the results to obtain the number of hospitals, the total number of beds and the average number of beds in each province.\n",
    "Aggregation is performed based on the geometry."
   ],
   "id": "43c62e2d2dbdd569"
  },
  {
   "metadata": {},
   "cell_type": "code",
   "source": [
    "result = spatial_aggregation(result, aggregate_functions=[\n",
    "    AggregationFunction(\"hospital_name\", AggregationType.COUNT, 'hospitals'),\n",
    "    AggregationFunction(\"cap_beds\", AggregationType.SUM, 'total_beds'),\n",
    "    AggregationFunction(\"cap_beds\", AggregationType.AVG, 'average_beds'),\n",
    "])\n",
    "result.show(truncate=False)"
   ],
   "id": "cdd7829d543d0601",
   "outputs": [],
   "execution_count": null
  }
 ],
 "metadata": {
 "kernelspec": {
   "display_name": "Python 3 (ipykernel)",
   "language": "python",
   "name": "python3"
  },
  "language_info": {
   "codemirror_mode": {
    "name": "ipython",
    "version": 3
   },
   "file_extension": ".py",
   "mimetype": "text/x-python",
   "name": "python",
   "nbconvert_exporter": "python",
   "pygments_lexer": "ipython3",
   "version": "3.10.10"
  }
 },
 "nbformat": 4,
 "nbformat_minor": 5
}
