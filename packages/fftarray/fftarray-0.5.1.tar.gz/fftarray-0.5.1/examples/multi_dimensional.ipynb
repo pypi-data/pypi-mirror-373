{
 "cells": [
  {
   "cell_type": "markdown",
   "metadata": {},
   "source": [
    "# Multi-dimensional FFT"
   ]
  },
  {
   "cell_type": "code",
   "execution_count": null,
   "metadata": {},
   "outputs": [],
   "source": [
    "import numpy as np\n",
    "from bokeh.io import output_notebook\n",
    "\n",
    "import fftarray as fa\n",
    "from helpers import plt_array\n",
    "\n",
    "output_notebook(hide_banner=True)\n",
    "\n",
    "def gauss_pos(x, a, sigma):\n",
    "    return (a * np.exp(-(x**2/(2.* sigma**2))))/(np.sqrt(2 * np.pi) * sigma)\n",
    "\n",
    "def gauss_freq(f, a, sigma):\n",
    "    return (a * np.exp(-(1/2)*(2*np.pi*f)**2*sigma**2))"
   ]
  },
  {
   "attachments": {},
   "cell_type": "markdown",
   "metadata": {},
   "source": [
    "Define two `Dimension` objects with different names \"x\" and \"y\"."
   ]
  },
  {
   "cell_type": "code",
   "execution_count": null,
   "metadata": {},
   "outputs": [],
   "source": [
    "x_dim = fa.dim_from_constraints(\n",
    "        name=\"x\",\n",
    "        pos_middle=1.,\n",
    "        pos_extent = 10.,\n",
    "        freq_middle = 2.5/(2*np.pi),\n",
    "        freq_extent = 20./(2*np.pi),\n",
    "        loose_params=[\"pos_extent\", \"freq_extent\"]\n",
    "    )\n",
    "\n",
    "y_dim = fa.dim_from_constraints(\n",
    "        name=\"y\",\n",
    "        pos_middle=0.,\n",
    "        pos_extent = 5.,\n",
    "        freq_middle = 0,\n",
    "        n=64,\n",
    "    )\n",
    "\n",
    "x_dim_array = fa.coords_from_dim(x_dim, \"pos\")\n",
    "y_dim_array = fa.coords_from_dim(y_dim, \"pos\")\n",
    "\n",
    "plt_array(x_dim_array, data_name=\"Array with x_dim\")\n",
    "plt_array(y_dim_array, data_name=\"Array with y_dim\")"
   ]
  },
  {
   "cell_type": "markdown",
   "metadata": {},
   "source": [
    "While one `Dimension` object always reflects the properties of exactly one dimension (here: \"x\" or \"y\"), an `Array` object can also be multi-dimensional.\n",
    "\n",
    "We can create a multi-dimensional `Array` object by a mathematical operation between `Array` objects with different `Dimension`s, i.e., different names.\n",
    "Here, we will add two different `Array`s which are combined by broadcasting along different dimensions."
   ]
  },
  {
   "cell_type": "code",
   "execution_count": null,
   "metadata": {},
   "outputs": [],
   "source": [
    "# Array objects are broadcasted along different dimensions\n",
    "array_2d = x_dim_array + y_dim_array\n",
    "# You can also combine Array objects with only partially shared dimensions\n",
    "array_still_2d = array_2d + x_dim_array\n",
    "\n",
    "print(\"2d Array dimensions:\", array_2d.dims_dict)\n",
    "print(\"Dimension check:\", array_2d.dims_dict == array_still_2d.dims_dict)"
   ]
  },
  {
   "cell_type": "markdown",
   "metadata": {},
   "source": [
    "A 2d `Array` can be transformed between position and frequency space in each dimension, separately.\n",
    "Here, we choose to represent the Array in always the same space for both dimension. Below, we show its complex values along all points in the 2d \"xy\" space."
   ]
  },
  {
   "cell_type": "code",
   "execution_count": null,
   "metadata": {},
   "outputs": [],
   "source": [
    "plt_array(array_2d, data_name=\"2d Array\")"
   ]
  }
 ],
 "metadata": {
  "kernelspec": {
   "display_name": "dev",
   "language": "python",
   "name": "python3"
  },
  "language_info": {
   "codemirror_mode": {
    "name": "ipython",
    "version": 3
   },
   "file_extension": ".py",
   "mimetype": "text/x-python",
   "name": "python",
   "nbconvert_exporter": "python",
   "pygments_lexer": "ipython3",
   "version": "3.13.1"
  },
  "orig_nbformat": 4
 },
 "nbformat": 4,
 "nbformat_minor": 2
}
