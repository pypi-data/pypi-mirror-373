{
 "cells": [
  {
   "cell_type": "markdown",
   "metadata": {},
   "source": [
    "# Differentiation of continuous functions using the FFT\n",
    "\n",
    "In this notebook, we use the FFTArray to compute the derivatives of two periodic test functions. Afterwards we will evaluate these functions on a one-dimensional grid and compare the results to their analytic counterparts.\n",
    "\n",
    "To that end, we briefly recall the definitions for differentiation via Fourier transform from (__[Wikipedia](https://en.wikipedia.org/wiki/Fourier_transform#Differentiation)__):\n",
    "\n",
    "\n",
    "Suppose $g(x)$ with position $x {\\in} {\\mathbb{R}}$ is an absolutely continuous differentiable function, and both $g$ and its derivative $g′$ are integrable. Then, the Fourier transform of the derivative is given by:\n",
    "\\begin{equation*}\n",
    "\\mathcal{F}\\left\\{ \\frac{d}{dx} g(x)\\right\\} = i 2\\pi f \\ \\hat{g}(f).\n",
    "\\end{equation*}\n",
    "Note, that the differential operator transformed into a multiplication with the frequencies $f {\\in} {\\mathbb{R}}$.\n",
    "\n",
    "This in principle allows to compute the derivative of any function $g(x)$ by first computing its Fourier transformation and then inversely transforming the product: \n",
    "\\begin{equation*}\n",
    "\\frac{d^n}{d^n x} g(x) = \\mathcal{F^{-1}}{ \\left( \\mathcal{F}{ \\left( \\frac{d^n}{d^n x} g(x) \\right)} \\right)}  = \\mathcal{F^{-1}}{ \\left( (i 2\\pi f)^n \\ \\hat{g}(f) \\right)}.\n",
    "\\end{equation*}\n",
    "\n",
    "However, finding the analytic expressions for the Fourier transform and its inverse by computing double integrals is often not straightforward or even impossible.\n",
    "Instead, numerically sampling $g(x)$ allows us to apply the FFT to solve this problem.\n",
    "\n",
    "<b>Note:</b> To avoid errors when evaluating the above equations numerically due to sampling on a finite grid, we require that $g(x) \\rightarrow 0$ sufficiently fast as $x$ approaches the grid boundaries. This can be ensured, for example, via sufficiently large grids. Additionally the sampling step size is small enough to properly represent all frequencies contained in the function."
   ]
  },
  {
   "cell_type": "markdown",
   "metadata": {},
   "source": [
    "## Definition and implementation of periodic test function\n",
    "\n",
    "We define the following test function $g(x)$ and compute its derivativites $g^{(n)}(x) = \\frac{\\mathrm{d}^{(n)}}{\\mathrm{d}x^{(n)}}$:"
   ]
  },
  {
   "cell_type": "markdown",
   "metadata": {},
   "source": [
    "\\begin{align}\n",
    "g(x) &= \\cos{(x)}\\, e^{-(x-a)^{2}/25} \\\\\n",
    "g'(x) &=  - [\\sin{(x)} + \\frac{2}{25}(x-a) \\cos{(x)}]\\,  e^{-(x-a)^{2}/25}  \\\\\n",
    "g''(x) &=  \\{[ \\frac{1}{625} (4(x-a)^2-50)-1 ]\\cos{(x)} + \\frac{4}{25} (x-a) \\sin{(x)} \\}\\, e^{-(x-a)^{2}/25}  \\\\\n",
    "\\end{align}\n",
    " \n",
    "The analytical Fourier transform of $g(x)$ is given by:\n",
    "\\begin{align*}\n",
    "G(f) &=\\int_{-\\infty}^{\\infty}dx \\ g(x)\\ e^{- 2 \\pi i f x},\\quad \\forall\\ x \\in \\mathbb R .\n",
    "\\end{align*}\n",
    "\n",
    "### Definitions and numerical sampling\n",
    "We proceed to implement the test function and its analytic derivative which we will later compare to the result of the differentiation via the FFT:"
   ]
  },
  {
   "cell_type": "code",
   "execution_count": null,
   "metadata": {},
   "outputs": [],
   "source": [
    "# required packages\n",
    "import numpy as np\n",
    "from bokeh.io import output_notebook\n",
    "\n",
    "import fftarray as fa\n",
    "\n",
    "# plotting functions\n",
    "from helpers import plt_deriv_comparison, plt_deriv_sampling\n",
    "output_notebook(hide_banner=True)\n",
    "\n",
    "\n",
    "# Analytical definition of test function and its derivatives.\n",
    "# test function in position space\n",
    "def g_x(x, a):\n",
    "    return fa.cos(x)*fa.exp((-(x - a)**2)/25.)\n",
    "# first derivative of the test function\n",
    "def g_d1_x(x, a):\n",
    "    return -(fa.sin(x)+ (2*(x-a)*fa.cos(x))/(25.))*fa.exp(-(x-a)**2/25.)\n",
    "# second derivative of the test function\n",
    "def g_d2_x(x, a):\n",
    "    return (((1./625.)*(4*(x-a)**2-50)-1)*fa.cos(x)+(4./25.)*(x-a)*fa.sin(x))*fa.exp(-(x - a)**2/25.)\n",
    "\n",
    "# We sample the test function on a finite one-dimensional and plot it using FFTarray.\n",
    "\n",
    "\n",
    "# initialize finite coordinate grid and backend of FFTarray.\n",
    "x_dim = fa.dim_from_constraints(\n",
    "    \"x\",              # dimension name\n",
    "    n=2048,           # number of grid points\n",
    "    pos_middle=0.,    # center of position grid\n",
    "    pos_extent=80.,   # extent of position grid\n",
    "    freq_middle=0.,   # center of frequency grid\n",
    ")\n",
    "\n",
    "# get Array from Dimension in position space.\n",
    "x = fa.coords_from_dim(x_dim, \"pos\")\n",
    "# numerically sampled test function in position space.\n",
    "a=1.25\n",
    "g_x_analytic = g_x(a=a, x=x)\n",
    "g_d1_x_analytic = g_d1_x(a=a, x=x)\n",
    "g_d2_x_analytic = g_d2_x(a=a, x=x)\n",
    "\n",
    "# plot analytic test functions. For plot parameters see helpers.py.\n",
    "plt_deriv_sampling(\"Plotting analytic test functions\",g_x_analytic,g_d1_x_analytic,g_d2_x_analytic)"
   ]
  },
  {
   "cell_type": "markdown",
   "metadata": {},
   "source": [
    "### Numerical differentiation and residual analysis\n",
    "Finally, we implement the formula for computing the derivative via the FFT and compare the results with the analytic solutions:"
   ]
  },
  {
   "cell_type": "code",
   "execution_count": null,
   "metadata": {},
   "outputs": [],
   "source": [
    "# Implementation of the RHS of the second euqation of this notebook\n",
    "def derivative_pos(dim: fa.Dimension, arr: fa.Array, order: int) -> fa.Array:\n",
    "    \"\"\"Takes the derivative of order `order` along Dimension `dim` of the\n",
    "    Array `arr` in position space.\n",
    "    \"\"\"\n",
    "    kernel = (1.j*2*np.pi*fa.coords_from_dim(dim,\"freq\"))**order\n",
    "    return (kernel*arr.into_space(\"freq\")).into_space(\"pos\")\n",
    "\n",
    "# first order derivative\n",
    "g_d1_x_numeric = derivative_pos(x_dim, g_x_analytic, 1) # numerical result\n",
    "\n",
    "# second order derivative\n",
    "g_d2_x_numeric = derivative_pos(x_dim, g_x_analytic, 2) # numerical result\n",
    "\n",
    "# plot comparison as well as residual differences. For plot parameters see helpers.py\n",
    "plt_deriv_comparison(\"First Order Derivative\",g_d1_x_analytic,\"g'(x)\",g_d1_x_numeric,\"g'_num(x)\")\n",
    "plt_deriv_comparison(\"Second Order Derivative\",g_d2_x_analytic,\"g''(x)\",g_d2_x_numeric,\"g''_num(x)\")\n",
    "\n",
    "# machine confirmation that results are almost equal to analytic solutions.\n",
    "np.testing.assert_array_almost_equal(g_d1_x_analytic.values(\"pos\", xp=np), g_d1_x_numeric.values(\"pos\", xp=np), decimal=11)\n",
    "np.testing.assert_array_almost_equal(g_d2_x_analytic.values(\"pos\", xp=np), g_d2_x_numeric.values(\"pos\", xp=np), decimal=9)"
   ]
  },
  {
   "cell_type": "markdown",
   "metadata": {},
   "source": [
    "## Summary\n",
    "\n",
    "The two comparisons show good agreement between the analytical test functions and our numerical results. We have thus demonstrated in this notebook how straightforward it is to numerically compute the derivatives of continous functions using FFTArray."
   ]
  }
 ],
 "metadata": {
  "kernelspec": {
   "display_name": "dev",
   "language": "python",
   "name": "python3"
  },
  "language_info": {
   "codemirror_mode": {
    "name": "ipython",
    "version": 3
   },
   "file_extension": ".py",
   "mimetype": "text/x-python",
   "name": "python",
   "nbconvert_exporter": "python",
   "pygments_lexer": "ipython3",
   "version": "3.13.5"
  }
 },
 "nbformat": 4,
 "nbformat_minor": 2
}
