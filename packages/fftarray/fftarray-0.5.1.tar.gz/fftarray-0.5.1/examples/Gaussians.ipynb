{
 "cells": [
  {
   "cell_type": "markdown",
   "metadata": {},
   "source": [
    "# Fourier transform of a Gaussian function"
   ]
  },
  {
   "cell_type": "code",
   "execution_count": null,
   "metadata": {},
   "outputs": [],
   "source": [
    "import math\n",
    "import numpy as np\n",
    "from bokeh.io import output_notebook\n",
    "\n",
    "import fftarray as fa\n",
    "from helpers import plt_array\n",
    "\n",
    "output_notebook(hide_banner=True)\n",
    "\n",
    "def fa_array_assert_all_close(space: fa.Space, a: fa.Array, b: fa.Array):\n",
    "    # Since we compare a real-valued and a complex-valued array, we have to give some absolute tolerance.\n",
    "    # Otherwise the imaginary values which move slightly away from zero would make the comparison fail.\n",
    "    np.testing.assert_allclose(a.values(space, xp=np), b.values(space, xp=np), atol=4e-15)\n",
    "\n",
    "def gauss_pos(x, a, sigma):\n",
    "    return (a * fa.exp(-(x**2/(2.* sigma**2))))/(math.sqrt(2 * np.pi) * sigma)\n",
    "\n",
    "def gauss_freq(f, a, sigma):\n",
    "    return (a * fa.exp(-(1/2)*(2*np.pi*f)**2*sigma**2))"
   ]
  },
  {
   "attachments": {},
   "cell_type": "markdown",
   "metadata": {},
   "source": [
    "Initialize the dimension and get the basic x and f arrays."
   ]
  },
  {
   "cell_type": "code",
   "execution_count": null,
   "metadata": {},
   "outputs": [],
   "source": [
    "dim = fa.dim_from_constraints(\"x\",\n",
    "        pos_middle=1.,\n",
    "        pos_extent = 10.,\n",
    "        freq_middle = 2.5/(2*np.pi),\n",
    "        freq_extent = 20./(2*np.pi),\n",
    "        loose_params=[\"pos_extent\", \"freq_extent\"]\n",
    "    )\n",
    "\n",
    "\n",
    "x = fa.coords_from_dim(dim, \"pos\")\n",
    "f = fa.coords_from_dim(dim, \"freq\")\n",
    "\n",
    "plt_array(x, data_name=\"Array (identity in pos space)\")\n",
    "plt_array(f, data_name=\"Array (identity in freq space)\")"
   ]
  },
  {
   "cell_type": "code",
   "execution_count": null,
   "metadata": {},
   "outputs": [],
   "source": [
    "gauss_from_pos = gauss_pos(a = 1.2, x = x, sigma = 0.7)\n",
    "gauss_from_freq = gauss_freq(a = 1.2, f = f, sigma = 0.7)\n",
    "\n",
    "fa_array_assert_all_close(\"pos\", gauss_from_pos, gauss_from_freq)\n",
    "fa_array_assert_all_close(\"freq\", gauss_from_pos, gauss_from_freq)\n",
    "\n",
    "plt_array(gauss_from_pos, data_name=\"Gauss (initialised with position)\")\n",
    "plt_array(gauss_from_freq, data_name=\"Gauss (initialised with frequency)\")"
   ]
  },
  {
   "attachments": {},
   "cell_type": "markdown",
   "metadata": {},
   "source": [
    "Just compute a centered Gaussian in position and frequency space.\n",
    "It does not matter where it is defined, the result is the same (up to numerical inaccuracies)."
   ]
  },
  {
   "cell_type": "code",
   "execution_count": null,
   "metadata": {},
   "outputs": [],
   "source": [
    "gauss_from_pos = fa.shift_freq(gauss_pos(a = 1.2, x = x, sigma = 0.7), {\"x\": 0.9})\n",
    "gauss_from_freq = gauss_freq(a = 1.2, f = f - 0.9, sigma = 0.7)\n",
    "\n",
    "fa_array_assert_all_close(\"pos\", gauss_from_pos, gauss_from_freq)\n",
    "fa_array_assert_all_close(\"freq\", gauss_from_pos, gauss_from_freq)\n",
    "\n",
    "plt_array(gauss_from_pos, data_name=\"Gauss (freq. shifted via FFT)\")\n",
    "plt_array(gauss_from_freq, data_name=\"Gauss (freq. shifted at init)\")"
   ]
  },
  {
   "attachments": {},
   "cell_type": "markdown",
   "metadata": {},
   "source": [
    "Now we test this with a Gauss shifted in position space. The `shift_position` function multiplies a phase factor onto the `Array` in frequency space to achieve a user-defined shift."
   ]
  },
  {
   "cell_type": "code",
   "execution_count": null,
   "metadata": {},
   "outputs": [],
   "source": [
    "gauss_from_pos = gauss_pos(a = 1.2, x = x - 0.9, sigma = 0.7)\n",
    "gauss_from_freq = fa.shift_pos(gauss_freq(a = 1.2, f = f, sigma = 0.7), {\"x\": 0.9})\n",
    "\n",
    "fa_array_assert_all_close(\"pos\", gauss_from_pos, gauss_from_freq)\n",
    "fa_array_assert_all_close(\"freq\", gauss_from_pos, gauss_from_freq)\n",
    "\n",
    "plt_array(gauss_from_pos, data_name=\"Gauss (pos. shifted at init)\")\n",
    "plt_array(gauss_from_freq, data_name=\"Gauss (pos. shifted via FFT)\")"
   ]
  }
 ],
 "metadata": {
  "kernelspec": {
   "display_name": "dev",
   "language": "python",
   "name": "python3"
  },
  "language_info": {
   "codemirror_mode": {
    "name": "ipython",
    "version": 3
   },
   "file_extension": ".py",
   "mimetype": "text/x-python",
   "name": "python",
   "nbconvert_exporter": "python",
   "pygments_lexer": "ipython3",
   "version": "3.13.2"
  },
  "orig_nbformat": 4
 },
 "nbformat": 4,
 "nbformat_minor": 2
}
