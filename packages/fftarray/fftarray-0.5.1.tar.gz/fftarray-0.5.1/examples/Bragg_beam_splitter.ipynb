{
 "cells": [
  {
   "cell_type": "markdown",
   "metadata": {},
   "source": [
    "# Bragg beam splitter"
   ]
  },
  {
   "cell_type": "markdown",
   "metadata": {},
   "source": [
    "## Physics\n",
    "\n",
    "The Bragg beam splitter splits the wave function into two momentum states (but same internal state). \n",
    "Here, the main physics is sketched. \n",
    "The interested reader is referred to [the textbook by Grynberg, Aspect and Fabre](https://www.cambridge.org/core/books/introduction-to-quantum-optics/F45DCE785DC8226D4156EC15CAD5FA9A). \n",
    "\n",
    "The formalism describing the Bragg atom-light interaction is based on a semi-classical model. \n",
    "The atoms are described quantum mechanically via a wave function, while the light is described classically (its high intensity ensures a substantial photon presence at all times).\n",
    "The Hamiltonian of the system is:\n",
    "$$\n",
    "    \\hat H = \\frac{\\hat p^2}{2m} - \\hat{\\vec D} \\vec E_L (\\vec r, t)\n",
    "$$\n",
    "where $\\hat p$ is the momentum operator, $\\hat{\\vec D}$ is the dipole operator and $\\vec E_L$ is the electric field. \n",
    "\n",
    "The electric field can be described by two counterpropagating laser beams with frequencies $\\omega_L+\\omega_r$ (drives the transition $| g,0 \\rangle \\rightarrow | e, \\hbar k_L \\rangle$) and $\\omega_r$ (drives the transition $| e, \\hbar k_L \\rangle \\rightarrow | g, 2\\hbar k_L\\rangle$). \n",
    "Note that $\\frac{(2\\hbar k_L)^2}{2m} = \\hbar \\omega_r$.\n",
    "It should be noted that both lasers are detuned by $\\Delta$, such that the transition $|g,0 \\rangle \\rightarrow | e, \\hbar k_L \\rangle$ is unlikely to happen without the stimulated emission directly after it. \n",
    "\n",
    "Here, a one dimensional wave function $\\Psi (x)$ is considered. \n",
    "Adiabatic elimination of the excited state leads to\n",
    "$$\n",
    "\\hat H = -\\frac{\\hbar^2}{2m}\\nabla^2 + 2 \\hbar \\Omega \\cos ^2 \\left( k_L x - \\frac{\\omega_r}{2} t \\right)\n",
    "$$\n",
    "where $\\Omega$ is the effective Rabi frequency. \n",
    "$\\Omega$ is determined by the laser properties and has typically a Gaussian temporal profile to ensure good velocity selectivity. \n",
    "If the atoms are freely falling, an acceleration term $\\frac{1}{2}a_\\text{laser}t^2$ is added to the laser phase to ensure that the laser beams stay resonant to the falling atoms. \n",
    "Also common is an additional constant phase shift $\\Phi_0$.\n",
    "\n",
    "After the atom-light interaction, the atom is left in a superposition of states $|g,0\\rangle$ and $|g,2\\hbar k_L\\rangle$, and typically higher orders like $|g,-2\\hbar k_L\\rangle$ and $|g,4\\hbar k_L\\rangle$ [[Siemß 2020](https://link.aps.org/doi/10.1103/PhysRevA.102.033709)]. \n",
    "Idealized, this sequence applies a momentum transfer of $2\\hbar k_L$ to the atom with a $50\\%$ chance.\n"
   ]
  },
  {
   "cell_type": "markdown",
   "metadata": {},
   "source": [
    "## Implementation\n",
    "This example illustrates the implementation of propagating a wave function through a Bragg beam splitter.\n",
    "We propagate a wave function (described by an `fa.Array`) under the influence of the time-dependent Bragg beam splitter potential."
   ]
  },
  {
   "cell_type": "code",
   "execution_count": null,
   "metadata": {},
   "outputs": [],
   "source": [
    "from typing import Any\n",
    "import numpy as np\n",
    "import math\n",
    "from bokeh.io import output_notebook\n",
    "\n",
    "import fftarray as fa\n",
    "from helpers import plt_array, plt_array_values_space_time\n",
    "\n",
    "# setup bokeh in jupyter notebook\n",
    "output_notebook(hide_banner=True)"
   ]
  },
  {
   "cell_type": "markdown",
   "metadata": {},
   "source": [
    "### Initialize global constants"
   ]
  },
  {
   "cell_type": "code",
   "execution_count": null,
   "metadata": {},
   "outputs": [],
   "source": [
    "from scipy.constants import hbar, pi, atomic_mass\n",
    "# angular frequency used to initialize the ground state (of quantum harmonic\n",
    "# oscillator)\n",
    "omega_x = 2*pi*10 # Hz\n",
    "# laser pulse parameters\n",
    "# Rabi frequency. This specific value was found as a binary search to\n",
    "# optimize a 50/50 split of the two momentum classes for this specific beam\n",
    "# splitter duration and pulse form.\n",
    "rabi_frequency = 25144.285917282104 # Hz\n",
    "phi_0 = 0. # phase jump\n",
    "bragg_acc = 0. # bragg acceleration\n",
    "sigma_bs = 25e-6 # temporal pulse width (s)\n",
    "\n",
    "# Rb87 properties\n",
    "m = 86.909 * atomic_mass # mass in kg\n",
    "lambda_L = 780.032 * 1e-9 # wavelength in m\n",
    "k_L = 2 * pi / lambda_L # wave number in 1/m\n",
    "hbark: float = hbar * k_L # momentum transfer\n",
    "hbarkv: float = hbark/m # recoil velocity\n",
    "w_r = 2 * hbarkv * k_L # recoil frequency in rad/s"
   ]
  },
  {
   "attachments": {},
   "cell_type": "markdown",
   "metadata": {},
   "source": [
    "#### Define the time grid\n",
    "In order to simulate the time evolution of the wave function, we need to discretize \n",
    "time into intervals of length $\\Delta t$ during which the potential is\n",
    "assumed constant. Then, for each time step, we can apply the time evolution \n",
    "operator as \n",
    "$|\\Psi(t+\\Delta t)\\rangle = e^{-i \\hat H \\Delta t /\\hbar}|\\Psi(t)\\rangle$ \n",
    "using the split step method.\n",
    "\n",
    "Here, we choose to sample the Gaussian temporal profile\n",
    "of the Bragg beam splitter potential with Gaussian width $\\sigma_\\mathrm{bs}$ \n",
    "with a step size of $\\Delta t = 1$ µs for a duration of $4\\sigma_\\mathrm{bs}$. Additionally, we let the wave function \n",
    "freely propagate for $25$ ms with $\\Delta t = 50$ µs after applying the beam \n",
    "potential to illustrate the separation of both momentum states in position \n",
    "space.\n",
    "\n",
    "```text\n",
    " laser start      intensity peak        laser end            simulation end\n",
    "------|-----------------|-------------------|----------------------|-----> time\n",
    "      |------------ 4 sigma_bs -------------|-- free propagation --|\n",
    "```"
   ]
  },
  {
   "cell_type": "code",
   "execution_count": null,
   "metadata": {},
   "outputs": [],
   "source": [
    "# define how many sigmas of the gauss to sample in each direction before\n",
    "# reaching zero intensity:\n",
    "sampling_range_mult = 4. # * sigma_bs\n",
    "dt_bs = 1e-6 # time step size\n",
    "# total number of pulse grid steps = gauss_width * scaling_factor / step_size\n",
    "steps_limit = int(round(sigma_bs * sampling_range_mult / dt_bs))\n",
    "t_offset = steps_limit*dt_bs\n",
    "nt_bs = 2*steps_limit # number of time steps for beam splitter\n",
    "dt_free = 5e-5 # defines time step size for free propagation\n",
    "nt_free = 50 # number of time steps for free propagation\n",
    "# time lists\n",
    "t_list_bs: Any = np.arange(nt_bs)*dt_bs\n",
    "t_list_free = t_list_bs[-1]+np.arange(1,nt_free+1)*dt_free\n",
    "t_list = np.concatenate((t_list_bs, t_list_free))"
   ]
  },
  {
   "cell_type": "markdown",
   "metadata": {},
   "source": [
    "### Initialize the wave function\n",
    "We initialize the wave function as the groundstate of a quantum harmonic oscillator with frequency $\\omega_\\mathrm{QHO} = 2\\pi\\times 10$ Hz."
   ]
  },
  {
   "cell_type": "code",
   "execution_count": null,
   "metadata": {},
   "outputs": [],
   "source": [
    "# coordinate grid\n",
    "x_dim: fa.Dimension = fa.dim_from_constraints(\n",
    "    name = \"x\",\n",
    "    pos_min = -50e-6,\n",
    "    pos_max = 50e-6,\n",
    "    freq_middle = 0.,\n",
    "    freq_extent = 32*k_L,\n",
    "    loose_params = [\"freq_extent\"],\n",
    ")\n",
    "\n",
    "# initialize an Array as harmonic oscillator groundstate\n",
    "x_coords: fa.Array = fa.coords_from_dim(x_dim, \"pos\")\n",
    "psi_init: fa.Array = (m * omega_x / (pi*hbar))**(1./4.) * fa.exp(-(m * omega_x * (x_coords**2.)/(2.*hbar)))\n",
    "psi_init = psi_init / fa.integrate(fa.abs(psi_init)**2)\n",
    "plt_array(psi_init)"
   ]
  },
  {
   "attachments": {},
   "cell_type": "markdown",
   "metadata": {},
   "source": [
    "### Define the potential\n",
    "Now, we implement the external potential\n",
    "$$\n",
    "    V = 2 \\hbar \\Omega(t) \\cos ^2 \\left( k_L x - \\frac{\\omega_r}{2} t \\right)\n",
    "$$\n",
    "where the time dependent Rabi frequency is defined by\n",
    "$$\n",
    "    \\Omega(t) = \\Omega_0 \\exp(-t^2/(2\\sigma_\\mathrm{bs}^2)).\n",
    "$$"
   ]
  },
  {
   "cell_type": "code",
   "execution_count": null,
   "metadata": {},
   "outputs": [],
   "source": [
    "from scipy.constants import hbar\n",
    "\n",
    "def V(ramp: float, t: float) -> fa.Array:\n",
    "    \"\"\"Bragg pulse potential.\n",
    "\n",
    "    Parameters\n",
    "    ----------\n",
    "    ramp : float\n",
    "        The pulse ramp (scaling the rabi frequency).\n",
    "    t : float\n",
    "        The global lab time.\n",
    "\n",
    "    Returns\n",
    "    -------\n",
    "    fa.Array\n",
    "        The potential at time t.\n",
    "    \"\"\"\n",
    "    return (rabi_frequency * ramp * 2. * hbar * fa.cos(\n",
    "        k_L * (x_coords - 0.5 * bragg_acc * t**2)\n",
    "        - 0.5 * w_r * t\n",
    "        + phi_0/2.\n",
    "    )**2)"
   ]
  },
  {
   "attachments": {},
   "cell_type": "markdown",
   "metadata": {},
   "source": [
    "Now, we plot the potential in position space at peak intensity (`t=t_offset`)."
   ]
  },
  {
   "cell_type": "code",
   "execution_count": null,
   "metadata": {},
   "outputs": [],
   "source": [
    "from bokeh.plotting import figure, show\n",
    "# plot the energy trend during the imaginary time evolution\n",
    "plt = figure(\n",
    "    width=700, height=400, min_border=50,\n",
    "    title=\"The potential versus the wave function's position grid\",\n",
    "    x_axis_label=\"x [m]\",\n",
    "    y_axis_label=\"Potential/hbar [Hz]\"\n",
    ")\n",
    "x_grid = x_dim.values(\"pos\", xp=np)\n",
    "potential_values = V(ramp=1, t=t_offset).values(\"pos\", xp=np)/hbar\n",
    "plot = plt.line(x_grid, potential_values)\n",
    "show(plt)"
   ]
  },
  {
   "cell_type": "markdown",
   "metadata": {},
   "source": [
    "### Propagate the wave function\n",
    "Now, we implement the iterative procedure of evolving the wave function in time according to the previously defined potential and the subsequent free propagation. "
   ]
  },
  {
   "cell_type": "code",
   "execution_count": null,
   "metadata": {},
   "outputs": [],
   "source": [
    "def gauss(t: float, sigma: float):\n",
    "    \"\"\"Helper function for the temporal Bragg beam profile.\"\"\"\n",
    "    return math.exp(-0.5 * (t / sigma)**2)\n",
    "\n",
    "# compute the boundary value of the gauss to ensure that the potential is zero\n",
    "# when we start and stop applying of the potential\n",
    "gauss_offset = gauss(t = -t_offset, sigma = sigma_bs)\n",
    "\n",
    "# wavenumber operator squared (used for kinetic operator)\n",
    "k_sq = ((2*pi*fa.coords_from_arr(psi_init, x_dim.name, \"freq\"))**2.).into_dtype(\"complex\")\n",
    "\n",
    "# store probability densities at every time step\n",
    "psi_data_bs = np.empty((2, len(t_list_bs), x_dim.n))\n",
    "psi_data_free = np.empty((2, len(t_list_free), x_dim.n))\n",
    "\n",
    "psi = psi_init\n",
    "\n",
    "# ---------------------------- Bragg beam splitter --------------------------- #\n",
    "# propagate the wave function using the Bragg beam potential for times t_list_bs\n",
    "# (assuming t_list_bs is evenly spaced with dt_bs)\n",
    "for i, t in enumerate(t_list_bs):\n",
    "    # evaluate the potential at time t\n",
    "    ramp = gauss(t=t-t_offset, sigma=sigma_bs) - gauss_offset\n",
    "    potential = V(ramp, float(t)).into_dtype(\"complex\")\n",
    "\n",
    "    # apply half kinetic propagator\n",
    "    psi = psi.into_space(\"freq\") * fa.exp((-1.j * 0.5*dt_bs * hbar / (2*m)) * k_sq)\n",
    "\n",
    "    # apply potential propagator\n",
    "    psi = psi.into_space(\"pos\") * fa.exp((-1.j / hbar * dt_bs) * potential)\n",
    "\n",
    "    # apply half kinetic propagator\n",
    "    psi = psi.into_space(\"freq\") * fa.exp((-1.j * 0.5*dt_bs * hbar / (2*m)) * k_sq)\n",
    "\n",
    "    # save probability density in pos and freq space\n",
    "    psi_data_bs[0,i] = fa.abs(psi.into_space(\"pos\")).values(\"pos\", xp=np)**2\n",
    "    psi_data_bs[1,i] = fa.abs(psi.into_space(\"freq\")).values(\"freq\", xp=np)**2\n",
    "\n",
    "# ----------------------------- Free propagation ----------------------------- #\n",
    "# further freely propagate the wave function for times t_list_free (assuming\n",
    "# t_list_free is evenly spaced with dt_free)\n",
    "for i, _t in enumerate(t_list_free):\n",
    "    # free propagation step\n",
    "    psi = psi.into_space(\"freq\") * fa.exp((-1.j * dt_free * hbar / (2*m)) * k_sq)\n",
    "\n",
    "    psi_data_free[0,i] = fa.abs(psi.into_space(\"pos\")).values(\"pos\", xp=np)**2\n",
    "    psi_data_free[1,i] = fa.abs(psi.into_space(\"freq\")).values(\"freq\", xp=np)**2\n",
    "\n",
    "psi_final_free = psi"
   ]
  },
  {
   "cell_type": "markdown",
   "metadata": {},
   "source": [
    "### Plot the final wave function\n",
    "The final wave function is in a superposition of momentum states |0hbark> and \n",
    "|2hbark>."
   ]
  },
  {
   "cell_type": "code",
   "execution_count": null,
   "metadata": {},
   "outputs": [],
   "source": [
    "# plot the final wave function\n",
    "plt_array(psi_final_free)"
   ]
  },
  {
   "cell_type": "markdown",
   "metadata": {},
   "source": [
    "## Plot the complete time evolution"
   ]
  },
  {
   "cell_type": "code",
   "execution_count": null,
   "metadata": {},
   "outputs": [],
   "source": [
    "# every reduce_pts_fac point is shown in time and pos/freq\n",
    "reduce_pts_fac = 2 # 1 for higher resolution\n",
    "if nt_bs % nt_free > 0:\n",
    "    print(\"Warning: Time grid not equidistant in contour plot.\")\n",
    "psi_init_abs_pos = fa.abs(psi_init.into_space(\"pos\")).values(\"pos\", xp=np)**2\n",
    "psi_init_abs_freq = fa.abs(psi_init.into_space(\"freq\")).values(\"freq\", xp=np)**2\n",
    "# list of all position space values\n",
    "plt_data_psi_final_pos = np.concatenate((\n",
    "    # initial value\n",
    "    [psi_init_abs_pos[::reduce_pts_fac]],\n",
    "    # beam splitter values\n",
    "    psi_data_bs[0,::reduce_pts_fac*nt_bs//nt_free,::reduce_pts_fac],\n",
    "    # free propagation values\n",
    "    psi_data_free[0,::reduce_pts_fac,::reduce_pts_fac]\n",
    "))\n",
    "# list of all momentum space values\n",
    "plt_data_psi_final_freq = np.concatenate((\n",
    "    # initial value\n",
    "    [psi_init_abs_freq[::reduce_pts_fac]],\n",
    "    # beam splitter values\n",
    "    psi_data_bs[1][::reduce_pts_fac*nt_bs//nt_free,::reduce_pts_fac],\n",
    "    # free propagation values\n",
    "    psi_data_free[1,::reduce_pts_fac,::reduce_pts_fac]\n",
    "))\n",
    "plt_data_t_list = np.concatenate((\n",
    "    [0],\n",
    "    t_list_bs[::reduce_pts_fac] + dt_bs,\n",
    "    t_list_free[::reduce_pts_fac] + dt_bs\n",
    "))\n",
    "plt_array_values_space_time(\n",
    "    pos_values = np.real(plt_data_psi_final_pos),\n",
    "    freq_values = np.real(plt_data_psi_final_freq),\n",
    "    pos_grid = x_dim.values(\"pos\", xp=np),\n",
    "    freq_grid = x_dim.values(\"freq\", xp=np)*lambda_L,\n",
    "    time = plt_data_t_list,\n",
    "    freq_unit = \"hbar k_L\",\n",
    "    pos_range = (-1e-5, 4e-5),\n",
    "    freq_range = (-0.5, 2.5),\n",
    ")"
   ]
  },
  {
   "cell_type": "code",
   "execution_count": null,
   "metadata": {},
   "outputs": [],
   "source": []
  }
 ],
 "metadata": {
  "kernelspec": {
   "display_name": "dev",
   "language": "python",
   "name": "python3"
  },
  "language_info": {
   "codemirror_mode": {
    "name": "ipython",
    "version": 3
   },
   "file_extension": ".py",
   "mimetype": "text/x-python",
   "name": "python",
   "nbconvert_exporter": "python",
   "pygments_lexer": "ipython3",
   "version": "3.13.5"
  },
  "orig_nbformat": 4
 },
 "nbformat": 4,
 "nbformat_minor": 2
}
