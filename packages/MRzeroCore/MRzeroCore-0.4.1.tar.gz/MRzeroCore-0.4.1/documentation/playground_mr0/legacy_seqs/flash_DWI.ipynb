{
 "cells": [
  {
   "cell_type": "code",
   "execution_count": null,
   "metadata": {
    "tags": [
     "hide-cell"
    ]
   },
   "outputs": [],
   "source": [
    "!pip install MRzeroCore &> /dev/null\n",
    "!wget https://github.com/MRsources/MRzero-Core/raw/main/documentation/playground_mr0/subject05.npz &> /dev/null"
   ]
  },
  {
   "cell_type": "code",
   "execution_count": null,
   "metadata": {},
   "outputs": [],
   "source": [
    "import MRzeroCore as mr0\n",
    "import matplotlib.pyplot as plt\n",
    "import numpy as np\n",
    "from numpy import pi\n",
    "import torch"
   ]
  },
  {
   "attachments": {},
   "cell_type": "markdown",
   "metadata": {},
   "source": [
    "(flash_dwi)=\n",
    "# DWI preparation with FLASH readout\n",
    "\n",
    "Change the b-value in build_seq() to the desired value"
   ]
  },
  {
   "cell_type": "code",
   "execution_count": null,
   "metadata": {},
   "outputs": [],
   "source": [
    "def build_seq(fov=0.2) -> mr0.Sequence:\n",
    "    seq = mr0.Sequence()\n",
    "\n",
    "    # Needed, otherwise prep produces stronger first readout\n",
    "    dummies = 1\n",
    "\n",
    "    # Add DWI with a 90-180-90 prep sequence\n",
    "    b = 1000  # s / mm^2\n",
    "    t_grad = 10e-3\n",
    "    t_rf = 2e-3\n",
    "    # We manually scale xy grads for FOV and leave z alone.\n",
    "    # Convert mm to m -> 1e3\n",
    "    k = 1e3 * np.sqrt(b / (2/3 * t_grad + t_rf))\n",
    "    print(f\"b-value: {b} -> gradient moment: {k}\")\n",
    "\n",
    "    rep = seq.new_rep(2)\n",
    "    rep.pulse.angle = pi/2\n",
    "    rep.pulse.usage = mr0.PulseUsage.EXCIT\n",
    "    rep.event_time[0] = t_rf\n",
    "    rep.event_time[1] = t_grad\n",
    "    rep.gradm[1, 2] = k\n",
    "\n",
    "    rep = seq.new_rep(2)\n",
    "    rep.pulse.angle = pi\n",
    "    rep.pulse.usage = mr0.PulseUsage.REFOC\n",
    "    rep.event_time[0] = t_rf\n",
    "    rep.event_time[1] = t_grad\n",
    "    rep.gradm[1, 2] = k\n",
    "    rep.gradm[1, 0] = -96\n",
    "\n",
    "    rep = seq.new_rep(2)\n",
    "    rep.pulse.angle = pi/2\n",
    "    rep.pulse.usage = mr0.PulseUsage.STORE\n",
    "    rep.event_time[0] = t_rf\n",
    "    rep.event_time[1] = 10e-3  # Could increase this for more T1 weighting\n",
    "\n",
    "    # FLASH readout\n",
    "    for i in range(64 + dummies):\n",
    "        rep = seq.new_rep(2 + 64 + 1)\n",
    "        rep.pulse.usage = mr0.PulseUsage.EXCIT\n",
    "        rep.pulse.angle = 7 * pi/180\n",
    "        rep.pulse.phase = 0.5 * 117 * (i**2+i+2) * pi / 180\n",
    "\n",
    "        rep.event_time[0] = 2e-3  # Pulse\n",
    "        rep.event_time[1] = 2e-3  # Rewinder\n",
    "        rep.event_time[2:-1] = 0.08e-3  # Readout\n",
    "        rep.event_time[-1] = 2e-3  # Spoiler\n",
    "\n",
    "        rep.gradm[1, 0] = 96 - 33\n",
    "        rep.gradm[2:-1, 0] = 1\n",
    "        rep.gradm[-1, 0] = 96 - 31\n",
    "\n",
    "        if i >= dummies:\n",
    "            # Linear reordered phase encoding\n",
    "            rep.gradm[1, 1] = i - 32\n",
    "            rep.gradm[-1, 1] = -rep.gradm[1, 1]\n",
    "\n",
    "            rep.adc_usage[2:-1] = 1\n",
    "            rep.adc_phase[2:-1] = pi - rep.pulse.phase\n",
    "\n",
    "    seq.normalized_grads = False\n",
    "    for rep in seq:\n",
    "        # Don't scale z-gradients used for diffusion\n",
    "        rep.gradm[:, :2] /= fov\n",
    "\n",
    "    return seq"
   ]
  },
  {
   "cell_type": "code",
   "execution_count": null,
   "metadata": {
    "tags": [
     "hide-output"
    ]
   },
   "outputs": [],
   "source": [
    "# Simulate\n",
    "phantom = mr0.VoxelGridPhantom.brainweb(\"subject05.npz\")\n",
    "phantom = phantom.interpolate(64, 64, 32).slices([16])\n",
    "data = phantom.build()\n",
    "\n",
    "seq = build_seq(fov=data.size[0])\n",
    "seq.plot_kspace_trajectory()\n",
    "\n",
    "graph = mr0.compute_graph(seq, data)\n",
    "signal = mr0.execute_graph(graph, seq, data, print_progress=False)"
   ]
  },
  {
   "cell_type": "code",
   "execution_count": null,
   "metadata": {},
   "outputs": [],
   "source": [
    "# Plot the result\n",
    "kspace = signal.view(64, 64)\n",
    "reco = torch.fft.fftshift(\n",
    "    torch.fft.fft2(torch.fft.fftshift(kspace), norm=\"forward\")\n",
    ")\n",
    "\n",
    "plt.figure(figsize=(8, 7))\n",
    "plt.subplot(221)\n",
    "plt.title(\"abs(reco)\")\n",
    "plt.imshow(reco.abs().cpu().flip(0), vmin=0)\n",
    "plt.colorbar()\n",
    "plt.axis(\"off\")\n",
    "plt.subplot(222)\n",
    "plt.title(\"angle(reco)\")\n",
    "plt.imshow(reco.angle().cpu().flip(0), vmin=-np.pi, vmax=np.pi, cmap=\"twilight\")\n",
    "plt.colorbar()\n",
    "plt.axis(\"off\")\n",
    "plt.subplot(223)\n",
    "plt.title(\"log(abs(kspace))\")\n",
    "plt.imshow(kspace.abs().log().cpu().flip(0))\n",
    "plt.colorbar()\n",
    "plt.axis(\"off\")\n",
    "plt.subplot(224)\n",
    "plt.title(\"Proton Density\")\n",
    "plt.imshow(phantom.PD.cpu()[:, :, 0].T, origin='lower', vmin=0, vmax=1)\n",
    "plt.colorbar()\n",
    "plt.axis(\"off\")\n",
    "plt.show()"
   ]
  }
 ],
 "metadata": {
  "kernelspec": {
   "display_name": "Python 3",
   "language": "python",
   "name": "python3"
  },
  "language_info": {
   "codemirror_mode": {
    "name": "ipython",
    "version": 3
   },
   "file_extension": ".py",
   "mimetype": "text/x-python",
   "name": "python",
   "nbconvert_exporter": "python",
   "pygments_lexer": "ipython3",
   "version": "3.11.4"
  },
  "orig_nbformat": 4
 },
 "nbformat": 4,
 "nbformat_minor": 2
}
