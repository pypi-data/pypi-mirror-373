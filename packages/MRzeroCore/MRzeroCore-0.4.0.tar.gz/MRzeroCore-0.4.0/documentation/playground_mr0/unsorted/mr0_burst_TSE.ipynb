{
 "cells": [
  {
   "cell_type": "code",
   "execution_count": null,
   "metadata": {
    "id": "GmqCxc9MnLv_",
    "tags": [
     "hide-cell"
    ]
   },
   "outputs": [],
   "source": [
    "!pip install pypulseq &> /dev/null\n",
    "!pip install MRzeroCore &> /dev/null"
   ]
  },
  {
   "cell_type": "markdown",
   "metadata": {},
   "source": [
    "(burst_TSE_seq)=\n",
    "# BURST TSE\n",
    "\n",
    "https://link.springer.com/article/10.1007/BF02660372\n",
    "\n",
    "https://pubmed.ncbi.nlm.nih.gov/7984078/\n",
    "\n",
    "This Burst-TSE follows the main idea of encoding multiple z-states that are then\n",
    "read in a single readout (with multiple refocusings). It does currently not\n",
    "minimize gradient switching (phase encoding is applied as short gradient after\n",
    "every k-space line, instead of continuously). Excitation pulses are constant\n",
    "flip angles, which is results in varying signal intensity."
   ]
  },
  {
   "cell_type": "code",
   "execution_count": null,
   "metadata": {
    "id": "_4Kbv7OrneZB"
   },
   "outputs": [],
   "source": [
    "#@title 1. Imports\n",
    "import numpy as np\n",
    "import torch\n",
    "import matplotlib.pyplot as plt\n",
    "import MRzeroCore as mr0\n",
    "\n",
    "res = (64, 64)\n",
    "\n",
    "data = mr0.util.load_phantom(size=res)"
   ]
  },
  {
   "cell_type": "code",
   "execution_count": null,
   "metadata": {
    "id": "Z3EbohACoDvy"
   },
   "outputs": [],
   "source": [
    "#@title 2. Burst sequence definition\n",
    "def build_seq(burst_flip=5, refoc_flip=120, spoiler=10, refocs=8, CPMG=True):\n",
    "    burst_len = res[1] // refocs\n",
    "    assert res[1] / refocs % 1 == 0\n",
    "\n",
    "    t_pulse = 0.5e-3\n",
    "    t_refoc_pulse = 1e-3\n",
    "    t_adc = 30e-6\n",
    "\n",
    "    seq = mr0.Sequence()\n",
    "\n",
    "    # BURST pulse\n",
    "    for i in range(burst_len):\n",
    "        rep = seq.new_rep(2)\n",
    "\n",
    "        rep.pulse.angle = burst_flip * torch.pi/180\n",
    "        rep.event_time[0] = t_pulse\n",
    "\n",
    "        rep.gradm[1, 0] = res[0] + spoiler\n",
    "        rep.event_time[1] = (res[0] + spoiler) * t_adc\n",
    "\n",
    "\n",
    "    # TSE readout\n",
    "    for i in range(refocs):\n",
    "        rep = seq.new_rep(2 + (res[0] + 1) * burst_len + 1)\n",
    "        rep.pulse.angle = refoc_flip * torch.pi / 180\n",
    "        if CPMG == True:\n",
    "            rep.pulse.phase = (0.5 - (i % 2)) * torch.pi\n",
    "        elif CPMG == \"wrong\":\n",
    "            rep.pulse.phase = torch.pi / 2\n",
    "        rep.event_time[0] = t_refoc_pulse\n",
    "\n",
    "        rep.gradm[1, 0] = spoiler + res[0] // 2 - 1\n",
    "        rep.gradm[1, 1] = -res[0] // 2 + i * burst_len\n",
    "        rep.event_time[1] = rep.gradm[1, 0] * t_adc\n",
    "\n",
    "        # Readout\n",
    "        for j in range(burst_len):\n",
    "            start = 2 + j * (res[0] + 1)\n",
    "            stop = start + res[0]\n",
    "\n",
    "            rep.gradm[start:stop, 0] = 1\n",
    "            rep.adc_usage[start:stop] = 1\n",
    "            rep.event_time[start:stop] = t_adc\n",
    "\n",
    "            rep.gradm[stop, 0] = spoiler\n",
    "            rep.gradm[stop, 1] = 1\n",
    "            rep.event_time[stop] = spoiler * t_adc\n",
    "\n",
    "        rep.gradm[-1, :] = -rep.gradm[:-1, :].sum(0)\n",
    "        rep.event_time[-1] = rep.gradm[-1, 0] * t_adc\n",
    "\n",
    "    return seq"
   ]
  },
  {
   "cell_type": "code",
   "execution_count": null,
   "metadata": {
    "colab": {
     "base_uri": "https://localhost:8080/"
    },
    "id": "wCrohnxlpZ2b",
    "outputId": "6f51e3ee-f3af-4e75-bcba-7f0f85ba5b23",
    "tags": [
     "hide-output"
    ]
   },
   "outputs": [],
   "source": [
    "#@title Simulate\n",
    "# Use less states / isochromats here because free google Colab is slow.\n",
    "# This means that isochromats will not produce a usable image!\n",
    "\n",
    "spin_recos = {}\n",
    "pdg_recos = {}\n",
    "\n",
    "for i in range(3):\n",
    "    cpmg = [False, \"wrong\", True][i]\n",
    "    seq = build_seq(CPMG=cpmg)\n",
    "\n",
    "    # Very high thresholds for inaccurate but fast doc build\n",
    "    signal, _ = mr0.util.simulate(seq, data)\n",
    "    pdg_recos[cpmg] = torch.fft.fftshift(torch.fft.fft2(signal.view(res)))\n",
    "\n",
    "    # NOTE: Commented for documentation build out because slow\n",
    "    # signal = mr0.isochromat_sim(seq, data, 100).cpu().flatten()\n",
    "    # spin_recos[cpmg] = torch.fft.fftshift(torch.fft.fft2(signal.view(res)))\n",
    "    spin_recos[cpmg] = torch.zeros_like(pdg_recos[cpmg])"
   ]
  },
  {
   "cell_type": "code",
   "execution_count": null,
   "metadata": {
    "colab": {
     "base_uri": "https://localhost:8080/",
     "height": 499
    },
    "id": "ZlACudf4p37-",
    "outputId": "7ab36d05-20af-4e20-f300-7b2593d2c6f1"
   },
   "outputs": [],
   "source": [
    "#@title Plot the figure\n",
    "text_args = {\"c\": \"w\", \"fontsize\": 14, \"ha\": \"center\", \"va\": \"center\", \"bbox\": {\"fill\": True}}\n",
    "\n",
    "plt.figure(figsize=(9, 6), dpi=100)\n",
    "for i in range(3):\n",
    "    cpmg = [False, \"wrong\", True][i]\n",
    "    name = [\"CPMG violated\", \"CPMG\", \"CPMG ($\\\\pm 180°$)\"][i]\n",
    "\n",
    "    plt.subplot(231 + i)\n",
    "    plt.text(32, 58, name, text_args)\n",
    "    if i == 0:\n",
    "        plt.text(5, 32, \"PDG\", text_args, rotation=\"vertical\")\n",
    "    plt.imshow(pdg_recos[cpmg].abs(), origin=\"lower\", vmin=0, vmax=300)\n",
    "    plt.axis(\"off\")\n",
    "    plt.subplot(234 + i)\n",
    "    if i == 0:\n",
    "        plt.text(5, 32, \"Isochromats\", text_args, rotation=\"vertical\")\n",
    "    plt.imshow(spin_recos[cpmg].abs(), origin=\"lower\", vmin=0, vmax=300)\n",
    "    plt.axis(\"off\")\n",
    "plt.subplots_adjust(hspace=0.05, wspace=0)\n",
    "plt.show()"
   ]
  },
  {
   "cell_type": "code",
   "execution_count": null,
   "metadata": {
    "colab": {
     "base_uri": "https://localhost:8080/",
     "height": 472
    },
    "id": "sSyvc3LoQtgb",
    "outputId": "825b3c3f-9423-46a5-c4d4-db5676a24f74"
   },
   "outputs": [],
   "source": [
    "#@title Tau-view of the PDG\n",
    "\n",
    "logarithmic = True  # @param {type: \"boolean\"}\n",
    "what = \"emitted signal\"  #@param [\"emitted signal\", \"latent signal\", \"magnetization\"]\n",
    "sim_only = False  # @param {type: \"boolean\"}\n",
    "eps = 1e-7\n",
    "\n",
    "values = []  # (rep, dephasing, weight or signal)\n",
    "\n",
    "for i, rep in enumerate(graph):\n",
    "    for state in rep:\n",
    "        if sim_only and state.kt_vec is None:\n",
    "            continue\n",
    "        if what == \"emitted signal\" and state.dist_type == '+':\n",
    "            values.append((\n",
    "                i,\n",
    "                state.prepass_kt_vec[3],\n",
    "                state.emitted_signal + eps,\n",
    "            ))\n",
    "        elif what == \"latent signal\":\n",
    "            values.append((\n",
    "                i,\n",
    "                state.prepass_kt_vec[3],\n",
    "                state.latent_signal + eps,\n",
    "            ))\n",
    "        elif what == \"magnetization\":\n",
    "            values.append((\n",
    "                i,\n",
    "                state.prepass_kt_vec[3],\n",
    "                np.abs(state.prepass_mag) + eps,\n",
    "            ))\n",
    "\n",
    "values = sorted(values, key=lambda v: v[2])\n",
    "r = [v[0] for v in values]\n",
    "t = [v[1] for v in values]\n",
    "if logarithmic:\n",
    "    v = [np.log10(v[2]) for v in values]\n",
    "else:\n",
    "    v = [v[2] for v in values]\n",
    "\n",
    "plt.figure()\n",
    "if logarithmic:\n",
    "    plt.scatter(r, t, c=v, s=20, zorder=10, vmin=np.log10(eps), vmax=0)\n",
    "else:\n",
    "    plt.scatter(r, t, c=v, s=20, zorder=10, vmin=0, vmax=1)\n",
    "\n",
    "plt.grid()\n",
    "plt.colorbar()\n",
    "\n",
    "plt.xlabel(\"Repetition\")\n",
    "plt.ylabel(\"$\\\\tau$ dephasing [s]\")\n",
    "plt.show()"
   ]
  }
 ],
 "metadata": {
  "colab": {
   "provenance": []
  },
  "kernelspec": {
   "display_name": ".venv",
   "language": "python",
   "name": "python3"
  },
  "language_info": {
   "codemirror_mode": {
    "name": "ipython",
    "version": 3
   },
   "file_extension": ".py",
   "mimetype": "text/x-python",
   "name": "python",
   "nbconvert_exporter": "python",
   "pygments_lexer": "ipython3",
   "version": "3.11.3"
  }
 },
 "nbformat": 4,
 "nbformat_minor": 0
}
