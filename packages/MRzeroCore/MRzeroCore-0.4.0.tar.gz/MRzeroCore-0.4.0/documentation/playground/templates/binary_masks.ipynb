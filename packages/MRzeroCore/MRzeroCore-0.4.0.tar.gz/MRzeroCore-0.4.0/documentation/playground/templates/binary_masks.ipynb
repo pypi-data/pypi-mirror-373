{
 "cells": [
  {
   "cell_type": "code",
   "execution_count": null,
   "metadata": {},
   "outputs": [],
   "source": [
    "import MRzeroCore as mr0\n",
    "import matplotlib.pyplot as plt"
   ]
  },
  {
   "cell_type": "markdown",
   "metadata": {},
   "source": [
    "# Generate phantoms with tissue masks"
   ]
  },
  {
   "cell_type": "code",
   "execution_count": null,
   "metadata": {},
   "outputs": [],
   "source": [
    "\n",
    "mr0.generate_brainweb_phantoms(\"bw_phantoms\" , \"3T\")"
   ]
  },
  {
   "cell_type": "code",
   "execution_count": null,
   "metadata": {},
   "outputs": [],
   "source": [
    "\n",
    "phantom = mr0.VoxelGridPhantom.brainweb(\"bw_phantoms/subject04_3T.npz\")\n",
    "\n",
    "obj = phantom.interpolate(256, 256, 32).slices([16])\n",
    "obj.plot(plot_masks=True)\n",
    "phantom = obj.build()"
   ]
  },
  {
   "cell_type": "code",
   "execution_count": null,
   "metadata": {},
   "outputs": [],
   "source": [
    "\n",
    "# get tissue masks from phantom\n",
    "masks = phantom.tissue_masks\n",
    "\n",
    "#plot tissue masks\n",
    "plt.figure()\n",
    "for key, value in masks.items():\n",
    "    plt.imshow(value[:, :, 0])\n",
    "    plt.colorbar()\n",
    "    plt.title(key)\n",
    "    plt.show()"
   ]
  }
 ],
 "metadata": {
  "kernelspec": {
   "display_name": "mrzero_source",
   "language": "python",
   "name": "python3"
  },
  "language_info": {
   "codemirror_mode": {
    "name": "ipython",
    "version": 3
   },
   "file_extension": ".py",
   "mimetype": "text/x-python",
   "name": "python",
   "nbconvert_exporter": "python",
   "pygments_lexer": "ipython3",
   "version": "3.10.14"
  }
 },
 "nbformat": 4,
 "nbformat_minor": 2
}
