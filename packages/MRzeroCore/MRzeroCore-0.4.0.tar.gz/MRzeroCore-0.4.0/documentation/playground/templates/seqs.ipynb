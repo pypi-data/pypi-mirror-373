{
 "cells": [
  {
   "cell_type": "code",
   "execution_count": 2,
   "metadata": {},
   "outputs": [
    {
     "name": "stderr",
     "output_type": "stream",
     "text": [
      "c:\\Users\\endresjn\\Documents\\MRzero\\MRzero-Core\\.env\\Lib\\site-packages\\tqdm\\auto.py:21: TqdmWarning: IProgress not found. Please update jupyter and ipywidgets. See https://ipywidgets.readthedocs.io/en/stable/user_install.html\n",
      "  from .autonotebook import tqdm as notebook_tqdm\n"
     ]
    }
   ],
   "source": [
    "import numpy as np\n",
    "np.int = int\n",
    "np.float = float\n",
    "np.complex = complex\n",
    "\n",
    "import pypulseq as pp\n",
    "\n",
    "# dummy system\n",
    "system = pp.Opts(\n",
    "    max_grad=28, grad_unit='mT/m',\n",
    "    max_slew=150, slew_unit='T/m/s',\n",
    "    rf_ringdown_time=20e-6, rf_dead_time=100e-6,\n",
    "    adc_dead_time=20e-6,\n",
    "    grad_raster_time=50e-6\n",
    ")"
   ]
  },
  {
   "cell_type": "code",
   "execution_count": 4,
   "metadata": {},
   "outputs": [],
   "source": [
    "# *** template_A.ipynb -> FLASH.ipynb\n",
    "\n",
    "# !!! CONFIG\n",
    "# Field of view, imaging volume and resolution\n",
    "fov = 200e-3\n",
    "slice_thickness = 8e-3\n",
    "Nread = 64\n",
    "Nphase = 64\n",
    "\n",
    "# Sequence's name\n",
    "experiment_id = 'flash'\n",
    "\n",
    "# !!! SEQUENCE DEFINITION\n",
    "def flash_2D(fov=200e-3, slice_thickness=8e-3,\n",
    "             n_read=64, n_phase=64,\n",
    "             system=system,\n",
    "             flip_angle=10, phase_cycling=84):\n",
    "    \"\"\"Linear, cartesian 2D FLASH with TR = 26 ms + 50 us * n_phase\"\"\"\n",
    "    rf, gz, gzr = pp.make_sinc_pulse(\n",
    "        flip_angle=flip_angle * np.pi / 180, duration=1e-3,\n",
    "        slice_thickness=slice_thickness, apodization=0.5, time_bw_product=4,\n",
    "        return_gz=True, system=system\n",
    "    )\n",
    "\n",
    "    adc_dur = n_phase * 50e-6\n",
    "    gx = pp.make_trapezoid(channel='x', flat_area=n_read / fov, flat_time=adc_dur, system=system)\n",
    "    adc = pp.make_adc(num_samples=n_read, duration=adc_dur, delay=gx.rise_time, system=system)\n",
    "    gx_pre = pp.make_trapezoid(channel='x', area=-0.5 * gx.area, duration=5e-3, system=system)\n",
    "    gx_spoil = pp.make_trapezoid(channel='x', area=1.5 * gx.area, duration=2e-3, system=system)\n",
    "\n",
    "    seq = pp.Sequence(system)\n",
    "    for i in range(n_phase):\n",
    "        phase = 0.5 * phase_cycling * (2 + i + i**2)\n",
    "        rf.phase_offset = (phase % 360) * np.pi / 180\n",
    "        adc.phase_offset = rf.phase_offset\n",
    "\n",
    "        phenc = (i - n_phase // 2) / fov\n",
    "\n",
    "        seq.add_block(rf, gz)\n",
    "        seq.add_block(gzr, pp.make_delay(5e-3))\n",
    "        gp = pp.make_trapezoid(channel='y', area=phenc, duration=5e-3, system=system)\n",
    "        seq.add_block(gx_pre, gp)\n",
    "        seq.add_block(adc, gx)\n",
    "        gp = pp.make_trapezoid(channel='y', area=-phenc, duration=5e-3, system=system)\n",
    "        seq.add_block(gx_spoil, gp)\n",
    "        seq.add_block(pp.make_delay(10e-3))\n",
    "\n",
    "    seq.set_definition('FOV', [fov, fov, slice_thickness])\n",
    "    return seq\n",
    "\n",
    "# !!! SEQUENCE CREATION\n",
    "seq = flash_2D(fov, slice_thickness, Nread, Nphase, system)\n",
    "seq.set_definition('Name', experiment_id)\n",
    "seq.write(experiment_id + '.seq')\n"
   ]
  }
 ],
 "metadata": {
  "kernelspec": {
   "display_name": ".env",
   "language": "python",
   "name": "python3"
  },
  "language_info": {
   "codemirror_mode": {
    "name": "ipython",
    "version": 3
   },
   "file_extension": ".py",
   "mimetype": "text/x-python",
   "name": "python",
   "nbconvert_exporter": "python",
   "pygments_lexer": "ipython3",
   "version": "3.11.4"
  }
 },
 "nbformat": 4,
 "nbformat_minor": 2
}
