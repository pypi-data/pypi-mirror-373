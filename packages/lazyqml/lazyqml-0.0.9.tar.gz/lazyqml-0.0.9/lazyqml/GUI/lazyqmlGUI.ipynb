{
 "cells": [
  {
   "cell_type": "code",
   "execution_count": null,
   "metadata": {},
   "outputs": [],
   "source": [
    "# Import necessary libraries\n",
    "import ipywidgets as widgets\n",
    "from IPython.display import display, HTML\n",
    "\n",
    "# Add custom CSS for better aesthetics\n",
    "display(HTML(\"\"\"\n",
    "<style>\n",
    "    .widget-label {\n",
    "        font-weight: bold;\n",
    "        font-size: 14px;\n",
    "    }\n",
    "             \n",
    "    .widget-checkbox {\n",
    "        width: auto\n",
    "    }\n",
    "\n",
    "    .widget-text {\n",
    "        width: auto\n",
    "    }\n",
    "    \n",
    "    .widget-dropdown {\n",
    "        width: auto\n",
    "    }\n",
    "    \n",
    "    .widget-button {\n",
    "        width: auto\n",
    "    }\n",
    "             \n",
    "    .widget-vbox {\n",
    "        background-color: #f9f9f9;\n",
    "        padding: 15px;\n",
    "        border-radius: 10px;\n",
    "        box-shadow: 2px 2px 10px rgba(0, 0, 0, 0.1);\n",
    "        margin-bottom: 15px;\n",
    "        width: auto\n",
    "    }\n",
    "\n",
    "</style>\n",
    "\"\"\"))"
   ]
  },
  {
   "cell_type": "code",
   "execution_count": null,
   "metadata": {},
   "outputs": [],
   "source": [
    "output_display = widgets.Output()\n",
    "\n",
    "from _layout import *\n",
    "from _events import set_events\n",
    "from _generator import generate_code\n",
    "\n",
    "set_events()\n",
    "generate_code(None)\n",
    "\n",
    "# Function to display widgets in a nice box layout (stack widgets vertically)\n",
    "# @output_display.capture()\n",
    "def display_widgets():\n",
    "    row_0 = widgets.HBox([general_model_options_box, cv_options_box])\n",
    "    row_1 = widgets.HBox([classifiers_box, ansatzs_box, embeddings_box])\n",
    "    row_2 = widgets.HBox([bagging_box, other_options_box])\n",
    "    row_3 = widgets.HBox([generate_code_button, save2file_button])\n",
    "    \n",
    "    widget_box = widgets.VBox([\n",
    "        widgets.HTML(\"<h2>Quantum Classifier Configuration</h2>\"),\n",
    "        row_0, \n",
    "        row_1,\n",
    "        row_2,\n",
    "        row_3,\n",
    "        out_code\n",
    "        # output_code_display\n",
    "    ], \n",
    "    layout=widgets.Layout(border='solid 1px #cccccc', border_radius='10px'))\n",
    "    \n",
    "    display(widget_box)\n"
   ]
  },
  {
   "cell_type": "code",
   "execution_count": null,
   "metadata": {},
   "outputs": [],
   "source": [
    "# Display\n",
    "display_widgets()\n",
    "\n"
   ]
  }
 ],
 "metadata": {
  "kernelspec": {
   "display_name": "lqml-env",
   "language": "python",
   "name": "python3"
  },
  "language_info": {
   "codemirror_mode": {
    "name": "ipython",
    "version": 3
   },
   "file_extension": ".py",
   "mimetype": "text/x-python",
   "name": "python",
   "nbconvert_exporter": "python",
   "pygments_lexer": "ipython3",
   "version": "3.10.16"
  }
 },
 "nbformat": 4,
 "nbformat_minor": 2
}
