{
 "cells": [
  {
   "cell_type": "markdown",
   "metadata": {},
   "source": [
    "# Interactive Widgets Example Notebook\n",
    "\n",
    "This notebook demonstrates interactive widgets that can be used to test the conversion functionality, particularly the widget conversion features."
   ]
  },
  {
   "cell_type": "code",
   "execution_count": null,
   "metadata": {},
   "outputs": [],
   "source": [
    "# Import necessary libraries\n",
    "import ipywidgets as widgets\n",
    "import numpy as np\n",
    "import matplotlib.pyplot as plt\n",
    "from IPython.display import display"
   ]
  },
  {
   "cell_type": "markdown",
   "metadata": {},
   "source": [
    "## Basic Widgets"
   ]
  },
  {
   "cell_type": "code",
   "execution_count": null,
   "metadata": {},
   "outputs": [],
   "source": [
    "# Button widget\n",
    "button = widgets.Button(\n",
    "    description='Click Me!',\n",
    "    button_style='success',\n",
    "    tooltip='Click the button',\n",
    "    icon='check'\n",
    ")\n",
    "\n",
    "output = widgets.Output()\n",
    "\n",
    "def on_button_clicked(b):\n",
    "    with output:\n",
    "        output.clear_output()\n",
    "        print(\"Button clicked!\")\n",
    "\n",
    "button.on_click(on_button_clicked)\n",
    "\n",
    "display(button, output)"
   ]
  },
  {
   "cell_type": "code",
   "execution_count": null,
   "metadata": {},
   "outputs": [],
   "source": [
    "# Slider widget\n",
    "int_slider = widgets.IntSlider(\n",
    "    value=7,\n",
    "    min=0,\n",
    "    max=10,\n",
    "    step=1,\n",
    "    description='Value:',\n",
    "    disabled=False,\n",
    "    continuous_update=False,\n",
    "    orientation='horizontal',\n",
    "    readout=True,\n",
    "    readout_format='d'\n",
    ")\n",
    "\n",
    "display(int_slider)"
   ]
  },
  {
   "cell_type": "code",
   "execution_count": null,
   "metadata": {},
   "outputs": [],
   "source": [
    "# Checkbox widget\n",
    "checkbox = widgets.Checkbox(\n",
    "    value=False,\n",
    "    description='Check me',\n",
    "    disabled=False,\n",
    "    indent=False\n",
    ")\n",
    "\n",
    "display(checkbox)"
   ]
  },
  {
   "cell_type": "code",
   "execution_count": null,
   "metadata": {},
   "outputs": [],
   "source": [
    "# Dropdown widget\n",
    "dropdown = widgets.Dropdown(\n",
    "    options=['Option 1', 'Option 2', 'Option 3'],\n",
    "    value='Option 1',\n",
    "    description='Select:',\n",
    "    disabled=False,\n",
    ")\n",
    "\n",
    "display(dropdown)"
   ]
  },
  {
   "cell_type": "markdown",
   "metadata": {},
   "source": [
    "## Widget Layouts and Styling"
   ]
  },
  {
   "cell_type": "code",
   "execution_count": null,
   "metadata": {},
   "outputs": [],
   "source": [
    "# Box layout\n",
    "items = [widgets.Label(value=str(i)) for i in range(10)]\n",
    "box = widgets.HBox(items)\n",
    "display(box)"
   ]
  },
  {
   "cell_type": "code",
   "execution_count": null,
   "metadata": {},
   "outputs": [],
   "source": [
    "# Tab layout\n",
    "tab_contents = ['Tab 1 content', 'Tab 2 content', 'Tab 3 content']\n",
    "children = [widgets.HTML(value=f\"<h2>{content}</h2>\") for content in tab_contents]\n",
    "tab = widgets.Tab()\n",
    "tab.children = children\n",
    "tab.titles = ['Tab 1', 'Tab 2', 'Tab 3']\n",
    "\n",
    "display(tab)"
   ]
  },
  {
   "cell_type": "code",
   "execution_count": null,
   "metadata": {},
   "outputs": [],
   "source": [
    "# Accordion layout\n",
    "accordion = widgets.Accordion(children=children)\n",
    "accordion.set_title(0, 'Section 1')\n",
    "accordion.set_title(1, 'Section 2')\n",
    "accordion.set_title(2, 'Section 3')\n",
    "\n",
    "display(accordion)"
   ]
  },
  {
   "cell_type": "markdown",
   "metadata": {},
   "source": [
    "## Interactive Visualization"
   ]
  },
  {
   "cell_type": "code",
   "execution_count": null,
   "metadata": {},
   "outputs": [],
   "source": [
    "# Interactive visualization with widgets\n",
    "def plot_function(amplitude, frequency, phase):\n",
    "    plt.figure(figsize=(10, 5))\n",
    "    x = np.linspace(0, 10, 1000)\n",
    "    y = amplitude * np.sin(frequency * x + phase)\n",
    "    plt.plot(x, y)\n",
    "    plt.grid(True)\n",
    "    plt.title(f'y = {amplitude} * sin({frequency}x + {phase})')\n",
    "    plt.xlabel('x')\n",
    "    plt.ylabel('y')\n",
    "    plt.ylim(-10, 10)\n",
    "    plt.show()\n",
    "\n",
    "widgets.interact(plot_function, \n",
    "                amplitude=widgets.FloatSlider(value=1.0, min=0.1, max=10.0, step=0.1),\n",
    "                frequency=widgets.FloatSlider(value=1.0, min=0.1, max=5.0, step=0.1),\n",
    "                phase=widgets.FloatSlider(value=0.0, min=0.0, max=2*np.pi, step=0.1));"
   ]
  },
  {
   "cell_type": "code",
   "execution_count": null,
   "metadata": {},
   "outputs": [],
   "source": [
    "# Interactive image viewer\n",
    "def view_image(width, height, fill_color):\n",
    "    # Create a simple colored rectangle image\n",
    "    fig, ax = plt.subplots(figsize=(5, 5))\n",
    "    rect = plt.Rectangle((0, 0), width, height, facecolor=fill_color)\n",
    "    ax.add_patch(rect)\n",
    "    ax.set_xlim(0, 10)\n",
    "    ax.set_ylim(0, 10)\n",
    "    ax.set_aspect('equal')\n",
    "    ax.set_title(f'Rectangle: {width}x{height}')\n",
    "    plt.grid(True)\n",
    "    plt.show()\n",
    "\n",
    "widgets.interact(view_image, \n",
    "                width=widgets.FloatSlider(value=5.0, min=1.0, max=10.0, step=0.5),\n",
    "                height=widgets.FloatSlider(value=5.0, min=1.0, max=10.0, step=0.5),\n",
    "                fill_color=widgets.ColorPicker(description='Color'));"
   ]
  },
  {
   "cell_type": "markdown",
   "metadata": {},
   "source": [
    "## Custom Interactive Application"
   ]
  },
  {
   "cell_type": "code",
   "execution_count": null,
   "metadata": {},
   "outputs": [],
   "source": [
    "# Create a more complex application with multiple widgets\n",
    "\n",
    "# Output widget to display results\n",
    "result_output = widgets.Output()\n",
    "\n",
    "# Input widgets\n",
    "text_input = widgets.Text(description='Name:', placeholder='Enter your name')\n",
    "age_input = widgets.IntSlider(description='Age:', min=0, max=100, value=25)\n",
    "color_choice = widgets.Dropdown(\n",
    "    options=['Red', 'Green', 'Blue', 'Yellow', 'Purple'],\n",
    "    value='Blue',\n",
    "    description='Color:'\n",
    ")\n",
    "interests = widgets.SelectMultiple(\n",
    "    options=['Sports', 'Music', 'Movies', 'Reading', 'Coding', 'Travel'],\n",
    "    value=['Coding'],\n",
    "    description='Interests:',\n",
    "    rows=4\n",
    ")\n",
    "\n",
    "# Generate button\n",
    "submit_button = widgets.Button(\n",
    "    description='Generate Profile',\n",
    "    button_style='success',\n",
    "    icon='check-circle'\n",
    ")\n",
    "\n",
    "# Function to handle button click\n",
    "def on_submit_clicked(b):\n",
    "    with result_output:\n",
    "        result_output.clear_output()\n",
    "        \n",
    "        name = text_input.value if text_input.value else 'Anonymous'\n",
    "        age = age_input.value\n",
    "        color = color_choice.value\n",
    "        selected_interests = interests.value\n",
    "        \n",
    "        # Generate a simple profile\n",
    "        print(f\"\\033[1mUser Profile\\033[0m\")\n",
    "        print(f\"\\nName: {name}\")\n",
    "        print(f\"Age: {age}\")\n",
    "        print(f\"Favorite Color: {color}\")\n",
    "        print(f\"Interests: {', '.join(selected_interests)}\")\n",
    "        \n",
    "        # Generate a simple visualization\n",
    "        plt.figure(figsize=(8, 4))\n",
    "        \n",
    "        # Bar chart for interests\n",
    "        all_interests = list(interests.options)\n",
    "        values = [1 if interest in selected_interests else 0 for interest in all_interests]\n",
    "        \n",
    "        plt.subplot(1, 2, 1)\n",
    "        plt.bar(all_interests, values, color=color.lower())\n",
    "        plt.title('Interests')\n",
    "        plt.xticks(rotation=45, ha='right')\n",
    "        \n",
    "        # Pie chart for age group\n",
    "        plt.subplot(1, 2, 2)\n",
    "        age_groups = ['0-18', '19-35', '36-50', '51+'] \n",
    "        group_index = 0 if age <= 18 else 1 if age <= 35 else 2 if age <= 50 else 3\n",
    "        values = [0.1] * 4\n",
    "        values[group_index] = 0.7\n",
    "        plt.pie(values, labels=age_groups, autopct='%1.1f%%')\n",
    "        plt.title('Age Group')\n",
    "        \n",
    "        plt.tight_layout()\n",
    "        plt.show()\n",
    "\n",
    "submit_button.on_click(on_submit_clicked)\n",
    "\n",
    "# Layout\n",
    "input_layout = widgets.VBox([text_input, age_input, color_choice, interests, submit_button])\n",
    "app_layout = widgets.HBox([input_layout, result_output])\n",
    "\n",
    "display(app_layout)"
   ]
  },
  {
   "cell_type": "markdown",
   "metadata": {},
   "source": [
    "## Widget Events and Linking"
   ]
  },
  {
   "cell_type": "code",
   "execution_count": null,
   "metadata": {},
   "outputs": [],
   "source": [
    "# Link two widgets\n",
    "slider1 = widgets.IntSlider(description='Slider 1')\n",
    "slider2 = widgets.IntSlider(description='Slider 2')\n",
    "\n",
    "# Link the values\n",
    "widgets.jslink((slider1, 'value'), (slider2, 'value'))\n",
    "\n",
    "display(slider1, slider2)"
   ]
  },
  {
   "cell_type": "code",
   "execution_count": null,
   "metadata": {},
   "outputs": [],
   "source": [
    "# Using widget events\n",
    "text = widgets.Text(description='Input:', placeholder='Type something')\n",
    "text_output = widgets.Label(value='Waiting for input...')\n",
    "\n",
    "def on_text_change(change):\n",
    "    text_output.value = f\"You typed: {change['new']}\"\n",
    "\n",
    "text.observe(on_text_change, names='value')\n",
    "\n",
    "display(widgets.VBox([text, text_output]))"
   ]
  },
  {
   "cell_type": "markdown",
   "metadata": {},
   "source": [
    "## Advanced Interactive Visualization"
   ]
  },
  {
   "cell_type": "code",
   "execution_count": null,
   "metadata": {},
   "outputs": [],
   "source": [
    "# Create a function to generate a dataset\n",
    "def generate_data(n_samples, noise_level, outliers):\n",
    "    np.random.seed(42)  # For reproducibility\n",
    "    \n",
    "    # Generate base data\n",
    "    x = np.random.uniform(-10, 10, n_samples)\n",
    "    y = 3*x + 2 + np.random.normal(0, noise_level, n_samples)\n",
    "    \n",
    "    # Add outliers if requested\n",
    "    if outliers:\n",
    "        n_outliers = max(1, int(n_samples * 0.05))  # 5% outliers\n",
    "        outlier_idx = np.random.choice(range(n_samples), n_outliers, replace=False)\n",
    "        y[outlier_idx] = y[outlier_idx] + np.random.uniform(-20, 20, n_outliers)\n",
    "    \n",
    "    return x, y\n",
    "\n",
    "# Function to fit and visualize regression models\n",
    "def regression_explorer(n_samples, noise_level, outliers, model_type):\n",
    "    # Generate data\n",
    "    x, y = generate_data(n_samples, noise_level, outliers)\n",
    "    \n",
    "    # Reshape x for sklearn\n",
    "    x_reshaped = x.reshape(-1, 1)\n",
    "    \n",
    "    # Choose model based on selection\n",
    "    if model_type == 'Linear Regression':\n",
    "        from sklearn.linear_model import LinearRegression\n",
    "        model = LinearRegression()\n",
    "    elif model_type == 'Ridge':\n",
    "        from sklearn.linear_model import Ridge\n",
    "        model = Ridge(alpha=1.0)\n",
    "    elif model_type == 'Lasso':\n",
    "        from sklearn.linear_model import Lasso\n",
    "        model = Lasso(alpha=0.1)\n",
    "    elif model_type == 'Random Forest':\n",
    "        from sklearn.ensemble import RandomForestRegressor\n",
    "        model = RandomForestRegressor(n_estimators=100)\n",
    "    elif model_type == 'SVR':\n",
    "        from sklearn.svm import SVR\n",
    "        model = SVR(kernel='rbf')\n",
    "    else:\n",
    "        from sklearn.neighbors import KNeighborsRegressor\n",
    "        model = KNeighborsRegressor(n_neighbors=5)\n",
    "    \n",
    "    # Fit the model\n",
    "    model.fit(x_reshaped, y)\n",
    "    \n",
    "    # Make predictions for plotting\n",
    "    x_plot = np.linspace(-10, 10, 100).reshape(-1, 1)\n",
    "    y_pred = model.predict(x_plot)\n",
    "    \n",
    "    # Calculate R² score\n",
    "    from sklearn.metrics import r2_score\n",
    "    y_pred_train = model.predict(x_reshaped)\n",
    "    r2 = r2_score(y, y_pred_train)\n",
    "    \n",
    "    # Plot\n",
    "    fig, ax = plt.subplots(figsize=(10, 6))\n",
    "    \n",
    "    # Plot data points\n",
    "    ax.scatter(x, y, c='blue', alpha=0.6, label='Data points')\n",
    "    \n",
    "    # Plot prediction\n",
    "    ax.plot(x_plot, y_pred, 'r-', linewidth=2, label=f'{model_type} (R² = {r2:.3f})')\n",
    "    \n",
    "    # Plot true line\n",
    "    ax.plot(x_plot, 3*x_plot + 2, 'g--', linewidth=1, label='True function (y = 3x + 2)')\n",
    "    \n",
    "    ax.set_title(f'Regression with {model_type}')\n",
    "    ax.set_xlabel('x')\n",
    "    ax.set_ylabel('y')\n",
    "    ax.legend()\n",
    "    ax.grid(True, alpha=0.3)\n",
    "    \n",
    "    plt.tight_layout()\n",
    "    plt.show()\n",
    "\n",
    "# Create interactive widget\n",
    "widgets.interact(\n",
    "    regression_explorer,\n",
    "    n_samples=widgets.IntSlider(min=10, max=500, step=10, value=100, description='Samples:'),\n",
    "    noise_level=widgets.FloatSlider(min=0.1, max=10.0, step=0.1, value=2.0, description='Noise:'),\n",
    "    outliers=widgets.Checkbox(value=False, description='Add outliers'),\n",
    "    model_type=widgets.Dropdown(\n",
    "        options=['Linear Regression', 'Ridge', 'Lasso', 'Random Forest', 'SVR', 'KNN'],\n",
    "        value='Linear Regression',\n",
    "        description='Model:'\n",
    "    )\n",
    ");"
   ]
  },
  {
   "cell_type": "markdown",
   "metadata": {},
   "source": [
    "## Conclusion\n",
    "\n",
    "This notebook demonstrates various interactive widget examples that are useful for testing the conversion functionality in NB-QOL. It includes:\n",
    "\n",
    "- Basic widgets (buttons, sliders, checkboxes, dropdowns)\n",
    "- Layout containers (HBox, VBox, Tab, Accordion)\n",
    "- Interactive visualizations with matplotlib\n",
    "- Widget linking and events\n",
    "- A complex interactive application\n",
    "- Advanced data visualization with machine learning models\n",
    "\n",
    "These widgets are particularly challenging for standard notebook conversion tools, making this a good test case for NB-QOL's enhanced conversion capabilities, especially the widget conversion features."
   ]
  }
 ],
 "metadata": {
  "kernelspec": {
   "display_name": "Python 3",
   "language": "python",
   "name": "python3"
  },
  "language_info": {
   "codemirror_mode": {
    "name": "ipython",
    "version": 3
   },
   "file_extension": ".py",
   "mimetype": "text/x-python",
   "name": "python",
   "nbconvert_exporter": "python",
   "pygments_lexer": "ipython3",
   "version": "3.9.0"
  }
 },
 "nbformat": 4,
 "nbformat_minor": 4
}