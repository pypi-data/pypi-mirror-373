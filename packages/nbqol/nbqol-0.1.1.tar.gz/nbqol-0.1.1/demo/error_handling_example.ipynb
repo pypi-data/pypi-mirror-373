{
 "cells": [
  {
   "cell_type": "markdown",
   "metadata": {},
   "source": [
    "# Error Handling Example Notebook\n",
    "\n",
    "This notebook contains various error scenarios to test the error handling and testing capabilities of NB-QOL."
   ]
  },
  {
   "cell_type": "markdown",
   "metadata": {},
   "source": [
    "## Setup"
   ]
  },
  {
   "cell_type": "code",
   "execution_count": null,
   "metadata": {},
   "outputs": [],
   "source": [
    "# Import libraries\n",
    "import numpy as np\n",
    "import pandas as pd\n",
    "import matplotlib.pyplot as plt\n",
    "import os\n",
    "import traceback"
   ]
  },
  {
   "cell_type": "code",
   "execution_count": null,
   "metadata": {},
   "outputs": [],
   "source": [
    "# Helper function to display errors nicely\n",
    "def try_execute(func, *args, **kwargs):\n",
    "    try:\n",
    "        return func(*args, **kwargs)\n",
    "    except Exception as e:\n",
    "        print(f\"\\033[91mError: {type(e).__name__}: {e}\\033[0m\")\n",
    "        return None"
   ]
  },
  {
   "cell_type": "markdown",
   "metadata": {},
   "source": [
    "## 1. Basic Error Types"
   ]
  },
  {
   "cell_type": "code",
   "execution_count": null,
   "metadata": {},
   "outputs": [],
   "source": [
    "# Syntax Error (uncomment to see)\n",
    "# this is a syntax error:"
   ]
  },
  {
   "cell_type": "code",
   "execution_count": null,
   "metadata": {},
   "outputs": [],
   "source": [
    "# NameError\n",
    "try_execute(lambda: undefined_variable)"
   ]
  },
  {
   "cell_type": "code",
   "execution_count": null,
   "metadata": {},
   "outputs": [],
   "source": [
    "# TypeError\n",
    "try_execute(lambda: \"string\" + 5)"
   ]
  },
  {
   "cell_type": "code",
   "execution_count": null,
   "metadata": {},
   "outputs": [],
   "source": [
    "# ValueError\n",
    "try_execute(lambda: int(\"not a number\"))"
   ]
  },
  {
   "cell_type": "code",
   "execution_count": null,
   "metadata": {},
   "outputs": [],
   "source": [
    "# ZeroDivisionError\n",
    "try_execute(lambda: 1/0)"
   ]
  },
  {
   "cell_type": "code",
   "execution_count": null,
   "metadata": {},
   "outputs": [],
   "source": [
    "# IndexError\n",
    "my_list = [1, 2, 3]\n",
    "try_execute(lambda: my_list[10])"
   ]
  },
  {
   "cell_type": "code",
   "execution_count": null,
   "metadata": {},
   "outputs": [],
   "source": [
    "# KeyError\n",
    "my_dict = {\"a\": 1, \"b\": 2}\n",
    "try_execute(lambda: my_dict[\"c\"])"
   ]
  },
  {
   "cell_type": "code",
   "execution_count": null,
   "metadata": {},
   "outputs": [],
   "source": [
    "# AttributeError\n",
    "try_execute(lambda: \"string\".nonexistent_method())"
   ]
  },
  {
   "cell_type": "markdown",
   "metadata": {},
   "source": [
    "## 2. Library-specific Errors"
   ]
  },
  {
   "cell_type": "code",
   "execution_count": null,
   "metadata": {},
   "outputs": [],
   "source": [
    "# NumPy Error\n",
    "try_execute(lambda: np.array([1, 2, 3]) / np.array([1, 0, 1]))"
   ]
  },
  {
   "cell_type": "code",
   "execution_count": null,
   "metadata": {},
   "outputs": [],
   "source": [
    "# Pandas Error\n",
    "try_execute(lambda: pd.DataFrame({\"A\": [1, 2, 3]}).loc[5])"
   ]
  },
  {
   "cell_type": "code",
   "execution_count": null,
   "metadata": {},
   "outputs": [],
   "source": [
    "# Matplotlib Error\n",
    "try_execute(lambda: plt.plot(np.array([1, 2, 3]), np.array([1, 2])))"
   ]
  },
  {
   "cell_type": "markdown",
   "metadata": {},
   "source": [
    "## 3. Custom Exceptions"
   ]
  },
  {
   "cell_type": "code",
   "execution_count": null,
   "metadata": {},
   "outputs": [],
   "source": [
    "# Define custom exceptions\n",
    "class MyCustomError(Exception):\n",
    "    \"\"\"Base class for custom exceptions\"\"\"\n",
    "    pass\n",
    "\n",
    "class ValueTooLargeError(MyCustomError):\n",
    "    \"\"\"Raised when the input value is too large\"\"\"\n",
    "    pass\n",
    "\n",
    "class ValueTooSmallError(MyCustomError):\n",
    "    \"\"\"Raised when the input value is too small\"\"\"\n",
    "    pass"
   ]
  },
  {
   "cell_type": "code",
   "execution_count": null,
   "metadata": {},
   "outputs": [],
   "source": [
    "# Function that raises custom exceptions\n",
    "def validate_value(value):\n",
    "    if value > 100:\n",
    "        raise ValueTooLargeError(f\"Value {value} is too large (max 100)\")\n",
    "    elif value < 0:\n",
    "        raise ValueTooSmallError(f\"Value {value} is too small (min 0)\")\n",
    "    return f\"Value {value} is valid\"\n",
    "\n",
    "# Test with valid and invalid values\n",
    "print(\"Testing with value 50:\")\n",
    "try_execute(validate_value, 50)\n",
    "\n",
    "print(\"\\nTesting with value 150:\")\n",
    "try_execute(validate_value, 150)\n",
    "\n",
    "print(\"\\nTesting with value -10:\")\n",
    "try_execute(validate_value, -10)"
   ]
  },
  {
   "cell_type": "markdown",
   "metadata": {},
   "source": [
    "## 4. Error with Traceback"
   ]
  },
  {
   "cell_type": "code",
   "execution_count": null,
   "metadata": {},
   "outputs": [],
   "source": [
    "# Function with nested calls to generate a deeper traceback\n",
    "def level1():\n",
    "    return level2()\n",
    "\n",
    "def level2():\n",
    "    return level3()\n",
    "\n",
    "def level3():\n",
    "    return level4()\n",
    "\n",
    "def level4():\n",
    "    # Generate an error\n",
    "    return 1 / 0\n",
    "\n",
    "# Try to execute with full traceback\n",
    "try:\n",
    "    level1()\n",
    "except Exception as e:\n",
    "    print(f\"Error: {type(e).__name__}: {e}\")\n",
    "    traceback.print_exc()"
   ]
  },
  {
   "cell_type": "markdown",
   "metadata": {},
   "source": [
    "## 5. Catching and Handling Multiple Exceptions"
   ]
  },
  {
   "cell_type": "code",
   "execution_count": null,
   "metadata": {},
   "outputs": [],
   "source": [
    "def process_data(data, index, divisor):\n",
    "    try:\n",
    "        # Could raise TypeError if data is not subscriptable\n",
    "        value = data[index]\n",
    "        \n",
    "        # Could raise ZeroDivisionError\n",
    "        result = value / divisor\n",
    "        \n",
    "        # Could raise ValueError if value is not convertible to int\n",
    "        int_result = int(result)\n",
    "        \n",
    "        return int_result\n",
    "    \n",
    "    except (IndexError, KeyError) as e:\n",
    "        print(f\"Access error: {e}\")\n",
    "        return None\n",
    "        \n",
    "    except ZeroDivisionError:\n",
    "        print(\"Cannot divide by zero\")\n",
    "        return None\n",
    "        \n",
    "    except ValueError as e:\n",
    "        print(f\"Conversion error: {e}\")\n",
    "        return None\n",
    "        \n",
    "    except Exception as e:\n",
    "        print(f\"Unexpected error: {type(e).__name__}: {e}\")\n",
    "        return None"
   ]
  },
  {
   "cell_type": "code",
   "execution_count": null,
   "metadata": {},
   "outputs": [],
   "source": [
    "# Test various error scenarios\n",
    "test_cases = [\n",
    "    {\"name\": \"Valid case\", \"data\": [10, 20, 30], \"index\": 1, \"divisor\": 2},\n",
    "    {\"name\": \"IndexError\", \"data\": [10, 20, 30], \"index\": 5, \"divisor\": 2},\n",
    "    {\"name\": \"ZeroDivisionError\", \"data\": [10, 20, 30], \"index\": 1, \"divisor\": 0},\n",
    "    {\"name\": \"KeyError\", \"data\": {\"a\": 10, \"b\": 20}, \"index\": \"c\", \"divisor\": 2},\n",
    "    {\"name\": \"TypeError\", \"data\": 10, \"index\": 0, \"divisor\": 2},\n",
    "    {\"name\": \"ValueError\", \"data\": [\"10.5\", \"20.5\", \"30.5\"], \"index\": 1, \"divisor\": 2},\n",
    "]\n",
    "\n",
    "for case in test_cases:\n",
    "    print(f\"\\n{case['name']}:\")\n",
    "    try:\n",
    "        result = process_data(case['data'], case['index'], case['divisor'])\n",
    "        print(f\"Result: {result}\")\n",
    "    except Exception as e:\n",
    "        print(f\"Unexpected exception: {type(e).__name__}: {e}\")"
   ]
  },
  {
   "cell_type": "markdown",
   "metadata": {},
   "source": [
    "## 6. File-related Errors"
   ]
  },
  {
   "cell_type": "code",
   "execution_count": null,
   "metadata": {},
   "outputs": [],
   "source": [
    "# FileNotFoundError\n",
    "try_execute(lambda: open(\"nonexistent_file.txt\", \"r\"))"
   ]
  },
  {
   "cell_type": "code",
   "execution_count": null,
   "metadata": {},
   "outputs": [],
   "source": [
    "# PermissionError (might not trigger depending on environment)\n",
    "try:\n",
    "    # Create a file\n",
    "    with open(\"test_file.txt\", \"w\") as f:\n",
    "        f.write(\"Test content\")\n",
    "    \n",
    "    # Try to change permissions (this might fail in some environments)\n",
    "    try:\n",
    "        os.chmod(\"test_file.txt\", 0o000)  # Remove all permissions\n",
    "    except Exception as e:\n",
    "        print(f\"Could not change permissions: {e}\")\n",
    "        \n",
    "    # Try to write to the file\n",
    "    with open(\"test_file.txt\", \"w\") as f:\n",
    "        f.write(\"More content\")\n",
    "except Exception as e:\n",
    "    print(f\"Error: {type(e).__name__}: {e}\")\n",
    "finally:\n",
    "    # Clean up\n",
    "    try:\n",
    "        os.chmod(\"test_file.txt\", 0o666)  # Restore permissions\n",
    "        os.remove(\"test_file.txt\")\n",
    "    except:\n",
    "        pass"
   ]
  },
  {
   "cell_type": "markdown",
   "metadata": {},
   "source": [
    "## 7. Context Manager Errors"
   ]
  },
  {
   "cell_type": "code",
   "execution_count": null,
   "metadata": {},
   "outputs": [],
   "source": [
    "# Custom context manager that can generate errors\n",
    "class ErrorInContext:\n",
    "    def __init__(self, raise_on_enter=False, raise_on_exit=False):\n",
    "        self.raise_on_enter = raise_on_enter\n",
    "        self.raise_on_exit = raise_on_exit\n",
    "    \n",
    "    def __enter__(self):\n",
    "        print(\"Entering context\")\n",
    "        if self.raise_on_enter:\n",
    "            raise ValueError(\"Error during __enter__\")\n",
    "        return self\n",
    "    \n",
    "    def __exit__(self, exc_type, exc_value, traceback):\n",
    "        print(\"Exiting context\")\n",
    "        if self.raise_on_exit:\n",
    "            raise RuntimeError(\"Error during __exit__\")\n",
    "        # Return True to suppress any exception that occurred in the with block\n",
    "        return False  # Don't suppress exceptions"
   ]
  },
  {
   "cell_type": "code",
   "execution_count": null,
   "metadata": {},
   "outputs": [],
   "source": [
    "# Test context manager with different error scenarios\n",
    "scenarios = [\n",
    "    {\"name\": \"No errors\", \"raise_on_enter\": False, \"raise_on_exit\": False, \"raise_in_block\": False},\n",
    "    {\"name\": \"Error on enter\", \"raise_on_enter\": True, \"raise_on_exit\": False, \"raise_in_block\": False},\n",
    "    {\"name\": \"Error in block\", \"raise_on_enter\": False, \"raise_on_exit\": False, \"raise_in_block\": True},\n",
    "    {\"name\": \"Error on exit\", \"raise_on_enter\": False, \"raise_on_exit\": True, \"raise_in_block\": False},\n",
    "    {\"name\": \"Error in block and exit\", \"raise_on_enter\": False, \"raise_on_exit\": True, \"raise_in_block\": True},\n",
    "]\n",
    "\n",
    "for scenario in scenarios:\n",
    "    print(f\"\\n{scenario['name']}:\")\n",
    "    try:\n",
    "        with ErrorInContext(scenario['raise_on_enter'], scenario['raise_on_exit']) as ctx:\n",
    "            print(\"Inside context block\")\n",
    "            if scenario['raise_in_block']:\n",
    "                raise ValueError(\"Error inside context block\")\n",
    "            print(\"Context block completed successfully\")\n",
    "        print(\"After context manager\")\n",
    "    except Exception as e:\n",
    "        print(f\"Caught exception: {type(e).__name__}: {e}\")"
   ]
  },
  {
   "cell_type": "markdown",
   "metadata": {},
   "source": [
    "## 8. Asyncio Errors"
   ]
  },
  {
   "cell_type": "code",
   "execution_count": null,
   "metadata": {},
   "outputs": [],
   "source": [
    "# Asyncio errors\n",
    "import asyncio\n",
    "\n",
    "async def async_function_with_error():\n",
    "    await asyncio.sleep(0.1)\n",
    "    raise ValueError(\"Async error occurred\")\n",
    "\n",
    "async def main():\n",
    "    try:\n",
    "        await async_function_with_error()\n",
    "    except Exception as e:\n",
    "        print(f\"Caught async exception: {type(e).__name__}: {e}\")\n",
    "\n",
    "# Run the async function\n",
    "try:\n",
    "    asyncio.run(main())\n",
    "except Exception as e:\n",
    "    print(f\"Uncaught exception: {type(e).__name__}: {e}\")"
   ]
  },
  {
   "cell_type": "markdown",
   "metadata": {},
   "source": [
    "## 9. Memory Error Simulation"
   ]
  },
  {
   "cell_type": "code",
   "execution_count": null,
   "metadata": {},
   "outputs": [],
   "source": [
    "# Simulate memory error (don't uncomment unless you want to potentially crash the kernel)\n",
    "def simulate_memory_error():\n",
    "    # This will attempt to allocate an excessively large array\n",
    "    # Uncomment at your own risk!\n",
    "    # big_array = [0] * (10**9)  # 1 billion elements\n",
    "    print(\"Memory allocation would happen here (commented out for safety)\")\n",
    "\n",
    "try_execute(simulate_memory_error)"
   ]
  },
  {
   "cell_type": "markdown",
   "metadata": {},
   "source": [
    "## 10. Error Recovery and Cleanup"
   ]
  },
  {
   "cell_type": "code",
   "execution_count": null,
   "metadata": {},
   "outputs": [],
   "source": [
    "# Demonstrate try-except-else-finally pattern\n",
    "def process_with_cleanup(items, index):\n",
    "    resources = []\n",
    "    try:\n",
    "        print(f\"Processing item at index {index}\")\n",
    "        \n",
    "        # Allocate some \"resources\"\n",
    "        resources.append(\"Resource 1\")\n",
    "        print(\"Allocated Resource 1\")\n",
    "        \n",
    "        # This could fail\n",
    "        item = items[index]\n",
    "        \n",
    "        # Allocate more resources after the risky operation\n",
    "        resources.append(\"Resource 2\")\n",
    "        print(\"Allocated Resource 2\")\n",
    "        \n",
    "        # Another operation that could fail\n",
    "        result = 100 / item\n",
    "        \n",
    "    except IndexError as e:\n",
    "        print(f\"Index error during processing: {e}\")\n",
    "        return None\n",
    "        \n",
    "    except ZeroDivisionError as e:\n",
    "        print(f\"Division error during processing: {e}\")\n",
    "        return None\n",
    "        \n",
    "    except Exception as e:\n",
    "        print(f\"Unexpected error during processing: {type(e).__name__}: {e}\")\n",
    "        return None\n",
    "        \n",
    "    else:\n",
    "        # This only executes if no exception was raised\n",
    "        print(f\"Processing succeeded with result: {result}\")\n",
    "        return result\n",
    "        \n",
    "    finally:\n",
    "        # This always executes, regardless of whether an exception was raised\n",
    "        print(f\"Cleaning up {len(resources)} resources...\")\n",
    "        for resource in resources:\n",
    "            print(f\"Released {resource}\")\n",
    "        print(\"Cleanup complete\")"
   ]
  },
  {
   "cell_type": "code",
   "execution_count": null,
   "metadata": {},
   "outputs": [],
   "source": [
    "# Test successful case\n",
    "print(\"Case 1: Successful processing\\n\")\n",
    "process_with_cleanup([10, 20, 30], 1)\n",
    "\n",
    "# Test index error\n",
    "print(\"\\nCase 2: Index error\\n\")\n",
    "process_with_cleanup([10, 20, 30], 5)\n",
    "\n",
    "# Test division by zero\n",
    "print(\"\\nCase 3: Division by zero\\n\")\n",
    "process_with_cleanup([10, 0, 30], 1)"
   ]
  },
  {
   "cell_type": "markdown",
   "metadata": {},
   "source": [
    "## Conclusion\n",
    "\n",
    "This notebook demonstrates various error scenarios that can be useful for testing the error handling and testing capabilities of NB-QOL. It includes:\n",
    "\n",
    "1. Basic Python error types\n",
    "2. Library-specific errors\n",
    "3. Custom exceptions\n",
    "4. Errors with traceback information\n",
    "5. Handling multiple exception types\n",
    "6. File-related errors\n",
    "7. Context manager errors\n",
    "8. Asyncio errors\n",
    "9. Memory error simulation\n",
    "10. Error recovery and cleanup patterns\n",
    "\n",
    "These examples provide a comprehensive test suite for how NB-QOL handles error conditions when executing, testing, or converting notebooks with errors."
   ]
  }
 ],
 "metadata": {
  "kernelspec": {
   "display_name": "Python 3",
   "language": "python",
   "name": "python3"
  },
  "language_info": {
   "codemirror_mode": {
    "name": "ipython",
    "version": 3
   },
   "file_extension": ".py",
   "mimetype": "text/x-python",
   "name": "python",
   "nbconvert_exporter": "python",
   "pygments_lexer": "ipython3",
   "version": "3.9.0"
  }
 },
 "nbformat": 4,
 "nbformat_minor": 4
}