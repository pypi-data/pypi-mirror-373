{
 "cells": [
  {
   "cell_type": "markdown",
   "metadata": {},
   "source": [
    "# Data Analysis Example Notebook\n",
    "\n",
    "This notebook demonstrates a typical data analysis workflow that can be used to test conversion functionality."
   ]
  },
  {
   "cell_type": "markdown",
   "metadata": {},
   "source": [
    "## Setup and Data Import"
   ]
  },
  {
   "cell_type": "code",
   "execution_count": null,
   "metadata": {},
   "outputs": [],
   "source": [
    "# Import libraries\n",
    "import numpy as np\n",
    "import pandas as pd\n",
    "import matplotlib.pyplot as plt\n",
    "import seaborn as sns\n",
    "\n",
    "# Set style\n",
    "plt.style.use('seaborn-v0_8-whitegrid')\n",
    "sns.set_palette('Set2')"
   ]
  },
  {
   "cell_type": "code",
   "execution_count": null,
   "metadata": {},
   "outputs": [],
   "source": [
    "# Generate synthetic dataset\n",
    "np.random.seed(42)\n",
    "num_samples = 1000\n",
    "\n",
    "# Create a DataFrame with synthetic data\n",
    "data = pd.DataFrame({\n",
    "    'feature1': np.random.normal(0, 1, num_samples),\n",
    "    'feature2': np.random.normal(5, 2, num_samples),\n",
    "    'feature3': np.random.exponential(2, num_samples),\n",
    "    'categorical': np.random.choice(['A', 'B', 'C', 'D'], num_samples),\n",
    "})\n",
    "\n",
    "# Create a target variable based on features with some noise\n",
    "data['target'] = (2 * data['feature1'] - \n",
    "                  0.5 * data['feature2'] + \n",
    "                  0.7 * data['feature3'] + \n",
    "                  np.random.normal(0, 2, num_samples))\n",
    "\n",
    "# Display the first few rows\n",
    "data.head()"
   ]
  },
  {
   "cell_type": "markdown",
   "metadata": {},
   "source": [
    "## Exploratory Data Analysis"
   ]
  },
  {
   "cell_type": "code",
   "execution_count": null,
   "metadata": {},
   "outputs": [],
   "source": [
    "# Basic statistics\n",
    "data.describe()"
   ]
  },
  {
   "cell_type": "code",
   "execution_count": null,
   "metadata": {},
   "outputs": [],
   "source": [
    "# Check for missing values\n",
    "data.isna().sum()"
   ]
  },
  {
   "cell_type": "code",
   "execution_count": null,
   "metadata": {},
   "outputs": [],
   "source": [
    "# Look at the categorical distribution\n",
    "print(\"Categorical distribution:\")\n",
    "data['categorical'].value_counts()"
   ]
  },
  {
   "cell_type": "code",
   "execution_count": null,
   "metadata": {},
   "outputs": [],
   "source": [
    "# Distribution of numerical features\n",
    "fig, axes = plt.subplots(2, 2, figsize=(12, 10))\n",
    "sns.histplot(data['feature1'], kde=True, ax=axes[0, 0])\n",
    "axes[0, 0].set_title('Feature 1 Distribution')\n",
    "\n",
    "sns.histplot(data['feature2'], kde=True, ax=axes[0, 1])\n",
    "axes[0, 1].set_title('Feature 2 Distribution')\n",
    "\n",
    "sns.histplot(data['feature3'], kde=True, ax=axes[1, 0])\n",
    "axes[1, 0].set_title('Feature 3 Distribution')\n",
    "\n",
    "sns.histplot(data['target'], kde=True, ax=axes[1, 1])\n",
    "axes[1, 1].set_title('Target Distribution')\n",
    "\n",
    "plt.tight_layout()\n",
    "plt.show()"
   ]
  },
  {
   "cell_type": "code",
   "execution_count": null,
   "metadata": {},
   "outputs": [],
   "source": [
    "# Distribution by categorical variable\n",
    "plt.figure(figsize=(10, 6))\n",
    "sns.boxplot(x='categorical', y='target', data=data)\n",
    "plt.title('Target Distribution by Category')\n",
    "plt.show()"
   ]
  },
  {
   "cell_type": "code",
   "execution_count": null,
   "metadata": {},
   "outputs": [],
   "source": [
    "# Correlation heatmap\n",
    "numeric_data = data.select_dtypes(include=np.number)\n",
    "plt.figure(figsize=(8, 6))\n",
    "sns.heatmap(numeric_data.corr(), annot=True, cmap='coolwarm', vmin=-1, vmax=1)\n",
    "plt.title('Correlation Heatmap')\n",
    "plt.tight_layout()\n",
    "plt.show()"
   ]
  },
  {
   "cell_type": "code",
   "execution_count": null,
   "metadata": {},
   "outputs": [],
   "source": [
    "# Scatter plots\n",
    "fig, axes = plt.subplots(1, 3, figsize=(18, 5))\n",
    "\n",
    "sns.scatterplot(x='feature1', y='target', hue='categorical', data=data, ax=axes[0])\n",
    "axes[0].set_title('Feature 1 vs Target')\n",
    "\n",
    "sns.scatterplot(x='feature2', y='target', hue='categorical', data=data, ax=axes[1])\n",
    "axes[1].set_title('Feature 2 vs Target')\n",
    "\n",
    "sns.scatterplot(x='feature3', y='target', hue='categorical', data=data, ax=axes[2])\n",
    "axes[2].set_title('Feature 3 vs Target')\n",
    "\n",
    "plt.tight_layout()\n",
    "plt.show()"
   ]
  },
  {
   "cell_type": "markdown",
   "metadata": {},
   "source": [
    "## Data Preprocessing"
   ]
  },
  {
   "cell_type": "code",
   "execution_count": null,
   "metadata": {},
   "outputs": [],
   "source": [
    "# Create dummy variables for categorical features\n",
    "data_encoded = pd.get_dummies(data, columns=['categorical'], drop_first=True)\n",
    "data_encoded.head()"
   ]
  },
  {
   "cell_type": "code",
   "execution_count": null,
   "metadata": {},
   "outputs": [],
   "source": [
    "# Scale numerical features\n",
    "from sklearn.preprocessing import StandardScaler\n",
    "\n",
    "features = ['feature1', 'feature2', 'feature3']\n",
    "scaler = StandardScaler()\n",
    "data_encoded[features] = scaler.fit_transform(data_encoded[features])\n",
    "\n",
    "data_encoded.head()"
   ]
  },
  {
   "cell_type": "code",
   "execution_count": null,
   "metadata": {},
   "outputs": [],
   "source": [
    "# Separate features and target\n",
    "X = data_encoded.drop('target', axis=1)\n",
    "y = data_encoded['target']\n",
    "\n",
    "print(f\"Features shape: {X.shape}\")\n",
    "print(f\"Target shape: {y.shape}\")"
   ]
  },
  {
   "cell_type": "code",
   "execution_count": null,
   "metadata": {},
   "outputs": [],
   "source": [
    "# Split data into train and test sets\n",
    "from sklearn.model_selection import train_test_split\n",
    "\n",
    "X_train, X_test, y_train, y_test = train_test_split(X, y, test_size=0.2, random_state=42)\n",
    "\n",
    "print(f\"Training set: {X_train.shape}\")\n",
    "print(f\"Test set: {X_test.shape}\")"
   ]
  },
  {
   "cell_type": "markdown",
   "metadata": {},
   "source": [
    "## Model Training and Evaluation"
   ]
  },
  {
   "cell_type": "code",
   "execution_count": null,
   "metadata": {},
   "outputs": [],
   "source": [
    "# Import necessary libraries\n",
    "from sklearn.linear_model import LinearRegression, Ridge, Lasso\n",
    "from sklearn.ensemble import RandomForestRegressor, GradientBoostingRegressor\n",
    "from sklearn.metrics import mean_squared_error, mean_absolute_error, r2_score\n",
    "import time"
   ]
  },
  {
   "cell_type": "code",
   "execution_count": null,
   "metadata": {},
   "outputs": [],
   "source": [
    "# Function to evaluate model performance\n",
    "def evaluate_model(model, X_train, X_test, y_train, y_test):\n",
    "    # Train the model\n",
    "    start_time = time.time()\n",
    "    model.fit(X_train, y_train)\n",
    "    training_time = time.time() - start_time\n",
    "    \n",
    "    # Make predictions\n",
    "    y_train_pred = model.predict(X_train)\n",
    "    y_test_pred = model.predict(X_test)\n",
    "    \n",
    "    # Calculate metrics\n",
    "    train_rmse = np.sqrt(mean_squared_error(y_train, y_train_pred))\n",
    "    test_rmse = np.sqrt(mean_squared_error(y_test, y_test_pred))\n",
    "    train_mae = mean_absolute_error(y_train, y_train_pred)\n",
    "    test_mae = mean_absolute_error(y_test, y_test_pred)\n",
    "    train_r2 = r2_score(y_train, y_train_pred)\n",
    "    test_r2 = r2_score(y_test, y_test_pred)\n",
    "    \n",
    "    return {\n",
    "        'training_time': training_time,\n",
    "        'train_rmse': train_rmse,\n",
    "        'test_rmse': test_rmse,\n",
    "        'train_mae': train_mae,\n",
    "        'test_mae': test_mae,\n",
    "        'train_r2': train_r2,\n",
    "        'test_r2': test_r2,\n",
    "        'y_test_pred': y_test_pred\n",
    "    }"
   ]
  },
  {
   "cell_type": "code",
   "execution_count": null,
   "metadata": {},
   "outputs": [],
   "source": [
    "# Initialize models\n",
    "models = {\n",
    "    'Linear Regression': LinearRegression(),\n",
    "    'Ridge Regression': Ridge(alpha=1.0),\n",
    "    'Lasso Regression': Lasso(alpha=0.1),\n",
    "    'Random Forest': RandomForestRegressor(n_estimators=100, random_state=42),\n",
    "    'Gradient Boosting': GradientBoostingRegressor(n_estimators=100, random_state=42)\n",
    "}"
   ]
  },
  {
   "cell_type": "code",
   "execution_count": null,
   "metadata": {},
   "outputs": [],
   "source": [
    "# Evaluate all models\n",
    "results = {}\n",
    "predictions = {}\n",
    "\n",
    "for name, model in models.items():\n",
    "    print(f\"Training {name}...\")\n",
    "    model_results = evaluate_model(model, X_train, X_test, y_train, y_test)\n",
    "    results[name] = model_results\n",
    "    predictions[name] = model_results['y_test_pred']\n",
    "    print(f\"  RMSE: {model_results['test_rmse']:.4f}\")\n",
    "    print(f\"  R²: {model_results['test_r2']:.4f}\")\n",
    "    print()"
   ]
  },
  {
   "cell_type": "code",
   "execution_count": null,
   "metadata": {},
   "outputs": [],
   "source": [
    "# Create a results DataFrame\n",
    "results_df = pd.DataFrame({\n",
    "    'Model': list(results.keys()),\n",
    "    'Training Time (s)': [results[m]['training_time'] for m in results],\n",
    "    'Train RMSE': [results[m]['train_rmse'] for m in results],\n",
    "    'Test RMSE': [results[m]['test_rmse'] for m in results],\n",
    "    'Train R²': [results[m]['train_r2'] for m in results],\n",
    "    'Test R²': [results[m]['test_r2'] for m in results],\n",
    "})\n",
    "\n",
    "results_df.sort_values('Test RMSE')"
   ]
  },
  {
   "cell_type": "code",
   "execution_count": null,
   "metadata": {},
   "outputs": [],
   "source": [
    "# Visualize model performance\n",
    "plt.figure(figsize=(12, 6))\n",
    "\n",
    "# RMSE comparison\n",
    "plt.subplot(1, 2, 1)\n",
    "sns.barplot(x='Model', y='Test RMSE', data=results_df)\n",
    "plt.title('Test RMSE by Model')\n",
    "plt.xticks(rotation=45, ha='right')\n",
    "\n",
    "# R² comparison\n",
    "plt.subplot(1, 2, 2)\n",
    "sns.barplot(x='Model', y='Test R²', data=results_df)\n",
    "plt.title('Test R² by Model')\n",
    "plt.xticks(rotation=45, ha='right')\n",
    "\n",
    "plt.tight_layout()\n",
    "plt.show()"
   ]
  },
  {
   "cell_type": "code",
   "execution_count": null,
   "metadata": {},
   "outputs": [],
   "source": [
    "# Compare actual vs predicted values for the best model\n",
    "best_model = results_df.sort_values('Test RMSE').iloc[0]['Model']\n",
    "print(f\"Best model: {best_model}\")\n",
    "\n",
    "plt.figure(figsize=(10, 6))\n",
    "plt.scatter(y_test, predictions[best_model], alpha=0.5)\n",
    "plt.plot([y_test.min(), y_test.max()], [y_test.min(), y_test.max()], 'r--')\n",
    "plt.xlabel('Actual')\n",
    "plt.ylabel('Predicted')\n",
    "plt.title(f'Actual vs Predicted Values ({best_model})')\n",
    "plt.show()"
   ]
  },
  {
   "cell_type": "markdown",
   "metadata": {},
   "source": [
    "## Feature Importance"
   ]
  },
  {
   "cell_type": "code",
   "execution_count": null,
   "metadata": {},
   "outputs": [],
   "source": [
    "# Extract feature importance for models that support it\n",
    "feature_importance = {}\n",
    "\n",
    "for name, model in models.items():\n",
    "    if hasattr(model, 'feature_importances_'):\n",
    "        feature_importance[name] = model.feature_importances_\n",
    "    elif hasattr(model, 'coef_'):\n",
    "        feature_importance[name] = np.abs(model.coef_)\n",
    "    else:\n",
    "        print(f\"{name} doesn't provide feature importance\")"
   ]
  },
  {
   "cell_type": "code",
   "execution_count": null,
   "metadata": {},
   "outputs": [],
   "source": [
    "# Visualize feature importance\n",
    "feature_names = X.columns\n",
    "\n",
    "plt.figure(figsize=(12, 8))\n",
    "for i, (name, importance) in enumerate(feature_importance.items()):\n",
    "    plt.subplot(len(feature_importance), 1, i+1)\n",
    "    \n",
    "    # Sort features by importance\n",
    "    sorted_idx = np.argsort(importance)\n",
    "    pos = np.arange(sorted_idx.shape[0])\n",
    "    \n",
    "    plt.barh(pos, importance[sorted_idx], align='center')\n",
    "    plt.yticks(pos, feature_names[sorted_idx])\n",
    "    plt.title(f'Feature Importance - {name}')\n",
    "\n",
    "plt.tight_layout()\n",
    "plt.show()"
   ]
  },
  {
   "cell_type": "markdown",
   "metadata": {},
   "source": [
    "## Conclusion\n",
    "\n",
    "In this notebook, we performed a typical data analysis workflow:\n",
    "\n",
    "1. Generated and explored a synthetic dataset\n",
    "2. Performed data preprocessing (encoding, scaling)\n",
    "3. Trained several regression models\n",
    "4. Evaluated and compared model performance\n",
    "5. Analyzed feature importance\n",
    "\n",
    "This notebook serves as a good example for testing conversion functionality as it contains:\n",
    "- Markdown cells with different levels of headings\n",
    "- Code cells with various computational complexities\n",
    "- Intermediate expressions\n",
    "- Visualizations (which generate image outputs)\n",
    "- Tabular data outputs\n",
    "- A mix of print statements and display outputs"
   ]
  }
 ],
 "metadata": {
  "kernelspec": {
   "display_name": "Python 3",
   "language": "python",
   "name": "python3"
  },
  "language_info": {
   "codemirror_mode": {
    "name": "ipython",
    "version": 3
   },
   "file_extension": ".py",
   "mimetype": "text/x-python",
   "name": "python",
   "nbconvert_exporter": "python",
   "pygments_lexer": "ipython3",
   "version": "3.9.0"
  }
 },
 "nbformat": 4,
 "nbformat_minor": 4
}