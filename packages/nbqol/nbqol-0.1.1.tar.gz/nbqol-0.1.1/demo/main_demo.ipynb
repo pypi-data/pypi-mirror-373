{
 "cells": [
  {
   "cell_type": "markdown",
   "metadata": {},
   "source": [
    "# NB-QOL: Quality of Life for Jupyter Notebooks\n",
    "\n",
    "This notebook demonstrates the main features of NB-QOL, a toolkit for enhancing the Jupyter notebook experience."
   ]
  },
  {
   "cell_type": "markdown",
   "metadata": {},
   "source": [
    "## Importing the Library"
   ]
  },
  {
   "cell_type": "code",
   "execution_count": null,
   "metadata": {},
   "outputs": [],
   "source": [
    "import nbqol\n",
    "\n",
    "# Print version\n",
    "print(f\"NB-QOL version: {nbqol.__version__}\")"
   ]
  },
  {
   "cell_type": "markdown",
   "metadata": {},
   "source": [
    "## 1. IPython Configuration"
   ]
  },
  {
   "cell_type": "code",
   "execution_count": null,
   "metadata": {},
   "outputs": [],
   "source": [
    "# Enable autoreload to automatically reload modules during development\n",
    "nbqol.set_autoreload('complete')\n",
    "\n",
    "# Hide warning messages\n",
    "nbqol.hide_warnings()"
   ]
  },
  {
   "cell_type": "code",
   "execution_count": null,
   "metadata": {},
   "outputs": [],
   "source": [
    "# Get environment settings\n",
    "env_settings = nbqol.get_main_env_settings()\n",
    "print(env_settings)"
   ]
  },
  {
   "cell_type": "markdown",
   "metadata": {},
   "source": [
    "## 2. CUDA Device Management"
   ]
  },
  {
   "cell_type": "code",
   "execution_count": null,
   "metadata": {},
   "outputs": [],
   "source": [
    "# Check available CUDA devices\n",
    "try:\n",
    "    device_count = nbqol.count_cuda_devices()\n",
    "    print(f\"Found {device_count} CUDA devices\")\n",
    "    \n",
    "    # Get detailed device report\n",
    "    if device_count > 0:\n",
    "        nbqol.cuda_device_report()\n",
    "except Exception as e:\n",
    "    print(f\"CUDA not available: {e}\")"
   ]
  },
  {
   "cell_type": "code",
   "execution_count": null,
   "metadata": {},
   "outputs": [],
   "source": [
    "# If you have CUDA devices, you can select which ones to use\n",
    "try:\n",
    "    if nbqol.count_cuda_devices() > 0:\n",
    "        # Make only device 0 visible (if it exists)\n",
    "        nbqol.set_cuda_visibles(0)\n",
    "        print(f\"Visible CUDA devices: {nbqol.cuda_visibles()}\")\n",
    "except Exception as e:\n",
    "    print(f\"CUDA not available: {e}\")"
   ]
  },
  {
   "cell_type": "markdown",
   "metadata": {},
   "source": [
    "## 3. Path Operations"
   ]
  },
  {
   "cell_type": "code",
   "execution_count": null,
   "metadata": {},
   "outputs": [],
   "source": [
    "# Get the path of the current notebook\n",
    "notebook_path = nbqol.notebook_path()\n",
    "print(f\"Current notebook path: {notebook_path}\")"
   ]
  },
  {
   "cell_type": "code",
   "execution_count": null,
   "metadata": {},
   "outputs": [],
   "source": [
    "# Find the Git repository root (if running in a Git repo)\n",
    "try:\n",
    "    git_root = nbqol.path_to_git_root()\n",
    "    print(f\"Git repository root: {git_root}\")\n",
    "except Exception as e:\n",
    "    print(f\"Not in a Git repository or error: {e}\")"
   ]
  },
  {
   "cell_type": "code",
   "execution_count": null,
   "metadata": {},
   "outputs": [],
   "source": [
    "# Add Git root to system path\n",
    "try:\n",
    "    if nbqol.path_to_git_root():\n",
    "        nbqol.add_git_root_to_sys_path()\n",
    "        print(\"Git root added to system path\")\n",
    "except Exception as e:\n",
    "    print(f\"Not in a Git repository or error: {e}\")"
   ]
  },
  {
   "cell_type": "markdown",
   "metadata": {},
   "source": [
    "## 4. Output Capture"
   ]
  },
  {
   "cell_type": "code",
   "execution_count": null,
   "metadata": {},
   "outputs": [],
   "source": [
    "# Capture outputs (stdout, stderr, and logging)\n",
    "import logging\n",
    "\n",
    "with nbqol.capture_output() as captured:\n",
    "    print(\"This will be captured\")\n",
    "    print(\"Another line\")\n",
    "    logging.warning(\"This warning will be captured\")\n",
    "    try:\n",
    "        1/0\n",
    "    except Exception as e:\n",
    "        print(f\"Error: {e}\")\n",
    "\n",
    "# Display the captured output\n",
    "print(\"\\nCaptured stdout:\")\n",
    "print(captured.stdout)\n",
    "\n",
    "print(\"\\nCaptured stderr:\")\n",
    "print(captured.stderr)\n",
    "\n",
    "print(\"\\nCaptured logs:\")\n",
    "print(captured.logs)"
   ]
  },
  {
   "cell_type": "markdown",
   "metadata": {},
   "source": [
    "## 5. Notebook Styling"
   ]
  },
  {
   "cell_type": "code",
   "execution_count": null,
   "metadata": {},
   "outputs": [],
   "source": [
    "# Check runtime environment\n",
    "print(f\"Running in Jupyter: {nbqol.is_running_in_jupyter()}\")\n",
    "print(f\"Running in VS Code: {nbqol.is_running_in_vscode()}\")\n",
    "print(f\"Running in VS Code Jupyter: {nbqol.is_running_in_vscode_jupyter()}\")"
   ]
  },
  {
   "cell_type": "code",
   "execution_count": null,
   "metadata": {},
   "outputs": [],
   "source": [
    "# Apply appropriate styling based on the environment\n",
    "nbqol.auto_style()"
   ]
  },
  {
   "cell_type": "markdown",
   "metadata": {},
   "source": [
    "## 6. Notebook Conversion"
   ]
  },
  {
   "cell_type": "code",
   "execution_count": null,
   "metadata": {},
   "outputs": [],
   "source": [
    "# Create a simple notebook for demonstration\n",
    "import nbformat\n",
    "from nbformat.v4 import new_notebook, new_code_cell, new_markdown_cell\n",
    "import os\n",
    "\n",
    "# Create a notebook\n",
    "nb = new_notebook()\n",
    "nb.cells.append(new_markdown_cell('# Example Notebook\\nThis is for conversion demo.'))\n",
    "nb.cells.append(new_code_cell('x = 10\\ny = 20\\nz = x + y\\nprint(z)'))\n",
    "nb.cells.append(new_code_cell('# This cell has intermediate expressions\\nx\\ny\\nz'))\n",
    "nb.cells.append(new_code_cell('print(\"*\" * 1000)'))\n",
    "\n",
    "# Save the notebook\n",
    "demo_path = os.path.join(os.path.dirname(nbqol.notebook_path()), 'conversion_demo.ipynb')\n",
    "with open(demo_path, 'w') as f:\n",
    "    nbformat.write(nb, f)\n",
    "\n",
    "print(f\"Created demo notebook at: {demo_path}\")"
   ]
  },
  {
   "cell_type": "code",
   "execution_count": null,
   "metadata": {},
   "outputs": [],
   "source": [
    "# Convert to VSCode Python Script\n",
    "vscode_script_path = nbqol.convert_to_vscode_script(\n",
    "    demo_path, \n",
    "    output_path=os.path.join(os.path.dirname(demo_path), 'conversion_demo_vscode.py')\n",
    ")\n",
    "print(f\"Converted to VSCode script: {vscode_script_path}\")"
   ]
  },
  {
   "cell_type": "code",
   "execution_count": null,
   "metadata": {},
   "outputs": [],
   "source": [
    "# Clean the notebook\n",
    "cleaned_path = nbqol.clean_notebook(\n",
    "    demo_path,\n",
    "    remove_intermediates=True,\n",
    "    remove_large_outputs=True\n",
    ")\n",
    "print(f\"Created clean notebook: {cleaned_path}\")"
   ]
  },
  {
   "cell_type": "code",
   "execution_count": null,
   "metadata": {},
   "outputs": [],
   "source": [
    "# Convert to other formats\n",
    "html_path = nbqol.convert_notebook(\n",
    "    demo_path,\n",
    "    to_format='html'\n",
    ")\n",
    "print(f\"Converted to HTML: {html_path}\")\n",
    "\n",
    "md_path = nbqol.convert_notebook(\n",
    "    demo_path,\n",
    "    to_format='markdown'\n",
    ")\n",
    "print(f\"Converted to Markdown: {md_path}\")"
   ]
  },
  {
   "cell_type": "markdown",
   "metadata": {},
   "source": [
    "## 7. Notebook Testing"
   ]
  },
  {
   "cell_type": "code",
   "execution_count": null,
   "metadata": {},
   "outputs": [],
   "source": [
    "# Execute the demo notebook\n",
    "executed_path = nbqol.execute_notebook(\n",
    "    demo_path,\n",
    "    timeout=60\n",
    ")\n",
    "print(f\"Executed notebook: {executed_path}\")"
   ]
  },
  {
   "cell_type": "code",
   "execution_count": null,
   "metadata": {},
   "outputs": [],
   "source": [
    "# Compare the original and executed notebooks\n",
    "differences = nbqol.compare_notebooks(\n",
    "    demo_path,\n",
    "    executed_path\n",
    ")\n",
    "print(f\"Differences found: {len(differences['cells'])}\")"
   ]
  },
  {
   "cell_type": "code",
   "execution_count": null,
   "metadata": {},
   "outputs": [],
   "source": [
    "# Check if the notebook runs without errors\n",
    "success, message = nbqol.check_notebook_runs(demo_path)\n",
    "print(f\"Notebook runs successfully: {success}\")\n",
    "if not success:\n",
    "    print(f\"Error: {message}\")"
   ]
  },
  {
   "cell_type": "code",
   "execution_count": null,
   "metadata": {},
   "outputs": [],
   "source": [
    "# Verify variables in the notebook\n",
    "variables = nbqol.verify_notebook_variables(\n",
    "    demo_path,\n",
    "    ['x', 'y', 'z', 'nonexistent_var']\n",
    ")\n",
    "for var, status in variables.items():\n",
    "    print(f\"{var}: exists={status['exists']}, type={status.get('type', 'N/A')}\")"
   ]
  },
  {
   "cell_type": "code",
   "execution_count": null,
   "metadata": {},
   "outputs": [],
   "source": [
    "# Analyze cell dependencies\n",
    "deps = nbqol.notebook_cell_dependencies(demo_path)\n",
    "for cell_idx, dependencies in deps.items():\n",
    "    print(f\"Cell {cell_idx} depends on cells: {dependencies}\")"
   ]
  },
  {
   "cell_type": "code",
   "execution_count": null,
   "metadata": {},
   "outputs": [],
   "source": [
    "# Run as a script\n",
    "return_code, stdout, stderr = nbqol.run_notebook_as_script(demo_path)\n",
    "print(f\"Script exit code: {return_code}\")\n",
    "print(f\"Script stdout:\\n{stdout[:200]}...\" if len(stdout) > 200 else stdout)\n",
    "if stderr:\n",
    "    print(f\"Script stderr:\\n{stderr}\")"
   ]
  },
  {
   "cell_type": "markdown",
   "metadata": {},
   "source": [
    "## Cleanup"
   ]
  },
  {
   "cell_type": "code",
   "execution_count": null,
   "metadata": {},
   "outputs": [],
   "source": [
    "# Clean up demo files (uncomment if you want to delete the generated files)\n",
    "\"\"\"\n",
    "import os\n",
    "\n",
    "files_to_delete = [\n",
    "    demo_path,\n",
    "    vscode_script_path,\n",
    "    cleaned_path,\n",
    "    html_path,\n",
    "    md_path,\n",
    "    executed_path\n",
    "]\n",
    "\n",
    "for file_path in files_to_delete:\n",
    "    try:\n",
    "        if os.path.exists(file_path):\n",
    "            os.remove(file_path)\n",
    "            print(f\"Deleted: {file_path}\")\n",
    "    except Exception as e:\n",
    "        print(f\"Failed to delete {file_path}: {e}\")\n",
    "\"\"\""
   ]
  }
 ],
 "metadata": {
  "kernelspec": {
   "display_name": "Python 3",
   "language": "python",
   "name": "python3"
  },
  "language_info": {
   "codemirror_mode": {
    "name": "ipython",
    "version": 3
   },
   "file_extension": ".py",
   "mimetype": "text/x-python",
   "name": "python",
   "nbconvert_exporter": "python",
   "pygments_lexer": "ipython3",
   "version": "3.9.0"
  }
 },
 "nbformat": 4,
 "nbformat_minor": 4
}