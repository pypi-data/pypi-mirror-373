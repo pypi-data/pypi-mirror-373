{
 "cells": [
  {
   "cell_type": "markdown",
   "id": "8358e29c",
   "metadata": {},
   "source": [
    "# JSON Schema generation\n",
    "\n",
    "A simple usage of the library that, given generates a JSON Schema for inputs and outputs."
   ]
  },
  {
   "cell_type": "markdown",
   "id": "49492847",
   "metadata": {},
   "source": [
    "## 1. Parsing\n",
    "\n",
    "In this sample we'll show the access from a remote public URL."
   ]
  },
  {
   "cell_type": "code",
   "execution_count": 1,
   "id": "f5976049",
   "metadata": {},
   "outputs": [
    {
     "name": "stderr",
     "output_type": "stream",
     "text": [
      "\u001b[32m2025-08-11 19:05:30.506\u001b[0m | \u001b[1mINFO    \u001b[0m | \u001b[36mcwl_loader\u001b[0m:\u001b[36mload_cwl_from_location\u001b[0m:\u001b[36m186\u001b[0m - \u001b[1mLoading CWL document from https://raw.githubusercontent.com/eoap/cwl2ogc/refs/heads/develop/tests/artifacts/cwl-types/array-inputs.cwl...\u001b[0m\n",
      "\u001b[32m2025-08-11 19:05:30.705\u001b[0m | \u001b[1mINFO    \u001b[0m | \u001b[36mcwl_loader\u001b[0m:\u001b[36mload_cwl_from_yaml\u001b[0m:\u001b[36m117\u001b[0m - \u001b[1mUpdating the model to v1.2...\u001b[0m\n",
      "\u001b[32m2025-08-11 19:05:30.709\u001b[0m | \u001b[1mINFO    \u001b[0m | \u001b[36mcwl_loader\u001b[0m:\u001b[36mload_cwl_from_yaml\u001b[0m:\u001b[36m128\u001b[0m - \u001b[1mRaw CWL document successfully updated to v1.2! Now converting to the CWL model...\u001b[0m\n",
      "\u001b[32m2025-08-11 19:05:31.105\u001b[0m | \u001b[1mINFO    \u001b[0m | \u001b[36mcwl_loader\u001b[0m:\u001b[36mload_cwl_from_yaml\u001b[0m:\u001b[36m136\u001b[0m - \u001b[1mRaw CWL document successfully updated to v1.2! Now dereferencing the FQNs...\u001b[0m\n",
      "\u001b[32m2025-08-11 19:05:31.105\u001b[0m | \u001b[1mINFO    \u001b[0m | \u001b[36mcwl_loader\u001b[0m:\u001b[36m_clean_process\u001b[0m:\u001b[36m62\u001b[0m - \u001b[1m  Cleaning CommandLineTool array-inputs...\u001b[0m\n",
      "\u001b[32m2025-08-11 19:05:31.106\u001b[0m | \u001b[1mINFO    \u001b[0m | \u001b[36mcwl_loader\u001b[0m:\u001b[36mload_cwl_from_yaml\u001b[0m:\u001b[36m144\u001b[0m - \u001b[1mCWL document successfully dereferenced!\u001b[0m\n"
     ]
    }
   ],
   "source": [
    "from cwl_loader import load_cwl_from_location\n",
    "from cwl2ogc import BaseCWLtypes2OGCConverter\n",
    "\n",
    "cwl_document = load_cwl_from_location('https://raw.githubusercontent.com/eoap/cwl2ogc/refs/heads/develop/tests/artifacts/cwl-types/array-inputs.cwl')\n",
    "cwl_converter = BaseCWLtypes2OGCConverter(cwl_document)"
   ]
  },
  {
   "cell_type": "markdown",
   "id": "a127e3f7",
   "metadata": {},
   "source": [
    "## 2. Inputs JSON Schema generation\n",
    "\n",
    "Once the document is parsed, invoke the `cwl2ogc` APIs to convert the CWL inputs to the JSON schema:"
   ]
  },
  {
   "cell_type": "code",
   "execution_count": 2,
   "id": "fba17ea4",
   "metadata": {},
   "outputs": [
    {
     "name": "stdout",
     "output_type": "stream",
     "text": [
      "{\n",
      "  \"$schema\": \"https://json-schema.org/draft/2020-12/schema\",\n",
      "  \"$id\": \"https://eoap.github.io/cwl2ogc/array-inputs/inputs.yaml\",\n",
      "  \"description\": \"The schema to represent a array-inputs inputs definition\",\n",
      "  \"type\": \"object\",\n",
      "  \"required\": [\n",
      "    \"filesA\",\n",
      "    \"filesB\",\n",
      "    \"filesC\"\n",
      "  ],\n",
      "  \"properties\": {\n",
      "    \"filesA\": {\n",
      "      \"$ref\": \"#/$defs/filesA\"\n",
      "    },\n",
      "    \"filesB\": {\n",
      "      \"$ref\": \"#/$defs/filesB\"\n",
      "    },\n",
      "    \"filesC\": {\n",
      "      \"$ref\": \"#/$defs/filesC\"\n",
      "    }\n",
      "  },\n",
      "  \"additionalProperties\": false,\n",
      "  \"$defs\": {\n",
      "    \"filesA\": {\n",
      "      \"type\": \"array\",\n",
      "      \"items\": {\n",
      "        \"type\": \"string\"\n",
      "      }\n",
      "    },\n",
      "    \"filesB\": {\n",
      "      \"type\": \"array\",\n",
      "      \"items\": {\n",
      "        \"type\": \"string\"\n",
      "      }\n",
      "    },\n",
      "    \"filesC\": {\n",
      "      \"type\": \"array\",\n",
      "      \"items\": {\n",
      "        \"type\": \"string\"\n",
      "      }\n",
      "    }\n",
      "  }\n",
      "}"
     ]
    }
   ],
   "source": [
    "import sys\n",
    "\n",
    "cwl_converter.dump_inputs_json_schema(stream=sys.stdout, pretty_print=True)"
   ]
  },
  {
   "cell_type": "markdown",
   "id": "dd36ab4d",
   "metadata": {},
   "source": [
    "### 2.1 Inputs validation\n",
    "\n",
    "Schema can be used to fully validate an inputs dictionary (expecting JSON Schema validation errors in the example below):"
   ]
  },
  {
   "cell_type": "code",
   "execution_count": 3,
   "id": "f6aaf3ed",
   "metadata": {},
   "outputs": [
    {
     "name": "stdout",
     "output_type": "stream",
     "text": [
      "[\n",
      "  {\n",
      "    \"type\": \"required\",\n",
      "    \"title\": \"\",\n",
      "    \"instance\": {\n",
      "      \"aoi\": \"-118.985,38.432,-118.183,38.938\",\n",
      "      \"filesB\": \"EPSG:4326\",\n",
      "      \"bands\": [\n",
      "        \"green\",\n",
      "        \"nir08\"\n",
      "      ],\n",
      "      \"item\": {\n",
      "        \"class\": \"https://raw.githubusercontent.com/eoap/schemas/main/url.yaml#URL\",\n",
      "        \"value\": \"https://planetarycomputer.microsoft.com/api/stac/v1/collections/landsat-c2-l2/items/LC08_L2SP_042033_20231007_02_T1\"\n",
      "      }\n",
      "    },\n",
      "    \"detail\": \"'filesA' is a required property\"\n",
      "  },\n",
      "  {\n",
      "    \"type\": \"required\",\n",
      "    \"title\": \"\",\n",
      "    \"instance\": {\n",
      "      \"aoi\": \"-118.985,38.432,-118.183,38.938\",\n",
      "      \"filesB\": \"EPSG:4326\",\n",
      "      \"bands\": [\n",
      "        \"green\",\n",
      "        \"nir08\"\n",
      "      ],\n",
      "      \"item\": {\n",
      "        \"class\": \"https://raw.githubusercontent.com/eoap/schemas/main/url.yaml#URL\",\n",
      "        \"value\": \"https://planetarycomputer.microsoft.com/api/stac/v1/collections/landsat-c2-l2/items/LC08_L2SP_042033_20231007_02_T1\"\n",
      "      }\n",
      "    },\n",
      "    \"detail\": \"'filesC' is a required property\"\n",
      "  },\n",
      "  {\n",
      "    \"type\": \"properties.filesB.type\",\n",
      "    \"title\": \"filesB\",\n",
      "    \"instance\": \"EPSG:4326\",\n",
      "    \"detail\": \"'EPSG:4326' is not of type 'array'\"\n",
      "  },\n",
      "  {\n",
      "    \"type\": \"additionalProperties\",\n",
      "    \"title\": \"\",\n",
      "    \"instance\": {\n",
      "      \"aoi\": \"-118.985,38.432,-118.183,38.938\",\n",
      "      \"filesB\": \"EPSG:4326\",\n",
      "      \"bands\": [\n",
      "        \"green\",\n",
      "        \"nir08\"\n",
      "      ],\n",
      "      \"item\": {\n",
      "        \"class\": \"https://raw.githubusercontent.com/eoap/schemas/main/url.yaml#URL\",\n",
      "        \"value\": \"https://planetarycomputer.microsoft.com/api/stac/v1/collections/landsat-c2-l2/items/LC08_L2SP_042033_20231007_02_T1\"\n",
      "      }\n",
      "    },\n",
      "    \"detail\": \"Additional properties are not allowed ('aoi', 'bands', 'item' were unexpected)\"\n",
      "  }\n",
      "]"
     ]
    }
   ],
   "source": [
    "from jsonschema import Draft202012Validator\n",
    "from jsonschema.exceptions import SchemaError\n",
    "import json\n",
    "\n",
    "inputs = {\n",
    "    \"aoi\": \"-118.985,38.432,-118.183,38.938\",\n",
    "    \"filesB\": \"EPSG:4326\",\n",
    "    \"bands\": [ \"green\", \"nir08\" ],\n",
    "    \"item\": {\n",
    "        \"class\":\"https://raw.githubusercontent.com/eoap/schemas/main/url.yaml#URL\",\n",
    "        \"value\":\"https://planetarycomputer.microsoft.com/api/stac/v1/collections/landsat-c2-l2/items/LC08_L2SP_042033_20231007_02_T1\"\n",
    "    }\n",
    "}\n",
    "\n",
    "try:\n",
    "    errors_list = list(\n",
    "        map(\n",
    "            lambda error: {\n",
    "                \"type\": '.'.join(error.schema_path),\n",
    "                \"title\": '.'.join(error.path),\n",
    "                \"instance\": error.instance,\n",
    "                \"detail\": error.message\n",
    "            },\n",
    "            Draft202012Validator(cwl_converter.get_inputs_json_schema()).iter_errors(inputs)\n",
    "        )\n",
    "    )\n",
    "\n",
    "    if errors_list:\n",
    "        json.dump(errors_list, sys.stdout, indent=2)\n",
    "except SchemaError as schema_error:\n",
    "    json.dump({\n",
    "        \"type\": \"JSONSchemaError\",\n",
    "        \"title\": \"CWL2OGC generated JSON Schema error\",\n",
    "        \"detail\": schema_error.message\n",
    "    }, sys.stdout, indent=2)"
   ]
  },
  {
   "cell_type": "markdown",
   "id": "6dc27b83",
   "metadata": {},
   "source": [
    "## 3. Outputs JSON Schema generation\n",
    "\n",
    "Users can reuse the `BaseCWLtypes2OGCConverter` instance to convert the CWL outputs to the JSON Schema:"
   ]
  },
  {
   "cell_type": "code",
   "execution_count": 4,
   "id": "6b0d3d11",
   "metadata": {},
   "outputs": [
    {
     "name": "stdout",
     "output_type": "stream",
     "text": [
      "{\n",
      "  \"$schema\": \"https://json-schema.org/draft/2020-12/schema\",\n",
      "  \"$id\": \"https://eoap.github.io/cwl2ogc/array-inputs/outputs.yaml\",\n",
      "  \"description\": \"The schema to represent a array-inputs outputs definition\",\n",
      "  \"type\": \"object\",\n",
      "  \"required\": [\n",
      "    \"example_out\"\n",
      "  ],\n",
      "  \"properties\": {\n",
      "    \"example_out\": {\n",
      "      \"$ref\": \"#/$defs/example_out\"\n",
      "    }\n",
      "  },\n",
      "  \"additionalProperties\": false,\n",
      "  \"$defs\": {\n",
      "    \"example_out\": {\n",
      "      \"type\": \"string\"\n",
      "    }\n",
      "  }\n",
      "}"
     ]
    }
   ],
   "source": [
    "cwl_converter.dump_outputs_json_schema(stream=sys.stdout, pretty_print=True)"
   ]
  },
  {
   "cell_type": "markdown",
   "id": "8788ec20",
   "metadata": {},
   "source": [
    "### 2.1 Outputs validation\n",
    "\n",
    "Schema can be used to fully validate an outputs dictionary (JSON Schema validation expected to pass):"
   ]
  },
  {
   "cell_type": "code",
   "execution_count": 5,
   "id": "ca71d7c1",
   "metadata": {},
   "outputs": [
    {
     "name": "stdout",
     "output_type": "stream",
     "text": [
      "Outputs are valid!\n"
     ]
    }
   ],
   "source": [
    "outputs = {\n",
    "    \"example_out\": \"In girum imus nocte et consumimur igni\"\n",
    "}\n",
    "\n",
    "errors_list = list(\n",
    "    map(\n",
    "        lambda error: {\n",
    "            \"type\": '.'.join(error.schema_path),\n",
    "            \"title\": '.'.join(error.path),\n",
    "            \"instance\": error.instance,\n",
    "            \"detail\": error.message\n",
    "        },\n",
    "        Draft202012Validator(cwl_converter.get_outputs_json_schema()).iter_errors(outputs)\n",
    "    )\n",
    ")\n",
    "\n",
    "if not errors_list:\n",
    "    print(\"Outputs are valid!\")"
   ]
  }
 ],
 "metadata": {
  "kernelspec": {
   "display_name": "Python 3",
   "language": "python",
   "name": "python3"
  },
  "language_info": {
   "codemirror_mode": {
    "name": "ipython",
    "version": 3
   },
   "file_extension": ".py",
   "mimetype": "text/x-python",
   "name": "python",
   "nbconvert_exporter": "python",
   "pygments_lexer": "ipython3",
   "version": "3.10.12"
  }
 },
 "nbformat": 4,
 "nbformat_minor": 5
}
