{
 "cells": [
  {
   "cell_type": "markdown",
   "id": "a96360a1",
   "metadata": {},
   "source": [
    "## [Optional] Install the package\n",
    "\n",
    "If you alread installed the package with `pip install spanner-graph-notebook`, you can skip this step. "
   ]
  },
  {
   "cell_type": "code",
   "execution_count": null,
   "id": "3ec17b2a",
   "metadata": {},
   "outputs": [],
   "source": [
    "!pip install spanner-graph-notebook"
   ]
  },
  {
   "cell_type": "markdown",
   "id": "768b2b29",
   "metadata": {},
   "source": [
    "## Load the package\n",
    "\n",
    "You must run `%load_ext` or `%reload_ext` to load the package."
   ]
  },
  {
   "cell_type": "code",
   "execution_count": null,
   "id": "e2b05db4-01c6-4e6f-96f3-f964d7f05786",
   "metadata": {},
   "outputs": [],
   "source": [
    "%load_ext spanner_graphs"
   ]
  },
  {
   "cell_type": "markdown",
   "id": "fed2a88e-d55f-4c2f-b4db-561c6cab7821",
   "metadata": {},
   "source": [
    "## Query and visualize a local dataset with `--mock` flag\n",
    "\n",
    "Visualize local datasets without connecting to a Spanner database.\n",
    "\n",
    "Note: Since `%%spanner_graph` is a cell magic command, you must include two newlines after the command, even when using `--mock`."
   ]
  },
  {
   "cell_type": "code",
   "execution_count": null,
   "id": "43e00d3c-add4-451c-999d-44807a7e80da",
   "metadata": {},
   "outputs": [],
   "source": [
    "%%spanner_graph --mock\n",
    "\n"
   ]
  },
  {
   "cell_type": "markdown",
   "id": "462bb717-b923-4008-aacc-95e30a914dbc",
   "metadata": {},
   "source": [
    "## Query and visualize Spanner Graph data\n"
   ]
  },
  {
   "cell_type": "markdown",
   "id": "671d1d2e-ec9a-4ead-bb99-2e4cd4d9e099",
   "metadata": {},
   "source": [
    "[Set up and query Spanner Graph](https://cloud.google.com/spanner/docs/graph/set-up) page contains a finance graph example, used throughout the documentation. If you have set up such a database, you can replace the placeholder values of `{project_id}`, `{instance_name}` and `{database_name}` below to visualize query results.\n",
    "\n",
    "You can optionally follow [Spanner Graph Codelab](https://codelabs.developers.google.com/codelabs/spanner-graph-getting-started#0), which sets up a larger data set."
   ]
  },
  {
   "cell_type": "code",
   "execution_count": null,
   "id": "adf79c35-d3e5-4d6d-89cc-f0a743da2dee",
   "metadata": {},
   "outputs": [],
   "source": [
    "%%spanner_graph --project {project_id} --instance {instance_name} --database {database_name}\n",
    "\n",
    "GRAPH FinGraph\n",
    "MATCH p = (a)-[e]->(b)\n",
    "RETURN TO_JSON(p) AS path\n",
    "LIMIT 100"
   ]
  }
 ],
 "metadata": {
  "kernelspec": {
   "display_name": "Python 3 (ipykernel)",
   "language": "python",
   "name": "python3"
  },
  "language_info": {
   "codemirror_mode": {
    "name": "ipython",
    "version": 3
   },
   "file_extension": ".py",
   "mimetype": "text/x-python",
   "name": "python",
   "nbconvert_exporter": "python",
   "pygments_lexer": "ipython3",
   "version": "3.12.8"
  }
 },
 "nbformat": 4,
 "nbformat_minor": 5
}
