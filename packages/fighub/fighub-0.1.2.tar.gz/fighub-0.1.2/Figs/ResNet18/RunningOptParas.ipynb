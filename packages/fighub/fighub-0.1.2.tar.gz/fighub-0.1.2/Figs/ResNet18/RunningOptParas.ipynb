{
 "cells": [
  {
   "cell_type": "code",
   "execution_count": 5,
   "id": "a36039e6",
   "metadata": {},
   "outputs": [],
   "source": [
    "import sys\n",
    "import os\n",
    "root_dir = os.path.abspath(os.path.join(os.getcwd(), \"../..\"))  \n",
    "sys.path.append(root_dir)\n",
    "from utils import Figs, fighub"
   ]
  },
  {
   "cell_type": "markdown",
   "id": "7114f1c1",
   "metadata": {},
   "source": [
    "## ResNet18"
   ]
  },
  {
   "cell_type": "markdown",
   "id": "2d9b6fe0",
   "metadata": {},
   "source": [
    "---"
   ]
  },
  {
   "cell_type": "code",
   "execution_count": null,
   "id": "331643e5",
   "metadata": {},
   "outputs": [],
   "source": []
  },
  {
   "cell_type": "markdown",
   "id": "52bb4191",
   "metadata": {},
   "source": [
    "### CIFAR100 - train_2000_val_0_test_10000"
   ]
  },
  {
   "cell_type": "code",
   "execution_count": 12,
   "id": "6640961a",
   "metadata": {},
   "outputs": [],
   "source": [
    "import sys\n",
    "import os\n",
    "root_dir = os.path.abspath(os.path.join(os.getcwd(), \"../..\"))  \n",
    "sys.path.append(root_dir)\n",
    "from utils import Figs, fighub"
   ]
  },
  {
   "cell_type": "code",
   "execution_count": 18,
   "id": "ab0f01d6",
   "metadata": {},
   "outputs": [
    {
     "name": "stdout",
     "output_type": "stream",
     "text": [
      "File does not exist: ADAM_alpha_0.001_epsilon_1e-08_beta1_0.9_beta2_0.999.pkl\n"
     ]
    },
    {
     "ename": "AssertionError",
     "evalue": "",
     "output_type": "error",
     "traceback": [
      "\u001b[0;31m---------------------------------------------------------------------------\u001b[0m",
      "\u001b[0;31mAssertionError\u001b[0m                            Traceback (most recent call last)",
      "Cell \u001b[0;32mIn[18], line 16\u001b[0m\n\u001b[1;32m     11\u001b[0m         pkl_paths\u001b[38;5;241m.\u001b[39mappend(f)\n\u001b[1;32m     14\u001b[0m plot \u001b[38;5;241m=\u001b[39m fighub\u001b[38;5;241m.\u001b[39mtest(\u001b[38;5;124m\"\u001b[39m\u001b[38;5;124mResNet18\u001b[39m\u001b[38;5;124m\"\u001b[39m, data_name , category\u001b[38;5;241m=\u001b[39m\u001b[38;5;124m\"\u001b[39m\u001b[38;5;124mtraining_loss\u001b[39m\u001b[38;5;124m\"\u001b[39m, batch_size \u001b[38;5;241m=\u001b[39m batch_size, epoch \u001b[38;5;241m=\u001b[39m epoch, seed \u001b[38;5;241m=\u001b[39m [\u001b[38;5;241m1\u001b[39m, \u001b[38;5;241m42\u001b[39m], colors_schedule\u001b[38;5;241m=\u001b[39m\u001b[38;5;124m\"\u001b[39m\u001b[38;5;124mSCI\u001b[39m\u001b[38;5;124m\"\u001b[39m)\n\u001b[0;32m---> 16\u001b[0m \u001b[43mplot\u001b[49m\u001b[38;5;241;43m.\u001b[39;49m\u001b[43mload_data\u001b[49m\u001b[43m(\u001b[49m\u001b[43mpkl_paths\u001b[49m\u001b[43m)\u001b[49m\n\u001b[1;32m     18\u001b[0m solid_methods \u001b[38;5;241m=\u001b[39m [\u001b[38;5;124m'\u001b[39m\u001b[38;5;124mSPBM-TR\u001b[39m\u001b[38;5;124m'\u001b[39m, \u001b[38;5;124m'\u001b[39m\u001b[38;5;124mSPBM-PF\u001b[39m\u001b[38;5;124m'\u001b[39m] \n\u001b[1;32m     19\u001b[0m plot\u001b[38;5;241m.\u001b[39mdraw_1(save_name\u001b[38;5;241m=\u001b[39m\u001b[38;5;124mf\u001b[39m\u001b[38;5;124m\"\u001b[39m\u001b[38;5;124m./\u001b[39m\u001b[38;5;132;01m{\u001b[39;00mdata_name\u001b[38;5;132;01m}\u001b[39;00m\u001b[38;5;124m_bs_\u001b[39m\u001b[38;5;132;01m{\u001b[39;00mbatch_size\u001b[38;5;132;01m}\u001b[39;00m\u001b[38;5;124m_e_\u001b[39m\u001b[38;5;132;01m{\u001b[39;00mepoch\u001b[38;5;132;01m}\u001b[39;00m\u001b[38;5;124m_paras\u001b[39m\u001b[38;5;124m\"\u001b[39m, with_opti_paras\u001b[38;5;241m=\u001b[39m\u001b[38;5;28;01mTrue\u001b[39;00m, solid_methods\u001b[38;5;241m=\u001b[39msolid_methods)\n",
      "File \u001b[0;32m~/SPBM/utils/fighub.py:379\u001b[0m, in \u001b[0;36mtest.load_data\u001b[0;34m(self, pkl_paths)\u001b[0m\n\u001b[1;32m    377\u001b[0m \u001b[38;5;28;01melse\u001b[39;00m:\n\u001b[1;32m    378\u001b[0m     \u001b[38;5;28mprint\u001b[39m(\u001b[38;5;124mf\u001b[39m\u001b[38;5;124m\"\u001b[39m\u001b[38;5;124mFile does not exist: \u001b[39m\u001b[38;5;132;01m{\u001b[39;00mpath\u001b[38;5;132;01m}\u001b[39;00m\u001b[38;5;124m\"\u001b[39m)\n\u001b[0;32m--> 379\u001b[0m     \u001b[38;5;28;01massert\u001b[39;00m \u001b[38;5;28;01mFalse\u001b[39;00m\n",
      "\u001b[0;31mAssertionError\u001b[0m: "
     ]
    }
   ],
   "source": [
    "seed = 1\n",
    "data_name = \"CIFAR100\"\n",
    "Optimizer_name_list = ['ADAM','ALR-SMAG','Bundle','SGD','SPBM-TR', 'SPBM-PF'] \n",
    "batch_size = 256\n",
    "epoch = 50\n",
    "pkl_paths = []\n",
    "for Optimizer_name in Optimizer_name_list:\n",
    "    path = f\"../../OptParasResults/seed_{seed}/ResNet18/{data_name}/{Optimizer_name}/train_2000_val_0_test_10000/Batch_size_{batch_size}/epoch_{epoch}/2025-08-29_16-57-30\"\n",
    "    pkl_files = [f for f in os.listdir(path) if f.endswith(\".pkl\")]\n",
    "    for f in pkl_files:\n",
    "        pkl_paths.append(f)\n",
    "\n",
    "\n",
    "plot = fighub.test(\"ResNet18\", data_name , category=\"training_loss\", batch_size = batch_size, epoch = epoch, seed = [1, 42], colors_schedule=\"SCI\")\n",
    "\n",
    "plot.load_data(pkl_paths)\n",
    "\n",
    "solid_methods = ['SPBM-TR', 'SPBM-PF'] \n",
    "plot.draw_1(save_name=f\"./{data_name}_bs_{batch_size}_e_{epoch}_paras\", with_opti_paras=True, solid_methods=solid_methods)\n",
    "    "
   ]
  },
  {
   "cell_type": "code",
   "execution_count": null,
   "id": "452adb0d",
   "metadata": {},
   "outputs": [],
   "source": []
  }
 ],
 "metadata": {
  "kernelspec": {
   "display_name": "ExperimentHub",
   "language": "python",
   "name": "python3"
  },
  "language_info": {
   "codemirror_mode": {
    "name": "ipython",
    "version": 3
   },
   "file_extension": ".py",
   "mimetype": "text/x-python",
   "name": "python",
   "nbconvert_exporter": "python",
   "pygments_lexer": "ipython3",
   "version": "3.10.0"
  }
 },
 "nbformat": 4,
 "nbformat_minor": 5
}
