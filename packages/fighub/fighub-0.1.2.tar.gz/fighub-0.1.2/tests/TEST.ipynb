{
 "cells": [
  {
   "cell_type": "code",
   "execution_count": null,
   "id": "7a68bc32",
   "metadata": {},
   "outputs": [],
   "source": [
    "import pickle\n",
    "with open('../SeleParasResults/seed_1/LeastSquares/CALTECH101_Resize_32/ADAM/train_1000_val_0_test_1500/Batch_size_256/epoch_50/2025-08-25_16-28-31/data.pkl', 'rb') as f:\n",
    "    data = pickle.load(f)"
   ]
  },
  {
   "cell_type": "code",
   "execution_count": 4,
   "id": "f9ca5476",
   "metadata": {},
   "outputs": [],
   "source": [
    "import pickle\n",
    "with open('../SeleParasResults/seed_1/LeastSquares/CIFAR100/ADAM/train_1000_val_0_test_5000/Batch_size_256/epoch_50/2025-08-25_16-28-31/ADAM_alpha_0.001_epsilon_1e-08_beta1_0.9_beta2_0.999.pkl', 'rb') as f:\n",
    "    data = pickle.load(f)"
   ]
  },
  {
   "cell_type": "code",
   "execution_count": 10,
   "id": "fcae575f",
   "metadata": {},
   "outputs": [],
   "source": [
    "import pickle\n",
    "\n",
    "data = {\n",
    "    \"name\": \"Alice\",\n",
    "    \"age\": 25,\n",
    "    \"scores\": [95, 88, 92]\n",
    "}\n",
    "\n",
    "with open(\"data.pkl\", \"wb\") as f:\n",
    "    pickle.dump(data, f)\n"
   ]
  },
  {
   "cell_type": "code",
   "execution_count": null,
   "id": "415b95c3",
   "metadata": {},
   "outputs": [],
   "source": []
  }
 ],
 "metadata": {
  "kernelspec": {
   "display_name": "pcpm",
   "language": "python",
   "name": "python3"
  },
  "language_info": {
   "codemirror_mode": {
    "name": "ipython",
    "version": 3
   },
   "file_extension": ".py",
   "mimetype": "text/x-python",
   "name": "python",
   "nbconvert_exporter": "python",
   "pygments_lexer": "ipython3",
   "version": "3.13.2"
  }
 },
 "nbformat": 4,
 "nbformat_minor": 5
}
