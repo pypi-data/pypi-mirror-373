{
 "cells": [
  {
   "cell_type": "markdown",
   "metadata": {},
   "source": [
    "# Marked Point Pattern\n",
    "\n",
    "In addition to the [unmarked point pattern](pointpattern.ipynb), non-binary attributes might be associated with each point, leading to the so-called marked point pattern. The charactertistics of a marked point pattern are:\n",
    "\n",
    "* Location pattern of the events are of interest\n",
    "* Stochastic attribute attached to the events is of interest\n",
    "\n",
    "Unmarked point pattern can be modified to be a marked point pattern using the method **add_marks** while the method **explode** could decompose a marked point pattern into a sequence of unmarked point patterns. Both methods belong to the class **PointPattern**."
   ]
  },
  {
   "cell_type": "code",
   "execution_count": 1,
   "metadata": {},
   "outputs": [],
   "source": [
    "from pointpats import PoissonPointProcess, PoissonClusterPointProcess, Window, poly_from_bbox, PointPattern\n",
    "import libpysal as ps\n",
    "from libpysal.cg import shapely_ext\n",
    "%matplotlib inline\n",
    "import matplotlib.pyplot as plt"
   ]
  },
  {
   "cell_type": "code",
   "execution_count": 2,
   "metadata": {},
   "outputs": [],
   "source": [
    "# open the virginia polygon shapefile\n",
    "va = ps.io.open(ps.examples.get_path(\"virginia.shp\"))\n",
    "polys = [shp for shp in va]"
   ]
  },
  {
   "cell_type": "code",
   "execution_count": 3,
   "metadata": {},
   "outputs": [],
   "source": [
    "# Create the exterior polygons for VA from the union of the county shapes\n",
    "state = shapely_ext.cascaded_union(polys)\n",
    "# create window from virginia state boundary\n",
    "window = Window(state.parts)"
   ]
  },
  {
   "cell_type": "code",
   "execution_count": 4,
   "metadata": {},
   "outputs": [
    {
     "data": {
      "text/plain": [
       "[-83.67526245117188, 36.541481018066406, -75.24258422851562, 39.45690155029297]"
      ]
     },
     "execution_count": 4,
     "metadata": {},
     "output_type": "execute_result"
    }
   ],
   "source": [
    "window.bbox"
   ]
  },
  {
   "cell_type": "code",
   "execution_count": 5,
   "metadata": {},
   "outputs": [
    {
     "data": {
      "text/plain": [
       "(-78.85183583334933, 37.51851209850039)"
      ]
     },
     "execution_count": 5,
     "metadata": {},
     "output_type": "execute_result"
    }
   ],
   "source": [
    "window.centroid"
   ]
  },
  {
   "cell_type": "code",
   "execution_count": 6,
   "metadata": {},
   "outputs": [],
   "source": [
    "samples = PoissonPointProcess(window, 200, 1, conditioning=False, asPP=False)"
   ]
  },
  {
   "cell_type": "code",
   "execution_count": 7,
   "metadata": {},
   "outputs": [],
   "source": [
    "csr = PointPattern(samples.realizations[0])"
   ]
  },
  {
   "cell_type": "code",
   "execution_count": 8,
   "metadata": {},
   "outputs": [],
   "source": [
    "cx, cy = window.centroid"
   ]
  },
  {
   "cell_type": "code",
   "execution_count": 9,
   "metadata": {},
   "outputs": [
    {
     "data": {
      "text/plain": [
       "-78.85183583334933"
      ]
     },
     "execution_count": 9,
     "metadata": {},
     "output_type": "execute_result"
    }
   ],
   "source": [
    "cx"
   ]
  },
  {
   "cell_type": "code",
   "execution_count": 10,
   "metadata": {},
   "outputs": [
    {
     "data": {
      "text/plain": [
       "37.51851209850039"
      ]
     },
     "execution_count": 10,
     "metadata": {},
     "output_type": "execute_result"
    }
   ],
   "source": [
    "cy"
   ]
  },
  {
   "cell_type": "code",
   "execution_count": 11,
   "metadata": {},
   "outputs": [],
   "source": [
    "west = csr.points.x < cx\n",
    "south = csr.points.y < cy\n",
    "east = 1 - west\n",
    "north = 1 - south"
   ]
  },
  {
   "cell_type": "markdown",
   "metadata": {},
   "source": [
    "#### Create an attribute named quad which has a value for each event."
   ]
  },
  {
   "cell_type": "code",
   "execution_count": 12,
   "metadata": {},
   "outputs": [],
   "source": [
    "quad = 1 * east * north +  2 * west * north + 3 * west * south + 4 * east * south"
   ]
  },
  {
   "cell_type": "code",
   "execution_count": 13,
   "metadata": {},
   "outputs": [
    {
     "data": {
      "text/plain": [
       "pandas.core.series.Series"
      ]
     },
     "execution_count": 13,
     "metadata": {},
     "output_type": "execute_result"
    }
   ],
   "source": [
    "type(quad)"
   ]
  },
  {
   "cell_type": "code",
   "execution_count": 14,
   "metadata": {},
   "outputs": [
    {
     "data": {
      "text/plain": [
       "0      2\n",
       "1      3\n",
       "2      3\n",
       "3      4\n",
       "4      1\n",
       "5      3\n",
       "6      1\n",
       "7      4\n",
       "8      2\n",
       "9      3\n",
       "10     4\n",
       "11     4\n",
       "12     3\n",
       "13     1\n",
       "14     1\n",
       "15     1\n",
       "16     4\n",
       "17     1\n",
       "18     1\n",
       "19     3\n",
       "20     4\n",
       "21     3\n",
       "22     1\n",
       "23     3\n",
       "24     1\n",
       "25     1\n",
       "26     4\n",
       "27     1\n",
       "28     3\n",
       "29     3\n",
       "      ..\n",
       "170    2\n",
       "171    2\n",
       "172    3\n",
       "173    3\n",
       "174    1\n",
       "175    4\n",
       "176    3\n",
       "177    3\n",
       "178    4\n",
       "179    1\n",
       "180    1\n",
       "181    3\n",
       "182    3\n",
       "183    1\n",
       "184    2\n",
       "185    3\n",
       "186    1\n",
       "187    2\n",
       "188    4\n",
       "189    1\n",
       "190    4\n",
       "191    1\n",
       "192    3\n",
       "193    3\n",
       "194    4\n",
       "195    3\n",
       "196    1\n",
       "197    1\n",
       "198    4\n",
       "199    4\n",
       "Length: 200, dtype: int64"
      ]
     },
     "execution_count": 14,
     "metadata": {},
     "output_type": "execute_result"
    }
   ],
   "source": [
    "quad"
   ]
  },
  {
   "cell_type": "markdown",
   "metadata": {},
   "source": [
    "#### Attach the attribute quad to the point pattern "
   ]
  },
  {
   "cell_type": "code",
   "execution_count": 15,
   "metadata": {},
   "outputs": [],
   "source": [
    "csr.add_marks([quad], mark_names=['quad'])"
   ]
  },
  {
   "cell_type": "code",
   "execution_count": 16,
   "metadata": {},
   "outputs": [
    {
     "data": {
      "text/html": [
       "<div>\n",
       "<style scoped>\n",
       "    .dataframe tbody tr th:only-of-type {\n",
       "        vertical-align: middle;\n",
       "    }\n",
       "\n",
       "    .dataframe tbody tr th {\n",
       "        vertical-align: top;\n",
       "    }\n",
       "\n",
       "    .dataframe thead th {\n",
       "        text-align: right;\n",
       "    }\n",
       "</style>\n",
       "<table border=\"1\" class=\"dataframe\">\n",
       "  <thead>\n",
       "    <tr style=\"text-align: right;\">\n",
       "      <th></th>\n",
       "      <th>x</th>\n",
       "      <th>y</th>\n",
       "      <th>quad</th>\n",
       "    </tr>\n",
       "  </thead>\n",
       "  <tbody>\n",
       "    <tr>\n",
       "      <th>0</th>\n",
       "      <td>-79.603948</td>\n",
       "      <td>37.791190</td>\n",
       "      <td>2</td>\n",
       "    </tr>\n",
       "    <tr>\n",
       "      <th>1</th>\n",
       "      <td>-80.079205</td>\n",
       "      <td>37.396681</td>\n",
       "      <td>3</td>\n",
       "    </tr>\n",
       "    <tr>\n",
       "      <th>2</th>\n",
       "      <td>-79.464397</td>\n",
       "      <td>36.625981</td>\n",
       "      <td>3</td>\n",
       "    </tr>\n",
       "    <tr>\n",
       "      <th>3</th>\n",
       "      <td>-76.437205</td>\n",
       "      <td>36.884895</td>\n",
       "      <td>4</td>\n",
       "    </tr>\n",
       "    <tr>\n",
       "      <th>4</th>\n",
       "      <td>-78.545956</td>\n",
       "      <td>37.992603</td>\n",
       "      <td>1</td>\n",
       "    </tr>\n",
       "    <tr>\n",
       "      <th>5</th>\n",
       "      <td>-80.241928</td>\n",
       "      <td>36.991135</td>\n",
       "      <td>3</td>\n",
       "    </tr>\n",
       "    <tr>\n",
       "      <th>6</th>\n",
       "      <td>-77.898430</td>\n",
       "      <td>37.716846</td>\n",
       "      <td>1</td>\n",
       "    </tr>\n",
       "    <tr>\n",
       "      <th>7</th>\n",
       "      <td>-76.498353</td>\n",
       "      <td>37.321863</td>\n",
       "      <td>4</td>\n",
       "    </tr>\n",
       "    <tr>\n",
       "      <th>8</th>\n",
       "      <td>-79.900184</td>\n",
       "      <td>37.854658</td>\n",
       "      <td>2</td>\n",
       "    </tr>\n",
       "    <tr>\n",
       "      <th>9</th>\n",
       "      <td>-81.102672</td>\n",
       "      <td>36.633735</td>\n",
       "      <td>3</td>\n",
       "    </tr>\n",
       "    <tr>\n",
       "      <th>10</th>\n",
       "      <td>-77.281811</td>\n",
       "      <td>36.976553</td>\n",
       "      <td>4</td>\n",
       "    </tr>\n",
       "    <tr>\n",
       "      <th>11</th>\n",
       "      <td>-77.083152</td>\n",
       "      <td>37.303132</td>\n",
       "      <td>4</td>\n",
       "    </tr>\n",
       "    <tr>\n",
       "      <th>12</th>\n",
       "      <td>-83.035154</td>\n",
       "      <td>36.618248</td>\n",
       "      <td>3</td>\n",
       "    </tr>\n",
       "    <tr>\n",
       "      <th>13</th>\n",
       "      <td>-77.997824</td>\n",
       "      <td>38.483939</td>\n",
       "      <td>1</td>\n",
       "    </tr>\n",
       "    <tr>\n",
       "      <th>14</th>\n",
       "      <td>-76.576682</td>\n",
       "      <td>37.932985</td>\n",
       "      <td>1</td>\n",
       "    </tr>\n",
       "    <tr>\n",
       "      <th>15</th>\n",
       "      <td>-77.048965</td>\n",
       "      <td>37.697935</td>\n",
       "      <td>1</td>\n",
       "    </tr>\n",
       "    <tr>\n",
       "      <th>16</th>\n",
       "      <td>-78.330254</td>\n",
       "      <td>37.421786</td>\n",
       "      <td>4</td>\n",
       "    </tr>\n",
       "    <tr>\n",
       "      <th>17</th>\n",
       "      <td>-78.420495</td>\n",
       "      <td>38.125428</td>\n",
       "      <td>1</td>\n",
       "    </tr>\n",
       "    <tr>\n",
       "      <th>18</th>\n",
       "      <td>-77.379883</td>\n",
       "      <td>38.801099</td>\n",
       "      <td>1</td>\n",
       "    </tr>\n",
       "    <tr>\n",
       "      <th>19</th>\n",
       "      <td>-82.102351</td>\n",
       "      <td>36.838275</td>\n",
       "      <td>3</td>\n",
       "    </tr>\n",
       "    <tr>\n",
       "      <th>20</th>\n",
       "      <td>-77.139652</td>\n",
       "      <td>36.681456</td>\n",
       "      <td>4</td>\n",
       "    </tr>\n",
       "    <tr>\n",
       "      <th>21</th>\n",
       "      <td>-81.411197</td>\n",
       "      <td>37.009286</td>\n",
       "      <td>3</td>\n",
       "    </tr>\n",
       "    <tr>\n",
       "      <th>22</th>\n",
       "      <td>-78.377109</td>\n",
       "      <td>38.110156</td>\n",
       "      <td>1</td>\n",
       "    </tr>\n",
       "    <tr>\n",
       "      <th>23</th>\n",
       "      <td>-82.348030</td>\n",
       "      <td>37.260970</td>\n",
       "      <td>3</td>\n",
       "    </tr>\n",
       "    <tr>\n",
       "      <th>24</th>\n",
       "      <td>-78.540305</td>\n",
       "      <td>37.759264</td>\n",
       "      <td>1</td>\n",
       "    </tr>\n",
       "    <tr>\n",
       "      <th>25</th>\n",
       "      <td>-78.708559</td>\n",
       "      <td>38.778273</td>\n",
       "      <td>1</td>\n",
       "    </tr>\n",
       "    <tr>\n",
       "      <th>26</th>\n",
       "      <td>-77.119341</td>\n",
       "      <td>37.441159</td>\n",
       "      <td>4</td>\n",
       "    </tr>\n",
       "    <tr>\n",
       "      <th>27</th>\n",
       "      <td>-77.532402</td>\n",
       "      <td>37.827257</td>\n",
       "      <td>1</td>\n",
       "    </tr>\n",
       "    <tr>\n",
       "      <th>28</th>\n",
       "      <td>-81.025392</td>\n",
       "      <td>36.963752</td>\n",
       "      <td>3</td>\n",
       "    </tr>\n",
       "    <tr>\n",
       "      <th>29</th>\n",
       "      <td>-81.234484</td>\n",
       "      <td>37.187202</td>\n",
       "      <td>3</td>\n",
       "    </tr>\n",
       "    <tr>\n",
       "      <th>...</th>\n",
       "      <td>...</td>\n",
       "      <td>...</td>\n",
       "      <td>...</td>\n",
       "    </tr>\n",
       "    <tr>\n",
       "      <th>170</th>\n",
       "      <td>-79.175687</td>\n",
       "      <td>38.412747</td>\n",
       "      <td>2</td>\n",
       "    </tr>\n",
       "    <tr>\n",
       "      <th>171</th>\n",
       "      <td>-79.466336</td>\n",
       "      <td>37.677601</td>\n",
       "      <td>2</td>\n",
       "    </tr>\n",
       "    <tr>\n",
       "      <th>172</th>\n",
       "      <td>-80.503082</td>\n",
       "      <td>36.784620</td>\n",
       "      <td>3</td>\n",
       "    </tr>\n",
       "    <tr>\n",
       "      <th>173</th>\n",
       "      <td>-79.654007</td>\n",
       "      <td>36.620456</td>\n",
       "      <td>3</td>\n",
       "    </tr>\n",
       "    <tr>\n",
       "      <th>174</th>\n",
       "      <td>-78.283744</td>\n",
       "      <td>38.436626</td>\n",
       "      <td>1</td>\n",
       "    </tr>\n",
       "    <tr>\n",
       "      <th>175</th>\n",
       "      <td>-76.917112</td>\n",
       "      <td>36.713404</td>\n",
       "      <td>4</td>\n",
       "    </tr>\n",
       "    <tr>\n",
       "      <th>176</th>\n",
       "      <td>-82.234255</td>\n",
       "      <td>36.978863</td>\n",
       "      <td>3</td>\n",
       "    </tr>\n",
       "    <tr>\n",
       "      <th>177</th>\n",
       "      <td>-81.012936</td>\n",
       "      <td>37.186895</td>\n",
       "      <td>3</td>\n",
       "    </tr>\n",
       "    <tr>\n",
       "      <th>178</th>\n",
       "      <td>-77.979839</td>\n",
       "      <td>36.758554</td>\n",
       "      <td>4</td>\n",
       "    </tr>\n",
       "    <tr>\n",
       "      <th>179</th>\n",
       "      <td>-77.979268</td>\n",
       "      <td>38.366633</td>\n",
       "      <td>1</td>\n",
       "    </tr>\n",
       "    <tr>\n",
       "      <th>180</th>\n",
       "      <td>-75.550882</td>\n",
       "      <td>37.940486</td>\n",
       "      <td>1</td>\n",
       "    </tr>\n",
       "    <tr>\n",
       "      <th>181</th>\n",
       "      <td>-81.031949</td>\n",
       "      <td>37.194569</td>\n",
       "      <td>3</td>\n",
       "    </tr>\n",
       "    <tr>\n",
       "      <th>182</th>\n",
       "      <td>-80.957128</td>\n",
       "      <td>37.150309</td>\n",
       "      <td>3</td>\n",
       "    </tr>\n",
       "    <tr>\n",
       "      <th>183</th>\n",
       "      <td>-77.766785</td>\n",
       "      <td>37.647643</td>\n",
       "      <td>1</td>\n",
       "    </tr>\n",
       "    <tr>\n",
       "      <th>184</th>\n",
       "      <td>-79.411096</td>\n",
       "      <td>37.705193</td>\n",
       "      <td>2</td>\n",
       "    </tr>\n",
       "    <tr>\n",
       "      <th>185</th>\n",
       "      <td>-80.691844</td>\n",
       "      <td>36.673324</td>\n",
       "      <td>3</td>\n",
       "    </tr>\n",
       "    <tr>\n",
       "      <th>186</th>\n",
       "      <td>-78.752009</td>\n",
       "      <td>38.137110</td>\n",
       "      <td>1</td>\n",
       "    </tr>\n",
       "    <tr>\n",
       "      <th>187</th>\n",
       "      <td>-79.160647</td>\n",
       "      <td>38.047687</td>\n",
       "      <td>2</td>\n",
       "    </tr>\n",
       "    <tr>\n",
       "      <th>188</th>\n",
       "      <td>-78.244262</td>\n",
       "      <td>37.137316</td>\n",
       "      <td>4</td>\n",
       "    </tr>\n",
       "    <tr>\n",
       "      <th>189</th>\n",
       "      <td>-77.641999</td>\n",
       "      <td>38.612349</td>\n",
       "      <td>1</td>\n",
       "    </tr>\n",
       "    <tr>\n",
       "      <th>190</th>\n",
       "      <td>-77.961376</td>\n",
       "      <td>37.257348</td>\n",
       "      <td>4</td>\n",
       "    </tr>\n",
       "    <tr>\n",
       "      <th>191</th>\n",
       "      <td>-77.664101</td>\n",
       "      <td>37.612087</td>\n",
       "      <td>1</td>\n",
       "    </tr>\n",
       "    <tr>\n",
       "      <th>192</th>\n",
       "      <td>-82.073349</td>\n",
       "      <td>37.151563</td>\n",
       "      <td>3</td>\n",
       "    </tr>\n",
       "    <tr>\n",
       "      <th>193</th>\n",
       "      <td>-80.029721</td>\n",
       "      <td>36.650720</td>\n",
       "      <td>3</td>\n",
       "    </tr>\n",
       "    <tr>\n",
       "      <th>194</th>\n",
       "      <td>-77.015099</td>\n",
       "      <td>36.892940</td>\n",
       "      <td>4</td>\n",
       "    </tr>\n",
       "    <tr>\n",
       "      <th>195</th>\n",
       "      <td>-81.938727</td>\n",
       "      <td>36.759000</td>\n",
       "      <td>3</td>\n",
       "    </tr>\n",
       "    <tr>\n",
       "      <th>196</th>\n",
       "      <td>-78.653617</td>\n",
       "      <td>38.637913</td>\n",
       "      <td>1</td>\n",
       "    </tr>\n",
       "    <tr>\n",
       "      <th>197</th>\n",
       "      <td>-78.353159</td>\n",
       "      <td>38.009389</td>\n",
       "      <td>1</td>\n",
       "    </tr>\n",
       "    <tr>\n",
       "      <th>198</th>\n",
       "      <td>-76.652473</td>\n",
       "      <td>36.918815</td>\n",
       "      <td>4</td>\n",
       "    </tr>\n",
       "    <tr>\n",
       "      <th>199</th>\n",
       "      <td>-76.806542</td>\n",
       "      <td>37.477773</td>\n",
       "      <td>4</td>\n",
       "    </tr>\n",
       "  </tbody>\n",
       "</table>\n",
       "<p>200 rows × 3 columns</p>\n",
       "</div>"
      ],
      "text/plain": [
       "             x          y  quad\n",
       "0   -79.603948  37.791190     2\n",
       "1   -80.079205  37.396681     3\n",
       "2   -79.464397  36.625981     3\n",
       "3   -76.437205  36.884895     4\n",
       "4   -78.545956  37.992603     1\n",
       "5   -80.241928  36.991135     3\n",
       "6   -77.898430  37.716846     1\n",
       "7   -76.498353  37.321863     4\n",
       "8   -79.900184  37.854658     2\n",
       "9   -81.102672  36.633735     3\n",
       "10  -77.281811  36.976553     4\n",
       "11  -77.083152  37.303132     4\n",
       "12  -83.035154  36.618248     3\n",
       "13  -77.997824  38.483939     1\n",
       "14  -76.576682  37.932985     1\n",
       "15  -77.048965  37.697935     1\n",
       "16  -78.330254  37.421786     4\n",
       "17  -78.420495  38.125428     1\n",
       "18  -77.379883  38.801099     1\n",
       "19  -82.102351  36.838275     3\n",
       "20  -77.139652  36.681456     4\n",
       "21  -81.411197  37.009286     3\n",
       "22  -78.377109  38.110156     1\n",
       "23  -82.348030  37.260970     3\n",
       "24  -78.540305  37.759264     1\n",
       "25  -78.708559  38.778273     1\n",
       "26  -77.119341  37.441159     4\n",
       "27  -77.532402  37.827257     1\n",
       "28  -81.025392  36.963752     3\n",
       "29  -81.234484  37.187202     3\n",
       "..         ...        ...   ...\n",
       "170 -79.175687  38.412747     2\n",
       "171 -79.466336  37.677601     2\n",
       "172 -80.503082  36.784620     3\n",
       "173 -79.654007  36.620456     3\n",
       "174 -78.283744  38.436626     1\n",
       "175 -76.917112  36.713404     4\n",
       "176 -82.234255  36.978863     3\n",
       "177 -81.012936  37.186895     3\n",
       "178 -77.979839  36.758554     4\n",
       "179 -77.979268  38.366633     1\n",
       "180 -75.550882  37.940486     1\n",
       "181 -81.031949  37.194569     3\n",
       "182 -80.957128  37.150309     3\n",
       "183 -77.766785  37.647643     1\n",
       "184 -79.411096  37.705193     2\n",
       "185 -80.691844  36.673324     3\n",
       "186 -78.752009  38.137110     1\n",
       "187 -79.160647  38.047687     2\n",
       "188 -78.244262  37.137316     4\n",
       "189 -77.641999  38.612349     1\n",
       "190 -77.961376  37.257348     4\n",
       "191 -77.664101  37.612087     1\n",
       "192 -82.073349  37.151563     3\n",
       "193 -80.029721  36.650720     3\n",
       "194 -77.015099  36.892940     4\n",
       "195 -81.938727  36.759000     3\n",
       "196 -78.653617  38.637913     1\n",
       "197 -78.353159  38.009389     1\n",
       "198 -76.652473  36.918815     4\n",
       "199 -76.806542  37.477773     4\n",
       "\n",
       "[200 rows x 3 columns]"
      ]
     },
     "execution_count": 16,
     "metadata": {},
     "output_type": "execute_result"
    }
   ],
   "source": [
    "csr.df"
   ]
  },
  {
   "cell_type": "markdown",
   "metadata": {},
   "source": [
    "#### Explode a marked point pattern into a sequence of individual point patterns. Since the mark quad has 4 unique values, the sequence will be of length 4."
   ]
  },
  {
   "cell_type": "code",
   "execution_count": 17,
   "metadata": {},
   "outputs": [],
   "source": [
    "csr_q = csr.explode('quad')"
   ]
  },
  {
   "cell_type": "code",
   "execution_count": 18,
   "metadata": {},
   "outputs": [
    {
     "data": {
      "text/plain": [
       "4"
      ]
     },
     "execution_count": 18,
     "metadata": {},
     "output_type": "execute_result"
    }
   ],
   "source": [
    "len(csr_q)"
   ]
  },
  {
   "cell_type": "code",
   "execution_count": 19,
   "metadata": {},
   "outputs": [
    {
     "data": {
      "text/plain": [
       "<pointpats.pointpattern.PointPattern at 0x1b2058a320>"
      ]
     },
     "execution_count": 19,
     "metadata": {},
     "output_type": "execute_result"
    }
   ],
   "source": [
    "csr"
   ]
  },
  {
   "cell_type": "code",
   "execution_count": 20,
   "metadata": {},
   "outputs": [
    {
     "name": "stdout",
     "output_type": "stream",
     "text": [
      "Point Pattern\n",
      "200 points\n",
      "Bounding rectangle [(-83.5775552379073,36.58477411642467), (-75.55088173741038,39.23835955804836)]\n",
      "Area of window: 21.299463945585302\n",
      "Intensity estimate for window: 9.389907676125041\n",
      "           x          y  quad\n",
      "0 -79.603948  37.791190     2\n",
      "1 -80.079205  37.396681     3\n",
      "2 -79.464397  36.625981     3\n",
      "3 -76.437205  36.884895     4\n",
      "4 -78.545956  37.992603     1\n"
     ]
    }
   ],
   "source": [
    "csr.summary()"
   ]
  },
  {
   "cell_type": "markdown",
   "metadata": {},
   "source": [
    "#### Plot the 4 individual sequences"
   ]
  },
  {
   "cell_type": "code",
   "execution_count": 21,
   "metadata": {},
   "outputs": [],
   "source": [
    "plt.xlim?"
   ]
  },
  {
   "cell_type": "code",
   "execution_count": 22,
   "metadata": {
    "scrolled": true
   },
   "outputs": [
    {
     "data": {
      "image/png": "[encoded data removed]",
      "text/plain": [
       "<Figure size 432x288 with 1 Axes>"
      ]
     },
     "metadata": {},
     "output_type": "display_data"
    },
    {
     "data": {
      "image/png": "[encoded data removed]",
      "text/plain": [
       "<Figure size 432x288 with 1 Axes>"
      ]
     },
     "metadata": {},
     "output_type": "display_data"
    },
    {
     "data": {
      "image/png": "[encoded data removed]",
      "text/plain": [
       "<Figure size 432x288 with 1 Axes>"
      ]
     },
     "metadata": {},
     "output_type": "display_data"
    },
    {
     "data": {
      "image/png": "[encoded data removed]",
      "text/plain": [
       "<Figure size 432x288 with 1 Axes>"
      ]
     },
     "metadata": {},
     "output_type": "display_data"
    },
    {
     "data": {
      "image/png": "[encoded data removed]",
      "text/plain": [
       "<Figure size 432x288 with 1 Axes>"
      ]
     },
     "metadata": {},
     "output_type": "display_data"
    }
   ],
   "source": [
    "plt.xlim()\n",
    "for ppn in csr_q:\n",
    "    ppn.plot()"
   ]
  },
  {
   "cell_type": "markdown",
   "metadata": {},
   "source": [
    "#### Plot the 4 unmarked point patterns using the same axes for a convenient comparison of locations"
   ]
  },
  {
   "cell_type": "code",
   "execution_count": 23,
   "metadata": {},
   "outputs": [],
   "source": [
    "x0, y0, x1, y1 = csr.mbb\n",
    "ylim = (y0, y1)\n",
    "xlim = (x0, x1)"
   ]
  },
  {
   "cell_type": "code",
   "execution_count": 24,
   "metadata": {},
   "outputs": [
    {
     "data": {
      "image/png": "[encoded data removed]",
      "text/plain": [
       "<Figure size 432x288 with 1 Axes>"
      ]
     },
     "metadata": {},
     "output_type": "display_data"
    },
    {
     "data": {
      "image/png": "[encoded data removed]",
      "text/plain": [
       "<Figure size 432x288 with 1 Axes>"
      ]
     },
     "metadata": {},
     "output_type": "display_data"
    },
    {
     "data": {
      "image/png": "[encoded data removed]",
      "text/plain": [
       "<Figure size 432x288 with 1 Axes>"
      ]
     },
     "metadata": {},
     "output_type": "display_data"
    },
    {
     "data": {
      "image/png": "[encoded data removed]",
      "text/plain": [
       "<Figure size 432x288 with 1 Axes>"
      ]
     },
     "metadata": {},
     "output_type": "display_data"
    }
   ],
   "source": [
    "for ppn in csr_q:\n",
    "    ppn.plot()\n",
    "    plt.xlim(xlim)\n",
    "    plt.ylim(ylim)"
   ]
  },
  {
   "cell_type": "code",
   "execution_count": null,
   "metadata": {},
   "outputs": [],
   "source": []
  },
  {
   "cell_type": "code",
   "execution_count": null,
   "metadata": {},
   "outputs": [],
   "source": []
  }
 ],
 "metadata": {
  "kernelspec": {
   "display_name": "Python 3",
   "language": "python",
   "name": "python3"
  },
  "language_info": {
   "codemirror_mode": {
    "name": "ipython",
    "version": 3
   },
   "file_extension": ".py",
   "mimetype": "text/x-python",
   "name": "python",
   "nbconvert_exporter": "python",
   "pygments_lexer": "ipython3",
   "version": "3.6.5"
  }
 },
 "nbformat": 4,
 "nbformat_minor": 1
}
