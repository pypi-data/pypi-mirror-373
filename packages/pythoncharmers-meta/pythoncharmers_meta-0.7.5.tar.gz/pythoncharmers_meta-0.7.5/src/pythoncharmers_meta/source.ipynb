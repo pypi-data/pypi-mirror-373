{
 "cells": [
  {
   "cell_type": "markdown",
   "id": "8f747164-20f5-4570-aaa9-16bd8d0f09e9",
   "metadata": {},
   "source": [
    "# Day 3 - Data Analytics in Python"
   ]
  },
  {
   "cell_type": "code",
   "execution_count": null,
   "id": "05780f45-022a-460c-9bae-19c5aa762fab",
   "metadata": {},
   "outputs": [],
   "source": [
    "!uv pip install pythoncharmers-meta"
   ]
  },
  {
   "cell_type": "markdown",
   "id": "edf84c2b-b0db-456a-a92b-7e09c2153688",
   "metadata": {},
   "source": [
    "This is a Markdown cell.\n",
    "\n",
    "Wowowowowo!!"
   ]
  },
  {
   "cell_type": "code",
   "execution_count": 1,
   "id": "baea55bd-0516-4511-a8e2-9e9007bde3b1",
   "metadata": {
    "execution": {
     "iopub.execute_input": "2025-09-02T02:11:09.868134Z",
     "iopub.status.busy": "2025-09-02T02:11:09.867965Z",
     "iopub.status.idle": "2025-09-02T02:11:09.910956Z",
     "shell.execute_reply": "2025-09-02T02:11:09.910631Z",
     "shell.execute_reply.started": "2025-09-02T02:11:09.868120Z"
    }
   },
   "outputs": [
    {
     "name": "stdout",
     "output_type": "stream",
     "text": [
      "No module named 'temp.ai_magic'\n",
      "name 'AIMagic' is not defined\n"
     ]
    }
   ],
   "source": [
    "%load_ext temp"
   ]
  },
  {
   "cell_type": "code",
   "execution_count": 2,
   "id": "ec29353b-d88c-413a-b2e0-018e007a80a8",
   "metadata": {
    "execution": {
     "iopub.execute_input": "2025-09-02T02:11:09.911769Z",
     "iopub.status.busy": "2025-09-02T02:11:09.911602Z",
     "iopub.status.idle": "2025-09-02T02:11:09.963206Z",
     "shell.execute_reply": "2025-09-02T02:11:09.962632Z",
     "shell.execute_reply.started": "2025-09-02T02:11:09.911752Z"
    }
   },
   "outputs": [
    {
     "data": {
      "text/plain": [
       "'/home/jovyan/Trainer_706temp'"
      ]
     },
     "execution_count": 2,
     "metadata": {},
     "output_type": "execute_result"
    }
   ],
   "source": [
    "%nbpath"
   ]
  },
  {
   "cell_type": "code",
   "execution_count": 3,
   "id": "8ce4aa98-9995-4ca4-bf17-6803d6b8f6f0",
   "metadata": {
    "execution": {
     "iopub.execute_input": "2025-09-02T02:11:09.964110Z",
     "iopub.status.busy": "2025-09-02T02:11:09.963910Z",
     "iopub.status.idle": "2025-09-02T02:11:10.022362Z",
     "shell.execute_reply": "2025-09-02T02:11:10.022047Z",
     "shell.execute_reply.started": "2025-09-02T02:11:09.964093Z"
    }
   },
   "outputs": [
    {
     "name": "stdout",
     "output_type": "stream",
     "text": [
      "No default notebook is set. Using the most recently modified file in %nbpath.\n"
     ]
    },
    {
     "data": {
      "text/plain": [
       "'/home/jovyan/Trainer_706temp/.Trainer - Day 3 - Data Analytics in Python - 705.ipynb'"
      ]
     },
     "execution_count": 3,
     "metadata": {},
     "output_type": "execute_result"
    }
   ],
   "source": [
    "%nbfile"
   ]
  },
  {
   "cell_type": "code",
   "execution_count": 4,
   "id": "331a82a9-af02-400d-aaa3-2bf6083ced1a",
   "metadata": {
    "execution": {
     "iopub.execute_input": "2025-09-02T02:11:16.382556Z",
     "iopub.status.busy": "2025-09-02T02:11:16.382357Z",
     "iopub.status.idle": "2025-09-02T02:11:16.385376Z",
     "shell.execute_reply": "2025-09-02T02:11:16.384919Z",
     "shell.execute_reply.started": "2025-09-02T02:11:16.382543Z"
    }
   },
   "outputs": [
    {
     "data": {
      "text/plain": [
       "\u001b[31mDocstring:\u001b[39m\n",
       "Load markdown cells into the current frontend.\n",
       "Usage:\n",
       "\n",
       "  %md n1-n2 n3-n4 n5 ...\n",
       "\n",
       "or:\n",
       "\n",
       "  %md --list\n",
       "\n",
       "or:\n",
       "\n",
       "  %md -f ipynb_filename n1-n2 n3-n4 n5 ...\n",
       "\n",
       "  where `ipynb_filename` is a filename of a Jupyter notebook\n",
       "\n",
       "Ranges:\n",
       "\n",
       "  Ranges are space-separated and inclusive of the endpoint.\n",
       "  Numbers refer to the sequential index of markdown cells (1st, 2nd, 3rd, etc.)\n",
       "\n",
       "  Example: 1 3 5-7\n",
       "\n",
       "  This gives the contents of markdown cells: 1, 3, 5, 6, 7.\n",
       "\n",
       "Special options:\n",
       "\n",
       "  --list: Show a numbered list of all markdown cells with previews\n",
       "\n",
       "Optional arguments:\n",
       "\n",
       "  -f ipynb_filename: the filename of a Jupyter notebook (optionally\n",
       "      omitting the .ipynb extension). Default is the most recently\n",
       "      modified .ipynb file in the highest-numbered ~/Trainer_XYZ/\n",
       "      folder.\n",
       "\n",
       "  -v [notebook_version]: default is 4\n",
       "\n",
       "Note: After running this magic, convert the cell to Markdown type\n",
       "using Ctrl+M, M (or Esc, M) in Jupyter.\n",
       "\u001b[31mFile:\u001b[39m      ~/temp/nb_magic.py"
      ]
     },
     "metadata": {},
     "output_type": "display_data"
    }
   ],
   "source": [
    "%md?"
   ]
  },
  {
   "cell_type": "code",
   "execution_count": 5,
   "id": "21fcf405-15e5-47af-9e93-badfbc2e18c7",
   "metadata": {
    "execution": {
     "iopub.execute_input": "2025-09-02T02:11:59.732044Z",
     "iopub.status.busy": "2025-09-02T02:11:59.731847Z",
     "iopub.status.idle": "2025-09-02T02:11:59.760288Z",
     "shell.execute_reply": "2025-09-02T02:11:59.759920Z",
     "shell.execute_reply.started": "2025-09-02T02:11:59.732031Z"
    }
   },
   "outputs": [
    {
     "name": "stdout",
     "output_type": "stream",
     "text": [
      "Markdown cells in .Trainer - Day 3 - Data Analytics in Python - 705.ipynb:\n",
      "--------------------------------------------------\n",
      "  1: # Day 3 - Data Analytics in Python\n"
     ]
    }
   ],
   "source": [
    "%md --list"
   ]
  },
  {
   "cell_type": "code",
   "execution_count": 6,
   "id": "b1bd8932-f26d-45ab-b692-21d50756f87b",
   "metadata": {
    "execution": {
     "iopub.execute_input": "2025-09-02T01:57:22.508347Z",
     "iopub.status.busy": "2025-09-02T01:57:22.508154Z",
     "iopub.status.idle": "2025-09-02T01:57:22.539644Z",
     "shell.execute_reply": "2025-09-02T01:57:22.539314Z",
     "shell.execute_reply.started": "2025-09-02T01:57:22.508335Z"
    }
   },
   "outputs": [],
   "source": [
    "# %md 1\n",
    "# Day 3 - Data Analytics in Python"
   ]
  },
  {
   "cell_type": "code",
   "execution_count": 6,
   "id": "a240e22c-93ee-4c18-911d-fe8e179b11d2",
   "metadata": {
    "execution": {
     "iopub.execute_input": "2025-09-02T02:12:07.439904Z",
     "iopub.status.busy": "2025-09-02T02:12:07.439700Z",
     "iopub.status.idle": "2025-09-02T02:12:07.449314Z",
     "shell.execute_reply": "2025-09-02T02:12:07.448957Z",
     "shell.execute_reply.started": "2025-09-02T02:12:07.439890Z"
    }
   },
   "outputs": [
    {
     "name": "stderr",
     "output_type": "stream",
     "text": [
      "/home/jovyan/temp/nb_magic.py:507: UserWarning:\n",
      "\n",
      "No markdown cells found for indices: [2]\n",
      "\n"
     ]
    }
   ],
   "source": [
    "%md 2"
   ]
  },
  {
   "cell_type": "code",
   "execution_count": 16,
   "id": "960d610f-d3c0-4c20-a9b5-91f9a794364d",
   "metadata": {
    "execution": {
     "iopub.execute_input": "2025-09-02T01:58:28.546677Z",
     "iopub.status.busy": "2025-09-02T01:58:28.546478Z",
     "iopub.status.idle": "2025-09-02T01:58:28.550303Z",
     "shell.execute_reply": "2025-09-02T01:58:28.549827Z",
     "shell.execute_reply.started": "2025-09-02T01:58:28.546665Z"
    }
   },
   "outputs": [
    {
     "name": "stderr",
     "output_type": "stream",
     "text": [
      "UsageError: option --list not recognized (allowed: \"v:f:\")\n"
     ]
    }
   ],
   "source": [
    "%md --list"
   ]
  },
  {
   "cell_type": "code",
   "execution_count": 5,
   "id": "d5b24bdd-740a-4a4c-97ba-0f95ae371956",
   "metadata": {
    "execution": {
     "iopub.execute_input": "2025-09-02T00:20:02.217077Z",
     "iopub.status.busy": "2025-09-02T00:20:02.216828Z",
     "iopub.status.idle": "2025-09-02T00:20:02.230887Z",
     "shell.execute_reply": "2025-09-02T00:20:02.230276Z",
     "shell.execute_reply.started": "2025-09-02T00:20:02.217059Z"
    }
   },
   "outputs": [
    {
     "name": "stdout",
     "output_type": "stream",
     "text": [
      "No default notebook is set. Using the most recently modified file in %nbpath. This is currently /home/jovyan/Trainer_705a/.Trainer - Day 2 - Introduction to Python - 705.ipynb\n"
     ]
    },
    {
     "data": {
      "text/plain": [
       "'/home/jovyan/Trainer_705a/.Trainer - Day 2 - Introduction to Python - 705.ipynb'"
      ]
     },
     "execution_count": 5,
     "metadata": {},
     "output_type": "execute_result"
    }
   ],
   "source": [
    "%nbfile"
   ]
  },
  {
   "cell_type": "code",
   "execution_count": 6,
   "id": "c14ccee6-0ef0-44c7-90cb-bc5cc5895a7a",
   "metadata": {
    "execution": {
     "iopub.execute_input": "2025-09-02T00:20:36.282164Z",
     "iopub.status.busy": "2025-09-02T00:20:36.281965Z",
     "iopub.status.idle": "2025-09-02T00:20:36.285237Z",
     "shell.execute_reply": "2025-09-02T00:20:36.284743Z",
     "shell.execute_reply.started": "2025-09-02T00:20:36.282151Z"
    }
   },
   "outputs": [
    {
     "data": {
      "text/plain": [
       "'/home/jovyan/Trainer_705a'"
      ]
     },
     "execution_count": 6,
     "metadata": {},
     "output_type": "execute_result"
    }
   ],
   "source": [
    "%nbpath"
   ]
  },
  {
   "cell_type": "code",
   "execution_count": 7,
   "id": "7ae47c1f-35b1-4aa2-90a8-32119a166148",
   "metadata": {
    "execution": {
     "iopub.execute_input": "2025-09-02T00:21:38.916055Z",
     "iopub.status.busy": "2025-09-02T00:21:38.915854Z",
     "iopub.status.idle": "2025-09-02T00:21:38.918181Z",
     "shell.execute_reply": "2025-09-02T00:21:38.917773Z",
     "shell.execute_reply.started": "2025-09-02T00:21:38.916043Z"
    }
   },
   "outputs": [],
   "source": [
    "from pathlib import Path"
   ]
  },
  {
   "cell_type": "code",
   "execution_count": 8,
   "id": "80ae1767-f185-4eda-bf43-886e3b1fd168",
   "metadata": {
    "execution": {
     "iopub.execute_input": "2025-09-02T00:21:45.457785Z",
     "iopub.status.busy": "2025-09-02T00:21:45.457570Z",
     "iopub.status.idle": "2025-09-02T00:21:45.460907Z",
     "shell.execute_reply": "2025-09-02T00:21:45.460566Z",
     "shell.execute_reply.started": "2025-09-02T00:21:45.457770Z"
    }
   },
   "outputs": [],
   "source": [
    "trainer_paths = [p for p in Path(\"~\").expanduser().glob(\"Trainer_*\") if p.is_dir()]"
   ]
  },
  {
   "cell_type": "code",
   "execution_count": 9,
   "id": "8dc7146d-562b-4dbb-9ca4-efbbdb32f197",
   "metadata": {
    "execution": {
     "iopub.execute_input": "2025-09-02T00:21:54.441946Z",
     "iopub.status.busy": "2025-09-02T00:21:54.441745Z",
     "iopub.status.idle": "2025-09-02T00:21:54.444924Z",
     "shell.execute_reply": "2025-09-02T00:21:54.444569Z",
     "shell.execute_reply.started": "2025-09-02T00:21:54.441934Z"
    }
   },
   "outputs": [
    {
     "data": {
      "text/plain": [
       "[PosixPath('/home/jovyan/Trainer_705b'),\n",
       " PosixPath('/home/jovyan/Trainer_705a'),\n",
       " PosixPath('/home/jovyan/Trainer_706temp')]"
      ]
     },
     "execution_count": 9,
     "metadata": {},
     "output_type": "execute_result"
    }
   ],
   "source": [
    "trainer_paths"
   ]
  },
  {
   "cell_type": "code",
   "execution_count": 10,
   "id": "f4089a91-a9ee-4bbb-b9e8-55edb36bdba7",
   "metadata": {
    "execution": {
     "iopub.execute_input": "2025-09-02T00:22:25.313131Z",
     "iopub.status.busy": "2025-09-02T00:22:25.312932Z",
     "iopub.status.idle": "2025-09-02T00:22:25.316021Z",
     "shell.execute_reply": "2025-09-02T00:22:25.315658Z",
     "shell.execute_reply.started": "2025-09-02T00:22:25.313119Z"
    }
   },
   "outputs": [
    {
     "data": {
      "text/plain": [
       "[PosixPath('/home/jovyan/Trainer_705a'),\n",
       " PosixPath('/home/jovyan/Trainer_705b'),\n",
       " PosixPath('/home/jovyan/Trainer_706temp')]"
      ]
     },
     "execution_count": 10,
     "metadata": {},
     "output_type": "execute_result"
    }
   ],
   "source": [
    "sorted(trainer_paths)"
   ]
  },
  {
   "cell_type": "code",
   "execution_count": 11,
   "id": "a8b3259c-88c1-485e-a829-c21219c1f049",
   "metadata": {
    "execution": {
     "iopub.execute_input": "2025-09-02T00:22:59.538295Z",
     "iopub.status.busy": "2025-09-02T00:22:59.538101Z",
     "iopub.status.idle": "2025-09-02T00:22:59.540606Z",
     "shell.execute_reply": "2025-09-02T00:22:59.540221Z",
     "shell.execute_reply.started": "2025-09-02T00:22:59.538283Z"
    }
   },
   "outputs": [],
   "source": [
    "def course_num_from_trainer_path(trainer_path: Path) -> str:\n",
    "    \"\"\"\n",
    "    Returns a course 'number' like 612 or 705b as a string\n",
    "    from a Trainer path like `Path('/home/jovyan/Trainer_612')`\n",
    "    \"\"\"\n",
    "    return trainer_path.name.split(\"_\")[1]\n"
   ]
  },
  {
   "cell_type": "code",
   "execution_count": 14,
   "id": "1564ad56-eb67-473e-8137-02e5ee64ee8e",
   "metadata": {
    "execution": {
     "iopub.execute_input": "2025-09-02T00:23:15.510726Z",
     "iopub.status.busy": "2025-09-02T00:23:15.510527Z",
     "iopub.status.idle": "2025-09-02T00:23:15.513649Z",
     "shell.execute_reply": "2025-09-02T00:23:15.513272Z",
     "shell.execute_reply.started": "2025-09-02T00:23:15.510714Z"
    }
   },
   "outputs": [
    {
     "data": {
      "text/plain": [
       "[PosixPath('/home/jovyan/Trainer_705a'),\n",
       " PosixPath('/home/jovyan/Trainer_705b'),\n",
       " PosixPath('/home/jovyan/Trainer_706temp')]"
      ]
     },
     "execution_count": 14,
     "metadata": {},
     "output_type": "execute_result"
    }
   ],
   "source": [
    "sorted(trainer_paths, key=course_num_from_trainer_path)"
   ]
  },
  {
   "cell_type": "code",
   "execution_count": 15,
   "id": "f9e5ac75-2617-4f8e-9b51-6f2f19798989",
   "metadata": {
    "execution": {
     "iopub.execute_input": "2025-09-02T00:33:57.259004Z",
     "iopub.status.busy": "2025-09-02T00:33:57.258806Z",
     "iopub.status.idle": "2025-09-02T00:33:57.261974Z",
     "shell.execute_reply": "2025-09-02T00:33:57.261619Z",
     "shell.execute_reply.started": "2025-09-02T00:33:57.258992Z"
    }
   },
   "outputs": [
    {
     "data": {
      "text/plain": [
       "'/home/jovyan/Trainer_705a'"
      ]
     },
     "execution_count": 15,
     "metadata": {},
     "output_type": "execute_result"
    }
   ],
   "source": [
    "%nbpath"
   ]
  },
  {
   "cell_type": "code",
   "execution_count": 10,
   "id": "b10ce0fb-a036-405f-a8b5-80ccd615cb52",
   "metadata": {
    "execution": {
     "iopub.execute_input": "2025-09-02T01:28:43.635059Z",
     "iopub.status.busy": "2025-09-02T01:28:43.634846Z",
     "iopub.status.idle": "2025-09-02T01:28:43.653153Z",
     "shell.execute_reply": "2025-09-02T01:28:43.652814Z",
     "shell.execute_reply.started": "2025-09-02T01:28:43.635046Z"
    }
   },
   "outputs": [],
   "source": [
    "# %nb 1\n",
    "%load_ext Materials_705a.extras"
   ]
  },
  {
   "cell_type": "code",
   "execution_count": 9,
   "id": "8ae6f713-8861-4986-987b-d37065563bc0",
   "metadata": {
    "execution": {
     "iopub.execute_input": "2025-09-02T01:23:58.542647Z",
     "iopub.status.busy": "2025-09-02T01:23:58.542454Z",
     "iopub.status.idle": "2025-09-02T01:23:58.545196Z",
     "shell.execute_reply": "2025-09-02T01:23:58.544658Z",
     "shell.execute_reply.started": "2025-09-02T01:23:58.542635Z"
    }
   },
   "outputs": [
    {
     "name": "stderr",
     "output_type": "stream",
     "text": [
      "UsageError: Line magic function `%md` not found.\n"
     ]
    }
   ],
   "source": [
    "%md"
   ]
  },
  {
   "cell_type": "code",
   "execution_count": 11,
   "id": "f972664a-1af1-40c6-b51c-bc929097614e",
   "metadata": {
    "execution": {
     "iopub.execute_input": "2025-09-02T01:35:16.802248Z",
     "iopub.status.busy": "2025-09-02T01:35:16.802065Z",
     "iopub.status.idle": "2025-09-02T01:35:16.804858Z",
     "shell.execute_reply": "2025-09-02T01:35:16.804371Z",
     "shell.execute_reply.started": "2025-09-02T01:35:16.802237Z"
    }
   },
   "outputs": [
    {
     "name": "stderr",
     "output_type": "stream",
     "text": [
      "UsageError: Line magic function `%code` not found.\n"
     ]
    }
   ],
   "source": [
    "%code"
   ]
  }
 ],
 "metadata": {
  "kernelspec": {
   "display_name": "Python 3 (ipykernel)",
   "language": "python",
   "name": "python3"
  },
  "language_info": {
   "codemirror_mode": {
    "name": "ipython",
    "version": 3
   },
   "file_extension": ".py",
   "mimetype": "text/x-python",
   "name": "python",
   "nbconvert_exporter": "python",
   "pygments_lexer": "ipython3",
   "version": "3.12.11"
  }
 },
 "nbformat": 4,
 "nbformat_minor": 5
}
