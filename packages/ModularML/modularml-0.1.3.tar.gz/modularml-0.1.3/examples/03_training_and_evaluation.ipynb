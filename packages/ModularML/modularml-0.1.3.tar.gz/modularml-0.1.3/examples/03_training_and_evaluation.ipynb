{
 "cells": [
  {
   "cell_type": "markdown",
   "id": "d7fa9f84",
   "metadata": {},
   "source": [
    "---\n",
    "# 03_training_and_evaluation.ipynb\n",
    "---"
   ]
  },
  {
   "cell_type": "markdown",
   "id": "91952ca8",
   "metadata": {},
   "source": [
    "This notebook provides a complete end-to-end example of how to train and evaluate a model using the `ModularML` framework. It demonstrates how to:\n",
    "\n",
    "1. Define a `ModelGraph` with one or more trainable model stages\n",
    "2. Wrap training logic in a `TrainingPhase`\n",
    "3. Run training using the `Experiment` container\n",
    "4. Evaluate the trained model using `EvaluationPhase`\n",
    "5. Visualize predictions against ground truth\n",
    "\n",
    "We use a simple example in which a fully connected MLP regressor is trained to estimate target values from pulse charge features of a battery dataset."
   ]
  },
  {
   "cell_type": "markdown",
   "id": "86108012",
   "metadata": {},
   "source": [
    "We will be utilizing the FeatureSet and ModelStages created in the prior two notebooks. \n",
    "If you haven't already, please go through the following examples:\n",
    "* [01_featureset_basics.ipynb](./01_featureset_basics.ipynb)\n",
    "* [02_modelgraph_basics.ipynb](./02_modelgraph_basics.ipynb)\n",
    "\n",
    "\n",
    "Let's reload the pre-processed FeatureSet and ModelStages.\n"
   ]
  },
  {
   "cell_type": "code",
   "execution_count": 1,
   "id": "700b9407",
   "metadata": {},
   "outputs": [
    {
     "data": {
      "text/plain": [
       "FeatureSet(label='ChargePulseFeatures', n_samples=12024)"
      ]
     },
     "execution_count": 1,
     "metadata": {},
     "output_type": "execute_result"
    }
   ],
   "source": [
    "from modularml.core import FeatureSet, ModelStage, ModelGraph, Optimizer\n",
    "from modularml.models import SequentialCNN, SequentialMLP\n",
    "import modularml as mml\n",
    "\n",
    "from pathlib import Path\n",
    "\n",
    "FILE_FEATURE_SET = Path(\"downloaded_data/charge_samples.joblib\")\n",
    "charge_samples = FeatureSet.load(FILE_FEATURE_SET)\n",
    "charge_samples"
   ]
  },
  {
   "cell_type": "markdown",
   "id": "2feb5b98",
   "metadata": {},
   "source": [
    "We will start this example with a simple 3-layer MLP model.\n",
    "It pulls features from the 'ChargePulseFeatures' FeatureSet.\n",
    "\n",
    "We can confirm the target output size with `FeatureSet.target_shape`"
   ]
  },
  {
   "cell_type": "code",
   "execution_count": 2,
   "id": "2a4256a0",
   "metadata": {},
   "outputs": [
    {
     "name": "stdout",
     "output_type": "stream",
     "text": [
      "(1, 1)\n"
     ]
    }
   ],
   "source": [
    "print(charge_samples.target_shape)\n",
    "\n",
    "ms_regressor = ModelStage(\n",
    "    model=SequentialMLP(output_shape=(1, 1), n_layers=3, hidden_dim=16),\n",
    "    label='Regressor',\n",
    "    inputs='ChargePulseFeatures',  \t\t# Input from feature set\n",
    "    optimizer=Optimizer(name='adam', backend=mml.Backend.TORCH)\n",
    ")"
   ]
  },
  {
   "cell_type": "markdown",
   "id": "bfd36fb2",
   "metadata": {},
   "source": [
    "The ModelGraph is constructed via a list of ModelStages and FeatureSets.\n",
    "\n",
    "Calling `build_all` ensure all ModelStages instantiate their underlying NN components, and infer any missing input/output shapes. "
   ]
  },
  {
   "cell_type": "code",
   "execution_count": 3,
   "id": "2207c695",
   "metadata": {},
   "outputs": [
    {
     "name": "stdout",
     "output_type": "stream",
     "text": [
      "Inferred shapes for `Regressor`:  (1, 101) -> (1, 1)\n"
     ]
    },
    {
     "data": {
      "text/plain": [
       "(<Figure size 600x300 with 1 Axes>, <Axes: >)"
      ]
     },
     "execution_count": 3,
     "metadata": {},
     "output_type": "execute_result"
    },
    {
     "data": {
      "image/png": "[encoded data removed]",
      "text/plain": [
       "<Figure size 600x300 with 1 Axes>"
      ]
     },
     "metadata": {},
     "output_type": "display_data"
    }
   ],
   "source": [
    "mg = ModelGraph(nodes=[charge_samples, ms_regressor])\n",
    "mg.build_all()\n",
    "mg.visualize()"
   ]
  },
  {
   "cell_type": "markdown",
   "id": "2783675c",
   "metadata": {},
   "source": [
    "Now that the `ModelGraph` is built, we are ready to move on to the core ModularML training logic and central `Experiment` container."
   ]
  },
  {
   "cell_type": "markdown",
   "id": "ea98a297",
   "metadata": {},
   "source": [
    "## Define a Training Phase\n",
    "\n",
    "Training in ModularML is handled through a `TrainingPhase`. It is a declarative container that defines how to train the ModelGraph.\n",
    "\n",
    "If has the following initiallization arguments:\n",
    "* `label`: a name (str) to assigned to this training phase for logging (e.g., \"pretrain_encoder\").\n",
    "* `losses`: a list of `AppliedLoss` objects\n",
    "* `samplers`: a mapping of `FeatureSampler`s to FeatureSets in ModelGraph.\n",
    "* `batch_size`: the batch size to use across all batches in a single training phase.\n",
    "* `n_epochs`: the number of training epochs.\n",
    "\n"
   ]
  },
  {
   "cell_type": "markdown",
   "id": "bc9531ec",
   "metadata": {},
   "source": [
    "Let's start with the `AppliedLoss` class.\n",
    "It defines the loss function and how it should be applied to the ModelGraph.\n",
    "\n",
    "For example, let's assume we are using a TripletSampler, which produces 'anchor', 'positive', and 'negative' sample pairs.\n",
    "We would have a corresponding TripletLoss that takes in the ModelStage outputs for each of these sample roles. \n",
    "\n",
    "``` python\n",
    "def triplet_loss(anchor, positive, negative): ...\n",
    "```\n",
    "\n",
    "To apply this triplet_loss to a ModelStage's output (assume it's called 'encoder'), we would define an AppliedLoss where the `inputs` argument maps the loss function keyword arguments to the available samples and roles.\n",
    "\n",
    "\n",
    "``` python\n",
    "ap = AppliedLoss(\n",
    "\tlabel='my_triplet_loss',\n",
    "\tloss=Loss(loss_function=triplet_loss),\n",
    "\tinputs={\n",
    "\t\t'anchor': \"ChargePulseFeatures.features.anchor\",\n",
    "\t\t'positive': \"ChargePulseFeatures.features.negative\",\n",
    "\t\t'negative': \"ChargePulseFeatures.features.positive\",\n",
    "\t}\n",
    ")\n",
    "```\n",
    "\n",
    "The `inputs` key-value following the following schema: \n",
    "* the key must be a keyword argument of the loss_function. If the loss function only accepts positional arguments, keys can take the form of integers or string equivalents (e.g., `{\"0\": ..., }` or `{0: ..., }`)\n",
    "* the value is a period (.)-parsed string with the following pattern: `'node.attribute.role'`:\n",
    "  * `node` is the label of a FeatureSet or ModelStage contained in ModelGraph\n",
    "  * `attribute` is one of the following: ['features',  'targets', 'output']\n",
    "    * 'features' and 'targets' only apply if `node` is a FeatureSet\n",
    "    * 'output' is used if `node` is a ModelStage\n",
    "  * `role` is a sample key defined by the FeatureSampler used. E.g, a TripletSampler creates 'anchor', 'positive', and 'negative' roles. A simple FeatureSampler has only a 'default' role. If `role` is ommited (e.g., `'node.attribute'`), then the role is assumed to be 'default'."
   ]
  },
  {
   "cell_type": "markdown",
   "id": "e0c06add",
   "metadata": {},
   "source": [
    "For our first example, we only have a single MLP ModelStage where our task is estimating battery state-of-health. \n",
    "\n",
    "We will start with only a single mean-squared-error loss function applied to the regressor outputs.\n",
    "Common loss functions are easily accessible using the `name` and `backend` attribute of the `Loss` class.\n",
    "See the documentation for a more detailed description on available losses."
   ]
  },
  {
   "cell_type": "code",
   "execution_count": 4,
   "id": "b5a7c853",
   "metadata": {},
   "outputs": [],
   "source": [
    "from modularml.core import AppliedLoss, Loss\n",
    "\n",
    "mse_loss = AppliedLoss(\n",
    "    label='MyAppliedLoss',\n",
    "\tloss=Loss(name='mse', backend=mml.Backend.TORCH),\n",
    "\tinputs={\t\t# The PyTorch MSELoss only accept positional arguments\n",
    "\t\t\"0\": \"ChargePulseFeatures.targets\",\n",
    "\t\t\"1\": \"Regressor.output\"\n",
    "\t},\n",
    ")"
   ]
  },
  {
   "cell_type": "markdown",
   "id": "0c336156",
   "metadata": {},
   "source": [
    "The next set of `TrainingPhase` attributes define the sampling configuration.\n",
    "\n",
    "Since we only have one FeatureSet (`\"ChargePulseFeatures\"`) in our ModelGraph, we only need to create one FeatureSampler.\n",
    "Our `mse_loss` only need a single sample role (\"default\"), so we can stick with just a simple FeatureSampler."
   ]
  },
  {
   "cell_type": "code",
   "execution_count": 5,
   "id": "6e013c37",
   "metadata": {},
   "outputs": [],
   "source": [
    "from modularml.core import FeatureSampler\n",
    "\n",
    "sampler = FeatureSampler(\n",
    "\tshuffle=True,\n",
    "\tstratify_by=[\"pulse_soc\"],\n",
    " \tseed=13\n",
    ")"
   ]
  },
  {
   "cell_type": "markdown",
   "id": "16434b48",
   "metadata": {},
   "source": [
    "The base `FeatureSampler` support grouping and stratification via the `group_by` and `stratify_by` parameters.\n",
    "\n",
    "Using `stratify_by=[\"pulse_soc\"]` ensures that every batch created from the feature set contains an equal distribution of pulse states of charge (SOC).   \n",
    "\n",
    "Attaching the sampler to `TrainingPhase` is done with a key:value entry in a dictionary. \n",
    "The key must be the name of FeatureSet or FeatureSubset (e.g., 'ChargePulseFeatures' or 'ChargePulseFeatures.train')"
   ]
  },
  {
   "cell_type": "code",
   "execution_count": 6,
   "id": "6dd4a462",
   "metadata": {},
   "outputs": [],
   "source": [
    "from modularml.core import TrainingPhase\n",
    "\n",
    "phase1 = TrainingPhase(\n",
    "\tlabel=\"train_phase\",\n",
    "\tlosses=[mse_loss, ],\n",
    "\tsamplers={'ChargePulseFeatures.train': sampler},\n",
    "\tbatch_size=32,\n",
    "\tn_epochs=50\n",
    ")"
   ]
  },
  {
   "cell_type": "markdown",
   "id": "3c480e26",
   "metadata": {},
   "source": [
    "We now have a fully-configured TrainingPhase, that utilizes the 'train' subset of the 'ChargePulseFeatures' FeatureSet.\n",
    "An MSE loss is applied to the single MLP regressor ModelStage."
   ]
  },
  {
   "cell_type": "markdown",
   "id": "11a69350",
   "metadata": {},
   "source": [
    "## Create and Run the Experiment\n",
    "\n",
    "The `Experiment` container manages both training and evaluation phases. \n",
    "It takes a `ModelGraph` and one or more phases (training or evaluation).\n",
    "\n",
    "Calling `.run()` will automatically execute all training phases and manage phase-level loss computation, sampling, and optimizer stepping."
   ]
  },
  {
   "cell_type": "code",
   "execution_count": 7,
   "id": "dfa7cf95",
   "metadata": {},
   "outputs": [
    {
     "name": "stdout",
     "output_type": "stream",
     "text": [
      "Executing TrainingPhase: train_phase\n",
      "  > Training\n",
      "    - Epoch 0: Avg. sample loss = 4687.2832\n",
      "    - Epoch 10: Avg. sample loss = 71.0091\n",
      "    - Epoch 20: Avg. sample loss = 64.6208\n",
      "    - Epoch 30: Avg. sample loss = 56.3013\n",
      "    - Epoch 40: Avg. sample loss = 46.1204\n"
     ]
    }
   ],
   "source": [
    "# Initialize and run the experiment\n",
    "from modularml.core import Experiment\n",
    "\n",
    "exp = Experiment(\n",
    "    graph=mg,\n",
    "    phases=[phase1, ],\n",
    ")\n",
    "\n",
    "# Calling run() will execute all phases in Experiment.phases\n",
    "# These are run in the order they are provided\n",
    "exp.run()"
   ]
  },
  {
   "cell_type": "markdown",
   "id": "3d786237",
   "metadata": {},
   "source": [
    "While we could pass multiple stage right to Experiment during construction, it is sometimes useful during the exploratory stage to run one stage at a time and then evaluate the model.\n",
    "\n",
    "This can be achieved by using the `run_training_phase` or `run_evaluation_phase` methods, which both take in a single phase to execute."
   ]
  },
  {
   "cell_type": "markdown",
   "id": "85af3574",
   "metadata": {},
   "source": [
    "# Define and Run Evaluation Phases\n",
    "\n",
    "Evaluation of the ModelGraph utilizes a separate `EvaluationPhase` class, which provides functionality catered explciity to ModelGraph evaluation and not training. \n",
    "\n",
    "`EvaluationPhase` utilizes a very similar constructor (minus `n_epochs`), and the `losses` argument is optional.\n",
    "\n",
    "Here, we define three `EvaluationPhase` objects for the train, val, and test splits of our 'ChargePulseFeatures' FeatureSet. \n",
    "Each uses the same MSE loss but samples from different subsets of the dataset during each EvaluationPhase."
   ]
  },
  {
   "cell_type": "code",
   "execution_count": 8,
   "id": "476a058d",
   "metadata": {},
   "outputs": [],
   "source": [
    "from modularml.core import EvaluationPhase\n",
    "\n",
    "# Define evaluation phases\n",
    "eval_train_phase = EvaluationPhase(\n",
    "    label='eval_train_set',\n",
    "    samplers={\"ChargePulseFeatures.train\": FeatureSampler(shuffle=True, seed=13)},\n",
    "    batch_size=64,\n",
    "    losses=[mse_loss]\n",
    ")\n",
    "eval_val_phase = EvaluationPhase(\n",
    "    label='eval_val_set',\n",
    "    samplers={\"ChargePulseFeatures.val\": FeatureSampler(shuffle=True, seed=13)},\n",
    "    batch_size=64,\n",
    "    losses=[mse_loss]\n",
    ")\n",
    "eval_test_phase = EvaluationPhase(\n",
    "    label='eval_test_set',\n",
    "    samplers={\"ChargePulseFeatures.test\": FeatureSampler(shuffle=True, seed=13)},\n",
    "    batch_size=64,\n",
    "    losses=[mse_loss]\n",
    ")"
   ]
  },
  {
   "cell_type": "markdown",
   "id": "38e21e77",
   "metadata": {},
   "source": [
    "The `run_evaluation_phase` method return the ModelGraph outputs keyed by the ModelStage and traced to each originating sample unique identifier (`'sample_uuid'`).\n",
    "\n",
    "The outputs are returned as a single dict of lists, but it is easier to visualize as a dataframe. \n",
    "Each row corresponds to a unique Sample drawn from the `ChargePulseFeatures.train` subset, its corresponding role, and each ModelStage's output of that sample."
   ]
  },
  {
   "cell_type": "code",
   "execution_count": 9,
   "id": "3ecb5947",
   "metadata": {},
   "outputs": [
    {
     "name": "stdout",
     "output_type": "stream",
     "text": [
      "Executing EvaluationPhase: eval_train_set\n",
      "  > Evaluating\n",
      "    - Avg. sample loss = 35.2520\n"
     ]
    },
    {
     "data": {
      "application/vnd.microsoft.datawrangler.viewer.v0+json": {
       "columns": [
        {
         "name": "index",
         "rawType": "int64",
         "type": "integer"
        },
        {
         "name": "Regressor.output",
         "rawType": "object",
         "type": "unknown"
        },
        {
         "name": "role",
         "rawType": "object",
         "type": "string"
        },
        {
         "name": "sample_uuid",
         "rawType": "object",
         "type": "string"
        }
       ],
       "ref": "90b7b2ab-7c39-46c1-922d-a03afa0940a4",
       "rows": [
        [
         "0",
         "[[90.4444808959961]]",
         "default",
         "e42012e7-432f-4e12-9a13-48d92adb2408"
        ],
        [
         "1",
         "[[79.60868072509766]]",
         "default",
         "f6d0a19d-114f-40fa-83ea-568541b79991"
        ],
        [
         "2",
         "[[97.10317993164062]]",
         "default",
         "a02fa241-8df9-4902-9c12-03729aec957f"
        ],
        [
         "3",
         "[[79.30593872070312]]",
         "default",
         "9e9b8ae2-f232-4146-816e-ab6f6310e2cb"
        ],
        [
         "4",
         "[[70.89707946777344]]",
         "default",
         "1e65db21-b6e5-43ef-ab90-3431440cf7bc"
        ],
        [
         "5",
         "[[69.60684967041016]]",
         "default",
         "2b6040e3-8862-46d9-9c5f-5da340c88387"
        ],
        [
         "6",
         "[[77.44612884521484]]",
         "default",
         "a1fadd69-2e2b-4036-9c92-5da441b2c4e1"
        ],
        [
         "7",
         "[[89.0295181274414]]",
         "default",
         "b7441f51-a729-4eb1-bdd1-20a9cedb1ac9"
        ],
        [
         "8",
         "[[71.27194213867188]]",
         "default",
         "9c7dcf68-c4f0-4341-b3af-3a0387a59c09"
        ],
        [
         "9",
         "[[83.20100402832031]]",
         "default",
         "f57e8c1c-bd67-4e83-8c14-f080633018e5"
        ],
        [
         "10",
         "[[89.44670104980469]]",
         "default",
         "8d9a75b3-ff67-4715-b331-980a44069e49"
        ],
        [
         "11",
         "[[75.37984466552734]]",
         "default",
         "0ba91fa9-9718-48da-99e8-4ee432d1c945"
        ],
        [
         "12",
         "[[79.9026870727539]]",
         "default",
         "b53156e6-2ff6-4727-adb1-83de1e385a4f"
        ],
        [
         "13",
         "[[79.19137573242188]]",
         "default",
         "97834aa7-355d-4a03-b14a-086f24071d95"
        ],
        [
         "14",
         "[[66.35759735107422]]",
         "default",
         "293b6098-6272-44c6-8537-21c4c29af16a"
        ],
        [
         "15",
         "[[84.17035675048828]]",
         "default",
         "85c5a4b2-4e2b-4bde-852b-8ba5e6260260"
        ],
        [
         "16",
         "[[62.561954498291016]]",
         "default",
         "656f6f94-0d67-45af-bdd2-c689c82d2878"
        ],
        [
         "17",
         "[[87.7249984741211]]",
         "default",
         "e6a578e8-a677-4f34-98e4-2821326d4a77"
        ],
        [
         "18",
         "[[90.84392547607422]]",
         "default",
         "502d0ac0-7f3a-4d0f-8ef3-1383b51b8969"
        ],
        [
         "19",
         "[[90.68799591064453]]",
         "default",
         "b2c8dee2-a04d-4a91-ad2e-d68e5ccf4454"
        ],
        [
         "20",
         "[[85.71802520751953]]",
         "default",
         "e04c599c-78d6-4728-9e93-8cda6ccfca75"
        ],
        [
         "21",
         "[[83.69145202636719]]",
         "default",
         "793aadb7-63bd-4361-a22b-5644cf8a7f5f"
        ],
        [
         "22",
         "[[95.15393829345703]]",
         "default",
         "d6c3a49e-f75a-450e-afcf-290f01c9926d"
        ],
        [
         "23",
         "[[81.8660659790039]]",
         "default",
         "236ae6f3-741c-4a38-ba3b-f2e711be7163"
        ],
        [
         "24",
         "[[83.78075408935547]]",
         "default",
         "131019b9-f16f-4ba6-8d01-06f33735c68b"
        ],
        [
         "25",
         "[[71.27278900146484]]",
         "default",
         "a3994b9a-10fd-4445-ad79-ae92e97d6b04"
        ],
        [
         "26",
         "[[70.12714385986328]]",
         "default",
         "e2c7a01c-b541-4674-9e32-1e669862444a"
        ],
        [
         "27",
         "[[73.69093322753906]]",
         "default",
         "a9cff4de-3f1d-4d2e-84c5-f1d4d7caf403"
        ],
        [
         "28",
         "[[91.1749038696289]]",
         "default",
         "d3dd8dc6-1005-434f-94e5-a19debd96a5b"
        ],
        [
         "29",
         "[[87.65033721923828]]",
         "default",
         "3995b9be-ef3b-4678-8973-e997791779a6"
        ],
        [
         "30",
         "[[85.69922637939453]]",
         "default",
         "39cebe61-216f-4eb0-9a43-f94ec9545dbd"
        ],
        [
         "31",
         "[[96.1349105834961]]",
         "default",
         "89ce3b12-042e-4627-8292-5a7dc5f80c32"
        ],
        [
         "32",
         "[[90.17784881591797]]",
         "default",
         "5d023eda-21d1-476f-840c-86e1748334d7"
        ],
        [
         "33",
         "[[78.97309112548828]]",
         "default",
         "ead53196-12d5-4d26-8114-3b35be588e84"
        ],
        [
         "34",
         "[[73.6764144897461]]",
         "default",
         "c3bf9ed4-52b3-4743-bedf-a4c9602217db"
        ],
        [
         "35",
         "[[86.05630493164062]]",
         "default",
         "4ae883cd-167b-4473-981c-e02621ae9aa7"
        ],
        [
         "36",
         "[[91.40907287597656]]",
         "default",
         "02defc88-e349-495c-bec9-7d35990c70fc"
        ],
        [
         "37",
         "[[91.4189682006836]]",
         "default",
         "916228f1-1c3b-4c85-94d6-da0452347f2b"
        ],
        [
         "38",
         "[[77.64708709716797]]",
         "default",
         "e3c3c247-25de-48a5-a9f6-1eb3fad992ed"
        ],
        [
         "39",
         "[[92.98017120361328]]",
         "default",
         "d3f18401-a5f4-4485-a2e5-317dc39446fb"
        ],
        [
         "40",
         "[[89.213134765625]]",
         "default",
         "76a00976-0cd9-41a6-b563-5403bca5c85f"
        ],
        [
         "41",
         "[[96.25689697265625]]",
         "default",
         "522f4f0e-4f2e-4043-a481-161a6dd48bb9"
        ],
        [
         "42",
         "[[92.21133422851562]]",
         "default",
         "9c2f26f2-8ff7-4797-9c96-6ca87e456a2a"
        ],
        [
         "43",
         "[[78.94287872314453]]",
         "default",
         "d45eba92-66ff-4057-bfe7-9694f13171b8"
        ],
        [
         "44",
         "[[82.70489501953125]]",
         "default",
         "d82acdde-6a57-4355-92c7-0b76c77ed515"
        ],
        [
         "45",
         "[[81.46862030029297]]",
         "default",
         "bcd1efea-9b95-4fcb-9ace-d3eeaaca2a78"
        ],
        [
         "46",
         "[[85.54292297363281]]",
         "default",
         "432629a1-845e-422f-8d7d-100b2214c6e4"
        ],
        [
         "47",
         "[[93.91015625]]",
         "default",
         "7865a5ed-088c-49a9-ba43-c74984ba4bd0"
        ],
        [
         "48",
         "[[87.25340270996094]]",
         "default",
         "e1f57ee1-a0ef-49f2-aab7-a96740041173"
        ],
        [
         "49",
         "[[72.224365234375]]",
         "default",
         "bb47ab17-5492-43c5-b5f4-e45e0370ec7c"
        ]
       ],
       "shape": {
        "columns": 3,
        "rows": 5607
       }
      },
      "text/html": [
       "<div>\n",
       "<style scoped>\n",
       "    .dataframe tbody tr th:only-of-type {\n",
       "        vertical-align: middle;\n",
       "    }\n",
       "\n",
       "    .dataframe tbody tr th {\n",
       "        vertical-align: top;\n",
       "    }\n",
       "\n",
       "    .dataframe thead th {\n",
       "        text-align: right;\n",
       "    }\n",
       "</style>\n",
       "<table border=\"1\" class=\"dataframe\">\n",
       "  <thead>\n",
       "    <tr style=\"text-align: right;\">\n",
       "      <th></th>\n",
       "      <th>Regressor.output</th>\n",
       "      <th>role</th>\n",
       "      <th>sample_uuid</th>\n",
       "    </tr>\n",
       "  </thead>\n",
       "  <tbody>\n",
       "    <tr>\n",
       "      <th>0</th>\n",
       "      <td>[[90.4444808959961]]</td>\n",
       "      <td>default</td>\n",
       "      <td>e42012e7-432f-4e12-9a13-48d92adb2408</td>\n",
       "    </tr>\n",
       "    <tr>\n",
       "      <th>1</th>\n",
       "      <td>[[79.60868072509766]]</td>\n",
       "      <td>default</td>\n",
       "      <td>f6d0a19d-114f-40fa-83ea-568541b79991</td>\n",
       "    </tr>\n",
       "    <tr>\n",
       "      <th>2</th>\n",
       "      <td>[[97.10317993164062]]</td>\n",
       "      <td>default</td>\n",
       "      <td>a02fa241-8df9-4902-9c12-03729aec957f</td>\n",
       "    </tr>\n",
       "    <tr>\n",
       "      <th>3</th>\n",
       "      <td>[[79.30593872070312]]</td>\n",
       "      <td>default</td>\n",
       "      <td>9e9b8ae2-f232-4146-816e-ab6f6310e2cb</td>\n",
       "    </tr>\n",
       "    <tr>\n",
       "      <th>4</th>\n",
       "      <td>[[70.89707946777344]]</td>\n",
       "      <td>default</td>\n",
       "      <td>1e65db21-b6e5-43ef-ab90-3431440cf7bc</td>\n",
       "    </tr>\n",
       "    <tr>\n",
       "      <th>...</th>\n",
       "      <td>...</td>\n",
       "      <td>...</td>\n",
       "      <td>...</td>\n",
       "    </tr>\n",
       "    <tr>\n",
       "      <th>5602</th>\n",
       "      <td>[[66.80811309814453]]</td>\n",
       "      <td>default</td>\n",
       "      <td>1796f3ae-03b5-43a8-8cd2-5a7275e90133</td>\n",
       "    </tr>\n",
       "    <tr>\n",
       "      <th>5603</th>\n",
       "      <td>[[88.35926818847656]]</td>\n",
       "      <td>default</td>\n",
       "      <td>f0fa19d4-8c84-4674-8630-68be2168614b</td>\n",
       "    </tr>\n",
       "    <tr>\n",
       "      <th>5604</th>\n",
       "      <td>[[84.05838775634766]]</td>\n",
       "      <td>default</td>\n",
       "      <td>87ed248b-ba6d-482d-a108-29bca8e83039</td>\n",
       "    </tr>\n",
       "    <tr>\n",
       "      <th>5605</th>\n",
       "      <td>[[82.83334350585938]]</td>\n",
       "      <td>default</td>\n",
       "      <td>38d829ba-17e4-4058-9a94-05aea317d2fc</td>\n",
       "    </tr>\n",
       "    <tr>\n",
       "      <th>5606</th>\n",
       "      <td>[[87.31436157226562]]</td>\n",
       "      <td>default</td>\n",
       "      <td>2c49ea39-591c-4518-909e-f2508262c8d4</td>\n",
       "    </tr>\n",
       "  </tbody>\n",
       "</table>\n",
       "<p>5607 rows × 3 columns</p>\n",
       "</div>"
      ],
      "text/plain": [
       "           Regressor.output     role                           sample_uuid\n",
       "0      [[90.4444808959961]]  default  e42012e7-432f-4e12-9a13-48d92adb2408\n",
       "1     [[79.60868072509766]]  default  f6d0a19d-114f-40fa-83ea-568541b79991\n",
       "2     [[97.10317993164062]]  default  a02fa241-8df9-4902-9c12-03729aec957f\n",
       "3     [[79.30593872070312]]  default  9e9b8ae2-f232-4146-816e-ab6f6310e2cb\n",
       "4     [[70.89707946777344]]  default  1e65db21-b6e5-43ef-ab90-3431440cf7bc\n",
       "...                     ...      ...                                   ...\n",
       "5602  [[66.80811309814453]]  default  1796f3ae-03b5-43a8-8cd2-5a7275e90133\n",
       "5603  [[88.35926818847656]]  default  f0fa19d4-8c84-4674-8630-68be2168614b\n",
       "5604  [[84.05838775634766]]  default  87ed248b-ba6d-482d-a108-29bca8e83039\n",
       "5605  [[82.83334350585938]]  default  38d829ba-17e4-4058-9a94-05aea317d2fc\n",
       "5606  [[87.31436157226562]]  default  2c49ea39-591c-4518-909e-f2508262c8d4\n",
       "\n",
       "[5607 rows x 3 columns]"
      ]
     },
     "execution_count": 9,
     "metadata": {},
     "output_type": "execute_result"
    }
   ],
   "source": [
    "import pandas as pd\n",
    "\n",
    "output = exp.run_evaluation_phase(eval_train_phase)\n",
    "pd.DataFrame(output)"
   ]
  },
  {
   "cell_type": "markdown",
   "id": "f0c63c27",
   "metadata": {},
   "source": [
    "With this evaluation output, we can trace back each ModelStage's output to the actual feature and target data using `FeatureSet.get_samples_with_uuid`"
   ]
  },
  {
   "cell_type": "code",
   "execution_count": 10,
   "id": "9e153f4e",
   "metadata": {},
   "outputs": [
    {
     "name": "stdout",
     "output_type": "stream",
     "text": [
      "Features: (5607, 1, 101)\n",
      "Targets:  (5607, 1, 1)\n"
     ]
    }
   ],
   "source": [
    "# Get all samples from charge_samples with matching sample_uuid\n",
    "temp = charge_samples.get_samples_with_uuid(output['sample_uuid'])\n",
    "\n",
    "# Get the feature data from these samples\n",
    "features = temp.get_all_features(format=mml.DataFormat.NUMPY)\n",
    "print(\"Features:\", features.shape)\n",
    "\n",
    "# Get the target data from these samples\n",
    "targets = temp.get_all_targets(format=mml.DataFormat.NUMPY)\n",
    "print(\"Targets: \", targets.shape)"
   ]
  },
  {
   "cell_type": "markdown",
   "id": "5081136c",
   "metadata": {},
   "source": [
    "With a regression task like ours, it is useful to construct parity plots for all three feature subsets (train, val, test). \n",
    "\n",
    "Access to these model outputs via the `run_evaluation_phase` output make this very simple.\n"
   ]
  },
  {
   "cell_type": "code",
   "execution_count": 11,
   "id": "7ca21bc9",
   "metadata": {},
   "outputs": [],
   "source": [
    "from modularml.utils.data_format import convert_to_format\n",
    "\n",
    "# Get the model prediction and convert to numpy array\n",
    "predictions = convert_to_format(output['Regressor.output'], format=mml.DataFormat.NUMPY)\n",
    "\n",
    "# Reshape the true and predicted values to a flat array for plotting\n",
    "predictions = predictions.reshape(-1)\n",
    "true = targets.reshape(-1)"
   ]
  },
  {
   "cell_type": "code",
   "execution_count": 12,
   "id": "f98f0eaf",
   "metadata": {},
   "outputs": [
    {
     "data": {
      "image/png": "[encoded data removed]",
      "text/plain": [
       "<Figure size 800x300 with 1 Axes>"
      ]
     },
     "metadata": {},
     "output_type": "display_data"
    }
   ],
   "source": [
    "import matplotlib.pyplot as plt\n",
    "\n",
    "plt.figure(figsize=(8,3))\n",
    "plt.scatter(true, predictions)\n",
    "plt.show()"
   ]
  },
  {
   "cell_type": "markdown",
   "id": "d905b3f6",
   "metadata": {},
   "source": [
    "Let's make a function so we can reuse this plotting logic for each evaluation run."
   ]
  },
  {
   "cell_type": "code",
   "execution_count": 13,
   "id": "a56d2cc4",
   "metadata": {},
   "outputs": [
    {
     "name": "stdout",
     "output_type": "stream",
     "text": [
      "Executing EvaluationPhase: eval_train_set\n",
      "  > Evaluating\n",
      "    - Avg. sample loss = 35.2520\n",
      "Executing EvaluationPhase: eval_val_set\n",
      "  > Evaluating\n",
      "    - Avg. sample loss = 26.0650\n",
      "Executing EvaluationPhase: eval_test_set\n",
      "  > Evaluating\n",
      "    - Avg. sample loss = 62.4505\n"
     ]
    },
    {
     "data": {
      "image/png": "[encoded data removed]",
      "text/plain": [
       "<Figure size 800x200 with 3 Axes>"
      ]
     },
     "metadata": {},
     "output_type": "display_data"
    }
   ],
   "source": [
    "def plot_parity(pred, true, fig, ax):\n",
    "    ax.scatter(true, pred)\n",
    "    ax.axline((0,0), (1,1), color='black', linestyle='--')\n",
    "    return fig, ax\n",
    "\n",
    "eval_phases = [('train', eval_train_phase), ('val', eval_val_phase), ('test', eval_test_phase)]\n",
    "fig, axes = plt.subplots(figsize=(8,2), ncols=3, sharex=True, sharey=True)\n",
    "for i, (subset, phase) in enumerate(eval_phases):\n",
    "    \n",
    "    output = exp.run_evaluation_phase(phase)\n",
    "    temp = charge_samples.get_samples_with_uuid(output['sample_uuid'])\n",
    "    true = temp.get_all_targets(format=mml.DataFormat.NUMPY).reshape(-1)\n",
    "    pred = convert_to_format(output['Regressor.output'], format=mml.DataFormat.NUMPY).reshape(-1)\n",
    "    \n",
    "    fig, axes[i] = plot_parity(pred, true, fig=fig, ax=axes[i])\n",
    "    axes[i].set_xlabel(\"Predicted SOH (%)\") \n",
    "    axes[i].set_title(subset) \n",
    "    axes[i].grid()\n",
    "\n",
    "axes[0].set_ylabel(\"True SOH (%)\") \n",
    "axes[0].set_xlim(30, 105)\n",
    "axes[0].set_ylim(30, 105)\n",
    "plt.show()"
   ]
  },
  {
   "cell_type": "markdown",
   "id": "49adf6ed",
   "metadata": {},
   "source": [
    "Not too bad for a simple model, but there's definitely room to improve. \n",
    "In the next notebook, we will explore the just how quickly will can iterate over experiment configurations with ModularML."
   ]
  },
  {
   "cell_type": "markdown",
   "id": "fc5b6fa7",
   "metadata": {},
   "source": [
    "## Summary\n",
    "\n",
    "This notebook demonstrated how to:\n",
    "\n",
    "- Build a ModelGraph with PyTorch backends\n",
    "- Define training and evaluation phases\n",
    "- Manage end-to-end execution with the Experiment container\n",
    "- Visualize model performance\n",
    "\n",
    "\n",
    "This concludes the **03_training_and_evaluation.ipynb** notebook.\n",
    "\n",
    "The next tutorial explain `Experiment` tracking and rapid iteration: *...coming soon*"
   ]
  }
 ],
 "metadata": {
  "kernelspec": {
   "display_name": "envModularML",
   "language": "python",
   "name": "python3"
  },
  "language_info": {
   "codemirror_mode": {
    "name": "ipython",
    "version": 3
   },
   "file_extension": ".py",
   "mimetype": "text/x-python",
   "name": "python",
   "nbconvert_exporter": "python",
   "pygments_lexer": "ipython3",
   "version": "3.10.13"
  }
 },
 "nbformat": 4,
 "nbformat_minor": 5
}
