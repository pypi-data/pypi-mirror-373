{
 "cells": [
  {
   "cell_type": "code",
   "execution_count": null,
   "id": "afaef033",
   "metadata": {},
   "outputs": [],
   "source": [
    "from tinyshift.modelling import TransactionAnalyzer"
   ]
  },
  {
   "cell_type": "code",
   "execution_count": 14,
   "id": "4fba6c31",
   "metadata": {},
   "outputs": [],
   "source": [
    "filepath = './data/groceries.csv'\n",
    "\n",
    "with open(filepath) as file:\n",
    "    groceries = [line.strip().split(',') for line in file.readlines()]"
   ]
  },
  {
   "cell_type": "code",
   "execution_count": 15,
   "id": "56f1243b",
   "metadata": {},
   "outputs": [],
   "source": [
    "encoder = TransactionAnalyzer().fit(groceries)\n",
    "encoder.save(\"./data/model.pkl\")\n",
    "encoder = TransactionAnalyzer.load(\"./data/model.pkl\")"
   ]
  },
  {
   "cell_type": "code",
   "execution_count": 16,
   "id": "8ddb01b3",
   "metadata": {},
   "outputs": [
    {
     "data": {
      "text/plain": [
       "np.float64(0.4975078519732349)"
      ]
     },
     "execution_count": 16,
     "metadata": {},
     "output_type": "execute_result"
    }
   ],
   "source": [
    "encoder.zhang_metric(\"whole milk\", \"white bread\")"
   ]
  },
  {
   "cell_type": "markdown",
   "id": "7a18bac4",
   "metadata": {},
   "source": [
    "# Lift"
   ]
  },
  {
   "cell_type": "code",
   "execution_count": 17,
   "id": "a21ea880",
   "metadata": {},
   "outputs": [
    {
     "data": {
      "text/html": [
       "<div>\n",
       "<style scoped>\n",
       "    .dataframe tbody tr th:only-of-type {\n",
       "        vertical-align: middle;\n",
       "    }\n",
       "\n",
       "    .dataframe tbody tr th {\n",
       "        vertical-align: top;\n",
       "    }\n",
       "\n",
       "    .dataframe thead th {\n",
       "        text-align: right;\n",
       "    }\n",
       "</style>\n",
       "<table border=\"1\" class=\"dataframe\">\n",
       "  <thead>\n",
       "    <tr style=\"text-align: right;\">\n",
       "      <th></th>\n",
       "      <th>butter</th>\n",
       "      <th>cereals</th>\n",
       "      <th>waffles</th>\n",
       "      <th>white wine</th>\n",
       "      <th>yogurt</th>\n",
       "    </tr>\n",
       "  </thead>\n",
       "  <tbody>\n",
       "    <tr>\n",
       "      <th>white bread</th>\n",
       "      <td>1.830927</td>\n",
       "      <td>1.272774</td>\n",
       "      <td>2.199857</td>\n",
       "      <td>0.635253</td>\n",
       "      <td>1.541183</td>\n",
       "    </tr>\n",
       "    <tr>\n",
       "      <th>whole milk</th>\n",
       "      <td>1.946251</td>\n",
       "      <td>2.516173</td>\n",
       "      <td>1.294328</td>\n",
       "      <td>0.544199</td>\n",
       "      <td>1.571895</td>\n",
       "    </tr>\n",
       "  </tbody>\n",
       "</table>\n",
       "</div>"
      ],
      "text/plain": [
       "               butter   cereals   waffles  white wine    yogurt\n",
       "white bread  1.830927  1.272774  2.199857    0.635253  1.541183\n",
       "whole milk   1.946251  2.516173  1.294328    0.544199  1.571895"
      ]
     },
     "execution_count": 17,
     "metadata": {},
     "output_type": "execute_result"
    }
   ],
   "source": [
    "encoder.correlation_matrix([\"whole milk\", \"white bread\"], [\"white wine\", \"yogurt\", \"waffles\", \"butter\", \"cereals\"], metric=\"lift\")"
   ]
  },
  {
   "cell_type": "markdown",
   "id": "73b4a243",
   "metadata": {},
   "source": [
    "## Zhang's Metric"
   ]
  },
  {
   "cell_type": "code",
   "execution_count": 18,
   "id": "07099697",
   "metadata": {},
   "outputs": [
    {
     "data": {
      "text/html": [
       "<div>\n",
       "<style scoped>\n",
       "    .dataframe tbody tr th:only-of-type {\n",
       "        vertical-align: middle;\n",
       "    }\n",
       "\n",
       "    .dataframe tbody tr th {\n",
       "        vertical-align: top;\n",
       "    }\n",
       "\n",
       "    .dataframe thead th {\n",
       "        text-align: right;\n",
       "    }\n",
       "</style>\n",
       "<table border=\"1\" class=\"dataframe\">\n",
       "  <thead>\n",
       "    <tr style=\"text-align: right;\">\n",
       "      <th></th>\n",
       "      <th>butter</th>\n",
       "      <th>cereals</th>\n",
       "      <th>waffles</th>\n",
       "      <th>white wine</th>\n",
       "      <th>yogurt</th>\n",
       "    </tr>\n",
       "  </thead>\n",
       "  <tbody>\n",
       "    <tr>\n",
       "      <th>white bread</th>\n",
       "      <td>0.473770</td>\n",
       "      <td>0.223732</td>\n",
       "      <td>0.569391</td>\n",
       "      <td>-0.374768</td>\n",
       "      <td>0.366577</td>\n",
       "    </tr>\n",
       "    <tr>\n",
       "      <th>whole milk</th>\n",
       "      <td>0.653036</td>\n",
       "      <td>0.809353</td>\n",
       "      <td>0.305433</td>\n",
       "      <td>-0.529409</td>\n",
       "      <td>0.488677</td>\n",
       "    </tr>\n",
       "  </tbody>\n",
       "</table>\n",
       "</div>"
      ],
      "text/plain": [
       "               butter   cereals   waffles  white wine    yogurt\n",
       "white bread  0.473770  0.223732  0.569391   -0.374768  0.366577\n",
       "whole milk   0.653036  0.809353  0.305433   -0.529409  0.488677"
      ]
     },
     "execution_count": 18,
     "metadata": {},
     "output_type": "execute_result"
    }
   ],
   "source": [
    "encoder.correlation_matrix([\"whole milk\", \"white bread\"], [\"white wine\", \"yogurt\", \"waffles\", \"butter\", \"cereals\"], metric=\"zhang\")"
   ]
  },
  {
   "cell_type": "markdown",
   "id": "42980092",
   "metadata": {},
   "source": [
    "## Confidence"
   ]
  },
  {
   "cell_type": "code",
   "execution_count": 19,
   "id": "99cf6279",
   "metadata": {},
   "outputs": [
    {
     "data": {
      "text/html": [
       "<div>\n",
       "<style scoped>\n",
       "    .dataframe tbody tr th:only-of-type {\n",
       "        vertical-align: middle;\n",
       "    }\n",
       "\n",
       "    .dataframe tbody tr th {\n",
       "        vertical-align: top;\n",
       "    }\n",
       "\n",
       "    .dataframe thead th {\n",
       "        text-align: right;\n",
       "    }\n",
       "</style>\n",
       "<table border=\"1\" class=\"dataframe\">\n",
       "  <thead>\n",
       "    <tr style=\"text-align: right;\">\n",
       "      <th></th>\n",
       "      <th>butter</th>\n",
       "      <th>cereals</th>\n",
       "      <th>waffles</th>\n",
       "      <th>white wine</th>\n",
       "      <th>yogurt</th>\n",
       "    </tr>\n",
       "  </thead>\n",
       "  <tbody>\n",
       "    <tr>\n",
       "      <th>white bread</th>\n",
       "      <td>0.101449</td>\n",
       "      <td>0.007246</td>\n",
       "      <td>0.084541</td>\n",
       "      <td>0.012077</td>\n",
       "      <td>0.214976</td>\n",
       "    </tr>\n",
       "    <tr>\n",
       "      <th>whole milk</th>\n",
       "      <td>0.107839</td>\n",
       "      <td>0.014326</td>\n",
       "      <td>0.049741</td>\n",
       "      <td>0.010346</td>\n",
       "      <td>0.219260</td>\n",
       "    </tr>\n",
       "  </tbody>\n",
       "</table>\n",
       "</div>"
      ],
      "text/plain": [
       "               butter   cereals   waffles  white wine    yogurt\n",
       "white bread  0.101449  0.007246  0.084541    0.012077  0.214976\n",
       "whole milk   0.107839  0.014326  0.049741    0.010346  0.219260"
      ]
     },
     "execution_count": 19,
     "metadata": {},
     "output_type": "execute_result"
    }
   ],
   "source": [
    "encoder.correlation_matrix([\"whole milk\", \"white bread\"], [\"white wine\", \"yogurt\", \"waffles\", \"butter\", \"cereals\"], metric=\"confidence\")"
   ]
  },
  {
   "cell_type": "markdown",
   "id": "a0ac56dd",
   "metadata": {},
   "source": [
    "## Conviction"
   ]
  },
  {
   "cell_type": "code",
   "execution_count": 20,
   "id": "82e5141e",
   "metadata": {},
   "outputs": [
    {
     "data": {
      "text/html": [
       "<div>\n",
       "<style scoped>\n",
       "    .dataframe tbody tr th:only-of-type {\n",
       "        vertical-align: middle;\n",
       "    }\n",
       "\n",
       "    .dataframe tbody tr th {\n",
       "        vertical-align: top;\n",
       "    }\n",
       "\n",
       "    .dataframe thead th {\n",
       "        text-align: right;\n",
       "    }\n",
       "</style>\n",
       "<table border=\"1\" class=\"dataframe\">\n",
       "  <thead>\n",
       "    <tr style=\"text-align: right;\">\n",
       "      <th></th>\n",
       "      <th>butter</th>\n",
       "      <th>cereals</th>\n",
       "      <th>waffles</th>\n",
       "      <th>white wine</th>\n",
       "      <th>yogurt</th>\n",
       "    </tr>\n",
       "  </thead>\n",
       "  <tbody>\n",
       "    <tr>\n",
       "      <th>white bread</th>\n",
       "      <td>1.051239</td>\n",
       "      <td>1.001564</td>\n",
       "      <td>1.050369</td>\n",
       "      <td>0.992981</td>\n",
       "      <td>1.096160</td>\n",
       "    </tr>\n",
       "    <tr>\n",
       "      <th>whole milk</th>\n",
       "      <td>1.058768</td>\n",
       "      <td>1.008758</td>\n",
       "      <td>1.011903</td>\n",
       "      <td>0.991244</td>\n",
       "      <td>1.102175</td>\n",
       "    </tr>\n",
       "  </tbody>\n",
       "</table>\n",
       "</div>"
      ],
      "text/plain": [
       "               butter   cereals   waffles  white wine    yogurt\n",
       "white bread  1.051239  1.001564  1.050369    0.992981  1.096160\n",
       "whole milk   1.058768  1.008758  1.011903    0.991244  1.102175"
      ]
     },
     "execution_count": 20,
     "metadata": {},
     "output_type": "execute_result"
    }
   ],
   "source": [
    "encoder.correlation_matrix([\"whole milk\", \"white bread\"], [\"white wine\", \"yogurt\", \"waffles\", \"butter\", \"cereals\"], metric=\"conviction\")"
   ]
  },
  {
   "cell_type": "markdown",
   "id": "fef4ff49",
   "metadata": {},
   "source": [
    "## Yule's Q"
   ]
  },
  {
   "cell_type": "code",
   "execution_count": 21,
   "id": "5c709019",
   "metadata": {},
   "outputs": [
    {
     "data": {
      "text/html": [
       "<div>\n",
       "<style scoped>\n",
       "    .dataframe tbody tr th:only-of-type {\n",
       "        vertical-align: middle;\n",
       "    }\n",
       "\n",
       "    .dataframe tbody tr th {\n",
       "        vertical-align: top;\n",
       "    }\n",
       "\n",
       "    .dataframe thead th {\n",
       "        text-align: right;\n",
       "    }\n",
       "</style>\n",
       "<table border=\"1\" class=\"dataframe\">\n",
       "  <thead>\n",
       "    <tr style=\"text-align: right;\">\n",
       "      <th></th>\n",
       "      <th>butter</th>\n",
       "      <th>cereals</th>\n",
       "      <th>waffles</th>\n",
       "      <th>white wine</th>\n",
       "      <th>yogurt</th>\n",
       "    </tr>\n",
       "  </thead>\n",
       "  <tbody>\n",
       "    <tr>\n",
       "      <th>white bread</th>\n",
       "      <td>0.333768</td>\n",
       "      <td>0.126759</td>\n",
       "      <td>0.419348</td>\n",
       "      <td>-0.234072</td>\n",
       "      <td>0.269328</td>\n",
       "    </tr>\n",
       "    <tr>\n",
       "      <th>whole milk</th>\n",
       "      <td>0.513340</td>\n",
       "      <td>0.682891</td>\n",
       "      <td>0.187905</td>\n",
       "      <td>-0.365135</td>\n",
       "      <td>0.379674</td>\n",
       "    </tr>\n",
       "  </tbody>\n",
       "</table>\n",
       "</div>"
      ],
      "text/plain": [
       "               butter   cereals   waffles  white wine    yogurt\n",
       "white bread  0.333768  0.126759  0.419348   -0.234072  0.269328\n",
       "whole milk   0.513340  0.682891  0.187905   -0.365135  0.379674"
      ]
     },
     "execution_count": 21,
     "metadata": {},
     "output_type": "execute_result"
    }
   ],
   "source": [
    "encoder.correlation_matrix([\"whole milk\", \"white bread\"], [\"white wine\", \"yogurt\", \"waffles\", \"butter\", \"cereals\"], metric=\"yules_q\")"
   ]
  },
  {
   "cell_type": "markdown",
   "id": "b9159405",
   "metadata": {},
   "source": [
    "# Hypergeom"
   ]
  },
  {
   "cell_type": "code",
   "execution_count": 22,
   "id": "3e322efa",
   "metadata": {},
   "outputs": [
    {
     "data": {
      "text/html": [
       "<div>\n",
       "<style scoped>\n",
       "    .dataframe tbody tr th:only-of-type {\n",
       "        vertical-align: middle;\n",
       "    }\n",
       "\n",
       "    .dataframe tbody tr th {\n",
       "        vertical-align: top;\n",
       "    }\n",
       "\n",
       "    .dataframe thead th {\n",
       "        text-align: right;\n",
       "    }\n",
       "</style>\n",
       "<table border=\"1\" class=\"dataframe\">\n",
       "  <thead>\n",
       "    <tr style=\"text-align: right;\">\n",
       "      <th></th>\n",
       "      <th>butter</th>\n",
       "      <th>cereals</th>\n",
       "      <th>waffles</th>\n",
       "      <th>white wine</th>\n",
       "      <th>yogurt</th>\n",
       "    </tr>\n",
       "  </thead>\n",
       "  <tbody>\n",
       "    <tr>\n",
       "      <th>white bread</th>\n",
       "      <td>9.740633e-05</td>\n",
       "      <td>4.212790e-01</td>\n",
       "      <td>0.000009</td>\n",
       "      <td>0.899959</td>\n",
       "      <td>1.255924e-05</td>\n",
       "    </tr>\n",
       "    <tr>\n",
       "      <th>whole milk</th>\n",
       "      <td>8.127852e-36</td>\n",
       "      <td>1.076244e-09</td>\n",
       "      <td>0.000522</td>\n",
       "      <td>0.999969</td>\n",
       "      <td>5.997334e-38</td>\n",
       "    </tr>\n",
       "  </tbody>\n",
       "</table>\n",
       "</div>"
      ],
      "text/plain": [
       "                   butter       cereals   waffles  white wine        yogurt\n",
       "white bread  9.740633e-05  4.212790e-01  0.000009    0.899959  1.255924e-05\n",
       "whole milk   8.127852e-36  1.076244e-09  0.000522    0.999969  5.997334e-38"
      ]
     },
     "execution_count": 22,
     "metadata": {},
     "output_type": "execute_result"
    }
   ],
   "source": [
    "encoder.correlation_matrix([\"whole milk\", \"white bread\"], [\"white wine\", \"yogurt\", \"waffles\", \"butter\", \"cereals\"], metric=\"hypergeom\")"
   ]
  },
  {
   "cell_type": "code",
   "execution_count": 23,
   "id": "f2f10832",
   "metadata": {},
   "outputs": [
    {
     "data": {
      "text/html": [
       "<div>\n",
       "<style scoped>\n",
       "    .dataframe tbody tr th:only-of-type {\n",
       "        vertical-align: middle;\n",
       "    }\n",
       "\n",
       "    .dataframe tbody tr th {\n",
       "        vertical-align: top;\n",
       "    }\n",
       "\n",
       "    .dataframe thead th {\n",
       "        text-align: right;\n",
       "    }\n",
       "</style>\n",
       "<table border=\"1\" class=\"dataframe\">\n",
       "  <thead>\n",
       "    <tr style=\"text-align: right;\">\n",
       "      <th></th>\n",
       "      <th>butter</th>\n",
       "      <th>cereals</th>\n",
       "      <th>waffles</th>\n",
       "      <th>white wine</th>\n",
       "      <th>yogurt</th>\n",
       "    </tr>\n",
       "  </thead>\n",
       "  <tbody>\n",
       "    <tr>\n",
       "      <th>white bread</th>\n",
       "      <td>True</td>\n",
       "      <td>False</td>\n",
       "      <td>True</td>\n",
       "      <td>False</td>\n",
       "      <td>True</td>\n",
       "    </tr>\n",
       "    <tr>\n",
       "      <th>whole milk</th>\n",
       "      <td>True</td>\n",
       "      <td>True</td>\n",
       "      <td>True</td>\n",
       "      <td>False</td>\n",
       "      <td>True</td>\n",
       "    </tr>\n",
       "  </tbody>\n",
       "</table>\n",
       "</div>"
      ],
      "text/plain": [
       "             butter  cereals  waffles  white wine  yogurt\n",
       "white bread    True    False     True       False    True\n",
       "whole milk     True     True     True       False    True"
      ]
     },
     "execution_count": 23,
     "metadata": {},
     "output_type": "execute_result"
    }
   ],
   "source": [
    "encoder.correlation_matrix([\"whole milk\", \"white bread\"], [\"white wine\", \"yogurt\", \"waffles\", \"butter\", \"cereals\"], metric=\"hypergeom\") < 0.05"
   ]
  }
 ],
 "metadata": {
  "kernelspec": {
   "display_name": "tinyshift",
   "language": "python",
   "name": "python3"
  },
  "language_info": {
   "codemirror_mode": {
    "name": "ipython",
    "version": 3
   },
   "file_extension": ".py",
   "mimetype": "text/x-python",
   "name": "python",
   "nbconvert_exporter": "python",
   "pygments_lexer": "ipython3",
   "version": "3.10.16"
  }
 },
 "nbformat": 4,
 "nbformat_minor": 5
}
