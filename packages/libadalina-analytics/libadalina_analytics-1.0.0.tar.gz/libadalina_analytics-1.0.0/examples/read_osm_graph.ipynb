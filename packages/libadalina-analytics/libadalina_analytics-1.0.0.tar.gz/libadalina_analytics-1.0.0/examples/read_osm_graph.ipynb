{
 "cells": [
  {
   "metadata": {},
   "cell_type": "markdown",
   "source": "# Performing spatial operations on OpenStreetMap data",
   "id": "c720e01bd0c567a0"
  },
  {
   "metadata": {},
   "cell_type": "markdown",
   "source": "Import the packages needed to read the OpenStreetMap data.",
   "id": "3309177b5aa2ab38"
  },
  {
   "metadata": {
    "ExecuteTime": {
     "end_time": "2025-08-16T12:47:01.143125Z",
     "start_time": "2025-08-16T12:47:00.860085Z"
    }
   },
   "cell_type": "code",
   "source": [
    "from libadalina_analytics.graph_extraction.readers import OpenStreetMapReader\n",
    "from libadalina_core.readers import geopackage_to_dataframe\n",
    "import pathlib\n",
    "import os\n",
    "from libadalina_analytics.utils import Timing # to monitor time"
   ],
   "id": "15755a8cfffe61b6",
   "outputs": [],
   "execution_count": 1
  },
  {
   "metadata": {
    "ExecuteTime": {
     "end_time": "2025-08-16T12:47:04.540703Z",
     "start_time": "2025-08-16T12:47:01.189748Z"
    }
   },
   "cell_type": "code",
   "source": [
    "base_path = pathlib.Path(os.environ.get(\"SAMPLES_DIR\", \"\"))\n",
    "\n",
    "with Timing('Time loading datasets: {}'):\n",
    "    osm_df = OpenStreetMapReader().read(str(base_path / 'milano' / 'gis_osm_roads_free_1.shp'))\n",
    "\n",
    "    population = geopackage_to_dataframe(\n",
    "        str(base_path / \"population-north-italy\" / \"nord-italia.gpkg\"),\n",
    "        \"census2021\"\n",
    "    )[['T', 'geometry']]"
   ],
   "id": "f9ca81ea9d37ae6c",
   "outputs": [
    {
     "name": "stdout",
     "output_type": "stream",
     "text": [
      "Time loading datasets: 3.348461866378784\n"
     ]
    }
   ],
   "execution_count": 2
  },
  {
   "metadata": {
    "ExecuteTime": {
     "end_time": "2025-08-16T12:47:50.749415Z",
     "start_time": "2025-08-16T12:47:04.553928Z"
    }
   },
   "cell_type": "code",
   "source": [
    " from libadalina_analytics.graph_extraction.builders import build_graph\n",
    " from libadalina_core.spatial_operators import AggregationFunction, AggregationType\n",
    "\n",
    " with Timing('Time building graph: {}'):\n",
    "    graph = build_graph(osm_df,\n",
    "                        name='milan_road',\n",
    "                        joined_df=population,\n",
    "                        buffer_radius_meters=50,\n",
    "                        aggregate_functions=[\n",
    "                            AggregationFunction(\"T\", AggregationType.SUM, 'population', proportional='geometry_right')\n",
    "                        ]\n",
    "                        )\n",
    "    print(f'Number of nodes: {len(graph.nodes)}, Number of edges: {len(graph.edges)}')"
   ],
   "id": "a3febffa73c89bd4",
   "outputs": [
    {
     "name": "stderr",
     "output_type": "stream",
     "text": [
      "https://artifacts.unidata.ucar.edu/repository/unidata-all added as a remote repository with the name: repo-1\n",
      "Ivy Default Cache set to: /home/marco/.ivy2/cache\n",
      "The jars for the packages stored in: /home/marco/.ivy2/jars\n",
      "org.apache.sedona#sedona-spark-3.3_2.12 added as a dependency\n",
      "org.datasyslab#geotools-wrapper added as a dependency\n",
      ":: resolving dependencies :: org.apache.spark#spark-submit-parent-cebcd20a-2bfc-4503-bc96-e3618cc38b5e;1.0\n",
      "\tconfs: [default]\n",
      "\tfound org.apache.sedona#sedona-spark-3.3_2.12;1.7.1 in central\n",
      "\tfound org.apache.sedona#sedona-common;1.7.1 in central\n",
      "\tfound org.apache.commons#commons-math3;3.6.1 in central\n",
      "\tfound org.locationtech.jts#jts-core;1.20.0 in central\n",
      "\tfound org.wololo#jts2geojson;0.16.1 in central\n",
      "\tfound org.locationtech.spatial4j#spatial4j;0.8 in central\n"
     ]
    },
    {
     "name": "stdout",
     "output_type": "stream",
     "text": [
      ":: loading settings :: url = jar:file:/home/marco/Workspace/miniconda/v3/envs/adalina-analytics/lib/python3.10/site-packages/pyspark/jars/ivy-2.5.1.jar!/org/apache/ivy/core/settings/ivysettings.xml\n"
     ]
    },
    {
     "name": "stderr",
     "output_type": "stream",
     "text": [
      "\tfound com.google.geometry#s2-geometry;2.0.0 in central\n",
      "\tfound com.google.guava#guava;25.1-jre in central\n",
      "\tfound com.google.code.findbugs#jsr305;3.0.2 in central\n",
      "\tfound org.checkerframework#checker-qual;2.0.0 in central\n",
      "\tfound com.google.errorprone#error_prone_annotations;2.1.3 in central\n",
      "\tfound com.google.j2objc#j2objc-annotations;1.1 in central\n",
      "\tfound org.codehaus.mojo#animal-sniffer-annotations;1.14 in central\n",
      "\tfound com.uber#h3;4.1.1 in central\n",
      "\tfound net.sf.geographiclib#GeographicLib-Java;1.52 in central\n",
      "\tfound com.github.ben-manes.caffeine#caffeine;2.9.2 in central\n",
      "\tfound org.checkerframework#checker-qual;3.10.0 in central\n",
      "\tfound com.google.errorprone#error_prone_annotations;2.5.1 in central\n",
      "\tfound org.apache.sedona#sedona-spark-common-3.3_2.12;1.7.1 in central\n",
      "\tfound org.apache.sedona#shade-proto;1.7.1 in central\n",
      "\tfound org.xerial#sqlite-jdbc;3.41.2.2 in central\n",
      "\tfound commons-lang#commons-lang;2.6 in central\n",
      "\tfound graphframes#graphframes;0.8.3-spark3.4-s_2.12 in spark-packages\n",
      "\tfound org.slf4j#slf4j-api;1.7.36 in central\n",
      "\tfound org.scala-lang.modules#scala-collection-compat_2.12;2.5.0 in central\n",
      "\tfound org.beryx#awt-color-factory;1.0.0 in central\n",
      "\tfound org.datasyslab#geotools-wrapper;1.7.1-28.5 in central\n",
      ":: resolution report :: resolve 339ms :: artifacts dl 8ms\n",
      "\t:: modules in use:\n",
      "\tcom.github.ben-manes.caffeine#caffeine;2.9.2 from central in [default]\n",
      "\tcom.google.code.findbugs#jsr305;3.0.2 from central in [default]\n",
      "\tcom.google.errorprone#error_prone_annotations;2.5.1 from central in [default]\n",
      "\tcom.google.geometry#s2-geometry;2.0.0 from central in [default]\n",
      "\tcom.google.guava#guava;25.1-jre from central in [default]\n",
      "\tcom.google.j2objc#j2objc-annotations;1.1 from central in [default]\n",
      "\tcom.uber#h3;4.1.1 from central in [default]\n",
      "\tcommons-lang#commons-lang;2.6 from central in [default]\n",
      "\tgraphframes#graphframes;0.8.3-spark3.4-s_2.12 from spark-packages in [default]\n",
      "\tnet.sf.geographiclib#GeographicLib-Java;1.52 from central in [default]\n",
      "\torg.apache.commons#commons-math3;3.6.1 from central in [default]\n",
      "\torg.apache.sedona#sedona-common;1.7.1 from central in [default]\n",
      "\torg.apache.sedona#sedona-spark-3.3_2.12;1.7.1 from central in [default]\n",
      "\torg.apache.sedona#sedona-spark-common-3.3_2.12;1.7.1 from central in [default]\n",
      "\torg.apache.sedona#shade-proto;1.7.1 from central in [default]\n",
      "\torg.beryx#awt-color-factory;1.0.0 from central in [default]\n",
      "\torg.checkerframework#checker-qual;3.10.0 from central in [default]\n",
      "\torg.codehaus.mojo#animal-sniffer-annotations;1.14 from central in [default]\n",
      "\torg.datasyslab#geotools-wrapper;1.7.1-28.5 from central in [default]\n",
      "\torg.locationtech.jts#jts-core;1.20.0 from central in [default]\n",
      "\torg.locationtech.spatial4j#spatial4j;0.8 from central in [default]\n",
      "\torg.scala-lang.modules#scala-collection-compat_2.12;2.5.0 from central in [default]\n",
      "\torg.slf4j#slf4j-api;1.7.36 from central in [default]\n",
      "\torg.wololo#jts2geojson;0.16.1 from central in [default]\n",
      "\torg.xerial#sqlite-jdbc;3.41.2.2 from central in [default]\n",
      "\t:: evicted modules:\n",
      "\torg.checkerframework#checker-qual;2.0.0 by [org.checkerframework#checker-qual;3.10.0] in [default]\n",
      "\tcom.google.errorprone#error_prone_annotations;2.1.3 by [com.google.errorprone#error_prone_annotations;2.5.1] in [default]\n",
      "\t---------------------------------------------------------------------\n",
      "\t|                  |            modules            ||   artifacts   |\n",
      "\t|       conf       | number| search|dwnlded|evicted|| number|dwnlded|\n",
      "\t---------------------------------------------------------------------\n",
      "\t|      default     |   27  |   0   |   0   |   2   ||   25  |   0   |\n",
      "\t---------------------------------------------------------------------\n",
      ":: retrieving :: org.apache.spark#spark-submit-parent-cebcd20a-2bfc-4503-bc96-e3618cc38b5e\n",
      "\tconfs: [default]\n",
      "\t0 artifacts copied, 25 already retrieved (0kB/7ms)\n"
     ]
    },
    {
     "name": "stdout",
     "output_type": "stream",
     "text": [
      "25/08/16 14:47:05 WARN NativeCodeLoader: Unable to load native-hadoop library for your platform... using builtin-java classes where applicable\n"
     ]
    },
    {
     "name": "stderr",
     "output_type": "stream",
     "text": [
      "Setting default log level to \"WARN\".\n",
      "To adjust logging level use sc.setLogLevel(newLevel). For SparkR, use setLogLevel(newLevel).\n",
      "                                                                                \r"
     ]
    },
    {
     "name": "stdout",
     "output_type": "stream",
     "text": [
      "25/08/16 14:47:26 WARN JoinQuery: UseIndex is true, but no index exists. Will build index on the fly.\n",
      "25/08/16 14:47:26 WARN TaskSetManager: Stage 8 contains a task of very large size (1664 KiB). The maximum recommended task size is 1000 KiB.\n"
     ]
    },
    {
     "name": "stderr",
     "output_type": "stream",
     "text": [
      "                                                                                \r"
     ]
    },
    {
     "name": "stdout",
     "output_type": "stream",
     "text": [
      "Number of nodes: 334976, Number of edges: 407751\n",
      "Time building graph: 46.139728307724\n"
     ]
    }
   ],
   "execution_count": 3
  },
  {
   "metadata": {
    "ExecuteTime": {
     "end_time": "2025-08-16T12:47:51.198477Z",
     "start_time": "2025-08-16T12:47:50.833839Z"
    }
   },
   "cell_type": "code",
   "source": [
    "from libadalina_analytics.graph_extraction.utils.search_address import get_node_of_address\n",
    "import networkx as nx\n",
    "\n",
    "with Timing('Time computing shortest path: {}'):\n",
    "    source = get_node_of_address(graph, 'luini')\n",
    "    destination = get_node_of_address(graph, 'gorini')\n",
    "\n",
    "    shortest_path = nx.shortest_path(graph, source, destination, weight='population')\n",
    "    cost = nx.path_weight(graph, shortest_path, 'population')\n",
    "    print(f'Shortest path from {source} to {destination} with population weight: {cost}')"
   ],
   "id": "de2821c2c4a2b20f",
   "outputs": [
    {
     "name": "stdout",
     "output_type": "stream",
     "text": [
      "Shortest path from 50364484-2778-4d72-8aad-a32ce4988763 to b1f1fbde-5856-40ad-95a5-4e6cb569fda6 with population weight: 5610.460230326131\n",
      "Time computing shortest path: 0.3617713451385498\n"
     ]
    }
   ],
   "execution_count": 4
  }
 ],
 "metadata": {
  "kernelspec": {
   "display_name": "Python 3",
   "language": "python",
   "name": "python3"
  },
  "language_info": {
   "codemirror_mode": {
    "name": "ipython",
    "version": 2
   },
   "file_extension": ".py",
   "mimetype": "text/x-python",
   "name": "python",
   "nbconvert_exporter": "python",
   "pygments_lexer": "ipython2",
   "version": "2.7.6"
  }
 },
 "nbformat": 4,
 "nbformat_minor": 5
}
