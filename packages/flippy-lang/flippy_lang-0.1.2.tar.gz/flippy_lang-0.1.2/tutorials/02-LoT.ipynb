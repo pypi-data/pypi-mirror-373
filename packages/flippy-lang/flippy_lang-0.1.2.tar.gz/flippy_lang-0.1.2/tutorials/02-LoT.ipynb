{
 "cells": [
  {
   "cell_type": "markdown",
   "id": "dbf9e698",
   "metadata": {},
   "source": [
    "# Probabilistic Language of Thought\n",
    "\n",
    "This tutorial performs inference for the FullBoolean grammar from Piantadosi et al. (2016). Parameters are the MAP values, pulled from their appendix (Figure E1).\n",
    "\n",
    "[Piantadosi, S. T., Tenenbaum, J. B., & Goodman, N. D. (2016). The logical primitives of thought: Empirical foundations for compositional cognitive models. Psychological review, 123(4), 392.](https://doi.org/10.1037/a0039980)"
   ]
  },
  {
   "cell_type": "code",
   "execution_count": 1,
   "id": "f7ad4a79",
   "metadata": {},
   "outputs": [],
   "source": [
    "from flippy import infer, condition, keep_deterministic, mem, \\\n",
    "    Categorical\n",
    "from flippy.distributions import Dirichlet\n",
    "import pandas as pd\n",
    "import seaborn as sns\n",
    "import matplotlib.pyplot as plt\n",
    "from frozendict import frozendict"
   ]
  },
  {
   "cell_type": "markdown",
   "id": "14332cba",
   "metadata": {},
   "source": [
    "# The prior over concepts\n",
    "\n",
    "We start by specifying the prior distribution over concepts. The FullBoolean grammar contains predicates about the object (size, color, shape), and other boolean operations (like logical or, logical and, and logical not)."
   ]
  },
  {
   "cell_type": "code",
   "execution_count": 2,
   "id": "a566b6b7",
   "metadata": {},
   "outputs": [],
   "source": [
    "# The inverse temperature controls the sharpness of the right-hand side\n",
    "# expansion probabilities. When rules that branch have lower Dirichlet weights\n",
    "# than rules that do not, a higher inverse temperature leads to a bias towards\n",
    "# shorter rules.\n",
    "inv_temp = 1.0\n",
    "\n",
    "# We set a maximum depth for expression, to avoid the generation of extremely large programs.\n",
    "max_depth = 5\n",
    "\n",
    "@mem\n",
    "def expansion_dist(rhs_probs: dict) -> Categorical:\n",
    "    dirichlet_weights = [v**inv_temp for v in list(rhs_probs.values())]\n",
    "    probs = Dirichlet(dirichlet_weights).sample()\n",
    "    return Categorical(list(rhs_probs.keys()), probabilities=probs)\n",
    "\n",
    "def simple_boolean():\n",
    "    def PREDICATE():\n",
    "        feature_dist = expansion_dist({\n",
    "            \"SIZE\": 2.0,\n",
    "            \"SHAPE\": 1.4,\n",
    "            \"COLOR\": 1.9,\n",
    "        })\n",
    "        attribute = feature_dist.sample()\n",
    "        if attribute == 'COLOR':\n",
    "            color_dist = expansion_dist({\n",
    "                \"yellow\": .6,\n",
    "                \"green\": .5,\n",
    "                \"blue\": 1.5\n",
    "            })\n",
    "            return f\"(lambda obj: obj['color'] == '{color_dist.sample()}')\"\n",
    "        elif attribute == 'SHAPE':\n",
    "            shape_dist = expansion_dist({\n",
    "                \"triangle\": 1.0,\n",
    "                \"rectangle\": 0.4,\n",
    "                \"circle\": 1.9\n",
    "            })\n",
    "            return f\"(lambda obj: obj['shape'] == '{shape_dist.sample()}')\"\n",
    "        elif attribute == 'SIZE':\n",
    "            size_dist = expansion_dist({\n",
    "                \"large\": 1.0,\n",
    "                \"medium\": 0.3,\n",
    "                \"small\": 1,\n",
    "            })\n",
    "            return f\"(lambda obj: obj['size'] == '{size_dist.sample()}')\"\n",
    "\n",
    "    def BOOL(depth):\n",
    "        condition(depth < max_depth)\n",
    "        bool_dist = expansion_dist({\n",
    "            \"or\": 1.,\n",
    "            \"and\": 0.25,\n",
    "            \"not\": 2.0,\n",
    "            \"PREDICATE\": 1.6,\n",
    "        })\n",
    "        symbol = bool_dist.sample()\n",
    "        if symbol in (\"or\", \"and\"):\n",
    "            expr = f\"({BOOL(depth+1)} {symbol} {BOOL(depth+1)})\"\n",
    "        elif symbol == \"not\":\n",
    "            expr = f\"not {BOOL(depth+1)}\"\n",
    "        elif symbol == \"PREDICATE\":\n",
    "            expr = f\"{PREDICATE()}(x)\"\n",
    "        # Avoid some trivial cases\n",
    "        condition(\"not not\" not in expr)\n",
    "        return expr\n",
    "\n",
    "    def START(depth):\n",
    "        return f\"lambda x: {BOOL(depth+1)}\"\n",
    "\n",
    "    expr = START(0)\n",
    "    return expr"
   ]
  },
  {
   "cell_type": "markdown",
   "id": "c25b4a84",
   "metadata": {},
   "source": [
    "We can look at some examples from the above prior.\n",
    "\n",
    "Note: The above prior can generate very large programs if the probabilities of branching non-terminals like `or`/`and` are high enough. For that reason, we use `LikelihoodWeighting` instead of `SamplePrior`, which we would ordinarily use."
   ]
  },
  {
   "cell_type": "code",
   "execution_count": 3,
   "id": "521192a8",
   "metadata": {},
   "outputs": [
    {
     "data": {
      "text/html": [
       "<table><thead><tr><th></th><th>Element</th><th>Probability</th></tr></thead><tbody><tr><td><b>0</b></td><td>lambda x: (lambda obj: obj['color'] == 'blue')(x)</td><td>0.294</td></tr><tr><td><b>1</b></td><td>lambda x: not (lambda obj: obj['color'] == 'blue')(x)</td><td>0.176</td></tr><tr><td><b>2</b></td><td>lambda x: not (lambda obj: obj['size'] == 'large')(x)</td><td>0.176</td></tr><tr><td><b>3</b></td><td>lambda x: (lambda obj: obj['size'] == 'medium')(x)</td><td>0.059</td></tr><tr><td><b>4</b></td><td>lambda x: not (lambda obj: obj['shape'] == 'circle')(x)</td><td>0.059</td></tr><tr><td><b>5</b></td><td>lambda x: (lambda obj: obj['shape'] == 'circle')(x)</td><td>0.059</td></tr><tr><td><b>6</b></td><td>lambda x: ((lambda obj: obj['color'] == 'blue')(x) or ((lambda obj: obj['color'] == 'blue')(x) and ((lambda obj: obj['shape'] == 'triangle')(x) and (lambda obj: obj['size'] == 'small')(x))))</td><td>0.059</td></tr><tr><td><b>7</b></td><td>lambda x: (lambda obj: obj['size'] == 'large')(x)</td><td>0.059</td></tr><tr><td><b>8</b></td><td>lambda x: ((lambda obj: obj['size'] == 'small')(x) or (lambda obj: obj['shape'] == 'triangle')(x))</td><td>0.059</td></tr></tbody></table>"
      ],
      "text/plain": [
       "Categorical(support=(\"lambda x: (lambda obj: obj['color'] == 'blue')(x)\", \"lambda x: not (lambda obj: obj['color'] == 'blue')(x)\", \"lambda x: not (lambda obj: obj['size'] == 'large')(x)\", \"lambda x: (lambda obj: obj['size'] == 'medium')(x)\", \"lambda x: not (lambda obj: obj['shape'] == 'circle')(x)\", \"lambda x: (lambda obj: obj['shape'] == 'circle')(x)\", \"lambda x: ((lambda obj: obj['color'] == 'blue')(x) or ((lambda obj: obj['color'] == 'blue')(x) and ((lambda obj: obj['shape'] == 'triangle')(x) and (lambda obj: obj['size'] == 'small')(x))))\", \"lambda x: (lambda obj: obj['size'] == 'large')(x)\", \"lambda x: ((lambda obj: obj['size'] == 'small')(x) or (lambda obj: obj['shape'] == 'triangle')(x))\"), probabilities=(0.29411764705882354, 0.17647058823529413, 0.17647058823529413, 0.0588235294117647, 0.0588235294117647, 0.0588235294117647, 0.0588235294117647, 0.0588235294117647, 0.0588235294117647))"
      ]
     },
     "execution_count": 3,
     "metadata": {},
     "output_type": "execute_result"
    }
   ],
   "source": [
    "def sorted_dist(dist):\n",
    "    support, probabilities = zip(*sorted(\n",
    "        [(s, dist.prob(s)) for s in dist.support],\n",
    "        key=lambda pair: pair[-1],\n",
    "        reverse=True))\n",
    "    return Categorical(support, probabilities=probabilities)\n",
    "\n",
    "sorted_dist(infer(method=\"LikelihoodWeighting\", samples=30, seed=42)(simple_boolean)())"
   ]
  },
  {
   "cell_type": "markdown",
   "id": "bbd78486",
   "metadata": {},
   "source": [
    "# Performing inference\n",
    "\n",
    "We need to specify a likelihood to perform inference. We use a simple scheme, simply requiring a concept to match all examples seen thus far. The Piantadosi et al. (2016) model makes a number of additions to better fit data, like leaky memory."
   ]
  },
  {
   "cell_type": "code",
   "execution_count": 39,
   "id": "48af8508",
   "metadata": {},
   "outputs": [],
   "source": [
    "# To make the concept executable, we need a deterministic transformation of it\n",
    "@keep_deterministic\n",
    "def convert_to_executable(func):\n",
    "    # Because we are returning a function, it similarly must be marked as deterministic.\n",
    "    return keep_deterministic(eval(func))\n",
    "\n",
    "@infer(method=\"MetropolisHastings\", samples=2000, seed=None, burn_in=2000)\n",
    "def posterior(pcfg, data):\n",
    "    p_correct_label = 0.95\n",
    "    concept = pcfg()\n",
    "    executable_concept = convert_to_executable(concept)\n",
    "    for example, value in data:\n",
    "        condition(p_correct_label if executable_concept(example) == value else 1 - p_correct_label)\n",
    "    return concept"
   ]
  },
  {
   "cell_type": "markdown",
   "id": "d8c5b599",
   "metadata": {},
   "source": [
    "The concept with highest probability for this example is `color==yellow`, the intended concept. There are a number of other more complex hypotheses that are also consistent with the data -- you might see `color==yellow and color==yellow` or extraneous predicates like `color==yellow or size==large`. You'll also see simple hypotheses that are inconsistent with the data, like `size==large`."
   ]
  },
  {
   "cell_type": "code",
   "execution_count": 40,
   "id": "30e3055a",
   "metadata": {},
   "outputs": [],
   "source": [
    "examples = (\n",
    "    (frozendict({'color': 'yellow', 'shape': 'circle', 'size': 'small'}), True),\n",
    "    (frozendict({'color': 'blue', 'shape': 'rectangle', 'size': 'medium'}), False),\n",
    "    (frozendict({'color': 'yellow', 'shape': 'triangle', 'size': 'large'}), True),\n",
    "    (frozendict({'color': 'green', 'shape': 'circle', 'size': 'small'}), False)\n",
    ")\n",
    "dist = posterior(simple_boolean, examples)"
   ]
  },
  {
   "cell_type": "code",
   "execution_count": 41,
   "id": "d933fe20",
   "metadata": {},
   "outputs": [
    {
     "data": {
      "text/html": [
       "<table><thead><tr><th></th><th>Element</th><th>Probability</th></tr></thead><tbody><tr><td><b>0</b></td><td>lambda x: (lambda obj: obj['color'] == 'yellow')(x)</td><td>0.791</td></tr><tr><td><b>1</b></td><td>lambda x: (lambda obj: obj['size'] == 'large')(x)</td><td>0.097</td></tr><tr><td><b>2</b></td><td>lambda x: ((lambda obj: obj['size'] == 'large')(x) or (lambda obj: obj['color'] == 'yellow')(x))</td><td>0.058</td></tr><tr><td><b>3</b></td><td>lambda x: (lambda obj: obj['shape'] == 'triangle')(x)</td><td>0.044</td></tr><tr><td><b>4</b></td><td>lambda x: (lambda obj: obj['color'] == 'blue')(x)</td><td>0.005</td></tr><tr><td><b>5</b></td><td>lambda x: ((lambda obj: obj['shape'] == 'triangle')(x) or (lambda obj: obj['color'] == 'yellow')(x))</td><td>0.003</td></tr><tr><td><b>6</b></td><td>lambda x: (lambda obj: obj['shape'] == 'circle')(x)</td><td>0.001</td></tr><tr><td><b>7</b></td><td>lambda x: (lambda obj: obj['size'] == 'small')(x)</td><td>0.001</td></tr></tbody></table>"
      ],
      "text/plain": [
       "Categorical(support=(\"lambda x: (lambda obj: obj['color'] == 'yellow')(x)\", \"lambda x: (lambda obj: obj['size'] == 'large')(x)\", \"lambda x: ((lambda obj: obj['size'] == 'large')(x) or (lambda obj: obj['color'] == 'yellow')(x))\", \"lambda x: (lambda obj: obj['shape'] == 'triangle')(x)\", \"lambda x: (lambda obj: obj['color'] == 'blue')(x)\", \"lambda x: ((lambda obj: obj['shape'] == 'triangle')(x) or (lambda obj: obj['color'] == 'yellow')(x))\", \"lambda x: (lambda obj: obj['shape'] == 'circle')(x)\", \"lambda x: (lambda obj: obj['size'] == 'small')(x)\"), probabilities=(0.791, 0.09700000000000002, 0.058, 0.0445, 0.005000000000000002, 0.0025000000000000005, 0.0010000000000000002, 0.0010000000000000002))"
      ]
     },
     "execution_count": 41,
     "metadata": {},
     "output_type": "execute_result"
    }
   ],
   "source": [
    "sorted_dist(dist)"
   ]
  },
  {
   "cell_type": "code",
   "execution_count": null,
   "id": "71e72482",
   "metadata": {},
   "outputs": [],
   "source": []
  }
 ],
 "metadata": {
  "kernelspec": {
   "display_name": "flippy",
   "language": "python",
   "name": "python3"
  },
  "language_info": {
   "codemirror_mode": {
    "name": "ipython",
    "version": 3
   },
   "file_extension": ".py",
   "mimetype": "text/x-python",
   "name": "python",
   "nbconvert_exporter": "python",
   "pygments_lexer": "ipython3",
   "version": "3.12.11"
  },
  "title": "Probabilistic Language of Thought"
 },
 "nbformat": 4,
 "nbformat_minor": 5
}
