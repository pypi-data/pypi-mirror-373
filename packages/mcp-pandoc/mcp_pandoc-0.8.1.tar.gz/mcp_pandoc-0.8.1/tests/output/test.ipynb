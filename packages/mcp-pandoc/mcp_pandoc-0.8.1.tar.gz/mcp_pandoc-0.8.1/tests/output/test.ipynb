{
 "cells": [
  {
   "cell_type": "markdown",
   "metadata": {},
   "source": [
    "# <span id=\"anchor\"></span>Test"
   ],
   "id": "d3eb9a07-66b7-46f2-acf4-9548966bbb09"
  }
 ],
 "nbformat": 4,
 "nbformat_minor": 5,
 "metadata": {}
}
