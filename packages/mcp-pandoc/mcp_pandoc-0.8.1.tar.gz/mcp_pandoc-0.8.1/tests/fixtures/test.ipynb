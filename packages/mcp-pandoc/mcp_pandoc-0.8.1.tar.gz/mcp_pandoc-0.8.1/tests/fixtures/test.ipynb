{
 "cells": [
  {
   "cell_type": "markdown",
   "metadata": {},
   "source": [
    "# Test"
   ],
   "id": "1df02f22-2722-4355-9fee-2e9a3e3b8ddc"
  }
 ],
 "nbformat": 4,
 "nbformat_minor": 5,
 "metadata": {}
}
